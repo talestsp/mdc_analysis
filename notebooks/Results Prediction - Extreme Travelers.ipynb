{
 "cells": [
  {
   "cell_type": "markdown",
   "metadata": {},
   "source": [
    "# Results Markov"
   ]
  },
  {
   "cell_type": "code",
   "execution_count": 1,
   "metadata": {},
   "outputs": [
    {
     "name": "stdout",
     "output_type": "stream",
     "text": [
      "working dir /home/tales/dev/master/mdc_analysis\n"
     ]
    }
   ],
   "source": [
    "import os\n",
    "os.chdir(\"/home/tales/dev/master/mdc_analysis/\")\n",
    "print(\"working dir\", os.getcwd())"
   ]
  },
  {
   "cell_type": "code",
   "execution_count": 2,
   "metadata": {},
   "outputs": [],
   "source": [
    "import pandas as pd\n",
    "import math\n",
    "import copy\n",
    "import gc\n",
    "import warnings\n",
    "import matplotlib.pyplot as plt\n",
    "\n",
    "from bokeh.palettes import Category20c\n",
    "\n",
    "import src.ml.markov as mk\n",
    "from src.dao.experiments_dao import load_execution_test_data, json_to_dataframe\n",
    "from src.exceptions import exceptions"
   ]
  },
  {
   "cell_type": "code",
   "execution_count": 3,
   "metadata": {},
   "outputs": [],
   "source": [
    "warnings.simplefilter(action='ignore', category=FutureWarning)\n",
    "\n",
    "\n",
    "pd.set_option('display.float_format', lambda x: '%.3f' % x)\n"
   ]
  },
  {
   "cell_type": "markdown",
   "metadata": {},
   "source": [
    "## Loading data"
   ]
  },
  {
   "cell_type": "code",
   "execution_count": 4,
   "metadata": {},
   "outputs": [],
   "source": [
    "def round_up_list(num_list):\n",
    "    rounded = [math.ceil(i) for i in num_list]\n",
    "    return rounded\n",
    "\n",
    "def hits_contain(df):\n",
    "    df = copy.deepcopy(df)\n",
    "    df[\"hits_contain\"] = df[\"partial_hits\"].apply(lambda lista : round_up_list(lista))\n",
    "    df[\"hits_contain_mean\"] = df[\"partial_hits\"].apply(lambda lista : pd.Series(round_up_list(lista)).mean())\n",
    "    return df\n",
    "\n",
    "def json_to_dataframe(json_list, simple_cols=True):\n",
    "    df = pd.DataFrame(json_list)\n",
    "    \n",
    "    df[\"iteration\"] = df[\"iteration\"].astype(str)\n",
    "    df[\"k\"] = df[\"k\"].astype(str)\n",
    "    \n",
    "    df[\"acc\"] = df[\"total_hits\"] / df[\"test_size\"]\n",
    "    \n",
    "    df[\"partial_hits_mean\"] = df[\"partial_hits\"].apply(lambda lista : pd.Series(lista).mean())\n",
    "    \n",
    "    df_markov = df[df[\"algorithm\"] == \"markov\"]\n",
    "    df_rest = df[df[\"algorithm\"] != \"markov\"]\n",
    "    \n",
    "    df_markov = hits_contain(df_markov)\n",
    "    \n",
    "    df = df_markov.append(df_rest)\n",
    "    \n",
    "    df_markov = None\n",
    "    df_rest = None\n",
    "    \n",
    "    gc.collect()\n",
    "    \n",
    "    if simple_cols:\n",
    "        del df[\"states_not_trained_as_origin\"]\n",
    "        del df[\"hits\"]\n",
    "        del df[\"misses\"]\n",
    "        \n",
    "    return df"
   ]
  },
  {
   "cell_type": "code",
   "execution_count": 5,
   "metadata": {},
   "outputs": [
    {
     "name": "stdout",
     "output_type": "stream",
     "text": [
      "3792 tests\n"
     ]
    },
    {
     "data": {
      "text/html": [
       "<div>\n",
       "<style scoped>\n",
       "    .dataframe tbody tr th:only-of-type {\n",
       "        vertical-align: middle;\n",
       "    }\n",
       "\n",
       "    .dataframe tbody tr th {\n",
       "        vertical-align: top;\n",
       "    }\n",
       "\n",
       "    .dataframe thead th {\n",
       "        text-align: right;\n",
       "    }\n",
       "</style>\n",
       "<table border=\"1\" class=\"dataframe\">\n",
       "  <thead>\n",
       "    <tr style=\"text-align: right;\">\n",
       "      <th></th>\n",
       "      <th>acc</th>\n",
       "      <th>algorithm</th>\n",
       "      <th>cluster_size</th>\n",
       "      <th>cluster_version</th>\n",
       "      <th>hits</th>\n",
       "      <th>hits_contain</th>\n",
       "      <th>hits_contain_mean</th>\n",
       "      <th>input_data_version</th>\n",
       "      <th>is_distributive</th>\n",
       "      <th>is_dummy</th>\n",
       "      <th>...</th>\n",
       "      <th>partial_hits_mean</th>\n",
       "      <th>states_not_trained_as_origin</th>\n",
       "      <th>test_id</th>\n",
       "      <th>test_size</th>\n",
       "      <th>total_hits</th>\n",
       "      <th>total_misses</th>\n",
       "      <th>total_states_not_trained_as_origin</th>\n",
       "      <th>train_size</th>\n",
       "      <th>trained_with</th>\n",
       "      <th>user_id</th>\n",
       "    </tr>\n",
       "  </thead>\n",
       "  <tbody>\n",
       "    <tr>\n",
       "      <th>35</th>\n",
       "      <td>0.202</td>\n",
       "      <td>markov</td>\n",
       "      <td>2</td>\n",
       "      <td>each_one_by_itself</td>\n",
       "      <td>[['HOME'], ['WORK'], ['restaurant'], ['WORK'],...</td>\n",
       "      <td>[0, 1, 0, 0, 0, 0, 0, 1, 0, 1, 1, 0, 0, 0, 1, ...</td>\n",
       "      <td>0.203</td>\n",
       "      <td>0.1.categ_v1_filtered_15min</td>\n",
       "      <td>False</td>\n",
       "      <td>False</td>\n",
       "      <td>...</td>\n",
       "      <td>0.203</td>\n",
       "      <td>[]</td>\n",
       "      <td>6fef79cf-807c-4739-8d5c-485e30e4601b</td>\n",
       "      <td>297</td>\n",
       "      <td>60</td>\n",
       "      <td>236</td>\n",
       "      <td>0</td>\n",
       "      <td>297</td>\n",
       "      <td>cluster</td>\n",
       "      <td>6178</td>\n",
       "    </tr>\n",
       "    <tr>\n",
       "      <th>2840</th>\n",
       "      <td>0.268</td>\n",
       "      <td>markov</td>\n",
       "      <td>2</td>\n",
       "      <td>each_one_by_itself</td>\n",
       "      <td>[['transit_station'], ['HOME'], ['transit_stat...</td>\n",
       "      <td>[0, 0, 0, 1, 1, 0, 0, 0, 0, 0, 0, 0, 0, 1, 0, ...</td>\n",
       "      <td>0.269</td>\n",
       "      <td>0.1.categ_v1_filtered_30min</td>\n",
       "      <td>False</td>\n",
       "      <td>False</td>\n",
       "      <td>...</td>\n",
       "      <td>0.269</td>\n",
       "      <td>[]</td>\n",
       "      <td>9d05a49a-c872-484a-8daf-1af2bf8baad2</td>\n",
       "      <td>157</td>\n",
       "      <td>42</td>\n",
       "      <td>114</td>\n",
       "      <td>0</td>\n",
       "      <td>157</td>\n",
       "      <td>cluster</td>\n",
       "      <td>6194</td>\n",
       "    </tr>\n",
       "    <tr>\n",
       "      <th>1003</th>\n",
       "      <td>0.750</td>\n",
       "      <td>markov</td>\n",
       "      <td>2</td>\n",
       "      <td>each_one_by_itself</td>\n",
       "      <td>[['real_estate_agency'], ['transit_station'], ...</td>\n",
       "      <td>[1, 1, 1, 0, 1, 1, 1, 1, 1, 0, 1]</td>\n",
       "      <td>0.818</td>\n",
       "      <td>0.1.categ_v1_filtered_30min</td>\n",
       "      <td>False</td>\n",
       "      <td>False</td>\n",
       "      <td>...</td>\n",
       "      <td>0.818</td>\n",
       "      <td>[]</td>\n",
       "      <td>b1fc1712-0f91-4dd7-8732-ff7823e47926</td>\n",
       "      <td>12</td>\n",
       "      <td>9</td>\n",
       "      <td>2</td>\n",
       "      <td>0</td>\n",
       "      <td>12</td>\n",
       "      <td>cluster</td>\n",
       "      <td>6172</td>\n",
       "    </tr>\n",
       "    <tr>\n",
       "      <th>3028</th>\n",
       "      <td>0.163</td>\n",
       "      <td>markov</td>\n",
       "      <td>153</td>\n",
       "      <td>all_vs_one</td>\n",
       "      <td>[['HOME'], ['HOME'], ['HOME'], ['store'], ['HO...</td>\n",
       "      <td>[0, 0, 0, 0, 0, 0, 0, 0, 0, 0, 0, 0, 0, 0, 0, ...</td>\n",
       "      <td>0.164</td>\n",
       "      <td>0.1.categ_v1_filtered_15min</td>\n",
       "      <td>False</td>\n",
       "      <td>False</td>\n",
       "      <td>...</td>\n",
       "      <td>0.164</td>\n",
       "      <td>[]</td>\n",
       "      <td>eb10e25e-7391-46dd-b7bd-da214c1abd7a</td>\n",
       "      <td>147</td>\n",
       "      <td>24</td>\n",
       "      <td>122</td>\n",
       "      <td>0</td>\n",
       "      <td>29438</td>\n",
       "      <td>cluster</td>\n",
       "      <td>5957</td>\n",
       "    </tr>\n",
       "  </tbody>\n",
       "</table>\n",
       "<p>4 rows × 25 columns</p>\n",
       "</div>"
      ],
      "text/plain": [
       "       acc algorithm  cluster_size     cluster_version  \\\n",
       "35   0.202    markov             2  each_one_by_itself   \n",
       "2840 0.268    markov             2  each_one_by_itself   \n",
       "1003 0.750    markov             2  each_one_by_itself   \n",
       "3028 0.163    markov           153          all_vs_one   \n",
       "\n",
       "                                                   hits  \\\n",
       "35    [['HOME'], ['WORK'], ['restaurant'], ['WORK'],...   \n",
       "2840  [['transit_station'], ['HOME'], ['transit_stat...   \n",
       "1003  [['real_estate_agency'], ['transit_station'], ...   \n",
       "3028  [['HOME'], ['HOME'], ['HOME'], ['store'], ['HO...   \n",
       "\n",
       "                                           hits_contain  hits_contain_mean  \\\n",
       "35    [0, 1, 0, 0, 0, 0, 0, 1, 0, 1, 1, 0, 0, 0, 1, ...              0.203   \n",
       "2840  [0, 0, 0, 1, 1, 0, 0, 0, 0, 0, 0, 0, 0, 1, 0, ...              0.269   \n",
       "1003                  [1, 1, 1, 0, 1, 1, 1, 1, 1, 0, 1]              0.818   \n",
       "3028  [0, 0, 0, 0, 0, 0, 0, 0, 0, 0, 0, 0, 0, 0, 0, ...              0.164   \n",
       "\n",
       "               input_data_version  is_distributive  is_dummy   ...     \\\n",
       "35    0.1.categ_v1_filtered_15min            False     False   ...      \n",
       "2840  0.1.categ_v1_filtered_30min            False     False   ...      \n",
       "1003  0.1.categ_v1_filtered_30min            False     False   ...      \n",
       "3028  0.1.categ_v1_filtered_15min            False     False   ...      \n",
       "\n",
       "     partial_hits_mean states_not_trained_as_origin  \\\n",
       "35               0.203                           []   \n",
       "2840             0.269                           []   \n",
       "1003             0.818                           []   \n",
       "3028             0.164                           []   \n",
       "\n",
       "                                   test_id test_size total_hits  total_misses  \\\n",
       "35    6fef79cf-807c-4739-8d5c-485e30e4601b       297         60           236   \n",
       "2840  9d05a49a-c872-484a-8daf-1af2bf8baad2       157         42           114   \n",
       "1003  b1fc1712-0f91-4dd7-8732-ff7823e47926        12          9             2   \n",
       "3028  eb10e25e-7391-46dd-b7bd-da214c1abd7a       147         24           122   \n",
       "\n",
       "     total_states_not_trained_as_origin train_size  trained_with  user_id  \n",
       "35                                    0        297       cluster     6178  \n",
       "2840                                  0        157       cluster     6194  \n",
       "1003                                  0         12       cluster     6172  \n",
       "3028                                  0      29438       cluster     5957  \n",
       "\n",
       "[4 rows x 25 columns]"
      ]
     },
     "execution_count": 5,
     "metadata": {},
     "output_type": "execute_result"
    }
   ],
   "source": [
    "results_dir = \"clusters\"\n",
    "\n",
    "mk_results = load_execution_test_data(results_dir)\n",
    "print(\"{} tests\".format(len(mk_results)))\n",
    "\n",
    "r = json_to_dataframe(mk_results, simple_cols=False)\n",
    "\n",
    "r_dummy = r[r[\"is_dummy\"] == True]\n",
    "r = r[r[\"is_dummy\"] == False]\n",
    "\n",
    "r.sample(4)"
   ]
  },
  {
   "cell_type": "markdown",
   "metadata": {},
   "source": [
    "## Summary"
   ]
  },
  {
   "cell_type": "code",
   "execution_count": 6,
   "metadata": {},
   "outputs": [],
   "source": [
    "try:\n",
    "    r[\"pred_choice_method\"] = r[\"pred_choice_method\"].fillna(\"na\")    \n",
    "except KeyError:\n",
    "    r[\"pred_choice_method\"] = \"na\"\n",
    "    \n",
    "try:\n",
    "    r[\"depth\"] = r[\"depth\"].fillna(\"na\")\n",
    "except KeyError:\n",
    "    r[\"depth\"] = \"na\""
   ]
  },
  {
   "cell_type": "code",
   "execution_count": 7,
   "metadata": {},
   "outputs": [
    {
     "data": {
      "text/plain": [
       "0.1.categ_v1                   1290\n",
       "0.1.categ_v1_filtered_15min    1257\n",
       "0.1.categ_v1_filtered_30min    1245\n",
       "Name: input_data_version, dtype: int64"
      ]
     },
     "execution_count": 7,
     "metadata": {},
     "output_type": "execute_result"
    }
   ],
   "source": [
    "r[\"input_data_version\"].value_counts()"
   ]
  },
  {
   "cell_type": "code",
   "execution_count": 8,
   "metadata": {},
   "outputs": [
    {
     "data": {
      "text/plain": [
       "<matplotlib.axes._subplots.AxesSubplot at 0x7f4da4bd2ac8>"
      ]
     },
     "execution_count": 8,
     "metadata": {},
     "output_type": "execute_result"
    },
    {
     "data": {
      "image/png": "[encoded data removed]",
      "text/plain": [
       "<Figure size 288x144 with 1 Axes>"
      ]
     },
     "metadata": {},
     "output_type": "display_data"
    }
   ],
   "source": [
    "r[\"input_data_version\"].value_counts().plot.bar(title=\"input_data_version\", figsize=(4,2))"
   ]
  },
  {
   "cell_type": "code",
   "execution_count": 9,
   "metadata": {},
   "outputs": [
    {
     "data": {
      "text/plain": [
       "cluster    3792\n",
       "Name: method, dtype: int64"
      ]
     },
     "execution_count": 9,
     "metadata": {},
     "output_type": "execute_result"
    }
   ],
   "source": [
    "r[\"method\"].value_counts()"
   ]
  },
  {
   "cell_type": "code",
   "execution_count": 10,
   "metadata": {},
   "outputs": [
    {
     "data": {
      "text/plain": [
       "<matplotlib.axes._subplots.AxesSubplot at 0x7f4da1047a90>"
      ]
     },
     "execution_count": 10,
     "metadata": {},
     "output_type": "execute_result"
    },
    {
     "data": {
      "image/png": "[encoded data removed]",
      "text/plain": [
       "<Figure size 288x144 with 1 Axes>"
      ]
     },
     "metadata": {},
     "output_type": "display_data"
    }
   ],
   "source": [
    "r[\"method\"].value_counts().plot.bar(title=\"method\", figsize=(4,2))"
   ]
  },
  {
   "cell_type": "code",
   "execution_count": 11,
   "metadata": {},
   "outputs": [
    {
     "data": {
      "text/plain": [
       "markov    3792\n",
       "Name: algorithm, dtype: int64"
      ]
     },
     "execution_count": 11,
     "metadata": {},
     "output_type": "execute_result"
    }
   ],
   "source": [
    "r[\"algorithm\"].value_counts()"
   ]
  },
  {
   "cell_type": "code",
   "execution_count": 12,
   "metadata": {},
   "outputs": [
    {
     "data": {
      "text/plain": [
       "<matplotlib.axes._subplots.AxesSubplot at 0x7f4da0fb4ef0>"
      ]
     },
     "execution_count": 12,
     "metadata": {},
     "output_type": "execute_result"
    },
    {
     "data": {
      "image/png": "[encoded data removed]",
      "text/plain": [
       "<Figure size 288x144 with 1 Axes>"
      ]
     },
     "metadata": {},
     "output_type": "display_data"
    }
   ],
   "source": [
    "r[\"algorithm\"].value_counts().plot.bar(title=\"algorithm\", figsize=(4,2))"
   ]
  },
  {
   "cell_type": "code",
   "execution_count": 13,
   "metadata": {},
   "outputs": [
    {
     "data": {
      "text/plain": [
       "<matplotlib.axes._subplots.AxesSubplot at 0x7f4da0f87630>"
      ]
     },
     "execution_count": 13,
     "metadata": {},
     "output_type": "execute_result"
    },
    {
     "data": {
      "image/png": "[encoded data removed]",
      "text/plain": [
       "<Figure size 432x288 with 1 Axes>"
      ]
     },
     "metadata": {},
     "output_type": "display_data"
    }
   ],
   "source": [
    "r[\"test_size\"].plot.hist(title=\"test_size\", bins=15)"
   ]
  },
  {
   "cell_type": "markdown",
   "metadata": {},
   "source": [
    "## Accuracy"
   ]
  },
  {
   "cell_type": "code",
   "execution_count": 14,
   "metadata": {},
   "outputs": [
    {
     "data": {
      "text/plain": [
       "Index(['acc', 'algorithm', 'cluster_size', 'cluster_version', 'hits',\n",
       "       'hits_contain', 'hits_contain_mean', 'input_data_version',\n",
       "       'is_distributive', 'is_dummy', 'iteration', 'k', 'method', 'misses',\n",
       "       'partial_hits', 'partial_hits_mean', 'states_not_trained_as_origin',\n",
       "       'test_id', 'test_size', 'total_hits', 'total_misses',\n",
       "       'total_states_not_trained_as_origin', 'train_size', 'trained_with',\n",
       "       'user_id', 'pred_choice_method', 'depth'],\n",
       "      dtype='object')"
      ]
     },
     "execution_count": 14,
     "metadata": {},
     "output_type": "execute_result"
    }
   ],
   "source": [
    "r.columns"
   ]
  },
  {
   "cell_type": "code",
   "execution_count": 15,
   "metadata": {},
   "outputs": [],
   "source": [
    "def summary_results(use_results):\n",
    "    summarized = []\n",
    "    \n",
    "    for algorithm in use_results[\"algorithm\"].drop_duplicates():\n",
    "        \n",
    "        for method in use_results[\"method\"].drop_duplicates():\n",
    "            \n",
    "            for input_data_version in use_results[\"input_data_version\"].drop_duplicates():\n",
    "                \n",
    "                for pred_choice_method in use_results[\"pred_choice_method\"].drop_duplicates():\n",
    "                    \n",
    "                    for depth in use_results[\"depth\"].drop_duplicates():\n",
    "                        \n",
    "                        for cluster_version in use_results[\"cluster_version\"].drop_duplicates():\n",
    "                    \n",
    "                            selection = use_results[(use_results[\"algorithm\"] == algorithm) & \n",
    "                                                    (use_results[\"method\"] == method) &\n",
    "                                                    (use_results[\"input_data_version\"] == input_data_version) &\n",
    "                                                    (use_results[\"pred_choice_method\"] == pred_choice_method) &\n",
    "                                                    (use_results[\"depth\"] == depth) &\n",
    "                                                    (use_results[\"cluster_version\"] == cluster_version)\n",
    "                                                   ]\n",
    "\n",
    "                            acc = selection[\"acc\"].median()\n",
    "                            mad = selection[\"acc\"].mad()\n",
    "\n",
    "                            summarized.append({\"acc\": acc, \n",
    "                                               \"mad\": mad,\n",
    "                                               \"algorithm\": algorithm, \n",
    "                                               \"method\": method, \n",
    "                                               \"pred_choice_method\": pred_choice_method, \n",
    "                                               \"input_data\": input_data_version,\n",
    "                                               \"depth\": depth,\n",
    "                                               \"cluster_version\": cluster_version})\n",
    "\n",
    "    \n",
    "    return summarized"
   ]
  },
  {
   "cell_type": "code",
   "execution_count": 16,
   "metadata": {},
   "outputs": [
    {
     "data": {
      "text/html": [
       "<div>\n",
       "<style scoped>\n",
       "    .dataframe tbody tr th:only-of-type {\n",
       "        vertical-align: middle;\n",
       "    }\n",
       "\n",
       "    .dataframe tbody tr th {\n",
       "        vertical-align: top;\n",
       "    }\n",
       "\n",
       "    .dataframe thead th {\n",
       "        text-align: right;\n",
       "    }\n",
       "</style>\n",
       "<table border=\"1\" class=\"dataframe\">\n",
       "  <thead>\n",
       "    <tr style=\"text-align: right;\">\n",
       "      <th></th>\n",
       "      <th>index</th>\n",
       "      <th>acc</th>\n",
       "      <th>algorithm</th>\n",
       "      <th>cluster_version</th>\n",
       "      <th>depth</th>\n",
       "      <th>input_data</th>\n",
       "      <th>mad</th>\n",
       "      <th>method</th>\n",
       "      <th>pred_choice_method</th>\n",
       "    </tr>\n",
       "  </thead>\n",
       "  <tbody>\n",
       "    <tr>\n",
       "      <th>0</th>\n",
       "      <td>0</td>\n",
       "      <td>0.317</td>\n",
       "      <td>markov</td>\n",
       "      <td>each_one_by_itself</td>\n",
       "      <td>na</td>\n",
       "      <td>0.1.categ_v1_filtered_15min</td>\n",
       "      <td>0.110</td>\n",
       "      <td>cluster</td>\n",
       "      <td>na</td>\n",
       "    </tr>\n",
       "    <tr>\n",
       "      <th>1</th>\n",
       "      <td>1</td>\n",
       "      <td>0.332</td>\n",
       "      <td>markov</td>\n",
       "      <td>extreme_trav_each_one_by_itself</td>\n",
       "      <td>na</td>\n",
       "      <td>0.1.categ_v1_filtered_15min</td>\n",
       "      <td>0.146</td>\n",
       "      <td>cluster</td>\n",
       "      <td>na</td>\n",
       "    </tr>\n",
       "    <tr>\n",
       "      <th>2</th>\n",
       "      <td>2</td>\n",
       "      <td>0.092</td>\n",
       "      <td>markov</td>\n",
       "      <td>all_vs_one</td>\n",
       "      <td>na</td>\n",
       "      <td>0.1.categ_v1_filtered_15min</td>\n",
       "      <td>0.039</td>\n",
       "      <td>cluster</td>\n",
       "      <td>na</td>\n",
       "    </tr>\n",
       "    <tr>\n",
       "      <th>3</th>\n",
       "      <td>3</td>\n",
       "      <td>0.100</td>\n",
       "      <td>markov</td>\n",
       "      <td>all_vs_tireless_its</td>\n",
       "      <td>na</td>\n",
       "      <td>0.1.categ_v1_filtered_15min</td>\n",
       "      <td>0.033</td>\n",
       "      <td>cluster</td>\n",
       "      <td>na</td>\n",
       "    </tr>\n",
       "    <tr>\n",
       "      <th>4</th>\n",
       "      <td>4</td>\n",
       "      <td>0.111</td>\n",
       "      <td>markov</td>\n",
       "      <td>all_vs_early_birds</td>\n",
       "      <td>na</td>\n",
       "      <td>0.1.categ_v1_filtered_15min</td>\n",
       "      <td>0.057</td>\n",
       "      <td>cluster</td>\n",
       "      <td>na</td>\n",
       "    </tr>\n",
       "    <tr>\n",
       "      <th>5</th>\n",
       "      <td>5</td>\n",
       "      <td>0.156</td>\n",
       "      <td>markov</td>\n",
       "      <td>cluster_early_birds</td>\n",
       "      <td>na</td>\n",
       "      <td>0.1.categ_v1_filtered_15min</td>\n",
       "      <td>0.079</td>\n",
       "      <td>cluster</td>\n",
       "      <td>na</td>\n",
       "    </tr>\n",
       "    <tr>\n",
       "      <th>6</th>\n",
       "      <td>6</td>\n",
       "      <td>0.136</td>\n",
       "      <td>markov</td>\n",
       "      <td>cluster_tireless_its</td>\n",
       "      <td>na</td>\n",
       "      <td>0.1.categ_v1_filtered_15min</td>\n",
       "      <td>0.033</td>\n",
       "      <td>cluster</td>\n",
       "      <td>na</td>\n",
       "    </tr>\n",
       "    <tr>\n",
       "      <th>7</th>\n",
       "      <td>7</td>\n",
       "      <td>0.059</td>\n",
       "      <td>markov</td>\n",
       "      <td>cluster_night_owls</td>\n",
       "      <td>na</td>\n",
       "      <td>0.1.categ_v1_filtered_15min</td>\n",
       "      <td>0.051</td>\n",
       "      <td>cluster</td>\n",
       "      <td>na</td>\n",
       "    </tr>\n",
       "    <tr>\n",
       "      <th>8</th>\n",
       "      <td>8</td>\n",
       "      <td>0.077</td>\n",
       "      <td>markov</td>\n",
       "      <td>all_vs_night_owls</td>\n",
       "      <td>na</td>\n",
       "      <td>0.1.categ_v1_filtered_15min</td>\n",
       "      <td>0.051</td>\n",
       "      <td>cluster</td>\n",
       "      <td>na</td>\n",
       "    </tr>\n",
       "    <tr>\n",
       "      <th>9</th>\n",
       "      <td>9</td>\n",
       "      <td>0.275</td>\n",
       "      <td>markov</td>\n",
       "      <td>each_one_by_itself</td>\n",
       "      <td>na</td>\n",
       "      <td>0.1.categ_v1</td>\n",
       "      <td>0.097</td>\n",
       "      <td>cluster</td>\n",
       "      <td>na</td>\n",
       "    </tr>\n",
       "    <tr>\n",
       "      <th>10</th>\n",
       "      <td>10</td>\n",
       "      <td>0.299</td>\n",
       "      <td>markov</td>\n",
       "      <td>extreme_trav_each_one_by_itself</td>\n",
       "      <td>na</td>\n",
       "      <td>0.1.categ_v1</td>\n",
       "      <td>0.121</td>\n",
       "      <td>cluster</td>\n",
       "      <td>na</td>\n",
       "    </tr>\n",
       "    <tr>\n",
       "      <th>11</th>\n",
       "      <td>11</td>\n",
       "      <td>0.086</td>\n",
       "      <td>markov</td>\n",
       "      <td>all_vs_one</td>\n",
       "      <td>na</td>\n",
       "      <td>0.1.categ_v1</td>\n",
       "      <td>0.027</td>\n",
       "      <td>cluster</td>\n",
       "      <td>na</td>\n",
       "    </tr>\n",
       "    <tr>\n",
       "      <th>12</th>\n",
       "      <td>12</td>\n",
       "      <td>0.100</td>\n",
       "      <td>markov</td>\n",
       "      <td>all_vs_tireless_its</td>\n",
       "      <td>na</td>\n",
       "      <td>0.1.categ_v1</td>\n",
       "      <td>0.017</td>\n",
       "      <td>cluster</td>\n",
       "      <td>na</td>\n",
       "    </tr>\n",
       "    <tr>\n",
       "      <th>13</th>\n",
       "      <td>13</td>\n",
       "      <td>0.100</td>\n",
       "      <td>markov</td>\n",
       "      <td>all_vs_early_birds</td>\n",
       "      <td>na</td>\n",
       "      <td>0.1.categ_v1</td>\n",
       "      <td>0.030</td>\n",
       "      <td>cluster</td>\n",
       "      <td>na</td>\n",
       "    </tr>\n",
       "    <tr>\n",
       "      <th>14</th>\n",
       "      <td>14</td>\n",
       "      <td>0.123</td>\n",
       "      <td>markov</td>\n",
       "      <td>cluster_early_birds</td>\n",
       "      <td>na</td>\n",
       "      <td>0.1.categ_v1</td>\n",
       "      <td>0.047</td>\n",
       "      <td>cluster</td>\n",
       "      <td>na</td>\n",
       "    </tr>\n",
       "    <tr>\n",
       "      <th>15</th>\n",
       "      <td>15</td>\n",
       "      <td>0.111</td>\n",
       "      <td>markov</td>\n",
       "      <td>cluster_tireless_its</td>\n",
       "      <td>na</td>\n",
       "      <td>0.1.categ_v1</td>\n",
       "      <td>0.019</td>\n",
       "      <td>cluster</td>\n",
       "      <td>na</td>\n",
       "    </tr>\n",
       "    <tr>\n",
       "      <th>16</th>\n",
       "      <td>16</td>\n",
       "      <td>0.080</td>\n",
       "      <td>markov</td>\n",
       "      <td>cluster_night_owls</td>\n",
       "      <td>na</td>\n",
       "      <td>0.1.categ_v1</td>\n",
       "      <td>0.046</td>\n",
       "      <td>cluster</td>\n",
       "      <td>na</td>\n",
       "    </tr>\n",
       "    <tr>\n",
       "      <th>17</th>\n",
       "      <td>17</td>\n",
       "      <td>0.086</td>\n",
       "      <td>markov</td>\n",
       "      <td>all_vs_night_owls</td>\n",
       "      <td>na</td>\n",
       "      <td>0.1.categ_v1</td>\n",
       "      <td>0.059</td>\n",
       "      <td>cluster</td>\n",
       "      <td>na</td>\n",
       "    </tr>\n",
       "    <tr>\n",
       "      <th>18</th>\n",
       "      <td>18</td>\n",
       "      <td>0.373</td>\n",
       "      <td>markov</td>\n",
       "      <td>each_one_by_itself</td>\n",
       "      <td>na</td>\n",
       "      <td>0.1.categ_v1_filtered_30min</td>\n",
       "      <td>0.116</td>\n",
       "      <td>cluster</td>\n",
       "      <td>na</td>\n",
       "    </tr>\n",
       "    <tr>\n",
       "      <th>19</th>\n",
       "      <td>19</td>\n",
       "      <td>0.376</td>\n",
       "      <td>markov</td>\n",
       "      <td>extreme_trav_each_one_by_itself</td>\n",
       "      <td>na</td>\n",
       "      <td>0.1.categ_v1_filtered_30min</td>\n",
       "      <td>0.144</td>\n",
       "      <td>cluster</td>\n",
       "      <td>na</td>\n",
       "    </tr>\n",
       "    <tr>\n",
       "      <th>20</th>\n",
       "      <td>20</td>\n",
       "      <td>0.098</td>\n",
       "      <td>markov</td>\n",
       "      <td>all_vs_one</td>\n",
       "      <td>na</td>\n",
       "      <td>0.1.categ_v1_filtered_30min</td>\n",
       "      <td>0.055</td>\n",
       "      <td>cluster</td>\n",
       "      <td>na</td>\n",
       "    </tr>\n",
       "    <tr>\n",
       "      <th>21</th>\n",
       "      <td>21</td>\n",
       "      <td>0.121</td>\n",
       "      <td>markov</td>\n",
       "      <td>all_vs_tireless_its</td>\n",
       "      <td>na</td>\n",
       "      <td>0.1.categ_v1_filtered_30min</td>\n",
       "      <td>0.041</td>\n",
       "      <td>cluster</td>\n",
       "      <td>na</td>\n",
       "    </tr>\n",
       "    <tr>\n",
       "      <th>22</th>\n",
       "      <td>22</td>\n",
       "      <td>0.160</td>\n",
       "      <td>markov</td>\n",
       "      <td>all_vs_early_birds</td>\n",
       "      <td>na</td>\n",
       "      <td>0.1.categ_v1_filtered_30min</td>\n",
       "      <td>0.069</td>\n",
       "      <td>cluster</td>\n",
       "      <td>na</td>\n",
       "    </tr>\n",
       "    <tr>\n",
       "      <th>23</th>\n",
       "      <td>23</td>\n",
       "      <td>0.191</td>\n",
       "      <td>markov</td>\n",
       "      <td>cluster_early_birds</td>\n",
       "      <td>na</td>\n",
       "      <td>0.1.categ_v1_filtered_30min</td>\n",
       "      <td>0.101</td>\n",
       "      <td>cluster</td>\n",
       "      <td>na</td>\n",
       "    </tr>\n",
       "    <tr>\n",
       "      <th>24</th>\n",
       "      <td>24</td>\n",
       "      <td>0.145</td>\n",
       "      <td>markov</td>\n",
       "      <td>cluster_tireless_its</td>\n",
       "      <td>na</td>\n",
       "      <td>0.1.categ_v1_filtered_30min</td>\n",
       "      <td>0.045</td>\n",
       "      <td>cluster</td>\n",
       "      <td>na</td>\n",
       "    </tr>\n",
       "    <tr>\n",
       "      <th>25</th>\n",
       "      <td>25</td>\n",
       "      <td>0.042</td>\n",
       "      <td>markov</td>\n",
       "      <td>cluster_night_owls</td>\n",
       "      <td>na</td>\n",
       "      <td>0.1.categ_v1_filtered_30min</td>\n",
       "      <td>0.052</td>\n",
       "      <td>cluster</td>\n",
       "      <td>na</td>\n",
       "    </tr>\n",
       "    <tr>\n",
       "      <th>26</th>\n",
       "      <td>26</td>\n",
       "      <td>0.042</td>\n",
       "      <td>markov</td>\n",
       "      <td>all_vs_night_owls</td>\n",
       "      <td>na</td>\n",
       "      <td>0.1.categ_v1_filtered_30min</td>\n",
       "      <td>0.070</td>\n",
       "      <td>cluster</td>\n",
       "      <td>na</td>\n",
       "    </tr>\n",
       "  </tbody>\n",
       "</table>\n",
       "</div>"
      ],
      "text/plain": [
       "    index   acc algorithm                  cluster_version depth  \\\n",
       "0       0 0.317    markov               each_one_by_itself    na   \n",
       "1       1 0.332    markov  extreme_trav_each_one_by_itself    na   \n",
       "2       2 0.092    markov                       all_vs_one    na   \n",
       "3       3 0.100    markov              all_vs_tireless_its    na   \n",
       "4       4 0.111    markov               all_vs_early_birds    na   \n",
       "5       5 0.156    markov              cluster_early_birds    na   \n",
       "6       6 0.136    markov             cluster_tireless_its    na   \n",
       "7       7 0.059    markov               cluster_night_owls    na   \n",
       "8       8 0.077    markov                all_vs_night_owls    na   \n",
       "9       9 0.275    markov               each_one_by_itself    na   \n",
       "10     10 0.299    markov  extreme_trav_each_one_by_itself    na   \n",
       "11     11 0.086    markov                       all_vs_one    na   \n",
       "12     12 0.100    markov              all_vs_tireless_its    na   \n",
       "13     13 0.100    markov               all_vs_early_birds    na   \n",
       "14     14 0.123    markov              cluster_early_birds    na   \n",
       "15     15 0.111    markov             cluster_tireless_its    na   \n",
       "16     16 0.080    markov               cluster_night_owls    na   \n",
       "17     17 0.086    markov                all_vs_night_owls    na   \n",
       "18     18 0.373    markov               each_one_by_itself    na   \n",
       "19     19 0.376    markov  extreme_trav_each_one_by_itself    na   \n",
       "20     20 0.098    markov                       all_vs_one    na   \n",
       "21     21 0.121    markov              all_vs_tireless_its    na   \n",
       "22     22 0.160    markov               all_vs_early_birds    na   \n",
       "23     23 0.191    markov              cluster_early_birds    na   \n",
       "24     24 0.145    markov             cluster_tireless_its    na   \n",
       "25     25 0.042    markov               cluster_night_owls    na   \n",
       "26     26 0.042    markov                all_vs_night_owls    na   \n",
       "\n",
       "                     input_data   mad   method pred_choice_method  \n",
       "0   0.1.categ_v1_filtered_15min 0.110  cluster                 na  \n",
       "1   0.1.categ_v1_filtered_15min 0.146  cluster                 na  \n",
       "2   0.1.categ_v1_filtered_15min 0.039  cluster                 na  \n",
       "3   0.1.categ_v1_filtered_15min 0.033  cluster                 na  \n",
       "4   0.1.categ_v1_filtered_15min 0.057  cluster                 na  \n",
       "5   0.1.categ_v1_filtered_15min 0.079  cluster                 na  \n",
       "6   0.1.categ_v1_filtered_15min 0.033  cluster                 na  \n",
       "7   0.1.categ_v1_filtered_15min 0.051  cluster                 na  \n",
       "8   0.1.categ_v1_filtered_15min 0.051  cluster                 na  \n",
       "9                  0.1.categ_v1 0.097  cluster                 na  \n",
       "10                 0.1.categ_v1 0.121  cluster                 na  \n",
       "11                 0.1.categ_v1 0.027  cluster                 na  \n",
       "12                 0.1.categ_v1 0.017  cluster                 na  \n",
       "13                 0.1.categ_v1 0.030  cluster                 na  \n",
       "14                 0.1.categ_v1 0.047  cluster                 na  \n",
       "15                 0.1.categ_v1 0.019  cluster                 na  \n",
       "16                 0.1.categ_v1 0.046  cluster                 na  \n",
       "17                 0.1.categ_v1 0.059  cluster                 na  \n",
       "18  0.1.categ_v1_filtered_30min 0.116  cluster                 na  \n",
       "19  0.1.categ_v1_filtered_30min 0.144  cluster                 na  \n",
       "20  0.1.categ_v1_filtered_30min 0.055  cluster                 na  \n",
       "21  0.1.categ_v1_filtered_30min 0.041  cluster                 na  \n",
       "22  0.1.categ_v1_filtered_30min 0.069  cluster                 na  \n",
       "23  0.1.categ_v1_filtered_30min 0.101  cluster                 na  \n",
       "24  0.1.categ_v1_filtered_30min 0.045  cluster                 na  \n",
       "25  0.1.categ_v1_filtered_30min 0.052  cluster                 na  \n",
       "26  0.1.categ_v1_filtered_30min 0.070  cluster                 na  "
      ]
     },
     "execution_count": 16,
     "metadata": {},
     "output_type": "execute_result"
    }
   ],
   "source": [
    "results_df = pd.DataFrame(summary_results(r))\n",
    "results_df = results_df[~results_df[\"acc\"].isna()]\n",
    "results_df.reset_index()"
   ]
  },
  {
   "cell_type": "code",
   "execution_count": 17,
   "metadata": {},
   "outputs": [],
   "source": [
    "results_df[\"id\"] = results_df[\"cluster_version\"] + \" : \" + results_df[\"input_data\"]"
   ]
  },
  {
   "cell_type": "code",
   "execution_count": 18,
   "metadata": {},
   "outputs": [],
   "source": [
    "results_01_categ_05min = results_df[results_df[\"input_data\"] == \"0.1.categ_v1\"]\n",
    "results_01_categ_05min = results_01_categ_05min.set_index(\"cluster_version\", drop=False)"
   ]
  },
  {
   "cell_type": "code",
   "execution_count": 19,
   "metadata": {},
   "outputs": [],
   "source": [
    "results_01_categ_15min = results_df[results_df[\"input_data\"] == \"0.1.categ_v1_filtered_15min\"]\n",
    "results_01_categ_15min = results_01_categ_15min.set_index(\"cluster_version\", drop=False)"
   ]
  },
  {
   "cell_type": "code",
   "execution_count": 20,
   "metadata": {},
   "outputs": [],
   "source": [
    "results_01_categ_30min = results_df[results_df[\"input_data\"] == \"0.1.categ_v1_filtered_30min\"]\n",
    "results_01_categ_30min = results_01_categ_30min.set_index(\"cluster_version\", drop=False)"
   ]
  },
  {
   "cell_type": "code",
   "execution_count": 21,
   "metadata": {},
   "outputs": [],
   "source": [
    "comparison = {\n",
    "              'early_birds': ['all_vs_early_birds', 'cluster_early_birds'],\n",
    "              'night_owls': ['all_vs_night_owls', 'cluster_night_owls'],\n",
    "              'tireless_its': ['all_vs_tireless_its', 'cluster_tireless_its'],\n",
    "              'others': ['all_vs_one', 'each_one_by_itself', 'extreme_trav_each_one_by_itself']\n",
    "             }"
   ]
  },
  {
   "cell_type": "code",
   "execution_count": 22,
   "metadata": {},
   "outputs": [],
   "source": [
    "def comparison_index_order(comparison_dict, on_colname, df):\n",
    "    order = []\n",
    "    \n",
    "    for group in comparison_dict.keys():\n",
    "        for execution_tag in comparison_dict[group]:\n",
    "            i = df[df[on_colname] == execution_tag].index.item()\n",
    "            order.append(i)\n",
    "\n",
    "    return order"
   ]
  },
  {
   "cell_type": "code",
   "execution_count": 23,
   "metadata": {},
   "outputs": [],
   "source": [
    "order_i_05min = comparison_index_order(comparison, on_colname=\"cluster_version\", df=results_01_categ_05min)\n",
    "order_i_15min = comparison_index_order(comparison, on_colname=\"cluster_version\", df=results_01_categ_15min)\n",
    "order_i_30min = comparison_index_order(comparison, on_colname=\"cluster_version\", df=results_01_categ_30min)"
   ]
  },
  {
   "cell_type": "code",
   "execution_count": 24,
   "metadata": {},
   "outputs": [
    {
     "data": {
      "text/html": [
       "<div>\n",
       "<style scoped>\n",
       "    .dataframe tbody tr th:only-of-type {\n",
       "        vertical-align: middle;\n",
       "    }\n",
       "\n",
       "    .dataframe tbody tr th {\n",
       "        vertical-align: top;\n",
       "    }\n",
       "\n",
       "    .dataframe thead th {\n",
       "        text-align: right;\n",
       "    }\n",
       "</style>\n",
       "<table border=\"1\" class=\"dataframe\">\n",
       "  <thead>\n",
       "    <tr style=\"text-align: right;\">\n",
       "      <th></th>\n",
       "      <th>acc</th>\n",
       "      <th>algorithm</th>\n",
       "      <th>cluster_version</th>\n",
       "      <th>depth</th>\n",
       "      <th>input_data</th>\n",
       "      <th>mad</th>\n",
       "      <th>method</th>\n",
       "      <th>pred_choice_method</th>\n",
       "      <th>id</th>\n",
       "    </tr>\n",
       "    <tr>\n",
       "      <th>cluster_version</th>\n",
       "      <th></th>\n",
       "      <th></th>\n",
       "      <th></th>\n",
       "      <th></th>\n",
       "      <th></th>\n",
       "      <th></th>\n",
       "      <th></th>\n",
       "      <th></th>\n",
       "      <th></th>\n",
       "    </tr>\n",
       "  </thead>\n",
       "  <tbody>\n",
       "    <tr>\n",
       "      <th>each_one_by_itself</th>\n",
       "      <td>0.275</td>\n",
       "      <td>markov</td>\n",
       "      <td>each_one_by_itself</td>\n",
       "      <td>na</td>\n",
       "      <td>0.1.categ_v1</td>\n",
       "      <td>0.097</td>\n",
       "      <td>cluster</td>\n",
       "      <td>na</td>\n",
       "      <td>each_one_by_itself : 0.1.categ_v1</td>\n",
       "    </tr>\n",
       "    <tr>\n",
       "      <th>extreme_trav_each_one_by_itself</th>\n",
       "      <td>0.299</td>\n",
       "      <td>markov</td>\n",
       "      <td>extreme_trav_each_one_by_itself</td>\n",
       "      <td>na</td>\n",
       "      <td>0.1.categ_v1</td>\n",
       "      <td>0.121</td>\n",
       "      <td>cluster</td>\n",
       "      <td>na</td>\n",
       "      <td>extreme_trav_each_one_by_itself : 0.1.categ_v1</td>\n",
       "    </tr>\n",
       "    <tr>\n",
       "      <th>all_vs_one</th>\n",
       "      <td>0.086</td>\n",
       "      <td>markov</td>\n",
       "      <td>all_vs_one</td>\n",
       "      <td>na</td>\n",
       "      <td>0.1.categ_v1</td>\n",
       "      <td>0.027</td>\n",
       "      <td>cluster</td>\n",
       "      <td>na</td>\n",
       "      <td>all_vs_one : 0.1.categ_v1</td>\n",
       "    </tr>\n",
       "    <tr>\n",
       "      <th>all_vs_tireless_its</th>\n",
       "      <td>0.100</td>\n",
       "      <td>markov</td>\n",
       "      <td>all_vs_tireless_its</td>\n",
       "      <td>na</td>\n",
       "      <td>0.1.categ_v1</td>\n",
       "      <td>0.017</td>\n",
       "      <td>cluster</td>\n",
       "      <td>na</td>\n",
       "      <td>all_vs_tireless_its : 0.1.categ_v1</td>\n",
       "    </tr>\n",
       "    <tr>\n",
       "      <th>all_vs_early_birds</th>\n",
       "      <td>0.100</td>\n",
       "      <td>markov</td>\n",
       "      <td>all_vs_early_birds</td>\n",
       "      <td>na</td>\n",
       "      <td>0.1.categ_v1</td>\n",
       "      <td>0.030</td>\n",
       "      <td>cluster</td>\n",
       "      <td>na</td>\n",
       "      <td>all_vs_early_birds : 0.1.categ_v1</td>\n",
       "    </tr>\n",
       "    <tr>\n",
       "      <th>cluster_early_birds</th>\n",
       "      <td>0.123</td>\n",
       "      <td>markov</td>\n",
       "      <td>cluster_early_birds</td>\n",
       "      <td>na</td>\n",
       "      <td>0.1.categ_v1</td>\n",
       "      <td>0.047</td>\n",
       "      <td>cluster</td>\n",
       "      <td>na</td>\n",
       "      <td>cluster_early_birds : 0.1.categ_v1</td>\n",
       "    </tr>\n",
       "    <tr>\n",
       "      <th>cluster_tireless_its</th>\n",
       "      <td>0.111</td>\n",
       "      <td>markov</td>\n",
       "      <td>cluster_tireless_its</td>\n",
       "      <td>na</td>\n",
       "      <td>0.1.categ_v1</td>\n",
       "      <td>0.019</td>\n",
       "      <td>cluster</td>\n",
       "      <td>na</td>\n",
       "      <td>cluster_tireless_its : 0.1.categ_v1</td>\n",
       "    </tr>\n",
       "    <tr>\n",
       "      <th>cluster_night_owls</th>\n",
       "      <td>0.080</td>\n",
       "      <td>markov</td>\n",
       "      <td>cluster_night_owls</td>\n",
       "      <td>na</td>\n",
       "      <td>0.1.categ_v1</td>\n",
       "      <td>0.046</td>\n",
       "      <td>cluster</td>\n",
       "      <td>na</td>\n",
       "      <td>cluster_night_owls : 0.1.categ_v1</td>\n",
       "    </tr>\n",
       "    <tr>\n",
       "      <th>all_vs_night_owls</th>\n",
       "      <td>0.086</td>\n",
       "      <td>markov</td>\n",
       "      <td>all_vs_night_owls</td>\n",
       "      <td>na</td>\n",
       "      <td>0.1.categ_v1</td>\n",
       "      <td>0.059</td>\n",
       "      <td>cluster</td>\n",
       "      <td>na</td>\n",
       "      <td>all_vs_night_owls : 0.1.categ_v1</td>\n",
       "    </tr>\n",
       "  </tbody>\n",
       "</table>\n",
       "</div>"
      ],
      "text/plain": [
       "                                  acc algorithm  \\\n",
       "cluster_version                                   \n",
       "each_one_by_itself              0.275    markov   \n",
       "extreme_trav_each_one_by_itself 0.299    markov   \n",
       "all_vs_one                      0.086    markov   \n",
       "all_vs_tireless_its             0.100    markov   \n",
       "all_vs_early_birds              0.100    markov   \n",
       "cluster_early_birds             0.123    markov   \n",
       "cluster_tireless_its            0.111    markov   \n",
       "cluster_night_owls              0.080    markov   \n",
       "all_vs_night_owls               0.086    markov   \n",
       "\n",
       "                                                 cluster_version depth  \\\n",
       "cluster_version                                                          \n",
       "each_one_by_itself                            each_one_by_itself    na   \n",
       "extreme_trav_each_one_by_itself  extreme_trav_each_one_by_itself    na   \n",
       "all_vs_one                                            all_vs_one    na   \n",
       "all_vs_tireless_its                          all_vs_tireless_its    na   \n",
       "all_vs_early_birds                            all_vs_early_birds    na   \n",
       "cluster_early_birds                          cluster_early_birds    na   \n",
       "cluster_tireless_its                        cluster_tireless_its    na   \n",
       "cluster_night_owls                            cluster_night_owls    na   \n",
       "all_vs_night_owls                              all_vs_night_owls    na   \n",
       "\n",
       "                                   input_data   mad   method  \\\n",
       "cluster_version                                                \n",
       "each_one_by_itself               0.1.categ_v1 0.097  cluster   \n",
       "extreme_trav_each_one_by_itself  0.1.categ_v1 0.121  cluster   \n",
       "all_vs_one                       0.1.categ_v1 0.027  cluster   \n",
       "all_vs_tireless_its              0.1.categ_v1 0.017  cluster   \n",
       "all_vs_early_birds               0.1.categ_v1 0.030  cluster   \n",
       "cluster_early_birds              0.1.categ_v1 0.047  cluster   \n",
       "cluster_tireless_its             0.1.categ_v1 0.019  cluster   \n",
       "cluster_night_owls               0.1.categ_v1 0.046  cluster   \n",
       "all_vs_night_owls                0.1.categ_v1 0.059  cluster   \n",
       "\n",
       "                                pred_choice_method  \\\n",
       "cluster_version                                      \n",
       "each_one_by_itself                              na   \n",
       "extreme_trav_each_one_by_itself                 na   \n",
       "all_vs_one                                      na   \n",
       "all_vs_tireless_its                             na   \n",
       "all_vs_early_birds                              na   \n",
       "cluster_early_birds                             na   \n",
       "cluster_tireless_its                            na   \n",
       "cluster_night_owls                              na   \n",
       "all_vs_night_owls                               na   \n",
       "\n",
       "                                                                             id  \n",
       "cluster_version                                                                  \n",
       "each_one_by_itself                            each_one_by_itself : 0.1.categ_v1  \n",
       "extreme_trav_each_one_by_itself  extreme_trav_each_one_by_itself : 0.1.categ_v1  \n",
       "all_vs_one                                            all_vs_one : 0.1.categ_v1  \n",
       "all_vs_tireless_its                          all_vs_tireless_its : 0.1.categ_v1  \n",
       "all_vs_early_birds                            all_vs_early_birds : 0.1.categ_v1  \n",
       "cluster_early_birds                          cluster_early_birds : 0.1.categ_v1  \n",
       "cluster_tireless_its                        cluster_tireless_its : 0.1.categ_v1  \n",
       "cluster_night_owls                            cluster_night_owls : 0.1.categ_v1  \n",
       "all_vs_night_owls                              all_vs_night_owls : 0.1.categ_v1  "
      ]
     },
     "execution_count": 24,
     "metadata": {},
     "output_type": "execute_result"
    }
   ],
   "source": [
    "results_01_categ_05min"
   ]
  },
  {
   "cell_type": "markdown",
   "metadata": {},
   "source": [
    "# Accuracy - Single Partition"
   ]
  },
  {
   "cell_type": "code",
   "execution_count": 25,
   "metadata": {},
   "outputs": [],
   "source": [
    "my_colors = [Category20c[20][0], Category20c[20][1], Category20c[20][2],\n",
    "          Category20c[20][4], Category20c[20][5], Category20c[20][6],\n",
    "          Category20c[20][8], Category20c[20][9], Category20c[20][10], Category20c[20][10]]"
   ]
  },
  {
   "cell_type": "markdown",
   "metadata": {},
   "source": [
    "## categ_v1"
   ]
  },
  {
   "cell_type": "markdown",
   "metadata": {},
   "source": [
    "### Stop Region Stay Time: <font color=\"red\">5 minutes</font>"
   ]
  },
  {
   "cell_type": "code",
   "execution_count": 26,
   "metadata": {},
   "outputs": [
    {
     "data": {
      "text/plain": [
       "<matplotlib.axes._subplots.AxesSubplot at 0x7f4da0e8fb00>"
      ]
     },
     "execution_count": 26,
     "metadata": {},
     "output_type": "execute_result"
    },
    {
     "data": {
      "image/png": "[encoded data removed]",
      "text/plain": [
       "<Figure size 432x288 with 1 Axes>"
      ]
     },
     "metadata": {},
     "output_type": "display_data"
    }
   ],
   "source": [
    "results_01_categ_05min.loc[order_i_05min[0:2]][\"acc\"].plot.bar(title=\"Accuracy on Early Birds - SR 5 mins\")"
   ]
  },
  {
   "cell_type": "code",
   "execution_count": 27,
   "metadata": {},
   "outputs": [
    {
     "data": {
      "text/plain": [
       "<matplotlib.axes._subplots.AxesSubplot at 0x7f4da0e62ba8>"
      ]
     },
     "execution_count": 27,
     "metadata": {},
     "output_type": "execute_result"
    },
    {
     "data": {
      "image/png": "[encoded data removed]",
      "text/plain": [
       "<Figure size 432x288 with 1 Axes>"
      ]
     },
     "metadata": {},
     "output_type": "display_data"
    }
   ],
   "source": [
    "results_01_categ_05min.loc[order_i_05min[2:4]][\"acc\"].plot.bar(title=\"Accuracy on Night Owls - SR 5 mins\")"
   ]
  },
  {
   "cell_type": "code",
   "execution_count": 28,
   "metadata": {},
   "outputs": [
    {
     "data": {
      "text/plain": [
       "<matplotlib.axes._subplots.AxesSubplot at 0x7f4da0de5ba8>"
      ]
     },
     "execution_count": 28,
     "metadata": {},
     "output_type": "execute_result"
    },
    {
     "data": {
      "image/png": "[encoded data removed]",
      "text/plain": [
       "<Figure size 432x288 with 1 Axes>"
      ]
     },
     "metadata": {},
     "output_type": "display_data"
    }
   ],
   "source": [
    "results_01_categ_05min.loc[order_i_05min[4:6]][\"acc\"].plot.bar(title=\"Accuracy on Tireless Itinerants - SR 5 mins\")"
   ]
  },
  {
   "cell_type": "code",
   "execution_count": 29,
   "metadata": {},
   "outputs": [
    {
     "data": {
      "text/plain": [
       "<matplotlib.axes._subplots.AxesSubplot at 0x7f4da0db9320>"
      ]
     },
     "execution_count": 29,
     "metadata": {},
     "output_type": "execute_result"
    },
    {
     "data": {
      "image/png": "[encoded data removed]",
      "text/plain": [
       "<Figure size 864x360 with 1 Axes>"
      ]
     },
     "metadata": {},
     "output_type": "display_data"
    }
   ],
   "source": [
    "f, ax = plt.subplots(figsize=(12,5))\n",
    "results_01_categ_05min.loc[order_i_05min][\"acc\"].plot.bar(title=\"Accuracy medians - SR 5 mins\")"
   ]
  },
  {
   "cell_type": "markdown",
   "metadata": {},
   "source": [
    "### Stop Region Stay Time: <font color=\"red\">15 minutes</font>"
   ]
  },
  {
   "cell_type": "code",
   "execution_count": 30,
   "metadata": {},
   "outputs": [
    {
     "data": {
      "text/plain": [
       "<matplotlib.axes._subplots.AxesSubplot at 0x7f4da0d1a9e8>"
      ]
     },
     "execution_count": 30,
     "metadata": {},
     "output_type": "execute_result"
    },
    {
     "data": {
      "image/png": "[encoded data removed]",
      "text/plain": [
       "<Figure size 432x288 with 1 Axes>"
      ]
     },
     "metadata": {},
     "output_type": "display_data"
    }
   ],
   "source": [
    "results_01_categ_15min.loc[order_i_15min[0:2]][\"acc\"].plot.bar(title=\"Accuracy on Early Birds - SR 15 mins\")"
   ]
  },
  {
   "cell_type": "code",
   "execution_count": 31,
   "metadata": {},
   "outputs": [
    {
     "data": {
      "text/plain": [
       "<matplotlib.axes._subplots.AxesSubplot at 0x7f4da0bac780>"
      ]
     },
     "execution_count": 31,
     "metadata": {},
     "output_type": "execute_result"
    },
    {
     "data": {
      "image/png": "[encoded data removed]",
      "text/plain": [
       "<Figure size 432x288 with 1 Axes>"
      ]
     },
     "metadata": {},
     "output_type": "display_data"
    }
   ],
   "source": [
    "results_01_categ_15min.loc[order_i_15min[2:4]][\"acc\"].plot.bar(title=\"Accuracy on Night Owls - SR 15 mins\")"
   ]
  },
  {
   "cell_type": "code",
   "execution_count": 32,
   "metadata": {},
   "outputs": [
    {
     "data": {
      "text/plain": [
       "<matplotlib.axes._subplots.AxesSubplot at 0x7f4da0b0bd68>"
      ]
     },
     "execution_count": 32,
     "metadata": {},
     "output_type": "execute_result"
    },
    {
     "data": {
      "image/png": "[encoded data removed]",
      "text/plain": [
       "<Figure size 432x288 with 1 Axes>"
      ]
     },
     "metadata": {},
     "output_type": "display_data"
    }
   ],
   "source": [
    "results_01_categ_15min.loc[order_i_15min[0:2]][\"acc\"].plot.bar(title=\"Accuracy on Early Birds - SR 15 mins\")"
   ]
  },
  {
   "cell_type": "code",
   "execution_count": 33,
   "metadata": {},
   "outputs": [
    {
     "data": {
      "text/plain": [
       "<matplotlib.axes._subplots.AxesSubplot at 0x7f4da0b9d7b8>"
      ]
     },
     "execution_count": 33,
     "metadata": {},
     "output_type": "execute_result"
    },
    {
     "data": {
      "image/png": "[encoded data removed]",
      "text/plain": [
       "<Figure size 864x360 with 1 Axes>"
      ]
     },
     "metadata": {},
     "output_type": "display_data"
    }
   ],
   "source": [
    "f, ax = plt.subplots(figsize=(12,5))\n",
    "results_01_categ_15min.loc[order_i_15min][\"acc\"].plot.bar(title=\"Accuracy medians - SR 15 mins\")"
   ]
  },
  {
   "cell_type": "markdown",
   "metadata": {},
   "source": [
    "### Stop Region Stay Time: <font color=\"red\">30 minutes</font>"
   ]
  },
  {
   "cell_type": "code",
   "execution_count": 34,
   "metadata": {},
   "outputs": [
    {
     "data": {
      "text/plain": [
       "<matplotlib.axes._subplots.AxesSubplot at 0x7f4da0a57588>"
      ]
     },
     "execution_count": 34,
     "metadata": {},
     "output_type": "execute_result"
    },
    {
     "data": {
      "image/png": "[encoded data removed]",
      "text/plain": [
       "<Figure size 432x288 with 1 Axes>"
      ]
     },
     "metadata": {},
     "output_type": "display_data"
    }
   ],
   "source": [
    "results_01_categ_30min.loc[order_i_30min[0:2]][\"acc\"].plot.bar(title=\"Accuracy on Early Birds - SR 30 mins\")"
   ]
  },
  {
   "cell_type": "code",
   "execution_count": 35,
   "metadata": {},
   "outputs": [
    {
     "data": {
      "text/plain": [
       "<matplotlib.axes._subplots.AxesSubplot at 0x7f4da08735f8>"
      ]
     },
     "execution_count": 35,
     "metadata": {},
     "output_type": "execute_result"
    },
    {
     "data": {
      "image/png": "[encoded data removed]",
      "text/plain": [
       "<Figure size 432x288 with 1 Axes>"
      ]
     },
     "metadata": {},
     "output_type": "display_data"
    }
   ],
   "source": [
    "results_01_categ_30min.loc[order_i_30min[2:4]][\"acc\"].plot.bar(title=\"Accuracy on Night Owls - SR 30 mins\")"
   ]
  },
  {
   "cell_type": "code",
   "execution_count": 36,
   "metadata": {},
   "outputs": [
    {
     "data": {
      "text/plain": [
       "<matplotlib.axes._subplots.AxesSubplot at 0x7f4da0adbb38>"
      ]
     },
     "execution_count": 36,
     "metadata": {},
     "output_type": "execute_result"
    },
    {
     "data": {
      "image/png": "[encoded data removed]",
      "text/plain": [
       "<Figure size 432x288 with 1 Axes>"
      ]
     },
     "metadata": {},
     "output_type": "display_data"
    }
   ],
   "source": [
    "results_01_categ_05min.loc[order_i_05min[4:6]][\"acc\"].plot.bar(title=\"Accuracy on Tireless Itinerants - SR 30 mins\")"
   ]
  },
  {
   "cell_type": "code",
   "execution_count": 37,
   "metadata": {},
   "outputs": [
    {
     "data": {
      "text/plain": [
       "<matplotlib.axes._subplots.AxesSubplot at 0x7f4da07ad898>"
      ]
     },
     "execution_count": 37,
     "metadata": {},
     "output_type": "execute_result"
    },
    {
     "data": {
      "image/png": "[encoded data removed]",
      "text/plain": [
       "<Figure size 864x360 with 1 Axes>"
      ]
     },
     "metadata": {},
     "output_type": "display_data"
    }
   ],
   "source": [
    "f, ax = plt.subplots(figsize=(12,5))\n",
    "results_01_categ_30min.loc[order_i_30min][\"acc\"].plot.bar(title=\"Accuracy medians - SR 30 mins\")"
   ]
  },
  {
   "cell_type": "code",
   "execution_count": null,
   "metadata": {},
   "outputs": [],
   "source": []
  },
  {
   "cell_type": "code",
   "execution_count": null,
   "metadata": {},
   "outputs": [],
   "source": []
  },
  {
   "cell_type": "code",
   "execution_count": null,
   "metadata": {},
   "outputs": [],
   "source": []
  },
  {
   "cell_type": "code",
   "execution_count": null,
   "metadata": {},
   "outputs": [],
   "source": []
  }
 ],
 "metadata": {
  "kernelspec": {
   "display_name": "Python 3",
   "language": "python",
   "name": "python3"
  },
  "language_info": {
   "codemirror_mode": {
    "name": "ipython",
    "version": 3
   },
   "file_extension": ".py",
   "mimetype": "text/x-python",
   "name": "python",
   "nbconvert_exporter": "python",
   "pygments_lexer": "ipython3",
   "version": "3.6.5"
  }
 },
 "nbformat": 4,
 "nbformat_minor": 2
}
