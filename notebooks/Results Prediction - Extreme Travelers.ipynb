{
 "cells": [
  {
   "cell_type": "markdown",
   "metadata": {},
   "source": [
    "# Results Markov"
   ]
  },
  {
   "cell_type": "code",
   "execution_count": 1,
   "metadata": {},
   "outputs": [
    {
     "name": "stdout",
     "output_type": "stream",
     "text": [
      "working dir /home/tales/dev/master/mdc_analysis\n"
     ]
    }
   ],
   "source": [
    "import os\n",
    "os.chdir(\"/home/tales/dev/master/mdc_analysis/\")\n",
    "print(\"working dir\", os.getcwd())"
   ]
  },
  {
   "cell_type": "code",
   "execution_count": 2,
   "metadata": {},
   "outputs": [],
   "source": [
    "import pandas as pd\n",
    "import math\n",
    "import copy\n",
    "import gc\n",
    "import warnings\n",
    "import matplotlib.pyplot as plt\n",
    "\n",
    "from bokeh.palettes import Category20c\n",
    "\n",
    "import src.ml.markov as mk\n",
    "from src.dao.experiments_dao import load_execution_test_data, json_to_dataframe\n",
    "from src.exceptions import exceptions"
   ]
  },
  {
   "cell_type": "code",
   "execution_count": 3,
   "metadata": {},
   "outputs": [],
   "source": [
    "warnings.simplefilter(action='ignore', category=FutureWarning)\n",
    "pd.set_option('display.float_format', lambda x: '%.3f' % x)"
   ]
  },
  {
   "cell_type": "markdown",
   "metadata": {},
   "source": [
    "## Loading data"
   ]
  },
  {
   "cell_type": "code",
   "execution_count": 4,
   "metadata": {},
   "outputs": [],
   "source": [
    "def round_up_list(num_list):\n",
    "    rounded = [math.ceil(i) for i in num_list]\n",
    "    return rounded\n",
    "\n",
    "def hits_contain(df):\n",
    "    df = copy.deepcopy(df)\n",
    "    df[\"hits_contain\"] = df[\"partial_hits\"].apply(lambda lista : round_up_list(lista))\n",
    "    df[\"hits_contain_mean\"] = df[\"partial_hits\"].apply(lambda lista : pd.Series(round_up_list(lista)).mean())\n",
    "    return df\n",
    "\n",
    "def json_to_dataframe(json_list, simple_cols=True):\n",
    "    df = pd.DataFrame(json_list)\n",
    "    \n",
    "    df[\"iteration\"] = df[\"iteration\"].astype(str)\n",
    "    df[\"k\"] = df[\"k\"].astype(str)\n",
    "    \n",
    "    df[\"acc\"] = df[\"total_hits\"] / df[\"test_size\"]\n",
    "    \n",
    "    df[\"partial_hits_mean\"] = df[\"partial_hits\"].apply(lambda lista : pd.Series(lista).mean())\n",
    "    \n",
    "    df_markov = df[df[\"algorithm\"] == \"markov\"]\n",
    "    df_rest = df[df[\"algorithm\"] != \"markov\"]\n",
    "    \n",
    "    df_markov = hits_contain(df_markov)\n",
    "    \n",
    "    df = df_markov.append(df_rest)\n",
    "    \n",
    "    df_markov = None\n",
    "    df_rest = None\n",
    "    \n",
    "    gc.collect()\n",
    "    \n",
    "    if simple_cols:\n",
    "        del df[\"states_not_trained_as_origin\"]\n",
    "        del df[\"hits\"]\n",
    "        del df[\"misses\"]\n",
    "        \n",
    "    return df"
   ]
  },
  {
   "cell_type": "code",
   "execution_count": 5,
   "metadata": {},
   "outputs": [
    {
     "name": "stdout",
     "output_type": "stream",
     "text": [
      "2535 tests\n"
     ]
    },
    {
     "data": {
      "text/html": [
       "<div>\n",
       "<style scoped>\n",
       "    .dataframe tbody tr th:only-of-type {\n",
       "        vertical-align: middle;\n",
       "    }\n",
       "\n",
       "    .dataframe tbody tr th {\n",
       "        vertical-align: top;\n",
       "    }\n",
       "\n",
       "    .dataframe thead th {\n",
       "        text-align: right;\n",
       "    }\n",
       "</style>\n",
       "<table border=\"1\" class=\"dataframe\">\n",
       "  <thead>\n",
       "    <tr style=\"text-align: right;\">\n",
       "      <th></th>\n",
       "      <th>acc</th>\n",
       "      <th>algorithm</th>\n",
       "      <th>cluster_version</th>\n",
       "      <th>hits</th>\n",
       "      <th>hits_contain</th>\n",
       "      <th>hits_contain_mean</th>\n",
       "      <th>input_data_version</th>\n",
       "      <th>is_distributive</th>\n",
       "      <th>is_dummy</th>\n",
       "      <th>iteration</th>\n",
       "      <th>...</th>\n",
       "      <th>partial_hits_mean</th>\n",
       "      <th>states_not_trained_as_origin</th>\n",
       "      <th>test_id</th>\n",
       "      <th>test_size</th>\n",
       "      <th>total_hits</th>\n",
       "      <th>total_misses</th>\n",
       "      <th>total_states_not_trained_as_origin</th>\n",
       "      <th>train_size</th>\n",
       "      <th>trained_with</th>\n",
       "      <th>user_id</th>\n",
       "    </tr>\n",
       "  </thead>\n",
       "  <tbody>\n",
       "    <tr>\n",
       "      <th>1330</th>\n",
       "      <td>0.414</td>\n",
       "      <td>markov</td>\n",
       "      <td>extreme_trav_each_one_by_itself</td>\n",
       "      <td>[['store'], ['store'], ['store'], ['health'], ...</td>\n",
       "      <td>[0, 1, 0, 1, 0, 1, 0, 1, 0, 1, 1, 1, 0, 0, 0, ...</td>\n",
       "      <td>0.429</td>\n",
       "      <td>0.1.categ_v1</td>\n",
       "      <td>False</td>\n",
       "      <td>False</td>\n",
       "      <td>2</td>\n",
       "      <td>...</td>\n",
       "      <td>0.429</td>\n",
       "      <td>[]</td>\n",
       "      <td>6c25a7ba-5cbf-4139-a6e7-5354d4c9ae68</td>\n",
       "      <td>29</td>\n",
       "      <td>12</td>\n",
       "      <td>16</td>\n",
       "      <td>0</td>\n",
       "      <td>29</td>\n",
       "      <td>cluster</td>\n",
       "      <td>6056</td>\n",
       "    </tr>\n",
       "    <tr>\n",
       "      <th>958</th>\n",
       "      <td>0.127</td>\n",
       "      <td>markov</td>\n",
       "      <td>all_vs_early_birds</td>\n",
       "      <td>[['HOME'], ['WORK'], ['place_of_worship'], ['H...</td>\n",
       "      <td>[0, 0, 0, 1, 0, 0, 0, 0, 0, 0, 0, 0, 0, 1, 0, ...</td>\n",
       "      <td>0.127</td>\n",
       "      <td>0.1.categ_v1</td>\n",
       "      <td>False</td>\n",
       "      <td>False</td>\n",
       "      <td>1</td>\n",
       "      <td>...</td>\n",
       "      <td>0.127</td>\n",
       "      <td>[]</td>\n",
       "      <td>8b95c5a8-9624-49f1-9ab5-45c1250671e9</td>\n",
       "      <td>394</td>\n",
       "      <td>50</td>\n",
       "      <td>343</td>\n",
       "      <td>0</td>\n",
       "      <td>44464</td>\n",
       "      <td>cluster</td>\n",
       "      <td>6168</td>\n",
       "    </tr>\n",
       "    <tr>\n",
       "      <th>593</th>\n",
       "      <td>0.215</td>\n",
       "      <td>markov</td>\n",
       "      <td>all_vs_one</td>\n",
       "      <td>[['HOME'], ['transit_station'], ['HOME'], ['st...</td>\n",
       "      <td>[0, 1, 0, 0, 0, 0, 0, 0, 0, 0, 0, 0, 0, 1, 0, ...</td>\n",
       "      <td>0.217</td>\n",
       "      <td>0.1.categ_v1_filtered_30min</td>\n",
       "      <td>False</td>\n",
       "      <td>False</td>\n",
       "      <td>1</td>\n",
       "      <td>...</td>\n",
       "      <td>0.217</td>\n",
       "      <td>[]</td>\n",
       "      <td>73f9403f-d462-473b-9ccc-ac97a251ee76</td>\n",
       "      <td>158</td>\n",
       "      <td>34</td>\n",
       "      <td>123</td>\n",
       "      <td>0</td>\n",
       "      <td>22568</td>\n",
       "      <td>cluster</td>\n",
       "      <td>6194</td>\n",
       "    </tr>\n",
       "    <tr>\n",
       "      <th>639</th>\n",
       "      <td>0.228</td>\n",
       "      <td>markov</td>\n",
       "      <td>extreme_trav_each_one_by_itself</td>\n",
       "      <td>[['WORK'], ['WORK'], ['restaurant'], ['beauty_...</td>\n",
       "      <td>[1, 0, 0, 0, 1, 0, 0, 0, 0, 0, 0, 0, 0, 0, 0, ...</td>\n",
       "      <td>0.228</td>\n",
       "      <td>0.1.categ_v1</td>\n",
       "      <td>False</td>\n",
       "      <td>False</td>\n",
       "      <td>1</td>\n",
       "      <td>...</td>\n",
       "      <td>0.228</td>\n",
       "      <td>[]</td>\n",
       "      <td>3705bba7-b42a-42a1-adf8-5537c77ecb8b</td>\n",
       "      <td>712</td>\n",
       "      <td>162</td>\n",
       "      <td>549</td>\n",
       "      <td>0</td>\n",
       "      <td>712</td>\n",
       "      <td>cluster</td>\n",
       "      <td>5965</td>\n",
       "    </tr>\n",
       "  </tbody>\n",
       "</table>\n",
       "<p>4 rows × 24 columns</p>\n",
       "</div>"
      ],
      "text/plain": [
       "       acc algorithm                  cluster_version  \\\n",
       "1330 0.414    markov  extreme_trav_each_one_by_itself   \n",
       "958  0.127    markov               all_vs_early_birds   \n",
       "593  0.215    markov                       all_vs_one   \n",
       "639  0.228    markov  extreme_trav_each_one_by_itself   \n",
       "\n",
       "                                                   hits  \\\n",
       "1330  [['store'], ['store'], ['store'], ['health'], ...   \n",
       "958   [['HOME'], ['WORK'], ['place_of_worship'], ['H...   \n",
       "593   [['HOME'], ['transit_station'], ['HOME'], ['st...   \n",
       "639   [['WORK'], ['WORK'], ['restaurant'], ['beauty_...   \n",
       "\n",
       "                                           hits_contain  hits_contain_mean  \\\n",
       "1330  [0, 1, 0, 1, 0, 1, 0, 1, 0, 1, 1, 1, 0, 0, 0, ...              0.429   \n",
       "958   [0, 0, 0, 1, 0, 0, 0, 0, 0, 0, 0, 0, 0, 1, 0, ...              0.127   \n",
       "593   [0, 1, 0, 0, 0, 0, 0, 0, 0, 0, 0, 0, 0, 1, 0, ...              0.217   \n",
       "639   [1, 0, 0, 0, 1, 0, 0, 0, 0, 0, 0, 0, 0, 0, 0, ...              0.228   \n",
       "\n",
       "               input_data_version  is_distributive  is_dummy iteration  \\\n",
       "1330                 0.1.categ_v1            False     False         2   \n",
       "958                  0.1.categ_v1            False     False         1   \n",
       "593   0.1.categ_v1_filtered_30min            False     False         1   \n",
       "639                  0.1.categ_v1            False     False         1   \n",
       "\n",
       "       ...    partial_hits_mean states_not_trained_as_origin  \\\n",
       "1330   ...                0.429                           []   \n",
       "958    ...                0.127                           []   \n",
       "593    ...                0.217                           []   \n",
       "639    ...                0.228                           []   \n",
       "\n",
       "                                   test_id test_size  total_hits total_misses  \\\n",
       "1330  6c25a7ba-5cbf-4139-a6e7-5354d4c9ae68        29          12           16   \n",
       "958   8b95c5a8-9624-49f1-9ab5-45c1250671e9       394          50          343   \n",
       "593   73f9403f-d462-473b-9ccc-ac97a251ee76       158          34          123   \n",
       "639   3705bba7-b42a-42a1-adf8-5537c77ecb8b       712         162          549   \n",
       "\n",
       "     total_states_not_trained_as_origin  train_size  trained_with  user_id  \n",
       "1330                                  0          29       cluster     6056  \n",
       "958                                   0       44464       cluster     6168  \n",
       "593                                   0       22568       cluster     6194  \n",
       "639                                   0         712       cluster     5965  \n",
       "\n",
       "[4 rows x 24 columns]"
      ]
     },
     "execution_count": 5,
     "metadata": {},
     "output_type": "execute_result"
    }
   ],
   "source": [
    "results_dir = \"clusters\"\n",
    "\n",
    "mk_results = load_execution_test_data(results_dir)\n",
    "print(\"{} tests\".format(len(mk_results)))\n",
    "\n",
    "r = json_to_dataframe(mk_results, simple_cols=False)\n",
    "\n",
    "r_dummy = r[r[\"is_dummy\"] == True]\n",
    "r = r[r[\"is_dummy\"] == False]\n",
    "\n",
    "r.sample(4)"
   ]
  },
  {
   "cell_type": "markdown",
   "metadata": {},
   "source": [
    "## Summary"
   ]
  },
  {
   "cell_type": "code",
   "execution_count": 6,
   "metadata": {},
   "outputs": [],
   "source": [
    "try:\n",
    "    r[\"pred_choice_method\"] = r[\"pred_choice_method\"].fillna(\"na\")    \n",
    "except KeyError:\n",
    "    r[\"pred_choice_method\"] = \"na\"\n",
    "    \n",
    "try:\n",
    "    r[\"depth\"] = r[\"depth\"].fillna(\"na\")\n",
    "except KeyError:\n",
    "    r[\"depth\"] = \"na\""
   ]
  },
  {
   "cell_type": "code",
   "execution_count": 7,
   "metadata": {},
   "outputs": [
    {
     "data": {
      "text/plain": [
       "0.1.categ_v1                   1290\n",
       "0.1.categ_v1_filtered_30min    1245\n",
       "Name: input_data_version, dtype: int64"
      ]
     },
     "execution_count": 7,
     "metadata": {},
     "output_type": "execute_result"
    }
   ],
   "source": [
    "r[\"input_data_version\"].value_counts()"
   ]
  },
  {
   "cell_type": "code",
   "execution_count": 8,
   "metadata": {},
   "outputs": [
    {
     "data": {
      "text/plain": [
       "<matplotlib.axes._subplots.AxesSubplot at 0x7f27cb9347b8>"
      ]
     },
     "execution_count": 8,
     "metadata": {},
     "output_type": "execute_result"
    },
    {
     "data": {
      "image/png": "[encoded data removed]",
      "text/plain": [
       "<matplotlib.figure.Figure at 0x7f27b90e9198>"
      ]
     },
     "metadata": {},
     "output_type": "display_data"
    }
   ],
   "source": [
    "r[\"input_data_version\"].value_counts().plot.bar(title=\"input_data_version\", figsize=(4,2))"
   ]
  },
  {
   "cell_type": "code",
   "execution_count": 9,
   "metadata": {},
   "outputs": [
    {
     "data": {
      "text/plain": [
       "cluster    2535\n",
       "Name: method, dtype: int64"
      ]
     },
     "execution_count": 9,
     "metadata": {},
     "output_type": "execute_result"
    }
   ],
   "source": [
    "r[\"method\"].value_counts()"
   ]
  },
  {
   "cell_type": "code",
   "execution_count": 10,
   "metadata": {},
   "outputs": [
    {
     "data": {
      "text/plain": [
       "<matplotlib.axes._subplots.AxesSubplot at 0x7f27b9101358>"
      ]
     },
     "execution_count": 10,
     "metadata": {},
     "output_type": "execute_result"
    },
    {
     "data": {
      "image/png": "[encoded data removed]",
      "text/plain": [
       "<matplotlib.figure.Figure at 0x7f27b90ab6d8>"
      ]
     },
     "metadata": {},
     "output_type": "display_data"
    }
   ],
   "source": [
    "r[\"method\"].value_counts().plot.bar(title=\"method\", figsize=(4,2))"
   ]
  },
  {
   "cell_type": "code",
   "execution_count": 11,
   "metadata": {},
   "outputs": [
    {
     "data": {
      "text/plain": [
       "markov    2535\n",
       "Name: algorithm, dtype: int64"
      ]
     },
     "execution_count": 11,
     "metadata": {},
     "output_type": "execute_result"
    }
   ],
   "source": [
    "r[\"algorithm\"].value_counts()"
   ]
  },
  {
   "cell_type": "code",
   "execution_count": 12,
   "metadata": {},
   "outputs": [
    {
     "data": {
      "text/plain": [
       "<matplotlib.axes._subplots.AxesSubplot at 0x7f27b8febe10>"
      ]
     },
     "execution_count": 12,
     "metadata": {},
     "output_type": "execute_result"
    },
    {
     "data": {
      "image/png": "[encoded data removed]",
      "text/plain": [
       "<matplotlib.figure.Figure at 0x7f27b902f860>"
      ]
     },
     "metadata": {},
     "output_type": "display_data"
    }
   ],
   "source": [
    "r[\"algorithm\"].value_counts().plot.bar(title=\"algorithm\", figsize=(4,2))"
   ]
  },
  {
   "cell_type": "code",
   "execution_count": 13,
   "metadata": {},
   "outputs": [
    {
     "data": {
      "text/plain": [
       "<matplotlib.axes._subplots.AxesSubplot at 0x7f27b8fff860>"
      ]
     },
     "execution_count": 13,
     "metadata": {},
     "output_type": "execute_result"
    },
    {
     "data": {
      "image/png": "[encoded data removed]",
      "text/plain": [
       "<matplotlib.figure.Figure at 0x7f27b57515f8>"
      ]
     },
     "metadata": {},
     "output_type": "display_data"
    }
   ],
   "source": [
    "r[\"test_size\"].plot.hist(title=\"test_size\", bins=15)"
   ]
  },
  {
   "cell_type": "markdown",
   "metadata": {},
   "source": [
    "## Accuracy"
   ]
  },
  {
   "cell_type": "code",
   "execution_count": 14,
   "metadata": {},
   "outputs": [
    {
     "data": {
      "text/plain": [
       "Index(['acc', 'algorithm', 'cluster_version', 'hits', 'hits_contain',\n",
       "       'hits_contain_mean', 'input_data_version', 'is_distributive',\n",
       "       'is_dummy', 'iteration', 'k', 'method', 'misses', 'partial_hits',\n",
       "       'partial_hits_mean', 'states_not_trained_as_origin', 'test_id',\n",
       "       'test_size', 'total_hits', 'total_misses',\n",
       "       'total_states_not_trained_as_origin', 'train_size', 'trained_with',\n",
       "       'user_id', 'pred_choice_method', 'depth'],\n",
       "      dtype='object')"
      ]
     },
     "execution_count": 14,
     "metadata": {},
     "output_type": "execute_result"
    }
   ],
   "source": [
    "r.columns"
   ]
  },
  {
   "cell_type": "code",
   "execution_count": 15,
   "metadata": {},
   "outputs": [],
   "source": [
    "def summary_results(use_results):\n",
    "    summarized = []\n",
    "    \n",
    "    for algorithm in use_results[\"algorithm\"].drop_duplicates():\n",
    "        \n",
    "        for method in use_results[\"method\"].drop_duplicates():\n",
    "            \n",
    "            for input_data_version in use_results[\"input_data_version\"].drop_duplicates():\n",
    "                \n",
    "                for pred_choice_method in use_results[\"pred_choice_method\"].drop_duplicates():\n",
    "                    \n",
    "                    for depth in use_results[\"depth\"].drop_duplicates():\n",
    "                        \n",
    "                        for cluster_version in use_results[\"cluster_version\"].drop_duplicates():\n",
    "                    \n",
    "                            selection = use_results[(use_results[\"algorithm\"] == algorithm) & \n",
    "                                                    (use_results[\"method\"] == method) &\n",
    "                                                    (use_results[\"input_data_version\"] == input_data_version) &\n",
    "                                                    (use_results[\"pred_choice_method\"] == pred_choice_method) &\n",
    "                                                    (use_results[\"depth\"] == depth) &\n",
    "                                                    (use_results[\"cluster_version\"] == cluster_version)\n",
    "                                                   ]\n",
    "\n",
    "                            acc = selection[\"acc\"].median()\n",
    "                            mad = selection[\"acc\"].mad()\n",
    "\n",
    "                            summarized.append({\"acc\": acc, \n",
    "                                               \"mad\": mad,\n",
    "                                               \"algorithm\": algorithm, \n",
    "                                               \"method\": method, \n",
    "                                               \"pred_choice_method\": pred_choice_method, \n",
    "                                               \"input_data\": input_data_version,\n",
    "                                               \"depth\": depth,\n",
    "                                               \"cluster_version\": cluster_version})\n",
    "\n",
    "    \n",
    "    return summarized"
   ]
  },
  {
   "cell_type": "code",
   "execution_count": 16,
   "metadata": {},
   "outputs": [
    {
     "data": {
      "text/html": [
       "<div>\n",
       "<style scoped>\n",
       "    .dataframe tbody tr th:only-of-type {\n",
       "        vertical-align: middle;\n",
       "    }\n",
       "\n",
       "    .dataframe tbody tr th {\n",
       "        vertical-align: top;\n",
       "    }\n",
       "\n",
       "    .dataframe thead th {\n",
       "        text-align: right;\n",
       "    }\n",
       "</style>\n",
       "<table border=\"1\" class=\"dataframe\">\n",
       "  <thead>\n",
       "    <tr style=\"text-align: right;\">\n",
       "      <th></th>\n",
       "      <th>index</th>\n",
       "      <th>acc</th>\n",
       "      <th>algorithm</th>\n",
       "      <th>cluster_version</th>\n",
       "      <th>depth</th>\n",
       "      <th>input_data</th>\n",
       "      <th>mad</th>\n",
       "      <th>method</th>\n",
       "      <th>pred_choice_method</th>\n",
       "    </tr>\n",
       "  </thead>\n",
       "  <tbody>\n",
       "    <tr>\n",
       "      <th>0</th>\n",
       "      <td>0</td>\n",
       "      <td>0.277</td>\n",
       "      <td>markov</td>\n",
       "      <td>each_one_by_itself</td>\n",
       "      <td>na</td>\n",
       "      <td>0.1.categ_v1</td>\n",
       "      <td>0.098</td>\n",
       "      <td>cluster</td>\n",
       "      <td>na</td>\n",
       "    </tr>\n",
       "    <tr>\n",
       "      <th>1</th>\n",
       "      <td>1</td>\n",
       "      <td>0.083</td>\n",
       "      <td>markov</td>\n",
       "      <td>all_vs_one</td>\n",
       "      <td>na</td>\n",
       "      <td>0.1.categ_v1</td>\n",
       "      <td>0.027</td>\n",
       "      <td>cluster</td>\n",
       "      <td>na</td>\n",
       "    </tr>\n",
       "    <tr>\n",
       "      <th>2</th>\n",
       "      <td>2</td>\n",
       "      <td>0.091</td>\n",
       "      <td>markov</td>\n",
       "      <td>all_vs_tireless_its</td>\n",
       "      <td>na</td>\n",
       "      <td>0.1.categ_v1</td>\n",
       "      <td>0.020</td>\n",
       "      <td>cluster</td>\n",
       "      <td>na</td>\n",
       "    </tr>\n",
       "    <tr>\n",
       "      <th>3</th>\n",
       "      <td>3</td>\n",
       "      <td>0.105</td>\n",
       "      <td>markov</td>\n",
       "      <td>all_vs_early_birds</td>\n",
       "      <td>na</td>\n",
       "      <td>0.1.categ_v1</td>\n",
       "      <td>0.030</td>\n",
       "      <td>cluster</td>\n",
       "      <td>na</td>\n",
       "    </tr>\n",
       "    <tr>\n",
       "      <th>4</th>\n",
       "      <td>4</td>\n",
       "      <td>0.070</td>\n",
       "      <td>markov</td>\n",
       "      <td>all_vs_night_owls</td>\n",
       "      <td>na</td>\n",
       "      <td>0.1.categ_v1</td>\n",
       "      <td>0.059</td>\n",
       "      <td>cluster</td>\n",
       "      <td>na</td>\n",
       "    </tr>\n",
       "    <tr>\n",
       "      <th>5</th>\n",
       "      <td>5</td>\n",
       "      <td>0.294</td>\n",
       "      <td>markov</td>\n",
       "      <td>extreme_trav_each_one_by_itself</td>\n",
       "      <td>na</td>\n",
       "      <td>0.1.categ_v1</td>\n",
       "      <td>0.124</td>\n",
       "      <td>cluster</td>\n",
       "      <td>na</td>\n",
       "    </tr>\n",
       "    <tr>\n",
       "      <th>6</th>\n",
       "      <td>6</td>\n",
       "      <td>0.068</td>\n",
       "      <td>markov</td>\n",
       "      <td>cluster_night_owls</td>\n",
       "      <td>na</td>\n",
       "      <td>0.1.categ_v1</td>\n",
       "      <td>0.042</td>\n",
       "      <td>cluster</td>\n",
       "      <td>na</td>\n",
       "    </tr>\n",
       "    <tr>\n",
       "      <th>7</th>\n",
       "      <td>7</td>\n",
       "      <td>0.109</td>\n",
       "      <td>markov</td>\n",
       "      <td>cluster_tireless_its</td>\n",
       "      <td>na</td>\n",
       "      <td>0.1.categ_v1</td>\n",
       "      <td>0.017</td>\n",
       "      <td>cluster</td>\n",
       "      <td>na</td>\n",
       "    </tr>\n",
       "    <tr>\n",
       "      <th>8</th>\n",
       "      <td>8</td>\n",
       "      <td>0.102</td>\n",
       "      <td>markov</td>\n",
       "      <td>cluster_early_birds</td>\n",
       "      <td>na</td>\n",
       "      <td>0.1.categ_v1</td>\n",
       "      <td>0.048</td>\n",
       "      <td>cluster</td>\n",
       "      <td>na</td>\n",
       "    </tr>\n",
       "    <tr>\n",
       "      <th>9</th>\n",
       "      <td>9</td>\n",
       "      <td>0.374</td>\n",
       "      <td>markov</td>\n",
       "      <td>each_one_by_itself</td>\n",
       "      <td>na</td>\n",
       "      <td>0.1.categ_v1_filtered_30min</td>\n",
       "      <td>0.112</td>\n",
       "      <td>cluster</td>\n",
       "      <td>na</td>\n",
       "    </tr>\n",
       "    <tr>\n",
       "      <th>10</th>\n",
       "      <td>10</td>\n",
       "      <td>0.099</td>\n",
       "      <td>markov</td>\n",
       "      <td>all_vs_one</td>\n",
       "      <td>na</td>\n",
       "      <td>0.1.categ_v1_filtered_30min</td>\n",
       "      <td>0.054</td>\n",
       "      <td>cluster</td>\n",
       "      <td>na</td>\n",
       "    </tr>\n",
       "    <tr>\n",
       "      <th>11</th>\n",
       "      <td>11</td>\n",
       "      <td>0.125</td>\n",
       "      <td>markov</td>\n",
       "      <td>all_vs_tireless_its</td>\n",
       "      <td>na</td>\n",
       "      <td>0.1.categ_v1_filtered_30min</td>\n",
       "      <td>0.037</td>\n",
       "      <td>cluster</td>\n",
       "      <td>na</td>\n",
       "    </tr>\n",
       "    <tr>\n",
       "      <th>12</th>\n",
       "      <td>12</td>\n",
       "      <td>0.149</td>\n",
       "      <td>markov</td>\n",
       "      <td>all_vs_early_birds</td>\n",
       "      <td>na</td>\n",
       "      <td>0.1.categ_v1_filtered_30min</td>\n",
       "      <td>0.068</td>\n",
       "      <td>cluster</td>\n",
       "      <td>na</td>\n",
       "    </tr>\n",
       "    <tr>\n",
       "      <th>13</th>\n",
       "      <td>13</td>\n",
       "      <td>0.000</td>\n",
       "      <td>markov</td>\n",
       "      <td>all_vs_night_owls</td>\n",
       "      <td>na</td>\n",
       "      <td>0.1.categ_v1_filtered_30min</td>\n",
       "      <td>0.077</td>\n",
       "      <td>cluster</td>\n",
       "      <td>na</td>\n",
       "    </tr>\n",
       "    <tr>\n",
       "      <th>14</th>\n",
       "      <td>14</td>\n",
       "      <td>0.385</td>\n",
       "      <td>markov</td>\n",
       "      <td>extreme_trav_each_one_by_itself</td>\n",
       "      <td>na</td>\n",
       "      <td>0.1.categ_v1_filtered_30min</td>\n",
       "      <td>0.156</td>\n",
       "      <td>cluster</td>\n",
       "      <td>na</td>\n",
       "    </tr>\n",
       "    <tr>\n",
       "      <th>15</th>\n",
       "      <td>15</td>\n",
       "      <td>0.083</td>\n",
       "      <td>markov</td>\n",
       "      <td>cluster_night_owls</td>\n",
       "      <td>na</td>\n",
       "      <td>0.1.categ_v1_filtered_30min</td>\n",
       "      <td>0.078</td>\n",
       "      <td>cluster</td>\n",
       "      <td>na</td>\n",
       "    </tr>\n",
       "    <tr>\n",
       "      <th>16</th>\n",
       "      <td>16</td>\n",
       "      <td>0.145</td>\n",
       "      <td>markov</td>\n",
       "      <td>cluster_tireless_its</td>\n",
       "      <td>na</td>\n",
       "      <td>0.1.categ_v1_filtered_30min</td>\n",
       "      <td>0.044</td>\n",
       "      <td>cluster</td>\n",
       "      <td>na</td>\n",
       "    </tr>\n",
       "    <tr>\n",
       "      <th>17</th>\n",
       "      <td>17</td>\n",
       "      <td>0.209</td>\n",
       "      <td>markov</td>\n",
       "      <td>cluster_early_birds</td>\n",
       "      <td>na</td>\n",
       "      <td>0.1.categ_v1_filtered_30min</td>\n",
       "      <td>0.108</td>\n",
       "      <td>cluster</td>\n",
       "      <td>na</td>\n",
       "    </tr>\n",
       "  </tbody>\n",
       "</table>\n",
       "</div>"
      ],
      "text/plain": [
       "    index   acc algorithm                  cluster_version depth  \\\n",
       "0       0 0.277    markov               each_one_by_itself    na   \n",
       "1       1 0.083    markov                       all_vs_one    na   \n",
       "2       2 0.091    markov              all_vs_tireless_its    na   \n",
       "3       3 0.105    markov               all_vs_early_birds    na   \n",
       "4       4 0.070    markov                all_vs_night_owls    na   \n",
       "5       5 0.294    markov  extreme_trav_each_one_by_itself    na   \n",
       "6       6 0.068    markov               cluster_night_owls    na   \n",
       "7       7 0.109    markov             cluster_tireless_its    na   \n",
       "8       8 0.102    markov              cluster_early_birds    na   \n",
       "9       9 0.374    markov               each_one_by_itself    na   \n",
       "10     10 0.099    markov                       all_vs_one    na   \n",
       "11     11 0.125    markov              all_vs_tireless_its    na   \n",
       "12     12 0.149    markov               all_vs_early_birds    na   \n",
       "13     13 0.000    markov                all_vs_night_owls    na   \n",
       "14     14 0.385    markov  extreme_trav_each_one_by_itself    na   \n",
       "15     15 0.083    markov               cluster_night_owls    na   \n",
       "16     16 0.145    markov             cluster_tireless_its    na   \n",
       "17     17 0.209    markov              cluster_early_birds    na   \n",
       "\n",
       "                     input_data   mad   method pred_choice_method  \n",
       "0                  0.1.categ_v1 0.098  cluster                 na  \n",
       "1                  0.1.categ_v1 0.027  cluster                 na  \n",
       "2                  0.1.categ_v1 0.020  cluster                 na  \n",
       "3                  0.1.categ_v1 0.030  cluster                 na  \n",
       "4                  0.1.categ_v1 0.059  cluster                 na  \n",
       "5                  0.1.categ_v1 0.124  cluster                 na  \n",
       "6                  0.1.categ_v1 0.042  cluster                 na  \n",
       "7                  0.1.categ_v1 0.017  cluster                 na  \n",
       "8                  0.1.categ_v1 0.048  cluster                 na  \n",
       "9   0.1.categ_v1_filtered_30min 0.112  cluster                 na  \n",
       "10  0.1.categ_v1_filtered_30min 0.054  cluster                 na  \n",
       "11  0.1.categ_v1_filtered_30min 0.037  cluster                 na  \n",
       "12  0.1.categ_v1_filtered_30min 0.068  cluster                 na  \n",
       "13  0.1.categ_v1_filtered_30min 0.077  cluster                 na  \n",
       "14  0.1.categ_v1_filtered_30min 0.156  cluster                 na  \n",
       "15  0.1.categ_v1_filtered_30min 0.078  cluster                 na  \n",
       "16  0.1.categ_v1_filtered_30min 0.044  cluster                 na  \n",
       "17  0.1.categ_v1_filtered_30min 0.108  cluster                 na  "
      ]
     },
     "execution_count": 16,
     "metadata": {},
     "output_type": "execute_result"
    }
   ],
   "source": [
    "results_df = pd.DataFrame(summary_results(r))\n",
    "results_df = results_df[~results_df[\"acc\"].isna()]\n",
    "results_df.reset_index()"
   ]
  },
  {
   "cell_type": "code",
   "execution_count": 17,
   "metadata": {},
   "outputs": [],
   "source": [
    "results_df[\"id\"] = results_df[\"cluster_version\"] + \" : \" + results_df[\"input_data\"]"
   ]
  },
  {
   "cell_type": "code",
   "execution_count": 18,
   "metadata": {},
   "outputs": [],
   "source": [
    "results_01_categ_05min = results_df[results_df[\"input_data\"] == \"0.1.categ_v1\"]\n",
    "results_01_categ_05min = results_01_categ_05min.set_index(\"cluster_version\", drop=False)"
   ]
  },
  {
   "cell_type": "code",
   "execution_count": 19,
   "metadata": {},
   "outputs": [],
   "source": [
    "results_01_categ_15min = results_df[results_df[\"input_data\"] == \"0.1.categ_v1_filtered_15min\"]\n",
    "results_01_categ_15min = results_01_categ_15min.set_index(\"cluster_version\", drop=False)"
   ]
  },
  {
   "cell_type": "code",
   "execution_count": 20,
   "metadata": {},
   "outputs": [],
   "source": [
    "results_01_categ_30min = results_df[results_df[\"input_data\"] == \"0.1.categ_v1_filtered_30min\"]\n",
    "results_01_categ_30min = results_01_categ_30min.set_index(\"cluster_version\", drop=False)"
   ]
  },
  {
   "cell_type": "code",
   "execution_count": 21,
   "metadata": {},
   "outputs": [],
   "source": [
    "comparison = {\n",
    "              'early_birds': ['all_vs_early_birds', 'cluster_early_birds'],\n",
    "              'night_owls': ['all_vs_night_owls', 'cluster_night_owls'],\n",
    "              'tireless_its': ['all_vs_tireless_its', 'cluster_tireless_its'],\n",
    "              'others': ['all_vs_one', 'each_one_by_itself', 'extreme_trav_each_one_by_itself']\n",
    "             }"
   ]
  },
  {
   "cell_type": "code",
   "execution_count": 22,
   "metadata": {},
   "outputs": [],
   "source": [
    "def comparison_index_order(comparison_dict, on_colname, df):\n",
    "    order = []\n",
    "    \n",
    "    for group in comparison_dict.keys():\n",
    "        for execution_tag in comparison_dict[group]:\n",
    "            i = df[df[on_colname] == execution_tag].index.item()\n",
    "            order.append(i)\n",
    "\n",
    "    return order"
   ]
  },
  {
   "cell_type": "code",
   "execution_count": 25,
   "metadata": {},
   "outputs": [
    {
     "name": "stdout",
     "output_type": "stream",
     "text": [
      "Empty DataFrame\n",
      "Columns: [acc, algorithm, cluster_version, depth, input_data, mad, method, pred_choice_method, id]\n",
      "Index: []\n"
     ]
    },
    {
     "ename": "ValueError",
     "evalue": "can only convert an array of size 1 to a Python scalar",
     "output_type": "error",
     "traceback": [
      "\u001b[0;31m---------------------------------------------------------------------------\u001b[0m",
      "\u001b[0;31mValueError\u001b[0m                                Traceback (most recent call last)",
      "\u001b[0;32m<ipython-input-25-ce5b2cb740b8>\u001b[0m in \u001b[0;36m<module>\u001b[0;34m()\u001b[0m\n\u001b[1;32m      2\u001b[0m \u001b[0mprint\u001b[0m\u001b[0;34m(\u001b[0m\u001b[0mresults_01_categ_15min\u001b[0m\u001b[0;34m)\u001b[0m\u001b[0;34m\u001b[0m\u001b[0m\n\u001b[1;32m      3\u001b[0m \u001b[0;34m\u001b[0m\u001b[0m\n\u001b[0;32m----> 4\u001b[0;31m \u001b[0morder_i_15min\u001b[0m \u001b[0;34m=\u001b[0m \u001b[0mcomparison_index_order\u001b[0m\u001b[0;34m(\u001b[0m\u001b[0mcomparison\u001b[0m\u001b[0;34m,\u001b[0m \u001b[0mon_colname\u001b[0m\u001b[0;34m=\u001b[0m\u001b[0;34m\"cluster_version\"\u001b[0m\u001b[0;34m,\u001b[0m \u001b[0mdf\u001b[0m\u001b[0;34m=\u001b[0m\u001b[0mresults_01_categ_15min\u001b[0m\u001b[0;34m)\u001b[0m\u001b[0;34m\u001b[0m\u001b[0m\n\u001b[0m\u001b[1;32m      5\u001b[0m \u001b[0morder_i_30min\u001b[0m \u001b[0;34m=\u001b[0m \u001b[0mcomparison_index_order\u001b[0m\u001b[0;34m(\u001b[0m\u001b[0mcomparison\u001b[0m\u001b[0;34m,\u001b[0m \u001b[0mon_colname\u001b[0m\u001b[0;34m=\u001b[0m\u001b[0;34m\"cluster_version\"\u001b[0m\u001b[0;34m,\u001b[0m \u001b[0mdf\u001b[0m\u001b[0;34m=\u001b[0m\u001b[0mresults_01_categ_30min\u001b[0m\u001b[0;34m)\u001b[0m\u001b[0;34m\u001b[0m\u001b[0m\n",
      "\u001b[0;32m<ipython-input-22-db84e1608a7a>\u001b[0m in \u001b[0;36mcomparison_index_order\u001b[0;34m(comparison_dict, on_colname, df)\u001b[0m\n\u001b[1;32m      4\u001b[0m     \u001b[0;32mfor\u001b[0m \u001b[0mgroup\u001b[0m \u001b[0;32min\u001b[0m \u001b[0mcomparison_dict\u001b[0m\u001b[0;34m.\u001b[0m\u001b[0mkeys\u001b[0m\u001b[0;34m(\u001b[0m\u001b[0;34m)\u001b[0m\u001b[0;34m:\u001b[0m\u001b[0;34m\u001b[0m\u001b[0m\n\u001b[1;32m      5\u001b[0m         \u001b[0;32mfor\u001b[0m \u001b[0mexecution_tag\u001b[0m \u001b[0;32min\u001b[0m \u001b[0mcomparison_dict\u001b[0m\u001b[0;34m[\u001b[0m\u001b[0mgroup\u001b[0m\u001b[0;34m]\u001b[0m\u001b[0;34m:\u001b[0m\u001b[0;34m\u001b[0m\u001b[0m\n\u001b[0;32m----> 6\u001b[0;31m             \u001b[0mi\u001b[0m \u001b[0;34m=\u001b[0m \u001b[0mdf\u001b[0m\u001b[0;34m[\u001b[0m\u001b[0mdf\u001b[0m\u001b[0;34m[\u001b[0m\u001b[0mon_colname\u001b[0m\u001b[0;34m]\u001b[0m \u001b[0;34m==\u001b[0m \u001b[0mexecution_tag\u001b[0m\u001b[0;34m]\u001b[0m\u001b[0;34m.\u001b[0m\u001b[0mindex\u001b[0m\u001b[0;34m.\u001b[0m\u001b[0mitem\u001b[0m\u001b[0;34m(\u001b[0m\u001b[0;34m)\u001b[0m\u001b[0;34m\u001b[0m\u001b[0m\n\u001b[0m\u001b[1;32m      7\u001b[0m             \u001b[0morder\u001b[0m\u001b[0;34m.\u001b[0m\u001b[0mappend\u001b[0m\u001b[0;34m(\u001b[0m\u001b[0mi\u001b[0m\u001b[0;34m)\u001b[0m\u001b[0;34m\u001b[0m\u001b[0m\n\u001b[1;32m      8\u001b[0m \u001b[0;34m\u001b[0m\u001b[0m\n",
      "\u001b[0;32m~/anaconda3/lib/python3.6/site-packages/pandas/core/base.py\u001b[0m in \u001b[0;36mitem\u001b[0;34m(self)\u001b[0m\n\u001b[1;32m    717\u001b[0m         \"\"\"\n\u001b[1;32m    718\u001b[0m         \u001b[0;32mtry\u001b[0m\u001b[0;34m:\u001b[0m\u001b[0;34m\u001b[0m\u001b[0m\n\u001b[0;32m--> 719\u001b[0;31m             \u001b[0;32mreturn\u001b[0m \u001b[0mself\u001b[0m\u001b[0;34m.\u001b[0m\u001b[0mvalues\u001b[0m\u001b[0;34m.\u001b[0m\u001b[0mitem\u001b[0m\u001b[0;34m(\u001b[0m\u001b[0;34m)\u001b[0m\u001b[0;34m\u001b[0m\u001b[0m\n\u001b[0m\u001b[1;32m    720\u001b[0m         \u001b[0;32mexcept\u001b[0m \u001b[0mIndexError\u001b[0m\u001b[0;34m:\u001b[0m\u001b[0;34m\u001b[0m\u001b[0m\n\u001b[1;32m    721\u001b[0m             \u001b[0;31m# copy numpy's message here because Py26 raises an IndexError\u001b[0m\u001b[0;34m\u001b[0m\u001b[0;34m\u001b[0m\u001b[0m\n",
      "\u001b[0;31mValueError\u001b[0m: can only convert an array of size 1 to a Python scalar"
     ]
    }
   ],
   "source": [
    "order_i_05min = comparison_index_order(comparison, on_colname=\"cluster_version\", df=results_01_categ_05min)\n",
    "order_i_15min = comparison_index_order(comparison, on_colname=\"cluster_version\", df=results_01_categ_15min)\n",
    "order_i_30min = comparison_index_order(comparison, on_colname=\"cluster_version\", df=results_01_categ_30min)"
   ]
  },
  {
   "cell_type": "code",
   "execution_count": 26,
   "metadata": {},
   "outputs": [
    {
     "data": {
      "text/html": [
       "<div>\n",
       "<style scoped>\n",
       "    .dataframe tbody tr th:only-of-type {\n",
       "        vertical-align: middle;\n",
       "    }\n",
       "\n",
       "    .dataframe tbody tr th {\n",
       "        vertical-align: top;\n",
       "    }\n",
       "\n",
       "    .dataframe thead th {\n",
       "        text-align: right;\n",
       "    }\n",
       "</style>\n",
       "<table border=\"1\" class=\"dataframe\">\n",
       "  <thead>\n",
       "    <tr style=\"text-align: right;\">\n",
       "      <th></th>\n",
       "      <th>acc</th>\n",
       "      <th>algorithm</th>\n",
       "      <th>cluster_version</th>\n",
       "      <th>depth</th>\n",
       "      <th>input_data</th>\n",
       "      <th>mad</th>\n",
       "      <th>method</th>\n",
       "      <th>pred_choice_method</th>\n",
       "      <th>id</th>\n",
       "    </tr>\n",
       "    <tr>\n",
       "      <th>cluster_version</th>\n",
       "      <th></th>\n",
       "      <th></th>\n",
       "      <th></th>\n",
       "      <th></th>\n",
       "      <th></th>\n",
       "      <th></th>\n",
       "      <th></th>\n",
       "      <th></th>\n",
       "      <th></th>\n",
       "    </tr>\n",
       "  </thead>\n",
       "  <tbody>\n",
       "    <tr>\n",
       "      <th>each_one_by_itself</th>\n",
       "      <td>0.277</td>\n",
       "      <td>markov</td>\n",
       "      <td>each_one_by_itself</td>\n",
       "      <td>na</td>\n",
       "      <td>0.1.categ_v1</td>\n",
       "      <td>0.098</td>\n",
       "      <td>cluster</td>\n",
       "      <td>na</td>\n",
       "      <td>each_one_by_itself : 0.1.categ_v1</td>\n",
       "    </tr>\n",
       "    <tr>\n",
       "      <th>all_vs_one</th>\n",
       "      <td>0.083</td>\n",
       "      <td>markov</td>\n",
       "      <td>all_vs_one</td>\n",
       "      <td>na</td>\n",
       "      <td>0.1.categ_v1</td>\n",
       "      <td>0.027</td>\n",
       "      <td>cluster</td>\n",
       "      <td>na</td>\n",
       "      <td>all_vs_one : 0.1.categ_v1</td>\n",
       "    </tr>\n",
       "    <tr>\n",
       "      <th>all_vs_tireless_its</th>\n",
       "      <td>0.091</td>\n",
       "      <td>markov</td>\n",
       "      <td>all_vs_tireless_its</td>\n",
       "      <td>na</td>\n",
       "      <td>0.1.categ_v1</td>\n",
       "      <td>0.020</td>\n",
       "      <td>cluster</td>\n",
       "      <td>na</td>\n",
       "      <td>all_vs_tireless_its : 0.1.categ_v1</td>\n",
       "    </tr>\n",
       "    <tr>\n",
       "      <th>all_vs_early_birds</th>\n",
       "      <td>0.105</td>\n",
       "      <td>markov</td>\n",
       "      <td>all_vs_early_birds</td>\n",
       "      <td>na</td>\n",
       "      <td>0.1.categ_v1</td>\n",
       "      <td>0.030</td>\n",
       "      <td>cluster</td>\n",
       "      <td>na</td>\n",
       "      <td>all_vs_early_birds : 0.1.categ_v1</td>\n",
       "    </tr>\n",
       "    <tr>\n",
       "      <th>all_vs_night_owls</th>\n",
       "      <td>0.070</td>\n",
       "      <td>markov</td>\n",
       "      <td>all_vs_night_owls</td>\n",
       "      <td>na</td>\n",
       "      <td>0.1.categ_v1</td>\n",
       "      <td>0.059</td>\n",
       "      <td>cluster</td>\n",
       "      <td>na</td>\n",
       "      <td>all_vs_night_owls : 0.1.categ_v1</td>\n",
       "    </tr>\n",
       "    <tr>\n",
       "      <th>extreme_trav_each_one_by_itself</th>\n",
       "      <td>0.294</td>\n",
       "      <td>markov</td>\n",
       "      <td>extreme_trav_each_one_by_itself</td>\n",
       "      <td>na</td>\n",
       "      <td>0.1.categ_v1</td>\n",
       "      <td>0.124</td>\n",
       "      <td>cluster</td>\n",
       "      <td>na</td>\n",
       "      <td>extreme_trav_each_one_by_itself : 0.1.categ_v1</td>\n",
       "    </tr>\n",
       "    <tr>\n",
       "      <th>cluster_night_owls</th>\n",
       "      <td>0.068</td>\n",
       "      <td>markov</td>\n",
       "      <td>cluster_night_owls</td>\n",
       "      <td>na</td>\n",
       "      <td>0.1.categ_v1</td>\n",
       "      <td>0.042</td>\n",
       "      <td>cluster</td>\n",
       "      <td>na</td>\n",
       "      <td>cluster_night_owls : 0.1.categ_v1</td>\n",
       "    </tr>\n",
       "    <tr>\n",
       "      <th>cluster_tireless_its</th>\n",
       "      <td>0.109</td>\n",
       "      <td>markov</td>\n",
       "      <td>cluster_tireless_its</td>\n",
       "      <td>na</td>\n",
       "      <td>0.1.categ_v1</td>\n",
       "      <td>0.017</td>\n",
       "      <td>cluster</td>\n",
       "      <td>na</td>\n",
       "      <td>cluster_tireless_its : 0.1.categ_v1</td>\n",
       "    </tr>\n",
       "    <tr>\n",
       "      <th>cluster_early_birds</th>\n",
       "      <td>0.102</td>\n",
       "      <td>markov</td>\n",
       "      <td>cluster_early_birds</td>\n",
       "      <td>na</td>\n",
       "      <td>0.1.categ_v1</td>\n",
       "      <td>0.048</td>\n",
       "      <td>cluster</td>\n",
       "      <td>na</td>\n",
       "      <td>cluster_early_birds : 0.1.categ_v1</td>\n",
       "    </tr>\n",
       "  </tbody>\n",
       "</table>\n",
       "</div>"
      ],
      "text/plain": [
       "                                  acc algorithm  \\\n",
       "cluster_version                                   \n",
       "each_one_by_itself              0.277    markov   \n",
       "all_vs_one                      0.083    markov   \n",
       "all_vs_tireless_its             0.091    markov   \n",
       "all_vs_early_birds              0.105    markov   \n",
       "all_vs_night_owls               0.070    markov   \n",
       "extreme_trav_each_one_by_itself 0.294    markov   \n",
       "cluster_night_owls              0.068    markov   \n",
       "cluster_tireless_its            0.109    markov   \n",
       "cluster_early_birds             0.102    markov   \n",
       "\n",
       "                                                 cluster_version depth  \\\n",
       "cluster_version                                                          \n",
       "each_one_by_itself                            each_one_by_itself    na   \n",
       "all_vs_one                                            all_vs_one    na   \n",
       "all_vs_tireless_its                          all_vs_tireless_its    na   \n",
       "all_vs_early_birds                            all_vs_early_birds    na   \n",
       "all_vs_night_owls                              all_vs_night_owls    na   \n",
       "extreme_trav_each_one_by_itself  extreme_trav_each_one_by_itself    na   \n",
       "cluster_night_owls                            cluster_night_owls    na   \n",
       "cluster_tireless_its                        cluster_tireless_its    na   \n",
       "cluster_early_birds                          cluster_early_birds    na   \n",
       "\n",
       "                                   input_data   mad   method  \\\n",
       "cluster_version                                                \n",
       "each_one_by_itself               0.1.categ_v1 0.098  cluster   \n",
       "all_vs_one                       0.1.categ_v1 0.027  cluster   \n",
       "all_vs_tireless_its              0.1.categ_v1 0.020  cluster   \n",
       "all_vs_early_birds               0.1.categ_v1 0.030  cluster   \n",
       "all_vs_night_owls                0.1.categ_v1 0.059  cluster   \n",
       "extreme_trav_each_one_by_itself  0.1.categ_v1 0.124  cluster   \n",
       "cluster_night_owls               0.1.categ_v1 0.042  cluster   \n",
       "cluster_tireless_its             0.1.categ_v1 0.017  cluster   \n",
       "cluster_early_birds              0.1.categ_v1 0.048  cluster   \n",
       "\n",
       "                                pred_choice_method  \\\n",
       "cluster_version                                      \n",
       "each_one_by_itself                              na   \n",
       "all_vs_one                                      na   \n",
       "all_vs_tireless_its                             na   \n",
       "all_vs_early_birds                              na   \n",
       "all_vs_night_owls                               na   \n",
       "extreme_trav_each_one_by_itself                 na   \n",
       "cluster_night_owls                              na   \n",
       "cluster_tireless_its                            na   \n",
       "cluster_early_birds                             na   \n",
       "\n",
       "                                                                             id  \n",
       "cluster_version                                                                  \n",
       "each_one_by_itself                            each_one_by_itself : 0.1.categ_v1  \n",
       "all_vs_one                                            all_vs_one : 0.1.categ_v1  \n",
       "all_vs_tireless_its                          all_vs_tireless_its : 0.1.categ_v1  \n",
       "all_vs_early_birds                            all_vs_early_birds : 0.1.categ_v1  \n",
       "all_vs_night_owls                              all_vs_night_owls : 0.1.categ_v1  \n",
       "extreme_trav_each_one_by_itself  extreme_trav_each_one_by_itself : 0.1.categ_v1  \n",
       "cluster_night_owls                            cluster_night_owls : 0.1.categ_v1  \n",
       "cluster_tireless_its                        cluster_tireless_its : 0.1.categ_v1  \n",
       "cluster_early_birds                          cluster_early_birds : 0.1.categ_v1  "
      ]
     },
     "execution_count": 26,
     "metadata": {},
     "output_type": "execute_result"
    }
   ],
   "source": [
    "results_01_categ_05min"
   ]
  },
  {
   "cell_type": "markdown",
   "metadata": {},
   "source": [
    "# Accuracy - Single Partition"
   ]
  },
  {
   "cell_type": "code",
   "execution_count": 27,
   "metadata": {},
   "outputs": [],
   "source": [
    "my_colors = [Category20c[20][0], Category20c[20][1], Category20c[20][2],\n",
    "          Category20c[20][4], Category20c[20][5], Category20c[20][6],\n",
    "          Category20c[20][8], Category20c[20][9], Category20c[20][10], Category20c[20][10]]"
   ]
  },
  {
   "cell_type": "markdown",
   "metadata": {},
   "source": [
    "## categ_v1"
   ]
  },
  {
   "cell_type": "markdown",
   "metadata": {},
   "source": [
    "### Stop Region Stay Time: <font color=\"red\">5 minutes</font>"
   ]
  },
  {
   "cell_type": "code",
   "execution_count": null,
   "metadata": {},
   "outputs": [],
   "source": [
    "results_01_categ_05min.loc[order_i_05min[0:2]][\"acc\"].plot.bar(title=\"Accuracy on Early Birds - SR 5 mins\")"
   ]
  },
  {
   "cell_type": "code",
   "execution_count": null,
   "metadata": {},
   "outputs": [],
   "source": [
    "results_01_categ_05min.loc[order_i_05min[2:4]][\"acc\"].plot.bar(title=\"Accuracy on Night Owls - SR 5 mins\")"
   ]
  },
  {
   "cell_type": "code",
   "execution_count": null,
   "metadata": {},
   "outputs": [],
   "source": [
    "results_01_categ_05min.loc[order_i_05min[4:6]][\"acc\"].plot.bar(title=\"Accuracy on Tireless Itinerants - SR 5 mins\")"
   ]
  },
  {
   "cell_type": "code",
   "execution_count": null,
   "metadata": {},
   "outputs": [],
   "source": [
    "f, ax = plt.subplots(figsize=(12,5))\n",
    "results_01_categ_05min.loc[order_i_05min][\"acc\"].plot.bar(title=\"Accuracy medians - SR 5 mins\")"
   ]
  },
  {
   "cell_type": "markdown",
   "metadata": {},
   "source": [
    "### Stop Region Stay Time: <font color=\"red\">15 minutes</font>"
   ]
  },
  {
   "cell_type": "code",
   "execution_count": null,
   "metadata": {},
   "outputs": [],
   "source": [
    "results_01_categ_15min.loc[order_i_15min[0:2]][\"acc\"].plot.bar(title=\"Accuracy on Early Birds - SR 15 mins\")"
   ]
  },
  {
   "cell_type": "code",
   "execution_count": null,
   "metadata": {},
   "outputs": [],
   "source": [
    "results_01_categ_15min.loc[order_i_15min[2:4]][\"acc\"].plot.bar(title=\"Accuracy on Night Owls - SR 15 mins\")"
   ]
  },
  {
   "cell_type": "code",
   "execution_count": null,
   "metadata": {},
   "outputs": [],
   "source": [
    "results_01_categ_15min.loc[order_i_15min[0:2]][\"acc\"].plot.bar(title=\"Accuracy on Early Birds - SR 15 mins\")"
   ]
  },
  {
   "cell_type": "code",
   "execution_count": null,
   "metadata": {},
   "outputs": [],
   "source": [
    "f, ax = plt.subplots(figsize=(12,5))\n",
    "results_01_categ_15min.loc[order_i_15min][\"acc\"].plot.bar(title=\"Accuracy medians - SR 15 mins\")"
   ]
  },
  {
   "cell_type": "markdown",
   "metadata": {},
   "source": [
    "### Stop Region Stay Time: <font color=\"red\">30 minutes</font>"
   ]
  },
  {
   "cell_type": "code",
   "execution_count": null,
   "metadata": {},
   "outputs": [],
   "source": [
    "results_01_categ_30min.loc[order_i_30min[0:2]][\"acc\"].plot.bar(title=\"Accuracy on Early Birds - SR 30 mins\")"
   ]
  },
  {
   "cell_type": "code",
   "execution_count": null,
   "metadata": {},
   "outputs": [],
   "source": [
    "results_01_categ_30min.loc[order_i_30min[2:4]][\"acc\"].plot.bar(title=\"Accuracy on Night Owls - SR 30 mins\")"
   ]
  },
  {
   "cell_type": "code",
   "execution_count": null,
   "metadata": {},
   "outputs": [],
   "source": [
    "results_01_categ_05min.loc[order_i_05min[4:6]][\"acc\"].plot.bar(title=\"Accuracy on Tireless Itinerants - SR 30 mins\")"
   ]
  },
  {
   "cell_type": "code",
   "execution_count": null,
   "metadata": {},
   "outputs": [],
   "source": [
    "f, ax = plt.subplots(figsize=(12,5))\n",
    "results_01_categ_30min.loc[order_i_30min][\"acc\"].plot.bar(title=\"Accuracy medians - SR 30 mins\")"
   ]
  },
  {
   "cell_type": "code",
   "execution_count": null,
   "metadata": {},
   "outputs": [],
   "source": []
  },
  {
   "cell_type": "code",
   "execution_count": null,
   "metadata": {},
   "outputs": [],
   "source": []
  },
  {
   "cell_type": "code",
   "execution_count": null,
   "metadata": {},
   "outputs": [],
   "source": []
  },
  {
   "cell_type": "code",
   "execution_count": null,
   "metadata": {},
   "outputs": [],
   "source": []
  }
 ],
 "metadata": {
  "kernelspec": {
   "display_name": "Python 3",
   "language": "python",
   "name": "python3"
  },
  "language_info": {
   "codemirror_mode": {
    "name": "ipython",
    "version": 3
   },
   "file_extension": ".py",
   "mimetype": "text/x-python",
   "name": "python",
   "nbconvert_exporter": "python",
   "pygments_lexer": "ipython3",
   "version": "3.6.4"
  }
 },
 "nbformat": 4,
 "nbformat_minor": 2
}
