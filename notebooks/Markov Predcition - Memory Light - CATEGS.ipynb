{
 "cells": [
  {
   "cell_type": "markdown",
   "metadata": {},
   "source": [
    "# Markov Prediction"
   ]
  },
  {
   "cell_type": "code",
   "execution_count": 1,
   "metadata": {},
   "outputs": [
    {
     "name": "stdout",
     "output_type": "stream",
     "text": [
      "working dir /home/tales/dev/master/mdc_analysis\n"
     ]
    }
   ],
   "source": [
    "import os\n",
    "os.chdir(\"/home/tales/dev/master/mdc_analysis/\")\n",
    "print(\"working dir\", os.getcwd())\n",
    "\n",
    "import src.ml.markov as mk\n",
    "from src.dao import csv_dao\n",
    "from src.entity.stop_region import StopRegionGroup, sr_row_to_stop_region\n",
    "from src.exceptions import exceptions\n",
    "\n",
    "import warnings\n",
    "warnings.simplefilter(action='ignore', category=FutureWarning)\n",
    "\n",
    "import pandas as pd\n",
    "pd.set_option('display.float_format', lambda x: '%.3f' % x)"
   ]
  },
  {
   "cell_type": "markdown",
   "metadata": {},
   "source": [
    "## Loading Data"
   ]
  },
  {
   "cell_type": "code",
   "execution_count": 2,
   "metadata": {},
   "outputs": [],
   "source": [
    "import ast"
   ]
  },
  {
   "cell_type": "code",
   "execution_count": null,
   "metadata": {},
   "outputs": [],
   "source": []
  },
  {
   "cell_type": "code",
   "execution_count": 3,
   "metadata": {},
   "outputs": [],
   "source": [
    "def remove_invalid_types(types):\n",
    "    if 'point_of_interest' in types:\n",
    "        types.remove('point_of_interest')\n",
    "    \n",
    "    if 'establishment' in types:\n",
    "        types.remove('establishment')\n",
    "        \n",
    "    return types"
   ]
  },
  {
   "cell_type": "code",
   "execution_count": 4,
   "metadata": {},
   "outputs": [],
   "source": [
    "categs = csv_dao.load_google_places_pois_categories()\n",
    "categs[\"types\"] = categs[\"types\"].apply(lambda x : remove_invalid_types(ast.literal_eval(x)))"
   ]
  },
  {
   "cell_type": "code",
   "execution_count": 5,
   "metadata": {},
   "outputs": [
    {
     "data": {
      "text/html": [
       "<div>\n",
       "<style scoped>\n",
       "    .dataframe tbody tr th:only-of-type {\n",
       "        vertical-align: middle;\n",
       "    }\n",
       "\n",
       "    .dataframe tbody tr th {\n",
       "        vertical-align: top;\n",
       "    }\n",
       "\n",
       "    .dataframe thead th {\n",
       "        text-align: right;\n",
       "    }\n",
       "</style>\n",
       "<table border=\"1\" class=\"dataframe\">\n",
       "  <thead>\n",
       "    <tr style=\"text-align: right;\">\n",
       "      <th></th>\n",
       "      <th>types</th>\n",
       "      <th>categ</th>\n",
       "    </tr>\n",
       "  </thead>\n",
       "  <tbody>\n",
       "    <tr>\n",
       "      <th>0</th>\n",
       "      <td>['accounting', 'finance', 'local_government_of...</td>\n",
       "      <td>finance</td>\n",
       "    </tr>\n",
       "    <tr>\n",
       "      <th>1</th>\n",
       "      <td>['store']</td>\n",
       "      <td>store</td>\n",
       "    </tr>\n",
       "    <tr>\n",
       "      <th>2</th>\n",
       "      <td>['beauty_salon']</td>\n",
       "      <td>beauty_salon</td>\n",
       "    </tr>\n",
       "    <tr>\n",
       "      <th>3</th>\n",
       "      <td>['health']</td>\n",
       "      <td>health</td>\n",
       "    </tr>\n",
       "    <tr>\n",
       "      <th>4</th>\n",
       "      <td>['finance']</td>\n",
       "      <td>finance</td>\n",
       "    </tr>\n",
       "    <tr>\n",
       "      <th>5</th>\n",
       "      <td>['cafe', 'food']</td>\n",
       "      <td>cafe</td>\n",
       "    </tr>\n",
       "    <tr>\n",
       "      <th>6</th>\n",
       "      <td>['jewelry_store', 'store']</td>\n",
       "      <td>store</td>\n",
       "    </tr>\n",
       "    <tr>\n",
       "      <th>7</th>\n",
       "      <td>['gym', 'health']</td>\n",
       "      <td>health</td>\n",
       "    </tr>\n",
       "    <tr>\n",
       "      <th>8</th>\n",
       "      <td>['clothing_store', 'store']</td>\n",
       "      <td>store</td>\n",
       "    </tr>\n",
       "    <tr>\n",
       "      <th>9</th>\n",
       "      <td>['restaurant', 'food']</td>\n",
       "      <td>restaurant</td>\n",
       "    </tr>\n",
       "  </tbody>\n",
       "</table>\n",
       "</div>"
      ],
      "text/plain": [
       "                                               types         categ\n",
       "0  ['accounting', 'finance', 'local_government_of...       finance\n",
       "1                                          ['store']         store\n",
       "2                                   ['beauty_salon']  beauty_salon\n",
       "3                                         ['health']        health\n",
       "4                                        ['finance']       finance\n",
       "5                                   ['cafe', 'food']          cafe\n",
       "6                         ['jewelry_store', 'store']         store\n",
       "7                                  ['gym', 'health']        health\n",
       "8                        ['clothing_store', 'store']         store\n",
       "9                             ['restaurant', 'food']    restaurant"
      ]
     },
     "execution_count": 5,
     "metadata": {},
     "output_type": "execute_result"
    }
   ],
   "source": [
    "categs[\"types\"] = categs[\"types\"].astype(str)\n",
    "categs = categs[[\"types\", \"categ\"]].drop_duplicates()\n",
    "categs.head(10)"
   ]
  },
  {
   "cell_type": "code",
   "execution_count": 6,
   "metadata": {},
   "outputs": [],
   "source": [
    "def tags_to_category(tags, clean_categs):\n",
    "    if tags == ['WORK'] or tags == ['HOME']:\n",
    "        return tags\n",
    "    tags = str(tags)\n",
    "    \n",
    "    if len(clean_categs[clean_categs[\"types\"] == tags]) == 1:\n",
    "        return [clean_categs[clean_categs[\"types\"] == tags][\"categ\"].item()]\n",
    "    \n",
    "    elif len(clean_categs[clean_categs[\"types\"] == tags]) == 0:\n",
    "        #single tag by single tag \n",
    "        for tag in ast.literal_eval(tags):\n",
    "            single_tag_categ = clean_categs[clean_categs[\"types\"] == str([tag])]\n",
    "            \n",
    "            if len(single_tag_categ) > 0:\n",
    "                return [single_tag_categ[\"categ\"].item()]\n",
    "                \n",
    "    else:\n",
    "        return None \n",
    "    "
   ]
  },
  {
   "cell_type": "code",
   "execution_count": 7,
   "metadata": {},
   "outputs": [],
   "source": [
    "def get_categ(types):\n",
    "    categs[categs[\"types\"] == \"['health', 'point_of_interest', 'establishment']\"]"
   ]
  },
  {
   "cell_type": "code",
   "execution_count": 8,
   "metadata": {
    "scrolled": false
   },
   "outputs": [
    {
     "name": "stdout",
     "output_type": "stream",
     "text": [
      "Loading user 5939 data\n",
      "Loading user 6067 data\n",
      "Loading user 6181 data\n",
      "Loading user 6039 data\n",
      "Loading user 6180 data\n",
      "Loading user 6031 data\n",
      "Loading user 6082 data\n",
      "Loading user 6106 data\n",
      "Loading user 5951 data\n",
      "Loading user 6059 data\n",
      "Loading user 6000 data\n",
      "Loading user 6040 data\n",
      "Loading user 5965 data\n",
      "Loading user 6061 data\n",
      "Loading user 6075 data\n",
      "Loading user 5944 data\n",
      "Loading user 5988 data\n",
      "Loading user 6005 data\n",
      "Loading user 6063 data\n",
      "Loading user 6170 data\n",
      "Loading user 6032 data\n",
      "Loading user 6054 data\n",
      "Loading user 6030 data\n",
      "Loading user 6004 data\n",
      "Loading user 6167 data\n",
      "Loading user 6035 data\n",
      "Loading user 6003 data\n",
      "Loading user 6190 data\n",
      "Loading user 6194 data\n",
      "Loading user 5968 data\n",
      "Loading user 5963 data\n",
      "Loading user 5989 data\n",
      "Loading user 6045 data\n",
      "Loading user 6168 data\n",
      "Loading user 6017 data\n",
      "Loading user 5943 data\n",
      "Loading user 6104 data\n",
      "Loading user 6053 data\n",
      "Loading user 5987 data\n",
      "Loading user 6187 data\n",
      "Loading user 6016 data\n",
      "Loading user 6002 data\n",
      "Loading user 6109 data\n",
      "Loading user 6197 data\n",
      "Loading user 5940 data\n",
      "Loading user 6066 data\n",
      "Loading user 6076 data\n",
      "Loading user 6034 data\n",
      "Loading user 5953 data\n",
      "Loading user 5942 data\n",
      "Loading user 6056 data\n",
      "Loading user 6062 data\n",
      "Loading user 5952 data\n",
      "Loading user 6070 data\n",
      "Loading user 6036 data\n",
      "Loading user 6029 data\n",
      "Loading user 6051 data\n",
      "Loading user 6023 data\n",
      "Loading user 5959 data\n",
      "Loading user 5949 data\n",
      "Loading user 6174 data\n",
      "Loading user 5969 data\n",
      "Loading user 5986 data\n",
      "Loading user 5978 data\n",
      "Loading user 6015 data\n",
      "Loading user 6166 data\n",
      "Loading user 6078 data\n",
      "Loading user 6014 data\n",
      "Loading user 6026 data\n",
      "Loading user 6077 data\n",
      "Loading user 6043 data\n",
      "Loading user 6102 data\n",
      "Loading user 6057 data\n",
      "Loading user 5975 data\n",
      "Loading user 5957 data\n",
      "Loading user 6198 data\n",
      "Loading user 5977 data\n",
      "Loading user 6072 data\n",
      "Loading user 6047 data\n",
      "Loading user 5927 data\n",
      "Loading user 6020 data\n",
      "Loading user 5947 data\n",
      "Loading user 6027 data\n",
      "Loading user 6179 data\n",
      "Loading user 6103 data\n",
      "Loading user 5960 data\n",
      "Loading user 5938 data\n",
      "Loading user 6171 data\n",
      "Loading user 6182 data\n",
      "Loading user 5956 data\n",
      "Loading user 6007 data\n",
      "Loading user 6176 data\n",
      "Loading user 5961 data\n",
      "Loading user 6177 data\n",
      "Loading user 5991 data\n",
      "Loading user 5950 data\n",
      "Loading user 5964 data\n",
      "Loading user 6001 data\n",
      "Loading user 6058 data\n",
      "Loading user 5992 data\n",
      "Loading user 5928 data\n",
      "Loading user 6071 data\n",
      "Loading user 5990 data\n",
      "Loading user 6028 data\n",
      "Loading user 5937 data\n",
      "Loading user 6069 data\n",
      "Loading user 6060 data\n",
      "Loading user 5972 data\n",
      "Loading user 5954 data\n",
      "Loading user 6183 data\n",
      "Loading user 6064 data\n",
      "Loading user 6192 data\n",
      "Loading user 6041 data\n",
      "Loading user 6096 data\n",
      "Loading user 6097 data\n",
      "Loading user 6188 data\n",
      "Loading user 6169 data\n",
      "Loading user 5970 data\n",
      "Loading user 5967 data\n",
      "Loading user 5985 data\n",
      "Loading user 5966 data\n",
      "Loading user 5979 data\n",
      "Loading user 6037 data\n",
      "Loading user 5993 data\n",
      "Loading user 6010 data\n",
      "Loading user 5980 data\n",
      "Loading user 6073 data\n",
      "Loading user 5955 data\n",
      "Loading user 6172 data\n",
      "Loading user 5935 data\n",
      "Loading user 5925 data\n",
      "Loading user 5945 data\n",
      "Loading user 6100 data\n",
      "Loading user 6086 data\n",
      "Loading user 5958 data\n",
      "Loading user 6178 data\n",
      "Loading user 6083 data\n",
      "Loading user 5924 data\n",
      "Loading user 6042 data\n",
      "Loading user 6175 data\n",
      "Loading user 6038 data\n",
      "Loading user 6079 data\n",
      "Loading user 6033 data\n",
      "Loading user 6093 data\n",
      "Loading user 5962 data\n",
      "Loading user 5995 data\n",
      "Loading user 5941 data\n",
      "Loading user 6094 data\n",
      "Loading user 5976 data\n",
      "Loading user 6024 data\n",
      "Loading user 6068 data\n",
      "Loading user 6199 data\n",
      "Loading user 6090 data\n",
      "Loading user 5974 data\n",
      "Loading user 5948 data\n",
      "Loading user 5982 data\n",
      "Loading user 6012 data\n",
      "Loading user 6074 data\n",
      "Loading user 6085 data\n",
      "Loading user 5973 data\n",
      "Loading user 6087 data\n",
      "Loading user 5936 data\n",
      "Loading user 6189 data\n"
     ]
    }
   ],
   "source": [
    "users_tags_sequence = {}\n",
    "\n",
    "users = os.listdir(\"outputs/stop_regions/\")\n",
    "users.reverse()\n",
    "\n",
    "for user_id in users:\n",
    "    print(\"Loading user {} data\".format(user_id))\n",
    "    tags = StopRegionGroup(csv_dao.stop_region_sequence(user_id), \n",
    "                                                    agglutinate_stop_regions=True).sequence_stop_region_tags()[\"tag\"].tolist()\n",
    "    \n",
    "    srg_categs = []\n",
    "    for tag in tags:\n",
    "        categ = tags_to_category(tag, categs)\n",
    "        srg_categs.append(categ)\n",
    "    \n",
    "    users_tags_sequence[user_id] = srg_categs"
   ]
  },
  {
   "cell_type": "markdown",
   "metadata": {},
   "source": [
    "## Evaluation"
   ]
  },
  {
   "cell_type": "code",
   "execution_count": 9,
   "metadata": {
    "scrolled": false
   },
   "outputs": [],
   "source": [
    "from src.experiments.markov_chain import evaluation_markov_k_fold_light_mem, all_users_vs_one_light_mem"
   ]
  },
  {
   "cell_type": "code",
   "execution_count": 10,
   "metadata": {
    "scrolled": true
   },
   "outputs": [
    {
     "name": "stdout",
     "output_type": "stream",
     "text": [
      "5939\n",
      "6067\n",
      "6181\n"
     ]
    },
    {
     "ename": "TypeError",
     "evalue": "'NoneType' object is not iterable",
     "output_type": "error",
     "traceback": [
      "\u001b[0;31m---------------------------------------------------------------------------\u001b[0m",
      "\u001b[0;31mTypeError\u001b[0m                                 Traceback (most recent call last)",
      "\u001b[0;32m<ipython-input-10-42f2952d28ab>\u001b[0m in \u001b[0;36m<module>\u001b[0;34m()\u001b[0m\n\u001b[1;32m      6\u001b[0m     \u001b[0mk\u001b[0m\u001b[0;34m=\u001b[0m\u001b[0;36m5\u001b[0m\u001b[0;34m\u001b[0m\u001b[0m\n\u001b[1;32m      7\u001b[0m     \u001b[0;32mtry\u001b[0m\u001b[0;34m:\u001b[0m\u001b[0;34m\u001b[0m\u001b[0m\n\u001b[0;32m----> 8\u001b[0;31m         \u001b[0mevaluation_markov_k_fold_light_mem\u001b[0m\u001b[0;34m(\u001b[0m\u001b[0mtags_sequence\u001b[0m\u001b[0;34m,\u001b[0m \u001b[0muser_id\u001b[0m\u001b[0;34m=\u001b[0m\u001b[0muser_id\u001b[0m\u001b[0;34m,\u001b[0m \u001b[0mk\u001b[0m\u001b[0;34m=\u001b[0m\u001b[0mk\u001b[0m\u001b[0;34m,\u001b[0m \u001b[0mdistributive_tags\u001b[0m\u001b[0;34m=\u001b[0m\u001b[0;32mFalse\u001b[0m\u001b[0;34m)\u001b[0m\u001b[0;34m\u001b[0m\u001b[0m\n\u001b[0m\u001b[1;32m      9\u001b[0m         \u001b[0mevaluation_markov_k_fold_light_mem\u001b[0m\u001b[0;34m(\u001b[0m\u001b[0mtags_sequence\u001b[0m\u001b[0;34m,\u001b[0m \u001b[0muser_id\u001b[0m\u001b[0;34m=\u001b[0m\u001b[0muser_id\u001b[0m\u001b[0;34m,\u001b[0m \u001b[0mk\u001b[0m\u001b[0;34m=\u001b[0m\u001b[0mk\u001b[0m\u001b[0;34m,\u001b[0m \u001b[0mdistributive_tags\u001b[0m\u001b[0;34m=\u001b[0m\u001b[0;32mTrue\u001b[0m\u001b[0;34m)\u001b[0m\u001b[0;34m\u001b[0m\u001b[0m\n\u001b[1;32m     10\u001b[0m     \u001b[0;32mexcept\u001b[0m \u001b[0mexceptions\u001b[0m\u001b[0;34m.\u001b[0m\u001b[0mTagsLengthNeedsToBeGreaterThanK\u001b[0m\u001b[0;34m:\u001b[0m\u001b[0;34m\u001b[0m\u001b[0m\n",
      "\u001b[0;32m~/dev/master/mdc_analysis/src/experiments/markov_chain.py\u001b[0m in \u001b[0;36mevaluation_markov_k_fold_light_mem\u001b[0;34m(tags_sequence, user_id, k, distributive_tags, random_dummy_mode, save_result)\u001b[0m\n\u001b[1;32m    114\u001b[0m         \u001b[0mtest\u001b[0m \u001b[0;34m=\u001b[0m \u001b[0mpartition\u001b[0m\u001b[0;34m[\u001b[0m\u001b[0;34m\"test\"\u001b[0m\u001b[0;34m]\u001b[0m\u001b[0;34m\u001b[0m\u001b[0m\n\u001b[1;32m    115\u001b[0m \u001b[0;34m\u001b[0m\u001b[0m\n\u001b[0;32m--> 116\u001b[0;31m         \u001b[0mtest_data\u001b[0m \u001b[0;34m=\u001b[0m \u001b[0mtest_markov\u001b[0m\u001b[0;34m(\u001b[0m\u001b[0mtrain\u001b[0m\u001b[0;34m,\u001b[0m \u001b[0mtest\u001b[0m\u001b[0;34m,\u001b[0m \u001b[0mdistributive_tags\u001b[0m\u001b[0;34m=\u001b[0m\u001b[0mdistributive_tags\u001b[0m\u001b[0;34m,\u001b[0m \u001b[0mrandom_dummy_mode\u001b[0m\u001b[0;34m=\u001b[0m\u001b[0mrandom_dummy_mode\u001b[0m\u001b[0;34m)\u001b[0m\u001b[0;34m\u001b[0m\u001b[0m\n\u001b[0m\u001b[1;32m    117\u001b[0m \u001b[0;34m\u001b[0m\u001b[0m\n\u001b[1;32m    118\u001b[0m         \u001b[0mtest_data\u001b[0m\u001b[0;34m[\u001b[0m\u001b[0;34m\"trained_with\"\u001b[0m\u001b[0;34m]\u001b[0m \u001b[0;34m=\u001b[0m \u001b[0;34m\"same_user\"\u001b[0m\u001b[0;34m\u001b[0m\u001b[0m\n",
      "\u001b[0;32m~/dev/master/mdc_analysis/src/experiments/markov_chain.py\u001b[0m in \u001b[0;36mtest_markov\u001b[0;34m(train, test, distributive_tags, random_dummy_mode)\u001b[0m\n\u001b[1;32m     73\u001b[0m             \u001b[0;32mcontinue\u001b[0m\u001b[0;34m\u001b[0m\u001b[0m\n\u001b[1;32m     74\u001b[0m \u001b[0;34m\u001b[0m\u001b[0m\n\u001b[0;32m---> 75\u001b[0;31m         \u001b[0mpartial_hits\u001b[0m\u001b[0;34m.\u001b[0m\u001b[0mappend\u001b[0m\u001b[0;34m(\u001b[0m\u001b[0mjaccard\u001b[0m\u001b[0;34m(\u001b[0m\u001b[0mnext_state_real_list\u001b[0m\u001b[0;34m,\u001b[0m \u001b[0mnext_state_pred_list\u001b[0m\u001b[0;34m)\u001b[0m\u001b[0;34m)\u001b[0m\u001b[0;34m\u001b[0m\u001b[0m\n\u001b[0m\u001b[1;32m     76\u001b[0m \u001b[0;34m\u001b[0m\u001b[0m\n\u001b[1;32m     77\u001b[0m         \u001b[0;32mif\u001b[0m \u001b[0mset\u001b[0m\u001b[0;34m(\u001b[0m\u001b[0mnext_state_real_list\u001b[0m\u001b[0;34m)\u001b[0m \u001b[0;34m==\u001b[0m \u001b[0mset\u001b[0m\u001b[0;34m(\u001b[0m\u001b[0mnext_state_pred_list\u001b[0m\u001b[0;34m)\u001b[0m\u001b[0;34m:\u001b[0m\u001b[0;34m\u001b[0m\u001b[0m\n",
      "\u001b[0;32m~/dev/master/mdc_analysis/src/utils/metrics.py\u001b[0m in \u001b[0;36mjaccard\u001b[0;34m(list_a, list_b)\u001b[0m\n\u001b[1;32m      1\u001b[0m \u001b[0;32mdef\u001b[0m \u001b[0mjaccard\u001b[0m\u001b[0;34m(\u001b[0m\u001b[0mlist_a\u001b[0m\u001b[0;34m,\u001b[0m \u001b[0mlist_b\u001b[0m\u001b[0;34m)\u001b[0m\u001b[0;34m:\u001b[0m\u001b[0;34m\u001b[0m\u001b[0m\n\u001b[1;32m      2\u001b[0m     \u001b[0;32mtry\u001b[0m\u001b[0;34m:\u001b[0m\u001b[0;34m\u001b[0m\u001b[0m\n\u001b[0;32m----> 3\u001b[0;31m         \u001b[0mjaccard_metric\u001b[0m \u001b[0;34m=\u001b[0m \u001b[0mlen\u001b[0m\u001b[0;34m(\u001b[0m\u001b[0mset\u001b[0m\u001b[0;34m(\u001b[0m\u001b[0mlist_a\u001b[0m\u001b[0;34m)\u001b[0m\u001b[0;34m.\u001b[0m\u001b[0mintersection\u001b[0m\u001b[0;34m(\u001b[0m\u001b[0mset\u001b[0m\u001b[0;34m(\u001b[0m\u001b[0mlist_b\u001b[0m\u001b[0;34m)\u001b[0m\u001b[0;34m)\u001b[0m\u001b[0;34m)\u001b[0m \u001b[0;34m/\u001b[0m \u001b[0mlen\u001b[0m\u001b[0;34m(\u001b[0m\u001b[0mset\u001b[0m\u001b[0;34m(\u001b[0m\u001b[0mlist_a\u001b[0m\u001b[0;34m)\u001b[0m\u001b[0;34m.\u001b[0m\u001b[0munion\u001b[0m\u001b[0;34m(\u001b[0m\u001b[0mset\u001b[0m\u001b[0;34m(\u001b[0m\u001b[0mlist_b\u001b[0m\u001b[0;34m)\u001b[0m\u001b[0;34m)\u001b[0m\u001b[0;34m)\u001b[0m\u001b[0;34m\u001b[0m\u001b[0m\n\u001b[0m\u001b[1;32m      4\u001b[0m     \u001b[0;32mexcept\u001b[0m \u001b[0mZeroDivisionError\u001b[0m\u001b[0;34m:\u001b[0m\u001b[0;34m\u001b[0m\u001b[0m\n\u001b[1;32m      5\u001b[0m         \u001b[0mjaccard_metric\u001b[0m \u001b[0;34m=\u001b[0m \u001b[0;36m0\u001b[0m\u001b[0;34m\u001b[0m\u001b[0m\n",
      "\u001b[0;31mTypeError\u001b[0m: 'NoneType' object is not iterable"
     ]
    }
   ],
   "source": [
    "for user_id in users_tags_sequence.keys():\n",
    "    print(user_id)\n",
    "    \n",
    "    tags_sequence = users_tags_sequence[user_id]\n",
    "    \n",
    "    k=5\n",
    "    try:\n",
    "        evaluation_markov_k_fold_light_mem(tags_sequence, user_id=user_id, k=k, distributive_tags=False)\n",
    "        evaluation_markov_k_fold_light_mem(tags_sequence, user_id=user_id, k=k, distributive_tags=True)\n",
    "    except exceptions.TagsLengthNeedsToBeGreaterThanK:\n",
    "        print(\"TagsLengthNeedsToBeGreaterThanK\")"
   ]
  },
  {
   "cell_type": "code",
   "execution_count": null,
   "metadata": {},
   "outputs": [],
   "source": [
    "# all_users_vs_one_light_mem(users_tags_sequence, distributive_tags=False)"
   ]
  },
  {
   "cell_type": "code",
   "execution_count": null,
   "metadata": {},
   "outputs": [],
   "source": [
    "# all_users_vs_one_light_mem(users_tags_sequence, distributive_tags=True)"
   ]
  },
  {
   "cell_type": "code",
   "execution_count": null,
   "metadata": {},
   "outputs": [],
   "source": []
  }
 ],
 "metadata": {
  "kernelspec": {
   "display_name": "Python 3",
   "language": "python",
   "name": "python3"
  },
  "language_info": {
   "codemirror_mode": {
    "name": "ipython",
    "version": 3
   },
   "file_extension": ".py",
   "mimetype": "text/x-python",
   "name": "python",
   "nbconvert_exporter": "python",
   "pygments_lexer": "ipython3",
   "version": "3.6.5"
  }
 },
 "nbformat": 4,
 "nbformat_minor": 2
}
