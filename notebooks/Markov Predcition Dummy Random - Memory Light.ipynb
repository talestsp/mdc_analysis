{
 "cells": [
  {
   "cell_type": "markdown",
   "metadata": {},
   "source": [
    "# Markov Prediction"
   ]
  },
  {
   "cell_type": "code",
   "execution_count": 1,
   "metadata": {},
   "outputs": [
    {
     "name": "stdout",
     "output_type": "stream",
     "text": [
      "working dir /home/tales/dev/master/mdc_analysis\n"
     ]
    }
   ],
   "source": [
    "import os\n",
    "os.chdir(\"/home/tales/dev/master/mdc_analysis/\")\n",
    "print(\"working dir\", os.getcwd())\n",
    "\n",
    "import src.ml.markov as mk\n",
    "from src.dao import csv_dao\n",
    "from src.entity.stop_region import StopRegionGroup, sr_row_to_stop_region\n",
    "from src.exceptions import exceptions\n",
    "\n",
    "import warnings\n",
    "warnings.simplefilter(action='ignore', category=FutureWarning)\n",
    "\n",
    "import pandas as pd\n",
    "pd.set_option('display.float_format', lambda x: '%.3f' % x)"
   ]
  },
  {
   "cell_type": "markdown",
   "metadata": {},
   "source": [
    "## Loading Data"
   ]
  },
  {
   "cell_type": "code",
   "execution_count": null,
   "metadata": {
    "scrolled": false
   },
   "outputs": [
    {
     "name": "stdout",
     "output_type": "stream",
     "text": [
      "Loading user 6189 data\n",
      "Loading user 5936 data\n",
      "Loading user 6087 data\n",
      "Loading user 5973 data\n",
      "Loading user 6085 data\n",
      "Loading user 6074 data\n",
      "Loading user 6012 data\n",
      "Loading user 5982 data\n",
      "Loading user 5948 data\n",
      "Loading user 5974 data\n",
      "Loading user 6090 data\n",
      "Loading user 6199 data\n",
      "Loading user 6068 data\n",
      "Loading user 6024 data\n",
      "Loading user 5976 data\n",
      "Loading user 6094 data\n",
      "Loading user 5941 data\n",
      "Loading user 5995 data\n",
      "Loading user 5962 data\n",
      "Loading user 6093 data\n",
      "Loading user 6033 data\n",
      "Loading user 6079 data\n",
      "Loading user 6038 data\n",
      "Loading user 6175 data\n",
      "Loading user 6042 data\n",
      "Loading user 5924 data\n",
      "Loading user 6083 data\n",
      "Loading user 6178 data\n",
      "Loading user 5958 data\n",
      "Loading user 6086 data\n",
      "Loading user 6100 data\n",
      "Loading user 5945 data\n",
      "Loading user 5925 data\n",
      "Loading user 5935 data\n",
      "Loading user 6172 data\n",
      "Loading user 5955 data\n",
      "Loading user 6073 data\n",
      "Loading user 5980 data\n",
      "Loading user 6010 data\n",
      "Loading user 5993 data\n",
      "Loading user 6037 data\n",
      "Loading user 5979 data\n",
      "Loading user 5966 data\n",
      "Loading user 5985 data\n",
      "Loading user 5967 data\n",
      "Loading user 5970 data\n",
      "Loading user 6169 data\n",
      "Loading user 6188 data\n",
      "Loading user 6097 data\n",
      "Loading user 6096 data\n",
      "Loading user 6041 data\n",
      "Loading user 6192 data\n",
      "Loading user 6064 data\n",
      "Loading user 6183 data\n",
      "Loading user 5954 data\n",
      "Loading user 5972 data\n",
      "Loading user 6060 data\n",
      "Loading user 6069 data\n",
      "Loading user 5937 data\n",
      "Loading user 6028 data\n",
      "Loading user 5990 data\n",
      "Loading user 6071 data\n",
      "Loading user 5928 data\n",
      "Loading user 5992 data\n",
      "Loading user 6058 data\n",
      "Loading user 6001 data\n",
      "Loading user 5964 data\n",
      "Loading user 5950 data\n",
      "Loading user 5991 data\n",
      "Loading user 6177 data\n",
      "Loading user 5961 data\n",
      "Loading user 6176 data\n",
      "Loading user 6007 data\n",
      "Loading user 5956 data\n",
      "Loading user 6182 data\n",
      "Loading user 6171 data\n",
      "Loading user 5938 data\n",
      "Loading user 5960 data\n",
      "Loading user 6103 data\n",
      "Loading user 6179 data\n",
      "Loading user 6027 data\n",
      "Loading user 5947 data\n",
      "Loading user 6020 data\n"
     ]
    }
   ],
   "source": [
    "users_tags_sequence = {}\n",
    "\n",
    "users = os.listdir(\"outputs/stop_regions/\")\n",
    "\n",
    "for user_id in users:\n",
    "    print(\"Loading user {} data\".format(user_id))\n",
    "    users_tags_sequence[user_id] = StopRegionGroup(csv_dao.stop_region_sequence(user_id), \n",
    "                                                    agglutinate_stop_regions=True).sequence_stop_region_tags()[\"tag\"].tolist()"
   ]
  },
  {
   "cell_type": "code",
   "execution_count": null,
   "metadata": {},
   "outputs": [],
   "source": []
  },
  {
   "cell_type": "code",
   "execution_count": null,
   "metadata": {},
   "outputs": [],
   "source": []
  },
  {
   "cell_type": "markdown",
   "metadata": {},
   "source": [
    "## Evaluation"
   ]
  },
  {
   "cell_type": "code",
   "execution_count": null,
   "metadata": {
    "scrolled": false
   },
   "outputs": [],
   "source": [
    "from src.experiments.markov_chain import evaluation_markov_k_fold_light_mem, all_users_vs_one_light_mem"
   ]
  },
  {
   "cell_type": "code",
   "execution_count": null,
   "metadata": {
    "scrolled": false
   },
   "outputs": [],
   "source": [
    "for user_id in users_tags_sequence.keys():\n",
    "    print(user_id)\n",
    "    if int(user_id) in [6189, 5936, 6087, 5973, 6085, 6074, 6012, 5982, 5948, 5974, 6090, 6199, 6068, 6024, 5976, 6094, 5941, 5995, 5962, 6093, 6033, 6079, 6038, 6175, 6042, 5924, 6083, 6178, 5958, 6086, 6100, 5945, 5925, 5935, 6172, 5955, 6073, 5980, 6010, 5993, 6037, 5979, 5966, 5985, 5967, 5970, 6169, 6188, 6097, 6096, 6041, 6192, 6064, 6183, 5954, 5972, 6060, 6069, 5937, 6028, 5990, 6071, 5928, 5992, 6058, 6001, 5964, 5950, 5991, 6177, 5961, 6176, 6007, 5956, 6182, 6171, 5938, 5960, 6103, 6179, 6027, 5947, 6020, 5927, 6047, 6072, 5977, 6198, 5957, 5975, 6057, 6102, 6043, 6077, 6026, 6014, 6078, 6166, 6015, 5978, 5986, 5969, 6174, 5949, 5959, 6023, 6051, 6029, 6036, 6070, 5952]:\n",
    "        print(\"skip\")\n",
    "        continue\n",
    "    tags_sequence = users_tags_sequence[user_id]\n",
    "    \n",
    "    k=5\n",
    "    try:\n",
    "        evaluation_markov_k_fold_light_mem(tags_sequence, user_id=user_id, k=k, distributive_tags=False)\n",
    "        evaluation_markov_k_fold_light_mem(tags_sequence, user_id=user_id, k=k, distributive_tags=True)\n",
    "        \n",
    "        evaluation_markov_k_fold_light_mem(tags_sequence, user_id=user_id, k=k, distributive_tags=False, random_dummy_mode=\"EQUAL_DESTINATION_PROBA\")\n",
    "        evaluation_markov_k_fold_light_mem(tags_sequence, user_id=user_id, k=k, distributive_tags=True, random_dummy_mode=\"EQUAL_DESTINATION_PROBA\")\n",
    "        \n",
    "    except exceptions.TagsLengthNeedsToBeGreaterThanK:\n",
    "        print(\"TagsLengthNeedsToBeGreaterThanK\")"
   ]
  },
  {
   "cell_type": "code",
   "execution_count": null,
   "metadata": {},
   "outputs": [],
   "source": [
    "all_users_vs_one_light_mem(users_tags_sequence, distributive_tags=False)"
   ]
  },
  {
   "cell_type": "code",
   "execution_count": null,
   "metadata": {},
   "outputs": [],
   "source": [
    "all_users_vs_one_light_mem(users_tags_sequence, distributive_tags=True)"
   ]
  },
  {
   "cell_type": "code",
   "execution_count": null,
   "metadata": {},
   "outputs": [],
   "source": [
    "all_users_vs_one_light_mem(users_tags_sequence, distributive_tags=False, random_dummy_mode=\"EQUAL_DESTINATION_PROBA\")"
   ]
  },
  {
   "cell_type": "code",
   "execution_count": null,
   "metadata": {},
   "outputs": [],
   "source": [
    "all_users_vs_one_light_mem(users_tags_sequence, distributive_tags=True, random_dummy_mode=\"EQUAL_DESTINATION_PROBA\")"
   ]
  },
  {
   "cell_type": "code",
   "execution_count": null,
   "metadata": {},
   "outputs": [],
   "source": []
  }
 ],
 "metadata": {
  "kernelspec": {
   "display_name": "Python 3",
   "language": "python",
   "name": "python3"
  },
  "language_info": {
   "codemirror_mode": {
    "name": "ipython",
    "version": 3
   },
   "file_extension": ".py",
   "mimetype": "text/x-python",
   "name": "python",
   "nbconvert_exporter": "python",
   "pygments_lexer": "ipython3",
   "version": "3.6.5"
  }
 },
 "nbformat": 4,
 "nbformat_minor": 2
}
