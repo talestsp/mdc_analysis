{
 "cells": [
  {
   "cell_type": "markdown",
   "metadata": {},
   "source": [
    "# Markov Prediction"
   ]
  },
  {
   "cell_type": "code",
   "execution_count": 1,
   "metadata": {},
   "outputs": [
    {
     "name": "stdout",
     "output_type": "stream",
     "text": [
      "working dir /home/tales/dev/master/mdc_analysis\n"
     ]
    }
   ],
   "source": [
    "import os\n",
    "os.chdir(\"/home/tales/dev/master/mdc_analysis/\")\n",
    "print(\"working dir\", os.getcwd())\n",
    "\n",
    "import src.ml.markov as mk\n",
    "from src.dao import csv_dao\n",
    "from src.entity.stop_region import StopRegionGroup, sr_row_to_stop_region\n",
    "from src.exceptions import exceptions\n",
    "\n",
    "import warnings\n",
    "warnings.simplefilter(action='ignore', category=FutureWarning)\n",
    "\n",
    "import pandas as pd\n",
    "pd.set_option('display.float_format', lambda x: '%.3f' % x)"
   ]
  },
  {
   "cell_type": "markdown",
   "metadata": {},
   "source": [
    "## Loading Data"
   ]
  },
  {
   "cell_type": "code",
   "execution_count": 2,
   "metadata": {
    "scrolled": false
   },
   "outputs": [
    {
     "name": "stdout",
     "output_type": "stream",
     "text": [
      "Loading user 6074 data\n"
     ]
    }
   ],
   "source": [
    "user_stop_region_group = {}\n",
    "\n",
    "for user_id in [6074]:#os.listdir(\"outputs/stop_regions/\"):\n",
    "    print(\"Loading user {} data\".format(user_id))\n",
    "    user_stop_region_group[user_id] = csv_dao.stop_region_sequence(user_id)"
   ]
  },
  {
   "cell_type": "markdown",
   "metadata": {},
   "source": [
    "## Ckecking States"
   ]
  },
  {
   "cell_type": "markdown",
   "metadata": {},
   "source": [
    "# Evaluation"
   ]
  },
  {
   "cell_type": "code",
   "execution_count": 3,
   "metadata": {
    "scrolled": false
   },
   "outputs": [],
   "source": [
    "from src.experiments.markov_chain import evaluation_markov_k_fold"
   ]
  },
  {
   "cell_type": "markdown",
   "metadata": {
    "scrolled": true
   },
   "source": [
    "### k_fold"
   ]
  },
  {
   "cell_type": "code",
   "execution_count": 4,
   "metadata": {},
   "outputs": [
    {
     "name": "stdout",
     "output_type": "stream",
     "text": [
      "6074\n",
      "current_state: ['WORK']\n",
      "next_state_real_list: ['cafe', 'food']\n",
      "next_state_pred_list: ['transit_station']\n",
      "\n",
      "current_state: []\n",
      "next_state_real_list: []\n",
      "next_state_pred_list: []\n",
      "\n",
      "current_state: []\n",
      "next_state_real_list: []\n",
      "next_state_pred_list: ['premise']\n",
      "\n",
      "current_state: []\n",
      "next_state_real_list: []\n",
      "next_state_pred_list: []\n",
      "\n",
      "current_state: []\n",
      "next_state_real_list: []\n",
      "next_state_pred_list: []\n",
      "\n",
      "current_state: []\n",
      "next_state_real_list: []\n",
      "next_state_pred_list: []\n",
      "\n",
      "current_state: []\n",
      "next_state_real_list: ['transit_station']\n",
      "next_state_pred_list: []\n",
      "\n",
      "current_state: ['transit_station']\n",
      "next_state_real_list: ['clothing_store', 'store']\n",
      "next_state_pred_list: ['school']\n",
      "\n",
      "current_state: ['WORK']\n",
      "next_state_real_list: ['transit_station']\n",
      "next_state_pred_list: ['cafe', 'food']\n",
      "\n",
      "current_state: ['transit_station']\n",
      "next_state_real_list: ['school']\n",
      "next_state_pred_list: ['clothing_store', 'store']\n",
      "\n",
      "current_state: []\n",
      "next_state_real_list: []\n",
      "next_state_pred_list: []\n",
      "\n",
      "current_state: []\n",
      "next_state_real_list: []\n",
      "next_state_pred_list: []\n",
      "\n",
      "current_state: []\n",
      "next_state_real_list: []\n",
      "next_state_pred_list: ['WORK']\n",
      "\n",
      "current_state: []\n",
      "next_state_real_list: []\n",
      "next_state_pred_list: []\n",
      "\n",
      "current_state: []\n",
      "next_state_real_list: []\n",
      "next_state_pred_list: []\n",
      "\n",
      "current_state: []\n",
      "next_state_real_list: ['premise']\n",
      "next_state_pred_list: []\n",
      "\n",
      "current_state: []\n",
      "next_state_real_list: []\n",
      "next_state_pred_list: []\n",
      "\n",
      "current_state: []\n",
      "next_state_real_list: []\n",
      "next_state_pred_list: ['premise']\n",
      "\n",
      "current_state: []\n",
      "next_state_real_list: []\n",
      "next_state_pred_list: ['premise']\n",
      "\n",
      "current_state: []\n",
      "next_state_real_list: []\n",
      "next_state_pred_list: []\n",
      "\n",
      "current_state: []\n",
      "next_state_real_list: []\n",
      "next_state_pred_list: []\n",
      "\n",
      "current_state: []\n",
      "next_state_real_list: []\n",
      "next_state_pred_list: []\n",
      "\n",
      "current_state: []\n",
      "next_state_real_list: ['WORK']\n",
      "next_state_pred_list: []\n",
      "\n",
      "current_state: ['WORK']\n",
      "next_state_real_list: ['accounting', 'finance']\n",
      "next_state_pred_list: ['cafe', 'food']\n",
      "\n",
      "current_state: ['WORK']\n",
      "next_state_real_list: ['cafe', 'food']\n",
      "next_state_pred_list: ['accounting']\n",
      "\n",
      "current_state: []\n",
      "next_state_real_list: []\n",
      "next_state_pred_list: []\n",
      "\n",
      "current_state: []\n",
      "next_state_real_list: []\n",
      "next_state_pred_list: []\n",
      "\n",
      "current_state: []\n",
      "next_state_real_list: []\n",
      "next_state_pred_list: []\n",
      "\n",
      "current_state: []\n",
      "next_state_real_list: []\n",
      "next_state_pred_list: []\n",
      "\n",
      "current_state: []\n",
      "next_state_real_list: []\n",
      "next_state_pred_list: []\n",
      "\n",
      "current_state: []\n",
      "next_state_real_list: ['transit_station']\n",
      "next_state_pred_list: []\n",
      "\n",
      "current_state: ['transit_station']\n",
      "next_state_real_list: ['clothing_store', 'store']\n",
      "next_state_pred_list: ['school']\n",
      "\n",
      "current_state: ['WORK']\n",
      "next_state_real_list: ['transit_station']\n",
      "next_state_pred_list: ['finance']\n",
      "\n",
      "current_state: ['transit_station']\n",
      "next_state_real_list: ['school']\n",
      "next_state_pred_list: ['lodging']\n",
      "\n",
      "current_state: []\n",
      "next_state_real_list: []\n",
      "next_state_pred_list: []\n",
      "\n",
      "current_state: []\n",
      "next_state_real_list: []\n",
      "next_state_pred_list: []\n",
      "\n",
      "current_state: []\n",
      "next_state_real_list: []\n",
      "next_state_pred_list: []\n",
      "\n",
      "current_state: []\n",
      "next_state_real_list: []\n",
      "next_state_pred_list: []\n",
      "\n",
      "current_state: []\n",
      "next_state_real_list: []\n",
      "next_state_pred_list: []\n",
      "\n",
      "current_state: []\n",
      "next_state_real_list: ['premise']\n",
      "next_state_pred_list: []\n",
      "\n",
      "current_state: []\n",
      "next_state_real_list: []\n",
      "next_state_pred_list: []\n",
      "\n",
      "current_state: []\n",
      "next_state_real_list: []\n",
      "next_state_pred_list: []\n",
      "\n",
      "current_state: []\n",
      "next_state_real_list: []\n",
      "next_state_pred_list: []\n",
      "\n",
      "current_state: []\n",
      "next_state_real_list: []\n",
      "next_state_pred_list: []\n",
      "\n",
      "current_state: []\n",
      "next_state_real_list: []\n",
      "next_state_pred_list: []\n",
      "\n",
      "current_state: []\n",
      "next_state_real_list: []\n",
      "next_state_pred_list: []\n",
      "\n",
      "current_state: []\n",
      "next_state_real_list: ['WORK']\n",
      "next_state_pred_list: []\n",
      "\n",
      "current_state: ['WORK']\n",
      "next_state_real_list: ['accounting', 'finance']\n",
      "next_state_pred_list: ['food']\n",
      "\n"
     ]
    }
   ],
   "source": [
    "for user_id in user_stop_region_group.keys():\n",
    "    print(user_id)\n",
    "    sr_group = StopRegionGroup(user_stop_region_group[user_id], agglutinate_stop_regions=True)\n",
    "    \n",
    "    k=5\n",
    "    try:\n",
    "        evaluation_markov_k_fold(sr_group, k=k, distributive_tags=False)\n",
    "        evaluation_markov_k_fold(sr_group, k=k, distributive_tags=True)\n",
    "    except exceptions.TagsLengthNeedsToBeGreaterThanK:\n",
    "        print(\"TagsLengthNeedsToBeGreaterThanK\")"
   ]
  },
  {
   "cell_type": "markdown",
   "metadata": {},
   "source": [
    "### all_users_vs_one"
   ]
  },
  {
   "cell_type": "code",
   "execution_count": 5,
   "metadata": {},
   "outputs": [
    {
     "name": "stdout",
     "output_type": "stream",
     "text": [
      "6074\n"
     ]
    },
    {
     "ename": "AttributeError",
     "evalue": "'DataFrame' object has no attribute 'to_frame'",
     "output_type": "error",
     "traceback": [
      "\u001b[0;31m---------------------------------------------------------------------------\u001b[0m",
      "\u001b[0;31mAttributeError\u001b[0m                            Traceback (most recent call last)",
      "\u001b[0;32m<ipython-input-5-38cbb1ac1dd7>\u001b[0m in \u001b[0;36m<module>\u001b[0;34m()\u001b[0m\n\u001b[1;32m      1\u001b[0m \u001b[0;32mfrom\u001b[0m \u001b[0msrc\u001b[0m\u001b[0;34m.\u001b[0m\u001b[0mexperiments\u001b[0m\u001b[0;34m.\u001b[0m\u001b[0mmarkov_chain\u001b[0m \u001b[0;32mimport\u001b[0m \u001b[0mall_users_vs_one\u001b[0m\u001b[0;34m\u001b[0m\u001b[0m\n\u001b[0;32m----> 2\u001b[0;31m \u001b[0mall_users_vs_one\u001b[0m\u001b[0;34m(\u001b[0m\u001b[0muser_stop_region_group\u001b[0m\u001b[0;34m,\u001b[0m \u001b[0mdistributive_tags\u001b[0m\u001b[0;34m=\u001b[0m\u001b[0;32mFalse\u001b[0m\u001b[0;34m)\u001b[0m\u001b[0;34m\u001b[0m\u001b[0m\n\u001b[0m",
      "\u001b[0;32m~/dev/master/mdc_analysis/src/experiments/markov_chain.py\u001b[0m in \u001b[0;36mall_users_vs_one\u001b[0;34m(user_stop_region_group, distributive_tags, save_result)\u001b[0m\n\u001b[1;32m    120\u001b[0m         \u001b[0mtest_tags\u001b[0m \u001b[0;34m=\u001b[0m \u001b[0msr_group_test\u001b[0m\u001b[0;34m.\u001b[0m\u001b[0msequence_stop_region_tags\u001b[0m\u001b[0;34m(\u001b[0m\u001b[0;34m)\u001b[0m\u001b[0;34m[\u001b[0m\u001b[0;34m\"tag\"\u001b[0m\u001b[0;34m]\u001b[0m\u001b[0;34m.\u001b[0m\u001b[0mtolist\u001b[0m\u001b[0;34m(\u001b[0m\u001b[0;34m)\u001b[0m\u001b[0;34m\u001b[0m\u001b[0m\n\u001b[1;32m    121\u001b[0m \u001b[0;34m\u001b[0m\u001b[0m\n\u001b[0;32m--> 122\u001b[0;31m         \u001b[0mtest_data\u001b[0m \u001b[0;34m=\u001b[0m \u001b[0mtest_markov\u001b[0m\u001b[0;34m(\u001b[0m\u001b[0mtrain_tags\u001b[0m\u001b[0;34m,\u001b[0m \u001b[0mtest_tags\u001b[0m\u001b[0;34m,\u001b[0m \u001b[0mdistributive_tags\u001b[0m\u001b[0;34m=\u001b[0m\u001b[0mdistributive_tags\u001b[0m\u001b[0;34m)\u001b[0m\u001b[0;34m\u001b[0m\u001b[0m\n\u001b[0m\u001b[1;32m    123\u001b[0m \u001b[0;34m\u001b[0m\u001b[0m\n\u001b[1;32m    124\u001b[0m         \u001b[0mtest_data\u001b[0m\u001b[0;34m[\u001b[0m\u001b[0;34m\"trained_with\"\u001b[0m\u001b[0;34m]\u001b[0m \u001b[0;34m=\u001b[0m \u001b[0;34m\"all_other_users\"\u001b[0m\u001b[0;34m\u001b[0m\u001b[0m\n",
      "\u001b[0;32m~/dev/master/mdc_analysis/src/experiments/markov_chain.py\u001b[0m in \u001b[0;36mtest_markov\u001b[0;34m(train, test, distributive_tags)\u001b[0m\n\u001b[1;32m     13\u001b[0m         \u001b[0mtrans_proba_dict\u001b[0m \u001b[0;34m=\u001b[0m \u001b[0mmk\u001b[0m\u001b[0;34m.\u001b[0m\u001b[0mto_dict\u001b[0m\u001b[0;34m(\u001b[0m\u001b[0mmk\u001b[0m\u001b[0;34m.\u001b[0m\u001b[0mdistributive_transition_probabilities\u001b[0m\u001b[0;34m(\u001b[0m\u001b[0mtrain\u001b[0m\u001b[0;34m)\u001b[0m\u001b[0;34m)\u001b[0m\u001b[0;34m\u001b[0m\u001b[0m\n\u001b[1;32m     14\u001b[0m     \u001b[0;32melse\u001b[0m\u001b[0;34m:\u001b[0m\u001b[0;34m\u001b[0m\u001b[0m\n\u001b[0;32m---> 15\u001b[0;31m         \u001b[0mtrans_proba_dict\u001b[0m \u001b[0;34m=\u001b[0m \u001b[0mmk\u001b[0m\u001b[0;34m.\u001b[0m\u001b[0mto_dict\u001b[0m\u001b[0;34m(\u001b[0m\u001b[0mmk\u001b[0m\u001b[0;34m.\u001b[0m\u001b[0mtransition_probabilities\u001b[0m\u001b[0;34m(\u001b[0m\u001b[0mtrain\u001b[0m\u001b[0;34m)\u001b[0m\u001b[0;34m)\u001b[0m\u001b[0;34m\u001b[0m\u001b[0m\n\u001b[0m\u001b[1;32m     16\u001b[0m \u001b[0;34m\u001b[0m\u001b[0m\n\u001b[1;32m     17\u001b[0m     \u001b[0mpredictor\u001b[0m \u001b[0;34m=\u001b[0m \u001b[0mmk\u001b[0m\u001b[0;34m.\u001b[0m\u001b[0mMarkovPredictor\u001b[0m\u001b[0;34m(\u001b[0m\u001b[0;34m)\u001b[0m\u001b[0;34m.\u001b[0m\u001b[0mfit\u001b[0m\u001b[0;34m(\u001b[0m\u001b[0mtrans_proba_dict\u001b[0m\u001b[0;34m)\u001b[0m\u001b[0;34m\u001b[0m\u001b[0m\n",
      "\u001b[0;32m~/dev/master/mdc_analysis/src/ml/markov.py\u001b[0m in \u001b[0;36mtransition_probabilities\u001b[0;34m(sequence_states)\u001b[0m\n\u001b[1;32m     64\u001b[0m     \u001b[0mtrans_proba_df\u001b[0m\u001b[0;34m[\u001b[0m\u001b[0;34m\"destination\"\u001b[0m\u001b[0;34m]\u001b[0m \u001b[0;34m=\u001b[0m \u001b[0mtrans_proba_df\u001b[0m\u001b[0;34m[\u001b[0m\u001b[0;34m\"destination\"\u001b[0m\u001b[0;34m]\u001b[0m\u001b[0;34m.\u001b[0m\u001b[0mastype\u001b[0m\u001b[0;34m(\u001b[0m\u001b[0mstr\u001b[0m\u001b[0;34m)\u001b[0m\u001b[0;34m\u001b[0m\u001b[0m\n\u001b[1;32m     65\u001b[0m \u001b[0;34m\u001b[0m\u001b[0m\n\u001b[0;32m---> 66\u001b[0;31m     \u001b[0;32mreturn\u001b[0m \u001b[0mcalculate_proba_per_origin\u001b[0m\u001b[0;34m(\u001b[0m\u001b[0mtrans_proba_df\u001b[0m\u001b[0;34m)\u001b[0m\u001b[0;34m[\u001b[0m\u001b[0;34m[\u001b[0m\u001b[0;34m\"origin\"\u001b[0m\u001b[0;34m,\u001b[0m \u001b[0;34m\"destination\"\u001b[0m\u001b[0;34m,\u001b[0m \u001b[0;34m\"transition_freq\"\u001b[0m\u001b[0;34m]\u001b[0m\u001b[0;34m]\u001b[0m\u001b[0;34m\u001b[0m\u001b[0m\n\u001b[0m\u001b[1;32m     67\u001b[0m \u001b[0;34m\u001b[0m\u001b[0m\n\u001b[1;32m     68\u001b[0m \u001b[0;32mdef\u001b[0m \u001b[0mdistributive_transition_probabilities\u001b[0m\u001b[0;34m(\u001b[0m\u001b[0mtags_sequence\u001b[0m\u001b[0;34m)\u001b[0m\u001b[0;34m:\u001b[0m\u001b[0;34m\u001b[0m\u001b[0m\n",
      "\u001b[0;32m~/dev/master/mdc_analysis/src/ml/markov.py\u001b[0m in \u001b[0;36mcalculate_proba_per_origin\u001b[0;34m(transitions_df)\u001b[0m\n\u001b[1;32m    104\u001b[0m     \u001b[0;32mdel\u001b[0m \u001b[0mtrans_proba_df\u001b[0m\u001b[0;34m[\u001b[0m\u001b[0;34m\"origin\"\u001b[0m\u001b[0;34m]\u001b[0m\u001b[0;34m\u001b[0m\u001b[0m\n\u001b[1;32m    105\u001b[0m \u001b[0;34m\u001b[0m\u001b[0m\n\u001b[0;32m--> 106\u001b[0;31m     trans_proba_df = freq_grouped_by_origin.to_frame().reset_index().merge(trans_proba_df.reset_index(), how=\"inner\",\n\u001b[0m\u001b[1;32m    107\u001b[0m                                                                            left_on=\"level_1\", right_on=\"index\")\n\u001b[1;32m    108\u001b[0m \u001b[0;34m\u001b[0m\u001b[0m\n",
      "\u001b[0;32m~/anaconda3/lib/python3.6/site-packages/pandas/core/generic.py\u001b[0m in \u001b[0;36m__getattr__\u001b[0;34m(self, name)\u001b[0m\n\u001b[1;32m   4370\u001b[0m             \u001b[0;32mif\u001b[0m \u001b[0mself\u001b[0m\u001b[0;34m.\u001b[0m\u001b[0m_info_axis\u001b[0m\u001b[0;34m.\u001b[0m\u001b[0m_can_hold_identifiers_and_holds_name\u001b[0m\u001b[0;34m(\u001b[0m\u001b[0mname\u001b[0m\u001b[0;34m)\u001b[0m\u001b[0;34m:\u001b[0m\u001b[0;34m\u001b[0m\u001b[0m\n\u001b[1;32m   4371\u001b[0m                 \u001b[0;32mreturn\u001b[0m \u001b[0mself\u001b[0m\u001b[0;34m[\u001b[0m\u001b[0mname\u001b[0m\u001b[0;34m]\u001b[0m\u001b[0;34m\u001b[0m\u001b[0m\n\u001b[0;32m-> 4372\u001b[0;31m             \u001b[0;32mreturn\u001b[0m \u001b[0mobject\u001b[0m\u001b[0;34m.\u001b[0m\u001b[0m__getattribute__\u001b[0m\u001b[0;34m(\u001b[0m\u001b[0mself\u001b[0m\u001b[0;34m,\u001b[0m \u001b[0mname\u001b[0m\u001b[0;34m)\u001b[0m\u001b[0;34m\u001b[0m\u001b[0m\n\u001b[0m\u001b[1;32m   4373\u001b[0m \u001b[0;34m\u001b[0m\u001b[0m\n\u001b[1;32m   4374\u001b[0m     \u001b[0;32mdef\u001b[0m \u001b[0m__setattr__\u001b[0m\u001b[0;34m(\u001b[0m\u001b[0mself\u001b[0m\u001b[0;34m,\u001b[0m \u001b[0mname\u001b[0m\u001b[0;34m,\u001b[0m \u001b[0mvalue\u001b[0m\u001b[0;34m)\u001b[0m\u001b[0;34m:\u001b[0m\u001b[0;34m\u001b[0m\u001b[0m\n",
      "\u001b[0;31mAttributeError\u001b[0m: 'DataFrame' object has no attribute 'to_frame'"
     ]
    }
   ],
   "source": [
    "from src.experiments.markov_chain import all_users_vs_one\n",
    "all_users_vs_one(user_stop_region_group, distributive_tags=False)"
   ]
  },
  {
   "cell_type": "code",
   "execution_count": null,
   "metadata": {},
   "outputs": [],
   "source": []
  }
 ],
 "metadata": {
  "kernelspec": {
   "display_name": "Python 3",
   "language": "python",
   "name": "python3"
  },
  "language_info": {
   "codemirror_mode": {
    "name": "ipython",
    "version": 3
   },
   "file_extension": ".py",
   "mimetype": "text/x-python",
   "name": "python",
   "nbconvert_exporter": "python",
   "pygments_lexer": "ipython3",
   "version": "3.6.5"
  }
 },
 "nbformat": 4,
 "nbformat_minor": 2
}
