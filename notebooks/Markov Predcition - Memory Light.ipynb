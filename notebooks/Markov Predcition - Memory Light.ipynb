{
 "cells": [
  {
   "cell_type": "markdown",
   "metadata": {},
   "source": [
    "# Markov Prediction"
   ]
  },
  {
   "cell_type": "code",
   "execution_count": 1,
   "metadata": {},
   "outputs": [
    {
     "name": "stdout",
     "output_type": "stream",
     "text": [
      "working dir /home/tales/dev/master/mdc_analysis\n"
     ]
    }
   ],
   "source": [
    "# Markov Prediction\n",
    "import json\n",
    "import urllib.request\n",
    "import os\n",
    "os.chdir(\"/home/tales/dev/master/mdc_analysis/\")\n",
    "print(\"working dir\", os.getcwd())\n",
    "\n",
    "import src.ml.markov as mk\n",
    "from src.dao import csv_dao\n",
    "from src.entity.stop_region import StopRegionGroup, sr_row_to_stop_region\n",
    "from src.exceptions import exceptions\n",
    "from src.utils.others import remove_list_elements\n",
    "from src.exceptions.exceptions import NoCategoryMatched\n",
    "\n",
    "from src.experiments.markov_chain import evaluation_markov_k_fold_light_mem, all_users_vs_one_light_mem\n",
    "from src.taxonomy.category_mapping import CategoryMapper\n",
    "\n",
    "from src.exceptions.exceptions import NoCategoryMatched, NotValidTypes\n",
    "\n",
    "import warnings\n",
    "warnings.simplefilter(action='ignore', category=FutureWarning)\n",
    "\n",
    "import pandas as pd\n",
    "pd.set_option('display.float_format', lambda x: '%.3f' % x)"
   ]
  },
  {
   "cell_type": "markdown",
   "metadata": {},
   "source": [
    "## Loading Data"
   ]
  },
  {
   "cell_type": "code",
   "execution_count": 2,
   "metadata": {},
   "outputs": [],
   "source": [
    "def get_users_tags_sequence():\n",
    "    url = \"http://127.0.0.1:5000/stop_regions_group\"\n",
    "    response = urllib.request.urlopen(url)\n",
    "    return json.loads(response.read())\n",
    "\n",
    "def load_users_tags_sequence():\n",
    "    with open('outputs/users_tags_sequence.json') as json_file:\n",
    "        return json.load(json_file)\n",
    "    \n",
    "users_tags_sequence = load_users_tags_sequence()"
   ]
  },
  {
   "cell_type": "code",
   "execution_count": null,
   "metadata": {},
   "outputs": [],
   "source": []
  },
  {
   "cell_type": "code",
   "execution_count": 3,
   "metadata": {},
   "outputs": [],
   "source": [
    "def clean_sequence(sequence):\n",
    "    new_sequence = []\n",
    "    \n",
    "    for tags in sequence:\n",
    "        if \"parking\" in tags:\n",
    "            continue\n",
    "        else:\n",
    "            new_sequence.append(tags)\n",
    "\n",
    "    return new_sequence"
   ]
  },
  {
   "cell_type": "code",
   "execution_count": 4,
   "metadata": {},
   "outputs": [],
   "source": [
    "categ_mapper = CategoryMapper()"
   ]
  },
  {
   "cell_type": "code",
   "execution_count": 5,
   "metadata": {},
   "outputs": [
    {
     "name": "stdout",
     "output_type": "stream",
     "text": [
      "6189\n",
      "5936\n",
      "6087\n",
      "5973\n"
     ]
    },
    {
     "ename": "KeyboardInterrupt",
     "evalue": "",
     "output_type": "error",
     "traceback": [
      "\u001b[0;31m---------------------------------------------------------------------------\u001b[0m",
      "\u001b[0;31mKeyboardInterrupt\u001b[0m                         Traceback (most recent call last)",
      "\u001b[0;32m<ipython-input-5-c2d2076e8f37>\u001b[0m in \u001b[0;36m<module>\u001b[0;34m()\u001b[0m\n\u001b[1;32m     18\u001b[0m             \u001b[0;32mtry\u001b[0m\u001b[0;34m:\u001b[0m\u001b[0;34m\u001b[0m\u001b[0m\n\u001b[1;32m     19\u001b[0m \u001b[0;31m#                 print(\"tags:\", tags)\u001b[0m\u001b[0;34m\u001b[0m\u001b[0;34m\u001b[0m\u001b[0m\n\u001b[0;32m---> 20\u001b[0;31m                 \u001b[0mcateg\u001b[0m \u001b[0;34m=\u001b[0m \u001b[0mcateg_mapper\u001b[0m\u001b[0;34m.\u001b[0m\u001b[0mmap_categ\u001b[0m\u001b[0;34m(\u001b[0m\u001b[0mtags\u001b[0m\u001b[0;34m,\u001b[0m \u001b[0mmethod\u001b[0m\u001b[0;34m=\u001b[0m\u001b[0;34m\"most_specific\"\u001b[0m\u001b[0;34m)\u001b[0m\u001b[0;34m\u001b[0m\u001b[0m\n\u001b[0m\u001b[1;32m     21\u001b[0m                 \u001b[0mcateg_sequence\u001b[0m\u001b[0;34m.\u001b[0m\u001b[0mappend\u001b[0m\u001b[0;34m(\u001b[0m\u001b[0;34m[\u001b[0m\u001b[0mcateg\u001b[0m\u001b[0;34m]\u001b[0m\u001b[0;34m)\u001b[0m\u001b[0;34m\u001b[0m\u001b[0m\n\u001b[1;32m     22\u001b[0m \u001b[0;34m\u001b[0m\u001b[0m\n",
      "\u001b[0;32m~/dev/master/mdc_analysis/src/taxonomy/category_mapping.py\u001b[0m in \u001b[0;36mmap_categ\u001b[0;34m(self, types, method, logs)\u001b[0m\n\u001b[1;32m    107\u001b[0m         '''\n\u001b[1;32m    108\u001b[0m         \u001b[0mtypes\u001b[0m \u001b[0;34m=\u001b[0m \u001b[0mself\u001b[0m\u001b[0;34m.\u001b[0m\u001b[0m_valid_types\u001b[0m\u001b[0;34m(\u001b[0m\u001b[0mtypes\u001b[0m\u001b[0;34m)\u001b[0m\u001b[0;34m\u001b[0m\u001b[0m\n\u001b[0;32m--> 109\u001b[0;31m         \u001b[0mmapped\u001b[0m \u001b[0;34m=\u001b[0m \u001b[0mself\u001b[0m\u001b[0;34m.\u001b[0m\u001b[0m_map_types_to_categ\u001b[0m\u001b[0;34m(\u001b[0m\u001b[0mtypes\u001b[0m\u001b[0;34m,\u001b[0m \u001b[0mself\u001b[0m\u001b[0;34m.\u001b[0m\u001b[0mcategories\u001b[0m\u001b[0;34m)\u001b[0m\u001b[0;34m\u001b[0m\u001b[0m\n\u001b[0m\u001b[1;32m    110\u001b[0m \u001b[0;34m\u001b[0m\u001b[0m\n\u001b[1;32m    111\u001b[0m         \u001b[0mmapped_categs\u001b[0m \u001b[0;34m=\u001b[0m \u001b[0mpd\u001b[0m\u001b[0;34m.\u001b[0m\u001b[0mSeries\u001b[0m\u001b[0;34m(\u001b[0m\u001b[0mmapped\u001b[0m\u001b[0;34m)\u001b[0m\u001b[0;34m.\u001b[0m\u001b[0mvalue_counts\u001b[0m\u001b[0;34m(\u001b[0m\u001b[0;34m)\u001b[0m\u001b[0;34m\u001b[0m\u001b[0m\n",
      "\u001b[0;32m~/dev/master/mdc_analysis/src/taxonomy/category_mapping.py\u001b[0m in \u001b[0;36m_map_types_to_categ\u001b[0;34m(self, types, categs)\u001b[0m\n\u001b[1;32m     78\u001b[0m         \u001b[0;32mfor\u001b[0m \u001b[0ma_type\u001b[0m \u001b[0;32min\u001b[0m \u001b[0mtypes\u001b[0m\u001b[0;34m:\u001b[0m\u001b[0;34m\u001b[0m\u001b[0m\n\u001b[1;32m     79\u001b[0m             \u001b[0;32mtry\u001b[0m\u001b[0;34m:\u001b[0m\u001b[0;34m\u001b[0m\u001b[0m\n\u001b[0;32m---> 80\u001b[0;31m                 \u001b[0mmapped_categ\u001b[0m \u001b[0;34m=\u001b[0m \u001b[0mself\u001b[0m\u001b[0;34m.\u001b[0m\u001b[0m_map_type_categ\u001b[0m\u001b[0;34m(\u001b[0m\u001b[0ma_type\u001b[0m\u001b[0;34m,\u001b[0m \u001b[0mcategs\u001b[0m\u001b[0;34m)\u001b[0m\u001b[0;34m\u001b[0m\u001b[0m\n\u001b[0m\u001b[1;32m     81\u001b[0m                 \u001b[0mmapped_categs\u001b[0m\u001b[0;34m.\u001b[0m\u001b[0mappend\u001b[0m\u001b[0;34m(\u001b[0m\u001b[0mmapped_categ\u001b[0m\u001b[0;34m)\u001b[0m\u001b[0;34m\u001b[0m\u001b[0m\n\u001b[1;32m     82\u001b[0m             \u001b[0;32mexcept\u001b[0m \u001b[0mTopParentNotCategory\u001b[0m\u001b[0;34m:\u001b[0m\u001b[0;34m\u001b[0m\u001b[0m\n",
      "\u001b[0;32m~/dev/master/mdc_analysis/src/taxonomy/category_mapping.py\u001b[0m in \u001b[0;36m_map_type_categ\u001b[0;34m(self, a_type, categs)\u001b[0m\n\u001b[1;32m     30\u001b[0m \u001b[0;34m\u001b[0m\u001b[0m\n\u001b[1;32m     31\u001b[0m         \u001b[0;32melse\u001b[0m\u001b[0;34m:\u001b[0m\u001b[0;34m\u001b[0m\u001b[0m\n\u001b[0;32m---> 32\u001b[0;31m             \u001b[0;32mreturn\u001b[0m \u001b[0mself\u001b[0m\u001b[0;34m.\u001b[0m\u001b[0m_top_parent_categ\u001b[0m\u001b[0;34m(\u001b[0m\u001b[0ma_type\u001b[0m\u001b[0;34m,\u001b[0m \u001b[0mcategs\u001b[0m\u001b[0;34m)\u001b[0m\u001b[0;34m\u001b[0m\u001b[0m\n\u001b[0m\u001b[1;32m     33\u001b[0m \u001b[0;34m\u001b[0m\u001b[0m\n\u001b[1;32m     34\u001b[0m     \u001b[0;32mdef\u001b[0m \u001b[0m_is_categ\u001b[0m\u001b[0;34m(\u001b[0m\u001b[0mself\u001b[0m\u001b[0;34m,\u001b[0m \u001b[0mcateg\u001b[0m\u001b[0;34m,\u001b[0m \u001b[0mcategories\u001b[0m\u001b[0;34m)\u001b[0m\u001b[0;34m:\u001b[0m\u001b[0;34m\u001b[0m\u001b[0m\n",
      "\u001b[0;32m~/dev/master/mdc_analysis/src/taxonomy/category_mapping.py\u001b[0m in \u001b[0;36m_top_parent_categ\u001b[0;34m(self, a_type, categs)\u001b[0m\n\u001b[1;32m     64\u001b[0m         \u001b[0;32mtry\u001b[0m\u001b[0;34m:\u001b[0m\u001b[0;34m\u001b[0m\u001b[0m\n\u001b[1;32m     65\u001b[0m             \u001b[0;31m# top_parent = parent(a_type)[\"parent\"].iloc[0]\u001b[0m\u001b[0;34m\u001b[0m\u001b[0;34m\u001b[0m\u001b[0m\n\u001b[0;32m---> 66\u001b[0;31m             \u001b[0mtop_parent\u001b[0m \u001b[0;34m=\u001b[0m \u001b[0mself\u001b[0m\u001b[0;34m.\u001b[0m\u001b[0m_get_top_parent\u001b[0m\u001b[0;34m(\u001b[0m\u001b[0ma_type\u001b[0m\u001b[0;34m)\u001b[0m\u001b[0;34m\u001b[0m\u001b[0m\n\u001b[0m\u001b[1;32m     67\u001b[0m         \u001b[0;32mexcept\u001b[0m \u001b[0mIndexError\u001b[0m\u001b[0;34m:\u001b[0m\u001b[0;34m\u001b[0m\u001b[0m\n\u001b[1;32m     68\u001b[0m             \u001b[0mtop_parent\u001b[0m \u001b[0;34m=\u001b[0m \u001b[0;34m\"\"\u001b[0m\u001b[0;34m\u001b[0m\u001b[0m\n",
      "\u001b[0;32m~/dev/master/mdc_analysis/src/taxonomy/category_mapping.py\u001b[0m in \u001b[0;36m_get_top_parent\u001b[0;34m(self, a_type)\u001b[0m\n\u001b[1;32m     47\u001b[0m \u001b[0;34m\u001b[0m\u001b[0m\n\u001b[1;32m     48\u001b[0m         \u001b[0mi\u001b[0m \u001b[0;34m=\u001b[0m \u001b[0;36m0\u001b[0m\u001b[0;34m\u001b[0m\u001b[0m\n\u001b[0;32m---> 49\u001b[0;31m         \u001b[0mtop_parent\u001b[0m \u001b[0;34m=\u001b[0m \u001b[0mtype_parent_df\u001b[0m\u001b[0;34m[\u001b[0m\u001b[0;34m\"parent\"\u001b[0m\u001b[0;34m]\u001b[0m\u001b[0;34m.\u001b[0m\u001b[0miloc\u001b[0m\u001b[0;34m[\u001b[0m\u001b[0mi\u001b[0m\u001b[0;34m]\u001b[0m\u001b[0;34m\u001b[0m\u001b[0m\n\u001b[0m\u001b[1;32m     50\u001b[0m \u001b[0;34m\u001b[0m\u001b[0m\n\u001b[1;32m     51\u001b[0m         \u001b[0;32mwhile\u001b[0m \u001b[0mtop_parent\u001b[0m \u001b[0;32min\u001b[0m \u001b[0;34m[\u001b[0m\u001b[0;34m\"point_of_interest\"\u001b[0m\u001b[0;34m,\u001b[0m \u001b[0;34m\"establishment\"\u001b[0m\u001b[0;34m]\u001b[0m\u001b[0;34m:\u001b[0m\u001b[0;34m\u001b[0m\u001b[0m\n",
      "\u001b[0;32m~/anaconda3/lib/python3.6/site-packages/pandas/core/frame.py\u001b[0m in \u001b[0;36m__getitem__\u001b[0;34m(self, key)\u001b[0m\n\u001b[1;32m   2663\u001b[0m \u001b[0;34m\u001b[0m\u001b[0m\n\u001b[1;32m   2664\u001b[0m         \u001b[0;31m# shortcut if we are an actual column\u001b[0m\u001b[0;34m\u001b[0m\u001b[0;34m\u001b[0m\u001b[0m\n\u001b[0;32m-> 2665\u001b[0;31m         \u001b[0mis_mi_columns\u001b[0m \u001b[0;34m=\u001b[0m \u001b[0misinstance\u001b[0m\u001b[0;34m(\u001b[0m\u001b[0mself\u001b[0m\u001b[0;34m.\u001b[0m\u001b[0mcolumns\u001b[0m\u001b[0;34m,\u001b[0m \u001b[0mMultiIndex\u001b[0m\u001b[0;34m)\u001b[0m\u001b[0;34m\u001b[0m\u001b[0m\n\u001b[0m\u001b[1;32m   2666\u001b[0m         \u001b[0;32mtry\u001b[0m\u001b[0;34m:\u001b[0m\u001b[0;34m\u001b[0m\u001b[0m\n\u001b[1;32m   2667\u001b[0m             \u001b[0;32mif\u001b[0m \u001b[0mkey\u001b[0m \u001b[0;32min\u001b[0m \u001b[0mself\u001b[0m\u001b[0;34m.\u001b[0m\u001b[0mcolumns\u001b[0m \u001b[0;32mand\u001b[0m \u001b[0;32mnot\u001b[0m \u001b[0mis_mi_columns\u001b[0m\u001b[0;34m:\u001b[0m\u001b[0;34m\u001b[0m\u001b[0m\n",
      "\u001b[0;31mKeyboardInterrupt\u001b[0m: "
     ]
    }
   ],
   "source": [
    "users_categ_sequence = {}\n",
    "\n",
    "for user_id in users_tags_sequence:\n",
    "    print(user_id)\n",
    "    \n",
    "    users_tags_sequence[user_id] = clean_sequence(users_tags_sequence[user_id])\n",
    "    \n",
    "    if len( remove_list_elements(users_tags_sequence[user_id], elements=[[]]) ) < 8:\n",
    "        continue \n",
    "    \n",
    "    categ_sequence = []\n",
    "\n",
    "    for tags in users_tags_sequence[user_id]:\n",
    "        if tags == [\"WORK\"] or tags == [\"HOME\"]:\n",
    "            categ_sequence.append(tags)\n",
    "\n",
    "        else:\n",
    "            try:\n",
    "#                 print(\"tags:\", tags)\n",
    "                categ = categ_mapper.map_categ(tags, method=\"most_specific\")\n",
    "                categ_sequence.append([categ])\n",
    "\n",
    "            except NotValidTypes:\n",
    "                categ_sequence.append([])\n",
    "            \n",
    "            except NoCategoryMatched:\n",
    "                categ_sequence.append([\"NoCategoryMatched\"]) \n",
    "\n",
    "    users_categ_sequence[user_id] = categ_sequence\n",
    "    "
   ]
  },
  {
   "cell_type": "code",
   "execution_count": null,
   "metadata": {
    "scrolled": false
   },
   "outputs": [],
   "source": [
    "# users_tags_sequence = {}\n",
    "\n",
    "# users = os.listdir(\"outputs/stop_regions/\")\n",
    "# users.reverse()\n",
    "\n",
    "# for user_id in users[0:3]:\n",
    "#     print(\"Loading user {} data\".format(user_id))\n",
    "#     users_tags_sequence[user_id] = StopRegionGroup(csv_dao.stop_region_sequence(user_id), \n",
    "#                                                     agglutinate_stop_regions=True).sequence_stop_region_tags()[\"tag\"].tolist()"
   ]
  },
  {
   "cell_type": "markdown",
   "metadata": {},
   "source": [
    "## Evaluation"
   ]
  },
  {
   "cell_type": "code",
   "execution_count": null,
   "metadata": {
    "scrolled": false
   },
   "outputs": [],
   "source": []
  },
  {
   "cell_type": "code",
   "execution_count": null,
   "metadata": {
    "scrolled": false
   },
   "outputs": [],
   "source": [
    "k=4\n",
    "\n",
    "skipped_users = []\n",
    "\n",
    "for user_id in users_tags_sequence.keys():\n",
    "    print(user_id)\n",
    "    \n",
    "    tags_sequence = users_tags_sequence[user_id]\n",
    "    tags_sequence = clean_sequence(tags_sequence)\n",
    "        \n",
    "    if len( remove_list_elements(tags_sequence, elements=[[]]) ) < k*2:\n",
    "        skipped_users.append(user_id)\n",
    "        continue    \n",
    "\n",
    "    try:\n",
    "#         for tags in users_categ_sequence[user_id]:\n",
    "#             print(\"tags:\", tags)\n",
    "            \n",
    "        \n",
    "        evaluation_markov_k_fold_light_mem(tags_sequence, \n",
    "                                           input_data_version=\"markov-0.0\", \n",
    "                                           user_id=user_id, \n",
    "                                           k=k, \n",
    "                                           is_distributive=False)\n",
    "        \n",
    "        evaluation_markov_k_fold_light_mem(tags_sequence, \n",
    "                                           input_data_version=\"markov-0.0-DUMMY\", \n",
    "                                           random_dummy_mode=\"dummy\",\n",
    "                                           user_id=user_id, \n",
    "                                           k=k, \n",
    "                                           is_distributive=False)\n",
    "        \n",
    "        evaluation_markov_k_fold_light_mem(tags_sequence, \n",
    "                                           input_data_version=\"markov-0.0.d\", \n",
    "                                           user_id=user_id, \n",
    "                                           k=k, \n",
    "                                           is_distributive=True)\n",
    "        \n",
    "        evaluation_markov_k_fold_light_mem(tags_sequence, \n",
    "                                           input_data_version=\"markov-0.0.d-DUMMY\", \n",
    "                                           random_dummy_mode=\"dummy\",\n",
    "                                           user_id=user_id, \n",
    "                                           k=k, \n",
    "                                           is_distributive=True)\n",
    "\n",
    "        evaluation_markov_k_fold_light_mem(users_categ_sequence[user_id], \n",
    "                                           input_data_version=\"markov-0.0.categ_v1\", \n",
    "                                           user_id=user_id, \n",
    "                                           k=k, \n",
    "                                           is_distributive=False)\n",
    "\n",
    "        evaluation_markov_k_fold_light_mem(users_categ_sequence[user_id], \n",
    "                                           input_data_version=\"markov-0.0.categ_v1-DUMMY\", \n",
    "                                           random_dummy_mode=\"dummy\",\n",
    "                                           user_id=user_id, \n",
    "                                           k=k, \n",
    "                                           is_distributive=False)\n",
    "        \n",
    "\n",
    "    \n",
    "\n",
    "    except exceptions.TagsLengthNeedsToBeGreaterThanK:\n",
    "        print(\"TagsLengthNeedsToBeGreaterThanK\")\n",
    "        \n"
   ]
  },
  {
   "cell_type": "code",
   "execution_count": null,
   "metadata": {},
   "outputs": [],
   "source": []
  },
  {
   "cell_type": "code",
   "execution_count": null,
   "metadata": {},
   "outputs": [],
   "source": [
    "skipped_users"
   ]
  },
  {
   "cell_type": "code",
   "execution_count": null,
   "metadata": {},
   "outputs": [],
   "source": [
    "all_users_vs_one_light_mem(users_tags_sequence, \n",
    "                           input_data_version=\"markov-0.0\", \n",
    "                           is_distributive=False)\n",
    "\n",
    "all_users_vs_one_light_mem(users_tags_sequence, \n",
    "                           random_dummy_mode=\"dummy\", \n",
    "                           input_data_version=\"markov-0.0-DUMMY\", \n",
    "                           is_distributive=False)\n",
    "\n",
    "\n",
    "all_users_vs_one_light_mem(users_tags_sequence, \n",
    "                           input_data_version=\"markov-0.0.d\", \n",
    "                           is_distributive=True)\n",
    "\n",
    "all_users_vs_one_light_mem(users_tags_sequence, \n",
    "                           random_dummy_mode=\"dummy\", \n",
    "                           input_data_version=\"markov-0.0.d-DUMMY\", \n",
    "                           is_distributive=True)\n",
    "\n",
    "\n",
    "all_users_vs_one_light_mem(users_categ_sequence, \n",
    "                           input_data_version=\"markov-0.0.categ_v1\", \n",
    "                           is_distributive=False)\n",
    "\n",
    "all_users_vs_one_light_mem(users_categ_sequence, \n",
    "                           random_dummy_mode=\"dummy\", \n",
    "                           input_data_version=\"markov-0.0.categ_v1-DUMMY\", \n",
    "                           is_distributive=False)"
   ]
  },
  {
   "cell_type": "code",
   "execution_count": null,
   "metadata": {},
   "outputs": [],
   "source": []
  }
 ],
 "metadata": {
  "kernelspec": {
   "display_name": "Python 3",
   "language": "python",
   "name": "python3"
  },
  "language_info": {
   "codemirror_mode": {
    "name": "ipython",
    "version": 3
   },
   "file_extension": ".py",
   "mimetype": "text/x-python",
   "name": "python",
   "nbconvert_exporter": "python",
   "pygments_lexer": "ipython3",
   "version": "3.6.5"
  }
 },
 "nbformat": 4,
 "nbformat_minor": 2
}
