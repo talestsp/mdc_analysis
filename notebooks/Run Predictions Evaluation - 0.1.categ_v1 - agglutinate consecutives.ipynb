{
 "cells": [
  {
   "cell_type": "markdown",
   "metadata": {},
   "source": [
    "# Run Predictions - <font color = \"red\">0.1.categ_v1</font> -  agglutinate consecutives"
   ]
  },
  {
   "cell_type": "code",
   "execution_count": 1,
   "metadata": {},
   "outputs": [
    {
     "name": "stdout",
     "output_type": "stream",
     "text": [
      "working dir /home/tales/dev/master/mdc_analysis\n"
     ]
    }
   ],
   "source": [
    "import json\n",
    "import urllib.request\n",
    "import os\n",
    "os.chdir(\"/home/tales/dev/master/mdc_analysis/\")\n",
    "print(\"working dir\", os.getcwd())\n",
    "\n",
    "from src.ml.ctw import MyCTW\n",
    "from src.dao import csv_dao\n",
    "from src.entity.stop_region import StopRegionGroup, sr_row_to_stop_region\n",
    "from src.exceptions import exceptions\n",
    "from src.utils.others import remove_list_elements\n",
    "from src.exceptions.exceptions import NoCategoryMatched\n",
    "\n",
    "from src.experiments.ctw_eval import evaluation_ctw_single_partition_light_mem\n",
    "\n",
    "from src.experiments.markov_eval import evaluation_markov_k_fold_light_mem, evaluation_markov_all_users_vs_one_light_mem, evaluation_markov_single_partition_light_mem, evaluation_markov_cluster_light_mem\n",
    "\n",
    "from src.taxonomy.category_mapping import CategoryMapper\n",
    "\n",
    "from src.exceptions.exceptions import NoCategoryMatched, NotValidTypes\n",
    "\n",
    "import warnings\n",
    "warnings.simplefilter(action='ignore', category=FutureWarning)\n",
    "\n",
    "import pandas as pd\n",
    "pd.set_option('display.float_format', lambda x: '%.3f' % x)"
   ]
  },
  {
   "cell_type": "markdown",
   "metadata": {},
   "source": [
    "## Loading Data"
   ]
  },
  {
   "cell_type": "code",
   "execution_count": 2,
   "metadata": {},
   "outputs": [],
   "source": [
    "def get_users_tags_sequence():\n",
    "    url = \"http://127.0.0.1:5000/stop_regions_group\"\n",
    "    response = urllib.request.urlopen(url)\n",
    "    return json.loads(response.read())\n",
    "\n",
    "def load_users_tags_sequence():\n",
    "    with open('outputs/users_tags_sequence.json') as json_file:\n",
    "        return json.load(json_file)\n",
    "    \n",
    "users_tags_sequence = load_users_tags_sequence()"
   ]
  },
  {
   "cell_type": "code",
   "execution_count": 3,
   "metadata": {},
   "outputs": [],
   "source": [
    "def clean_sequence(sequence):\n",
    "    new_sequence = []\n",
    "    \n",
    "    for tags in sequence:\n",
    "        if \"parking\" in tags:\n",
    "            continue\n",
    "        else:\n",
    "            new_sequence.append(tags)\n",
    "\n",
    "    return new_sequence\n",
    "\n",
    "from itertools import groupby\n",
    "def agglutinate_consecutive_elements(a_list):\n",
    "    return [x[0] for x in groupby(a_list)]"
   ]
  },
  {
   "cell_type": "code",
   "execution_count": 4,
   "metadata": {},
   "outputs": [],
   "source": [
    "categ_mapper = CategoryMapper()"
   ]
  },
  {
   "cell_type": "code",
   "execution_count": 5,
   "metadata": {
    "scrolled": true
   },
   "outputs": [
    {
     "name": "stdout",
     "output_type": "stream",
     "text": [
      "n: 1 user_id: 6189\n",
      "n: 2 user_id: 5936\n",
      "n: 3 user_id: 6087\n",
      "n: 4 user_id: 5973\n",
      "n: 5 user_id: 6085\n",
      "n: 6 user_id: 6074\n",
      "n: 7 user_id: 6012\n",
      "n: 8 user_id: 5982\n",
      "n: 9 user_id: 5948\n",
      "n: 10 user_id: 5974\n",
      "n: 11 user_id: 6090\n",
      "n: 12 user_id: 6199\n",
      "n: 13 user_id: 6068\n",
      "n: 14 user_id: 6024\n",
      "n: 15 user_id: 5976\n",
      "n: 16 user_id: 6094\n",
      "n: 17 user_id: 5941\n",
      "n: 18 user_id: 5995\n",
      "n: 19 user_id: 5962\n",
      "n: 20 user_id: 6093\n",
      "n: 21 user_id: 6033\n",
      "n: 22 user_id: 6079\n",
      "n: 23 user_id: 6038\n",
      "n: 24 user_id: 6175\n",
      "n: 25 user_id: 6042\n",
      "n: 26 user_id: 5924\n",
      "n: 27 user_id: 6083\n",
      "n: 28 user_id: 6178\n",
      "n: 29 user_id: 5958\n",
      "n: 30 user_id: 6086\n",
      "n: 31 user_id: 6100\n",
      "n: 32 user_id: 5945\n",
      "n: 33 user_id: 5925\n",
      "n: 34 user_id: 5935\n",
      "n: 35 user_id: 6172\n",
      "n: 36 user_id: 5955\n",
      "n: 37 user_id: 6073\n",
      "n: 38 user_id: 5980\n",
      "n: 39 user_id: 6010\n",
      "n: 40 user_id: 5993\n",
      "n: 41 user_id: 6037\n",
      "n: 42 user_id: 5979\n",
      "n: 43 user_id: 5966\n",
      "n: 44 user_id: 5985\n",
      "n: 45 user_id: 5967\n",
      "n: 46 user_id: 5970\n",
      "n: 47 user_id: 6169\n",
      "n: 48 user_id: 6188\n",
      "n: 49 user_id: 6097\n",
      "n: 50 user_id: 6096\n",
      "n: 51 user_id: 6041\n",
      "n: 52 user_id: 6192\n",
      "n: 53 user_id: 6064\n",
      "n: 54 user_id: 6183\n",
      "n: 55 user_id: 5954\n",
      "n: 56 user_id: 5972\n",
      "n: 57 user_id: 6060\n",
      "n: 58 user_id: 6069\n",
      "n: 59 user_id: 5937\n",
      "n: 60 user_id: 6028\n",
      "n: 61 user_id: 5990\n",
      "n: 62 user_id: 6071\n",
      "n: 63 user_id: 5928\n",
      "n: 64 user_id: 5992\n",
      "n: 65 user_id: 6058\n",
      "n: 66 user_id: 6001\n",
      "n: 67 user_id: 5964\n",
      "n: 68 user_id: 5950\n",
      "n: 69 user_id: 5991\n",
      "n: 70 user_id: 6177\n",
      "n: 71 user_id: 5961\n",
      "n: 72 user_id: 6176\n",
      "n: 73 user_id: 6007\n",
      "n: 74 user_id: 5956\n",
      "n: 75 user_id: 6182\n",
      "n: 76 user_id: 6171\n",
      "n: 77 user_id: 5938\n",
      "n: 78 user_id: 5960\n",
      "n: 79 user_id: 6103\n",
      "n: 80 user_id: 6179\n",
      "n: 81 user_id: 6027\n",
      "n: 82 user_id: 5947\n",
      "n: 83 user_id: 6020\n",
      "n: 84 user_id: 5927\n",
      "n: 85 user_id: 6047\n",
      "n: 86 user_id: 6072\n",
      "n: 87 user_id: 5977\n",
      "n: 88 user_id: 6198\n",
      "n: 89 user_id: 5957\n",
      "n: 90 user_id: 5975\n",
      "n: 91 user_id: 6057\n",
      "n: 92 user_id: 6102\n",
      "n: 93 user_id: 6043\n",
      "n: 94 user_id: 6077\n",
      "n: 95 user_id: 6026\n",
      "n: 96 user_id: 6014\n",
      "n: 97 user_id: 6078\n",
      "n: 98 user_id: 6166\n",
      "n: 99 user_id: 6015\n",
      "n: 100 user_id: 5978\n",
      "n: 101 user_id: 5986\n",
      "n: 102 user_id: 5969\n",
      "n: 103 user_id: 6174\n",
      "n: 104 user_id: 5949\n",
      "n: 105 user_id: 5959\n",
      "n: 106 user_id: 6023\n",
      "n: 107 user_id: 6051\n",
      "n: 108 user_id: 6029\n",
      "n: 109 user_id: 6036\n",
      "n: 110 user_id: 6070\n",
      "n: 111 user_id: 5952\n",
      "n: 112 user_id: 6062\n",
      "n: 113 user_id: 6056\n",
      "n: 114 user_id: 5942\n",
      "n: 115 user_id: 5953\n",
      "n: 116 user_id: 6034\n",
      "n: 117 user_id: 6076\n",
      "n: 118 user_id: 6066\n",
      "n: 119 user_id: 5940\n",
      "n: 120 user_id: 6197\n",
      "n: 121 user_id: 6109\n",
      "n: 122 user_id: 6002\n",
      "n: 123 user_id: 6016\n",
      "n: 124 user_id: 6187\n",
      "n: 125 user_id: 5987\n",
      "n: 126 user_id: 6053\n",
      "n: 127 user_id: 6104\n",
      "n: 128 user_id: 5943\n",
      "n: 129 user_id: 6017\n",
      "n: 130 user_id: 6168\n",
      "n: 131 user_id: 6045\n",
      "n: 132 user_id: 5989\n",
      "n: 133 user_id: 5963\n",
      "n: 134 user_id: 5968\n",
      "n: 135 user_id: 6194\n",
      "n: 136 user_id: 6190\n",
      "n: 137 user_id: 6003\n",
      "n: 138 user_id: 6035\n",
      "n: 139 user_id: 6167\n",
      "n: 140 user_id: 6004\n",
      "n: 141 user_id: 6030\n",
      "n: 142 user_id: 6054\n",
      "n: 143 user_id: 6032\n",
      "n: 144 user_id: 6170\n",
      "n: 145 user_id: 6063\n",
      "n: 146 user_id: 6005\n",
      "n: 147 user_id: 5988\n",
      "n: 148 user_id: 5944\n",
      "n: 149 user_id: 6075\n",
      "n: 150 user_id: 6061\n",
      "n: 151 user_id: 5965\n",
      "n: 152 user_id: 6040\n",
      "n: 153 user_id: 6000\n",
      "n: 154 user_id: 6059\n",
      "n: 155 user_id: 5951\n",
      "n: 156 user_id: 6106\n",
      "n: 157 user_id: 6082\n",
      "n: 158 user_id: 6031\n",
      "n: 159 user_id: 6180\n",
      "n: 160 user_id: 6039\n",
      "n: 161 user_id: 6181\n",
      "n: 162 user_id: 6067\n",
      "n: 163 user_id: 5939\n"
     ]
    }
   ],
   "source": [
    "users_categ_sequence = {}\n",
    "users_categ_sequence_not_list = {}\n",
    "\n",
    "n=0\n",
    "for user_id in list(users_tags_sequence.keys()):\n",
    "    n+=1\n",
    "    print(\"n:\", n, \"user_id:\", user_id)\n",
    "    \n",
    "    users_tags_sequence[user_id] = clean_sequence(users_tags_sequence[user_id])\n",
    "   \n",
    "    if len( remove_list_elements(users_tags_sequence[user_id], elements=[[]]) ) < 8:\n",
    "        continue \n",
    "    \n",
    "    categ_sequence = []\n",
    "\n",
    "    for tags in users_tags_sequence[user_id]:\n",
    "        if tags == [\"WORK\"] or tags == [\"HOME\"]:\n",
    "            categ_sequence.append(tags)\n",
    "\n",
    "        else:\n",
    "            try:\n",
    "#                 print(\"tags:\", tags)\n",
    "                categ = categ_mapper.map_categ(tags, method=\"most_specific\")\n",
    "                categ_sequence.append([categ])\n",
    "\n",
    "            except NotValidTypes:\n",
    "                pass\n",
    "            \n",
    "            except NoCategoryMatched:\n",
    "                categ_sequence.append([\"NoCategoryMatched\"]) \n",
    "    \n",
    "    users_categ_sequence[user_id] = agglutinate_consecutive_elements(categ_sequence)\n",
    "    users_categ_sequence_not_list[user_id] = [categ[0] for categ in categ_sequence]"
   ]
  },
  {
   "cell_type": "code",
   "execution_count": null,
   "metadata": {
    "scrolled": false
   },
   "outputs": [],
   "source": [
    "# users_tags_sequence = {}\n",
    "\n",
    "# users = os.listdir(\"outputs/stop_regions/\")\n",
    "# users.reverse()\n",
    "\n",
    "# for user_id in users:\n",
    "#     print(\"Loading user {} data\".format(user_id))\n",
    "#     users_tags_sequence[user_id] = StopRegionGroup(csv_dao.stop_region_sequence(user_id), \n",
    "#                                                     agglutinate_stop_regions=True).sequence_stop_region_tags()[\"tag\"].tolist()"
   ]
  },
  {
   "cell_type": "markdown",
   "metadata": {},
   "source": [
    "## CTW"
   ]
  },
  {
   "cell_type": "markdown",
   "metadata": {},
   "source": [
    "#### SINGLE PARTITION - Same train and test data for each same user"
   ]
  },
  {
   "cell_type": "code",
   "execution_count": null,
   "metadata": {
    "scrolled": true
   },
   "outputs": [],
   "source": [
    "skipped_users = []\n",
    "\n",
    "depths = [2, 3]\n",
    "\n",
    "predict_choice_methods = [\"random_choice\", \"most_likely\", \"random_dummy\"]\n",
    "\n",
    "n=0\n",
    "for user_id in users_categ_sequence.keys():\n",
    "    n += 1\n",
    "    print(\"n:\", n, \"-\", \"user_id:\", user_id)\n",
    "    \n",
    "    for depth in depths:\n",
    "        \n",
    "        for predict_choice_method in predict_choice_methods:\n",
    "    \n",
    "            tags_sequence = [categ[0] for categ in users_categ_sequence[user_id]]\n",
    "            \n",
    "            if len( remove_list_elements(tags_sequence, elements=[[]]) ) < 8:\n",
    "                skipped_users.append(user_id)\n",
    "                continue    \n",
    "\n",
    "            try:\n",
    "                evaluation_ctw_single_partition_light_mem(tags_sequence=tags_sequence, \n",
    "                                                          user_id=user_id, \n",
    "                                                          input_data_version=\"0.1.categ_v1\", \n",
    "                                                          predict_choice_method=predict_choice_method,\n",
    "                                                          dir_name=\"single_partition/\",\n",
    "                                                          depth=depth,\n",
    "                                                          repeats_n=3)\n",
    "\n",
    "            except exceptions.TagsLengthNeedsToBeGreaterThanK:\n",
    "                print(\"TagsLengthNeedsToBeGreaterThanK\")\n",
    "\n"
   ]
  },
  {
   "cell_type": "code",
   "execution_count": null,
   "metadata": {},
   "outputs": [],
   "source": []
  },
  {
   "cell_type": "code",
   "execution_count": null,
   "metadata": {},
   "outputs": [],
   "source": [
    "skipped_users"
   ]
  },
  {
   "cell_type": "markdown",
   "metadata": {},
   "source": [
    "## Markov"
   ]
  },
  {
   "cell_type": "markdown",
   "metadata": {},
   "source": [
    "#### SINGLE PARTITION - Same train and test data for each same user"
   ]
  },
  {
   "cell_type": "code",
   "execution_count": null,
   "metadata": {
    "scrolled": true
   },
   "outputs": [],
   "source": [
    "skipped_users = []\n",
    "\n",
    "n=0\n",
    "for user_id in users_categ_sequence.keys():\n",
    "    n += 1\n",
    "    print(\"n:\", n, \"-\", \"user_id:\", user_id)\n",
    "\n",
    "    if len( remove_list_elements(users_categ_sequence[user_id], elements=[[]]) ) < 8:\n",
    "        skipped_users.append(user_id)\n",
    "        continue    \n",
    "\n",
    "    try:\n",
    "        evaluation_markov_single_partition_light_mem(tags_sequence=users_categ_sequence[user_id], \n",
    "                                                      user_id=user_id, \n",
    "                                                      input_data_version=\"0.1.categ_v1\", \n",
    "                                                      dir_name=\"single_partition/\",\n",
    "                                                      repeats_n=3,\n",
    "                                                      is_distributive=False)\n",
    "        \n",
    "    except exceptions.TagsLengthNeedsToBeGreaterThanK:\n",
    "        print(\"TagsLengthNeedsToBeGreaterThanK\")\n",
    "\n"
   ]
  },
  {
   "cell_type": "markdown",
   "metadata": {},
   "source": [
    "#### CLUSTER - Test with one user, train with the rest of the cluster"
   ]
  },
  {
   "cell_type": "code",
   "execution_count": null,
   "metadata": {},
   "outputs": [],
   "source": [
    "dummy_cluster = pd.read_csv(\"outputs/sr_time_quartiles/knn_freq_categ.csv\")\n",
    "del dummy_cluster[\"0\"]\n",
    "dummy_cluster = dummy_cluster.set_index(\"user_id\")\n",
    "dummy_cluster.head()"
   ]
  },
  {
   "cell_type": "markdown",
   "metadata": {},
   "source": [
    "#### Building clusters data"
   ]
  },
  {
   "cell_type": "code",
   "execution_count": null,
   "metadata": {},
   "outputs": [],
   "source": [
    "cluster_tag_sequences = {}\n",
    "\n",
    "for user_id, knn in dummy_cluster.iterrows():\n",
    "    user_id = str(user_id)\n",
    "\n",
    "    try:\n",
    "        cluster_tag_sequences[user_id] = {user_id: users_categ_sequence[user_id],\n",
    "                                          str(knn[\"1\"]): users_categ_sequence[str(knn[\"1\"])],\n",
    "                                          str(knn[\"2\"]): users_categ_sequence[str(knn[\"2\"])],\n",
    "                                          str(knn[\"3\"]): users_categ_sequence[str(knn[\"3\"])],\n",
    "                                          str(knn[\"4\"]): users_categ_sequence[str(knn[\"4\"])]}\n",
    "    except KeyError:\n",
    "            print(\"user id not used:\", user_id)\n",
    "            pass"
   ]
  },
  {
   "cell_type": "code",
   "execution_count": null,
   "metadata": {},
   "outputs": [],
   "source": [
    "# cluster_tag_sequences = {}\n",
    "\n",
    "# for cluster in clusters[\"cluster\"].drop_duplicates():\n",
    "#     cluster_tag_sequences[cluster] = {}\n",
    "\n",
    "#     cluster_data = clusters[clusters[\"cluster\"] == cluster]\n",
    "\n",
    "#     for user_id in cluster_data[\"user_id\"]:\n",
    "    \n",
    "#         try:\n",
    "            \n",
    "#             cluster_tag_sequences[cluster][str(user_id)] = users_categ_sequence[str(user_id)]\n",
    "    \n",
    "#         except KeyError:\n",
    "#             print(\"user id not used:\", user_id)\n",
    "#             pass\n"
   ]
  },
  {
   "cell_type": "code",
   "execution_count": null,
   "metadata": {
    "scrolled": true
   },
   "outputs": [],
   "source": [
    "n=0\n",
    "for cluster in cluster_tag_sequences.keys():\n",
    "    n += 1\n",
    "    print(user_id, n, \"out of\", len(cluster_tag_sequences.keys()))\n",
    "    cluster_data = cluster_tag_sequences[cluster]\n",
    "    \n",
    "    for user_id in cluster_data.keys():\n",
    "    \n",
    "        try:\n",
    "            evaluation_markov_cluster_light_mem(cluster=cluster_data, \n",
    "                                                test_user_id=user_id, \n",
    "                                                input_data_version=\"0.1.categ_v1\",\n",
    "                                                cluster_version=\"dummy_cluster\",\n",
    "                                                dir_name=\"cluster/\", \n",
    "                                                repeats_n=3, \n",
    "                                                save_result=True)\n",
    "            \n",
    "        except exceptions.ClusterSizeInadequate:\n",
    "            print(\"Small cluster size:\", len(cluster_data))\n"
   ]
  },
  {
   "cell_type": "markdown",
   "metadata": {},
   "source": [
    "#### K FOLD - Train and Test with the same user"
   ]
  },
  {
   "cell_type": "code",
   "execution_count": null,
   "metadata": {
    "scrolled": true
   },
   "outputs": [],
   "source": [
    "skipped_users = []\n",
    "\n",
    "k=4\n",
    "\n",
    "n=0\n",
    "for user_id in users_categ_sequence.keys():\n",
    "    n += 1\n",
    "    print(\"n:\", n, \"-\", \"user_id:\", user_id)\n",
    "\n",
    "    if len( remove_list_elements(tags_sequence, elements=[[]]) ) < 8:\n",
    "        skipped_users.append(user_id)\n",
    "        continue    \n",
    "\n",
    "    try:\n",
    "        evaluation_markov_k_fold_light_mem(users_tags_sequence[user_id],\n",
    "                                           input_data_version=\"0.0\", \n",
    "                                           user_id=user_id, \n",
    "                                           dir_name=\"cluster\",\n",
    "                                           k=k, \n",
    "                                           is_distributive=False)\n",
    "        \n",
    "        evaluation_markov_k_fold_light_mem(users_tags_sequence[user_id], \n",
    "                                           input_data_version=\"0.0\", \n",
    "                                           random_dummy_mode=\"dummy\",\n",
    "                                           user_id=user_id, \n",
    "                                           dir_name=\"cluster\",\n",
    "                                           k=k, \n",
    "                                           is_distributive=False)\n",
    "        \n",
    "        evaluation_markov_k_fold_light_mem(users_tags_sequence[user_id], \n",
    "                                           input_data_version=\"0.0.d\", \n",
    "                                           user_id=user_id, \n",
    "                                           dir_name=\"cluster\",\n",
    "                                           k=k, \n",
    "                                           is_distributive=True)\n",
    "        \n",
    "        evaluation_markov_k_fold_light_mem(users_tags_sequence[user_id], \n",
    "                                           input_data_version=\"0.0.d\", \n",
    "                                           random_dummy_mode=\"cluster\",\n",
    "                                           user_id=user_id, \n",
    "                                           dir_name=\"cluster\",\n",
    "                                           k=k, \n",
    "                                           is_distributive=True)\n",
    "\n",
    "        evaluation_markov_k_fold_light_mem(users_categ_sequence[user_id], \n",
    "                                           input_data_version=\"0.1.categ_v1\", \n",
    "                                           user_id=user_id, \n",
    "                                           dir_name=\"cluster\",\n",
    "                                           k=k, \n",
    "                                           is_distributive=False)\n",
    "\n",
    "        evaluation_markov_k_fold_light_mem(users_categ_sequence[user_id], \n",
    "                                           input_data_version=\"0.1.categ_v1\", \n",
    "                                           random_dummy_mode=\"dummy\",\n",
    "                                           user_id=user_id, \n",
    "                                           dir_name=\"cluster\",\n",
    "                                           k=k, \n",
    "                                           is_distributive=False)\n",
    "\n",
    "\n",
    "    except exceptions.TagsLengthNeedsToBeGreaterThanK:\n",
    "        print(\"TagsLengthNeedsToBeGreaterThanK\")\n",
    "\n"
   ]
  },
  {
   "cell_type": "code",
   "execution_count": null,
   "metadata": {},
   "outputs": [],
   "source": [
    "skipped_users"
   ]
  },
  {
   "cell_type": "markdown",
   "metadata": {},
   "source": [
    "#### ALL VS ONE - Test with one user, train with all the rest of them"
   ]
  },
  {
   "cell_type": "code",
   "execution_count": null,
   "metadata": {},
   "outputs": [],
   "source": [
    "# evaluation_markov_all_users_vs_one_light_mem(users_tags_sequence, \n",
    "#                                       dir_name=\"results\",\n",
    "#                                       input_data_version=\"0.0\", \n",
    "#                                       is_distributive=False)\n",
    "\n",
    "# evaluation_markov_all_users_vs_one_light_mem(users_tags_sequence, \n",
    "#                                       dir_name=\"results\",\n",
    "#                                       random_dummy_mode=\"dummy\", \n",
    "#                                       input_data_version=\"0.0\", \n",
    "#                                       is_distributive=False)\n",
    "\n",
    "\n",
    "# evaluation_markov_all_users_vs_one_light_mem(users_tags_sequence, \n",
    "#                                       dir_name=\"results\",\n",
    "#                                       input_data_version=\"0.0.d\", \n",
    "#                                       is_distributive=True)\n",
    "\n",
    "# evaluation_markov_all_users_vs_one_light_mem(users_tags_sequence, \n",
    "#                                       dir_name=\"results\",\n",
    "#                                       random_dummy_mode=\"dummy\", \n",
    "#                                       input_data_version=\"0.0.d\", \n",
    "#                                       is_distributive=True)\n",
    "\n",
    "\n",
    "evaluation_markov_all_users_vs_one_light_mem(users_categ_sequence, \n",
    "                                      dir_name=\"cluster\",\n",
    "                                      input_data_version=\"0.1.categ_v1\", \n",
    "                                      is_distributive=False)\n",
    "\n",
    "evaluation_markov_all_users_vs_one_light_mem(users_categ_sequence, \n",
    "                                      dir_name=\"cluster\",\n",
    "                                      random_dummy_mode=\"dummy\", \n",
    "                                      input_data_version=\"0.1.categ_v1\", \n",
    "                                      is_distributive=False)"
   ]
  },
  {
   "cell_type": "code",
   "execution_count": null,
   "metadata": {},
   "outputs": [],
   "source": []
  },
  {
   "cell_type": "markdown",
   "metadata": {},
   "source": [
    "# Extreme Travelers"
   ]
  },
  {
   "cell_type": "markdown",
   "metadata": {},
   "source": [
    "#### All users as one cluster"
   ]
  },
  {
   "cell_type": "code",
   "execution_count": null,
   "metadata": {},
   "outputs": [],
   "source": [
    "n=0\n",
    "for user_id in list(users_categ_sequence.keys()):\n",
    "    n += 1\n",
    "    print(\"n:\", n, \"-\", \"user_id:\", user_id)\n",
    "    evaluation_markov_cluster_light_mem(cluster=users_categ_sequence, \n",
    "                                        test_user_id=user_id, \n",
    "                                        input_data_version=\"0.1.categ_v1\", \n",
    "                                        cluster_version=\"all_vs_one\",\n",
    "                                        dir_name=\"clusters_all_vs_one\")"
   ]
  },
  {
   "cell_type": "markdown",
   "metadata": {},
   "source": [
    "#### All users as one cluster <font color=\"red\">for extreme travelers</font>"
   ]
  },
  {
   "cell_type": "code",
   "execution_count": null,
   "metadata": {},
   "outputs": [],
   "source": [
    "eb_group = ['5936', '5938', '5959', '5962', '6020', '6023', '6035', '6043', '6103', '6104', '6168', '6171', '6194']\n",
    "\n",
    "n=0\n",
    "for user_id in eb_group:\n",
    "    n += 1\n",
    "    print(\"n:\", n, \"-\", \"user_id:\", user_id)\n",
    "    evaluation_markov_cluster_light_mem(cluster=users_categ_sequence, \n",
    "                                    test_user_id=user_id, \n",
    "                                    input_data_version=\"0.1.categ_v1\", \n",
    "                                    cluster_version=\"all_vs_early_birds\",\n",
    "                                    dir_name=\"clusters_all_vs_early_birds\")"
   ]
  },
  {
   "cell_type": "code",
   "execution_count": null,
   "metadata": {},
   "outputs": [],
   "source": [
    "no_group = ['5951', '6074', '6078', '6100', '6103', '6183', '6190']\n",
    "\n",
    "n=0\n",
    "for user_id in no_group:\n",
    "    n += 1\n",
    "    print(\"n:\", n, \"-\", \"user_id:\", user_id)\n",
    "    evaluation_markov_cluster_light_mem(cluster=users_categ_sequence, \n",
    "                                    test_user_id=user_id, \n",
    "                                    input_data_version=\"0.1.categ_v1\", \n",
    "                                    cluster_version=\"all_vs_night_owls\",\n",
    "                                    dir_name=\"clusters_all_vs_night_owls\")"
   ]
  },
  {
   "cell_type": "code",
   "execution_count": 9,
   "metadata": {},
   "outputs": [
    {
     "name": "stdout",
     "output_type": "stream",
     "text": [
      "n: 1 - user_id: 5928\n",
      "n: 2 - user_id: 5935\n",
      "n: 3 - user_id: 5938\n",
      "n: 4 - user_id: 5940\n",
      "n: 5 - user_id: 5959\n",
      "n: 6 - user_id: 5965\n",
      "n: 7 - user_id: 5979\n",
      "n: 8 - user_id: 5988\n",
      "n: 9 - user_id: 5989\n",
      "n: 10 - user_id: 6014\n",
      "n: 11 - user_id: 6075\n",
      "n: 12 - user_id: 6085\n",
      "n: 13 - user_id: 6090\n",
      "n: 14 - user_id: 6106\n",
      "n: 15 - user_id: 6177\n",
      "n: 16 - user_id: 6188\n",
      "n: 17 - user_id: 6189\n",
      "n: 18 - user_id: 6194\n"
     ]
    }
   ],
   "source": [
    "ti_group = ['5928', '5935', '5938', '5940', '5959', '5965', '5979', '5988', '5989', '6014', '6075', '6085', '6090', '6106', '6177', '6188', '6189', '6194']\n",
    "\n",
    "n=0\n",
    "for user_id in ti_group:\n",
    "    n += 1\n",
    "    print(\"n:\", n, \"-\", \"user_id:\", user_id)\n",
    "    \n",
    "    try:\n",
    "        evaluation_markov_cluster_light_mem(cluster=users_categ_sequence, \n",
    "                                        test_user_id=user_id, \n",
    "                                        input_data_version=\"0.1.categ_v1\", \n",
    "                                        cluster_version=\"all_vs_tireless_its\",\n",
    "                                        dir_name=\"clusters_all_vs_tireless_its\")\n",
    "    except KeyError:\n",
    "        print(\"Skipping user: {}\".format(user_id))"
   ]
  },
  {
   "cell_type": "markdown",
   "metadata": {},
   "source": [
    "#### Extreme travelers clusters for extreme travelers"
   ]
  },
  {
   "cell_type": "markdown",
   "metadata": {},
   "source": [
    "Bulding Extreme Travelers clusters "
   ]
  },
  {
   "cell_type": "code",
   "execution_count": null,
   "metadata": {},
   "outputs": [],
   "source": [
    "eb_cluster = {}\n",
    "for eb_user_id in eb_group:\n",
    "    eb_cluster[eb_user_id] = users_categ_sequence[eb_user_id]\n",
    "    \n",
    "n=0\n",
    "for user_id in eb_group:\n",
    "    n += 1\n",
    "    print(\"n:\", n, \"-\", \"user_id:\", user_id)\n",
    "    evaluation_markov_cluster_light_mem(cluster=eb_cluster, \n",
    "                                    test_user_id=user_id, \n",
    "                                    input_data_version=\"0.1.categ_v1\", \n",
    "                                    cluster_version=\"cluster_early_birds\",\n",
    "                                    dir_name=\"clusters_early_birds\")"
   ]
  },
  {
   "cell_type": "code",
   "execution_count": null,
   "metadata": {},
   "outputs": [],
   "source": [
    "no_cluster = {}\n",
    "for no_user_id in no_group:\n",
    "    no_cluster[no_user_id] = users_categ_sequence[no_user_id]\n",
    "    \n",
    "n=0\n",
    "for user_id in no_group:\n",
    "    n += 1\n",
    "    print(\"n:\", n, \"-\", \"user_id:\", user_id)\n",
    "    evaluation_markov_cluster_light_mem(cluster=no_cluster, \n",
    "                                    test_user_id=user_id, \n",
    "                                    input_data_version=\"0.1.categ_v1\", \n",
    "                                    cluster_version=\"cluster_night_owls\",\n",
    "                                    dir_name=\"clusters_night_owls\")"
   ]
  },
  {
   "cell_type": "code",
   "execution_count": 8,
   "metadata": {},
   "outputs": [
    {
     "name": "stdout",
     "output_type": "stream",
     "text": [
      "n: 1 - user_id: 5928\n",
      "n: 2 - user_id: 5935\n",
      "n: 3 - user_id: 5938\n",
      "n: 4 - user_id: 5940\n",
      "n: 5 - user_id: 5959\n",
      "n: 6 - user_id: 5965\n",
      "n: 7 - user_id: 5979\n",
      "n: 8 - user_id: 5988\n",
      "n: 9 - user_id: 5989\n",
      "n: 10 - user_id: 6014\n",
      "n: 11 - user_id: 6075\n",
      "n: 12 - user_id: 6085\n",
      "n: 13 - user_id: 6090\n",
      "n: 14 - user_id: 6106\n",
      "n: 15 - user_id: 6177\n",
      "n: 16 - user_id: 6188\n",
      "n: 17 - user_id: 6189\n",
      "n: 18 - user_id: 6194\n"
     ]
    }
   ],
   "source": [
    "ti_cluster = {}\n",
    "for ti_user_id in ti_group:\n",
    "    try:\n",
    "        ti_cluster[ti_user_id] = users_categ_sequence[ti_user_id]\n",
    "    except KeyError:\n",
    "        print(\"Skipping user: {}\".format(user_id))\n",
    "    \n",
    "n=0\n",
    "for user_id in ti_group:\n",
    "    n += 1\n",
    "    print(\"n:\", n, \"-\", \"user_id:\", user_id)\n",
    "    try:\n",
    "        evaluation_markov_cluster_light_mem(cluster=ti_cluster, \n",
    "                                        test_user_id=user_id, \n",
    "                                        input_data_version=\"0.1.categ_v1\", \n",
    "                                        cluster_version=\"cluster_tireless_its\",\n",
    "                                        dir_name=\"clusters_tireless_its\")\n",
    "    except KeyError:\n",
    "        print(\"Skipping user: {}\".format(user_id))"
   ]
  },
  {
   "cell_type": "code",
   "execution_count": null,
   "metadata": {},
   "outputs": [],
   "source": []
  }
 ],
 "metadata": {
  "kernelspec": {
   "display_name": "Python 3",
   "language": "python",
   "name": "python3"
  },
  "language_info": {
   "codemirror_mode": {
    "name": "ipython",
    "version": 3
   },
   "file_extension": ".py",
   "mimetype": "text/x-python",
   "name": "python",
   "nbconvert_exporter": "python",
   "pygments_lexer": "ipython3",
   "version": "3.6.5"
  }
 },
 "nbformat": 4,
 "nbformat_minor": 2
}
