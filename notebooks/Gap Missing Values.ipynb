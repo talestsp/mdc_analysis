{
 "cells": [
  {
   "cell_type": "markdown",
   "metadata": {},
   "source": [
    "# Gap Missing Values"
   ]
  },
  {
   "cell_type": "code",
   "execution_count": 1,
   "metadata": {},
   "outputs": [
    {
     "name": "stdout",
     "output_type": "stream",
     "text": [
      "working dir /home/tales/dev/master/mdc_analysis\n"
     ]
    }
   ],
   "source": [
    "import os\n",
    "os.chdir(\"/home/tales/dev/master/mdc_analysis/\")\n",
    "print(\"working dir\", os.getcwd())"
   ]
  },
  {
   "cell_type": "code",
   "execution_count": 2,
   "metadata": {},
   "outputs": [],
   "source": [
    "import pandas as pd\n",
    "import math\n",
    "\n",
    "from bokeh.models import PrintfTickFormatter\n",
    "from bokeh.io import output_notebook, show\n",
    "\n",
    "from src.dao import csv_dao, objects_dao\n",
    "from src.plot.basic_plot import plot_result\n",
    "from src.similarity.extreme_travelers import sequence_report\n",
    "from src.utils.time_utils import human_time\n",
    "\n",
    "import warnings\n",
    "warnings.simplefilter(action='ignore', category=FutureWarning)"
   ]
  },
  {
   "cell_type": "code",
   "execution_count": 3,
   "metadata": {},
   "outputs": [
    {
     "data": {
      "text/html": [
       "\n",
       "    <div class=\"bk-root\">\n",
       "        <a href=\"https://bokeh.pydata.org\" target=\"_blank\" class=\"bk-logo bk-logo-small bk-logo-notebook\"></a>\n",
       "        <span id=\"90d0b5f7-e901-42e6-be9d-511f88fc3da1\">Loading BokehJS ...</span>\n",
       "    </div>"
      ]
     },
     "metadata": {},
     "output_type": "display_data"
    },
    {
     "data": {
      "application/javascript": [
       "\n",
       "(function(root) {\n",
       "  function now() {\n",
       "    return new Date();\n",
       "  }\n",
       "\n",
       "  var force = true;\n",
       "\n",
       "  if (typeof (root._bokeh_onload_callbacks) === \"undefined\" || force === true) {\n",
       "    root._bokeh_onload_callbacks = [];\n",
       "    root._bokeh_is_loading = undefined;\n",
       "  }\n",
       "\n",
       "  var JS_MIME_TYPE = 'application/javascript';\n",
       "  var HTML_MIME_TYPE = 'text/html';\n",
       "  var EXEC_MIME_TYPE = 'application/vnd.bokehjs_exec.v0+json';\n",
       "  var CLASS_NAME = 'output_bokeh rendered_html';\n",
       "\n",
       "  /**\n",
       "   * Render data to the DOM node\n",
       "   */\n",
       "  function render(props, node) {\n",
       "    var script = document.createElement(\"script\");\n",
       "    node.appendChild(script);\n",
       "  }\n",
       "\n",
       "  /**\n",
       "   * Handle when an output is cleared or removed\n",
       "   */\n",
       "  function handleClearOutput(event, handle) {\n",
       "    var cell = handle.cell;\n",
       "\n",
       "    var id = cell.output_area._bokeh_element_id;\n",
       "    var server_id = cell.output_area._bokeh_server_id;\n",
       "    // Clean up Bokeh references\n",
       "    if (id !== undefined) {\n",
       "      Bokeh.index[id].model.document.clear();\n",
       "      delete Bokeh.index[id];\n",
       "    }\n",
       "\n",
       "    if (server_id !== undefined) {\n",
       "      // Clean up Bokeh references\n",
       "      var cmd = \"from bokeh.io.state import curstate; print(curstate().uuid_to_server['\" + server_id + \"'].get_sessions()[0].document.roots[0]._id)\";\n",
       "      cell.notebook.kernel.execute(cmd, {\n",
       "        iopub: {\n",
       "          output: function(msg) {\n",
       "            var element_id = msg.content.text.trim();\n",
       "            Bokeh.index[element_id].model.document.clear();\n",
       "            delete Bokeh.index[element_id];\n",
       "          }\n",
       "        }\n",
       "      });\n",
       "      // Destroy server and session\n",
       "      var cmd = \"import bokeh.io.notebook as ion; ion.destroy_server('\" + server_id + \"')\";\n",
       "      cell.notebook.kernel.execute(cmd);\n",
       "    }\n",
       "  }\n",
       "\n",
       "  /**\n",
       "   * Handle when a new output is added\n",
       "   */\n",
       "  function handleAddOutput(event, handle) {\n",
       "    var output_area = handle.output_area;\n",
       "    var output = handle.output;\n",
       "\n",
       "    // limit handleAddOutput to display_data with EXEC_MIME_TYPE content only\n",
       "    if ((output.output_type != \"display_data\") || (!output.data.hasOwnProperty(EXEC_MIME_TYPE))) {\n",
       "      return\n",
       "    }\n",
       "\n",
       "    var toinsert = output_area.element.find(\".\" + CLASS_NAME.split(' ')[0]);\n",
       "\n",
       "    if (output.metadata[EXEC_MIME_TYPE][\"id\"] !== undefined) {\n",
       "      toinsert[toinsert.length - 1].firstChild.textContent = output.data[JS_MIME_TYPE];\n",
       "      // store reference to embed id on output_area\n",
       "      output_area._bokeh_element_id = output.metadata[EXEC_MIME_TYPE][\"id\"];\n",
       "    }\n",
       "    if (output.metadata[EXEC_MIME_TYPE][\"server_id\"] !== undefined) {\n",
       "      var bk_div = document.createElement(\"div\");\n",
       "      bk_div.innerHTML = output.data[HTML_MIME_TYPE];\n",
       "      var script_attrs = bk_div.children[0].attributes;\n",
       "      for (var i = 0; i < script_attrs.length; i++) {\n",
       "        toinsert[toinsert.length - 1].firstChild.setAttribute(script_attrs[i].name, script_attrs[i].value);\n",
       "      }\n",
       "      // store reference to server id on output_area\n",
       "      output_area._bokeh_server_id = output.metadata[EXEC_MIME_TYPE][\"server_id\"];\n",
       "    }\n",
       "  }\n",
       "\n",
       "  function register_renderer(events, OutputArea) {\n",
       "\n",
       "    function append_mime(data, metadata, element) {\n",
       "      // create a DOM node to render to\n",
       "      var toinsert = this.create_output_subarea(\n",
       "        metadata,\n",
       "        CLASS_NAME,\n",
       "        EXEC_MIME_TYPE\n",
       "      );\n",
       "      this.keyboard_manager.register_events(toinsert);\n",
       "      // Render to node\n",
       "      var props = {data: data, metadata: metadata[EXEC_MIME_TYPE]};\n",
       "      render(props, toinsert[toinsert.length - 1]);\n",
       "      element.append(toinsert);\n",
       "      return toinsert\n",
       "    }\n",
       "\n",
       "    /* Handle when an output is cleared or removed */\n",
       "    events.on('clear_output.CodeCell', handleClearOutput);\n",
       "    events.on('delete.Cell', handleClearOutput);\n",
       "\n",
       "    /* Handle when a new output is added */\n",
       "    events.on('output_added.OutputArea', handleAddOutput);\n",
       "\n",
       "    /**\n",
       "     * Register the mime type and append_mime function with output_area\n",
       "     */\n",
       "    OutputArea.prototype.register_mime_type(EXEC_MIME_TYPE, append_mime, {\n",
       "      /* Is output safe? */\n",
       "      safe: true,\n",
       "      /* Index of renderer in `output_area.display_order` */\n",
       "      index: 0\n",
       "    });\n",
       "  }\n",
       "\n",
       "  // register the mime type if in Jupyter Notebook environment and previously unregistered\n",
       "  if (root.Jupyter !== undefined) {\n",
       "    var events = require('base/js/events');\n",
       "    var OutputArea = require('notebook/js/outputarea').OutputArea;\n",
       "\n",
       "    if (OutputArea.prototype.mime_types().indexOf(EXEC_MIME_TYPE) == -1) {\n",
       "      register_renderer(events, OutputArea);\n",
       "    }\n",
       "  }\n",
       "\n",
       "  \n",
       "  if (typeof (root._bokeh_timeout) === \"undefined\" || force === true) {\n",
       "    root._bokeh_timeout = Date.now() + 5000;\n",
       "    root._bokeh_failed_load = false;\n",
       "  }\n",
       "\n",
       "  var NB_LOAD_WARNING = {'data': {'text/html':\n",
       "     \"<div style='background-color: #fdd'>\\n\"+\n",
       "     \"<p>\\n\"+\n",
       "     \"BokehJS does not appear to have successfully loaded. If loading BokehJS from CDN, this \\n\"+\n",
       "     \"may be due to a slow or bad network connection. Possible fixes:\\n\"+\n",
       "     \"</p>\\n\"+\n",
       "     \"<ul>\\n\"+\n",
       "     \"<li>re-rerun `output_notebook()` to attempt to load from CDN again, or</li>\\n\"+\n",
       "     \"<li>use INLINE resources instead, as so:</li>\\n\"+\n",
       "     \"</ul>\\n\"+\n",
       "     \"<code>\\n\"+\n",
       "     \"from bokeh.resources import INLINE\\n\"+\n",
       "     \"output_notebook(resources=INLINE)\\n\"+\n",
       "     \"</code>\\n\"+\n",
       "     \"</div>\"}};\n",
       "\n",
       "  function display_loaded() {\n",
       "    var el = document.getElementById(\"90d0b5f7-e901-42e6-be9d-511f88fc3da1\");\n",
       "    if (el != null) {\n",
       "      el.textContent = \"BokehJS is loading...\";\n",
       "    }\n",
       "    if (root.Bokeh !== undefined) {\n",
       "      if (el != null) {\n",
       "        el.textContent = \"BokehJS \" + root.Bokeh.version + \" successfully loaded.\";\n",
       "      }\n",
       "    } else if (Date.now() < root._bokeh_timeout) {\n",
       "      setTimeout(display_loaded, 100)\n",
       "    }\n",
       "  }\n",
       "\n",
       "\n",
       "  function run_callbacks() {\n",
       "    try {\n",
       "      root._bokeh_onload_callbacks.forEach(function(callback) { callback() });\n",
       "    }\n",
       "    finally {\n",
       "      delete root._bokeh_onload_callbacks\n",
       "    }\n",
       "    console.info(\"Bokeh: all callbacks have finished\");\n",
       "  }\n",
       "\n",
       "  function load_libs(js_urls, callback) {\n",
       "    root._bokeh_onload_callbacks.push(callback);\n",
       "    if (root._bokeh_is_loading > 0) {\n",
       "      console.log(\"Bokeh: BokehJS is being loaded, scheduling callback at\", now());\n",
       "      return null;\n",
       "    }\n",
       "    if (js_urls == null || js_urls.length === 0) {\n",
       "      run_callbacks();\n",
       "      return null;\n",
       "    }\n",
       "    console.log(\"Bokeh: BokehJS not loaded, scheduling load and callback at\", now());\n",
       "    root._bokeh_is_loading = js_urls.length;\n",
       "    for (var i = 0; i < js_urls.length; i++) {\n",
       "      var url = js_urls[i];\n",
       "      var s = document.createElement('script');\n",
       "      s.src = url;\n",
       "      s.async = false;\n",
       "      s.onreadystatechange = s.onload = function() {\n",
       "        root._bokeh_is_loading--;\n",
       "        if (root._bokeh_is_loading === 0) {\n",
       "          console.log(\"Bokeh: all BokehJS libraries loaded\");\n",
       "          run_callbacks()\n",
       "        }\n",
       "      };\n",
       "      s.onerror = function() {\n",
       "        console.warn(\"failed to load library \" + url);\n",
       "      };\n",
       "      console.log(\"Bokeh: injecting script tag for BokehJS library: \", url);\n",
       "      document.getElementsByTagName(\"head\")[0].appendChild(s);\n",
       "    }\n",
       "  };var element = document.getElementById(\"90d0b5f7-e901-42e6-be9d-511f88fc3da1\");\n",
       "  if (element == null) {\n",
       "    console.log(\"Bokeh: ERROR: autoload.js configured with elementid '90d0b5f7-e901-42e6-be9d-511f88fc3da1' but no matching script tag was found. \")\n",
       "    return false;\n",
       "  }\n",
       "\n",
       "  var js_urls = [\"https://cdn.pydata.org/bokeh/release/bokeh-0.12.16.min.js\", \"https://cdn.pydata.org/bokeh/release/bokeh-widgets-0.12.16.min.js\", \"https://cdn.pydata.org/bokeh/release/bokeh-tables-0.12.16.min.js\", \"https://cdn.pydata.org/bokeh/release/bokeh-gl-0.12.16.min.js\"];\n",
       "\n",
       "  var inline_js = [\n",
       "    function(Bokeh) {\n",
       "      Bokeh.set_log_level(\"info\");\n",
       "    },\n",
       "    \n",
       "    function(Bokeh) {\n",
       "      \n",
       "    },\n",
       "    function(Bokeh) {\n",
       "      console.log(\"Bokeh: injecting CSS: https://cdn.pydata.org/bokeh/release/bokeh-0.12.16.min.css\");\n",
       "      Bokeh.embed.inject_css(\"https://cdn.pydata.org/bokeh/release/bokeh-0.12.16.min.css\");\n",
       "      console.log(\"Bokeh: injecting CSS: https://cdn.pydata.org/bokeh/release/bokeh-widgets-0.12.16.min.css\");\n",
       "      Bokeh.embed.inject_css(\"https://cdn.pydata.org/bokeh/release/bokeh-widgets-0.12.16.min.css\");\n",
       "      console.log(\"Bokeh: injecting CSS: https://cdn.pydata.org/bokeh/release/bokeh-tables-0.12.16.min.css\");\n",
       "      Bokeh.embed.inject_css(\"https://cdn.pydata.org/bokeh/release/bokeh-tables-0.12.16.min.css\");\n",
       "    }\n",
       "  ];\n",
       "\n",
       "  function run_inline_js() {\n",
       "    \n",
       "    if ((root.Bokeh !== undefined) || (force === true)) {\n",
       "      for (var i = 0; i < inline_js.length; i++) {\n",
       "        inline_js[i].call(root, root.Bokeh);\n",
       "      }if (force === true) {\n",
       "        display_loaded();\n",
       "      }} else if (Date.now() < root._bokeh_timeout) {\n",
       "      setTimeout(run_inline_js, 100);\n",
       "    } else if (!root._bokeh_failed_load) {\n",
       "      console.log(\"Bokeh: BokehJS failed to load within specified timeout.\");\n",
       "      root._bokeh_failed_load = true;\n",
       "    } else if (force !== true) {\n",
       "      var cell = $(document.getElementById(\"90d0b5f7-e901-42e6-be9d-511f88fc3da1\")).parents('.cell').data().cell;\n",
       "      cell.output_area.append_execute_result(NB_LOAD_WARNING)\n",
       "    }\n",
       "\n",
       "  }\n",
       "\n",
       "  if (root._bokeh_is_loading === 0) {\n",
       "    console.log(\"Bokeh: BokehJS loaded, going straight to plotting\");\n",
       "    run_inline_js();\n",
       "  } else {\n",
       "    load_libs(js_urls, function() {\n",
       "      console.log(\"Bokeh: BokehJS plotting callback run at\", now());\n",
       "      run_inline_js();\n",
       "    });\n",
       "  }\n",
       "}(window));"
      ],
      "application/vnd.bokehjs_load.v0+json": "\n(function(root) {\n  function now() {\n    return new Date();\n  }\n\n  var force = true;\n\n  if (typeof (root._bokeh_onload_callbacks) === \"undefined\" || force === true) {\n    root._bokeh_onload_callbacks = [];\n    root._bokeh_is_loading = undefined;\n  }\n\n  \n\n  \n  if (typeof (root._bokeh_timeout) === \"undefined\" || force === true) {\n    root._bokeh_timeout = Date.now() + 5000;\n    root._bokeh_failed_load = false;\n  }\n\n  var NB_LOAD_WARNING = {'data': {'text/html':\n     \"<div style='background-color: #fdd'>\\n\"+\n     \"<p>\\n\"+\n     \"BokehJS does not appear to have successfully loaded. If loading BokehJS from CDN, this \\n\"+\n     \"may be due to a slow or bad network connection. Possible fixes:\\n\"+\n     \"</p>\\n\"+\n     \"<ul>\\n\"+\n     \"<li>re-rerun `output_notebook()` to attempt to load from CDN again, or</li>\\n\"+\n     \"<li>use INLINE resources instead, as so:</li>\\n\"+\n     \"</ul>\\n\"+\n     \"<code>\\n\"+\n     \"from bokeh.resources import INLINE\\n\"+\n     \"output_notebook(resources=INLINE)\\n\"+\n     \"</code>\\n\"+\n     \"</div>\"}};\n\n  function display_loaded() {\n    var el = document.getElementById(\"90d0b5f7-e901-42e6-be9d-511f88fc3da1\");\n    if (el != null) {\n      el.textContent = \"BokehJS is loading...\";\n    }\n    if (root.Bokeh !== undefined) {\n      if (el != null) {\n        el.textContent = \"BokehJS \" + root.Bokeh.version + \" successfully loaded.\";\n      }\n    } else if (Date.now() < root._bokeh_timeout) {\n      setTimeout(display_loaded, 100)\n    }\n  }\n\n\n  function run_callbacks() {\n    try {\n      root._bokeh_onload_callbacks.forEach(function(callback) { callback() });\n    }\n    finally {\n      delete root._bokeh_onload_callbacks\n    }\n    console.info(\"Bokeh: all callbacks have finished\");\n  }\n\n  function load_libs(js_urls, callback) {\n    root._bokeh_onload_callbacks.push(callback);\n    if (root._bokeh_is_loading > 0) {\n      console.log(\"Bokeh: BokehJS is being loaded, scheduling callback at\", now());\n      return null;\n    }\n    if (js_urls == null || js_urls.length === 0) {\n      run_callbacks();\n      return null;\n    }\n    console.log(\"Bokeh: BokehJS not loaded, scheduling load and callback at\", now());\n    root._bokeh_is_loading = js_urls.length;\n    for (var i = 0; i < js_urls.length; i++) {\n      var url = js_urls[i];\n      var s = document.createElement('script');\n      s.src = url;\n      s.async = false;\n      s.onreadystatechange = s.onload = function() {\n        root._bokeh_is_loading--;\n        if (root._bokeh_is_loading === 0) {\n          console.log(\"Bokeh: all BokehJS libraries loaded\");\n          run_callbacks()\n        }\n      };\n      s.onerror = function() {\n        console.warn(\"failed to load library \" + url);\n      };\n      console.log(\"Bokeh: injecting script tag for BokehJS library: \", url);\n      document.getElementsByTagName(\"head\")[0].appendChild(s);\n    }\n  };var element = document.getElementById(\"90d0b5f7-e901-42e6-be9d-511f88fc3da1\");\n  if (element == null) {\n    console.log(\"Bokeh: ERROR: autoload.js configured with elementid '90d0b5f7-e901-42e6-be9d-511f88fc3da1' but no matching script tag was found. \")\n    return false;\n  }\n\n  var js_urls = [\"https://cdn.pydata.org/bokeh/release/bokeh-0.12.16.min.js\", \"https://cdn.pydata.org/bokeh/release/bokeh-widgets-0.12.16.min.js\", \"https://cdn.pydata.org/bokeh/release/bokeh-tables-0.12.16.min.js\", \"https://cdn.pydata.org/bokeh/release/bokeh-gl-0.12.16.min.js\"];\n\n  var inline_js = [\n    function(Bokeh) {\n      Bokeh.set_log_level(\"info\");\n    },\n    \n    function(Bokeh) {\n      \n    },\n    function(Bokeh) {\n      console.log(\"Bokeh: injecting CSS: https://cdn.pydata.org/bokeh/release/bokeh-0.12.16.min.css\");\n      Bokeh.embed.inject_css(\"https://cdn.pydata.org/bokeh/release/bokeh-0.12.16.min.css\");\n      console.log(\"Bokeh: injecting CSS: https://cdn.pydata.org/bokeh/release/bokeh-widgets-0.12.16.min.css\");\n      Bokeh.embed.inject_css(\"https://cdn.pydata.org/bokeh/release/bokeh-widgets-0.12.16.min.css\");\n      console.log(\"Bokeh: injecting CSS: https://cdn.pydata.org/bokeh/release/bokeh-tables-0.12.16.min.css\");\n      Bokeh.embed.inject_css(\"https://cdn.pydata.org/bokeh/release/bokeh-tables-0.12.16.min.css\");\n    }\n  ];\n\n  function run_inline_js() {\n    \n    if ((root.Bokeh !== undefined) || (force === true)) {\n      for (var i = 0; i < inline_js.length; i++) {\n        inline_js[i].call(root, root.Bokeh);\n      }if (force === true) {\n        display_loaded();\n      }} else if (Date.now() < root._bokeh_timeout) {\n      setTimeout(run_inline_js, 100);\n    } else if (!root._bokeh_failed_load) {\n      console.log(\"Bokeh: BokehJS failed to load within specified timeout.\");\n      root._bokeh_failed_load = true;\n    } else if (force !== true) {\n      var cell = $(document.getElementById(\"90d0b5f7-e901-42e6-be9d-511f88fc3da1\")).parents('.cell').data().cell;\n      cell.output_area.append_execute_result(NB_LOAD_WARNING)\n    }\n\n  }\n\n  if (root._bokeh_is_loading === 0) {\n    console.log(\"Bokeh: BokehJS loaded, going straight to plotting\");\n    run_inline_js();\n  } else {\n    load_libs(js_urls, function() {\n      console.log(\"Bokeh: BokehJS plotting callback run at\", now());\n      run_inline_js();\n    });\n  }\n}(window));"
     },
     "metadata": {},
     "output_type": "display_data"
    }
   ],
   "source": [
    "output_notebook()"
   ]
  },
  {
   "cell_type": "markdown",
   "metadata": {},
   "source": [
    "## Loading User Data"
   ]
  },
  {
   "cell_type": "code",
   "execution_count": 4,
   "metadata": {
    "scrolled": true
   },
   "outputs": [],
   "source": [
    "# users_srg = objects_dao.load_all_stop_region_group_object()\n",
    "# users_tags = objects_dao.load_users_tags_sequence(sr_stay_time_above_h=0.5)[\"orignal\"]"
   ]
  },
  {
   "cell_type": "code",
   "execution_count": 5,
   "metadata": {},
   "outputs": [],
   "source": [
    "users_gps_dir = os.listdir(\"outputs/user_gps/\")\n",
    "users_gps = {}\n",
    "\n",
    "for user_gps_dir in users_gps_dir:\n",
    "    user = user_gps_dir.split(\"_\")[0]\n",
    "    users_gps[user] = csv_dao.load_user_gps_csv(user)"
   ]
  },
  {
   "cell_type": "markdown",
   "metadata": {},
   "source": [
    "## Gaps"
   ]
  },
  {
   "cell_type": "markdown",
   "metadata": {},
   "source": [
    "How many gaps above 06h ? <br> \n",
    "How many gaps above 12h ? <br> \n",
    "How many gaps above 24h ? <br>\n",
    "How many gaps above 48h ? <br>\n",
    "How much time the user has participated?"
   ]
  },
  {
   "cell_type": "code",
   "execution_count": 6,
   "metadata": {},
   "outputs": [],
   "source": [
    "def gap_missing_values(report):\n",
    "    t2 = report.iloc[1:len(report)][\"local_time\"].astype(float).reset_index(drop=True)\n",
    "    t1 = report.iloc[0:len(report) - 1][\"local_time\"].astype(float).reset_index(drop=True)\n",
    "    return t2 - t1\n",
    "\n",
    "def gap_amount(gap, min_time_h):\n",
    "    present_data_sum = gap[gap <= 60 * 60 * min_time_h].sum()\n",
    "    missing_data_sum = gap[gap > 60 * 60 * min_time_h].sum()\n",
    "    \n",
    "    return {\"missing_data_sum\": missing_data_sum, \"present_data_sum\": present_data_sum}\n",
    "\n",
    "def user_time_participation(report):\n",
    "    first = report[\"local_time\"].min()\n",
    "    last = report[\"local_time\"].max()\n",
    "    \n",
    "    n_days = (last - first) / (60*60*24)\n",
    "    \n",
    "    return {\"n_days\": n_days,\n",
    "            \"n_years\": n_days / 365.25,\n",
    "            \"datetime_start\": human_time(first, datetime_format='%d-%m-%Y %H:%M:%S')[\"datetime\"],\n",
    "            \"datetime_end\": human_time(last, datetime_format='%d-%m-%Y %H:%M:%S')[\"datetime\"]}\n",
    "    \n",
    "def gaps_summary(gaps, min_time_h):\n",
    "    selection = gaps[gaps > 60 * 60 * min_time_h]\n",
    "    return {\"n_gaps\": len(selection),\n",
    "            \"median_sec\": selection.median(),\n",
    "            \"min_time_gap\": min_time_h}\n",
    "\n",
    "def merge_dicts(dicts):\n",
    "    final_dict = {}\n",
    "    \n",
    "    for d in dicts:\n",
    "        \n",
    "        for k in d.keys():\n",
    "            final_dict[k] = d[k]\n",
    "\n",
    "    return final_dict\n",
    "\n",
    "def gaps_week(gaps, user_data, min_time_h):    \n",
    "    gaps_df = pd.DataFrame({\"gaps\": gaps.tolist(), \"local_time\": user_data[\"local_time\"][0:-1].tolist()})\n",
    "    gaps_df[\"week\"] = ((gaps_df[\"local_time\"] - gaps_df[\"local_time\"].min()) / (60*60*24*7)).apply(math.floor)\n",
    "    \n",
    "    return gaps_df[gaps_df[\"gaps\"] > 60*60*min_time_h]"
   ]
  },
  {
   "cell_type": "code",
   "execution_count": 7,
   "metadata": {},
   "outputs": [],
   "source": [
    "gaps_data = []\n",
    "\n",
    "for user_id in users_gps.keys():\n",
    "    user_gps = users_gps[user_id]\n",
    "   \n",
    "    if len(user_gps) == 0:\n",
    "        continue\n",
    "\n",
    "    gaps = gap_missing_values(user_gps)\n",
    "    \n",
    "    user_data = {\"user_id\": user_id}\n",
    "    user_time = user_time_participation(user_gps)\n",
    "    \n",
    "    for hour in [6, 12, 18, 24, 30, 36, 42, 48]:\n",
    "        user_gaps_report = gaps_summary(gaps, hour)\n",
    "        gap_time_sum = gap_amount(gaps, hour)\n",
    "        \n",
    "        gaps_data.append(merge_dicts([user_data, user_time, user_gaps_report, gap_time_sum]))\n",
    "\n",
    "gaps_data = pd.DataFrame(gaps_data)[[\"user_id\", \"min_time_gap\", \"n_gaps\", \"median_sec\", \"missing_data_sum\", \"present_data_sum\", \"datetime_end\", \"datetime_start\", \"n_years\", \"n_days\"]]"
   ]
  },
  {
   "cell_type": "markdown",
   "metadata": {},
   "source": [
    "### Counting number of gaps \n",
    "Gaps grater than 6, 12, 18, 24, 30, 36, 42 and 48 hours"
   ]
  },
  {
   "cell_type": "code",
   "execution_count": 8,
   "metadata": {},
   "outputs": [
    {
     "data": {
      "text/plain": [
       "<matplotlib.axes._subplots.AxesSubplot at 0x7fb5513ba6d8>"
      ]
     },
     "execution_count": 8,
     "metadata": {},
     "output_type": "execute_result"
    },
    {
     "data": {
      "image/png": "[encoded data removed]",
      "text/plain": [
       "<matplotlib.figure.Figure at 0x7fb5513ba908>"
      ]
     },
     "metadata": {},
     "output_type": "display_data"
    }
   ],
   "source": [
    "gaps_data.groupby(\"min_time_gap\")[\"n_gaps\"].median().plot.bar(title=\"Gaps frequency median by minimum time\")"
   ]
  },
  {
   "cell_type": "markdown",
   "metadata": {},
   "source": [
    "### Counting frequency of gaps per day \n",
    "Gaps grater than 6, 12, 18, 24, 30, 36, 42 and 48 hours"
   ]
  },
  {
   "cell_type": "code",
   "execution_count": 9,
   "metadata": {},
   "outputs": [
    {
     "data": {
      "text/plain": [
       "<matplotlib.axes._subplots.AxesSubplot at 0x7fb5513bac50>"
      ]
     },
     "execution_count": 9,
     "metadata": {},
     "output_type": "execute_result"
    },
    {
     "data": {
      "image/png": "[encoded data removed]",
      "text/plain": [
       "<matplotlib.figure.Figure at 0x7fb55138e7b8>"
      ]
     },
     "metadata": {},
     "output_type": "display_data"
    }
   ],
   "source": [
    "gaps_data[\"gaps_per_day\"] = gaps_data[\"n_gaps\"] / gaps_data[\"n_days\"]\n",
    "gaps_data.groupby(\"min_time_gap\")[\"gaps_per_day\"].median().plot.bar(title=\"Gaps per day median for each min_time gap\")"
   ]
  },
  {
   "cell_type": "markdown",
   "metadata": {},
   "source": [
    "### What is the proportion of total gaps times \n",
    "Gaps grater than 6, 12, 18, 24, 30, 36, 42 and 48 hours"
   ]
  },
  {
   "cell_type": "code",
   "execution_count": 10,
   "metadata": {},
   "outputs": [],
   "source": [
    "gaps_data[\"valid_amount_h\"] = gaps_data[\"missing_data_sum\"] / (gaps_data[\"missing_data_sum\"] + gaps_data[\"present_data_sum\"])"
   ]
  },
  {
   "cell_type": "code",
   "execution_count": 11,
   "metadata": {},
   "outputs": [
    {
     "data": {
      "text/plain": [
       "<matplotlib.axes._subplots.AxesSubplot at 0x7fb551371a20>"
      ]
     },
     "execution_count": 11,
     "metadata": {},
     "output_type": "execute_result"
    },
    {
     "data": {
      "image/png": "[encoded data removed]",
      "text/plain": [
       "<matplotlib.figure.Figure at 0x7fb5512983c8>"
      ]
     },
     "metadata": {},
     "output_type": "display_data"
    }
   ],
   "source": [
    "gaps_data.groupby(\"min_time_gap\")[\"valid_amount_h\"].median().plot.bar(title=\"Proportion of missing data among all data\")"
   ]
  },
  {
   "cell_type": "markdown",
   "metadata": {},
   "source": [
    "# Case Study"
   ]
  },
  {
   "cell_type": "code",
   "execution_count": 12,
   "metadata": {},
   "outputs": [],
   "source": [
    "def gaps_report(users_gps, user_id, min_time_gap_h):\n",
    "    user_id = str(user_id)\n",
    "    print(\"USER:\", user_id)\n",
    "    print()\n",
    "    user_data = users_gps[user_id]\n",
    "    gaps = gap_missing_values(user_data)\n",
    "    print(\"total days    : {0:.2f}\".format(user_time_participation(user_data)[\"n_days\"]))\n",
    "    print(\"total hours   : {0:.2f}\".format((user_data[\"local_time\"].max() - user_data[\"local_time\"].min()) / (60*60) ))\n",
    "\n",
    "    print()\n",
    "    amount = gap_amount(gaps, min_time_h=6)\n",
    "    print(\"gap hours     : {0:.2f}h\".format(amount[\"missing_data_sum\"] / (60*60)))\n",
    "    print(\"gap prop.     : {0:.2f}%\".format(amount[\"missing_data_sum\"] *100 / (amount[\"present_data_sum\"] + amount[\"missing_data_sum\"])))\n",
    "\n",
    "    print()\n",
    "    summary = gaps_summary(gaps, min_time_h=min_time_gap_h)\n",
    "    print(\"n gaps {}h    : {}\".format(summary[\"min_time_gap\"], summary[\"n_gaps\"]))\n",
    "    print(\"gap len       : {0:.2f}h (median)\".format(summary[\"median_sec\"] / (60*60)))\n",
    "    \n",
    "    gaps_df = gaps_week(gaps, user_data, min_time_h=min_time_gap_h)\n",
    "    gaps_week_df = gaps_df.groupby(\"week\")[\"gaps\"].sum()\n",
    "    gaps_week_df = gaps_week_df / (60*60)\n",
    "\n",
    "    p = plot_result(xs=gaps_week_df.index.tolist(), \n",
    "                    ys=gaps_week_df.tolist(), \n",
    "                    x_label=\"week\", \n",
    "                    y_label=\"gap total hours\", \n",
    "                    line_width=1, circle_size=4, alpha=0.3, \n",
    "                    title=\"User: {} - Gap lengths per week - considering only gaps above {}h\".format(user_id, min_time_gap_h), width=900, height=300)\n",
    "\n",
    "    p.yaxis[0].formatter = PrintfTickFormatter()\n",
    "\n",
    "    show(p)"
   ]
  },
  {
   "cell_type": "markdown",
   "metadata": {},
   "source": [
    "### user 5928"
   ]
  },
  {
   "cell_type": "code",
   "execution_count": 13,
   "metadata": {},
   "outputs": [
    {
     "name": "stdout",
     "output_type": "stream",
     "text": [
      "USER: 5928\n",
      "\n",
      "total days    : 497.40\n",
      "total hours   : 11937.69\n",
      "\n",
      "gap hours     : 6901.48h\n",
      "gap prop.     : 57.81%\n",
      "\n",
      "n gaps 18h    : 103\n",
      "gap len       : 22.55h (median)\n"
     ]
    },
    {
     "data": {
      "text/html": [
       "\n",
       "<div class=\"bk-root\">\n",
       "    <div class=\"bk-plotdiv\" id=\"b4a1d473-2290-4f37-8392-990540597963\"></div>\n",
       "</div>"
      ]
     },
     "metadata": {},
     "output_type": "display_data"
    },
    {
     "data": {
      "application/javascript": [
       "(function(root) {\n",
       "  function embed_document(root) {\n",
       "    \n",
       "  var docs_json = {\"eebd0267-1a76-46a1-af77-f9e941619299\":{\"roots\":{\"references\":[{\"attributes\":{\"line_alpha\":0.3,\"line_color\":\"darkblue\",\"x\":{\"field\":\"x\"},\"y\":{\"field\":\"y\"}},\"id\":\"a711e23f-6778-4c57-9227-41e14fcd7a48\",\"type\":\"Line\"},{\"attributes\":{},\"id\":\"b48eaff9-0f77-46b3-ab57-56f282677d5b\",\"type\":\"Selection\"},{\"attributes\":{\"callback\":null,\"data\":{\"x\":[0.0,1.0,2.0,3.0,4.0,5.0,6.0,7.0,8.0,9.0,10.0,11.0,12.0,13.0,14.0,15.0,16.0,17.0,18.0,20.0,21.0,22.0,23.0,24.0,25.0,26.0,27.0,30.0,33.0,34.0,35.0,36.0,38.0,39.0,40.0,42.0,43.0,44.0,45.0,46.0,47.0,48.0,51.0,52.0,53.0,54.0,57.0,58.0,59.0,62.0,64.0,65.0,66.0,67.0,68.0,69.0],\"y\":[22.779444444444444,40.615833333333335,45.79055555555556,64.29277777777777,105.14805555555556,55.76138888888889,59.388333333333335,123.62333333333333,23.58361111111111,19.92361111111111,62.03277777777778,46.339444444444446,43.31361111111111,20.20888888888889,104.69166666666666,20.860277777777778,64.52472222222222,19.42361111111111,22.98638888888889,60.129444444444445,40.74583333333333,62.33555555555556,41.005,19.872777777777777,47.53805555555556,19.61277777777778,49.05972222222222,21.36916666666667,111.00138888888888,146.10916666666665,21.321944444444444,22.502222222222223,23.354444444444443,51.9,89.1661111111111,20.127222222222223,42.415277777777774,96.14944444444444,68.73972222222223,41.846666666666664,18.569444444444443,56.01777777777778,39.583333333333336,42.06722222222222,62.118611111111115,61.71611111111111,47.37888888888889,20.29111111111111,18.196666666666665,61.09777777777778,103.79166666666667,205.44611111111112,33.70805555555555,171.99,138.14888888888888,107.64333333333333]},\"selected\":{\"id\":\"b48eaff9-0f77-46b3-ab57-56f282677d5b\",\"type\":\"Selection\"},\"selection_policy\":{\"id\":\"bd11241b-1219-402c-bc14-d12ffb7ae580\",\"type\":\"UnionRenderers\"}},\"id\":\"2e82d4fa-cf58-4e70-aa22-3608acf80d80\",\"type\":\"ColumnDataSource\"},{\"attributes\":{\"axis_label\":\"week\",\"formatter\":{\"id\":\"04034752-1f8a-4764-9349-8d5bc943b67a\",\"type\":\"BasicTickFormatter\"},\"plot\":{\"id\":\"891fab4b-f52d-4166-8847-1635f2073805\",\"subtype\":\"Figure\",\"type\":\"Plot\"},\"ticker\":{\"id\":\"5ef9f605-4029-48d6-8760-62276e117f29\",\"type\":\"BasicTicker\"}},\"id\":\"5fa7fcca-59f6-467a-9f2b-2b7720fa1fe0\",\"type\":\"LinearAxis\"},{\"attributes\":{\"source\":{\"id\":\"b028b50f-41c5-4400-829e-7a107376c6f7\",\"type\":\"ColumnDataSource\"}},\"id\":\"b559b9ee-d1f7-40a0-a11d-b6f5a457fe86\",\"type\":\"CDSView\"},{\"attributes\":{\"dimensions\":\"width\"},\"id\":\"c3d3fa35-cb2d-4410-b6af-6443dd49fc65\",\"type\":\"WheelZoomTool\"},{\"attributes\":{},\"id\":\"0ea49ac1-7f03-4cf9-aed5-911f10885336\",\"type\":\"LinearScale\"},{\"attributes\":{},\"id\":\"04034752-1f8a-4764-9349-8d5bc943b67a\",\"type\":\"BasicTickFormatter\"},{\"attributes\":{\"fill_alpha\":{\"value\":0.3},\"fill_color\":{\"value\":\"darkblue\"},\"line_color\":{\"value\":\"darkblue\"},\"x\":{\"field\":\"x\"},\"y\":{\"field\":\"y\"}},\"id\":\"3c2c269d-4e7e-4cf6-b1ee-e573d407084a\",\"type\":\"Circle\"},{\"attributes\":{\"line_alpha\":0.1,\"line_color\":\"#1f77b4\",\"x\":{\"field\":\"x\"},\"y\":{\"field\":\"y\"}},\"id\":\"d150dcb5-a9a5-4b3d-934a-984c1add0508\",\"type\":\"Line\"},{\"attributes\":{\"dimensions\":\"width\"},\"id\":\"3d7e6fee-d473-4642-9e19-5af65872b8a7\",\"type\":\"PanTool\"},{\"attributes\":{\"dimension\":1,\"plot\":{\"id\":\"891fab4b-f52d-4166-8847-1635f2073805\",\"subtype\":\"Figure\",\"type\":\"Plot\"},\"ticker\":{\"id\":\"e63c0a18-0f58-4dcc-ad32-9c80ebba69e6\",\"type\":\"BasicTicker\"}},\"id\":\"8be58481-05f6-4acf-8e50-5eda35e32221\",\"type\":\"Grid\"},{\"attributes\":{\"callback\":null,\"data\":{\"x\":[0.0,1.0,2.0,3.0,4.0,5.0,6.0,7.0,8.0,9.0,10.0,11.0,12.0,13.0,14.0,15.0,16.0,17.0,18.0,20.0,21.0,22.0,23.0,24.0,25.0,26.0,27.0,30.0,33.0,34.0,35.0,36.0,38.0,39.0,40.0,42.0,43.0,44.0,45.0,46.0,47.0,48.0,51.0,52.0,53.0,54.0,57.0,58.0,59.0,62.0,64.0,65.0,66.0,67.0,68.0,69.0],\"y\":[22.779444444444444,40.615833333333335,45.79055555555556,64.29277777777777,105.14805555555556,55.76138888888889,59.388333333333335,123.62333333333333,23.58361111111111,19.92361111111111,62.03277777777778,46.339444444444446,43.31361111111111,20.20888888888889,104.69166666666666,20.860277777777778,64.52472222222222,19.42361111111111,22.98638888888889,60.129444444444445,40.74583333333333,62.33555555555556,41.005,19.872777777777777,47.53805555555556,19.61277777777778,49.05972222222222,21.36916666666667,111.00138888888888,146.10916666666665,21.321944444444444,22.502222222222223,23.354444444444443,51.9,89.1661111111111,20.127222222222223,42.415277777777774,96.14944444444444,68.73972222222223,41.846666666666664,18.569444444444443,56.01777777777778,39.583333333333336,42.06722222222222,62.118611111111115,61.71611111111111,47.37888888888889,20.29111111111111,18.196666666666665,61.09777777777778,103.79166666666667,205.44611111111112,33.70805555555555,171.99,138.14888888888888,107.64333333333333]},\"selected\":{\"id\":\"68c2ea5f-5c90-4fee-8e2b-a98bacf2e7e1\",\"type\":\"Selection\"},\"selection_policy\":{\"id\":\"1fa48f9f-1f34-472c-aced-1350087545b2\",\"type\":\"UnionRenderers\"}},\"id\":\"b028b50f-41c5-4400-829e-7a107376c6f7\",\"type\":\"ColumnDataSource\"},{\"attributes\":{},\"id\":\"e63c0a18-0f58-4dcc-ad32-9c80ebba69e6\",\"type\":\"BasicTicker\"},{\"attributes\":{\"source\":{\"id\":\"2e82d4fa-cf58-4e70-aa22-3608acf80d80\",\"type\":\"ColumnDataSource\"}},\"id\":\"abc3a77a-3e1b-4a06-bdf7-50ed0ed4cb23\",\"type\":\"CDSView\"},{\"attributes\":{},\"id\":\"74d63e21-9fb9-4716-97d3-bfd31a1967a9\",\"type\":\"PrintfTickFormatter\"},{\"attributes\":{},\"id\":\"68c2ea5f-5c90-4fee-8e2b-a98bacf2e7e1\",\"type\":\"Selection\"},{\"attributes\":{},\"id\":\"5ef9f605-4029-48d6-8760-62276e117f29\",\"type\":\"BasicTicker\"},{\"attributes\":{\"below\":[{\"id\":\"5fa7fcca-59f6-467a-9f2b-2b7720fa1fe0\",\"type\":\"LinearAxis\"}],\"left\":[{\"id\":\"d6345145-9d96-43b7-99b2-df5b32ab956c\",\"type\":\"LinearAxis\"}],\"plot_height\":300,\"plot_width\":900,\"renderers\":[{\"id\":\"5fa7fcca-59f6-467a-9f2b-2b7720fa1fe0\",\"type\":\"LinearAxis\"},{\"id\":\"3f6d9daa-9047-42f8-9b52-eff4160b3561\",\"type\":\"Grid\"},{\"id\":\"d6345145-9d96-43b7-99b2-df5b32ab956c\",\"type\":\"LinearAxis\"},{\"id\":\"8be58481-05f6-4acf-8e50-5eda35e32221\",\"type\":\"Grid\"},{\"id\":\"6a3e7c7f-e6dd-4a5e-b69b-d1962ae8ec0d\",\"type\":\"GlyphRenderer\"},{\"id\":\"6e5147ff-b88f-4240-acc5-7288e084788d\",\"type\":\"GlyphRenderer\"}],\"title\":{\"id\":\"3c0d6a33-8d51-40c1-a593-5fd2fc64a8a8\",\"type\":\"Title\"},\"toolbar\":{\"id\":\"d8dfc2d5-adb4-4b22-b859-2b0902af975d\",\"type\":\"Toolbar\"},\"x_range\":{\"id\":\"cde60fe3-0845-43f7-bcef-2b506833b67b\",\"type\":\"DataRange1d\"},\"x_scale\":{\"id\":\"fdb7fcfb-04ea-4c4d-828a-29993a63c330\",\"type\":\"LinearScale\"},\"y_range\":{\"id\":\"59f3c4cb-388b-4638-8986-14fe9fbd2292\",\"type\":\"DataRange1d\"},\"y_scale\":{\"id\":\"0ea49ac1-7f03-4cf9-aed5-911f10885336\",\"type\":\"LinearScale\"}},\"id\":\"891fab4b-f52d-4166-8847-1635f2073805\",\"subtype\":\"Figure\",\"type\":\"Plot\"},{\"attributes\":{\"active_drag\":\"auto\",\"active_inspect\":\"auto\",\"active_scroll\":\"auto\",\"active_tap\":\"auto\",\"tools\":[{\"id\":\"c3d3fa35-cb2d-4410-b6af-6443dd49fc65\",\"type\":\"WheelZoomTool\"},{\"id\":\"3d7e6fee-d473-4642-9e19-5af65872b8a7\",\"type\":\"PanTool\"},{\"id\":\"70ef3b92-6018-4c52-8f78-4cf72a81b2b2\",\"type\":\"ResetTool\"}]},\"id\":\"d8dfc2d5-adb4-4b22-b859-2b0902af975d\",\"type\":\"Toolbar\"},{\"attributes\":{},\"id\":\"bd11241b-1219-402c-bc14-d12ffb7ae580\",\"type\":\"UnionRenderers\"},{\"attributes\":{},\"id\":\"fdb7fcfb-04ea-4c4d-828a-29993a63c330\",\"type\":\"LinearScale\"},{\"attributes\":{},\"id\":\"70ef3b92-6018-4c52-8f78-4cf72a81b2b2\",\"type\":\"ResetTool\"},{\"attributes\":{\"callback\":null},\"id\":\"59f3c4cb-388b-4638-8986-14fe9fbd2292\",\"type\":\"DataRange1d\"},{\"attributes\":{\"data_source\":{\"id\":\"b028b50f-41c5-4400-829e-7a107376c6f7\",\"type\":\"ColumnDataSource\"},\"glyph\":{\"id\":\"a711e23f-6778-4c57-9227-41e14fcd7a48\",\"type\":\"Line\"},\"hover_glyph\":null,\"muted_glyph\":null,\"nonselection_glyph\":{\"id\":\"d150dcb5-a9a5-4b3d-934a-984c1add0508\",\"type\":\"Line\"},\"selection_glyph\":null,\"view\":{\"id\":\"b559b9ee-d1f7-40a0-a11d-b6f5a457fe86\",\"type\":\"CDSView\"}},\"id\":\"6a3e7c7f-e6dd-4a5e-b69b-d1962ae8ec0d\",\"type\":\"GlyphRenderer\"},{\"attributes\":{\"plot\":null,\"text\":\"User: 5928 - Gap lengths per week - considering only gaps above 18h\"},\"id\":\"3c0d6a33-8d51-40c1-a593-5fd2fc64a8a8\",\"type\":\"Title\"},{\"attributes\":{\"callback\":null},\"id\":\"cde60fe3-0845-43f7-bcef-2b506833b67b\",\"type\":\"DataRange1d\"},{\"attributes\":{\"fill_alpha\":{\"value\":0.1},\"fill_color\":{\"value\":\"#1f77b4\"},\"line_alpha\":{\"value\":0.1},\"line_color\":{\"value\":\"#1f77b4\"},\"x\":{\"field\":\"x\"},\"y\":{\"field\":\"y\"}},\"id\":\"ddd58849-9ced-452e-94b9-0435ea775676\",\"type\":\"Circle\"},{\"attributes\":{\"plot\":{\"id\":\"891fab4b-f52d-4166-8847-1635f2073805\",\"subtype\":\"Figure\",\"type\":\"Plot\"},\"ticker\":{\"id\":\"5ef9f605-4029-48d6-8760-62276e117f29\",\"type\":\"BasicTicker\"}},\"id\":\"3f6d9daa-9047-42f8-9b52-eff4160b3561\",\"type\":\"Grid\"},{\"attributes\":{\"axis_label\":\"gap total hours\",\"formatter\":{\"id\":\"74d63e21-9fb9-4716-97d3-bfd31a1967a9\",\"type\":\"PrintfTickFormatter\"},\"plot\":{\"id\":\"891fab4b-f52d-4166-8847-1635f2073805\",\"subtype\":\"Figure\",\"type\":\"Plot\"},\"ticker\":{\"id\":\"e63c0a18-0f58-4dcc-ad32-9c80ebba69e6\",\"type\":\"BasicTicker\"}},\"id\":\"d6345145-9d96-43b7-99b2-df5b32ab956c\",\"type\":\"LinearAxis\"},{\"attributes\":{},\"id\":\"1fa48f9f-1f34-472c-aced-1350087545b2\",\"type\":\"UnionRenderers\"},{\"attributes\":{\"data_source\":{\"id\":\"2e82d4fa-cf58-4e70-aa22-3608acf80d80\",\"type\":\"ColumnDataSource\"},\"glyph\":{\"id\":\"3c2c269d-4e7e-4cf6-b1ee-e573d407084a\",\"type\":\"Circle\"},\"hover_glyph\":null,\"muted_glyph\":null,\"nonselection_glyph\":{\"id\":\"ddd58849-9ced-452e-94b9-0435ea775676\",\"type\":\"Circle\"},\"selection_glyph\":null,\"view\":{\"id\":\"abc3a77a-3e1b-4a06-bdf7-50ed0ed4cb23\",\"type\":\"CDSView\"}},\"id\":\"6e5147ff-b88f-4240-acc5-7288e084788d\",\"type\":\"GlyphRenderer\"}],\"root_ids\":[\"891fab4b-f52d-4166-8847-1635f2073805\"]},\"title\":\"Bokeh Application\",\"version\":\"0.12.16\"}};\n",
       "  var render_items = [{\"docid\":\"eebd0267-1a76-46a1-af77-f9e941619299\",\"elementid\":\"b4a1d473-2290-4f37-8392-990540597963\",\"modelid\":\"891fab4b-f52d-4166-8847-1635f2073805\"}];\n",
       "  root.Bokeh.embed.embed_items_notebook(docs_json, render_items);\n",
       "\n",
       "  }\n",
       "  if (root.Bokeh !== undefined) {\n",
       "    embed_document(root);\n",
       "  } else {\n",
       "    var attempts = 0;\n",
       "    var timer = setInterval(function(root) {\n",
       "      if (root.Bokeh !== undefined) {\n",
       "        embed_document(root);\n",
       "        clearInterval(timer);\n",
       "      }\n",
       "      attempts++;\n",
       "      if (attempts > 100) {\n",
       "        console.log(\"Bokeh: ERROR: Unable to run BokehJS code because BokehJS library is missing\")\n",
       "        clearInterval(timer);\n",
       "      }\n",
       "    }, 10, root)\n",
       "  }\n",
       "})(window);"
      ],
      "application/vnd.bokehjs_exec.v0+json": ""
     },
     "metadata": {
      "application/vnd.bokehjs_exec.v0+json": {
       "id": "891fab4b-f52d-4166-8847-1635f2073805"
      }
     },
     "output_type": "display_data"
    }
   ],
   "source": [
    "gaps_report(users_gps, user_id=5928, min_time_gap_h=18)"
   ]
  },
  {
   "cell_type": "markdown",
   "metadata": {},
   "source": [
    "### user 5924"
   ]
  },
  {
   "cell_type": "code",
   "execution_count": 14,
   "metadata": {},
   "outputs": [
    {
     "name": "stdout",
     "output_type": "stream",
     "text": [
      "USER: 5924\n",
      "\n",
      "total days    : 550.00\n",
      "total hours   : 13200.12\n",
      "\n",
      "gap hours     : 12035.94h\n",
      "gap prop.     : 91.18%\n",
      "\n",
      "n gaps 18h    : 122\n",
      "gap len       : 34.91h (median)\n"
     ]
    },
    {
     "data": {
      "text/html": [
       "\n",
       "<div class=\"bk-root\">\n",
       "    <div class=\"bk-plotdiv\" id=\"be4d0279-53fe-4eec-b27b-e36de9851a91\"></div>\n",
       "</div>"
      ]
     },
     "metadata": {},
     "output_type": "display_data"
    },
    {
     "data": {
      "application/javascript": [
       "(function(root) {\n",
       "  function embed_document(root) {\n",
       "    \n",
       "  var docs_json = {\"6515ddaf-ec5a-44d2-8ce9-258da1ae46c3\":{\"roots\":{\"references\":[{\"attributes\":{},\"id\":\"d40e3b96-2696-40d8-b66d-b6b35ae976e4\",\"type\":\"LinearScale\"},{\"attributes\":{\"dimensions\":\"width\"},\"id\":\"f061f1aa-bdcf-4963-8753-c8d26ca74fbf\",\"type\":\"PanTool\"},{\"attributes\":{\"plot\":null,\"text\":\"User: 5924 - Gap lengths per week - considering only gaps above 18h\"},\"id\":\"c49f482f-c0ac-4790-bc4f-e887f40586c7\",\"type\":\"Title\"},{\"attributes\":{\"fill_alpha\":{\"value\":0.1},\"fill_color\":{\"value\":\"#1f77b4\"},\"line_alpha\":{\"value\":0.1},\"line_color\":{\"value\":\"#1f77b4\"},\"x\":{\"field\":\"x\"},\"y\":{\"field\":\"y\"}},\"id\":\"640eb320-b467-436d-8ec9-cf9915b1d7d2\",\"type\":\"Circle\"},{\"attributes\":{\"axis_label\":\"gap total hours\",\"formatter\":{\"id\":\"5b5e2e68-1e3e-4f0a-890a-c18afc0e45ec\",\"type\":\"PrintfTickFormatter\"},\"plot\":{\"id\":\"9e716852-7f10-42e5-96c7-0bd6e95dfa10\",\"subtype\":\"Figure\",\"type\":\"Plot\"},\"ticker\":{\"id\":\"1ba44782-3815-44f9-ad12-d9c8277c5c45\",\"type\":\"BasicTicker\"}},\"id\":\"fccbed80-898c-4ea3-8f5b-26793a04a0ca\",\"type\":\"LinearAxis\"},{\"attributes\":{\"line_alpha\":0.1,\"line_color\":\"#1f77b4\",\"x\":{\"field\":\"x\"},\"y\":{\"field\":\"y\"}},\"id\":\"981bc5df-49dc-45ae-9eb2-9cf75c0d9869\",\"type\":\"Line\"},{\"attributes\":{},\"id\":\"3c2c26b4-76ec-41ca-9fdf-ffad36d4d0ce\",\"type\":\"ResetTool\"},{\"attributes\":{},\"id\":\"2570bad1-8910-4439-a35a-2ca2731dffbd\",\"type\":\"UnionRenderers\"},{\"attributes\":{\"active_drag\":\"auto\",\"active_inspect\":\"auto\",\"active_scroll\":\"auto\",\"active_tap\":\"auto\",\"tools\":[{\"id\":\"e25842e8-a98f-48b1-afa0-b7fa14637c15\",\"type\":\"WheelZoomTool\"},{\"id\":\"f061f1aa-bdcf-4963-8753-c8d26ca74fbf\",\"type\":\"PanTool\"},{\"id\":\"3c2c26b4-76ec-41ca-9fdf-ffad36d4d0ce\",\"type\":\"ResetTool\"}]},\"id\":\"46bc37cd-1454-4dc9-90f2-ad4530c6eadd\",\"type\":\"Toolbar\"},{\"attributes\":{\"callback\":null,\"data\":{\"x\":[0.0,1.0,2.0,3.0,4.0,5.0,6.0,7.0,8.0,9.0,10.0,11.0,12.0,13.0,14.0,15.0,16.0,17.0,18.0,19.0,20.0,21.0,22.0,23.0,24.0,25.0,26.0,38.0,39.0,40.0,41.0,42.0,43.0,44.0,45.0,46.0,47.0,49.0,50.0,51.0,52.0,53.0,54.0,55.0,56.0,57.0,58.0,59.0,60.0,67.0,68.0,69.0,70.0,71.0,72.0],\"y\":[164.7813888888889,94.9225,134.3461111111111,78.30222222222223,86.63861111111112,235.3347222222222,85.0586111111111,160.17555555555555,65.67444444444445,224.8161111111111,112.42083333333333,64.75361111111111,257.89166666666665,27.6925,101.72333333333333,84.23527777777778,85.13722222222222,62.03111111111111,124.40611111111112,113.04055555555556,90.10666666666667,89.06277777777778,149.53583333333333,106.75444444444445,247.6611111111111,43.28777777777778,1944.181111111111,122.71472222222222,59.90083333333333,35.169444444444444,100.84722222222223,41.64833333333333,104.46416666666667,23.226944444444445,20.092222222222222,159.98222222222222,423.14916666666664,139.33277777777778,20.711666666666666,67.59805555555556,98.38694444444444,80.58666666666667,78.6,157.45222222222222,125.36972222222222,68.2775,39.6,57.71194444444444,1091.2633333333333,238.24277777777777,242.21444444444444,63.71,164.92833333333334,285.2838888888889,940.6016666666667]},\"selected\":{\"id\":\"8a794014-e79d-42f0-82f2-7f42a9b5086a\",\"type\":\"Selection\"},\"selection_policy\":{\"id\":\"0fb5f502-4509-4d36-aff1-17392124fdc4\",\"type\":\"UnionRenderers\"}},\"id\":\"33376a94-cf89-4d45-8593-b10ef6645300\",\"type\":\"ColumnDataSource\"},{\"attributes\":{},\"id\":\"53158322-f795-454f-a21e-f4bdbf2676fd\",\"type\":\"Selection\"},{\"attributes\":{\"data_source\":{\"id\":\"33376a94-cf89-4d45-8593-b10ef6645300\",\"type\":\"ColumnDataSource\"},\"glyph\":{\"id\":\"d8a7efce-7dc8-4898-a250-bfcf69a2dc4d\",\"type\":\"Line\"},\"hover_glyph\":null,\"muted_glyph\":null,\"nonselection_glyph\":{\"id\":\"981bc5df-49dc-45ae-9eb2-9cf75c0d9869\",\"type\":\"Line\"},\"selection_glyph\":null,\"view\":{\"id\":\"d46ff891-c64e-422a-b4fa-4be41c51cd9e\",\"type\":\"CDSView\"}},\"id\":\"e73ed8e6-d012-4f88-a654-0c26a68938ce\",\"type\":\"GlyphRenderer\"},{\"attributes\":{\"line_alpha\":0.3,\"line_color\":\"darkblue\",\"x\":{\"field\":\"x\"},\"y\":{\"field\":\"y\"}},\"id\":\"d8a7efce-7dc8-4898-a250-bfcf69a2dc4d\",\"type\":\"Line\"},{\"attributes\":{},\"id\":\"8a794014-e79d-42f0-82f2-7f42a9b5086a\",\"type\":\"Selection\"},{\"attributes\":{},\"id\":\"0d80c5bb-16cc-46d2-b2aa-1777ba949a9c\",\"type\":\"BasicTickFormatter\"},{\"attributes\":{\"callback\":null},\"id\":\"91a71587-634e-4f97-916e-5f3e65034ca2\",\"type\":\"DataRange1d\"},{\"attributes\":{\"plot\":{\"id\":\"9e716852-7f10-42e5-96c7-0bd6e95dfa10\",\"subtype\":\"Figure\",\"type\":\"Plot\"},\"ticker\":{\"id\":\"cb06aa83-82f0-4203-9e2b-c3426ef40730\",\"type\":\"BasicTicker\"}},\"id\":\"c8ce08d1-059f-4e4c-9269-b4e70e4e1bd9\",\"type\":\"Grid\"},{\"attributes\":{\"source\":{\"id\":\"33376a94-cf89-4d45-8593-b10ef6645300\",\"type\":\"ColumnDataSource\"}},\"id\":\"d46ff891-c64e-422a-b4fa-4be41c51cd9e\",\"type\":\"CDSView\"},{\"attributes\":{\"fill_alpha\":{\"value\":0.3},\"fill_color\":{\"value\":\"darkblue\"},\"line_color\":{\"value\":\"darkblue\"},\"x\":{\"field\":\"x\"},\"y\":{\"field\":\"y\"}},\"id\":\"72e87486-500f-4c44-b6bb-9b60eb65d624\",\"type\":\"Circle\"},{\"attributes\":{},\"id\":\"5b5e2e68-1e3e-4f0a-890a-c18afc0e45ec\",\"type\":\"PrintfTickFormatter\"},{\"attributes\":{\"callback\":null,\"data\":{\"x\":[0.0,1.0,2.0,3.0,4.0,5.0,6.0,7.0,8.0,9.0,10.0,11.0,12.0,13.0,14.0,15.0,16.0,17.0,18.0,19.0,20.0,21.0,22.0,23.0,24.0,25.0,26.0,38.0,39.0,40.0,41.0,42.0,43.0,44.0,45.0,46.0,47.0,49.0,50.0,51.0,52.0,53.0,54.0,55.0,56.0,57.0,58.0,59.0,60.0,67.0,68.0,69.0,70.0,71.0,72.0],\"y\":[164.7813888888889,94.9225,134.3461111111111,78.30222222222223,86.63861111111112,235.3347222222222,85.0586111111111,160.17555555555555,65.67444444444445,224.8161111111111,112.42083333333333,64.75361111111111,257.89166666666665,27.6925,101.72333333333333,84.23527777777778,85.13722222222222,62.03111111111111,124.40611111111112,113.04055555555556,90.10666666666667,89.06277777777778,149.53583333333333,106.75444444444445,247.6611111111111,43.28777777777778,1944.181111111111,122.71472222222222,59.90083333333333,35.169444444444444,100.84722222222223,41.64833333333333,104.46416666666667,23.226944444444445,20.092222222222222,159.98222222222222,423.14916666666664,139.33277777777778,20.711666666666666,67.59805555555556,98.38694444444444,80.58666666666667,78.6,157.45222222222222,125.36972222222222,68.2775,39.6,57.71194444444444,1091.2633333333333,238.24277777777777,242.21444444444444,63.71,164.92833333333334,285.2838888888889,940.6016666666667]},\"selected\":{\"id\":\"53158322-f795-454f-a21e-f4bdbf2676fd\",\"type\":\"Selection\"},\"selection_policy\":{\"id\":\"2570bad1-8910-4439-a35a-2ca2731dffbd\",\"type\":\"UnionRenderers\"}},\"id\":\"2e91555f-634a-4506-934d-0ee380f648f9\",\"type\":\"ColumnDataSource\"},{\"attributes\":{},\"id\":\"0fb5f502-4509-4d36-aff1-17392124fdc4\",\"type\":\"UnionRenderers\"},{\"attributes\":{},\"id\":\"3c9bcf4d-51fb-4b21-a081-09a073b48546\",\"type\":\"LinearScale\"},{\"attributes\":{\"callback\":null},\"id\":\"7bd29f7c-0148-485b-b437-80b7b721ae1c\",\"type\":\"DataRange1d\"},{\"attributes\":{\"data_source\":{\"id\":\"2e91555f-634a-4506-934d-0ee380f648f9\",\"type\":\"ColumnDataSource\"},\"glyph\":{\"id\":\"72e87486-500f-4c44-b6bb-9b60eb65d624\",\"type\":\"Circle\"},\"hover_glyph\":null,\"muted_glyph\":null,\"nonselection_glyph\":{\"id\":\"640eb320-b467-436d-8ec9-cf9915b1d7d2\",\"type\":\"Circle\"},\"selection_glyph\":null,\"view\":{\"id\":\"75cfb9b5-bdf2-4ddb-a634-bfdeeb14a767\",\"type\":\"CDSView\"}},\"id\":\"1b18bd2a-2f57-460b-8791-d64b95a1874b\",\"type\":\"GlyphRenderer\"},{\"attributes\":{\"below\":[{\"id\":\"cf50a044-e6e6-421b-adc2-4cf16e8f41d1\",\"type\":\"LinearAxis\"}],\"left\":[{\"id\":\"fccbed80-898c-4ea3-8f5b-26793a04a0ca\",\"type\":\"LinearAxis\"}],\"plot_height\":300,\"plot_width\":900,\"renderers\":[{\"id\":\"cf50a044-e6e6-421b-adc2-4cf16e8f41d1\",\"type\":\"LinearAxis\"},{\"id\":\"c8ce08d1-059f-4e4c-9269-b4e70e4e1bd9\",\"type\":\"Grid\"},{\"id\":\"fccbed80-898c-4ea3-8f5b-26793a04a0ca\",\"type\":\"LinearAxis\"},{\"id\":\"65326836-348e-4455-b09d-bb700b09414e\",\"type\":\"Grid\"},{\"id\":\"e73ed8e6-d012-4f88-a654-0c26a68938ce\",\"type\":\"GlyphRenderer\"},{\"id\":\"1b18bd2a-2f57-460b-8791-d64b95a1874b\",\"type\":\"GlyphRenderer\"}],\"title\":{\"id\":\"c49f482f-c0ac-4790-bc4f-e887f40586c7\",\"type\":\"Title\"},\"toolbar\":{\"id\":\"46bc37cd-1454-4dc9-90f2-ad4530c6eadd\",\"type\":\"Toolbar\"},\"x_range\":{\"id\":\"7bd29f7c-0148-485b-b437-80b7b721ae1c\",\"type\":\"DataRange1d\"},\"x_scale\":{\"id\":\"d40e3b96-2696-40d8-b66d-b6b35ae976e4\",\"type\":\"LinearScale\"},\"y_range\":{\"id\":\"91a71587-634e-4f97-916e-5f3e65034ca2\",\"type\":\"DataRange1d\"},\"y_scale\":{\"id\":\"3c9bcf4d-51fb-4b21-a081-09a073b48546\",\"type\":\"LinearScale\"}},\"id\":\"9e716852-7f10-42e5-96c7-0bd6e95dfa10\",\"subtype\":\"Figure\",\"type\":\"Plot\"},{\"attributes\":{\"axis_label\":\"week\",\"formatter\":{\"id\":\"0d80c5bb-16cc-46d2-b2aa-1777ba949a9c\",\"type\":\"BasicTickFormatter\"},\"plot\":{\"id\":\"9e716852-7f10-42e5-96c7-0bd6e95dfa10\",\"subtype\":\"Figure\",\"type\":\"Plot\"},\"ticker\":{\"id\":\"cb06aa83-82f0-4203-9e2b-c3426ef40730\",\"type\":\"BasicTicker\"}},\"id\":\"cf50a044-e6e6-421b-adc2-4cf16e8f41d1\",\"type\":\"LinearAxis\"},{\"attributes\":{\"source\":{\"id\":\"2e91555f-634a-4506-934d-0ee380f648f9\",\"type\":\"ColumnDataSource\"}},\"id\":\"75cfb9b5-bdf2-4ddb-a634-bfdeeb14a767\",\"type\":\"CDSView\"},{\"attributes\":{},\"id\":\"1ba44782-3815-44f9-ad12-d9c8277c5c45\",\"type\":\"BasicTicker\"},{\"attributes\":{\"dimensions\":\"width\"},\"id\":\"e25842e8-a98f-48b1-afa0-b7fa14637c15\",\"type\":\"WheelZoomTool\"},{\"attributes\":{\"dimension\":1,\"plot\":{\"id\":\"9e716852-7f10-42e5-96c7-0bd6e95dfa10\",\"subtype\":\"Figure\",\"type\":\"Plot\"},\"ticker\":{\"id\":\"1ba44782-3815-44f9-ad12-d9c8277c5c45\",\"type\":\"BasicTicker\"}},\"id\":\"65326836-348e-4455-b09d-bb700b09414e\",\"type\":\"Grid\"},{\"attributes\":{},\"id\":\"cb06aa83-82f0-4203-9e2b-c3426ef40730\",\"type\":\"BasicTicker\"}],\"root_ids\":[\"9e716852-7f10-42e5-96c7-0bd6e95dfa10\"]},\"title\":\"Bokeh Application\",\"version\":\"0.12.16\"}};\n",
       "  var render_items = [{\"docid\":\"6515ddaf-ec5a-44d2-8ce9-258da1ae46c3\",\"elementid\":\"be4d0279-53fe-4eec-b27b-e36de9851a91\",\"modelid\":\"9e716852-7f10-42e5-96c7-0bd6e95dfa10\"}];\n",
       "  root.Bokeh.embed.embed_items_notebook(docs_json, render_items);\n",
       "\n",
       "  }\n",
       "  if (root.Bokeh !== undefined) {\n",
       "    embed_document(root);\n",
       "  } else {\n",
       "    var attempts = 0;\n",
       "    var timer = setInterval(function(root) {\n",
       "      if (root.Bokeh !== undefined) {\n",
       "        embed_document(root);\n",
       "        clearInterval(timer);\n",
       "      }\n",
       "      attempts++;\n",
       "      if (attempts > 100) {\n",
       "        console.log(\"Bokeh: ERROR: Unable to run BokehJS code because BokehJS library is missing\")\n",
       "        clearInterval(timer);\n",
       "      }\n",
       "    }, 10, root)\n",
       "  }\n",
       "})(window);"
      ],
      "application/vnd.bokehjs_exec.v0+json": ""
     },
     "metadata": {
      "application/vnd.bokehjs_exec.v0+json": {
       "id": "9e716852-7f10-42e5-96c7-0bd6e95dfa10"
      }
     },
     "output_type": "display_data"
    }
   ],
   "source": [
    "gaps_report(users_gps, user_id=5924, min_time_gap_h=18)"
   ]
  },
  {
   "cell_type": "markdown",
   "metadata": {},
   "source": [
    "### user 6037"
   ]
  },
  {
   "cell_type": "code",
   "execution_count": 15,
   "metadata": {},
   "outputs": [
    {
     "name": "stdout",
     "output_type": "stream",
     "text": [
      "USER: 6037\n",
      "\n",
      "total days    : 356.02\n",
      "total hours   : 8544.44\n",
      "\n",
      "gap hours     : 7550.65h\n",
      "gap prop.     : 88.37%\n",
      "\n",
      "n gaps 18h    : 31\n",
      "gap len       : 87.44h (median)\n"
     ]
    },
    {
     "data": {
      "text/html": [
       "\n",
       "<div class=\"bk-root\">\n",
       "    <div class=\"bk-plotdiv\" id=\"1c15b428-3612-4d67-bd8a-8952a36b551b\"></div>\n",
       "</div>"
      ]
     },
     "metadata": {},
     "output_type": "display_data"
    },
    {
     "data": {
      "application/javascript": [
       "(function(root) {\n",
       "  function embed_document(root) {\n",
       "    \n",
       "  var docs_json = {\"a38e0dd2-ebad-4359-86f2-354063e936dd\":{\"roots\":{\"references\":[{\"attributes\":{\"dimension\":1,\"plot\":{\"id\":\"5fb5974d-379f-4bf1-a16a-91c353af9a18\",\"subtype\":\"Figure\",\"type\":\"Plot\"},\"ticker\":{\"id\":\"f396bfc5-6a46-461a-9749-cf5c3ba8429b\",\"type\":\"BasicTicker\"}},\"id\":\"7364d5d0-655a-4b82-a725-c4210f21383a\",\"type\":\"Grid\"},{\"attributes\":{},\"id\":\"ec30d01f-3491-47a7-a3bc-917f710be375\",\"type\":\"Selection\"},{\"attributes\":{},\"id\":\"f396bfc5-6a46-461a-9749-cf5c3ba8429b\",\"type\":\"BasicTicker\"},{\"attributes\":{\"plot\":{\"id\":\"5fb5974d-379f-4bf1-a16a-91c353af9a18\",\"subtype\":\"Figure\",\"type\":\"Plot\"},\"ticker\":{\"id\":\"3c5417d5-d81d-4dfa-b1e5-e18b1e6892d5\",\"type\":\"BasicTicker\"}},\"id\":\"d8db0a69-6f9d-49ee-9012-3c77882e7a34\",\"type\":\"Grid\"},{\"attributes\":{},\"id\":\"768822fa-5ef5-401d-8083-00dbfd98688f\",\"type\":\"UnionRenderers\"},{\"attributes\":{\"data_source\":{\"id\":\"9d253f20-9b18-4b79-a2b7-8c7fb1860912\",\"type\":\"ColumnDataSource\"},\"glyph\":{\"id\":\"043d9f2a-c19b-4e2c-8bb7-163c318c8be9\",\"type\":\"Circle\"},\"hover_glyph\":null,\"muted_glyph\":null,\"nonselection_glyph\":{\"id\":\"418d0ede-2596-4046-aa84-9ff9799dff86\",\"type\":\"Circle\"},\"selection_glyph\":null,\"view\":{\"id\":\"dd277115-27fb-4eb0-b9b2-38a57a4ccde8\",\"type\":\"CDSView\"}},\"id\":\"b0ab48e8-28af-4565-9388-f43eb5ee99c7\",\"type\":\"GlyphRenderer\"},{\"attributes\":{\"active_drag\":\"auto\",\"active_inspect\":\"auto\",\"active_scroll\":\"auto\",\"active_tap\":\"auto\",\"tools\":[{\"id\":\"ebdf400e-2536-456a-b8c9-88a54f324c9f\",\"type\":\"WheelZoomTool\"},{\"id\":\"affea85b-a884-47db-9010-ae0d1c53d143\",\"type\":\"PanTool\"},{\"id\":\"1db30d20-1a72-4ed0-b183-c4dd54a49dbf\",\"type\":\"ResetTool\"}]},\"id\":\"acd2d5c4-9e12-47ba-8253-44a0eca6e0fa\",\"type\":\"Toolbar\"},{\"attributes\":{\"source\":{\"id\":\"89e2fac8-89f3-4440-9ce2-faab54f75d2f\",\"type\":\"ColumnDataSource\"}},\"id\":\"cccc2212-b999-4503-bebb-f9f5ff5ffece\",\"type\":\"CDSView\"},{\"attributes\":{\"callback\":null},\"id\":\"2a57d246-f096-4cf3-9061-af123214df08\",\"type\":\"DataRange1d\"},{\"attributes\":{},\"id\":\"4b3b46fc-1ea3-4c26-ae7c-89bd52d32b3a\",\"type\":\"PrintfTickFormatter\"},{\"attributes\":{},\"id\":\"cb4e2dd4-3a6b-4c9d-8d94-f25aa4d69bcf\",\"type\":\"UnionRenderers\"},{\"attributes\":{},\"id\":\"86c8c0f8-a6ba-48d9-a845-8a1d67709fa9\",\"type\":\"BasicTickFormatter\"},{\"attributes\":{\"axis_label\":\"week\",\"formatter\":{\"id\":\"86c8c0f8-a6ba-48d9-a845-8a1d67709fa9\",\"type\":\"BasicTickFormatter\"},\"plot\":{\"id\":\"5fb5974d-379f-4bf1-a16a-91c353af9a18\",\"subtype\":\"Figure\",\"type\":\"Plot\"},\"ticker\":{\"id\":\"3c5417d5-d81d-4dfa-b1e5-e18b1e6892d5\",\"type\":\"BasicTicker\"}},\"id\":\"7ad4abaa-6a12-4ca2-8e0a-e0a31a6f7fa5\",\"type\":\"LinearAxis\"},{\"attributes\":{\"axis_label\":\"gap total hours\",\"formatter\":{\"id\":\"4b3b46fc-1ea3-4c26-ae7c-89bd52d32b3a\",\"type\":\"PrintfTickFormatter\"},\"plot\":{\"id\":\"5fb5974d-379f-4bf1-a16a-91c353af9a18\",\"subtype\":\"Figure\",\"type\":\"Plot\"},\"ticker\":{\"id\":\"f396bfc5-6a46-461a-9749-cf5c3ba8429b\",\"type\":\"BasicTicker\"}},\"id\":\"1a493a47-74cf-412a-9e03-6c4acaee1263\",\"type\":\"LinearAxis\"},{\"attributes\":{\"callback\":null},\"id\":\"050ce7e4-25c6-4788-bb9e-d7c3585ae5c1\",\"type\":\"DataRange1d\"},{\"attributes\":{\"fill_alpha\":{\"value\":0.1},\"fill_color\":{\"value\":\"#1f77b4\"},\"line_alpha\":{\"value\":0.1},\"line_color\":{\"value\":\"#1f77b4\"},\"x\":{\"field\":\"x\"},\"y\":{\"field\":\"y\"}},\"id\":\"418d0ede-2596-4046-aa84-9ff9799dff86\",\"type\":\"Circle\"},{\"attributes\":{},\"id\":\"3c5417d5-d81d-4dfa-b1e5-e18b1e6892d5\",\"type\":\"BasicTicker\"},{\"attributes\":{\"dimensions\":\"width\"},\"id\":\"affea85b-a884-47db-9010-ae0d1c53d143\",\"type\":\"PanTool\"},{\"attributes\":{\"below\":[{\"id\":\"7ad4abaa-6a12-4ca2-8e0a-e0a31a6f7fa5\",\"type\":\"LinearAxis\"}],\"left\":[{\"id\":\"1a493a47-74cf-412a-9e03-6c4acaee1263\",\"type\":\"LinearAxis\"}],\"plot_height\":300,\"plot_width\":900,\"renderers\":[{\"id\":\"7ad4abaa-6a12-4ca2-8e0a-e0a31a6f7fa5\",\"type\":\"LinearAxis\"},{\"id\":\"d8db0a69-6f9d-49ee-9012-3c77882e7a34\",\"type\":\"Grid\"},{\"id\":\"1a493a47-74cf-412a-9e03-6c4acaee1263\",\"type\":\"LinearAxis\"},{\"id\":\"7364d5d0-655a-4b82-a725-c4210f21383a\",\"type\":\"Grid\"},{\"id\":\"a71b1274-390d-4801-93ab-8a83d83d4680\",\"type\":\"GlyphRenderer\"},{\"id\":\"b0ab48e8-28af-4565-9388-f43eb5ee99c7\",\"type\":\"GlyphRenderer\"}],\"title\":{\"id\":\"7599028f-ee38-45df-b83b-a742a5e32e64\",\"type\":\"Title\"},\"toolbar\":{\"id\":\"acd2d5c4-9e12-47ba-8253-44a0eca6e0fa\",\"type\":\"Toolbar\"},\"x_range\":{\"id\":\"050ce7e4-25c6-4788-bb9e-d7c3585ae5c1\",\"type\":\"DataRange1d\"},\"x_scale\":{\"id\":\"182ed936-bbcb-42f7-abf1-7b8b9a392d3d\",\"type\":\"LinearScale\"},\"y_range\":{\"id\":\"2a57d246-f096-4cf3-9061-af123214df08\",\"type\":\"DataRange1d\"},\"y_scale\":{\"id\":\"670189bd-7d9d-4053-a606-65c1e2b4fc27\",\"type\":\"LinearScale\"}},\"id\":\"5fb5974d-379f-4bf1-a16a-91c353af9a18\",\"subtype\":\"Figure\",\"type\":\"Plot\"},{\"attributes\":{\"callback\":null,\"data\":{\"x\":[0.0,1.0,10.0,11.0,17.0,20.0,21.0,26.0,27.0,28.0,29.0,30.0,35.0,37.0,39.0,41.0,43.0,44.0,47.0,48.0],\"y\":[87.43694444444445,1566.5713888888888,63.539722222222224,982.1933333333334,460.77694444444444,141.8202777777778,883.2044444444444,25.4375,214.31222222222223,46.886944444444445,88.40583333333333,557.5727777777778,240.27777777777777,92.2936111111111,313.6461111111111,220.23444444444445,143.6561111111111,541.7172222222222,125.0825,395.1377777777778]},\"selected\":{\"id\":\"ec30d01f-3491-47a7-a3bc-917f710be375\",\"type\":\"Selection\"},\"selection_policy\":{\"id\":\"cb4e2dd4-3a6b-4c9d-8d94-f25aa4d69bcf\",\"type\":\"UnionRenderers\"}},\"id\":\"89e2fac8-89f3-4440-9ce2-faab54f75d2f\",\"type\":\"ColumnDataSource\"},{\"attributes\":{},\"id\":\"61790742-9dee-4bde-9adb-acc881fdc54a\",\"type\":\"Selection\"},{\"attributes\":{\"source\":{\"id\":\"9d253f20-9b18-4b79-a2b7-8c7fb1860912\",\"type\":\"ColumnDataSource\"}},\"id\":\"dd277115-27fb-4eb0-b9b2-38a57a4ccde8\",\"type\":\"CDSView\"},{\"attributes\":{},\"id\":\"670189bd-7d9d-4053-a606-65c1e2b4fc27\",\"type\":\"LinearScale\"},{\"attributes\":{},\"id\":\"1db30d20-1a72-4ed0-b183-c4dd54a49dbf\",\"type\":\"ResetTool\"},{\"attributes\":{\"fill_alpha\":{\"value\":0.3},\"fill_color\":{\"value\":\"darkblue\"},\"line_color\":{\"value\":\"darkblue\"},\"x\":{\"field\":\"x\"},\"y\":{\"field\":\"y\"}},\"id\":\"043d9f2a-c19b-4e2c-8bb7-163c318c8be9\",\"type\":\"Circle\"},{\"attributes\":{\"data_source\":{\"id\":\"89e2fac8-89f3-4440-9ce2-faab54f75d2f\",\"type\":\"ColumnDataSource\"},\"glyph\":{\"id\":\"e366a044-c25d-45b8-b01f-902d43ce9e15\",\"type\":\"Line\"},\"hover_glyph\":null,\"muted_glyph\":null,\"nonselection_glyph\":{\"id\":\"48246338-d33d-45a7-be1d-260362f60ec1\",\"type\":\"Line\"},\"selection_glyph\":null,\"view\":{\"id\":\"cccc2212-b999-4503-bebb-f9f5ff5ffece\",\"type\":\"CDSView\"}},\"id\":\"a71b1274-390d-4801-93ab-8a83d83d4680\",\"type\":\"GlyphRenderer\"},{\"attributes\":{\"plot\":null,\"text\":\"User: 6037 - Gap lengths per week - considering only gaps above 18h\"},\"id\":\"7599028f-ee38-45df-b83b-a742a5e32e64\",\"type\":\"Title\"},{\"attributes\":{\"line_alpha\":0.1,\"line_color\":\"#1f77b4\",\"x\":{\"field\":\"x\"},\"y\":{\"field\":\"y\"}},\"id\":\"48246338-d33d-45a7-be1d-260362f60ec1\",\"type\":\"Line\"},{\"attributes\":{\"line_alpha\":0.3,\"line_color\":\"darkblue\",\"x\":{\"field\":\"x\"},\"y\":{\"field\":\"y\"}},\"id\":\"e366a044-c25d-45b8-b01f-902d43ce9e15\",\"type\":\"Line\"},{\"attributes\":{\"callback\":null,\"data\":{\"x\":[0.0,1.0,10.0,11.0,17.0,20.0,21.0,26.0,27.0,28.0,29.0,30.0,35.0,37.0,39.0,41.0,43.0,44.0,47.0,48.0],\"y\":[87.43694444444445,1566.5713888888888,63.539722222222224,982.1933333333334,460.77694444444444,141.8202777777778,883.2044444444444,25.4375,214.31222222222223,46.886944444444445,88.40583333333333,557.5727777777778,240.27777777777777,92.2936111111111,313.6461111111111,220.23444444444445,143.6561111111111,541.7172222222222,125.0825,395.1377777777778]},\"selected\":{\"id\":\"61790742-9dee-4bde-9adb-acc881fdc54a\",\"type\":\"Selection\"},\"selection_policy\":{\"id\":\"768822fa-5ef5-401d-8083-00dbfd98688f\",\"type\":\"UnionRenderers\"}},\"id\":\"9d253f20-9b18-4b79-a2b7-8c7fb1860912\",\"type\":\"ColumnDataSource\"},{\"attributes\":{},\"id\":\"182ed936-bbcb-42f7-abf1-7b8b9a392d3d\",\"type\":\"LinearScale\"},{\"attributes\":{\"dimensions\":\"width\"},\"id\":\"ebdf400e-2536-456a-b8c9-88a54f324c9f\",\"type\":\"WheelZoomTool\"}],\"root_ids\":[\"5fb5974d-379f-4bf1-a16a-91c353af9a18\"]},\"title\":\"Bokeh Application\",\"version\":\"0.12.16\"}};\n",
       "  var render_items = [{\"docid\":\"a38e0dd2-ebad-4359-86f2-354063e936dd\",\"elementid\":\"1c15b428-3612-4d67-bd8a-8952a36b551b\",\"modelid\":\"5fb5974d-379f-4bf1-a16a-91c353af9a18\"}];\n",
       "  root.Bokeh.embed.embed_items_notebook(docs_json, render_items);\n",
       "\n",
       "  }\n",
       "  if (root.Bokeh !== undefined) {\n",
       "    embed_document(root);\n",
       "  } else {\n",
       "    var attempts = 0;\n",
       "    var timer = setInterval(function(root) {\n",
       "      if (root.Bokeh !== undefined) {\n",
       "        embed_document(root);\n",
       "        clearInterval(timer);\n",
       "      }\n",
       "      attempts++;\n",
       "      if (attempts > 100) {\n",
       "        console.log(\"Bokeh: ERROR: Unable to run BokehJS code because BokehJS library is missing\")\n",
       "        clearInterval(timer);\n",
       "      }\n",
       "    }, 10, root)\n",
       "  }\n",
       "})(window);"
      ],
      "application/vnd.bokehjs_exec.v0+json": ""
     },
     "metadata": {
      "application/vnd.bokehjs_exec.v0+json": {
       "id": "5fb5974d-379f-4bf1-a16a-91c353af9a18"
      }
     },
     "output_type": "display_data"
    }
   ],
   "source": [
    "gaps_report(users_gps, user_id=6037, min_time_gap_h=18)"
   ]
  },
  {
   "cell_type": "markdown",
   "metadata": {},
   "source": [
    "### User 6094"
   ]
  },
  {
   "cell_type": "code",
   "execution_count": 16,
   "metadata": {},
   "outputs": [
    {
     "name": "stdout",
     "output_type": "stream",
     "text": [
      "USER: 6094\n",
      "\n",
      "total days    : 267.77\n",
      "total hours   : 6426.59\n",
      "\n",
      "gap hours     : 4344.75h\n",
      "gap prop.     : 67.61%\n",
      "\n",
      "n gaps 18h    : 49\n",
      "gap len       : 21.25h (median)\n"
     ]
    },
    {
     "data": {
      "text/html": [
       "\n",
       "<div class=\"bk-root\">\n",
       "    <div class=\"bk-plotdiv\" id=\"0867a7e5-9180-43f8-82e5-aa292c82e96f\"></div>\n",
       "</div>"
      ]
     },
     "metadata": {},
     "output_type": "display_data"
    },
    {
     "data": {
      "application/javascript": [
       "(function(root) {\n",
       "  function embed_document(root) {\n",
       "    \n",
       "  var docs_json = {\"2fbd4453-d552-4629-a432-8107691d0136\":{\"roots\":{\"references\":[{\"attributes\":{\"callback\":null},\"id\":\"5cee6ce0-f617-4540-8632-2f345a857320\",\"type\":\"DataRange1d\"},{\"attributes\":{\"dimension\":1,\"plot\":{\"id\":\"d1452f7b-cebb-40cc-a228-bec48c136f09\",\"subtype\":\"Figure\",\"type\":\"Plot\"},\"ticker\":{\"id\":\"4d26374d-ece5-43dc-8b4d-38e497fd1075\",\"type\":\"BasicTicker\"}},\"id\":\"bbfb2284-f9de-4533-ba40-8455c81602f8\",\"type\":\"Grid\"},{\"attributes\":{\"callback\":null},\"id\":\"623177dc-39f4-4981-9cd0-4c352212871e\",\"type\":\"DataRange1d\"},{\"attributes\":{},\"id\":\"ca00b614-4042-4e51-a80f-ed874657df4b\",\"type\":\"Selection\"},{\"attributes\":{\"below\":[{\"id\":\"4690be07-cdbd-4b03-a1d3-0ac5bdee554b\",\"type\":\"LinearAxis\"}],\"left\":[{\"id\":\"d6e7db2a-65bd-493e-bd74-f70bb2a46ba7\",\"type\":\"LinearAxis\"}],\"plot_height\":300,\"plot_width\":900,\"renderers\":[{\"id\":\"4690be07-cdbd-4b03-a1d3-0ac5bdee554b\",\"type\":\"LinearAxis\"},{\"id\":\"7dc68650-36ed-4375-a567-7503e3535ebc\",\"type\":\"Grid\"},{\"id\":\"d6e7db2a-65bd-493e-bd74-f70bb2a46ba7\",\"type\":\"LinearAxis\"},{\"id\":\"bbfb2284-f9de-4533-ba40-8455c81602f8\",\"type\":\"Grid\"},{\"id\":\"19814ad3-a004-427f-b121-363dde7f8df8\",\"type\":\"GlyphRenderer\"},{\"id\":\"88ca60d9-8847-4f17-8ca5-1708981775f0\",\"type\":\"GlyphRenderer\"}],\"title\":{\"id\":\"914cc50e-cbeb-43f7-b91b-ab3facf20034\",\"type\":\"Title\"},\"toolbar\":{\"id\":\"f24955ab-9ece-4cf9-a623-fe999d41a378\",\"type\":\"Toolbar\"},\"x_range\":{\"id\":\"623177dc-39f4-4981-9cd0-4c352212871e\",\"type\":\"DataRange1d\"},\"x_scale\":{\"id\":\"7f5c3013-7797-4b50-a1ab-0324b046c587\",\"type\":\"LinearScale\"},\"y_range\":{\"id\":\"5cee6ce0-f617-4540-8632-2f345a857320\",\"type\":\"DataRange1d\"},\"y_scale\":{\"id\":\"0dd2e408-3a68-469f-bc91-c679d45c2772\",\"type\":\"LinearScale\"}},\"id\":\"d1452f7b-cebb-40cc-a228-bec48c136f09\",\"subtype\":\"Figure\",\"type\":\"Plot\"},{\"attributes\":{\"data_source\":{\"id\":\"2ba7834f-c4e1-40c5-9710-d518cea89221\",\"type\":\"ColumnDataSource\"},\"glyph\":{\"id\":\"f2dfbb37-078d-48b0-b362-6f533e958ecd\",\"type\":\"Line\"},\"hover_glyph\":null,\"muted_glyph\":null,\"nonselection_glyph\":{\"id\":\"b2bc67f9-3e2a-4a43-9d68-3121174ce235\",\"type\":\"Line\"},\"selection_glyph\":null,\"view\":{\"id\":\"ea8d2999-cd4a-455a-a729-4d24bbfae5dd\",\"type\":\"CDSView\"}},\"id\":\"19814ad3-a004-427f-b121-363dde7f8df8\",\"type\":\"GlyphRenderer\"},{\"attributes\":{\"dimensions\":\"width\"},\"id\":\"0903ae5b-feb3-4cb4-964b-6d5bec836848\",\"type\":\"PanTool\"},{\"attributes\":{},\"id\":\"7f5c3013-7797-4b50-a1ab-0324b046c587\",\"type\":\"LinearScale\"},{\"attributes\":{},\"id\":\"96066cff-71cc-45a0-9c08-ae93d65f5a5c\",\"type\":\"ResetTool\"},{\"attributes\":{\"fill_alpha\":{\"value\":0.3},\"fill_color\":{\"value\":\"darkblue\"},\"line_color\":{\"value\":\"darkblue\"},\"x\":{\"field\":\"x\"},\"y\":{\"field\":\"y\"}},\"id\":\"0ad9820c-4f3c-487a-8400-98facce3dcce\",\"type\":\"Circle\"},{\"attributes\":{\"line_alpha\":0.1,\"line_color\":\"#1f77b4\",\"x\":{\"field\":\"x\"},\"y\":{\"field\":\"y\"}},\"id\":\"b2bc67f9-3e2a-4a43-9d68-3121174ce235\",\"type\":\"Line\"},{\"attributes\":{\"plot\":null,\"text\":\"User: 6094 - Gap lengths per week - considering only gaps above 18h\"},\"id\":\"914cc50e-cbeb-43f7-b91b-ab3facf20034\",\"type\":\"Title\"},{\"attributes\":{},\"id\":\"4d26374d-ece5-43dc-8b4d-38e497fd1075\",\"type\":\"BasicTicker\"},{\"attributes\":{\"source\":{\"id\":\"2ba7834f-c4e1-40c5-9710-d518cea89221\",\"type\":\"ColumnDataSource\"}},\"id\":\"ea8d2999-cd4a-455a-a729-4d24bbfae5dd\",\"type\":\"CDSView\"},{\"attributes\":{\"callback\":null,\"data\":{\"x\":[0.0,1.0,3.0,6.0,8.0,9.0,10.0,11.0,12.0,13.0,14.0,15.0,16.0,18.0,19.0,20.0,22.0,23.0,24.0,26.0,27.0,28.0,29.0,30.0,31.0,32.0,33.0,35.0,37.0],\"y\":[60.926944444444445,154.9763888888889,41.35638888888889,18.819166666666668,60.68972222222222,23.91027777777778,18.16,43.763888888888886,55.115833333333335,104.27416666666667,78.97361111111111,24.900555555555556,21.020833333333332,69.76722222222222,34.6925,20.815833333333334,32.06388888888889,24.41638888888889,38.50972222222222,24.004166666666666,18.16111111111111,158.975,20.980833333333333,19.883333333333333,255.59194444444444,26.931944444444444,44.27611111111111,59.878055555555555,18.990555555555556]},\"selected\":{\"id\":\"2f6836b3-b076-48c7-89d8-c9f51ac01001\",\"type\":\"Selection\"},\"selection_policy\":{\"id\":\"4ffa52d2-f090-4e6d-88ec-cffa439bd23d\",\"type\":\"UnionRenderers\"}},\"id\":\"2ba7834f-c4e1-40c5-9710-d518cea89221\",\"type\":\"ColumnDataSource\"},{\"attributes\":{},\"id\":\"4ffa52d2-f090-4e6d-88ec-cffa439bd23d\",\"type\":\"UnionRenderers\"},{\"attributes\":{},\"id\":\"89b5b23b-51b5-45a2-a353-2cf4d1935f1f\",\"type\":\"BasicTicker\"},{\"attributes\":{},\"id\":\"2f6836b3-b076-48c7-89d8-c9f51ac01001\",\"type\":\"Selection\"},{\"attributes\":{},\"id\":\"2a6862e7-5169-4bf6-a29b-b1e457b60ffe\",\"type\":\"UnionRenderers\"},{\"attributes\":{},\"id\":\"0dd2e408-3a68-469f-bc91-c679d45c2772\",\"type\":\"LinearScale\"},{\"attributes\":{\"data_source\":{\"id\":\"7cf90f46-0083-4b3c-97cf-6cea10824dc2\",\"type\":\"ColumnDataSource\"},\"glyph\":{\"id\":\"0ad9820c-4f3c-487a-8400-98facce3dcce\",\"type\":\"Circle\"},\"hover_glyph\":null,\"muted_glyph\":null,\"nonselection_glyph\":{\"id\":\"b50940c2-a9a1-4540-bdeb-fd206cc14a22\",\"type\":\"Circle\"},\"selection_glyph\":null,\"view\":{\"id\":\"fc40cd7d-c727-4a7b-b0fa-534ed189a54c\",\"type\":\"CDSView\"}},\"id\":\"88ca60d9-8847-4f17-8ca5-1708981775f0\",\"type\":\"GlyphRenderer\"},{\"attributes\":{\"dimensions\":\"width\"},\"id\":\"30045f4f-b651-405c-b56c-5cb6b6773c4d\",\"type\":\"WheelZoomTool\"},{\"attributes\":{},\"id\":\"9ef2f227-467e-46e2-ab20-05121803793b\",\"type\":\"PrintfTickFormatter\"},{\"attributes\":{\"source\":{\"id\":\"7cf90f46-0083-4b3c-97cf-6cea10824dc2\",\"type\":\"ColumnDataSource\"}},\"id\":\"fc40cd7d-c727-4a7b-b0fa-534ed189a54c\",\"type\":\"CDSView\"},{\"attributes\":{\"axis_label\":\"gap total hours\",\"formatter\":{\"id\":\"9ef2f227-467e-46e2-ab20-05121803793b\",\"type\":\"PrintfTickFormatter\"},\"plot\":{\"id\":\"d1452f7b-cebb-40cc-a228-bec48c136f09\",\"subtype\":\"Figure\",\"type\":\"Plot\"},\"ticker\":{\"id\":\"4d26374d-ece5-43dc-8b4d-38e497fd1075\",\"type\":\"BasicTicker\"}},\"id\":\"d6e7db2a-65bd-493e-bd74-f70bb2a46ba7\",\"type\":\"LinearAxis\"},{\"attributes\":{\"callback\":null,\"data\":{\"x\":[0.0,1.0,3.0,6.0,8.0,9.0,10.0,11.0,12.0,13.0,14.0,15.0,16.0,18.0,19.0,20.0,22.0,23.0,24.0,26.0,27.0,28.0,29.0,30.0,31.0,32.0,33.0,35.0,37.0],\"y\":[60.926944444444445,154.9763888888889,41.35638888888889,18.819166666666668,60.68972222222222,23.91027777777778,18.16,43.763888888888886,55.115833333333335,104.27416666666667,78.97361111111111,24.900555555555556,21.020833333333332,69.76722222222222,34.6925,20.815833333333334,32.06388888888889,24.41638888888889,38.50972222222222,24.004166666666666,18.16111111111111,158.975,20.980833333333333,19.883333333333333,255.59194444444444,26.931944444444444,44.27611111111111,59.878055555555555,18.990555555555556]},\"selected\":{\"id\":\"ca00b614-4042-4e51-a80f-ed874657df4b\",\"type\":\"Selection\"},\"selection_policy\":{\"id\":\"2a6862e7-5169-4bf6-a29b-b1e457b60ffe\",\"type\":\"UnionRenderers\"}},\"id\":\"7cf90f46-0083-4b3c-97cf-6cea10824dc2\",\"type\":\"ColumnDataSource\"},{\"attributes\":{\"plot\":{\"id\":\"d1452f7b-cebb-40cc-a228-bec48c136f09\",\"subtype\":\"Figure\",\"type\":\"Plot\"},\"ticker\":{\"id\":\"89b5b23b-51b5-45a2-a353-2cf4d1935f1f\",\"type\":\"BasicTicker\"}},\"id\":\"7dc68650-36ed-4375-a567-7503e3535ebc\",\"type\":\"Grid\"},{\"attributes\":{\"active_drag\":\"auto\",\"active_inspect\":\"auto\",\"active_scroll\":\"auto\",\"active_tap\":\"auto\",\"tools\":[{\"id\":\"30045f4f-b651-405c-b56c-5cb6b6773c4d\",\"type\":\"WheelZoomTool\"},{\"id\":\"0903ae5b-feb3-4cb4-964b-6d5bec836848\",\"type\":\"PanTool\"},{\"id\":\"96066cff-71cc-45a0-9c08-ae93d65f5a5c\",\"type\":\"ResetTool\"}]},\"id\":\"f24955ab-9ece-4cf9-a623-fe999d41a378\",\"type\":\"Toolbar\"},{\"attributes\":{\"fill_alpha\":{\"value\":0.1},\"fill_color\":{\"value\":\"#1f77b4\"},\"line_alpha\":{\"value\":0.1},\"line_color\":{\"value\":\"#1f77b4\"},\"x\":{\"field\":\"x\"},\"y\":{\"field\":\"y\"}},\"id\":\"b50940c2-a9a1-4540-bdeb-fd206cc14a22\",\"type\":\"Circle\"},{\"attributes\":{\"axis_label\":\"week\",\"formatter\":{\"id\":\"1df78de7-92f4-4e21-ade2-2072a8124b9a\",\"type\":\"BasicTickFormatter\"},\"plot\":{\"id\":\"d1452f7b-cebb-40cc-a228-bec48c136f09\",\"subtype\":\"Figure\",\"type\":\"Plot\"},\"ticker\":{\"id\":\"89b5b23b-51b5-45a2-a353-2cf4d1935f1f\",\"type\":\"BasicTicker\"}},\"id\":\"4690be07-cdbd-4b03-a1d3-0ac5bdee554b\",\"type\":\"LinearAxis\"},{\"attributes\":{\"line_alpha\":0.3,\"line_color\":\"darkblue\",\"x\":{\"field\":\"x\"},\"y\":{\"field\":\"y\"}},\"id\":\"f2dfbb37-078d-48b0-b362-6f533e958ecd\",\"type\":\"Line\"},{\"attributes\":{},\"id\":\"1df78de7-92f4-4e21-ade2-2072a8124b9a\",\"type\":\"BasicTickFormatter\"}],\"root_ids\":[\"d1452f7b-cebb-40cc-a228-bec48c136f09\"]},\"title\":\"Bokeh Application\",\"version\":\"0.12.16\"}};\n",
       "  var render_items = [{\"docid\":\"2fbd4453-d552-4629-a432-8107691d0136\",\"elementid\":\"0867a7e5-9180-43f8-82e5-aa292c82e96f\",\"modelid\":\"d1452f7b-cebb-40cc-a228-bec48c136f09\"}];\n",
       "  root.Bokeh.embed.embed_items_notebook(docs_json, render_items);\n",
       "\n",
       "  }\n",
       "  if (root.Bokeh !== undefined) {\n",
       "    embed_document(root);\n",
       "  } else {\n",
       "    var attempts = 0;\n",
       "    var timer = setInterval(function(root) {\n",
       "      if (root.Bokeh !== undefined) {\n",
       "        embed_document(root);\n",
       "        clearInterval(timer);\n",
       "      }\n",
       "      attempts++;\n",
       "      if (attempts > 100) {\n",
       "        console.log(\"Bokeh: ERROR: Unable to run BokehJS code because BokehJS library is missing\")\n",
       "        clearInterval(timer);\n",
       "      }\n",
       "    }, 10, root)\n",
       "  }\n",
       "})(window);"
      ],
      "application/vnd.bokehjs_exec.v0+json": ""
     },
     "metadata": {
      "application/vnd.bokehjs_exec.v0+json": {
       "id": "d1452f7b-cebb-40cc-a228-bec48c136f09"
      }
     },
     "output_type": "display_data"
    }
   ],
   "source": [
    "gaps_report(users_gps, user_id=6094, min_time_gap_h=18)"
   ]
  },
  {
   "cell_type": "markdown",
   "metadata": {},
   "source": [
    "### User 5952"
   ]
  },
  {
   "cell_type": "code",
   "execution_count": 17,
   "metadata": {},
   "outputs": [
    {
     "name": "stdout",
     "output_type": "stream",
     "text": [
      "USER: 5952\n",
      "\n",
      "total days    : 5.04\n",
      "total hours   : 120.87\n",
      "\n",
      "gap hours     : 96.84h\n",
      "gap prop.     : 80.12%\n",
      "\n",
      "n gaps 18h    : 2\n",
      "gap len       : 25.27h (median)\n"
     ]
    },
    {
     "data": {
      "text/html": [
       "\n",
       "<div class=\"bk-root\">\n",
       "    <div class=\"bk-plotdiv\" id=\"112d2135-d3c6-473c-a47e-bbe8354e5a8a\"></div>\n",
       "</div>"
      ]
     },
     "metadata": {},
     "output_type": "display_data"
    },
    {
     "data": {
      "application/javascript": [
       "(function(root) {\n",
       "  function embed_document(root) {\n",
       "    \n",
       "  var docs_json = {\"b6c24569-c8d4-4a56-af7f-09c3bcf1c907\":{\"roots\":{\"references\":[{\"attributes\":{},\"id\":\"e2dd6290-a461-440f-a6c3-11d90d6221e6\",\"type\":\"UnionRenderers\"},{\"attributes\":{},\"id\":\"4daa64b5-725a-4464-b79c-df44a90c28dc\",\"type\":\"Selection\"},{\"attributes\":{\"plot\":null,\"text\":\"User: 5952 - Gap lengths per week - considering only gaps above 18h\"},\"id\":\"89e8ccfa-a1ef-46eb-b25e-563673437cbc\",\"type\":\"Title\"},{\"attributes\":{\"callback\":null},\"id\":\"fb2b7e14-16bf-4f9b-8778-73380bee46a3\",\"type\":\"DataRange1d\"},{\"attributes\":{\"callback\":null,\"data\":{\"x\":[0.0],\"y\":[50.54805555555556]},\"selected\":{\"id\":\"ca7b5576-93eb-4428-b806-498ca036f811\",\"type\":\"Selection\"},\"selection_policy\":{\"id\":\"966dc2d2-9f20-4893-ad37-b6d5e3e786ec\",\"type\":\"UnionRenderers\"}},\"id\":\"77fa44db-47af-43c8-949d-e54d4b17a174\",\"type\":\"ColumnDataSource\"},{\"attributes\":{\"line_alpha\":0.3,\"line_color\":\"darkblue\",\"x\":{\"field\":\"x\"},\"y\":{\"field\":\"y\"}},\"id\":\"30f913dd-d684-4670-a4f8-98138ac96166\",\"type\":\"Line\"},{\"attributes\":{\"active_drag\":\"auto\",\"active_inspect\":\"auto\",\"active_scroll\":\"auto\",\"active_tap\":\"auto\",\"tools\":[{\"id\":\"29ad51d8-7eaa-4f41-abe1-d1a5ea839210\",\"type\":\"WheelZoomTool\"},{\"id\":\"77ae3db9-46a6-4e63-9f17-0641c5f14821\",\"type\":\"PanTool\"},{\"id\":\"d2b9a999-7aa8-4173-81ef-42fe04efd446\",\"type\":\"ResetTool\"}]},\"id\":\"27c145d9-ac35-4582-a8be-a0e265eaf51a\",\"type\":\"Toolbar\"},{\"attributes\":{},\"id\":\"ae8d41e7-f3c3-4700-92cf-5c7def3f9f05\",\"type\":\"LinearScale\"},{\"attributes\":{\"callback\":null},\"id\":\"a20d83ea-1a12-4d77-adb7-1e3254f7951c\",\"type\":\"DataRange1d\"},{\"attributes\":{},\"id\":\"83c7478d-b0f0-45d6-8d27-73a15a02ec37\",\"type\":\"LinearScale\"},{\"attributes\":{\"plot\":{\"id\":\"0e288420-47eb-49cd-944d-752204ba344b\",\"subtype\":\"Figure\",\"type\":\"Plot\"},\"ticker\":{\"id\":\"4ad1742a-2ce9-494e-8568-67a59fa62f7a\",\"type\":\"BasicTicker\"}},\"id\":\"4c493152-44d6-4413-b230-21cc6feb10f7\",\"type\":\"Grid\"},{\"attributes\":{\"axis_label\":\"week\",\"formatter\":{\"id\":\"03a7bd72-379b-4508-8974-7abab40b2c62\",\"type\":\"BasicTickFormatter\"},\"plot\":{\"id\":\"0e288420-47eb-49cd-944d-752204ba344b\",\"subtype\":\"Figure\",\"type\":\"Plot\"},\"ticker\":{\"id\":\"4ad1742a-2ce9-494e-8568-67a59fa62f7a\",\"type\":\"BasicTicker\"}},\"id\":\"3b8da5eb-9f6d-4279-b70c-b927349d6d3f\",\"type\":\"LinearAxis\"},{\"attributes\":{},\"id\":\"4ad1742a-2ce9-494e-8568-67a59fa62f7a\",\"type\":\"BasicTicker\"},{\"attributes\":{\"axis_label\":\"gap total hours\",\"formatter\":{\"id\":\"055418bf-96e4-421e-a5a0-fc186ed39008\",\"type\":\"PrintfTickFormatter\"},\"plot\":{\"id\":\"0e288420-47eb-49cd-944d-752204ba344b\",\"subtype\":\"Figure\",\"type\":\"Plot\"},\"ticker\":{\"id\":\"b08cf076-0d92-4de6-a15c-2c5956e24f66\",\"type\":\"BasicTicker\"}},\"id\":\"78563b2f-36ab-4c29-8965-162bb08de3b9\",\"type\":\"LinearAxis\"},{\"attributes\":{},\"id\":\"b08cf076-0d92-4de6-a15c-2c5956e24f66\",\"type\":\"BasicTicker\"},{\"attributes\":{\"dimension\":1,\"plot\":{\"id\":\"0e288420-47eb-49cd-944d-752204ba344b\",\"subtype\":\"Figure\",\"type\":\"Plot\"},\"ticker\":{\"id\":\"b08cf076-0d92-4de6-a15c-2c5956e24f66\",\"type\":\"BasicTicker\"}},\"id\":\"603199c9-9bab-4601-95f5-eae167d61046\",\"type\":\"Grid\"},{\"attributes\":{\"callback\":null,\"data\":{\"x\":[0.0],\"y\":[50.54805555555556]},\"selected\":{\"id\":\"4daa64b5-725a-4464-b79c-df44a90c28dc\",\"type\":\"Selection\"},\"selection_policy\":{\"id\":\"e2dd6290-a461-440f-a6c3-11d90d6221e6\",\"type\":\"UnionRenderers\"}},\"id\":\"6fc52b3d-d0ab-430e-9f91-5290e7f2d16d\",\"type\":\"ColumnDataSource\"},{\"attributes\":{\"data_source\":{\"id\":\"77fa44db-47af-43c8-949d-e54d4b17a174\",\"type\":\"ColumnDataSource\"},\"glyph\":{\"id\":\"30f913dd-d684-4670-a4f8-98138ac96166\",\"type\":\"Line\"},\"hover_glyph\":null,\"muted_glyph\":null,\"nonselection_glyph\":{\"id\":\"1ef4bf14-095d-48ba-bfad-89dd6bef87ce\",\"type\":\"Line\"},\"selection_glyph\":null,\"view\":{\"id\":\"8e7b059e-b25f-4e77-bce1-8588aeb6c8a1\",\"type\":\"CDSView\"}},\"id\":\"010c774a-9aef-4d91-ac01-c163cd0f5e2d\",\"type\":\"GlyphRenderer\"},{\"attributes\":{\"dimensions\":\"width\"},\"id\":\"29ad51d8-7eaa-4f41-abe1-d1a5ea839210\",\"type\":\"WheelZoomTool\"},{\"attributes\":{\"source\":{\"id\":\"77fa44db-47af-43c8-949d-e54d4b17a174\",\"type\":\"ColumnDataSource\"}},\"id\":\"8e7b059e-b25f-4e77-bce1-8588aeb6c8a1\",\"type\":\"CDSView\"},{\"attributes\":{\"dimensions\":\"width\"},\"id\":\"77ae3db9-46a6-4e63-9f17-0641c5f14821\",\"type\":\"PanTool\"},{\"attributes\":{},\"id\":\"d2b9a999-7aa8-4173-81ef-42fe04efd446\",\"type\":\"ResetTool\"},{\"attributes\":{\"line_alpha\":0.1,\"line_color\":\"#1f77b4\",\"x\":{\"field\":\"x\"},\"y\":{\"field\":\"y\"}},\"id\":\"1ef4bf14-095d-48ba-bfad-89dd6bef87ce\",\"type\":\"Line\"},{\"attributes\":{\"fill_alpha\":{\"value\":0.3},\"fill_color\":{\"value\":\"darkblue\"},\"line_color\":{\"value\":\"darkblue\"},\"x\":{\"field\":\"x\"},\"y\":{\"field\":\"y\"}},\"id\":\"60989ae4-a218-4598-bc58-bb8ee698f088\",\"type\":\"Circle\"},{\"attributes\":{\"below\":[{\"id\":\"3b8da5eb-9f6d-4279-b70c-b927349d6d3f\",\"type\":\"LinearAxis\"}],\"left\":[{\"id\":\"78563b2f-36ab-4c29-8965-162bb08de3b9\",\"type\":\"LinearAxis\"}],\"plot_height\":300,\"plot_width\":900,\"renderers\":[{\"id\":\"3b8da5eb-9f6d-4279-b70c-b927349d6d3f\",\"type\":\"LinearAxis\"},{\"id\":\"4c493152-44d6-4413-b230-21cc6feb10f7\",\"type\":\"Grid\"},{\"id\":\"78563b2f-36ab-4c29-8965-162bb08de3b9\",\"type\":\"LinearAxis\"},{\"id\":\"603199c9-9bab-4601-95f5-eae167d61046\",\"type\":\"Grid\"},{\"id\":\"010c774a-9aef-4d91-ac01-c163cd0f5e2d\",\"type\":\"GlyphRenderer\"},{\"id\":\"c140c60c-4163-4036-a114-d144fde3af59\",\"type\":\"GlyphRenderer\"}],\"title\":{\"id\":\"89e8ccfa-a1ef-46eb-b25e-563673437cbc\",\"type\":\"Title\"},\"toolbar\":{\"id\":\"27c145d9-ac35-4582-a8be-a0e265eaf51a\",\"type\":\"Toolbar\"},\"x_range\":{\"id\":\"fb2b7e14-16bf-4f9b-8778-73380bee46a3\",\"type\":\"DataRange1d\"},\"x_scale\":{\"id\":\"ae8d41e7-f3c3-4700-92cf-5c7def3f9f05\",\"type\":\"LinearScale\"},\"y_range\":{\"id\":\"a20d83ea-1a12-4d77-adb7-1e3254f7951c\",\"type\":\"DataRange1d\"},\"y_scale\":{\"id\":\"83c7478d-b0f0-45d6-8d27-73a15a02ec37\",\"type\":\"LinearScale\"}},\"id\":\"0e288420-47eb-49cd-944d-752204ba344b\",\"subtype\":\"Figure\",\"type\":\"Plot\"},{\"attributes\":{},\"id\":\"03a7bd72-379b-4508-8974-7abab40b2c62\",\"type\":\"BasicTickFormatter\"},{\"attributes\":{\"fill_alpha\":{\"value\":0.1},\"fill_color\":{\"value\":\"#1f77b4\"},\"line_alpha\":{\"value\":0.1},\"line_color\":{\"value\":\"#1f77b4\"},\"x\":{\"field\":\"x\"},\"y\":{\"field\":\"y\"}},\"id\":\"a25c348b-1d55-48b1-9cee-ce0c9fba60c0\",\"type\":\"Circle\"},{\"attributes\":{\"data_source\":{\"id\":\"6fc52b3d-d0ab-430e-9f91-5290e7f2d16d\",\"type\":\"ColumnDataSource\"},\"glyph\":{\"id\":\"60989ae4-a218-4598-bc58-bb8ee698f088\",\"type\":\"Circle\"},\"hover_glyph\":null,\"muted_glyph\":null,\"nonselection_glyph\":{\"id\":\"a25c348b-1d55-48b1-9cee-ce0c9fba60c0\",\"type\":\"Circle\"},\"selection_glyph\":null,\"view\":{\"id\":\"e40b2908-3281-46f2-842c-63f9ea1d14d7\",\"type\":\"CDSView\"}},\"id\":\"c140c60c-4163-4036-a114-d144fde3af59\",\"type\":\"GlyphRenderer\"},{\"attributes\":{\"source\":{\"id\":\"6fc52b3d-d0ab-430e-9f91-5290e7f2d16d\",\"type\":\"ColumnDataSource\"}},\"id\":\"e40b2908-3281-46f2-842c-63f9ea1d14d7\",\"type\":\"CDSView\"},{\"attributes\":{},\"id\":\"055418bf-96e4-421e-a5a0-fc186ed39008\",\"type\":\"PrintfTickFormatter\"},{\"attributes\":{},\"id\":\"966dc2d2-9f20-4893-ad37-b6d5e3e786ec\",\"type\":\"UnionRenderers\"},{\"attributes\":{},\"id\":\"ca7b5576-93eb-4428-b806-498ca036f811\",\"type\":\"Selection\"}],\"root_ids\":[\"0e288420-47eb-49cd-944d-752204ba344b\"]},\"title\":\"Bokeh Application\",\"version\":\"0.12.16\"}};\n",
       "  var render_items = [{\"docid\":\"b6c24569-c8d4-4a56-af7f-09c3bcf1c907\",\"elementid\":\"112d2135-d3c6-473c-a47e-bbe8354e5a8a\",\"modelid\":\"0e288420-47eb-49cd-944d-752204ba344b\"}];\n",
       "  root.Bokeh.embed.embed_items_notebook(docs_json, render_items);\n",
       "\n",
       "  }\n",
       "  if (root.Bokeh !== undefined) {\n",
       "    embed_document(root);\n",
       "  } else {\n",
       "    var attempts = 0;\n",
       "    var timer = setInterval(function(root) {\n",
       "      if (root.Bokeh !== undefined) {\n",
       "        embed_document(root);\n",
       "        clearInterval(timer);\n",
       "      }\n",
       "      attempts++;\n",
       "      if (attempts > 100) {\n",
       "        console.log(\"Bokeh: ERROR: Unable to run BokehJS code because BokehJS library is missing\")\n",
       "        clearInterval(timer);\n",
       "      }\n",
       "    }, 10, root)\n",
       "  }\n",
       "})(window);"
      ],
      "application/vnd.bokehjs_exec.v0+json": ""
     },
     "metadata": {
      "application/vnd.bokehjs_exec.v0+json": {
       "id": "0e288420-47eb-49cd-944d-752204ba344b"
      }
     },
     "output_type": "display_data"
    }
   ],
   "source": [
    "gaps_report(users_gps, user_id=5952, min_time_gap_h=18)"
   ]
  },
  {
   "cell_type": "markdown",
   "metadata": {},
   "source": [
    "### User 6066"
   ]
  },
  {
   "cell_type": "code",
   "execution_count": 18,
   "metadata": {},
   "outputs": [
    {
     "name": "stdout",
     "output_type": "stream",
     "text": [
      "USER: 6066\n",
      "\n",
      "total days    : 443.90\n",
      "total hours   : 10653.51\n",
      "\n",
      "gap hours     : 9977.37h\n",
      "gap prop.     : 93.65%\n",
      "\n",
      "n gaps 18h    : 6\n",
      "gap len       : 24.61h (median)\n"
     ]
    },
    {
     "data": {
      "text/html": [
       "\n",
       "<div class=\"bk-root\">\n",
       "    <div class=\"bk-plotdiv\" id=\"06788136-086b-429f-9f2d-815ef76b4b3f\"></div>\n",
       "</div>"
      ]
     },
     "metadata": {},
     "output_type": "display_data"
    },
    {
     "data": {
      "application/javascript": [
       "(function(root) {\n",
       "  function embed_document(root) {\n",
       "    \n",
       "  var docs_json = {\"669b35a4-9bbd-4469-a56d-ab012a11e65a\":{\"roots\":{\"references\":[{\"attributes\":{},\"id\":\"fa6da443-43e7-4095-8136-4528c3648769\",\"type\":\"PrintfTickFormatter\"},{\"attributes\":{},\"id\":\"37c75be5-4ac6-4652-93b6-8deb8ebd0f9d\",\"type\":\"UnionRenderers\"},{\"attributes\":{},\"id\":\"95f456d0-d42d-4da5-bec5-d5ac8376c4dd\",\"type\":\"Selection\"},{\"attributes\":{},\"id\":\"54511116-4185-425f-b250-120a9a0356cd\",\"type\":\"Selection\"},{\"attributes\":{},\"id\":\"5ba99152-d7ef-46f1-9cd5-cb15474a2930\",\"type\":\"UnionRenderers\"},{\"attributes\":{\"fill_alpha\":{\"value\":0.1},\"fill_color\":{\"value\":\"#1f77b4\"},\"line_alpha\":{\"value\":0.1},\"line_color\":{\"value\":\"#1f77b4\"},\"x\":{\"field\":\"x\"},\"y\":{\"field\":\"y\"}},\"id\":\"c4175a9c-fe84-4612-be17-769c0c90007f\",\"type\":\"Circle\"},{\"attributes\":{\"callback\":null},\"id\":\"ee1735c8-7874-4a37-873e-32857c5daf80\",\"type\":\"DataRange1d\"},{\"attributes\":{\"plot\":null,\"text\":\"User: 6066 - Gap lengths per week - considering only gaps above 18h\"},\"id\":\"ebf3b5a3-00fe-4460-ad86-313fd37878d7\",\"type\":\"Title\"},{\"attributes\":{\"plot\":{\"id\":\"c868979a-1f78-4fd2-9bdb-bdb8553579c5\",\"subtype\":\"Figure\",\"type\":\"Plot\"},\"ticker\":{\"id\":\"9074de43-92bc-4f79-a925-57525afc085d\",\"type\":\"BasicTicker\"}},\"id\":\"78075310-e271-45fe-909d-ac8f16a9a0c7\",\"type\":\"Grid\"},{\"attributes\":{},\"id\":\"9a79d29c-56d9-4f70-a165-f3de6ffe1cd7\",\"type\":\"LinearScale\"},{\"attributes\":{\"callback\":null},\"id\":\"a6ca85db-7937-494a-9ff5-8c00db2cfdb2\",\"type\":\"DataRange1d\"},{\"attributes\":{},\"id\":\"1b7eea9c-d0b6-4d25-a727-39ac16c8e944\",\"type\":\"LinearScale\"},{\"attributes\":{\"dimensions\":\"width\"},\"id\":\"015687bd-a350-4e32-9407-070f7914d064\",\"type\":\"WheelZoomTool\"},{\"attributes\":{\"active_drag\":\"auto\",\"active_inspect\":\"auto\",\"active_scroll\":\"auto\",\"active_tap\":\"auto\",\"tools\":[{\"id\":\"015687bd-a350-4e32-9407-070f7914d064\",\"type\":\"WheelZoomTool\"},{\"id\":\"cf26756f-3c40-410a-a2a5-cd36310757c1\",\"type\":\"PanTool\"},{\"id\":\"311c649c-f067-4060-b4a4-e4db8c93e5fc\",\"type\":\"ResetTool\"}]},\"id\":\"f4b6c529-2e5a-4666-9622-af61e4540e9e\",\"type\":\"Toolbar\"},{\"attributes\":{\"data_source\":{\"id\":\"365efad7-e521-4b62-8ec9-2b27bfa043ea\",\"type\":\"ColumnDataSource\"},\"glyph\":{\"id\":\"d35088bf-df18-44bd-b44b-fb6a338dd5f1\",\"type\":\"Line\"},\"hover_glyph\":null,\"muted_glyph\":null,\"nonselection_glyph\":{\"id\":\"9fae8396-617a-4780-9446-5c7078a31602\",\"type\":\"Line\"},\"selection_glyph\":null,\"view\":{\"id\":\"222abbab-cf84-4f48-9dcf-344883bcd42f\",\"type\":\"CDSView\"}},\"id\":\"f918cdbb-3aa5-498b-82dc-b9fcb4327ede\",\"type\":\"GlyphRenderer\"},{\"attributes\":{\"below\":[{\"id\":\"7550a6f6-8a85-4521-baaa-f3a6dfc7e9a3\",\"type\":\"LinearAxis\"}],\"left\":[{\"id\":\"17b503de-d003-4dec-bc57-2f778883dd9b\",\"type\":\"LinearAxis\"}],\"plot_height\":300,\"plot_width\":900,\"renderers\":[{\"id\":\"7550a6f6-8a85-4521-baaa-f3a6dfc7e9a3\",\"type\":\"LinearAxis\"},{\"id\":\"78075310-e271-45fe-909d-ac8f16a9a0c7\",\"type\":\"Grid\"},{\"id\":\"17b503de-d003-4dec-bc57-2f778883dd9b\",\"type\":\"LinearAxis\"},{\"id\":\"fd3f69ca-1e12-457e-808d-18c81b61c115\",\"type\":\"Grid\"},{\"id\":\"f918cdbb-3aa5-498b-82dc-b9fcb4327ede\",\"type\":\"GlyphRenderer\"},{\"id\":\"f6e94bee-7997-48c6-8eea-4d715d17c4b8\",\"type\":\"GlyphRenderer\"}],\"title\":{\"id\":\"ebf3b5a3-00fe-4460-ad86-313fd37878d7\",\"type\":\"Title\"},\"toolbar\":{\"id\":\"f4b6c529-2e5a-4666-9622-af61e4540e9e\",\"type\":\"Toolbar\"},\"x_range\":{\"id\":\"ee1735c8-7874-4a37-873e-32857c5daf80\",\"type\":\"DataRange1d\"},\"x_scale\":{\"id\":\"1b7eea9c-d0b6-4d25-a727-39ac16c8e944\",\"type\":\"LinearScale\"},\"y_range\":{\"id\":\"a6ca85db-7937-494a-9ff5-8c00db2cfdb2\",\"type\":\"DataRange1d\"},\"y_scale\":{\"id\":\"9a79d29c-56d9-4f70-a165-f3de6ffe1cd7\",\"type\":\"LinearScale\"}},\"id\":\"c868979a-1f78-4fd2-9bdb-bdb8553579c5\",\"subtype\":\"Figure\",\"type\":\"Plot\"},{\"attributes\":{\"line_alpha\":0.3,\"line_color\":\"darkblue\",\"x\":{\"field\":\"x\"},\"y\":{\"field\":\"y\"}},\"id\":\"d35088bf-df18-44bd-b44b-fb6a338dd5f1\",\"type\":\"Line\"},{\"attributes\":{\"callback\":null,\"data\":{\"x\":[0.0,1.0,2.0,5.0,6.0],\"y\":[18.191944444444445,37.11805555555556,21.23611111111111,18.28472222222222,9525.275277777779]},\"selected\":{\"id\":\"54511116-4185-425f-b250-120a9a0356cd\",\"type\":\"Selection\"},\"selection_policy\":{\"id\":\"37c75be5-4ac6-4652-93b6-8deb8ebd0f9d\",\"type\":\"UnionRenderers\"}},\"id\":\"365efad7-e521-4b62-8ec9-2b27bfa043ea\",\"type\":\"ColumnDataSource\"},{\"attributes\":{\"source\":{\"id\":\"610a3d67-b31a-456a-8e35-01edb7dc0450\",\"type\":\"ColumnDataSource\"}},\"id\":\"5f792ba6-4307-4be9-9d53-4c7d4a3de0b9\",\"type\":\"CDSView\"},{\"attributes\":{\"dimension\":1,\"plot\":{\"id\":\"c868979a-1f78-4fd2-9bdb-bdb8553579c5\",\"subtype\":\"Figure\",\"type\":\"Plot\"},\"ticker\":{\"id\":\"e50c4631-3dbc-4bcf-a783-9e8df99a080f\",\"type\":\"BasicTicker\"}},\"id\":\"fd3f69ca-1e12-457e-808d-18c81b61c115\",\"type\":\"Grid\"},{\"attributes\":{},\"id\":\"e50c4631-3dbc-4bcf-a783-9e8df99a080f\",\"type\":\"BasicTicker\"},{\"attributes\":{\"axis_label\":\"gap total hours\",\"formatter\":{\"id\":\"fa6da443-43e7-4095-8136-4528c3648769\",\"type\":\"PrintfTickFormatter\"},\"plot\":{\"id\":\"c868979a-1f78-4fd2-9bdb-bdb8553579c5\",\"subtype\":\"Figure\",\"type\":\"Plot\"},\"ticker\":{\"id\":\"e50c4631-3dbc-4bcf-a783-9e8df99a080f\",\"type\":\"BasicTicker\"}},\"id\":\"17b503de-d003-4dec-bc57-2f778883dd9b\",\"type\":\"LinearAxis\"},{\"attributes\":{},\"id\":\"9074de43-92bc-4f79-a925-57525afc085d\",\"type\":\"BasicTicker\"},{\"attributes\":{\"axis_label\":\"week\",\"formatter\":{\"id\":\"3f9dfd07-8ffa-4bc1-8c1f-e51b1299a73c\",\"type\":\"BasicTickFormatter\"},\"plot\":{\"id\":\"c868979a-1f78-4fd2-9bdb-bdb8553579c5\",\"subtype\":\"Figure\",\"type\":\"Plot\"},\"ticker\":{\"id\":\"9074de43-92bc-4f79-a925-57525afc085d\",\"type\":\"BasicTicker\"}},\"id\":\"7550a6f6-8a85-4521-baaa-f3a6dfc7e9a3\",\"type\":\"LinearAxis\"},{\"attributes\":{},\"id\":\"311c649c-f067-4060-b4a4-e4db8c93e5fc\",\"type\":\"ResetTool\"},{\"attributes\":{\"data_source\":{\"id\":\"610a3d67-b31a-456a-8e35-01edb7dc0450\",\"type\":\"ColumnDataSource\"},\"glyph\":{\"id\":\"b4badd80-dd30-4483-8073-a9e1f709fd51\",\"type\":\"Circle\"},\"hover_glyph\":null,\"muted_glyph\":null,\"nonselection_glyph\":{\"id\":\"c4175a9c-fe84-4612-be17-769c0c90007f\",\"type\":\"Circle\"},\"selection_glyph\":null,\"view\":{\"id\":\"5f792ba6-4307-4be9-9d53-4c7d4a3de0b9\",\"type\":\"CDSView\"}},\"id\":\"f6e94bee-7997-48c6-8eea-4d715d17c4b8\",\"type\":\"GlyphRenderer\"},{\"attributes\":{\"callback\":null,\"data\":{\"x\":[0.0,1.0,2.0,5.0,6.0],\"y\":[18.191944444444445,37.11805555555556,21.23611111111111,18.28472222222222,9525.275277777779]},\"selected\":{\"id\":\"95f456d0-d42d-4da5-bec5-d5ac8376c4dd\",\"type\":\"Selection\"},\"selection_policy\":{\"id\":\"5ba99152-d7ef-46f1-9cd5-cb15474a2930\",\"type\":\"UnionRenderers\"}},\"id\":\"610a3d67-b31a-456a-8e35-01edb7dc0450\",\"type\":\"ColumnDataSource\"},{\"attributes\":{\"dimensions\":\"width\"},\"id\":\"cf26756f-3c40-410a-a2a5-cd36310757c1\",\"type\":\"PanTool\"},{\"attributes\":{\"line_alpha\":0.1,\"line_color\":\"#1f77b4\",\"x\":{\"field\":\"x\"},\"y\":{\"field\":\"y\"}},\"id\":\"9fae8396-617a-4780-9446-5c7078a31602\",\"type\":\"Line\"},{\"attributes\":{\"source\":{\"id\":\"365efad7-e521-4b62-8ec9-2b27bfa043ea\",\"type\":\"ColumnDataSource\"}},\"id\":\"222abbab-cf84-4f48-9dcf-344883bcd42f\",\"type\":\"CDSView\"},{\"attributes\":{\"fill_alpha\":{\"value\":0.3},\"fill_color\":{\"value\":\"darkblue\"},\"line_color\":{\"value\":\"darkblue\"},\"x\":{\"field\":\"x\"},\"y\":{\"field\":\"y\"}},\"id\":\"b4badd80-dd30-4483-8073-a9e1f709fd51\",\"type\":\"Circle\"},{\"attributes\":{},\"id\":\"3f9dfd07-8ffa-4bc1-8c1f-e51b1299a73c\",\"type\":\"BasicTickFormatter\"}],\"root_ids\":[\"c868979a-1f78-4fd2-9bdb-bdb8553579c5\"]},\"title\":\"Bokeh Application\",\"version\":\"0.12.16\"}};\n",
       "  var render_items = [{\"docid\":\"669b35a4-9bbd-4469-a56d-ab012a11e65a\",\"elementid\":\"06788136-086b-429f-9f2d-815ef76b4b3f\",\"modelid\":\"c868979a-1f78-4fd2-9bdb-bdb8553579c5\"}];\n",
       "  root.Bokeh.embed.embed_items_notebook(docs_json, render_items);\n",
       "\n",
       "  }\n",
       "  if (root.Bokeh !== undefined) {\n",
       "    embed_document(root);\n",
       "  } else {\n",
       "    var attempts = 0;\n",
       "    var timer = setInterval(function(root) {\n",
       "      if (root.Bokeh !== undefined) {\n",
       "        embed_document(root);\n",
       "        clearInterval(timer);\n",
       "      }\n",
       "      attempts++;\n",
       "      if (attempts > 100) {\n",
       "        console.log(\"Bokeh: ERROR: Unable to run BokehJS code because BokehJS library is missing\")\n",
       "        clearInterval(timer);\n",
       "      }\n",
       "    }, 10, root)\n",
       "  }\n",
       "})(window);"
      ],
      "application/vnd.bokehjs_exec.v0+json": ""
     },
     "metadata": {
      "application/vnd.bokehjs_exec.v0+json": {
       "id": "c868979a-1f78-4fd2-9bdb-bdb8553579c5"
      }
     },
     "output_type": "display_data"
    }
   ],
   "source": [
    "gaps_report(users_gps, user_id=6066, min_time_gap_h=18)"
   ]
  },
  {
   "cell_type": "markdown",
   "metadata": {},
   "source": [
    "### User 6067"
   ]
  },
  {
   "cell_type": "code",
   "execution_count": 19,
   "metadata": {},
   "outputs": [
    {
     "name": "stdout",
     "output_type": "stream",
     "text": [
      "USER: 6067\n",
      "\n",
      "total days    : 48.25\n",
      "total hours   : 1157.98\n",
      "\n",
      "gap hours     : 413.81h\n",
      "gap prop.     : 35.74%\n",
      "\n",
      "n gaps 18h    : 3\n",
      "gap len       : 29.88h (median)\n"
     ]
    },
    {
     "data": {
      "text/html": [
       "\n",
       "<div class=\"bk-root\">\n",
       "    <div class=\"bk-plotdiv\" id=\"58c6fdec-af8f-4a19-9777-74fc035bf793\"></div>\n",
       "</div>"
      ]
     },
     "metadata": {},
     "output_type": "display_data"
    },
    {
     "data": {
      "application/javascript": [
       "(function(root) {\n",
       "  function embed_document(root) {\n",
       "    \n",
       "  var docs_json = {\"cf03f443-4a84-4f0d-b7a3-a6dde96f3b14\":{\"roots\":{\"references\":[{\"attributes\":{},\"id\":\"a479d726-64b2-47aa-b35e-5bfeb51d0c4a\",\"type\":\"ResetTool\"},{\"attributes\":{},\"id\":\"a40a5a0d-1a69-4aa6-b727-ec8f558315ba\",\"type\":\"UnionRenderers\"},{\"attributes\":{},\"id\":\"eec4c9e9-212d-4485-a5d0-fb4268fa3bf3\",\"type\":\"PrintfTickFormatter\"},{\"attributes\":{\"below\":[{\"id\":\"99685227-dbef-43f1-82cc-8c5e0aac082c\",\"type\":\"LinearAxis\"}],\"left\":[{\"id\":\"b7151504-c365-4295-b5d8-1b9a1b0df130\",\"type\":\"LinearAxis\"}],\"plot_height\":300,\"plot_width\":900,\"renderers\":[{\"id\":\"99685227-dbef-43f1-82cc-8c5e0aac082c\",\"type\":\"LinearAxis\"},{\"id\":\"9f2b96de-fc90-4e03-8df4-eddae5e26bab\",\"type\":\"Grid\"},{\"id\":\"b7151504-c365-4295-b5d8-1b9a1b0df130\",\"type\":\"LinearAxis\"},{\"id\":\"d029bd4f-3ee6-475e-b763-3c17119b7c4e\",\"type\":\"Grid\"},{\"id\":\"49b51d98-711d-4135-8a72-593811e3b739\",\"type\":\"GlyphRenderer\"},{\"id\":\"f86b5356-ca0b-4fd4-9eb8-4ce4fc5f89b6\",\"type\":\"GlyphRenderer\"}],\"title\":{\"id\":\"409bdd8c-77dc-4c7b-b0b8-ac3db337d623\",\"type\":\"Title\"},\"toolbar\":{\"id\":\"61f0b4bf-20d5-4bb7-afb7-69c8071ae67c\",\"type\":\"Toolbar\"},\"x_range\":{\"id\":\"100083f7-e1a9-4c8a-8e3f-2059399ebf4f\",\"type\":\"DataRange1d\"},\"x_scale\":{\"id\":\"c8521cf8-3c9b-4688-9fcb-e0a955dc8f42\",\"type\":\"LinearScale\"},\"y_range\":{\"id\":\"bbbad522-345a-448c-a5e7-00b490d7b9e8\",\"type\":\"DataRange1d\"},\"y_scale\":{\"id\":\"82190b48-2b88-4bc6-8fd5-61648aef251b\",\"type\":\"LinearScale\"}},\"id\":\"2bf0098e-d06f-410a-8870-022e08835d8b\",\"subtype\":\"Figure\",\"type\":\"Plot\"},{\"attributes\":{\"plot\":null,\"text\":\"User: 6067 - Gap lengths per week - considering only gaps above 18h\"},\"id\":\"409bdd8c-77dc-4c7b-b0b8-ac3db337d623\",\"type\":\"Title\"},{\"attributes\":{},\"id\":\"464792af-4275-4fd1-9bbf-51842ccb3ea1\",\"type\":\"Selection\"},{\"attributes\":{},\"id\":\"b0b82bee-b1dc-448e-b3dc-52721e66d9ef\",\"type\":\"Selection\"},{\"attributes\":{},\"id\":\"3752c26a-4e48-43e2-89ab-e01d7a185fd4\",\"type\":\"UnionRenderers\"},{\"attributes\":{\"source\":{\"id\":\"93e3cb6b-77d4-428b-80cf-6f7cdbc71d2a\",\"type\":\"ColumnDataSource\"}},\"id\":\"523d8408-aa1b-4db0-9e21-235d76baaeba\",\"type\":\"CDSView\"},{\"attributes\":{\"callback\":null,\"data\":{\"x\":[1.0,2.0,5.0],\"y\":[22.499166666666667,31.114166666666666,29.883055555555554]},\"selected\":{\"id\":\"b0b82bee-b1dc-448e-b3dc-52721e66d9ef\",\"type\":\"Selection\"},\"selection_policy\":{\"id\":\"3752c26a-4e48-43e2-89ab-e01d7a185fd4\",\"type\":\"UnionRenderers\"}},\"id\":\"1a6ab617-9883-4568-96a2-4de68c97849b\",\"type\":\"ColumnDataSource\"},{\"attributes\":{\"data_source\":{\"id\":\"93e3cb6b-77d4-428b-80cf-6f7cdbc71d2a\",\"type\":\"ColumnDataSource\"},\"glyph\":{\"id\":\"f059c497-fd56-4688-aa1d-075f9a98033c\",\"type\":\"Circle\"},\"hover_glyph\":null,\"muted_glyph\":null,\"nonselection_glyph\":{\"id\":\"40e56051-9946-4e65-8345-32658e7aae81\",\"type\":\"Circle\"},\"selection_glyph\":null,\"view\":{\"id\":\"523d8408-aa1b-4db0-9e21-235d76baaeba\",\"type\":\"CDSView\"}},\"id\":\"f86b5356-ca0b-4fd4-9eb8-4ce4fc5f89b6\",\"type\":\"GlyphRenderer\"},{\"attributes\":{\"callback\":null},\"id\":\"100083f7-e1a9-4c8a-8e3f-2059399ebf4f\",\"type\":\"DataRange1d\"},{\"attributes\":{},\"id\":\"c8521cf8-3c9b-4688-9fcb-e0a955dc8f42\",\"type\":\"LinearScale\"},{\"attributes\":{\"active_drag\":\"auto\",\"active_inspect\":\"auto\",\"active_scroll\":\"auto\",\"active_tap\":\"auto\",\"tools\":[{\"id\":\"ee0093fa-9538-4695-9ead-73871f6546f9\",\"type\":\"WheelZoomTool\"},{\"id\":\"93976a84-b09d-408a-a909-b372c9ca53e9\",\"type\":\"PanTool\"},{\"id\":\"a479d726-64b2-47aa-b35e-5bfeb51d0c4a\",\"type\":\"ResetTool\"}]},\"id\":\"61f0b4bf-20d5-4bb7-afb7-69c8071ae67c\",\"type\":\"Toolbar\"},{\"attributes\":{\"line_alpha\":0.3,\"line_color\":\"darkblue\",\"x\":{\"field\":\"x\"},\"y\":{\"field\":\"y\"}},\"id\":\"a4f56e9d-f796-42df-bd22-b60bc0dd4572\",\"type\":\"Line\"},{\"attributes\":{},\"id\":\"99ff1313-9e35-4b12-b1b1-2cd3fba562a6\",\"type\":\"BasicTicker\"},{\"attributes\":{\"fill_alpha\":{\"value\":0.1},\"fill_color\":{\"value\":\"#1f77b4\"},\"line_alpha\":{\"value\":0.1},\"line_color\":{\"value\":\"#1f77b4\"},\"x\":{\"field\":\"x\"},\"y\":{\"field\":\"y\"}},\"id\":\"40e56051-9946-4e65-8345-32658e7aae81\",\"type\":\"Circle\"},{\"attributes\":{\"source\":{\"id\":\"1a6ab617-9883-4568-96a2-4de68c97849b\",\"type\":\"ColumnDataSource\"}},\"id\":\"47d16a67-14dc-4992-99e9-378efd220169\",\"type\":\"CDSView\"},{\"attributes\":{\"axis_label\":\"week\",\"formatter\":{\"id\":\"8407b8cf-c2dc-4485-b413-3fd66bfad8a5\",\"type\":\"BasicTickFormatter\"},\"plot\":{\"id\":\"2bf0098e-d06f-410a-8870-022e08835d8b\",\"subtype\":\"Figure\",\"type\":\"Plot\"},\"ticker\":{\"id\":\"99ff1313-9e35-4b12-b1b1-2cd3fba562a6\",\"type\":\"BasicTicker\"}},\"id\":\"99685227-dbef-43f1-82cc-8c5e0aac082c\",\"type\":\"LinearAxis\"},{\"attributes\":{\"plot\":{\"id\":\"2bf0098e-d06f-410a-8870-022e08835d8b\",\"subtype\":\"Figure\",\"type\":\"Plot\"},\"ticker\":{\"id\":\"99ff1313-9e35-4b12-b1b1-2cd3fba562a6\",\"type\":\"BasicTicker\"}},\"id\":\"9f2b96de-fc90-4e03-8df4-eddae5e26bab\",\"type\":\"Grid\"},{\"attributes\":{},\"id\":\"82190b48-2b88-4bc6-8fd5-61648aef251b\",\"type\":\"LinearScale\"},{\"attributes\":{\"callback\":null},\"id\":\"bbbad522-345a-448c-a5e7-00b490d7b9e8\",\"type\":\"DataRange1d\"},{\"attributes\":{\"axis_label\":\"gap total hours\",\"formatter\":{\"id\":\"eec4c9e9-212d-4485-a5d0-fb4268fa3bf3\",\"type\":\"PrintfTickFormatter\"},\"plot\":{\"id\":\"2bf0098e-d06f-410a-8870-022e08835d8b\",\"subtype\":\"Figure\",\"type\":\"Plot\"},\"ticker\":{\"id\":\"899feeb5-d194-414c-825e-dce0bba46a80\",\"type\":\"BasicTicker\"}},\"id\":\"b7151504-c365-4295-b5d8-1b9a1b0df130\",\"type\":\"LinearAxis\"},{\"attributes\":{\"dimensions\":\"width\"},\"id\":\"93976a84-b09d-408a-a909-b372c9ca53e9\",\"type\":\"PanTool\"},{\"attributes\":{\"callback\":null,\"data\":{\"x\":[1.0,2.0,5.0],\"y\":[22.499166666666667,31.114166666666666,29.883055555555554]},\"selected\":{\"id\":\"464792af-4275-4fd1-9bbf-51842ccb3ea1\",\"type\":\"Selection\"},\"selection_policy\":{\"id\":\"a40a5a0d-1a69-4aa6-b727-ec8f558315ba\",\"type\":\"UnionRenderers\"}},\"id\":\"93e3cb6b-77d4-428b-80cf-6f7cdbc71d2a\",\"type\":\"ColumnDataSource\"},{\"attributes\":{\"dimensions\":\"width\"},\"id\":\"ee0093fa-9538-4695-9ead-73871f6546f9\",\"type\":\"WheelZoomTool\"},{\"attributes\":{\"data_source\":{\"id\":\"1a6ab617-9883-4568-96a2-4de68c97849b\",\"type\":\"ColumnDataSource\"},\"glyph\":{\"id\":\"a4f56e9d-f796-42df-bd22-b60bc0dd4572\",\"type\":\"Line\"},\"hover_glyph\":null,\"muted_glyph\":null,\"nonselection_glyph\":{\"id\":\"b5669639-2d7c-4a0e-bbdf-08f2195097f3\",\"type\":\"Line\"},\"selection_glyph\":null,\"view\":{\"id\":\"47d16a67-14dc-4992-99e9-378efd220169\",\"type\":\"CDSView\"}},\"id\":\"49b51d98-711d-4135-8a72-593811e3b739\",\"type\":\"GlyphRenderer\"},{\"attributes\":{},\"id\":\"8407b8cf-c2dc-4485-b413-3fd66bfad8a5\",\"type\":\"BasicTickFormatter\"},{\"attributes\":{\"dimension\":1,\"plot\":{\"id\":\"2bf0098e-d06f-410a-8870-022e08835d8b\",\"subtype\":\"Figure\",\"type\":\"Plot\"},\"ticker\":{\"id\":\"899feeb5-d194-414c-825e-dce0bba46a80\",\"type\":\"BasicTicker\"}},\"id\":\"d029bd4f-3ee6-475e-b763-3c17119b7c4e\",\"type\":\"Grid\"},{\"attributes\":{},\"id\":\"899feeb5-d194-414c-825e-dce0bba46a80\",\"type\":\"BasicTicker\"},{\"attributes\":{\"fill_alpha\":{\"value\":0.3},\"fill_color\":{\"value\":\"darkblue\"},\"line_color\":{\"value\":\"darkblue\"},\"x\":{\"field\":\"x\"},\"y\":{\"field\":\"y\"}},\"id\":\"f059c497-fd56-4688-aa1d-075f9a98033c\",\"type\":\"Circle\"},{\"attributes\":{\"line_alpha\":0.1,\"line_color\":\"#1f77b4\",\"x\":{\"field\":\"x\"},\"y\":{\"field\":\"y\"}},\"id\":\"b5669639-2d7c-4a0e-bbdf-08f2195097f3\",\"type\":\"Line\"}],\"root_ids\":[\"2bf0098e-d06f-410a-8870-022e08835d8b\"]},\"title\":\"Bokeh Application\",\"version\":\"0.12.16\"}};\n",
       "  var render_items = [{\"docid\":\"cf03f443-4a84-4f0d-b7a3-a6dde96f3b14\",\"elementid\":\"58c6fdec-af8f-4a19-9777-74fc035bf793\",\"modelid\":\"2bf0098e-d06f-410a-8870-022e08835d8b\"}];\n",
       "  root.Bokeh.embed.embed_items_notebook(docs_json, render_items);\n",
       "\n",
       "  }\n",
       "  if (root.Bokeh !== undefined) {\n",
       "    embed_document(root);\n",
       "  } else {\n",
       "    var attempts = 0;\n",
       "    var timer = setInterval(function(root) {\n",
       "      if (root.Bokeh !== undefined) {\n",
       "        embed_document(root);\n",
       "        clearInterval(timer);\n",
       "      }\n",
       "      attempts++;\n",
       "      if (attempts > 100) {\n",
       "        console.log(\"Bokeh: ERROR: Unable to run BokehJS code because BokehJS library is missing\")\n",
       "        clearInterval(timer);\n",
       "      }\n",
       "    }, 10, root)\n",
       "  }\n",
       "})(window);"
      ],
      "application/vnd.bokehjs_exec.v0+json": ""
     },
     "metadata": {
      "application/vnd.bokehjs_exec.v0+json": {
       "id": "2bf0098e-d06f-410a-8870-022e08835d8b"
      }
     },
     "output_type": "display_data"
    }
   ],
   "source": [
    "gaps_report(users_gps, user_id=6067, min_time_gap_h=18)"
   ]
  },
  {
   "cell_type": "markdown",
   "metadata": {},
   "source": [
    "### User 5975"
   ]
  },
  {
   "cell_type": "code",
   "execution_count": 20,
   "metadata": {},
   "outputs": [
    {
     "name": "stdout",
     "output_type": "stream",
     "text": [
      "USER: 5975\n",
      "\n",
      "total days    : 43.08\n",
      "total hours   : 1034.02\n",
      "\n",
      "gap hours     : 568.59h\n",
      "gap prop.     : 54.99%\n",
      "\n",
      "n gaps 18h    : 5\n",
      "gap len       : 23.01h (median)\n"
     ]
    },
    {
     "data": {
      "text/html": [
       "\n",
       "<div class=\"bk-root\">\n",
       "    <div class=\"bk-plotdiv\" id=\"3203d776-f200-4b0e-82d1-4ecf72ffbf1c\"></div>\n",
       "</div>"
      ]
     },
     "metadata": {},
     "output_type": "display_data"
    },
    {
     "data": {
      "application/javascript": [
       "(function(root) {\n",
       "  function embed_document(root) {\n",
       "    \n",
       "  var docs_json = {\"c9094f87-eba1-41d4-a454-63c44741f9e6\":{\"roots\":{\"references\":[{\"attributes\":{\"axis_label\":\"week\",\"formatter\":{\"id\":\"8a59698b-99cd-4ed0-bc99-d255e55062c2\",\"type\":\"BasicTickFormatter\"},\"plot\":{\"id\":\"37a8dac2-3040-4371-a9c3-9ae600076acd\",\"subtype\":\"Figure\",\"type\":\"Plot\"},\"ticker\":{\"id\":\"8ada2e78-2413-44a1-8762-6fb20b7a258b\",\"type\":\"BasicTicker\"}},\"id\":\"103f450f-de8e-49af-8d9e-145de97826a1\",\"type\":\"LinearAxis\"},{\"attributes\":{\"callback\":null,\"data\":{\"x\":[0.0,2.0,4.0,5.0],\"y\":[30.169444444444444,43.01444444444444,23.553055555555556,18.705277777777777]},\"selected\":{\"id\":\"e4cebbe7-d6c5-48b1-ace5-d55e308277cb\",\"type\":\"Selection\"},\"selection_policy\":{\"id\":\"fa64a00d-a8fb-420a-9506-6e095773b805\",\"type\":\"UnionRenderers\"}},\"id\":\"4cee458f-de46-4d9b-a804-17b3983a0b7f\",\"type\":\"ColumnDataSource\"},{\"attributes\":{\"data_source\":{\"id\":\"c69f220a-6833-4f2b-b136-c96ebad4f1f1\",\"type\":\"ColumnDataSource\"},\"glyph\":{\"id\":\"9bd7a052-ada6-4ef3-b175-fe4343c1a3fd\",\"type\":\"Line\"},\"hover_glyph\":null,\"muted_glyph\":null,\"nonselection_glyph\":{\"id\":\"631118d8-5632-43c5-9bc0-54ce354ee3d5\",\"type\":\"Line\"},\"selection_glyph\":null,\"view\":{\"id\":\"8ad4acad-0790-478e-9239-11e9f545a852\",\"type\":\"CDSView\"}},\"id\":\"1ee02f28-8460-469c-9397-a5389438dd1b\",\"type\":\"GlyphRenderer\"},{\"attributes\":{},\"id\":\"5b94fccd-18f5-4677-b7b7-6f750396e6b6\",\"type\":\"LinearScale\"},{\"attributes\":{\"axis_label\":\"gap total hours\",\"formatter\":{\"id\":\"04b17ef2-0d80-4582-8b84-6531878262cd\",\"type\":\"PrintfTickFormatter\"},\"plot\":{\"id\":\"37a8dac2-3040-4371-a9c3-9ae600076acd\",\"subtype\":\"Figure\",\"type\":\"Plot\"},\"ticker\":{\"id\":\"d6734c9e-4707-4258-8228-a5554af2f057\",\"type\":\"BasicTicker\"}},\"id\":\"0297a49b-0d6b-43da-a3f8-db40522550b1\",\"type\":\"LinearAxis\"},{\"attributes\":{\"dimensions\":\"width\"},\"id\":\"9dc495dd-da93-4689-9512-c9a1899ab656\",\"type\":\"WheelZoomTool\"},{\"attributes\":{\"source\":{\"id\":\"c69f220a-6833-4f2b-b136-c96ebad4f1f1\",\"type\":\"ColumnDataSource\"}},\"id\":\"8ad4acad-0790-478e-9239-11e9f545a852\",\"type\":\"CDSView\"},{\"attributes\":{\"dimensions\":\"width\"},\"id\":\"5d1bafbc-cf43-492f-b037-c5a2df70e3e6\",\"type\":\"PanTool\"},{\"attributes\":{},\"id\":\"d6734c9e-4707-4258-8228-a5554af2f057\",\"type\":\"BasicTicker\"},{\"attributes\":{\"plot\":{\"id\":\"37a8dac2-3040-4371-a9c3-9ae600076acd\",\"subtype\":\"Figure\",\"type\":\"Plot\"},\"ticker\":{\"id\":\"8ada2e78-2413-44a1-8762-6fb20b7a258b\",\"type\":\"BasicTicker\"}},\"id\":\"e876ae1f-98ae-4681-b08a-7e714b2a6703\",\"type\":\"Grid\"},{\"attributes\":{\"dimension\":1,\"plot\":{\"id\":\"37a8dac2-3040-4371-a9c3-9ae600076acd\",\"subtype\":\"Figure\",\"type\":\"Plot\"},\"ticker\":{\"id\":\"d6734c9e-4707-4258-8228-a5554af2f057\",\"type\":\"BasicTicker\"}},\"id\":\"bd0ae636-bc1b-4658-86e7-54be437ff386\",\"type\":\"Grid\"},{\"attributes\":{},\"id\":\"80e1d19d-da0e-463d-b4a5-17b32f308f28\",\"type\":\"ResetTool\"},{\"attributes\":{\"line_alpha\":0.1,\"line_color\":\"#1f77b4\",\"x\":{\"field\":\"x\"},\"y\":{\"field\":\"y\"}},\"id\":\"631118d8-5632-43c5-9bc0-54ce354ee3d5\",\"type\":\"Line\"},{\"attributes\":{\"fill_alpha\":{\"value\":0.3},\"fill_color\":{\"value\":\"darkblue\"},\"line_color\":{\"value\":\"darkblue\"},\"x\":{\"field\":\"x\"},\"y\":{\"field\":\"y\"}},\"id\":\"c9190784-4121-4ed8-9fa9-ee59610b6b21\",\"type\":\"Circle\"},{\"attributes\":{},\"id\":\"8a59698b-99cd-4ed0-bc99-d255e55062c2\",\"type\":\"BasicTickFormatter\"},{\"attributes\":{\"callback\":null,\"data\":{\"x\":[0.0,2.0,4.0,5.0],\"y\":[30.169444444444444,43.01444444444444,23.553055555555556,18.705277777777777]},\"selected\":{\"id\":\"23f219c4-fd0e-40cb-a101-221c28e6aa1b\",\"type\":\"Selection\"},\"selection_policy\":{\"id\":\"a082f21b-d7a1-4b2a-8540-7adc37bb349f\",\"type\":\"UnionRenderers\"}},\"id\":\"c69f220a-6833-4f2b-b136-c96ebad4f1f1\",\"type\":\"ColumnDataSource\"},{\"attributes\":{\"fill_alpha\":{\"value\":0.1},\"fill_color\":{\"value\":\"#1f77b4\"},\"line_alpha\":{\"value\":0.1},\"line_color\":{\"value\":\"#1f77b4\"},\"x\":{\"field\":\"x\"},\"y\":{\"field\":\"y\"}},\"id\":\"747387e5-1957-4e08-ba18-1fb9615c9bc6\",\"type\":\"Circle\"},{\"attributes\":{},\"id\":\"8ada2e78-2413-44a1-8762-6fb20b7a258b\",\"type\":\"BasicTicker\"},{\"attributes\":{\"data_source\":{\"id\":\"4cee458f-de46-4d9b-a804-17b3983a0b7f\",\"type\":\"ColumnDataSource\"},\"glyph\":{\"id\":\"c9190784-4121-4ed8-9fa9-ee59610b6b21\",\"type\":\"Circle\"},\"hover_glyph\":null,\"muted_glyph\":null,\"nonselection_glyph\":{\"id\":\"747387e5-1957-4e08-ba18-1fb9615c9bc6\",\"type\":\"Circle\"},\"selection_glyph\":null,\"view\":{\"id\":\"07e68ca7-6d9d-42a7-a005-eca225ac1acb\",\"type\":\"CDSView\"}},\"id\":\"20a4fe34-43f3-453c-9e89-a502056cca51\",\"type\":\"GlyphRenderer\"},{\"attributes\":{\"source\":{\"id\":\"4cee458f-de46-4d9b-a804-17b3983a0b7f\",\"type\":\"ColumnDataSource\"}},\"id\":\"07e68ca7-6d9d-42a7-a005-eca225ac1acb\",\"type\":\"CDSView\"},{\"attributes\":{},\"id\":\"04b17ef2-0d80-4582-8b84-6531878262cd\",\"type\":\"PrintfTickFormatter\"},{\"attributes\":{},\"id\":\"23f219c4-fd0e-40cb-a101-221c28e6aa1b\",\"type\":\"Selection\"},{\"attributes\":{},\"id\":\"a082f21b-d7a1-4b2a-8540-7adc37bb349f\",\"type\":\"UnionRenderers\"},{\"attributes\":{},\"id\":\"fa64a00d-a8fb-420a-9506-6e095773b805\",\"type\":\"UnionRenderers\"},{\"attributes\":{},\"id\":\"e4cebbe7-d6c5-48b1-ace5-d55e308277cb\",\"type\":\"Selection\"},{\"attributes\":{\"line_alpha\":0.3,\"line_color\":\"darkblue\",\"x\":{\"field\":\"x\"},\"y\":{\"field\":\"y\"}},\"id\":\"9bd7a052-ada6-4ef3-b175-fe4343c1a3fd\",\"type\":\"Line\"},{\"attributes\":{\"active_drag\":\"auto\",\"active_inspect\":\"auto\",\"active_scroll\":\"auto\",\"active_tap\":\"auto\",\"tools\":[{\"id\":\"9dc495dd-da93-4689-9512-c9a1899ab656\",\"type\":\"WheelZoomTool\"},{\"id\":\"5d1bafbc-cf43-492f-b037-c5a2df70e3e6\",\"type\":\"PanTool\"},{\"id\":\"80e1d19d-da0e-463d-b4a5-17b32f308f28\",\"type\":\"ResetTool\"}]},\"id\":\"ba1f6303-6ef3-4e0b-914c-e6b7560712c2\",\"type\":\"Toolbar\"},{\"attributes\":{},\"id\":\"ab688d85-6fe1-4cdf-a317-181aac447b2c\",\"type\":\"LinearScale\"},{\"attributes\":{\"plot\":null,\"text\":\"User: 5975 - Gap lengths per week - considering only gaps above 18h\"},\"id\":\"8dac51b9-e356-416d-9b71-98230aa8622a\",\"type\":\"Title\"},{\"attributes\":{\"callback\":null},\"id\":\"1ef95974-54f1-4d89-a9fa-d8be8db083be\",\"type\":\"DataRange1d\"},{\"attributes\":{\"below\":[{\"id\":\"103f450f-de8e-49af-8d9e-145de97826a1\",\"type\":\"LinearAxis\"}],\"left\":[{\"id\":\"0297a49b-0d6b-43da-a3f8-db40522550b1\",\"type\":\"LinearAxis\"}],\"plot_height\":300,\"plot_width\":900,\"renderers\":[{\"id\":\"103f450f-de8e-49af-8d9e-145de97826a1\",\"type\":\"LinearAxis\"},{\"id\":\"e876ae1f-98ae-4681-b08a-7e714b2a6703\",\"type\":\"Grid\"},{\"id\":\"0297a49b-0d6b-43da-a3f8-db40522550b1\",\"type\":\"LinearAxis\"},{\"id\":\"bd0ae636-bc1b-4658-86e7-54be437ff386\",\"type\":\"Grid\"},{\"id\":\"1ee02f28-8460-469c-9397-a5389438dd1b\",\"type\":\"GlyphRenderer\"},{\"id\":\"20a4fe34-43f3-453c-9e89-a502056cca51\",\"type\":\"GlyphRenderer\"}],\"title\":{\"id\":\"8dac51b9-e356-416d-9b71-98230aa8622a\",\"type\":\"Title\"},\"toolbar\":{\"id\":\"ba1f6303-6ef3-4e0b-914c-e6b7560712c2\",\"type\":\"Toolbar\"},\"x_range\":{\"id\":\"1ef95974-54f1-4d89-a9fa-d8be8db083be\",\"type\":\"DataRange1d\"},\"x_scale\":{\"id\":\"ab688d85-6fe1-4cdf-a317-181aac447b2c\",\"type\":\"LinearScale\"},\"y_range\":{\"id\":\"3ae8df8d-e105-40ee-9085-e55dec9203a1\",\"type\":\"DataRange1d\"},\"y_scale\":{\"id\":\"5b94fccd-18f5-4677-b7b7-6f750396e6b6\",\"type\":\"LinearScale\"}},\"id\":\"37a8dac2-3040-4371-a9c3-9ae600076acd\",\"subtype\":\"Figure\",\"type\":\"Plot\"},{\"attributes\":{\"callback\":null},\"id\":\"3ae8df8d-e105-40ee-9085-e55dec9203a1\",\"type\":\"DataRange1d\"}],\"root_ids\":[\"37a8dac2-3040-4371-a9c3-9ae600076acd\"]},\"title\":\"Bokeh Application\",\"version\":\"0.12.16\"}};\n",
       "  var render_items = [{\"docid\":\"c9094f87-eba1-41d4-a454-63c44741f9e6\",\"elementid\":\"3203d776-f200-4b0e-82d1-4ecf72ffbf1c\",\"modelid\":\"37a8dac2-3040-4371-a9c3-9ae600076acd\"}];\n",
       "  root.Bokeh.embed.embed_items_notebook(docs_json, render_items);\n",
       "\n",
       "  }\n",
       "  if (root.Bokeh !== undefined) {\n",
       "    embed_document(root);\n",
       "  } else {\n",
       "    var attempts = 0;\n",
       "    var timer = setInterval(function(root) {\n",
       "      if (root.Bokeh !== undefined) {\n",
       "        embed_document(root);\n",
       "        clearInterval(timer);\n",
       "      }\n",
       "      attempts++;\n",
       "      if (attempts > 100) {\n",
       "        console.log(\"Bokeh: ERROR: Unable to run BokehJS code because BokehJS library is missing\")\n",
       "        clearInterval(timer);\n",
       "      }\n",
       "    }, 10, root)\n",
       "  }\n",
       "})(window);"
      ],
      "application/vnd.bokehjs_exec.v0+json": ""
     },
     "metadata": {
      "application/vnd.bokehjs_exec.v0+json": {
       "id": "37a8dac2-3040-4371-a9c3-9ae600076acd"
      }
     },
     "output_type": "display_data"
    }
   ],
   "source": [
    "gaps_report(users_gps, user_id=5975, min_time_gap_h=18)"
   ]
  },
  {
   "cell_type": "markdown",
   "metadata": {},
   "source": [
    "### User 6072"
   ]
  },
  {
   "cell_type": "code",
   "execution_count": 21,
   "metadata": {},
   "outputs": [
    {
     "name": "stdout",
     "output_type": "stream",
     "text": [
      "USER: 6072\n",
      "\n",
      "total days    : 187.66\n",
      "total hours   : 4503.81\n",
      "\n",
      "gap hours     : 3040.93h\n",
      "gap prop.     : 67.52%\n",
      "\n",
      "n gaps 18h    : 46\n",
      "gap len       : 22.94h (median)\n"
     ]
    },
    {
     "data": {
      "text/html": [
       "\n",
       "<div class=\"bk-root\">\n",
       "    <div class=\"bk-plotdiv\" id=\"c485766b-9b85-46c7-869d-aaf0b952f14a\"></div>\n",
       "</div>"
      ]
     },
     "metadata": {},
     "output_type": "display_data"
    },
    {
     "data": {
      "application/javascript": [
       "(function(root) {\n",
       "  function embed_document(root) {\n",
       "    \n",
       "  var docs_json = {\"6d311676-5075-4054-a2f0-722da1131328\":{\"roots\":{\"references\":[{\"attributes\":{\"plot\":{\"id\":\"451c395f-395c-4cde-80bf-c032930ded9e\",\"subtype\":\"Figure\",\"type\":\"Plot\"},\"ticker\":{\"id\":\"d3fec4f6-3b2e-402c-a72c-6c71cbfb82ef\",\"type\":\"BasicTicker\"}},\"id\":\"bc3b4c03-53bd-4234-8d74-072673b91716\",\"type\":\"Grid\"},{\"attributes\":{\"plot\":null,\"text\":\"User: 6072 - Gap lengths per week - considering only gaps above 18h\"},\"id\":\"11046234-9b2d-4915-95fe-f01c2cb928b0\",\"type\":\"Title\"},{\"attributes\":{\"dimension\":1,\"plot\":{\"id\":\"451c395f-395c-4cde-80bf-c032930ded9e\",\"subtype\":\"Figure\",\"type\":\"Plot\"},\"ticker\":{\"id\":\"c930e60a-baff-43d7-b01e-e4a75be03c17\",\"type\":\"BasicTicker\"}},\"id\":\"d5866063-9f28-4f3b-a463-09dbdbf57ed0\",\"type\":\"Grid\"},{\"attributes\":{\"line_alpha\":0.3,\"line_color\":\"darkblue\",\"x\":{\"field\":\"x\"},\"y\":{\"field\":\"y\"}},\"id\":\"bde8da00-01db-47dd-b13b-19eedc95699b\",\"type\":\"Line\"},{\"attributes\":{},\"id\":\"ce1b06bf-8c63-4cea-897c-bc6265ba9739\",\"type\":\"LinearScale\"},{\"attributes\":{\"active_drag\":\"auto\",\"active_inspect\":\"auto\",\"active_scroll\":\"auto\",\"active_tap\":\"auto\",\"tools\":[{\"id\":\"8a5d9bf5-8f33-4f93-9106-fc202565339a\",\"type\":\"WheelZoomTool\"},{\"id\":\"04779254-8652-405c-b47d-a13e3f81f3fd\",\"type\":\"PanTool\"},{\"id\":\"8ea7de99-702d-4002-bd03-cfe161a89598\",\"type\":\"ResetTool\"}]},\"id\":\"65cc9e06-5f0c-47b6-9dae-bff7c8c86906\",\"type\":\"Toolbar\"},{\"attributes\":{},\"id\":\"4e6ab75d-57ed-43ad-9bb2-ca0cfadc5566\",\"type\":\"LinearScale\"},{\"attributes\":{\"callback\":null},\"id\":\"093189a0-53eb-4cfc-b8b1-5c84a05c2c47\",\"type\":\"DataRange1d\"},{\"attributes\":{},\"id\":\"d3fec4f6-3b2e-402c-a72c-6c71cbfb82ef\",\"type\":\"BasicTicker\"},{\"attributes\":{\"axis_label\":\"week\",\"formatter\":{\"id\":\"f8533fdc-a0c6-4ce1-a3fb-7faa588eaf6f\",\"type\":\"BasicTickFormatter\"},\"plot\":{\"id\":\"451c395f-395c-4cde-80bf-c032930ded9e\",\"subtype\":\"Figure\",\"type\":\"Plot\"},\"ticker\":{\"id\":\"d3fec4f6-3b2e-402c-a72c-6c71cbfb82ef\",\"type\":\"BasicTicker\"}},\"id\":\"9d8bdf94-4f86-474b-8f7f-ac8478b0cd99\",\"type\":\"LinearAxis\"},{\"attributes\":{\"source\":{\"id\":\"b51efffd-fb53-48fa-8793-33abd77d2aa4\",\"type\":\"ColumnDataSource\"}},\"id\":\"4b263389-f0c3-4b0a-a732-f37f2a747b18\",\"type\":\"CDSView\"},{\"attributes\":{},\"id\":\"f8533fdc-a0c6-4ce1-a3fb-7faa588eaf6f\",\"type\":\"BasicTickFormatter\"},{\"attributes\":{\"dimensions\":\"width\"},\"id\":\"8a5d9bf5-8f33-4f93-9106-fc202565339a\",\"type\":\"WheelZoomTool\"},{\"attributes\":{},\"id\":\"c930e60a-baff-43d7-b01e-e4a75be03c17\",\"type\":\"BasicTicker\"},{\"attributes\":{\"axis_label\":\"gap total hours\",\"formatter\":{\"id\":\"e8bea10b-6b36-490f-a51c-32c952280465\",\"type\":\"PrintfTickFormatter\"},\"plot\":{\"id\":\"451c395f-395c-4cde-80bf-c032930ded9e\",\"subtype\":\"Figure\",\"type\":\"Plot\"},\"ticker\":{\"id\":\"c930e60a-baff-43d7-b01e-e4a75be03c17\",\"type\":\"BasicTicker\"}},\"id\":\"76d65af2-b8af-4e66-acb0-7791b25deba3\",\"type\":\"LinearAxis\"},{\"attributes\":{},\"id\":\"8ea7de99-702d-4002-bd03-cfe161a89598\",\"type\":\"ResetTool\"},{\"attributes\":{\"data_source\":{\"id\":\"6dafaea3-6c6c-4865-8060-1a1f925d5a76\",\"type\":\"ColumnDataSource\"},\"glyph\":{\"id\":\"bde8da00-01db-47dd-b13b-19eedc95699b\",\"type\":\"Line\"},\"hover_glyph\":null,\"muted_glyph\":null,\"nonselection_glyph\":{\"id\":\"31a24d26-48b6-4c31-a27b-f673f5be0558\",\"type\":\"Line\"},\"selection_glyph\":null,\"view\":{\"id\":\"6ecb8c24-8e88-4364-bafc-e2fca02271b1\",\"type\":\"CDSView\"}},\"id\":\"4d9e0b7f-7310-4a72-87d4-b0a1e802ec60\",\"type\":\"GlyphRenderer\"},{\"attributes\":{\"callback\":null,\"data\":{\"x\":[1.0,2.0,3.0,7.0,9.0,10.0,11.0,12.0,14.0,17.0,18.0,19.0,20.0,21.0,22.0,23.0,24.0,25.0,26.0],\"y\":[41.075,22.35527777777778,21.115833333333335,64.97944444444444,66.2461111111111,18.355833333333333,93.09472222222222,23.956944444444446,24.153333333333332,66.83888888888889,18.5425,18.45611111111111,42.96861111111111,124.28444444444445,65.8425,190.89027777777778,166.9875,140.1861111111111,93.85]},\"selected\":{\"id\":\"d51159ae-7dd4-4e27-ae26-f25f235c4ed6\",\"type\":\"Selection\"},\"selection_policy\":{\"id\":\"d8499567-9ec2-4405-a2fc-592be2b09577\",\"type\":\"UnionRenderers\"}},\"id\":\"b51efffd-fb53-48fa-8793-33abd77d2aa4\",\"type\":\"ColumnDataSource\"},{\"attributes\":{\"dimensions\":\"width\"},\"id\":\"04779254-8652-405c-b47d-a13e3f81f3fd\",\"type\":\"PanTool\"},{\"attributes\":{\"source\":{\"id\":\"6dafaea3-6c6c-4865-8060-1a1f925d5a76\",\"type\":\"ColumnDataSource\"}},\"id\":\"6ecb8c24-8e88-4364-bafc-e2fca02271b1\",\"type\":\"CDSView\"},{\"attributes\":{\"fill_alpha\":{\"value\":0.3},\"fill_color\":{\"value\":\"darkblue\"},\"line_color\":{\"value\":\"darkblue\"},\"x\":{\"field\":\"x\"},\"y\":{\"field\":\"y\"}},\"id\":\"fe186283-81a5-4b82-90c7-d3be71d1b36a\",\"type\":\"Circle\"},{\"attributes\":{\"line_alpha\":0.1,\"line_color\":\"#1f77b4\",\"x\":{\"field\":\"x\"},\"y\":{\"field\":\"y\"}},\"id\":\"31a24d26-48b6-4c31-a27b-f673f5be0558\",\"type\":\"Line\"},{\"attributes\":{\"callback\":null,\"data\":{\"x\":[1.0,2.0,3.0,7.0,9.0,10.0,11.0,12.0,14.0,17.0,18.0,19.0,20.0,21.0,22.0,23.0,24.0,25.0,26.0],\"y\":[41.075,22.35527777777778,21.115833333333335,64.97944444444444,66.2461111111111,18.355833333333333,93.09472222222222,23.956944444444446,24.153333333333332,66.83888888888889,18.5425,18.45611111111111,42.96861111111111,124.28444444444445,65.8425,190.89027777777778,166.9875,140.1861111111111,93.85]},\"selected\":{\"id\":\"acc8af7f-9fbd-4558-8cf1-a55059b04bf7\",\"type\":\"Selection\"},\"selection_policy\":{\"id\":\"541c0f3e-e076-4905-ab1b-e7476049c067\",\"type\":\"UnionRenderers\"}},\"id\":\"6dafaea3-6c6c-4865-8060-1a1f925d5a76\",\"type\":\"ColumnDataSource\"},{\"attributes\":{\"callback\":null},\"id\":\"6f76660c-6e3d-4bef-906b-b08bac8e10ba\",\"type\":\"DataRange1d\"},{\"attributes\":{\"data_source\":{\"id\":\"b51efffd-fb53-48fa-8793-33abd77d2aa4\",\"type\":\"ColumnDataSource\"},\"glyph\":{\"id\":\"fe186283-81a5-4b82-90c7-d3be71d1b36a\",\"type\":\"Circle\"},\"hover_glyph\":null,\"muted_glyph\":null,\"nonselection_glyph\":{\"id\":\"ba2900b0-83ff-404e-aa82-86e0cde697a7\",\"type\":\"Circle\"},\"selection_glyph\":null,\"view\":{\"id\":\"4b263389-f0c3-4b0a-a732-f37f2a747b18\",\"type\":\"CDSView\"}},\"id\":\"cd85c78d-3aaa-4025-ac83-45c4ae8322fa\",\"type\":\"GlyphRenderer\"},{\"attributes\":{\"fill_alpha\":{\"value\":0.1},\"fill_color\":{\"value\":\"#1f77b4\"},\"line_alpha\":{\"value\":0.1},\"line_color\":{\"value\":\"#1f77b4\"},\"x\":{\"field\":\"x\"},\"y\":{\"field\":\"y\"}},\"id\":\"ba2900b0-83ff-404e-aa82-86e0cde697a7\",\"type\":\"Circle\"},{\"attributes\":{},\"id\":\"541c0f3e-e076-4905-ab1b-e7476049c067\",\"type\":\"UnionRenderers\"},{\"attributes\":{},\"id\":\"d51159ae-7dd4-4e27-ae26-f25f235c4ed6\",\"type\":\"Selection\"},{\"attributes\":{},\"id\":\"d8499567-9ec2-4405-a2fc-592be2b09577\",\"type\":\"UnionRenderers\"},{\"attributes\":{},\"id\":\"e8bea10b-6b36-490f-a51c-32c952280465\",\"type\":\"PrintfTickFormatter\"},{\"attributes\":{},\"id\":\"acc8af7f-9fbd-4558-8cf1-a55059b04bf7\",\"type\":\"Selection\"},{\"attributes\":{\"below\":[{\"id\":\"9d8bdf94-4f86-474b-8f7f-ac8478b0cd99\",\"type\":\"LinearAxis\"}],\"left\":[{\"id\":\"76d65af2-b8af-4e66-acb0-7791b25deba3\",\"type\":\"LinearAxis\"}],\"plot_height\":300,\"plot_width\":900,\"renderers\":[{\"id\":\"9d8bdf94-4f86-474b-8f7f-ac8478b0cd99\",\"type\":\"LinearAxis\"},{\"id\":\"bc3b4c03-53bd-4234-8d74-072673b91716\",\"type\":\"Grid\"},{\"id\":\"76d65af2-b8af-4e66-acb0-7791b25deba3\",\"type\":\"LinearAxis\"},{\"id\":\"d5866063-9f28-4f3b-a463-09dbdbf57ed0\",\"type\":\"Grid\"},{\"id\":\"4d9e0b7f-7310-4a72-87d4-b0a1e802ec60\",\"type\":\"GlyphRenderer\"},{\"id\":\"cd85c78d-3aaa-4025-ac83-45c4ae8322fa\",\"type\":\"GlyphRenderer\"}],\"title\":{\"id\":\"11046234-9b2d-4915-95fe-f01c2cb928b0\",\"type\":\"Title\"},\"toolbar\":{\"id\":\"65cc9e06-5f0c-47b6-9dae-bff7c8c86906\",\"type\":\"Toolbar\"},\"x_range\":{\"id\":\"6f76660c-6e3d-4bef-906b-b08bac8e10ba\",\"type\":\"DataRange1d\"},\"x_scale\":{\"id\":\"ce1b06bf-8c63-4cea-897c-bc6265ba9739\",\"type\":\"LinearScale\"},\"y_range\":{\"id\":\"093189a0-53eb-4cfc-b8b1-5c84a05c2c47\",\"type\":\"DataRange1d\"},\"y_scale\":{\"id\":\"4e6ab75d-57ed-43ad-9bb2-ca0cfadc5566\",\"type\":\"LinearScale\"}},\"id\":\"451c395f-395c-4cde-80bf-c032930ded9e\",\"subtype\":\"Figure\",\"type\":\"Plot\"}],\"root_ids\":[\"451c395f-395c-4cde-80bf-c032930ded9e\"]},\"title\":\"Bokeh Application\",\"version\":\"0.12.16\"}};\n",
       "  var render_items = [{\"docid\":\"6d311676-5075-4054-a2f0-722da1131328\",\"elementid\":\"c485766b-9b85-46c7-869d-aaf0b952f14a\",\"modelid\":\"451c395f-395c-4cde-80bf-c032930ded9e\"}];\n",
       "  root.Bokeh.embed.embed_items_notebook(docs_json, render_items);\n",
       "\n",
       "  }\n",
       "  if (root.Bokeh !== undefined) {\n",
       "    embed_document(root);\n",
       "  } else {\n",
       "    var attempts = 0;\n",
       "    var timer = setInterval(function(root) {\n",
       "      if (root.Bokeh !== undefined) {\n",
       "        embed_document(root);\n",
       "        clearInterval(timer);\n",
       "      }\n",
       "      attempts++;\n",
       "      if (attempts > 100) {\n",
       "        console.log(\"Bokeh: ERROR: Unable to run BokehJS code because BokehJS library is missing\")\n",
       "        clearInterval(timer);\n",
       "      }\n",
       "    }, 10, root)\n",
       "  }\n",
       "})(window);"
      ],
      "application/vnd.bokehjs_exec.v0+json": ""
     },
     "metadata": {
      "application/vnd.bokehjs_exec.v0+json": {
       "id": "451c395f-395c-4cde-80bf-c032930ded9e"
      }
     },
     "output_type": "display_data"
    }
   ],
   "source": [
    "gaps_report(users_gps, user_id=6072, min_time_gap_h=18)"
   ]
  },
  {
   "cell_type": "code",
   "execution_count": null,
   "metadata": {},
   "outputs": [],
   "source": []
  }
 ],
 "metadata": {
  "kernelspec": {
   "display_name": "Python 3",
   "language": "python",
   "name": "python3"
  },
  "language_info": {
   "codemirror_mode": {
    "name": "ipython",
    "version": 3
   },
   "file_extension": ".py",
   "mimetype": "text/x-python",
   "name": "python",
   "nbconvert_exporter": "python",
   "pygments_lexer": "ipython3",
   "version": "3.6.5"
  }
 },
 "nbformat": 4,
 "nbformat_minor": 2
}
