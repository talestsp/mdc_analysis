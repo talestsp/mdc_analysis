{
 "cells": [
  {
   "cell_type": "code",
   "execution_count": 1,
   "metadata": {},
   "outputs": [
    {
     "data": {
      "text/html": [
       "\n",
       "    <div class=\"bk-root\">\n",
       "        <a href=\"https://bokeh.pydata.org\" target=\"_blank\" class=\"bk-logo bk-logo-small bk-logo-notebook\"></a>\n",
       "        <span id=\"d231fc4f-ac16-496e-b8a2-5caf8da0b99d\">Loading BokehJS ...</span>\n",
       "    </div>"
      ]
     },
     "metadata": {},
     "output_type": "display_data"
    },
    {
     "data": {
      "application/javascript": [
       "\n",
       "(function(root) {\n",
       "  function now() {\n",
       "    return new Date();\n",
       "  }\n",
       "\n",
       "  var force = true;\n",
       "\n",
       "  if (typeof (root._bokeh_onload_callbacks) === \"undefined\" || force === true) {\n",
       "    root._bokeh_onload_callbacks = [];\n",
       "    root._bokeh_is_loading = undefined;\n",
       "  }\n",
       "\n",
       "  var JS_MIME_TYPE = 'application/javascript';\n",
       "  var HTML_MIME_TYPE = 'text/html';\n",
       "  var EXEC_MIME_TYPE = 'application/vnd.bokehjs_exec.v0+json';\n",
       "  var CLASS_NAME = 'output_bokeh rendered_html';\n",
       "\n",
       "  /**\n",
       "   * Render data to the DOM node\n",
       "   */\n",
       "  function render(props, node) {\n",
       "    var script = document.createElement(\"script\");\n",
       "    node.appendChild(script);\n",
       "  }\n",
       "\n",
       "  /**\n",
       "   * Handle when an output is cleared or removed\n",
       "   */\n",
       "  function handleClearOutput(event, handle) {\n",
       "    var cell = handle.cell;\n",
       "\n",
       "    var id = cell.output_area._bokeh_element_id;\n",
       "    var server_id = cell.output_area._bokeh_server_id;\n",
       "    // Clean up Bokeh references\n",
       "    if (id != null && id in Bokeh.index) {\n",
       "      Bokeh.index[id].model.document.clear();\n",
       "      delete Bokeh.index[id];\n",
       "    }\n",
       "\n",
       "    if (server_id !== undefined) {\n",
       "      // Clean up Bokeh references\n",
       "      var cmd = \"from bokeh.io.state import curstate; print(curstate().uuid_to_server['\" + server_id + \"'].get_sessions()[0].document.roots[0]._id)\";\n",
       "      cell.notebook.kernel.execute(cmd, {\n",
       "        iopub: {\n",
       "          output: function(msg) {\n",
       "            var id = msg.content.text.trim();\n",
       "            if (id in Bokeh.index) {\n",
       "              Bokeh.index[id].model.document.clear();\n",
       "              delete Bokeh.index[id];\n",
       "            }\n",
       "          }\n",
       "        }\n",
       "      });\n",
       "      // Destroy server and session\n",
       "      var cmd = \"import bokeh.io.notebook as ion; ion.destroy_server('\" + server_id + \"')\";\n",
       "      cell.notebook.kernel.execute(cmd);\n",
       "    }\n",
       "  }\n",
       "\n",
       "  /**\n",
       "   * Handle when a new output is added\n",
       "   */\n",
       "  function handleAddOutput(event, handle) {\n",
       "    var output_area = handle.output_area;\n",
       "    var output = handle.output;\n",
       "\n",
       "    // limit handleAddOutput to display_data with EXEC_MIME_TYPE content only\n",
       "    if ((output.output_type != \"display_data\") || (!output.data.hasOwnProperty(EXEC_MIME_TYPE))) {\n",
       "      return\n",
       "    }\n",
       "\n",
       "    var toinsert = output_area.element.find(\".\" + CLASS_NAME.split(' ')[0]);\n",
       "\n",
       "    if (output.metadata[EXEC_MIME_TYPE][\"id\"] !== undefined) {\n",
       "      toinsert[toinsert.length - 1].firstChild.textContent = output.data[JS_MIME_TYPE];\n",
       "      // store reference to embed id on output_area\n",
       "      output_area._bokeh_element_id = output.metadata[EXEC_MIME_TYPE][\"id\"];\n",
       "    }\n",
       "    if (output.metadata[EXEC_MIME_TYPE][\"server_id\"] !== undefined) {\n",
       "      var bk_div = document.createElement(\"div\");\n",
       "      bk_div.innerHTML = output.data[HTML_MIME_TYPE];\n",
       "      var script_attrs = bk_div.children[0].attributes;\n",
       "      for (var i = 0; i < script_attrs.length; i++) {\n",
       "        toinsert[toinsert.length - 1].firstChild.setAttribute(script_attrs[i].name, script_attrs[i].value);\n",
       "      }\n",
       "      // store reference to server id on output_area\n",
       "      output_area._bokeh_server_id = output.metadata[EXEC_MIME_TYPE][\"server_id\"];\n",
       "    }\n",
       "  }\n",
       "\n",
       "  function register_renderer(events, OutputArea) {\n",
       "\n",
       "    function append_mime(data, metadata, element) {\n",
       "      // create a DOM node to render to\n",
       "      var toinsert = this.create_output_subarea(\n",
       "        metadata,\n",
       "        CLASS_NAME,\n",
       "        EXEC_MIME_TYPE\n",
       "      );\n",
       "      this.keyboard_manager.register_events(toinsert);\n",
       "      // Render to node\n",
       "      var props = {data: data, metadata: metadata[EXEC_MIME_TYPE]};\n",
       "      render(props, toinsert[toinsert.length - 1]);\n",
       "      element.append(toinsert);\n",
       "      return toinsert\n",
       "    }\n",
       "\n",
       "    /* Handle when an output is cleared or removed */\n",
       "    events.on('clear_output.CodeCell', handleClearOutput);\n",
       "    events.on('delete.Cell', handleClearOutput);\n",
       "\n",
       "    /* Handle when a new output is added */\n",
       "    events.on('output_added.OutputArea', handleAddOutput);\n",
       "\n",
       "    /**\n",
       "     * Register the mime type and append_mime function with output_area\n",
       "     */\n",
       "    OutputArea.prototype.register_mime_type(EXEC_MIME_TYPE, append_mime, {\n",
       "      /* Is output safe? */\n",
       "      safe: true,\n",
       "      /* Index of renderer in `output_area.display_order` */\n",
       "      index: 0\n",
       "    });\n",
       "  }\n",
       "\n",
       "  // register the mime type if in Jupyter Notebook environment and previously unregistered\n",
       "  if (root.Jupyter !== undefined) {\n",
       "    var events = require('base/js/events');\n",
       "    var OutputArea = require('notebook/js/outputarea').OutputArea;\n",
       "\n",
       "    if (OutputArea.prototype.mime_types().indexOf(EXEC_MIME_TYPE) == -1) {\n",
       "      register_renderer(events, OutputArea);\n",
       "    }\n",
       "  }\n",
       "\n",
       "  \n",
       "  if (typeof (root._bokeh_timeout) === \"undefined\" || force === true) {\n",
       "    root._bokeh_timeout = Date.now() + 5000;\n",
       "    root._bokeh_failed_load = false;\n",
       "  }\n",
       "\n",
       "  var NB_LOAD_WARNING = {'data': {'text/html':\n",
       "     \"<div style='background-color: #fdd'>\\n\"+\n",
       "     \"<p>\\n\"+\n",
       "     \"BokehJS does not appear to have successfully loaded. If loading BokehJS from CDN, this \\n\"+\n",
       "     \"may be due to a slow or bad network connection. Possible fixes:\\n\"+\n",
       "     \"</p>\\n\"+\n",
       "     \"<ul>\\n\"+\n",
       "     \"<li>re-rerun `output_notebook()` to attempt to load from CDN again, or</li>\\n\"+\n",
       "     \"<li>use INLINE resources instead, as so:</li>\\n\"+\n",
       "     \"</ul>\\n\"+\n",
       "     \"<code>\\n\"+\n",
       "     \"from bokeh.resources import INLINE\\n\"+\n",
       "     \"output_notebook(resources=INLINE)\\n\"+\n",
       "     \"</code>\\n\"+\n",
       "     \"</div>\"}};\n",
       "\n",
       "  function display_loaded() {\n",
       "    var el = document.getElementById(\"d231fc4f-ac16-496e-b8a2-5caf8da0b99d\");\n",
       "    if (el != null) {\n",
       "      el.textContent = \"BokehJS is loading...\";\n",
       "    }\n",
       "    if (root.Bokeh !== undefined) {\n",
       "      if (el != null) {\n",
       "        el.textContent = \"BokehJS \" + root.Bokeh.version + \" successfully loaded.\";\n",
       "      }\n",
       "    } else if (Date.now() < root._bokeh_timeout) {\n",
       "      setTimeout(display_loaded, 100)\n",
       "    }\n",
       "  }\n",
       "\n",
       "\n",
       "  function run_callbacks() {\n",
       "    try {\n",
       "      root._bokeh_onload_callbacks.forEach(function(callback) { callback() });\n",
       "    }\n",
       "    finally {\n",
       "      delete root._bokeh_onload_callbacks\n",
       "    }\n",
       "    console.info(\"Bokeh: all callbacks have finished\");\n",
       "  }\n",
       "\n",
       "  function load_libs(js_urls, callback) {\n",
       "    root._bokeh_onload_callbacks.push(callback);\n",
       "    if (root._bokeh_is_loading > 0) {\n",
       "      console.log(\"Bokeh: BokehJS is being loaded, scheduling callback at\", now());\n",
       "      return null;\n",
       "    }\n",
       "    if (js_urls == null || js_urls.length === 0) {\n",
       "      run_callbacks();\n",
       "      return null;\n",
       "    }\n",
       "    console.log(\"Bokeh: BokehJS not loaded, scheduling load and callback at\", now());\n",
       "    root._bokeh_is_loading = js_urls.length;\n",
       "    for (var i = 0; i < js_urls.length; i++) {\n",
       "      var url = js_urls[i];\n",
       "      var s = document.createElement('script');\n",
       "      s.src = url;\n",
       "      s.async = false;\n",
       "      s.onreadystatechange = s.onload = function() {\n",
       "        root._bokeh_is_loading--;\n",
       "        if (root._bokeh_is_loading === 0) {\n",
       "          console.log(\"Bokeh: all BokehJS libraries loaded\");\n",
       "          run_callbacks()\n",
       "        }\n",
       "      };\n",
       "      s.onerror = function() {\n",
       "        console.warn(\"failed to load library \" + url);\n",
       "      };\n",
       "      console.log(\"Bokeh: injecting script tag for BokehJS library: \", url);\n",
       "      document.getElementsByTagName(\"head\")[0].appendChild(s);\n",
       "    }\n",
       "  };var element = document.getElementById(\"d231fc4f-ac16-496e-b8a2-5caf8da0b99d\");\n",
       "  if (element == null) {\n",
       "    console.log(\"Bokeh: ERROR: autoload.js configured with elementid 'd231fc4f-ac16-496e-b8a2-5caf8da0b99d' but no matching script tag was found. \")\n",
       "    return false;\n",
       "  }\n",
       "\n",
       "  var js_urls = [\"https://cdn.pydata.org/bokeh/release/bokeh-0.13.0.min.js\", \"https://cdn.pydata.org/bokeh/release/bokeh-widgets-0.13.0.min.js\", \"https://cdn.pydata.org/bokeh/release/bokeh-tables-0.13.0.min.js\", \"https://cdn.pydata.org/bokeh/release/bokeh-gl-0.13.0.min.js\"];\n",
       "\n",
       "  var inline_js = [\n",
       "    function(Bokeh) {\n",
       "      Bokeh.set_log_level(\"info\");\n",
       "    },\n",
       "    \n",
       "    function(Bokeh) {\n",
       "      \n",
       "    },\n",
       "    function(Bokeh) {\n",
       "      console.log(\"Bokeh: injecting CSS: https://cdn.pydata.org/bokeh/release/bokeh-0.13.0.min.css\");\n",
       "      Bokeh.embed.inject_css(\"https://cdn.pydata.org/bokeh/release/bokeh-0.13.0.min.css\");\n",
       "      console.log(\"Bokeh: injecting CSS: https://cdn.pydata.org/bokeh/release/bokeh-widgets-0.13.0.min.css\");\n",
       "      Bokeh.embed.inject_css(\"https://cdn.pydata.org/bokeh/release/bokeh-widgets-0.13.0.min.css\");\n",
       "      console.log(\"Bokeh: injecting CSS: https://cdn.pydata.org/bokeh/release/bokeh-tables-0.13.0.min.css\");\n",
       "      Bokeh.embed.inject_css(\"https://cdn.pydata.org/bokeh/release/bokeh-tables-0.13.0.min.css\");\n",
       "    }\n",
       "  ];\n",
       "\n",
       "  function run_inline_js() {\n",
       "    \n",
       "    if ((root.Bokeh !== undefined) || (force === true)) {\n",
       "      for (var i = 0; i < inline_js.length; i++) {\n",
       "        inline_js[i].call(root, root.Bokeh);\n",
       "      }if (force === true) {\n",
       "        display_loaded();\n",
       "      }} else if (Date.now() < root._bokeh_timeout) {\n",
       "      setTimeout(run_inline_js, 100);\n",
       "    } else if (!root._bokeh_failed_load) {\n",
       "      console.log(\"Bokeh: BokehJS failed to load within specified timeout.\");\n",
       "      root._bokeh_failed_load = true;\n",
       "    } else if (force !== true) {\n",
       "      var cell = $(document.getElementById(\"d231fc4f-ac16-496e-b8a2-5caf8da0b99d\")).parents('.cell').data().cell;\n",
       "      cell.output_area.append_execute_result(NB_LOAD_WARNING)\n",
       "    }\n",
       "\n",
       "  }\n",
       "\n",
       "  if (root._bokeh_is_loading === 0) {\n",
       "    console.log(\"Bokeh: BokehJS loaded, going straight to plotting\");\n",
       "    run_inline_js();\n",
       "  } else {\n",
       "    load_libs(js_urls, function() {\n",
       "      console.log(\"Bokeh: BokehJS plotting callback run at\", now());\n",
       "      run_inline_js();\n",
       "    });\n",
       "  }\n",
       "}(window));"
      ],
      "application/vnd.bokehjs_load.v0+json": "\n(function(root) {\n  function now() {\n    return new Date();\n  }\n\n  var force = true;\n\n  if (typeof (root._bokeh_onload_callbacks) === \"undefined\" || force === true) {\n    root._bokeh_onload_callbacks = [];\n    root._bokeh_is_loading = undefined;\n  }\n\n  \n\n  \n  if (typeof (root._bokeh_timeout) === \"undefined\" || force === true) {\n    root._bokeh_timeout = Date.now() + 5000;\n    root._bokeh_failed_load = false;\n  }\n\n  var NB_LOAD_WARNING = {'data': {'text/html':\n     \"<div style='background-color: #fdd'>\\n\"+\n     \"<p>\\n\"+\n     \"BokehJS does not appear to have successfully loaded. If loading BokehJS from CDN, this \\n\"+\n     \"may be due to a slow or bad network connection. Possible fixes:\\n\"+\n     \"</p>\\n\"+\n     \"<ul>\\n\"+\n     \"<li>re-rerun `output_notebook()` to attempt to load from CDN again, or</li>\\n\"+\n     \"<li>use INLINE resources instead, as so:</li>\\n\"+\n     \"</ul>\\n\"+\n     \"<code>\\n\"+\n     \"from bokeh.resources import INLINE\\n\"+\n     \"output_notebook(resources=INLINE)\\n\"+\n     \"</code>\\n\"+\n     \"</div>\"}};\n\n  function display_loaded() {\n    var el = document.getElementById(\"d231fc4f-ac16-496e-b8a2-5caf8da0b99d\");\n    if (el != null) {\n      el.textContent = \"BokehJS is loading...\";\n    }\n    if (root.Bokeh !== undefined) {\n      if (el != null) {\n        el.textContent = \"BokehJS \" + root.Bokeh.version + \" successfully loaded.\";\n      }\n    } else if (Date.now() < root._bokeh_timeout) {\n      setTimeout(display_loaded, 100)\n    }\n  }\n\n\n  function run_callbacks() {\n    try {\n      root._bokeh_onload_callbacks.forEach(function(callback) { callback() });\n    }\n    finally {\n      delete root._bokeh_onload_callbacks\n    }\n    console.info(\"Bokeh: all callbacks have finished\");\n  }\n\n  function load_libs(js_urls, callback) {\n    root._bokeh_onload_callbacks.push(callback);\n    if (root._bokeh_is_loading > 0) {\n      console.log(\"Bokeh: BokehJS is being loaded, scheduling callback at\", now());\n      return null;\n    }\n    if (js_urls == null || js_urls.length === 0) {\n      run_callbacks();\n      return null;\n    }\n    console.log(\"Bokeh: BokehJS not loaded, scheduling load and callback at\", now());\n    root._bokeh_is_loading = js_urls.length;\n    for (var i = 0; i < js_urls.length; i++) {\n      var url = js_urls[i];\n      var s = document.createElement('script');\n      s.src = url;\n      s.async = false;\n      s.onreadystatechange = s.onload = function() {\n        root._bokeh_is_loading--;\n        if (root._bokeh_is_loading === 0) {\n          console.log(\"Bokeh: all BokehJS libraries loaded\");\n          run_callbacks()\n        }\n      };\n      s.onerror = function() {\n        console.warn(\"failed to load library \" + url);\n      };\n      console.log(\"Bokeh: injecting script tag for BokehJS library: \", url);\n      document.getElementsByTagName(\"head\")[0].appendChild(s);\n    }\n  };var element = document.getElementById(\"d231fc4f-ac16-496e-b8a2-5caf8da0b99d\");\n  if (element == null) {\n    console.log(\"Bokeh: ERROR: autoload.js configured with elementid 'd231fc4f-ac16-496e-b8a2-5caf8da0b99d' but no matching script tag was found. \")\n    return false;\n  }\n\n  var js_urls = [\"https://cdn.pydata.org/bokeh/release/bokeh-0.13.0.min.js\", \"https://cdn.pydata.org/bokeh/release/bokeh-widgets-0.13.0.min.js\", \"https://cdn.pydata.org/bokeh/release/bokeh-tables-0.13.0.min.js\", \"https://cdn.pydata.org/bokeh/release/bokeh-gl-0.13.0.min.js\"];\n\n  var inline_js = [\n    function(Bokeh) {\n      Bokeh.set_log_level(\"info\");\n    },\n    \n    function(Bokeh) {\n      \n    },\n    function(Bokeh) {\n      console.log(\"Bokeh: injecting CSS: https://cdn.pydata.org/bokeh/release/bokeh-0.13.0.min.css\");\n      Bokeh.embed.inject_css(\"https://cdn.pydata.org/bokeh/release/bokeh-0.13.0.min.css\");\n      console.log(\"Bokeh: injecting CSS: https://cdn.pydata.org/bokeh/release/bokeh-widgets-0.13.0.min.css\");\n      Bokeh.embed.inject_css(\"https://cdn.pydata.org/bokeh/release/bokeh-widgets-0.13.0.min.css\");\n      console.log(\"Bokeh: injecting CSS: https://cdn.pydata.org/bokeh/release/bokeh-tables-0.13.0.min.css\");\n      Bokeh.embed.inject_css(\"https://cdn.pydata.org/bokeh/release/bokeh-tables-0.13.0.min.css\");\n    }\n  ];\n\n  function run_inline_js() {\n    \n    if ((root.Bokeh !== undefined) || (force === true)) {\n      for (var i = 0; i < inline_js.length; i++) {\n        inline_js[i].call(root, root.Bokeh);\n      }if (force === true) {\n        display_loaded();\n      }} else if (Date.now() < root._bokeh_timeout) {\n      setTimeout(run_inline_js, 100);\n    } else if (!root._bokeh_failed_load) {\n      console.log(\"Bokeh: BokehJS failed to load within specified timeout.\");\n      root._bokeh_failed_load = true;\n    } else if (force !== true) {\n      var cell = $(document.getElementById(\"d231fc4f-ac16-496e-b8a2-5caf8da0b99d\")).parents('.cell').data().cell;\n      cell.output_area.append_execute_result(NB_LOAD_WARNING)\n    }\n\n  }\n\n  if (root._bokeh_is_loading === 0) {\n    console.log(\"Bokeh: BokehJS loaded, going straight to plotting\");\n    run_inline_js();\n  } else {\n    load_libs(js_urls, function() {\n      console.log(\"Bokeh: BokehJS plotting callback run at\", now());\n      run_inline_js();\n    });\n  }\n}(window));"
     },
     "metadata": {},
     "output_type": "display_data"
    },
    {
     "name": "stdout",
     "output_type": "stream",
     "text": [
      "working dir /home/tales/dev/master/mdc_analysis\n"
     ]
    }
   ],
   "source": [
    "import pandas as pd\n",
    "import os\n",
    "\n",
    "from bokeh.plotting import figure\n",
    "from bokeh.io import output_notebook, show\n",
    "from bokeh.layouts import gridplot\n",
    "\n",
    "output_notebook()\n",
    "\n",
    "os.chdir(\"/home/tales/dev/master/mdc_analysis/\")\n",
    "print(\"working dir\", os.getcwd())\n",
    "\n",
    "from src.dao import csv_dao\n",
    "from src.plot import plot\n",
    "from src.utils import geo\n",
    "from src.entity.geo_circle import GeoCircle\n",
    "from src.utils.color_utils import palette\n",
    "\n",
    "\n",
    "from sklearn.cluster import KMeans\n",
    "\n",
    "import gc\n",
    "\n",
    "# pd.set_option('display.max_columns', None)\n",
    "# pd.set_option('display.width', 1000)\n",
    "# pd.set_option('display.float_format', lambda x: '%.3f' % x)"
   ]
  },
  {
   "cell_type": "code",
   "execution_count": 2,
   "metadata": {
    "scrolled": true
   },
   "outputs": [
    {
     "data": {
      "text/html": [
       "<div>\n",
       "<style scoped>\n",
       "    .dataframe tbody tr th:only-of-type {\n",
       "        vertical-align: middle;\n",
       "    }\n",
       "\n",
       "    .dataframe tbody tr th {\n",
       "        vertical-align: top;\n",
       "    }\n",
       "\n",
       "    .dataframe thead th {\n",
       "        text-align: right;\n",
       "    }\n",
       "</style>\n",
       "<table border=\"1\" class=\"dataframe\">\n",
       "  <thead>\n",
       "    <tr style=\"text-align: right;\">\n",
       "      <th></th>\n",
       "      <th>latitude</th>\n",
       "      <th>longitude</th>\n",
       "      <th>radius_m</th>\n",
       "      <th>search_tolerance</th>\n",
       "      <th>sr_ids</th>\n",
       "    </tr>\n",
       "  </thead>\n",
       "  <tbody>\n",
       "    <tr>\n",
       "      <th>0</th>\n",
       "      <td>46.453729</td>\n",
       "      <td>6.866496</td>\n",
       "      <td>200</td>\n",
       "      <td>0.0015</td>\n",
       "      <td>[6189_0, 6189_1, 6175_0, 6175_1, 6175_100, 617...</td>\n",
       "    </tr>\n",
       "    <tr>\n",
       "      <th>1</th>\n",
       "      <td>46.511575</td>\n",
       "      <td>6.661025</td>\n",
       "      <td>200</td>\n",
       "      <td>0.0015</td>\n",
       "      <td>[6189_10, 6189_111, 6189_254, 6189_334, 6189_3...</td>\n",
       "    </tr>\n",
       "    <tr>\n",
       "      <th>2</th>\n",
       "      <td>46.542045</td>\n",
       "      <td>6.644075</td>\n",
       "      <td>200</td>\n",
       "      <td>0.0015</td>\n",
       "      <td>[6189_100, 6189_101, 6189_122, 6189_137, 6189_...</td>\n",
       "    </tr>\n",
       "    <tr>\n",
       "      <th>3</th>\n",
       "      <td>46.530000</td>\n",
       "      <td>6.650000</td>\n",
       "      <td>200</td>\n",
       "      <td>0.0015</td>\n",
       "      <td>[6189_102, 6189_243, 6189_419, 6189_421, 5976_...</td>\n",
       "    </tr>\n",
       "    <tr>\n",
       "      <th>4</th>\n",
       "      <td>46.530000</td>\n",
       "      <td>6.730000</td>\n",
       "      <td>200</td>\n",
       "      <td>0.0015</td>\n",
       "      <td>[6189_103, 6189_136, 6189_232, 6189_257, 6189_...</td>\n",
       "    </tr>\n",
       "  </tbody>\n",
       "</table>\n",
       "</div>"
      ],
      "text/plain": [
       "    latitude  longitude  radius_m  search_tolerance  \\\n",
       "0  46.453729   6.866496       200            0.0015   \n",
       "1  46.511575   6.661025       200            0.0015   \n",
       "2  46.542045   6.644075       200            0.0015   \n",
       "3  46.530000   6.650000       200            0.0015   \n",
       "4  46.530000   6.730000       200            0.0015   \n",
       "\n",
       "                                              sr_ids  \n",
       "0  [6189_0, 6189_1, 6175_0, 6175_1, 6175_100, 617...  \n",
       "1  [6189_10, 6189_111, 6189_254, 6189_334, 6189_3...  \n",
       "2  [6189_100, 6189_101, 6189_122, 6189_137, 6189_...  \n",
       "3  [6189_102, 6189_243, 6189_419, 6189_421, 5976_...  \n",
       "4  [6189_103, 6189_136, 6189_232, 6189_257, 6189_...  "
      ]
     },
     "execution_count": 2,
     "metadata": {},
     "output_type": "execute_result"
    }
   ],
   "source": [
    "rc200_df = csv_dao.load_request_circles_df(200)\n",
    "rc300_df = csv_dao.load_request_circles_df(300)\n",
    "rc400_df = csv_dao.load_request_circles_df(400)\n",
    "rc500_df = csv_dao.load_request_circles_df(500)\n",
    "rc600_df = csv_dao.load_request_circles_df(600)\n",
    "rc700_df = csv_dao.load_request_circles_df(700)\n",
    "rc800_df = csv_dao.load_request_circles_df(800)\n",
    "rc1k_df = csv_dao.load_request_circles_df(1000)\n",
    "\n",
    "rc200_df.head()"
   ]
  },
  {
   "cell_type": "code",
   "execution_count": 3,
   "metadata": {},
   "outputs": [],
   "source": [
    "def summary(request_circles_list):\n",
    "    rad_reqs = []\n",
    "    \n",
    "    for request_circles in request_circles_list:\n",
    "        row = {}\n",
    "        row[\"radius_m\"] = request_circles[\"radius_m\"].mean()\n",
    "        row[\"n_requests\"] = len(request_circles)\n",
    "        \n",
    "        sr_amout = []\n",
    "        for index, request_circle in request_circles.iterrows():\n",
    "            sr_amout.append(len(request_circle[\"sr_ids\"]))\n",
    "        \n",
    "        row[\"n_stop_regions_median\"] = pd.Series(sr_amout).describe()[\"50%\"]\n",
    "        rad_reqs.append(row)\n",
    "    \n",
    "    rad_reqs = pd.DataFrame(rad_reqs)\n",
    "    return rad_reqs\n",
    "    \n",
    "def summary_plots(summary_df):\n",
    "    p_reqs = figure(plot_width=400, plot_height=300, title=\"Number of Request vs Request Radius\")\n",
    "    p_reqs.line(summary_df[\"radius_m\"], summary_df[\"n_requests\"], color=\"lightblue\", alpha=0.8, line_width=2)\n",
    "    p_reqs.circle(summary_df[\"radius_m\"], summary_df[\"n_requests\"], color=\"navy\", fill_alpha=1, size=4)\n",
    "    \n",
    "    p_sr_median = figure(plot_width=400, plot_height=300, title=\"Stop Regions median vs Request Radius\")\n",
    "    p_sr_median.line(summary_df[\"radius_m\"], summary_df[\"n_stop_regions_median\"], color=\"lightblue\", alpha=0.8, line_width=2)\n",
    "    p_sr_median.circle(summary_df[\"radius_m\"], summary_df[\"n_stop_regions_median\"], color=\"navy\", fill_alpha=1, size=4)\n",
    "    \n",
    "    \n",
    "    return p_reqs, p_sr_median"
   ]
  },
  {
   "cell_type": "code",
   "execution_count": 4,
   "metadata": {},
   "outputs": [
    {
     "name": "stdout",
     "output_type": "stream",
     "text": [
      "   n_requests  n_stop_regions_median  radius_m\n",
      "0        5134                    3.0     200.0\n",
      "1        3700                    4.0     300.0\n",
      "2        3178                    4.0     400.0\n",
      "3        2600                    4.0     500.0\n",
      "4        2521                    5.0     600.0\n",
      "5        2164                    5.0     700.0\n",
      "6        2060                    5.0     800.0\n",
      "7        1884                    6.0    1000.0\n"
     ]
    },
    {
     "data": {
      "text/html": [
       "\n",
       "\n",
       "\n",
       "\n",
       "\n",
       "\n",
       "  <div class=\"bk-root\" id=\"f6f7840b-edf6-4174-af2f-6d1d6e6a2106\"></div>\n"
      ]
     },
     "metadata": {},
     "output_type": "display_data"
    },
    {
     "data": {
      "application/javascript": [
       "(function(root) {\n",
       "  function embed_document(root) {\n",
       "    \n",
       "  var docs_json = {\"d30b5ada-e4b4-435b-9ec5-871c0162dd22\":{\"roots\":{\"references\":[{\"attributes\":{},\"id\":\"cc89eed5-ef41-4541-a096-ebded3ef0832\",\"type\":\"BasicTicker\"},{\"attributes\":{\"line_alpha\":0.8,\"line_color\":\"lightblue\",\"line_width\":2,\"x\":{\"field\":\"x\"},\"y\":{\"field\":\"y\"}},\"id\":\"b9b719ea-75fe-4240-be04-8c616b61a2e9\",\"type\":\"Line\"},{\"attributes\":{\"plot\":{\"id\":\"d675d011-319c-427f-9083-3fd2d6402eae\",\"subtype\":\"Figure\",\"type\":\"Plot\"},\"ticker\":{\"id\":\"cc89eed5-ef41-4541-a096-ebded3ef0832\",\"type\":\"BasicTicker\"}},\"id\":\"ffc75bfb-c659-4a64-9ad1-4fa418da75b5\",\"type\":\"Grid\"},{\"attributes\":{\"overlay\":{\"id\":\"f1cb9b29-86c9-418a-bdc9-886a210c23b1\",\"type\":\"BoxAnnotation\"}},\"id\":\"4018271f-ca14-4912-9920-a3b8247cb345\",\"type\":\"BoxZoomTool\"},{\"attributes\":{\"formatter\":{\"id\":\"9c0cee5b-1df3-429d-a948-b7864d9bd454\",\"type\":\"BasicTickFormatter\"},\"plot\":{\"id\":\"d675d011-319c-427f-9083-3fd2d6402eae\",\"subtype\":\"Figure\",\"type\":\"Plot\"},\"ticker\":{\"id\":\"5e160db0-bf17-4e2f-83fe-3acbae160a19\",\"type\":\"BasicTicker\"}},\"id\":\"464760ae-6847-4d4a-9bff-d23240fe1bdd\",\"type\":\"LinearAxis\"},{\"attributes\":{},\"id\":\"5e160db0-bf17-4e2f-83fe-3acbae160a19\",\"type\":\"BasicTicker\"},{\"attributes\":{\"dimension\":1,\"plot\":{\"id\":\"d675d011-319c-427f-9083-3fd2d6402eae\",\"subtype\":\"Figure\",\"type\":\"Plot\"},\"ticker\":{\"id\":\"5e160db0-bf17-4e2f-83fe-3acbae160a19\",\"type\":\"BasicTicker\"}},\"id\":\"cc4b47dc-34b6-4a8b-afd1-7d9762fbe453\",\"type\":\"Grid\"},{\"attributes\":{},\"id\":\"ba12809a-cea5-4e3c-a8c0-039c8476a7aa\",\"type\":\"UnionRenderers\"},{\"attributes\":{\"children\":[{\"id\":\"f6e7de41-f752-46e6-876b-3c3d5674aae2\",\"type\":\"Row\"}]},\"id\":\"300b983a-fb1b-4c2d-a53f-fd43e993943b\",\"type\":\"Column\"},{\"attributes\":{\"callback\":null,\"data\":{\"x\":{\"__ndarray__\":\"AAAAAAAAaUAAAAAAAMByQAAAAAAAAHlAAAAAAABAf0AAAAAAAMCCQAAAAAAA4IVAAAAAAAAAiUAAAAAAAECPQA==\",\"dtype\":\"float64\",\"shape\":[8]},\"y\":{\"__ndarray__\":\"AAAAAAAACEAAAAAAAAAQQAAAAAAAABBAAAAAAAAAEEAAAAAAAAAUQAAAAAAAABRAAAAAAAAAFEAAAAAAAAAYQA==\",\"dtype\":\"float64\",\"shape\":[8]}},\"selected\":{\"id\":\"88367d98-0cff-46ed-b5cd-e06e4504712c\",\"type\":\"Selection\"},\"selection_policy\":{\"id\":\"ac8aade7-13ca-4c25-8143-b982c7fd7ccf\",\"type\":\"UnionRenderers\"}},\"id\":\"ecfd5592-cb76-4a28-a236-65ce78b67d01\",\"type\":\"ColumnDataSource\"},{\"attributes\":{},\"id\":\"1d4695ca-05e2-49af-9469-e24eddac679d\",\"type\":\"SaveTool\"},{\"attributes\":{\"bottom_units\":\"screen\",\"fill_alpha\":{\"value\":0.5},\"fill_color\":{\"value\":\"lightgrey\"},\"left_units\":\"screen\",\"level\":\"overlay\",\"line_alpha\":{\"value\":1.0},\"line_color\":{\"value\":\"black\"},\"line_dash\":[4,4],\"line_width\":{\"value\":2},\"plot\":null,\"render_mode\":\"css\",\"right_units\":\"screen\",\"top_units\":\"screen\"},\"id\":\"ba4ede0c-53aa-49a9-b33e-5cf765c21fdf\",\"type\":\"BoxAnnotation\"},{\"attributes\":{},\"id\":\"781a4f67-7659-4b1c-9d59-eec1217d30d2\",\"type\":\"HelpTool\"},{\"attributes\":{},\"id\":\"f418076b-b1f9-4125-b1b0-f93cad7dbcec\",\"type\":\"PanTool\"},{\"attributes\":{},\"id\":\"7b978f90-ee4d-4f81-acef-76e176d9a45f\",\"type\":\"ResetTool\"},{\"attributes\":{\"line_alpha\":0.1,\"line_color\":\"#1f77b4\",\"line_width\":2,\"x\":{\"field\":\"x\"},\"y\":{\"field\":\"y\"}},\"id\":\"8ae7ca17-fc5d-461d-b394-aec4a09be382\",\"type\":\"Line\"},{\"attributes\":{},\"id\":\"2f4252a9-ec54-44eb-b1fe-6fe8dba9e001\",\"type\":\"WheelZoomTool\"},{\"attributes\":{\"overlay\":{\"id\":\"ba4ede0c-53aa-49a9-b33e-5cf765c21fdf\",\"type\":\"BoxAnnotation\"}},\"id\":\"319cd95c-d51f-4467-9784-309c0cb8051d\",\"type\":\"BoxZoomTool\"},{\"attributes\":{},\"id\":\"e5480451-793e-420c-b1fc-aea70d2f24da\",\"type\":\"SaveTool\"},{\"attributes\":{},\"id\":\"ea05bf55-0df3-464c-a177-275701f2226d\",\"type\":\"ResetTool\"},{\"attributes\":{},\"id\":\"407533c4-cd9b-48d5-89eb-00dd7f8b3334\",\"type\":\"HelpTool\"},{\"attributes\":{\"callback\":null,\"data\":{\"x\":{\"__ndarray__\":\"AAAAAAAAaUAAAAAAAMByQAAAAAAAAHlAAAAAAABAf0AAAAAAAMCCQAAAAAAA4IVAAAAAAAAAiUAAAAAAAECPQA==\",\"dtype\":\"float64\",\"shape\":[8]},\"y\":{\"__ndarray__\":\"AAAAAAAACEAAAAAAAAAQQAAAAAAAABBAAAAAAAAAEEAAAAAAAAAUQAAAAAAAABRAAAAAAAAAFEAAAAAAAAAYQA==\",\"dtype\":\"float64\",\"shape\":[8]}},\"selected\":{\"id\":\"fbc20124-87b0-42c8-bc1c-ca1947e15d8f\",\"type\":\"Selection\"},\"selection_policy\":{\"id\":\"b57fb9fd-11de-460d-a569-64cd6556d43a\",\"type\":\"UnionRenderers\"}},\"id\":\"a406979e-7c3d-41e6-8569-9ba62b357874\",\"type\":\"ColumnDataSource\"},{\"attributes\":{\"data_source\":{\"id\":\"5bf6d8a3-5adf-45da-bffa-c979f109503c\",\"type\":\"ColumnDataSource\"},\"glyph\":{\"id\":\"7a339057-81e4-4007-94f9-80ef9819b712\",\"type\":\"Line\"},\"hover_glyph\":null,\"muted_glyph\":null,\"nonselection_glyph\":{\"id\":\"8a5fcc08-7557-4656-87be-4076a52c4de3\",\"type\":\"Line\"},\"selection_glyph\":null,\"view\":{\"id\":\"f2287948-b649-44d6-accb-bd87b7f8c82f\",\"type\":\"CDSView\"}},\"id\":\"64aafee8-1a40-4b5b-b634-6e52a724ab8c\",\"type\":\"GlyphRenderer\"},{\"attributes\":{\"data_source\":{\"id\":\"ecfd5592-cb76-4a28-a236-65ce78b67d01\",\"type\":\"ColumnDataSource\"},\"glyph\":{\"id\":\"b9b719ea-75fe-4240-be04-8c616b61a2e9\",\"type\":\"Line\"},\"hover_glyph\":null,\"muted_glyph\":null,\"nonselection_glyph\":{\"id\":\"8ae7ca17-fc5d-461d-b394-aec4a09be382\",\"type\":\"Line\"},\"selection_glyph\":null,\"view\":{\"id\":\"78bcbfe9-55a8-4dfe-af23-9b72fbe7387d\",\"type\":\"CDSView\"}},\"id\":\"cc5f2dbe-d4fa-44df-a56a-6cfac5a3d9d5\",\"type\":\"GlyphRenderer\"},{\"attributes\":{\"callback\":null,\"data\":{\"x\":{\"__ndarray__\":\"AAAAAAAAaUAAAAAAAMByQAAAAAAAAHlAAAAAAABAf0AAAAAAAMCCQAAAAAAA4IVAAAAAAAAAiUAAAAAAAECPQA==\",\"dtype\":\"float64\",\"shape\":[8]},\"y\":[5134,3700,3178,2600,2521,2164,2060,1884]},\"selected\":{\"id\":\"a0c3ef14-43cd-4b98-9589-0b38a7d89349\",\"type\":\"Selection\"},\"selection_policy\":{\"id\":\"ba12809a-cea5-4e3c-a8c0-039c8476a7aa\",\"type\":\"UnionRenderers\"}},\"id\":\"5bf6d8a3-5adf-45da-bffa-c979f109503c\",\"type\":\"ColumnDataSource\"},{\"attributes\":{\"source\":{\"id\":\"ecfd5592-cb76-4a28-a236-65ce78b67d01\",\"type\":\"ColumnDataSource\"}},\"id\":\"78bcbfe9-55a8-4dfe-af23-9b72fbe7387d\",\"type\":\"CDSView\"},{\"attributes\":{\"fill_color\":{\"value\":\"navy\"},\"line_color\":{\"value\":\"navy\"},\"x\":{\"field\":\"x\"},\"y\":{\"field\":\"y\"}},\"id\":\"e0c6141d-679d-4776-8c0d-d8b0789cfb2b\",\"type\":\"Circle\"},{\"attributes\":{\"below\":[{\"id\":\"fde7fab1-fd2a-4240-aa58-c35b3bf5ab49\",\"type\":\"LinearAxis\"}],\"left\":[{\"id\":\"1f8ba2cd-9571-4d28-a6ae-194aa4e89ae6\",\"type\":\"LinearAxis\"}],\"plot_height\":300,\"plot_width\":400,\"renderers\":[{\"id\":\"fde7fab1-fd2a-4240-aa58-c35b3bf5ab49\",\"type\":\"LinearAxis\"},{\"id\":\"367b7133-9981-48eb-8cf5-affa871ac705\",\"type\":\"Grid\"},{\"id\":\"1f8ba2cd-9571-4d28-a6ae-194aa4e89ae6\",\"type\":\"LinearAxis\"},{\"id\":\"dde39628-3729-475a-a8b7-49df6413ff9a\",\"type\":\"Grid\"},{\"id\":\"f1cb9b29-86c9-418a-bdc9-886a210c23b1\",\"type\":\"BoxAnnotation\"},{\"id\":\"64aafee8-1a40-4b5b-b634-6e52a724ab8c\",\"type\":\"GlyphRenderer\"},{\"id\":\"adf5eeff-35c2-42d9-ae02-e0be11d61dac\",\"type\":\"GlyphRenderer\"}],\"title\":{\"id\":\"8da5b17e-5df0-49e9-b1d9-6e5f1f7c59e6\",\"type\":\"Title\"},\"toolbar\":{\"id\":\"1dae22db-b1c3-4c86-b7b1-e8a8e8d38777\",\"type\":\"Toolbar\"},\"toolbar_location\":null,\"x_range\":{\"id\":\"c7c6f4b8-97aa-4f65-9c5d-6e98432df05f\",\"type\":\"DataRange1d\"},\"x_scale\":{\"id\":\"cb4bce62-9cc0-4112-8861-19934c5406e4\",\"type\":\"LinearScale\"},\"y_range\":{\"id\":\"81e3fced-a5af-4554-8e64-33135f99663f\",\"type\":\"DataRange1d\"},\"y_scale\":{\"id\":\"8d122ab9-6d74-4591-a3f1-2e97726f9bb1\",\"type\":\"LinearScale\"}},\"id\":\"7fbcc7a2-3be3-4f47-83e0-d1f9e68bed1a\",\"subtype\":\"Figure\",\"type\":\"Plot\"},{\"attributes\":{\"fill_alpha\":{\"value\":0.1},\"fill_color\":{\"value\":\"#1f77b4\"},\"line_alpha\":{\"value\":0.1},\"line_color\":{\"value\":\"#1f77b4\"},\"x\":{\"field\":\"x\"},\"y\":{\"field\":\"y\"}},\"id\":\"d21b983a-a103-4883-be57-d439412c7f55\",\"type\":\"Circle\"},{\"attributes\":{\"dimension\":1,\"plot\":{\"id\":\"7fbcc7a2-3be3-4f47-83e0-d1f9e68bed1a\",\"subtype\":\"Figure\",\"type\":\"Plot\"},\"ticker\":{\"id\":\"62459ac5-aac6-481d-9b72-16598237779e\",\"type\":\"BasicTicker\"}},\"id\":\"dde39628-3729-475a-a8b7-49df6413ff9a\",\"type\":\"Grid\"},{\"attributes\":{\"data_source\":{\"id\":\"a406979e-7c3d-41e6-8569-9ba62b357874\",\"type\":\"ColumnDataSource\"},\"glyph\":{\"id\":\"e0c6141d-679d-4776-8c0d-d8b0789cfb2b\",\"type\":\"Circle\"},\"hover_glyph\":null,\"muted_glyph\":null,\"nonselection_glyph\":{\"id\":\"d21b983a-a103-4883-be57-d439412c7f55\",\"type\":\"Circle\"},\"selection_glyph\":null,\"view\":{\"id\":\"d687bccc-499d-4273-8886-8c14a8d5c309\",\"type\":\"CDSView\"}},\"id\":\"1153ab81-ae6a-4833-a371-79ed68978a7c\",\"type\":\"GlyphRenderer\"},{\"attributes\":{},\"id\":\"efbb6202-1303-42d6-a3e3-e7395b25acfb\",\"type\":\"BasicTicker\"},{\"attributes\":{\"formatter\":{\"id\":\"829971f8-5ab2-4703-bf46-4dc5999aaab4\",\"type\":\"BasicTickFormatter\"},\"plot\":{\"id\":\"7fbcc7a2-3be3-4f47-83e0-d1f9e68bed1a\",\"subtype\":\"Figure\",\"type\":\"Plot\"},\"ticker\":{\"id\":\"efbb6202-1303-42d6-a3e3-e7395b25acfb\",\"type\":\"BasicTicker\"}},\"id\":\"fde7fab1-fd2a-4240-aa58-c35b3bf5ab49\",\"type\":\"LinearAxis\"},{\"attributes\":{\"source\":{\"id\":\"a406979e-7c3d-41e6-8569-9ba62b357874\",\"type\":\"ColumnDataSource\"}},\"id\":\"d687bccc-499d-4273-8886-8c14a8d5c309\",\"type\":\"CDSView\"},{\"attributes\":{\"plot\":{\"id\":\"7fbcc7a2-3be3-4f47-83e0-d1f9e68bed1a\",\"subtype\":\"Figure\",\"type\":\"Plot\"},\"ticker\":{\"id\":\"efbb6202-1303-42d6-a3e3-e7395b25acfb\",\"type\":\"BasicTicker\"}},\"id\":\"367b7133-9981-48eb-8cf5-affa871ac705\",\"type\":\"Grid\"},{\"attributes\":{},\"id\":\"829971f8-5ab2-4703-bf46-4dc5999aaab4\",\"type\":\"BasicTickFormatter\"},{\"attributes\":{},\"id\":\"a0c3ef14-43cd-4b98-9589-0b38a7d89349\",\"type\":\"Selection\"},{\"attributes\":{},\"id\":\"8d122ab9-6d74-4591-a3f1-2e97726f9bb1\",\"type\":\"LinearScale\"},{\"attributes\":{\"formatter\":{\"id\":\"b1d7e86e-0007-49d6-a1cd-f442fcd262b0\",\"type\":\"BasicTickFormatter\"},\"plot\":{\"id\":\"d675d011-319c-427f-9083-3fd2d6402eae\",\"subtype\":\"Figure\",\"type\":\"Plot\"},\"ticker\":{\"id\":\"cc89eed5-ef41-4541-a096-ebded3ef0832\",\"type\":\"BasicTicker\"}},\"id\":\"8c73d7c8-2714-45c0-80e7-288124fce1e7\",\"type\":\"LinearAxis\"},{\"attributes\":{\"active_drag\":\"auto\",\"active_inspect\":\"auto\",\"active_multi\":null,\"active_scroll\":\"auto\",\"active_tap\":\"auto\",\"tools\":[{\"id\":\"f418076b-b1f9-4125-b1b0-f93cad7dbcec\",\"type\":\"PanTool\"},{\"id\":\"2f4252a9-ec54-44eb-b1fe-6fe8dba9e001\",\"type\":\"WheelZoomTool\"},{\"id\":\"319cd95c-d51f-4467-9784-309c0cb8051d\",\"type\":\"BoxZoomTool\"},{\"id\":\"e5480451-793e-420c-b1fc-aea70d2f24da\",\"type\":\"SaveTool\"},{\"id\":\"ea05bf55-0df3-464c-a177-275701f2226d\",\"type\":\"ResetTool\"},{\"id\":\"407533c4-cd9b-48d5-89eb-00dd7f8b3334\",\"type\":\"HelpTool\"}]},\"id\":\"b9d2f69b-81d2-4670-a0dd-756361e13be5\",\"type\":\"Toolbar\"},{\"attributes\":{},\"id\":\"1a5ec6ff-0b6c-49c1-b5bc-47c000afa111\",\"type\":\"BasicTickFormatter\"},{\"attributes\":{\"callback\":null},\"id\":\"0d98303e-8f10-44fd-9cc3-a4c59653ab2d\",\"type\":\"DataRange1d\"},{\"attributes\":{},\"id\":\"398e5fac-afb8-4c78-8e55-2d897481e756\",\"type\":\"Selection\"},{\"attributes\":{\"data_source\":{\"id\":\"7f02b0b4-af03-4233-9bff-c2cfd75f1f5d\",\"type\":\"ColumnDataSource\"},\"glyph\":{\"id\":\"a474d8ae-eb1c-402c-b8ac-fa1b513a04aa\",\"type\":\"Circle\"},\"hover_glyph\":null,\"muted_glyph\":null,\"nonselection_glyph\":{\"id\":\"858392fc-265a-451b-8468-37a2621d4e0d\",\"type\":\"Circle\"},\"selection_glyph\":null,\"view\":{\"id\":\"9f7155bb-cc19-4274-8c64-4cecd3ce4c35\",\"type\":\"CDSView\"}},\"id\":\"adf5eeff-35c2-42d9-ae02-e0be11d61dac\",\"type\":\"GlyphRenderer\"},{\"attributes\":{},\"id\":\"88367d98-0cff-46ed-b5cd-e06e4504712c\",\"type\":\"Selection\"},{\"attributes\":{\"plot\":null,\"text\":\"Stop Regions median vs Request Radius\"},\"id\":\"efa8008b-8400-4aa6-8d8d-b38751c36f81\",\"type\":\"Title\"},{\"attributes\":{},\"id\":\"e3e73a0c-c8f7-42c5-98f5-e315322f1662\",\"type\":\"UnionRenderers\"},{\"attributes\":{},\"id\":\"b1d7e86e-0007-49d6-a1cd-f442fcd262b0\",\"type\":\"BasicTickFormatter\"},{\"attributes\":{},\"id\":\"9c0cee5b-1df3-429d-a948-b7864d9bd454\",\"type\":\"BasicTickFormatter\"},{\"attributes\":{},\"id\":\"ac8aade7-13ca-4c25-8143-b982c7fd7ccf\",\"type\":\"UnionRenderers\"},{\"attributes\":{},\"id\":\"fbc20124-87b0-42c8-bc1c-ca1947e15d8f\",\"type\":\"Selection\"},{\"attributes\":{},\"id\":\"b57fb9fd-11de-460d-a569-64cd6556d43a\",\"type\":\"UnionRenderers\"},{\"attributes\":{\"tools\":[{\"id\":\"c4556a3c-bc12-4cf9-955f-b5dcdfab67d9\",\"type\":\"PanTool\"},{\"id\":\"a4ecd265-960d-427a-b925-a15ad2ad1a43\",\"type\":\"WheelZoomTool\"},{\"id\":\"4018271f-ca14-4912-9920-a3b8247cb345\",\"type\":\"BoxZoomTool\"},{\"id\":\"1d4695ca-05e2-49af-9469-e24eddac679d\",\"type\":\"SaveTool\"},{\"id\":\"7b978f90-ee4d-4f81-acef-76e176d9a45f\",\"type\":\"ResetTool\"},{\"id\":\"781a4f67-7659-4b1c-9d59-eec1217d30d2\",\"type\":\"HelpTool\"},{\"id\":\"f418076b-b1f9-4125-b1b0-f93cad7dbcec\",\"type\":\"PanTool\"},{\"id\":\"2f4252a9-ec54-44eb-b1fe-6fe8dba9e001\",\"type\":\"WheelZoomTool\"},{\"id\":\"319cd95c-d51f-4467-9784-309c0cb8051d\",\"type\":\"BoxZoomTool\"},{\"id\":\"e5480451-793e-420c-b1fc-aea70d2f24da\",\"type\":\"SaveTool\"},{\"id\":\"ea05bf55-0df3-464c-a177-275701f2226d\",\"type\":\"ResetTool\"},{\"id\":\"407533c4-cd9b-48d5-89eb-00dd7f8b3334\",\"type\":\"HelpTool\"}]},\"id\":\"2d50c64e-d4b3-4bcc-9cd0-dc6bec91fa7c\",\"type\":\"ProxyToolbar\"},{\"attributes\":{\"toolbar\":{\"id\":\"2d50c64e-d4b3-4bcc-9cd0-dc6bec91fa7c\",\"type\":\"ProxyToolbar\"},\"toolbar_location\":\"above\"},\"id\":\"a9a64a60-4f53-4240-9c28-aae966f933ba\",\"type\":\"ToolbarBox\"},{\"attributes\":{\"children\":[{\"id\":\"a9a64a60-4f53-4240-9c28-aae966f933ba\",\"type\":\"ToolbarBox\"},{\"id\":\"300b983a-fb1b-4c2d-a53f-fd43e993943b\",\"type\":\"Column\"}]},\"id\":\"9186d3aa-325c-49e4-b46e-e757e0caa1cf\",\"type\":\"Column\"},{\"attributes\":{\"source\":{\"id\":\"5bf6d8a3-5adf-45da-bffa-c979f109503c\",\"type\":\"ColumnDataSource\"}},\"id\":\"f2287948-b649-44d6-accb-bd87b7f8c82f\",\"type\":\"CDSView\"},{\"attributes\":{\"fill_color\":{\"value\":\"navy\"},\"line_color\":{\"value\":\"navy\"},\"x\":{\"field\":\"x\"},\"y\":{\"field\":\"y\"}},\"id\":\"a474d8ae-eb1c-402c-b8ac-fa1b513a04aa\",\"type\":\"Circle\"},{\"attributes\":{\"fill_alpha\":{\"value\":0.1},\"fill_color\":{\"value\":\"#1f77b4\"},\"line_alpha\":{\"value\":0.1},\"line_color\":{\"value\":\"#1f77b4\"},\"x\":{\"field\":\"x\"},\"y\":{\"field\":\"y\"}},\"id\":\"858392fc-265a-451b-8468-37a2621d4e0d\",\"type\":\"Circle\"},{\"attributes\":{},\"id\":\"a4ecd265-960d-427a-b925-a15ad2ad1a43\",\"type\":\"WheelZoomTool\"},{\"attributes\":{\"bottom_units\":\"screen\",\"fill_alpha\":{\"value\":0.5},\"fill_color\":{\"value\":\"lightgrey\"},\"left_units\":\"screen\",\"level\":\"overlay\",\"line_alpha\":{\"value\":1.0},\"line_color\":{\"value\":\"black\"},\"line_dash\":[4,4],\"line_width\":{\"value\":2},\"plot\":null,\"render_mode\":\"css\",\"right_units\":\"screen\",\"top_units\":\"screen\"},\"id\":\"f1cb9b29-86c9-418a-bdc9-886a210c23b1\",\"type\":\"BoxAnnotation\"},{\"attributes\":{},\"id\":\"c4556a3c-bc12-4cf9-955f-b5dcdfab67d9\",\"type\":\"PanTool\"},{\"attributes\":{\"line_alpha\":0.1,\"line_color\":\"#1f77b4\",\"line_width\":2,\"x\":{\"field\":\"x\"},\"y\":{\"field\":\"y\"}},\"id\":\"8a5fcc08-7557-4656-87be-4076a52c4de3\",\"type\":\"Line\"},{\"attributes\":{},\"id\":\"62459ac5-aac6-481d-9b72-16598237779e\",\"type\":\"BasicTicker\"},{\"attributes\":{\"line_alpha\":0.8,\"line_color\":\"lightblue\",\"line_width\":2,\"x\":{\"field\":\"x\"},\"y\":{\"field\":\"y\"}},\"id\":\"7a339057-81e4-4007-94f9-80ef9819b712\",\"type\":\"Line\"},{\"attributes\":{\"formatter\":{\"id\":\"1a5ec6ff-0b6c-49c1-b5bc-47c000afa111\",\"type\":\"BasicTickFormatter\"},\"plot\":{\"id\":\"7fbcc7a2-3be3-4f47-83e0-d1f9e68bed1a\",\"subtype\":\"Figure\",\"type\":\"Plot\"},\"ticker\":{\"id\":\"62459ac5-aac6-481d-9b72-16598237779e\",\"type\":\"BasicTicker\"}},\"id\":\"1f8ba2cd-9571-4d28-a6ae-194aa4e89ae6\",\"type\":\"LinearAxis\"},{\"attributes\":{},\"id\":\"cb4bce62-9cc0-4112-8861-19934c5406e4\",\"type\":\"LinearScale\"},{\"attributes\":{\"callback\":null},\"id\":\"81e3fced-a5af-4554-8e64-33135f99663f\",\"type\":\"DataRange1d\"},{\"attributes\":{\"children\":[{\"id\":\"7fbcc7a2-3be3-4f47-83e0-d1f9e68bed1a\",\"subtype\":\"Figure\",\"type\":\"Plot\"},{\"id\":\"d675d011-319c-427f-9083-3fd2d6402eae\",\"subtype\":\"Figure\",\"type\":\"Plot\"}]},\"id\":\"f6e7de41-f752-46e6-876b-3c3d5674aae2\",\"type\":\"Row\"},{\"attributes\":{\"callback\":null},\"id\":\"c7c6f4b8-97aa-4f65-9c5d-6e98432df05f\",\"type\":\"DataRange1d\"},{\"attributes\":{\"callback\":null,\"data\":{\"x\":{\"__ndarray__\":\"AAAAAAAAaUAAAAAAAMByQAAAAAAAAHlAAAAAAABAf0AAAAAAAMCCQAAAAAAA4IVAAAAAAAAAiUAAAAAAAECPQA==\",\"dtype\":\"float64\",\"shape\":[8]},\"y\":[5134,3700,3178,2600,2521,2164,2060,1884]},\"selected\":{\"id\":\"398e5fac-afb8-4c78-8e55-2d897481e756\",\"type\":\"Selection\"},\"selection_policy\":{\"id\":\"e3e73a0c-c8f7-42c5-98f5-e315322f1662\",\"type\":\"UnionRenderers\"}},\"id\":\"7f02b0b4-af03-4233-9bff-c2cfd75f1f5d\",\"type\":\"ColumnDataSource\"},{\"attributes\":{},\"id\":\"9bd6b2f2-e7a1-4311-b1e5-9e17bc7572e1\",\"type\":\"LinearScale\"},{\"attributes\":{\"active_drag\":\"auto\",\"active_inspect\":\"auto\",\"active_multi\":null,\"active_scroll\":\"auto\",\"active_tap\":\"auto\",\"tools\":[{\"id\":\"c4556a3c-bc12-4cf9-955f-b5dcdfab67d9\",\"type\":\"PanTool\"},{\"id\":\"a4ecd265-960d-427a-b925-a15ad2ad1a43\",\"type\":\"WheelZoomTool\"},{\"id\":\"4018271f-ca14-4912-9920-a3b8247cb345\",\"type\":\"BoxZoomTool\"},{\"id\":\"1d4695ca-05e2-49af-9469-e24eddac679d\",\"type\":\"SaveTool\"},{\"id\":\"7b978f90-ee4d-4f81-acef-76e176d9a45f\",\"type\":\"ResetTool\"},{\"id\":\"781a4f67-7659-4b1c-9d59-eec1217d30d2\",\"type\":\"HelpTool\"}]},\"id\":\"1dae22db-b1c3-4c86-b7b1-e8a8e8d38777\",\"type\":\"Toolbar\"},{\"attributes\":{\"plot\":null,\"text\":\"Number of Request vs Request Radius\"},\"id\":\"8da5b17e-5df0-49e9-b1d9-6e5f1f7c59e6\",\"type\":\"Title\"},{\"attributes\":{\"below\":[{\"id\":\"8c73d7c8-2714-45c0-80e7-288124fce1e7\",\"type\":\"LinearAxis\"}],\"left\":[{\"id\":\"464760ae-6847-4d4a-9bff-d23240fe1bdd\",\"type\":\"LinearAxis\"}],\"plot_height\":300,\"plot_width\":400,\"renderers\":[{\"id\":\"8c73d7c8-2714-45c0-80e7-288124fce1e7\",\"type\":\"LinearAxis\"},{\"id\":\"ffc75bfb-c659-4a64-9ad1-4fa418da75b5\",\"type\":\"Grid\"},{\"id\":\"464760ae-6847-4d4a-9bff-d23240fe1bdd\",\"type\":\"LinearAxis\"},{\"id\":\"cc4b47dc-34b6-4a8b-afd1-7d9762fbe453\",\"type\":\"Grid\"},{\"id\":\"ba4ede0c-53aa-49a9-b33e-5cf765c21fdf\",\"type\":\"BoxAnnotation\"},{\"id\":\"cc5f2dbe-d4fa-44df-a56a-6cfac5a3d9d5\",\"type\":\"GlyphRenderer\"},{\"id\":\"1153ab81-ae6a-4833-a371-79ed68978a7c\",\"type\":\"GlyphRenderer\"}],\"title\":{\"id\":\"efa8008b-8400-4aa6-8d8d-b38751c36f81\",\"type\":\"Title\"},\"toolbar\":{\"id\":\"b9d2f69b-81d2-4670-a0dd-756361e13be5\",\"type\":\"Toolbar\"},\"toolbar_location\":null,\"x_range\":{\"id\":\"0d98303e-8f10-44fd-9cc3-a4c59653ab2d\",\"type\":\"DataRange1d\"},\"x_scale\":{\"id\":\"9bd6b2f2-e7a1-4311-b1e5-9e17bc7572e1\",\"type\":\"LinearScale\"},\"y_range\":{\"id\":\"011eb11a-9c91-42e1-9e26-8ecf424abbe0\",\"type\":\"DataRange1d\"},\"y_scale\":{\"id\":\"9afde589-b8c8-41f0-af7a-0a9398441f0d\",\"type\":\"LinearScale\"}},\"id\":\"d675d011-319c-427f-9083-3fd2d6402eae\",\"subtype\":\"Figure\",\"type\":\"Plot\"},{\"attributes\":{\"source\":{\"id\":\"7f02b0b4-af03-4233-9bff-c2cfd75f1f5d\",\"type\":\"ColumnDataSource\"}},\"id\":\"9f7155bb-cc19-4274-8c64-4cecd3ce4c35\",\"type\":\"CDSView\"},{\"attributes\":{},\"id\":\"9afde589-b8c8-41f0-af7a-0a9398441f0d\",\"type\":\"LinearScale\"},{\"attributes\":{\"callback\":null},\"id\":\"011eb11a-9c91-42e1-9e26-8ecf424abbe0\",\"type\":\"DataRange1d\"}],\"root_ids\":[\"9186d3aa-325c-49e4-b46e-e757e0caa1cf\"]},\"title\":\"Bokeh Application\",\"version\":\"0.13.0\"}};\n",
       "  var render_items = [{\"docid\":\"d30b5ada-e4b4-435b-9ec5-871c0162dd22\",\"roots\":{\"9186d3aa-325c-49e4-b46e-e757e0caa1cf\":\"f6f7840b-edf6-4174-af2f-6d1d6e6a2106\"}}];\n",
       "  root.Bokeh.embed.embed_items_notebook(docs_json, render_items);\n",
       "\n",
       "  }\n",
       "  if (root.Bokeh !== undefined) {\n",
       "    embed_document(root);\n",
       "  } else {\n",
       "    var attempts = 0;\n",
       "    var timer = setInterval(function(root) {\n",
       "      if (root.Bokeh !== undefined) {\n",
       "        embed_document(root);\n",
       "        clearInterval(timer);\n",
       "      }\n",
       "      attempts++;\n",
       "      if (attempts > 100) {\n",
       "        console.log(\"Bokeh: ERROR: Unable to run BokehJS code because BokehJS library is missing\")\n",
       "        clearInterval(timer);\n",
       "      }\n",
       "    }, 10, root)\n",
       "  }\n",
       "})(window);"
      ],
      "application/vnd.bokehjs_exec.v0+json": ""
     },
     "metadata": {
      "application/vnd.bokehjs_exec.v0+json": {
       "id": "9186d3aa-325c-49e4-b46e-e757e0caa1cf"
      }
     },
     "output_type": "display_data"
    }
   ],
   "source": [
    "request_circles_list = [rc200_df, rc300_df, rc400_df, rc500_df, rc600_df, rc700_df, rc800_df, rc1k_df]\n",
    "\n",
    "results = summary(request_circles_list)\n",
    "print(results)\n",
    "p_reqs, p_sr_median = summary_plots(results)\n",
    "\n",
    "grid = gridplot([[p_reqs, p_sr_median]])\n",
    "show(grid)"
   ]
  },
  {
   "cell_type": "markdown",
   "metadata": {},
   "source": [
    "### Most dense Request Circles (number of Stop Regions)"
   ]
  },
  {
   "cell_type": "code",
   "execution_count": 5,
   "metadata": {},
   "outputs": [],
   "source": [
    "def row_to_geo_circle(row):\n",
    "    return GeoCircle(row[\"latitude\"], row[\"longitude\"], radius_m=row[\"radius_m\"], data=row[\"sr_ids\"])\n",
    "\n",
    "def biggest_geo_circle(request_circles):\n",
    "    rc_max_len_sr_ids = request_circles.iloc[0]\n",
    "\n",
    "    for index, rc in request_circles.iterrows():\n",
    "        if len(rc[\"sr_ids\"]) > len(rc_max_len_sr_ids[\"sr_ids\"]):\n",
    "            rc_max_len_sr_ids = rc\n",
    "            \n",
    "    return rc_max_len_sr_ids"
   ]
  },
  {
   "cell_type": "code",
   "execution_count": 6,
   "metadata": {},
   "outputs": [
    {
     "name": "stdout",
     "output_type": "stream",
     "text": [
      "Greatest Request Circle for each radius\n",
      "200m  - 767 Stop Regions\n",
      "300m  - 1017 Stop Regions\n",
      "400m  - 1415 Stop Regions\n",
      "500m  - 1652 Stop Regions\n",
      "600m  - 1801 Stop Regions\n",
      "700m  - 2476 Stop Regions\n",
      "800m  - 2631 Stop Regions\n",
      "1000m  - 2866 Stop Regions\n"
     ]
    }
   ],
   "source": [
    "print(\"Greatest Request Circle for each radius\")\n",
    "biggests = {}\n",
    "for rc in request_circles_list:\n",
    "    big_rc = biggest_geo_circle(rc)\n",
    "    print(\"{}m  - {} Stop Regions\".format(big_rc[\"radius_m\"], len(big_rc[\"sr_ids\"])))\n",
    "    biggests[big_rc[\"radius_m\"]] = big_rc\n"
   ]
  },
  {
   "cell_type": "code",
   "execution_count": 7,
   "metadata": {},
   "outputs": [
    {
     "data": {
      "text/html": [
       "\n",
       "\n",
       "\n",
       "\n",
       "\n",
       "\n",
       "  <div class=\"bk-root\" id=\"d43a777e-0d45-429e-b834-919dddd6c15e\"></div>\n"
      ]
     },
     "metadata": {},
     "output_type": "display_data"
    },
    {
     "data": {
      "application/javascript": [
       "(function(root) {\n",
       "  function embed_document(root) {\n",
       "    \n",
       "  var docs_json = {\"e38d4b55-daeb-456d-a93d-8151d4f4f31f\":{\"roots\":{\"references\":[{\"attributes\":{\"callback\":null},\"id\":\"00f7b02e-91db-4ddd-afcb-54c115b84044\",\"type\":\"DataRange1d\"},{\"attributes\":{\"plot\":{\"id\":\"11ab40d5-b1f3-417d-a0cc-3c440d609bb6\",\"subtype\":\"Figure\",\"type\":\"Plot\"},\"ticker\":{\"id\":\"8a564e2a-8002-4eaa-90fd-c58d305c136a\",\"type\":\"MercatorTicker\"}},\"id\":\"98153a83-0323-4e1f-a801-6f1f6b69cb14\",\"type\":\"Grid\"},{\"attributes\":{\"callback\":null},\"id\":\"fda11d32-a7d8-4e37-b276-a65636993e97\",\"type\":\"DataRange1d\"},{\"attributes\":{},\"id\":\"b3898337-6829-4562-9846-c89b5f025b79\",\"type\":\"LinearScale\"},{\"attributes\":{},\"id\":\"d9dd238c-7bf2-4c98-9fa0-2a2862b72ea9\",\"type\":\"LinearScale\"},{\"attributes\":{\"dimension\":\"lon\"},\"id\":\"3fc438e2-39c0-4e45-b97e-925fc6287b56\",\"type\":\"MercatorTickFormatter\"},{\"attributes\":{\"formatter\":{\"id\":\"3fc438e2-39c0-4e45-b97e-925fc6287b56\",\"type\":\"MercatorTickFormatter\"},\"plot\":{\"id\":\"11ab40d5-b1f3-417d-a0cc-3c440d609bb6\",\"subtype\":\"Figure\",\"type\":\"Plot\"},\"ticker\":{\"id\":\"8a564e2a-8002-4eaa-90fd-c58d305c136a\",\"type\":\"MercatorTicker\"}},\"id\":\"4409c1d6-6a87-43ff-88df-58a53aa3ac86\",\"type\":\"MercatorAxis\"},{\"attributes\":{\"dimension\":\"lon\"},\"id\":\"8a564e2a-8002-4eaa-90fd-c58d305c136a\",\"type\":\"MercatorTicker\"},{\"attributes\":{\"dimension\":\"lat\"},\"id\":\"004ea01b-4945-44b6-a038-3a3a5c55cace\",\"type\":\"MercatorTickFormatter\"},{\"attributes\":{\"dimension\":1,\"plot\":{\"id\":\"11ab40d5-b1f3-417d-a0cc-3c440d609bb6\",\"subtype\":\"Figure\",\"type\":\"Plot\"},\"ticker\":{\"id\":\"7dcbcd74-4651-4166-a8ab-3317009bce77\",\"type\":\"MercatorTicker\"}},\"id\":\"28d4e757-0fbd-4e0b-9b7f-b1128a511e0f\",\"type\":\"Grid\"},{\"attributes\":{},\"id\":\"443c524f-83eb-46e2-ae1e-2b132e32dba7\",\"type\":\"UnionRenderers\"},{\"attributes\":{\"fill_alpha\":{\"value\":0.1},\"fill_color\":{\"value\":\"#1f77b4\"},\"line_alpha\":{\"value\":0.1},\"line_color\":{\"value\":\"#1f77b4\"},\"x\":{\"value\":787223.9207119074},\"y\":{\"value\":5796723.371335718}},\"id\":\"4ca2583b-ce43-4440-8fdb-c10a59ceafc2\",\"type\":\"Circle\"},{\"attributes\":{\"data_source\":{\"id\":\"71a4d00a-0760-44cc-8c7e-78f4cca62ba3\",\"type\":\"ColumnDataSource\"},\"glyph\":{\"id\":\"2023286d-bdec-4fd1-8151-1e8151cde801\",\"type\":\"Circle\"},\"hover_glyph\":null,\"muted_glyph\":null,\"nonselection_glyph\":{\"id\":\"4ca2583b-ce43-4440-8fdb-c10a59ceafc2\",\"type\":\"Circle\"},\"selection_glyph\":null,\"view\":{\"id\":\"552dd067-c921-4575-879d-0f97535e4c0c\",\"type\":\"CDSView\"}},\"id\":\"0073d8bb-34bf-42bc-a6b3-7dd49dd71079\",\"type\":\"GlyphRenderer\"},{\"attributes\":{},\"id\":\"c040aeba-3c51-4aba-82e2-f87bdfc10526\",\"type\":\"PanTool\"},{\"attributes\":{\"source\":{\"id\":\"71a4d00a-0760-44cc-8c7e-78f4cca62ba3\",\"type\":\"ColumnDataSource\"}},\"id\":\"552dd067-c921-4575-879d-0f97535e4c0c\",\"type\":\"CDSView\"},{\"attributes\":{},\"id\":\"7609998b-d358-4518-a56c-a4737c32bf8b\",\"type\":\"WheelZoomTool\"},{\"attributes\":{},\"id\":\"6be3698b-e5cb-408b-b987-cddcd98bb162\",\"type\":\"ResetTool\"},{\"attributes\":{\"fill_alpha\":{\"value\":0.3},\"fill_color\":{\"value\":\"#003fff\"},\"line_alpha\":{\"value\":0.3},\"line_color\":{\"value\":\"firebrick\"},\"line_dash\":[6,3],\"size\":{\"units\":\"screen\",\"value\":20},\"x\":{\"value\":787223.9207119074},\"y\":{\"value\":5796723.371335718}},\"id\":\"2023286d-bdec-4fd1-8151-1e8151cde801\",\"type\":\"Circle\"},{\"attributes\":{\"callback\":null,\"data\":{},\"selected\":{\"id\":\"d83e7c4b-b557-4ed7-8450-41ff6d799bc8\",\"type\":\"Selection\"},\"selection_policy\":{\"id\":\"544c8d11-9b6e-43c9-984a-b3f3995c6b11\",\"type\":\"UnionRenderers\"}},\"id\":\"7772a995-c642-45e7-90df-ba889153fcae\",\"type\":\"ColumnDataSource\"},{\"attributes\":{\"fill_color\":{\"value\":\"#003fff\"},\"line_color\":{\"value\":\"#003fff\"},\"size\":{\"units\":\"screen\",\"value\":3},\"x\":{\"value\":787223.9207119074},\"y\":{\"value\":5796723.371335718}},\"id\":\"93cbe97d-8880-41e8-9587-cef479a19819\",\"type\":\"Circle\"},{\"attributes\":{\"fill_alpha\":{\"value\":0.1},\"fill_color\":{\"value\":\"#1f77b4\"},\"line_alpha\":{\"value\":0.1},\"line_color\":{\"value\":\"#1f77b4\"},\"size\":{\"units\":\"screen\",\"value\":3},\"x\":{\"value\":787223.9207119074},\"y\":{\"value\":5796723.371335718}},\"id\":\"20c307c9-bf3d-4e0e-811e-4eac968ebed7\",\"type\":\"Circle\"},{\"attributes\":{\"data_source\":{\"id\":\"7772a995-c642-45e7-90df-ba889153fcae\",\"type\":\"ColumnDataSource\"},\"glyph\":{\"id\":\"93cbe97d-8880-41e8-9587-cef479a19819\",\"type\":\"Circle\"},\"hover_glyph\":null,\"muted_glyph\":null,\"nonselection_glyph\":{\"id\":\"20c307c9-bf3d-4e0e-811e-4eac968ebed7\",\"type\":\"Circle\"},\"selection_glyph\":null,\"view\":{\"id\":\"6a033e39-a46f-4670-950c-18160c707741\",\"type\":\"CDSView\"}},\"id\":\"2a3ccb6c-6df0-4b55-83d5-f7263ff7efae\",\"type\":\"GlyphRenderer\"},{\"attributes\":{\"source\":{\"id\":\"7772a995-c642-45e7-90df-ba889153fcae\",\"type\":\"ColumnDataSource\"}},\"id\":\"6a033e39-a46f-4670-950c-18160c707741\",\"type\":\"CDSView\"},{\"attributes\":{},\"id\":\"d83e7c4b-b557-4ed7-8450-41ff6d799bc8\",\"type\":\"Selection\"},{\"attributes\":{\"items\":[{\"id\":\"af69b205-abb8-438a-be7c-b2a76093e543\",\"type\":\"LegendItem\"},{\"id\":\"275baaed-3fa8-4573-bc0f-e58c03319d36\",\"type\":\"LegendItem\"},{\"id\":\"d2b53259-726d-46dc-a3a3-d91e88f6ce86\",\"type\":\"LegendItem\"},{\"id\":\"87f59563-3aed-4d16-830a-2ceb35aed713\",\"type\":\"LegendItem\"},{\"id\":\"b7a0b4ea-8ad4-44b1-8829-5fa5995cf912\",\"type\":\"LegendItem\"},{\"id\":\"479b8c9b-ec81-4fe2-9379-ce9aaa8e85dd\",\"type\":\"LegendItem\"},{\"id\":\"c38278b0-b720-4f3b-b4da-4a2c83c6c1ac\",\"type\":\"LegendItem\"},{\"id\":\"f5e9969d-4ed8-4beb-ac5e-c2c02e4ee89e\",\"type\":\"LegendItem\"}],\"plot\":{\"id\":\"11ab40d5-b1f3-417d-a0cc-3c440d609bb6\",\"subtype\":\"Figure\",\"type\":\"Plot\"}},\"id\":\"f552c09d-bc72-4360-9dc2-ee7b5c9b1a36\",\"type\":\"Legend\"},{\"attributes\":{\"label\":{\"value\":\"200m\"},\"renderers\":[{\"id\":\"2a3ccb6c-6df0-4b55-83d5-f7263ff7efae\",\"type\":\"GlyphRenderer\"}]},\"id\":\"af69b205-abb8-438a-be7c-b2a76093e543\",\"type\":\"LegendItem\"},{\"attributes\":{},\"id\":\"544c8d11-9b6e-43c9-984a-b3f3995c6b11\",\"type\":\"UnionRenderers\"},{\"attributes\":{\"callback\":null,\"data\":{},\"selected\":{\"id\":\"add0c20c-bdb2-4a03-87c4-5864dcc227c1\",\"type\":\"Selection\"},\"selection_policy\":{\"id\":\"7e2f8fa6-849d-4921-abc4-7534df8d9d6c\",\"type\":\"UnionRenderers\"}},\"id\":\"f71b3fed-0fe6-44b2-bc44-0bca63a4af7f\",\"type\":\"ColumnDataSource\"},{\"attributes\":{\"fill_alpha\":{\"value\":0.3},\"fill_color\":{\"value\":\"#003fff\"},\"line_alpha\":{\"value\":0.3},\"line_color\":{\"value\":\"firebrick\"},\"line_dash\":[6,3],\"size\":{\"units\":\"screen\",\"value\":20},\"x\":{\"value\":787223.9207119074},\"y\":{\"value\":5796723.371335718}},\"id\":\"6b584575-3c8a-4a8c-98a6-b32773d653c9\",\"type\":\"Circle\"},{\"attributes\":{\"fill_alpha\":{\"value\":0.1},\"fill_color\":{\"value\":\"#1f77b4\"},\"line_alpha\":{\"value\":0.1},\"line_color\":{\"value\":\"#1f77b4\"},\"x\":{\"value\":787223.9207119074},\"y\":{\"value\":5796723.371335718}},\"id\":\"ef91896b-0704-4b6e-9e55-9a40e3db44f3\",\"type\":\"Circle\"},{\"attributes\":{\"data_source\":{\"id\":\"f71b3fed-0fe6-44b2-bc44-0bca63a4af7f\",\"type\":\"ColumnDataSource\"},\"glyph\":{\"id\":\"6b584575-3c8a-4a8c-98a6-b32773d653c9\",\"type\":\"Circle\"},\"hover_glyph\":null,\"muted_glyph\":null,\"nonselection_glyph\":{\"id\":\"ef91896b-0704-4b6e-9e55-9a40e3db44f3\",\"type\":\"Circle\"},\"selection_glyph\":null,\"view\":{\"id\":\"7295284d-b559-4c88-80ce-13916c9ca41e\",\"type\":\"CDSView\"}},\"id\":\"20dbb4cd-822e-4455-97c1-88c4a115d385\",\"type\":\"GlyphRenderer\"},{\"attributes\":{\"source\":{\"id\":\"f71b3fed-0fe6-44b2-bc44-0bca63a4af7f\",\"type\":\"ColumnDataSource\"}},\"id\":\"7295284d-b559-4c88-80ce-13916c9ca41e\",\"type\":\"CDSView\"},{\"attributes\":{\"callback\":null,\"data\":{},\"selected\":{\"id\":\"661b0973-3b5a-467b-9b62-9171d7dc0908\",\"type\":\"Selection\"},\"selection_policy\":{\"id\":\"57c89e8c-3b01-44da-a109-a828904e003f\",\"type\":\"UnionRenderers\"}},\"id\":\"d1e85ee6-e9df-447e-8a02-e049aeb8a707\",\"type\":\"ColumnDataSource\"},{\"attributes\":{\"fill_color\":{\"value\":\"#003fff\"},\"line_color\":{\"value\":\"#003fff\"},\"size\":{\"units\":\"screen\",\"value\":3},\"x\":{\"value\":787223.9207119074},\"y\":{\"value\":5796723.371335718}},\"id\":\"8326e7d4-f7d6-4cca-a216-590596f0bf75\",\"type\":\"Circle\"},{\"attributes\":{\"fill_alpha\":{\"value\":0.1},\"fill_color\":{\"value\":\"#1f77b4\"},\"line_alpha\":{\"value\":0.1},\"line_color\":{\"value\":\"#1f77b4\"},\"size\":{\"units\":\"screen\",\"value\":3},\"x\":{\"value\":787223.9207119074},\"y\":{\"value\":5796723.371335718}},\"id\":\"38627ef8-4bae-418d-88b4-6669bf44aaf5\",\"type\":\"Circle\"},{\"attributes\":{\"data_source\":{\"id\":\"d1e85ee6-e9df-447e-8a02-e049aeb8a707\",\"type\":\"ColumnDataSource\"},\"glyph\":{\"id\":\"8326e7d4-f7d6-4cca-a216-590596f0bf75\",\"type\":\"Circle\"},\"hover_glyph\":null,\"muted_glyph\":null,\"nonselection_glyph\":{\"id\":\"38627ef8-4bae-418d-88b4-6669bf44aaf5\",\"type\":\"Circle\"},\"selection_glyph\":null,\"view\":{\"id\":\"f6110daf-5aae-4734-91c2-148794f2c0ef\",\"type\":\"CDSView\"}},\"id\":\"42a53117-b988-46ed-b0e3-ce3f4698b79f\",\"type\":\"GlyphRenderer\"},{\"attributes\":{\"source\":{\"id\":\"d1e85ee6-e9df-447e-8a02-e049aeb8a707\",\"type\":\"ColumnDataSource\"}},\"id\":\"f6110daf-5aae-4734-91c2-148794f2c0ef\",\"type\":\"CDSView\"},{\"attributes\":{},\"id\":\"fec2216c-7f4e-411b-8134-831795cbd91f\",\"type\":\"UnionRenderers\"},{\"attributes\":{},\"id\":\"add0c20c-bdb2-4a03-87c4-5864dcc227c1\",\"type\":\"Selection\"},{\"attributes\":{},\"id\":\"7e2f8fa6-849d-4921-abc4-7534df8d9d6c\",\"type\":\"UnionRenderers\"},{\"attributes\":{\"label\":{\"value\":\"300m\"},\"renderers\":[{\"id\":\"42a53117-b988-46ed-b0e3-ce3f4698b79f\",\"type\":\"GlyphRenderer\"}]},\"id\":\"275baaed-3fa8-4573-bc0f-e58c03319d36\",\"type\":\"LegendItem\"},{\"attributes\":{\"callback\":null,\"data\":{},\"selected\":{\"id\":\"c481cef0-2170-4088-8c3a-1479dfdea7ec\",\"type\":\"Selection\"},\"selection_policy\":{\"id\":\"fd070680-c44e-4c1d-ae74-6dfe75417b33\",\"type\":\"UnionRenderers\"}},\"id\":\"c2234f34-b09c-4b31-954b-4f23352f2b88\",\"type\":\"ColumnDataSource\"},{\"attributes\":{\"fill_alpha\":{\"value\":0.3},\"fill_color\":{\"value\":\"#03ed3a\"},\"line_alpha\":{\"value\":0.3},\"line_color\":{\"value\":\"firebrick\"},\"line_dash\":[6,3],\"size\":{\"units\":\"screen\",\"value\":20},\"x\":{\"value\":738149.9222656357},\"y\":{\"value\":5864412.218489253}},\"id\":\"919ffa76-f0be-4d0d-8659-38ad19bd3cc8\",\"type\":\"Circle\"},{\"attributes\":{\"fill_alpha\":{\"value\":0.1},\"fill_color\":{\"value\":\"#1f77b4\"},\"line_alpha\":{\"value\":0.1},\"line_color\":{\"value\":\"#1f77b4\"},\"x\":{\"value\":738149.9222656357},\"y\":{\"value\":5864412.218489253}},\"id\":\"5191baea-18ad-450a-b154-69543e4a098c\",\"type\":\"Circle\"},{\"attributes\":{\"data_source\":{\"id\":\"c2234f34-b09c-4b31-954b-4f23352f2b88\",\"type\":\"ColumnDataSource\"},\"glyph\":{\"id\":\"919ffa76-f0be-4d0d-8659-38ad19bd3cc8\",\"type\":\"Circle\"},\"hover_glyph\":null,\"muted_glyph\":null,\"nonselection_glyph\":{\"id\":\"5191baea-18ad-450a-b154-69543e4a098c\",\"type\":\"Circle\"},\"selection_glyph\":null,\"view\":{\"id\":\"c0362fcd-79b8-4354-a8e2-fd73b99a8037\",\"type\":\"CDSView\"}},\"id\":\"55b3cd37-b850-46dd-9fcb-06061a650e15\",\"type\":\"GlyphRenderer\"},{\"attributes\":{\"source\":{\"id\":\"c2234f34-b09c-4b31-954b-4f23352f2b88\",\"type\":\"ColumnDataSource\"}},\"id\":\"c0362fcd-79b8-4354-a8e2-fd73b99a8037\",\"type\":\"CDSView\"},{\"attributes\":{\"callback\":null,\"data\":{},\"selected\":{\"id\":\"526cae47-af2b-4e43-a5f9-b14cb11e9f3c\",\"type\":\"Selection\"},\"selection_policy\":{\"id\":\"fec2216c-7f4e-411b-8134-831795cbd91f\",\"type\":\"UnionRenderers\"}},\"id\":\"5b8fb3a1-9eb8-465b-85db-14a81d8c6dce\",\"type\":\"ColumnDataSource\"},{\"attributes\":{\"fill_color\":{\"value\":\"#03ed3a\"},\"line_color\":{\"value\":\"#03ed3a\"},\"size\":{\"units\":\"screen\",\"value\":3},\"x\":{\"value\":738149.9222656357},\"y\":{\"value\":5864412.218489253}},\"id\":\"cafca45c-54cb-4946-a2c1-7101089a24fd\",\"type\":\"Circle\"},{\"attributes\":{\"fill_alpha\":{\"value\":0.1},\"fill_color\":{\"value\":\"#1f77b4\"},\"line_alpha\":{\"value\":0.1},\"line_color\":{\"value\":\"#1f77b4\"},\"size\":{\"units\":\"screen\",\"value\":3},\"x\":{\"value\":738149.9222656357},\"y\":{\"value\":5864412.218489253}},\"id\":\"ca5655fa-ae9f-424b-aad8-e91a3ad1c092\",\"type\":\"Circle\"},{\"attributes\":{\"data_source\":{\"id\":\"5b8fb3a1-9eb8-465b-85db-14a81d8c6dce\",\"type\":\"ColumnDataSource\"},\"glyph\":{\"id\":\"cafca45c-54cb-4946-a2c1-7101089a24fd\",\"type\":\"Circle\"},\"hover_glyph\":null,\"muted_glyph\":null,\"nonselection_glyph\":{\"id\":\"ca5655fa-ae9f-424b-aad8-e91a3ad1c092\",\"type\":\"Circle\"},\"selection_glyph\":null,\"view\":{\"id\":\"e49c55b3-d7e0-4a66-8b71-a3070178a349\",\"type\":\"CDSView\"}},\"id\":\"ca6abe74-5ec4-44c4-915f-d81d156dd548\",\"type\":\"GlyphRenderer\"},{\"attributes\":{\"attribution\":\"&copy; <a href=\\\"https://www.openstreetmap.org/copyright\\\">OpenStreetMap</a> contributors,&copy; <a href=\\\"https://cartodb.com/attributions\\\">CartoDB</a>\",\"url\":\"https://tiles.basemaps.cartocdn.com/light_all/{z}/{x}/{y}.png\"},\"id\":\"d58afdcd-a530-4ac0-94f0-5ff57ad291a7\",\"type\":\"WMTSTileSource\"},{\"attributes\":{\"source\":{\"id\":\"5b8fb3a1-9eb8-465b-85db-14a81d8c6dce\",\"type\":\"ColumnDataSource\"}},\"id\":\"e49c55b3-d7e0-4a66-8b71-a3070178a349\",\"type\":\"CDSView\"},{\"attributes\":{},\"id\":\"661b0973-3b5a-467b-9b62-9171d7dc0908\",\"type\":\"Selection\"},{\"attributes\":{},\"id\":\"57c89e8c-3b01-44da-a109-a828904e003f\",\"type\":\"UnionRenderers\"},{\"attributes\":{},\"id\":\"c481cef0-2170-4088-8c3a-1479dfdea7ec\",\"type\":\"Selection\"},{\"attributes\":{},\"id\":\"fd070680-c44e-4c1d-ae74-6dfe75417b33\",\"type\":\"UnionRenderers\"},{\"attributes\":{\"label\":{\"value\":\"400m\"},\"renderers\":[{\"id\":\"ca6abe74-5ec4-44c4-915f-d81d156dd548\",\"type\":\"GlyphRenderer\"}]},\"id\":\"d2b53259-726d-46dc-a3a3-d91e88f6ce86\",\"type\":\"LegendItem\"},{\"attributes\":{\"callback\":null,\"data\":{},\"selected\":{\"id\":\"cdf401b4-1d21-44bb-9d5d-b320fe094b1b\",\"type\":\"Selection\"},\"selection_policy\":{\"id\":\"6fa5a798-9766-43ee-92a2-104f44553a27\",\"type\":\"UnionRenderers\"}},\"id\":\"9e475fd3-a8f0-486e-9f66-deb85cc46861\",\"type\":\"ColumnDataSource\"},{\"attributes\":{\"fill_alpha\":{\"value\":0.3},\"fill_color\":{\"value\":\"#e8000b\"},\"line_alpha\":{\"value\":0.3},\"line_color\":{\"value\":\"firebrick\"},\"line_dash\":[6,3],\"size\":{\"units\":\"screen\",\"value\":20},\"x\":{\"value\":738010.6536312606},\"y\":{\"value\":5864606.650302412}},\"id\":\"a2c2d15a-0fcf-408b-8169-8e5cb5a5e9d9\",\"type\":\"Circle\"},{\"attributes\":{\"fill_alpha\":{\"value\":0.1},\"fill_color\":{\"value\":\"#1f77b4\"},\"line_alpha\":{\"value\":0.1},\"line_color\":{\"value\":\"#1f77b4\"},\"x\":{\"value\":738010.6536312606},\"y\":{\"value\":5864606.650302412}},\"id\":\"9a9f83f8-40bf-472d-b0d3-175994b669f6\",\"type\":\"Circle\"},{\"attributes\":{\"data_source\":{\"id\":\"9e475fd3-a8f0-486e-9f66-deb85cc46861\",\"type\":\"ColumnDataSource\"},\"glyph\":{\"id\":\"a2c2d15a-0fcf-408b-8169-8e5cb5a5e9d9\",\"type\":\"Circle\"},\"hover_glyph\":null,\"muted_glyph\":null,\"nonselection_glyph\":{\"id\":\"9a9f83f8-40bf-472d-b0d3-175994b669f6\",\"type\":\"Circle\"},\"selection_glyph\":null,\"view\":{\"id\":\"e40b2276-1386-4e38-af21-f2cf46038cd4\",\"type\":\"CDSView\"}},\"id\":\"523299f9-a6b4-4383-b465-d427621bfda1\",\"type\":\"GlyphRenderer\"},{\"attributes\":{},\"id\":\"362f4221-2779-4ddc-8425-84c3dc9cc371\",\"type\":\"Selection\"},{\"attributes\":{\"source\":{\"id\":\"9e475fd3-a8f0-486e-9f66-deb85cc46861\",\"type\":\"ColumnDataSource\"}},\"id\":\"e40b2276-1386-4e38-af21-f2cf46038cd4\",\"type\":\"CDSView\"},{\"attributes\":{\"callback\":null,\"data\":{},\"selected\":{\"id\":\"20389a60-e982-41ca-af72-3fa5e3a5c4b0\",\"type\":\"Selection\"},\"selection_policy\":{\"id\":\"304bfebb-304b-41d8-b6bf-212cf81ea48f\",\"type\":\"UnionRenderers\"}},\"id\":\"c027228d-bf7c-4f1f-ba74-4a7fab83cf8d\",\"type\":\"ColumnDataSource\"},{\"attributes\":{\"fill_color\":{\"value\":\"#e8000b\"},\"line_color\":{\"value\":\"#e8000b\"},\"size\":{\"units\":\"screen\",\"value\":3},\"x\":{\"value\":738010.6536312606},\"y\":{\"value\":5864606.650302412}},\"id\":\"5c42118e-54c9-43be-8505-25cc46bdee8a\",\"type\":\"Circle\"},{\"attributes\":{\"fill_alpha\":{\"value\":0.1},\"fill_color\":{\"value\":\"#1f77b4\"},\"line_alpha\":{\"value\":0.1},\"line_color\":{\"value\":\"#1f77b4\"},\"size\":{\"units\":\"screen\",\"value\":3},\"x\":{\"value\":738010.6536312606},\"y\":{\"value\":5864606.650302412}},\"id\":\"347a9fc4-6779-4741-8547-1f99a8c74c1d\",\"type\":\"Circle\"},{\"attributes\":{\"data_source\":{\"id\":\"c027228d-bf7c-4f1f-ba74-4a7fab83cf8d\",\"type\":\"ColumnDataSource\"},\"glyph\":{\"id\":\"5c42118e-54c9-43be-8505-25cc46bdee8a\",\"type\":\"Circle\"},\"hover_glyph\":null,\"muted_glyph\":null,\"nonselection_glyph\":{\"id\":\"347a9fc4-6779-4741-8547-1f99a8c74c1d\",\"type\":\"Circle\"},\"selection_glyph\":null,\"view\":{\"id\":\"4d168f67-2366-4905-951b-1737268f0016\",\"type\":\"CDSView\"}},\"id\":\"5cadded4-9966-46dd-ad52-98f194137358\",\"type\":\"GlyphRenderer\"},{\"attributes\":{\"source\":{\"id\":\"c027228d-bf7c-4f1f-ba74-4a7fab83cf8d\",\"type\":\"ColumnDataSource\"}},\"id\":\"4d168f67-2366-4905-951b-1737268f0016\",\"type\":\"CDSView\"},{\"attributes\":{},\"id\":\"526cae47-af2b-4e43-a5f9-b14cb11e9f3c\",\"type\":\"Selection\"},{\"attributes\":{},\"id\":\"cdf401b4-1d21-44bb-9d5d-b320fe094b1b\",\"type\":\"Selection\"},{\"attributes\":{\"callback\":null,\"data\":{},\"selected\":{\"id\":\"40245a95-3524-4192-93e9-9931a1c15ed1\",\"type\":\"Selection\"},\"selection_policy\":{\"id\":\"7ee6ff1d-5e02-4ffb-a5f9-dbb975d2c3e3\",\"type\":\"UnionRenderers\"}},\"id\":\"0cf5b3e9-8bbf-45db-aa26-53f6e511a79d\",\"type\":\"ColumnDataSource\"},{\"attributes\":{},\"id\":\"6fa5a798-9766-43ee-92a2-104f44553a27\",\"type\":\"UnionRenderers\"},{\"attributes\":{\"label\":{\"value\":\"500m\"},\"renderers\":[{\"id\":\"5cadded4-9966-46dd-ad52-98f194137358\",\"type\":\"GlyphRenderer\"}]},\"id\":\"87f59563-3aed-4d16-830a-2ceb35aed713\",\"type\":\"LegendItem\"},{\"attributes\":{\"callback\":null,\"data\":{},\"selected\":{\"id\":\"8b864a76-3bbc-4ea0-a3cb-a2fe5be00f12\",\"type\":\"Selection\"},\"selection_policy\":{\"id\":\"6e69dafd-9184-411d-a773-a0962ba73ade\",\"type\":\"UnionRenderers\"}},\"id\":\"3653cc5c-e555-4df5-b6bb-cf1f8a75fe55\",\"type\":\"ColumnDataSource\"},{\"attributes\":{\"fill_alpha\":{\"value\":0.3},\"fill_color\":{\"value\":\"#8a2be2\"},\"line_alpha\":{\"value\":0.3},\"line_color\":{\"value\":\"firebrick\"},\"line_dash\":[6,3],\"size\":{\"units\":\"screen\",\"value\":20},\"x\":{\"value\":737884.1390299738},\"y\":{\"value\":5863835.362009203}},\"id\":\"b9c3c6fb-09ae-4676-b765-2fcaff87fb70\",\"type\":\"Circle\"},{\"attributes\":{\"fill_alpha\":{\"value\":0.1},\"fill_color\":{\"value\":\"#1f77b4\"},\"line_alpha\":{\"value\":0.1},\"line_color\":{\"value\":\"#1f77b4\"},\"x\":{\"value\":737884.1390299738},\"y\":{\"value\":5863835.362009203}},\"id\":\"f860d5b1-4373-4d72-be5c-832073ba93a0\",\"type\":\"Circle\"},{\"attributes\":{\"data_source\":{\"id\":\"3653cc5c-e555-4df5-b6bb-cf1f8a75fe55\",\"type\":\"ColumnDataSource\"},\"glyph\":{\"id\":\"b9c3c6fb-09ae-4676-b765-2fcaff87fb70\",\"type\":\"Circle\"},\"hover_glyph\":null,\"muted_glyph\":null,\"nonselection_glyph\":{\"id\":\"f860d5b1-4373-4d72-be5c-832073ba93a0\",\"type\":\"Circle\"},\"selection_glyph\":null,\"view\":{\"id\":\"8e7c0619-6f73-452c-b0c5-80e6f02880c0\",\"type\":\"CDSView\"}},\"id\":\"48d37d85-3775-4c20-85f4-146bb8c80b7d\",\"type\":\"GlyphRenderer\"},{\"attributes\":{\"source\":{\"id\":\"3653cc5c-e555-4df5-b6bb-cf1f8a75fe55\",\"type\":\"ColumnDataSource\"}},\"id\":\"8e7c0619-6f73-452c-b0c5-80e6f02880c0\",\"type\":\"CDSView\"},{\"attributes\":{\"callback\":null,\"data\":{},\"selected\":{\"id\":\"d9a36ec1-f25f-4d4d-a463-9efcbd0aaf1f\",\"type\":\"Selection\"},\"selection_policy\":{\"id\":\"4566ccbb-06f6-454a-8f52-e569c2a065a8\",\"type\":\"UnionRenderers\"}},\"id\":\"c5e95cc9-7dc2-40d0-923e-a2c457557c5d\",\"type\":\"ColumnDataSource\"},{\"attributes\":{\"fill_color\":{\"value\":\"#8a2be2\"},\"line_color\":{\"value\":\"#8a2be2\"},\"size\":{\"units\":\"screen\",\"value\":3},\"x\":{\"value\":737884.1390299738},\"y\":{\"value\":5863835.362009203}},\"id\":\"91f33648-0e29-421b-90ed-2527f1a9e358\",\"type\":\"Circle\"},{\"attributes\":{\"fill_alpha\":{\"value\":0.1},\"fill_color\":{\"value\":\"#1f77b4\"},\"line_alpha\":{\"value\":0.1},\"line_color\":{\"value\":\"#1f77b4\"},\"size\":{\"units\":\"screen\",\"value\":3},\"x\":{\"value\":737884.1390299738},\"y\":{\"value\":5863835.362009203}},\"id\":\"9a82994b-1584-4ae8-ac98-35ca27573823\",\"type\":\"Circle\"},{\"attributes\":{\"data_source\":{\"id\":\"c5e95cc9-7dc2-40d0-923e-a2c457557c5d\",\"type\":\"ColumnDataSource\"},\"glyph\":{\"id\":\"91f33648-0e29-421b-90ed-2527f1a9e358\",\"type\":\"Circle\"},\"hover_glyph\":null,\"muted_glyph\":null,\"nonselection_glyph\":{\"id\":\"9a82994b-1584-4ae8-ac98-35ca27573823\",\"type\":\"Circle\"},\"selection_glyph\":null,\"view\":{\"id\":\"377652b0-318d-4336-aa5f-e729c664b362\",\"type\":\"CDSView\"}},\"id\":\"d18e27d5-7bd4-45b7-8040-00e3614c1d22\",\"type\":\"GlyphRenderer\"},{\"attributes\":{\"callback\":null,\"data\":{},\"selected\":{\"id\":\"362f4221-2779-4ddc-8425-84c3dc9cc371\",\"type\":\"Selection\"},\"selection_policy\":{\"id\":\"443c524f-83eb-46e2-ae1e-2b132e32dba7\",\"type\":\"UnionRenderers\"}},\"id\":\"71a4d00a-0760-44cc-8c7e-78f4cca62ba3\",\"type\":\"ColumnDataSource\"},{\"attributes\":{\"source\":{\"id\":\"c5e95cc9-7dc2-40d0-923e-a2c457557c5d\",\"type\":\"ColumnDataSource\"}},\"id\":\"377652b0-318d-4336-aa5f-e729c664b362\",\"type\":\"CDSView\"},{\"attributes\":{},\"id\":\"20389a60-e982-41ca-af72-3fa5e3a5c4b0\",\"type\":\"Selection\"},{\"attributes\":{},\"id\":\"304bfebb-304b-41d8-b6bf-212cf81ea48f\",\"type\":\"UnionRenderers\"},{\"attributes\":{},\"id\":\"8b864a76-3bbc-4ea0-a3cb-a2fe5be00f12\",\"type\":\"Selection\"},{\"attributes\":{},\"id\":\"6e69dafd-9184-411d-a773-a0962ba73ade\",\"type\":\"UnionRenderers\"},{\"attributes\":{\"label\":{\"value\":\"600m\"},\"renderers\":[{\"id\":\"d18e27d5-7bd4-45b7-8040-00e3614c1d22\",\"type\":\"GlyphRenderer\"}]},\"id\":\"b7a0b4ea-8ad4-44b1-8829-5fa5995cf912\",\"type\":\"LegendItem\"},{\"attributes\":{\"fill_alpha\":{\"value\":0.3},\"fill_color\":{\"value\":\"#ffc400\"},\"line_alpha\":{\"value\":0.3},\"line_color\":{\"value\":\"firebrick\"},\"line_dash\":[6,3],\"size\":{\"units\":\"screen\",\"value\":20},\"x\":{\"value\":737884.1390299738},\"y\":{\"value\":5863835.362009203}},\"id\":\"34da586d-c3c8-4281-a5e6-311eb1f8ad3c\",\"type\":\"Circle\"},{\"attributes\":{\"fill_alpha\":{\"value\":0.1},\"fill_color\":{\"value\":\"#1f77b4\"},\"line_alpha\":{\"value\":0.1},\"line_color\":{\"value\":\"#1f77b4\"},\"x\":{\"value\":737884.1390299738},\"y\":{\"value\":5863835.362009203}},\"id\":\"cd2875f7-54cb-4ffe-bee9-65b476c04ae3\",\"type\":\"Circle\"},{\"attributes\":{\"data_source\":{\"id\":\"0cf5b3e9-8bbf-45db-aa26-53f6e511a79d\",\"type\":\"ColumnDataSource\"},\"glyph\":{\"id\":\"34da586d-c3c8-4281-a5e6-311eb1f8ad3c\",\"type\":\"Circle\"},\"hover_glyph\":null,\"muted_glyph\":null,\"nonselection_glyph\":{\"id\":\"cd2875f7-54cb-4ffe-bee9-65b476c04ae3\",\"type\":\"Circle\"},\"selection_glyph\":null,\"view\":{\"id\":\"a0fcf52e-ea38-4291-b2ae-830256bc038a\",\"type\":\"CDSView\"}},\"id\":\"60c218e6-b897-42dd-91d7-d75f06e2c9c8\",\"type\":\"GlyphRenderer\"},{\"attributes\":{\"source\":{\"id\":\"0cf5b3e9-8bbf-45db-aa26-53f6e511a79d\",\"type\":\"ColumnDataSource\"}},\"id\":\"a0fcf52e-ea38-4291-b2ae-830256bc038a\",\"type\":\"CDSView\"},{\"attributes\":{\"formatter\":{\"id\":\"004ea01b-4945-44b6-a038-3a3a5c55cace\",\"type\":\"MercatorTickFormatter\"},\"plot\":{\"id\":\"11ab40d5-b1f3-417d-a0cc-3c440d609bb6\",\"subtype\":\"Figure\",\"type\":\"Plot\"},\"ticker\":{\"id\":\"7dcbcd74-4651-4166-a8ab-3317009bce77\",\"type\":\"MercatorTicker\"}},\"id\":\"060c44a9-adb1-47e5-969a-79d06923b4c8\",\"type\":\"MercatorAxis\"},{\"attributes\":{\"callback\":null,\"data\":{},\"selected\":{\"id\":\"6c6018a5-9738-4acc-812c-511f0d6cefd2\",\"type\":\"Selection\"},\"selection_policy\":{\"id\":\"cad69cda-208d-493d-b07c-df1f5ddce103\",\"type\":\"UnionRenderers\"}},\"id\":\"ac73c8e1-cc49-4036-a976-dd4fa774153e\",\"type\":\"ColumnDataSource\"},{\"attributes\":{\"fill_color\":{\"value\":\"#ffc400\"},\"line_color\":{\"value\":\"#ffc400\"},\"size\":{\"units\":\"screen\",\"value\":3},\"x\":{\"value\":737884.1390299738},\"y\":{\"value\":5863835.362009203}},\"id\":\"a7b24c6d-7f38-4421-aec0-21b7db513318\",\"type\":\"Circle\"},{\"attributes\":{\"fill_alpha\":{\"value\":0.1},\"fill_color\":{\"value\":\"#1f77b4\"},\"line_alpha\":{\"value\":0.1},\"line_color\":{\"value\":\"#1f77b4\"},\"size\":{\"units\":\"screen\",\"value\":3},\"x\":{\"value\":737884.1390299738},\"y\":{\"value\":5863835.362009203}},\"id\":\"ee775d35-5cbf-448e-99c9-6bbeec0e93ac\",\"type\":\"Circle\"},{\"attributes\":{\"data_source\":{\"id\":\"ac73c8e1-cc49-4036-a976-dd4fa774153e\",\"type\":\"ColumnDataSource\"},\"glyph\":{\"id\":\"a7b24c6d-7f38-4421-aec0-21b7db513318\",\"type\":\"Circle\"},\"hover_glyph\":null,\"muted_glyph\":null,\"nonselection_glyph\":{\"id\":\"ee775d35-5cbf-448e-99c9-6bbeec0e93ac\",\"type\":\"Circle\"},\"selection_glyph\":null,\"view\":{\"id\":\"09b32cb0-ada3-4153-8f40-514ddb0108d0\",\"type\":\"CDSView\"}},\"id\":\"efd259f8-d0bc-4adb-964f-0cd2b1c13c8b\",\"type\":\"GlyphRenderer\"},{\"attributes\":{\"source\":{\"id\":\"ac73c8e1-cc49-4036-a976-dd4fa774153e\",\"type\":\"ColumnDataSource\"}},\"id\":\"09b32cb0-ada3-4153-8f40-514ddb0108d0\",\"type\":\"CDSView\"},{\"attributes\":{},\"id\":\"d9a36ec1-f25f-4d4d-a463-9efcbd0aaf1f\",\"type\":\"Selection\"},{\"attributes\":{},\"id\":\"4566ccbb-06f6-454a-8f52-e569c2a065a8\",\"type\":\"UnionRenderers\"},{\"attributes\":{},\"id\":\"40245a95-3524-4192-93e9-9931a1c15ed1\",\"type\":\"Selection\"},{\"attributes\":{},\"id\":\"7ee6ff1d-5e02-4ffb-a5f9-dbb975d2c3e3\",\"type\":\"UnionRenderers\"},{\"attributes\":{\"label\":{\"value\":\"700m\"},\"renderers\":[{\"id\":\"efd259f8-d0bc-4adb-964f-0cd2b1c13c8b\",\"type\":\"GlyphRenderer\"}]},\"id\":\"479b8c9b-ec81-4fe2-9379-ce9aaa8e85dd\",\"type\":\"LegendItem\"},{\"attributes\":{\"callback\":null,\"data\":{},\"selected\":{\"id\":\"feee0c86-babd-4e23-b45e-04a3e47c517a\",\"type\":\"Selection\"},\"selection_policy\":{\"id\":\"8962d55d-47f9-4ac3-8855-70bbf1375d5e\",\"type\":\"UnionRenderers\"}},\"id\":\"124c30da-478a-4720-8f80-ef24fa065ce7\",\"type\":\"ColumnDataSource\"},{\"attributes\":{\"fill_alpha\":{\"value\":0.3},\"fill_color\":{\"value\":\"#00d7ff\"},\"line_alpha\":{\"value\":0.3},\"line_color\":{\"value\":\"firebrick\"},\"line_dash\":[6,3],\"size\":{\"units\":\"screen\",\"value\":20},\"x\":{\"value\":737884.1390299738},\"y\":{\"value\":5863835.362009203}},\"id\":\"ccc1ba07-6790-4ab9-bd7f-5bd7bbc4d4f5\",\"type\":\"Circle\"},{\"attributes\":{\"fill_alpha\":{\"value\":0.1},\"fill_color\":{\"value\":\"#1f77b4\"},\"line_alpha\":{\"value\":0.1},\"line_color\":{\"value\":\"#1f77b4\"},\"x\":{\"value\":737884.1390299738},\"y\":{\"value\":5863835.362009203}},\"id\":\"53d82605-fa66-4f1a-9441-9a4dd807a0a3\",\"type\":\"Circle\"},{\"attributes\":{\"data_source\":{\"id\":\"124c30da-478a-4720-8f80-ef24fa065ce7\",\"type\":\"ColumnDataSource\"},\"glyph\":{\"id\":\"ccc1ba07-6790-4ab9-bd7f-5bd7bbc4d4f5\",\"type\":\"Circle\"},\"hover_glyph\":null,\"muted_glyph\":null,\"nonselection_glyph\":{\"id\":\"53d82605-fa66-4f1a-9441-9a4dd807a0a3\",\"type\":\"Circle\"},\"selection_glyph\":null,\"view\":{\"id\":\"b952f0ba-3053-4c2b-92cf-0c0683de2f39\",\"type\":\"CDSView\"}},\"id\":\"6306a012-09a6-4da3-822b-8027c6e91980\",\"type\":\"GlyphRenderer\"},{\"attributes\":{\"source\":{\"id\":\"124c30da-478a-4720-8f80-ef24fa065ce7\",\"type\":\"ColumnDataSource\"}},\"id\":\"b952f0ba-3053-4c2b-92cf-0c0683de2f39\",\"type\":\"CDSView\"},{\"attributes\":{\"callback\":null,\"data\":{},\"selected\":{\"id\":\"adf5988d-e8dc-4911-9c34-2cd988a52c7b\",\"type\":\"Selection\"},\"selection_policy\":{\"id\":\"2e4f2124-2898-420e-a09e-fd9c9c5ea86d\",\"type\":\"UnionRenderers\"}},\"id\":\"afae9100-35cb-40f4-8c8d-6cd50f3d38dd\",\"type\":\"ColumnDataSource\"},{\"attributes\":{\"fill_color\":{\"value\":\"#00d7ff\"},\"line_color\":{\"value\":\"#00d7ff\"},\"size\":{\"units\":\"screen\",\"value\":3},\"x\":{\"value\":737884.1390299738},\"y\":{\"value\":5863835.362009203}},\"id\":\"52fdeacd-c024-496f-a806-49f6fb276304\",\"type\":\"Circle\"},{\"attributes\":{\"fill_alpha\":{\"value\":0.1},\"fill_color\":{\"value\":\"#1f77b4\"},\"line_alpha\":{\"value\":0.1},\"line_color\":{\"value\":\"#1f77b4\"},\"size\":{\"units\":\"screen\",\"value\":3},\"x\":{\"value\":737884.1390299738},\"y\":{\"value\":5863835.362009203}},\"id\":\"3013e81a-c267-4aa8-bc04-bb555ff95d34\",\"type\":\"Circle\"},{\"attributes\":{\"data_source\":{\"id\":\"afae9100-35cb-40f4-8c8d-6cd50f3d38dd\",\"type\":\"ColumnDataSource\"},\"glyph\":{\"id\":\"52fdeacd-c024-496f-a806-49f6fb276304\",\"type\":\"Circle\"},\"hover_glyph\":null,\"muted_glyph\":null,\"nonselection_glyph\":{\"id\":\"3013e81a-c267-4aa8-bc04-bb555ff95d34\",\"type\":\"Circle\"},\"selection_glyph\":null,\"view\":{\"id\":\"24033945-46b8-495a-b4b6-fbdd841b5090\",\"type\":\"CDSView\"}},\"id\":\"ae13ceb6-6f4a-48d5-9401-b95c07a8ab27\",\"type\":\"GlyphRenderer\"},{\"attributes\":{\"source\":{\"id\":\"afae9100-35cb-40f4-8c8d-6cd50f3d38dd\",\"type\":\"ColumnDataSource\"}},\"id\":\"24033945-46b8-495a-b4b6-fbdd841b5090\",\"type\":\"CDSView\"},{\"attributes\":{},\"id\":\"6c6018a5-9738-4acc-812c-511f0d6cefd2\",\"type\":\"Selection\"},{\"attributes\":{},\"id\":\"cad69cda-208d-493d-b07c-df1f5ddce103\",\"type\":\"UnionRenderers\"},{\"attributes\":{\"dimension\":\"lat\"},\"id\":\"7dcbcd74-4651-4166-a8ab-3317009bce77\",\"type\":\"MercatorTicker\"},{\"attributes\":{},\"id\":\"feee0c86-babd-4e23-b45e-04a3e47c517a\",\"type\":\"Selection\"},{\"attributes\":{},\"id\":\"8962d55d-47f9-4ac3-8855-70bbf1375d5e\",\"type\":\"UnionRenderers\"},{\"attributes\":{\"label\":{\"value\":\"800m\"},\"renderers\":[{\"id\":\"ae13ceb6-6f4a-48d5-9401-b95c07a8ab27\",\"type\":\"GlyphRenderer\"}]},\"id\":\"c38278b0-b720-4f3b-b4da-4a2c83c6c1ac\",\"type\":\"LegendItem\"},{\"attributes\":{\"callback\":null,\"data\":{},\"selected\":{\"id\":\"0d31ad68-5fe3-4d1a-9e99-e75ace9ca692\",\"type\":\"Selection\"},\"selection_policy\":{\"id\":\"8a173579-bf8b-44b1-aa9f-fd7631a0c0a3\",\"type\":\"UnionRenderers\"}},\"id\":\"02f384e7-3b08-4c12-9633-c07440b89f54\",\"type\":\"ColumnDataSource\"},{\"attributes\":{\"fill_alpha\":{\"value\":0.3},\"fill_color\":{\"value\":\"magenta\"},\"line_alpha\":{\"value\":0.3},\"line_color\":{\"value\":\"firebrick\"},\"line_dash\":[6,3],\"size\":{\"units\":\"screen\",\"value\":20},\"x\":{\"value\":737884.1390299738},\"y\":{\"value\":5863835.362009203}},\"id\":\"e3e40052-e294-46a0-b9dd-e47482751b87\",\"type\":\"Circle\"},{\"attributes\":{\"fill_alpha\":{\"value\":0.1},\"fill_color\":{\"value\":\"#1f77b4\"},\"line_alpha\":{\"value\":0.1},\"line_color\":{\"value\":\"#1f77b4\"},\"x\":{\"value\":737884.1390299738},\"y\":{\"value\":5863835.362009203}},\"id\":\"74098fa7-e0f0-45f3-8969-71f15a46a9ab\",\"type\":\"Circle\"},{\"attributes\":{\"data_source\":{\"id\":\"02f384e7-3b08-4c12-9633-c07440b89f54\",\"type\":\"ColumnDataSource\"},\"glyph\":{\"id\":\"e3e40052-e294-46a0-b9dd-e47482751b87\",\"type\":\"Circle\"},\"hover_glyph\":null,\"muted_glyph\":null,\"nonselection_glyph\":{\"id\":\"74098fa7-e0f0-45f3-8969-71f15a46a9ab\",\"type\":\"Circle\"},\"selection_glyph\":null,\"view\":{\"id\":\"59644fcd-a682-43ab-9ce7-c8a96b8991a7\",\"type\":\"CDSView\"}},\"id\":\"472eaaee-fc3f-4584-9b6f-5cc756c2339d\",\"type\":\"GlyphRenderer\"},{\"attributes\":{\"source\":{\"id\":\"02f384e7-3b08-4c12-9633-c07440b89f54\",\"type\":\"ColumnDataSource\"}},\"id\":\"59644fcd-a682-43ab-9ce7-c8a96b8991a7\",\"type\":\"CDSView\"},{\"attributes\":{\"callback\":null,\"data\":{},\"selected\":{\"id\":\"fc76e00e-c149-4809-8856-a8f37fe68330\",\"type\":\"Selection\"},\"selection_policy\":{\"id\":\"10dbe073-c0b6-4008-987c-55248d7d2229\",\"type\":\"UnionRenderers\"}},\"id\":\"ddde0c5b-f70d-4e78-9862-4a4dff555ee3\",\"type\":\"ColumnDataSource\"},{\"attributes\":{\"fill_color\":{\"value\":\"magenta\"},\"line_color\":{\"value\":\"magenta\"},\"size\":{\"units\":\"screen\",\"value\":3},\"x\":{\"value\":737884.1390299738},\"y\":{\"value\":5863835.362009203}},\"id\":\"f75dee77-c6f1-4045-a2f4-da5b24c2a703\",\"type\":\"Circle\"},{\"attributes\":{\"fill_alpha\":{\"value\":0.1},\"fill_color\":{\"value\":\"#1f77b4\"},\"line_alpha\":{\"value\":0.1},\"line_color\":{\"value\":\"#1f77b4\"},\"size\":{\"units\":\"screen\",\"value\":3},\"x\":{\"value\":737884.1390299738},\"y\":{\"value\":5863835.362009203}},\"id\":\"04275370-494e-49f0-9d49-b4df5547ec6b\",\"type\":\"Circle\"},{\"attributes\":{\"data_source\":{\"id\":\"ddde0c5b-f70d-4e78-9862-4a4dff555ee3\",\"type\":\"ColumnDataSource\"},\"glyph\":{\"id\":\"f75dee77-c6f1-4045-a2f4-da5b24c2a703\",\"type\":\"Circle\"},\"hover_glyph\":null,\"muted_glyph\":null,\"nonselection_glyph\":{\"id\":\"04275370-494e-49f0-9d49-b4df5547ec6b\",\"type\":\"Circle\"},\"selection_glyph\":null,\"view\":{\"id\":\"7c484e9d-8884-4abf-bf9e-4e940a5714bc\",\"type\":\"CDSView\"}},\"id\":\"f99fdf7c-1132-4689-85e8-127de7c0e646\",\"type\":\"GlyphRenderer\"},{\"attributes\":{\"source\":{\"id\":\"ddde0c5b-f70d-4e78-9862-4a4dff555ee3\",\"type\":\"ColumnDataSource\"}},\"id\":\"7c484e9d-8884-4abf-bf9e-4e940a5714bc\",\"type\":\"CDSView\"},{\"attributes\":{\"below\":[{\"id\":\"4409c1d6-6a87-43ff-88df-58a53aa3ac86\",\"type\":\"MercatorAxis\"}],\"left\":[{\"id\":\"060c44a9-adb1-47e5-969a-79d06923b4c8\",\"type\":\"MercatorAxis\"}],\"plot_height\":400,\"renderers\":[{\"id\":\"4409c1d6-6a87-43ff-88df-58a53aa3ac86\",\"type\":\"MercatorAxis\"},{\"id\":\"98153a83-0323-4e1f-a801-6f1f6b69cb14\",\"type\":\"Grid\"},{\"id\":\"060c44a9-adb1-47e5-969a-79d06923b4c8\",\"type\":\"MercatorAxis\"},{\"id\":\"28d4e757-0fbd-4e0b-9b7f-b1128a511e0f\",\"type\":\"Grid\"},{\"id\":\"559968c9-7e1f-4c1f-8258-0192bbf65eee\",\"type\":\"TileRenderer\"},{\"id\":\"0073d8bb-34bf-42bc-a6b3-7dd49dd71079\",\"type\":\"GlyphRenderer\"},{\"id\":\"f552c09d-bc72-4360-9dc2-ee7b5c9b1a36\",\"type\":\"Legend\"},{\"id\":\"2a3ccb6c-6df0-4b55-83d5-f7263ff7efae\",\"type\":\"GlyphRenderer\"},{\"id\":\"20dbb4cd-822e-4455-97c1-88c4a115d385\",\"type\":\"GlyphRenderer\"},{\"id\":\"42a53117-b988-46ed-b0e3-ce3f4698b79f\",\"type\":\"GlyphRenderer\"},{\"id\":\"55b3cd37-b850-46dd-9fcb-06061a650e15\",\"type\":\"GlyphRenderer\"},{\"id\":\"ca6abe74-5ec4-44c4-915f-d81d156dd548\",\"type\":\"GlyphRenderer\"},{\"id\":\"523299f9-a6b4-4383-b465-d427621bfda1\",\"type\":\"GlyphRenderer\"},{\"id\":\"5cadded4-9966-46dd-ad52-98f194137358\",\"type\":\"GlyphRenderer\"},{\"id\":\"48d37d85-3775-4c20-85f4-146bb8c80b7d\",\"type\":\"GlyphRenderer\"},{\"id\":\"d18e27d5-7bd4-45b7-8040-00e3614c1d22\",\"type\":\"GlyphRenderer\"},{\"id\":\"60c218e6-b897-42dd-91d7-d75f06e2c9c8\",\"type\":\"GlyphRenderer\"},{\"id\":\"efd259f8-d0bc-4adb-964f-0cd2b1c13c8b\",\"type\":\"GlyphRenderer\"},{\"id\":\"6306a012-09a6-4da3-822b-8027c6e91980\",\"type\":\"GlyphRenderer\"},{\"id\":\"ae13ceb6-6f4a-48d5-9401-b95c07a8ab27\",\"type\":\"GlyphRenderer\"},{\"id\":\"472eaaee-fc3f-4584-9b6f-5cc756c2339d\",\"type\":\"GlyphRenderer\"},{\"id\":\"f99fdf7c-1132-4689-85e8-127de7c0e646\",\"type\":\"GlyphRenderer\"}],\"title\":{\"id\":\"73aaf88f-620b-4d97-81ca-3bb06e56aac1\",\"type\":\"Title\"},\"toolbar\":{\"id\":\"0fbb410d-1922-4e10-b01a-174657277f34\",\"type\":\"Toolbar\"},\"x_range\":{\"id\":\"00f7b02e-91db-4ddd-afcb-54c115b84044\",\"type\":\"DataRange1d\"},\"x_scale\":{\"id\":\"b3898337-6829-4562-9846-c89b5f025b79\",\"type\":\"LinearScale\"},\"y_range\":{\"id\":\"fda11d32-a7d8-4e37-b276-a65636993e97\",\"type\":\"DataRange1d\"},\"y_scale\":{\"id\":\"d9dd238c-7bf2-4c98-9fa0-2a2862b72ea9\",\"type\":\"LinearScale\"}},\"id\":\"11ab40d5-b1f3-417d-a0cc-3c440d609bb6\",\"subtype\":\"Figure\",\"type\":\"Plot\"},{\"attributes\":{},\"id\":\"adf5988d-e8dc-4911-9c34-2cd988a52c7b\",\"type\":\"Selection\"},{\"attributes\":{},\"id\":\"2e4f2124-2898-420e-a09e-fd9c9c5ea86d\",\"type\":\"UnionRenderers\"},{\"attributes\":{},\"id\":\"0d31ad68-5fe3-4d1a-9e99-e75ace9ca692\",\"type\":\"Selection\"},{\"attributes\":{\"tile_source\":{\"id\":\"d58afdcd-a530-4ac0-94f0-5ff57ad291a7\",\"type\":\"WMTSTileSource\"}},\"id\":\"559968c9-7e1f-4c1f-8258-0192bbf65eee\",\"type\":\"TileRenderer\"},{\"attributes\":{},\"id\":\"8a173579-bf8b-44b1-aa9f-fd7631a0c0a3\",\"type\":\"UnionRenderers\"},{\"attributes\":{\"label\":{\"value\":\"1000m\"},\"renderers\":[{\"id\":\"f99fdf7c-1132-4689-85e8-127de7c0e646\",\"type\":\"GlyphRenderer\"}]},\"id\":\"f5e9969d-4ed8-4beb-ac5e-c2c02e4ee89e\",\"type\":\"LegendItem\"},{\"attributes\":{},\"id\":\"fc76e00e-c149-4809-8856-a8f37fe68330\",\"type\":\"Selection\"},{\"attributes\":{\"active_drag\":\"auto\",\"active_inspect\":\"auto\",\"active_multi\":null,\"active_scroll\":\"auto\",\"active_tap\":\"auto\",\"tools\":[{\"id\":\"c040aeba-3c51-4aba-82e2-f87bdfc10526\",\"type\":\"PanTool\"},{\"id\":\"7609998b-d358-4518-a56c-a4737c32bf8b\",\"type\":\"WheelZoomTool\"},{\"id\":\"6be3698b-e5cb-408b-b987-cddcd98bb162\",\"type\":\"ResetTool\"}]},\"id\":\"0fbb410d-1922-4e10-b01a-174657277f34\",\"type\":\"Toolbar\"},{\"attributes\":{},\"id\":\"10dbe073-c0b6-4008-987c-55248d7d2229\",\"type\":\"UnionRenderers\"},{\"attributes\":{\"plot\":null,\"text\":\"Greatests RC for each radius\"},\"id\":\"73aaf88f-620b-4d97-81ca-3bb06e56aac1\",\"type\":\"Title\"}],\"root_ids\":[\"11ab40d5-b1f3-417d-a0cc-3c440d609bb6\"]},\"title\":\"Bokeh Application\",\"version\":\"0.13.0\"}};\n",
       "  var render_items = [{\"docid\":\"e38d4b55-daeb-456d-a93d-8151d4f4f31f\",\"roots\":{\"11ab40d5-b1f3-417d-a0cc-3c440d609bb6\":\"d43a777e-0d45-429e-b834-919dddd6c15e\"}}];\n",
       "  root.Bokeh.embed.embed_items_notebook(docs_json, render_items);\n",
       "\n",
       "  }\n",
       "  if (root.Bokeh !== undefined) {\n",
       "    embed_document(root);\n",
       "  } else {\n",
       "    var attempts = 0;\n",
       "    var timer = setInterval(function(root) {\n",
       "      if (root.Bokeh !== undefined) {\n",
       "        embed_document(root);\n",
       "        clearInterval(timer);\n",
       "      }\n",
       "      attempts++;\n",
       "      if (attempts > 100) {\n",
       "        console.log(\"Bokeh: ERROR: Unable to run BokehJS code because BokehJS library is missing\")\n",
       "        clearInterval(timer);\n",
       "      }\n",
       "    }, 10, root)\n",
       "  }\n",
       "})(window);"
      ],
      "application/vnd.bokehjs_exec.v0+json": ""
     },
     "metadata": {
      "application/vnd.bokehjs_exec.v0+json": {
       "id": "11ab40d5-b1f3-417d-a0cc-3c440d609bb6"
      }
     },
     "output_type": "display_data"
    }
   ],
   "source": [
    "colors = palette() + [\"magenta\"]\n",
    "p = row_to_geo_circle(biggests[200]).plot(title=\"Greatests RC for each radius\", legend=\"200m\", color=colors[0], width=600, height=400)\n",
    "p = row_to_geo_circle(biggests[300]).plot(legend=\"300m\", color=colors[0], p=p)\n",
    "p = row_to_geo_circle(biggests[400]).plot(legend=\"400m\", color=colors[1], p=p)\n",
    "p = row_to_geo_circle(biggests[500]).plot(legend=\"500m\", color=colors[2], p=p)\n",
    "p = row_to_geo_circle(biggests[600]).plot(legend=\"600m\", color=colors[3], p=p)\n",
    "p = row_to_geo_circle(biggests[700]).plot(legend=\"700m\", color=colors[4], p=p)\n",
    "p = row_to_geo_circle(biggests[800]).plot(legend=\"800m\", color=colors[5], p=p)\n",
    "p = row_to_geo_circle(biggests[1000]).plot(legend=\"1000m\", color=colors[6], p=p)\n",
    "\n",
    "show(p)"
   ]
  },
  {
   "cell_type": "markdown",
   "metadata": {},
   "source": [
    " "
   ]
  },
  {
   "cell_type": "markdown",
   "metadata": {},
   "source": [
    "### Most dense Request Circles (number of HOT OSM pois)"
   ]
  },
  {
   "cell_type": "code",
   "execution_count": 8,
   "metadata": {},
   "outputs": [],
   "source": [
    "def valid_pois(pois):\n",
    "    return pois[pois[\"amenity\"].isna() == False]\n",
    "\n",
    "def pois_in_request_circle(request_circles, pois):\n",
    "    pois[\"latitude\"] = pois[\"lat_4326\"]\n",
    "    pois[\"longitude\"] = pois[\"lon_4326\"]\n",
    "    rc_geo_circles = request_circles.apply(lambda row : GeoCircle(row[\"latitude\"], row[\"longitude\"], radius_m=row[\"radius_m\"], searching_tolerance=row[\"search_tolerance\"]), axis=1).tolist()\n",
    "    \n",
    "    for rc in rc_geo_circles:\n",
    "        pois_in = []\n",
    "        use_pois = geo.slice_geo_data(pois, center=rc, search_tolerance=rc.searching_tolerance)\n",
    "\n",
    "        for index, poi in use_pois.iterrows():\n",
    "            if rc.contains_point(latitude=poi[\"latitude\"], longitude=poi[\"longitude\"]):\n",
    "                pois_in.append(poi.to_dict())\n",
    "        \n",
    "        rc.put_data(pd.DataFrame(pois_in))\n",
    "    return rc_geo_circles"
   ]
  },
  {
   "cell_type": "code",
   "execution_count": null,
   "metadata": {},
   "outputs": [],
   "source": []
  },
  {
   "cell_type": "code",
   "execution_count": 9,
   "metadata": {},
   "outputs": [],
   "source": [
    "hotosm_pois = valid_pois(csv_dao.load_hot_osm_pois())"
   ]
  },
  {
   "cell_type": "code",
   "execution_count": 10,
   "metadata": {
    "scrolled": true
   },
   "outputs": [],
   "source": [
    "rc200_with_pois_inside = pd.DataFrame({\"request_circle\" : pois_in_request_circle(rc200_df, hotosm_pois)})"
   ]
  },
  {
   "cell_type": "code",
   "execution_count": 11,
   "metadata": {},
   "outputs": [],
   "source": [
    "rc300_with_pois_inside = pd.DataFrame({\"request_circle\" : pois_in_request_circle(rc300_df, hotosm_pois)})"
   ]
  },
  {
   "cell_type": "code",
   "execution_count": 12,
   "metadata": {},
   "outputs": [],
   "source": [
    "rc400_with_pois_inside = pd.DataFrame({\"request_circle\" : pois_in_request_circle(rc400_df, hotosm_pois)})"
   ]
  },
  {
   "cell_type": "code",
   "execution_count": 13,
   "metadata": {},
   "outputs": [],
   "source": [
    "rc500_with_pois_inside = pd.DataFrame({\"request_circle\" : pois_in_request_circle(rc500_df, hotosm_pois)})"
   ]
  },
  {
   "cell_type": "code",
   "execution_count": 14,
   "metadata": {},
   "outputs": [],
   "source": [
    "rc600_with_pois_inside = pd.DataFrame({\"request_circle\" : pois_in_request_circle(rc600_df, hotosm_pois)})"
   ]
  },
  {
   "cell_type": "code",
   "execution_count": 15,
   "metadata": {},
   "outputs": [],
   "source": [
    "rc700_with_pois_inside = pd.DataFrame({\"request_circle\" : pois_in_request_circle(rc700_df, hotosm_pois)})"
   ]
  },
  {
   "cell_type": "code",
   "execution_count": 16,
   "metadata": {},
   "outputs": [],
   "source": [
    "rc800_with_pois_inside = pd.DataFrame({\"request_circle\" : pois_in_request_circle(rc800_df, hotosm_pois)})"
   ]
  },
  {
   "cell_type": "code",
   "execution_count": 17,
   "metadata": {},
   "outputs": [],
   "source": [
    "rc1k_with_pois_inside = pd.DataFrame({\"request_circle\" : pois_in_request_circle(rc1k_df, hotosm_pois)})"
   ]
  },
  {
   "cell_type": "code",
   "execution_count": 18,
   "metadata": {},
   "outputs": [],
   "source": [
    "def request_circle_size(request_circles):\n",
    "    return request_circles[\"request_circle\"].apply(lambda rc : len(rc.get_data()))"
   ]
  },
  {
   "cell_type": "code",
   "execution_count": 19,
   "metadata": {},
   "outputs": [
    {
     "data": {
      "text/plain": [
       "<src.entity.geo_circle.GeoCircle at 0x7f872d079ba8>"
      ]
     },
     "execution_count": 19,
     "metadata": {},
     "output_type": "execute_result"
    }
   ],
   "source": [
    "rc200_with_pois_inside[\"request_circle\"].iloc[0]"
   ]
  },
  {
   "cell_type": "code",
   "execution_count": 20,
   "metadata": {},
   "outputs": [
    {
     "name": "stdout",
     "output_type": "stream",
     "text": [
      "Greatest Request Circle for each radius\n",
      "200m \t- 94 HOT OSM POIs\n",
      "300m \t- 180 HOT OSM POIs\n",
      "400m \t- 196 HOT OSM POIs\n",
      "500m \t- 384 HOT OSM POIs\n",
      "600m \t- 355 HOT OSM POIs\n",
      "700m \t- 436 HOT OSM POIs\n",
      "800m \t- 504 HOT OSM POIs\n",
      "1000m \t- 574 HOT OSM POIs\n"
     ]
    }
   ],
   "source": [
    "geo_circles_list = [rc200_with_pois_inside, rc300_with_pois_inside, rc400_with_pois_inside, \n",
    "                    rc500_with_pois_inside, rc600_with_pois_inside, rc700_with_pois_inside, \n",
    "                    rc800_with_pois_inside, rc1k_with_pois_inside]\n",
    "\n",
    "print(\"Greatest Request Circle for each radius\")\n",
    "biggests_pois = {}\n",
    "for rc_with_pois_inside in geo_circles_list:\n",
    "    rc_with_pois_inside[\"pois_size\"] = request_circle_size(rc_with_pois_inside)\n",
    "    big_rc = rc_with_pois_inside[rc_with_pois_inside[\"pois_size\"] == rc_with_pois_inside[\"pois_size\"].max()].sample()\n",
    "    biggests_pois[big_rc[\"request_circle\"].item().radius_m] = big_rc[\"request_circle\"].item()\n",
    "    print(\"{}m \\t- {} HOT OSM POIs\".format(big_rc[\"request_circle\"].item().radius_m, len(big_rc[\"request_circle\"].item().get_data())))"
   ]
  },
  {
   "cell_type": "code",
   "execution_count": 21,
   "metadata": {},
   "outputs": [
    {
     "data": {
      "text/html": [
       "\n",
       "\n",
       "\n",
       "\n",
       "\n",
       "\n",
       "  <div class=\"bk-root\" id=\"60d15487-7a4c-4c1e-948d-e80f5f60428d\"></div>\n"
      ]
     },
     "metadata": {},
     "output_type": "display_data"
    },
    {
     "data": {
      "application/javascript": [
       "(function(root) {\n",
       "  function embed_document(root) {\n",
       "    \n",
       "  var docs_json = {\"3e96fc78-4ec7-44bc-a44f-a868f031352e\":{\"roots\":{\"references\":[{\"attributes\":{\"plot\":{\"id\":\"6c767b0c-4625-4bad-bbd7-e794ccd90d29\",\"subtype\":\"Figure\",\"type\":\"Plot\"},\"ticker\":{\"id\":\"53f68abb-bbd7-4b5e-b608-29913c523bf8\",\"type\":\"MercatorTicker\"}},\"id\":\"66928a06-05b4-422f-a69d-d08b1547a088\",\"type\":\"Grid\"},{\"attributes\":{\"label\":{\"value\":\"500m\"},\"renderers\":[{\"id\":\"30eca858-2ffe-40cb-b4a6-51ea6ffbaeea\",\"type\":\"GlyphRenderer\"}]},\"id\":\"96aa6b94-29ca-4d17-8555-9364bb0c91ff\",\"type\":\"LegendItem\"},{\"attributes\":{\"callback\":null,\"data\":{},\"selected\":{\"id\":\"8cd16f35-24e5-477c-9b58-2a40b8b028e8\",\"type\":\"Selection\"},\"selection_policy\":{\"id\":\"0414898b-cebb-4439-ad06-c4441e4447e6\",\"type\":\"UnionRenderers\"}},\"id\":\"ddf1bf27-f751-45a3-b055-b43a337a7cf3\",\"type\":\"ColumnDataSource\"},{\"attributes\":{\"callback\":null},\"id\":\"1cb4dbb3-1489-4300-abd7-00364f835e9e\",\"type\":\"DataRange1d\"},{\"attributes\":{\"callback\":null,\"data\":{},\"selected\":{\"id\":\"0dada096-6e94-459b-a666-629c895a57e3\",\"type\":\"Selection\"},\"selection_policy\":{\"id\":\"fdfa7d0e-4513-4d62-b735-8c19d9b8ddec\",\"type\":\"UnionRenderers\"}},\"id\":\"9f206ac9-e5ce-4f4e-8e19-25545a087ee8\",\"type\":\"ColumnDataSource\"},{\"attributes\":{\"active_drag\":\"auto\",\"active_inspect\":\"auto\",\"active_multi\":null,\"active_scroll\":\"auto\",\"active_tap\":\"auto\",\"tools\":[{\"id\":\"5dc54eed-1708-425e-9226-1430fa4acda2\",\"type\":\"PanTool\"},{\"id\":\"1ff75d90-edb7-4e1c-b593-51174b1c9321\",\"type\":\"WheelZoomTool\"},{\"id\":\"33eab3d6-1dca-4754-b3a5-60302b0eb7eb\",\"type\":\"ResetTool\"}]},\"id\":\"7783d16c-a919-4c6d-a8d9-ce42adfb2df3\",\"type\":\"Toolbar\"},{\"attributes\":{},\"id\":\"258ee2f0-2ae7-404b-8e31-5d94374f5a1f\",\"type\":\"Selection\"},{\"attributes\":{},\"id\":\"effcf6a7-9b07-4904-b1b9-89d0c83b3aec\",\"type\":\"LinearScale\"},{\"attributes\":{},\"id\":\"888ba16c-465a-41bc-8ce6-3990c3397c05\",\"type\":\"UnionRenderers\"},{\"attributes\":{\"callback\":null},\"id\":\"017e0344-c598-41db-ab5b-6b59318d89a5\",\"type\":\"DataRange1d\"},{\"attributes\":{\"fill_alpha\":{\"value\":0.3},\"fill_color\":{\"value\":\"#8a2be2\"},\"line_alpha\":{\"value\":0.3},\"line_color\":{\"value\":\"firebrick\"},\"line_dash\":[6,3],\"size\":{\"units\":\"screen\",\"value\":20},\"x\":{\"value\":950551.5659092232},\"y\":{\"value\":6003549.187059372}},\"id\":\"67ee8c0a-a3f3-4819-a77d-b9f415bb1ee3\",\"type\":\"Circle\"},{\"attributes\":{},\"id\":\"685d4dab-b36f-45ed-b104-af666b42c560\",\"type\":\"LinearScale\"},{\"attributes\":{\"fill_alpha\":{\"value\":0.1},\"fill_color\":{\"value\":\"#1f77b4\"},\"line_alpha\":{\"value\":0.1},\"line_color\":{\"value\":\"#1f77b4\"},\"x\":{\"value\":950551.5659092232},\"y\":{\"value\":6003549.187059372}},\"id\":\"80371ebd-40e6-46b6-9a9d-2a4c18f36887\",\"type\":\"Circle\"},{\"attributes\":{\"data_source\":{\"id\":\"b162f226-d4d2-41f5-8e06-2481c1454323\",\"type\":\"ColumnDataSource\"},\"glyph\":{\"id\":\"67ee8c0a-a3f3-4819-a77d-b9f415bb1ee3\",\"type\":\"Circle\"},\"hover_glyph\":null,\"muted_glyph\":null,\"nonselection_glyph\":{\"id\":\"80371ebd-40e6-46b6-9a9d-2a4c18f36887\",\"type\":\"Circle\"},\"selection_glyph\":null,\"view\":{\"id\":\"4f8d0b50-d46b-4218-97f0-7458d801ab1f\",\"type\":\"CDSView\"}},\"id\":\"b1ebe039-af78-4789-872b-640110528ccd\",\"type\":\"GlyphRenderer\"},{\"attributes\":{\"dimension\":\"lon\"},\"id\":\"56d8fa3c-1666-49ae-9b94-20d8e9d03ecd\",\"type\":\"MercatorTickFormatter\"},{\"attributes\":{\"formatter\":{\"id\":\"56d8fa3c-1666-49ae-9b94-20d8e9d03ecd\",\"type\":\"MercatorTickFormatter\"},\"plot\":{\"id\":\"6c767b0c-4625-4bad-bbd7-e794ccd90d29\",\"subtype\":\"Figure\",\"type\":\"Plot\"},\"ticker\":{\"id\":\"53f68abb-bbd7-4b5e-b608-29913c523bf8\",\"type\":\"MercatorTicker\"}},\"id\":\"29595a8f-b1db-43de-8394-851277d3cdc7\",\"type\":\"MercatorAxis\"},{\"attributes\":{\"source\":{\"id\":\"b162f226-d4d2-41f5-8e06-2481c1454323\",\"type\":\"ColumnDataSource\"}},\"id\":\"4f8d0b50-d46b-4218-97f0-7458d801ab1f\",\"type\":\"CDSView\"},{\"attributes\":{\"dimension\":\"lon\"},\"id\":\"53f68abb-bbd7-4b5e-b608-29913c523bf8\",\"type\":\"MercatorTicker\"},{\"attributes\":{\"callback\":null,\"data\":{},\"selected\":{\"id\":\"b8c4e276-5152-4df9-bad1-75abc246e0e1\",\"type\":\"Selection\"},\"selection_policy\":{\"id\":\"4285c5fb-ae9a-4a00-ab04-6d4a0a1dfb72\",\"type\":\"UnionRenderers\"}},\"id\":\"4e2f01c1-7159-44a5-b83a-558a959af282\",\"type\":\"ColumnDataSource\"},{\"attributes\":{\"dimension\":1,\"plot\":{\"id\":\"6c767b0c-4625-4bad-bbd7-e794ccd90d29\",\"subtype\":\"Figure\",\"type\":\"Plot\"},\"ticker\":{\"id\":\"da857d8d-758d-4962-a0de-9df9f589798f\",\"type\":\"MercatorTicker\"}},\"id\":\"50a11e2c-cdb6-4a1d-9641-14d08dc758c8\",\"type\":\"Grid\"},{\"attributes\":{\"fill_color\":{\"value\":\"#8a2be2\"},\"line_color\":{\"value\":\"#8a2be2\"},\"size\":{\"units\":\"screen\",\"value\":3},\"x\":{\"value\":950551.5659092232},\"y\":{\"value\":6003549.187059372}},\"id\":\"7de3de6f-4dfb-4da7-9653-31e12e48c750\",\"type\":\"Circle\"},{\"attributes\":{\"formatter\":{\"id\":\"e4c6c666-8964-42bc-b1bb-e6a3d9a60f79\",\"type\":\"MercatorTickFormatter\"},\"plot\":{\"id\":\"6c767b0c-4625-4bad-bbd7-e794ccd90d29\",\"subtype\":\"Figure\",\"type\":\"Plot\"},\"ticker\":{\"id\":\"da857d8d-758d-4962-a0de-9df9f589798f\",\"type\":\"MercatorTicker\"}},\"id\":\"ba3786be-fce0-46ff-b29b-5f7ee8688f1e\",\"type\":\"MercatorAxis\"},{\"attributes\":{\"fill_alpha\":{\"value\":0.1},\"fill_color\":{\"value\":\"#1f77b4\"},\"line_alpha\":{\"value\":0.1},\"line_color\":{\"value\":\"#1f77b4\"},\"size\":{\"units\":\"screen\",\"value\":3},\"x\":{\"value\":950551.5659092232},\"y\":{\"value\":6003549.187059372}},\"id\":\"27da1f35-0d34-4234-be3a-bb46cfb76f71\",\"type\":\"Circle\"},{\"attributes\":{\"data_source\":{\"id\":\"4e2f01c1-7159-44a5-b83a-558a959af282\",\"type\":\"ColumnDataSource\"},\"glyph\":{\"id\":\"7de3de6f-4dfb-4da7-9653-31e12e48c750\",\"type\":\"Circle\"},\"hover_glyph\":null,\"muted_glyph\":null,\"nonselection_glyph\":{\"id\":\"27da1f35-0d34-4234-be3a-bb46cfb76f71\",\"type\":\"Circle\"},\"selection_glyph\":null,\"view\":{\"id\":\"7cbd347a-d249-4b77-82dd-20cf21955186\",\"type\":\"CDSView\"}},\"id\":\"2632c059-fa80-47f3-ad5d-9b10ecc5208f\",\"type\":\"GlyphRenderer\"},{\"attributes\":{\"dimension\":\"lat\"},\"id\":\"da857d8d-758d-4962-a0de-9df9f589798f\",\"type\":\"MercatorTicker\"},{\"attributes\":{\"dimension\":\"lat\"},\"id\":\"e4c6c666-8964-42bc-b1bb-e6a3d9a60f79\",\"type\":\"MercatorTickFormatter\"},{\"attributes\":{\"source\":{\"id\":\"4e2f01c1-7159-44a5-b83a-558a959af282\",\"type\":\"ColumnDataSource\"}},\"id\":\"7cbd347a-d249-4b77-82dd-20cf21955186\",\"type\":\"CDSView\"},{\"attributes\":{},\"id\":\"d4225ac1-5a30-4865-807b-a51dee292b72\",\"type\":\"UnionRenderers\"},{\"attributes\":{},\"id\":\"0cddec89-d8b0-4b0e-a555-5d5dd27f85e9\",\"type\":\"Selection\"},{\"attributes\":{\"fill_alpha\":{\"value\":0.1},\"fill_color\":{\"value\":\"#1f77b4\"},\"line_alpha\":{\"value\":0.1},\"line_color\":{\"value\":\"#1f77b4\"},\"x\":{\"value\":950623.0330223119},\"y\":{\"value\":6003840.972935939}},\"id\":\"a2e7914d-10cc-4a90-86b5-6b7aee264aac\",\"type\":\"Circle\"},{\"attributes\":{},\"id\":\"28f4c5bd-bb4a-497a-894d-aef10c19e6ac\",\"type\":\"UnionRenderers\"},{\"attributes\":{\"data_source\":{\"id\":\"7038a23d-66a8-41c0-807f-96e6256c7336\",\"type\":\"ColumnDataSource\"},\"glyph\":{\"id\":\"a5052a57-dac4-47e4-b001-03e46421e822\",\"type\":\"Circle\"},\"hover_glyph\":null,\"muted_glyph\":null,\"nonselection_glyph\":{\"id\":\"a2e7914d-10cc-4a90-86b5-6b7aee264aac\",\"type\":\"Circle\"},\"selection_glyph\":null,\"view\":{\"id\":\"a51cecd9-0057-4c28-94e3-9cc129f6e12a\",\"type\":\"CDSView\"}},\"id\":\"3348807f-f7d6-46a4-8d9f-18f6f482e107\",\"type\":\"GlyphRenderer\"},{\"attributes\":{},\"id\":\"5b06d665-8e31-4880-b946-2efbb2eb2781\",\"type\":\"Selection\"},{\"attributes\":{},\"id\":\"5dc54eed-1708-425e-9226-1430fa4acda2\",\"type\":\"PanTool\"},{\"attributes\":{},\"id\":\"1185bbd2-2b6c-4ac2-a96a-f1da9c045c0d\",\"type\":\"UnionRenderers\"},{\"attributes\":{\"source\":{\"id\":\"7038a23d-66a8-41c0-807f-96e6256c7336\",\"type\":\"ColumnDataSource\"}},\"id\":\"a51cecd9-0057-4c28-94e3-9cc129f6e12a\",\"type\":\"CDSView\"},{\"attributes\":{\"label\":{\"value\":\"600m\"},\"renderers\":[{\"id\":\"2632c059-fa80-47f3-ad5d-9b10ecc5208f\",\"type\":\"GlyphRenderer\"}]},\"id\":\"c27b1a41-a56e-4b1d-8d4e-11e80ba7434d\",\"type\":\"LegendItem\"},{\"attributes\":{},\"id\":\"1ff75d90-edb7-4e1c-b593-51174b1c9321\",\"type\":\"WheelZoomTool\"},{\"attributes\":{},\"id\":\"31a9c210-028d-49e4-addc-f1c0916451d7\",\"type\":\"Selection\"},{\"attributes\":{},\"id\":\"33eab3d6-1dca-4754-b3a5-60302b0eb7eb\",\"type\":\"ResetTool\"},{\"attributes\":{\"callback\":null,\"data\":{},\"selected\":{\"id\":\"c0c16a9a-cbc2-4b6d-a660-dec17bbd708b\",\"type\":\"Selection\"},\"selection_policy\":{\"id\":\"e7a5b3ac-3bbe-4eed-8ddf-40ccb76fcd05\",\"type\":\"UnionRenderers\"}},\"id\":\"7038a23d-66a8-41c0-807f-96e6256c7336\",\"type\":\"ColumnDataSource\"},{\"attributes\":{\"fill_alpha\":{\"value\":0.3},\"fill_color\":{\"value\":\"#ffc400\"},\"line_alpha\":{\"value\":0.3},\"line_color\":{\"value\":\"firebrick\"},\"line_dash\":[6,3],\"size\":{\"units\":\"screen\",\"value\":20},\"x\":{\"value\":950668.4513745566},\"y\":{\"value\":6002677.997532715}},\"id\":\"6e2501a6-4cb8-49eb-81ec-9225d87a4a28\",\"type\":\"Circle\"},{\"attributes\":{\"fill_alpha\":{\"value\":0.3},\"fill_color\":{\"value\":\"#003fff\"},\"line_alpha\":{\"value\":0.3},\"line_color\":{\"value\":\"firebrick\"},\"line_dash\":[6,3],\"size\":{\"units\":\"screen\",\"value\":20},\"x\":{\"value\":950623.0330223119},\"y\":{\"value\":6003840.972935939}},\"id\":\"a5052a57-dac4-47e4-b001-03e46421e822\",\"type\":\"Circle\"},{\"attributes\":{\"fill_alpha\":{\"value\":0.1},\"fill_color\":{\"value\":\"#1f77b4\"},\"line_alpha\":{\"value\":0.1},\"line_color\":{\"value\":\"#1f77b4\"},\"x\":{\"value\":950668.4513745566},\"y\":{\"value\":6002677.997532715}},\"id\":\"c0200ddc-dc91-4369-942a-9b5a8daa71bb\",\"type\":\"Circle\"},{\"attributes\":{\"data_source\":{\"id\":\"ddf1bf27-f751-45a3-b055-b43a337a7cf3\",\"type\":\"ColumnDataSource\"},\"glyph\":{\"id\":\"6e2501a6-4cb8-49eb-81ec-9225d87a4a28\",\"type\":\"Circle\"},\"hover_glyph\":null,\"muted_glyph\":null,\"nonselection_glyph\":{\"id\":\"c0200ddc-dc91-4369-942a-9b5a8daa71bb\",\"type\":\"Circle\"},\"selection_glyph\":null,\"view\":{\"id\":\"89575313-1066-4d78-93e1-3a541077c831\",\"type\":\"CDSView\"}},\"id\":\"e96fa001-de81-462e-a1f8-a35b07cbb683\",\"type\":\"GlyphRenderer\"},{\"attributes\":{\"callback\":null,\"data\":{},\"selected\":{\"id\":\"c2e6ec08-d40e-4026-84dc-22aa0f1996fc\",\"type\":\"Selection\"},\"selection_policy\":{\"id\":\"4ca4606f-fb7b-484a-b4f6-dcf18d9724fb\",\"type\":\"UnionRenderers\"}},\"id\":\"93ac5bb4-e794-478d-9a22-7753cbcb9a5d\",\"type\":\"ColumnDataSource\"},{\"attributes\":{\"fill_color\":{\"value\":\"#003fff\"},\"line_color\":{\"value\":\"#003fff\"},\"size\":{\"units\":\"screen\",\"value\":3},\"x\":{\"value\":950623.0330223119},\"y\":{\"value\":6003840.972935939}},\"id\":\"657325d8-edcd-43c9-8598-74f728aa6a81\",\"type\":\"Circle\"},{\"attributes\":{\"source\":{\"id\":\"ddf1bf27-f751-45a3-b055-b43a337a7cf3\",\"type\":\"ColumnDataSource\"}},\"id\":\"89575313-1066-4d78-93e1-3a541077c831\",\"type\":\"CDSView\"},{\"attributes\":{\"fill_alpha\":{\"value\":0.1},\"fill_color\":{\"value\":\"#1f77b4\"},\"line_alpha\":{\"value\":0.1},\"line_color\":{\"value\":\"#1f77b4\"},\"size\":{\"units\":\"screen\",\"value\":3},\"x\":{\"value\":950623.0330223119},\"y\":{\"value\":6003840.972935939}},\"id\":\"8ac04acb-a6c9-420a-b908-346a88b907ce\",\"type\":\"Circle\"},{\"attributes\":{\"callback\":null,\"data\":{},\"selected\":{\"id\":\"6c5df6e8-64d8-4aa1-9ae0-b0faee8f49d2\",\"type\":\"Selection\"},\"selection_policy\":{\"id\":\"76aa9bc4-f268-4a32-9812-1b6193eabbcd\",\"type\":\"UnionRenderers\"}},\"id\":\"e86dc4ab-243e-4dad-8cf7-f9de245def30\",\"type\":\"ColumnDataSource\"},{\"attributes\":{\"data_source\":{\"id\":\"93ac5bb4-e794-478d-9a22-7753cbcb9a5d\",\"type\":\"ColumnDataSource\"},\"glyph\":{\"id\":\"657325d8-edcd-43c9-8598-74f728aa6a81\",\"type\":\"Circle\"},\"hover_glyph\":null,\"muted_glyph\":null,\"nonselection_glyph\":{\"id\":\"8ac04acb-a6c9-420a-b908-346a88b907ce\",\"type\":\"Circle\"},\"selection_glyph\":null,\"view\":{\"id\":\"dc75999d-c375-4d35-aa56-2e116393d58b\",\"type\":\"CDSView\"}},\"id\":\"a1e05b5c-39d1-423b-8de2-ff63c35571ba\",\"type\":\"GlyphRenderer\"},{\"attributes\":{\"fill_color\":{\"value\":\"#ffc400\"},\"line_color\":{\"value\":\"#ffc400\"},\"size\":{\"units\":\"screen\",\"value\":3},\"x\":{\"value\":950668.4513745566},\"y\":{\"value\":6002677.997532715}},\"id\":\"4df18bf6-5edb-4bfc-a462-f1c4caf65b74\",\"type\":\"Circle\"},{\"attributes\":{\"source\":{\"id\":\"93ac5bb4-e794-478d-9a22-7753cbcb9a5d\",\"type\":\"ColumnDataSource\"}},\"id\":\"dc75999d-c375-4d35-aa56-2e116393d58b\",\"type\":\"CDSView\"},{\"attributes\":{\"fill_alpha\":{\"value\":0.1},\"fill_color\":{\"value\":\"#1f77b4\"},\"line_alpha\":{\"value\":0.1},\"line_color\":{\"value\":\"#1f77b4\"},\"size\":{\"units\":\"screen\",\"value\":3},\"x\":{\"value\":950668.4513745566},\"y\":{\"value\":6002677.997532715}},\"id\":\"af12ad98-0d4e-4725-b5cd-7f144fbfaec3\",\"type\":\"Circle\"},{\"attributes\":{\"data_source\":{\"id\":\"e86dc4ab-243e-4dad-8cf7-f9de245def30\",\"type\":\"ColumnDataSource\"},\"glyph\":{\"id\":\"4df18bf6-5edb-4bfc-a462-f1c4caf65b74\",\"type\":\"Circle\"},\"hover_glyph\":null,\"muted_glyph\":null,\"nonselection_glyph\":{\"id\":\"af12ad98-0d4e-4725-b5cd-7f144fbfaec3\",\"type\":\"Circle\"},\"selection_glyph\":null,\"view\":{\"id\":\"94e0a54b-315f-4986-b966-d6fe62a9f0f9\",\"type\":\"CDSView\"}},\"id\":\"2a844e6e-d36a-4d10-a26d-c0e8f3075b68\",\"type\":\"GlyphRenderer\"},{\"attributes\":{},\"id\":\"c0c16a9a-cbc2-4b6d-a660-dec17bbd708b\",\"type\":\"Selection\"},{\"attributes\":{\"source\":{\"id\":\"e86dc4ab-243e-4dad-8cf7-f9de245def30\",\"type\":\"ColumnDataSource\"}},\"id\":\"94e0a54b-315f-4986-b966-d6fe62a9f0f9\",\"type\":\"CDSView\"},{\"attributes\":{},\"id\":\"e7a5b3ac-3bbe-4eed-8ddf-40ccb76fcd05\",\"type\":\"UnionRenderers\"},{\"attributes\":{\"items\":[{\"id\":\"c724a469-e0f9-4dd0-87ee-7630637b54ca\",\"type\":\"LegendItem\"},{\"id\":\"31ec74c9-7ec2-446f-8be8-f0cecd613699\",\"type\":\"LegendItem\"},{\"id\":\"72db2f8d-c935-406f-aad9-2c4318b02b35\",\"type\":\"LegendItem\"},{\"id\":\"96aa6b94-29ca-4d17-8555-9364bb0c91ff\",\"type\":\"LegendItem\"},{\"id\":\"c27b1a41-a56e-4b1d-8d4e-11e80ba7434d\",\"type\":\"LegendItem\"},{\"id\":\"b940c33e-cc29-413a-8c6a-dec94edd3537\",\"type\":\"LegendItem\"},{\"id\":\"df5f3436-2192-476c-97fc-23c059ff33e9\",\"type\":\"LegendItem\"},{\"id\":\"e26dbf5a-05b8-46f1-ac62-6f875d823af9\",\"type\":\"LegendItem\"}],\"plot\":{\"id\":\"6c767b0c-4625-4bad-bbd7-e794ccd90d29\",\"subtype\":\"Figure\",\"type\":\"Plot\"}},\"id\":\"57a13aff-7c23-4682-a427-90f0e912899a\",\"type\":\"Legend\"},{\"attributes\":{},\"id\":\"b8c4e276-5152-4df9-bad1-75abc246e0e1\",\"type\":\"Selection\"},{\"attributes\":{\"label\":{\"value\":\"200m\"},\"renderers\":[{\"id\":\"a1e05b5c-39d1-423b-8de2-ff63c35571ba\",\"type\":\"GlyphRenderer\"}]},\"id\":\"c724a469-e0f9-4dd0-87ee-7630637b54ca\",\"type\":\"LegendItem\"},{\"attributes\":{},\"id\":\"4285c5fb-ae9a-4a00-ab04-6d4a0a1dfb72\",\"type\":\"UnionRenderers\"},{\"attributes\":{\"callback\":null,\"data\":{},\"selected\":{\"id\":\"ebfeaef7-15d5-44cf-bfc3-5443d69ffbfa\",\"type\":\"Selection\"},\"selection_policy\":{\"id\":\"71f812d5-c972-43ec-8662-3867f48d235d\",\"type\":\"UnionRenderers\"}},\"id\":\"46b7d18b-fcbd-46bb-a589-632fa90913ab\",\"type\":\"ColumnDataSource\"},{\"attributes\":{},\"id\":\"8cd16f35-24e5-477c-9b58-2a40b8b028e8\",\"type\":\"Selection\"},{\"attributes\":{\"fill_alpha\":{\"value\":0.3},\"fill_color\":{\"value\":\"#003fff\"},\"line_alpha\":{\"value\":0.3},\"line_color\":{\"value\":\"firebrick\"},\"line_dash\":[6,3],\"size\":{\"units\":\"screen\",\"value\":20},\"x\":{\"value\":828247.8905607063},\"y\":{\"value\":5933750.707752705}},\"id\":\"83477f84-d2eb-4f89-9f6e-8ce2d47f21f4\",\"type\":\"Circle\"},{\"attributes\":{},\"id\":\"0414898b-cebb-4439-ad06-c4441e4447e6\",\"type\":\"UnionRenderers\"},{\"attributes\":{\"label\":{\"value\":\"700m\"},\"renderers\":[{\"id\":\"2a844e6e-d36a-4d10-a26d-c0e8f3075b68\",\"type\":\"GlyphRenderer\"}]},\"id\":\"b940c33e-cc29-413a-8c6a-dec94edd3537\",\"type\":\"LegendItem\"},{\"attributes\":{\"fill_alpha\":{\"value\":0.1},\"fill_color\":{\"value\":\"#1f77b4\"},\"line_alpha\":{\"value\":0.1},\"line_color\":{\"value\":\"#1f77b4\"},\"x\":{\"value\":828247.8905607063},\"y\":{\"value\":5933750.707752705}},\"id\":\"5ec0ceb8-7fb7-40f6-8575-ea3f19a835ec\",\"type\":\"Circle\"},{\"attributes\":{\"data_source\":{\"id\":\"f0b4c853-f4c1-43ff-8847-4a759fc0d469\",\"type\":\"ColumnDataSource\"},\"glyph\":{\"id\":\"83477f84-d2eb-4f89-9f6e-8ce2d47f21f4\",\"type\":\"Circle\"},\"hover_glyph\":null,\"muted_glyph\":null,\"nonselection_glyph\":{\"id\":\"5ec0ceb8-7fb7-40f6-8575-ea3f19a835ec\",\"type\":\"Circle\"},\"selection_glyph\":null,\"view\":{\"id\":\"cf13154a-74f7-4d07-91c8-4fdde8b8d0a2\",\"type\":\"CDSView\"}},\"id\":\"bb30af57-d5cb-4b0c-be2f-5cef39a8f71c\",\"type\":\"GlyphRenderer\"},{\"attributes\":{\"callback\":null,\"data\":{},\"selected\":{\"id\":\"e0699d77-19d8-4791-9c6e-2a2339342378\",\"type\":\"Selection\"},\"selection_policy\":{\"id\":\"cbf27e55-d5fd-4d54-a074-418e804d7c4b\",\"type\":\"UnionRenderers\"}},\"id\":\"429269f5-afd7-4836-b932-d0dd78e84389\",\"type\":\"ColumnDataSource\"},{\"attributes\":{\"source\":{\"id\":\"f0b4c853-f4c1-43ff-8847-4a759fc0d469\",\"type\":\"ColumnDataSource\"}},\"id\":\"cf13154a-74f7-4d07-91c8-4fdde8b8d0a2\",\"type\":\"CDSView\"},{\"attributes\":{\"fill_alpha\":{\"value\":0.3},\"fill_color\":{\"value\":\"#00d7ff\"},\"line_alpha\":{\"value\":0.3},\"line_color\":{\"value\":\"firebrick\"},\"line_dash\":[6,3],\"size\":{\"units\":\"screen\",\"value\":20},\"x\":{\"value\":950668.4513745566},\"y\":{\"value\":6002677.997532715}},\"id\":\"3106e79d-2a98-4396-9b92-e4bac9c122cc\",\"type\":\"Circle\"},{\"attributes\":{\"callback\":null,\"data\":{},\"selected\":{\"id\":\"4b1335e8-42b6-4532-a4d8-9aafffd6307f\",\"type\":\"Selection\"},\"selection_policy\":{\"id\":\"a7a5ec1e-eca9-43b0-b9a2-9889975796b6\",\"type\":\"UnionRenderers\"}},\"id\":\"82d00d96-1de4-4c84-8eaa-9a92dedf2a71\",\"type\":\"ColumnDataSource\"},{\"attributes\":{\"fill_alpha\":{\"value\":0.1},\"fill_color\":{\"value\":\"#1f77b4\"},\"line_alpha\":{\"value\":0.1},\"line_color\":{\"value\":\"#1f77b4\"},\"x\":{\"value\":950668.4513745566},\"y\":{\"value\":6002677.997532715}},\"id\":\"20ac9974-a79a-4e21-9ea2-ea3284b53246\",\"type\":\"Circle\"},{\"attributes\":{\"data_source\":{\"id\":\"9f206ac9-e5ce-4f4e-8e19-25545a087ee8\",\"type\":\"ColumnDataSource\"},\"glyph\":{\"id\":\"3106e79d-2a98-4396-9b92-e4bac9c122cc\",\"type\":\"Circle\"},\"hover_glyph\":null,\"muted_glyph\":null,\"nonselection_glyph\":{\"id\":\"20ac9974-a79a-4e21-9ea2-ea3284b53246\",\"type\":\"Circle\"},\"selection_glyph\":null,\"view\":{\"id\":\"9d06df6c-0cae-43d1-820f-e8c9f2cf3023\",\"type\":\"CDSView\"}},\"id\":\"7330df12-8f0d-4ccd-9e86-55eed5233f63\",\"type\":\"GlyphRenderer\"},{\"attributes\":{\"fill_color\":{\"value\":\"#003fff\"},\"line_color\":{\"value\":\"#003fff\"},\"size\":{\"units\":\"screen\",\"value\":3},\"x\":{\"value\":828247.8905607063},\"y\":{\"value\":5933750.707752705}},\"id\":\"f6cbe60d-99a0-4341-aea6-b37b7a3175f8\",\"type\":\"Circle\"},{\"attributes\":{\"fill_alpha\":{\"value\":0.1},\"fill_color\":{\"value\":\"#1f77b4\"},\"line_alpha\":{\"value\":0.1},\"line_color\":{\"value\":\"#1f77b4\"},\"size\":{\"units\":\"screen\",\"value\":3},\"x\":{\"value\":828247.8905607063},\"y\":{\"value\":5933750.707752705}},\"id\":\"7a97f6e9-bdc7-45fb-ad94-536da8b670f8\",\"type\":\"Circle\"},{\"attributes\":{\"source\":{\"id\":\"9f206ac9-e5ce-4f4e-8e19-25545a087ee8\",\"type\":\"ColumnDataSource\"}},\"id\":\"9d06df6c-0cae-43d1-820f-e8c9f2cf3023\",\"type\":\"CDSView\"},{\"attributes\":{\"data_source\":{\"id\":\"82d00d96-1de4-4c84-8eaa-9a92dedf2a71\",\"type\":\"ColumnDataSource\"},\"glyph\":{\"id\":\"f6cbe60d-99a0-4341-aea6-b37b7a3175f8\",\"type\":\"Circle\"},\"hover_glyph\":null,\"muted_glyph\":null,\"nonselection_glyph\":{\"id\":\"7a97f6e9-bdc7-45fb-ad94-536da8b670f8\",\"type\":\"Circle\"},\"selection_glyph\":null,\"view\":{\"id\":\"595d64d6-cf4c-4209-af41-6533e2f5c21a\",\"type\":\"CDSView\"}},\"id\":\"7fa1df86-1d31-4c56-899b-ce3faa2dc2dc\",\"type\":\"GlyphRenderer\"},{\"attributes\":{\"callback\":null,\"data\":{},\"selected\":{\"id\":\"d22ca8bf-d11b-4cd2-8ffa-751b0911badd\",\"type\":\"Selection\"},\"selection_policy\":{\"id\":\"d3259659-f1d3-428c-b83b-02d9be144de7\",\"type\":\"UnionRenderers\"}},\"id\":\"c35cd56e-d0e2-4d95-abd1-bc46cf003d97\",\"type\":\"ColumnDataSource\"},{\"attributes\":{\"source\":{\"id\":\"82d00d96-1de4-4c84-8eaa-9a92dedf2a71\",\"type\":\"ColumnDataSource\"}},\"id\":\"595d64d6-cf4c-4209-af41-6533e2f5c21a\",\"type\":\"CDSView\"},{\"attributes\":{\"fill_color\":{\"value\":\"#00d7ff\"},\"line_color\":{\"value\":\"#00d7ff\"},\"size\":{\"units\":\"screen\",\"value\":3},\"x\":{\"value\":950668.4513745566},\"y\":{\"value\":6002677.997532715}},\"id\":\"355486b7-2386-4610-bfc0-4251d7b691df\",\"type\":\"Circle\"},{\"attributes\":{\"fill_alpha\":{\"value\":0.1},\"fill_color\":{\"value\":\"#1f77b4\"},\"line_alpha\":{\"value\":0.1},\"line_color\":{\"value\":\"#1f77b4\"},\"size\":{\"units\":\"screen\",\"value\":3},\"x\":{\"value\":950668.4513745566},\"y\":{\"value\":6002677.997532715}},\"id\":\"57705a00-78d7-438b-a68e-f765f48a80ce\",\"type\":\"Circle\"},{\"attributes\":{},\"id\":\"c2e6ec08-d40e-4026-84dc-22aa0f1996fc\",\"type\":\"Selection\"},{\"attributes\":{\"data_source\":{\"id\":\"c35cd56e-d0e2-4d95-abd1-bc46cf003d97\",\"type\":\"ColumnDataSource\"},\"glyph\":{\"id\":\"355486b7-2386-4610-bfc0-4251d7b691df\",\"type\":\"Circle\"},\"hover_glyph\":null,\"muted_glyph\":null,\"nonselection_glyph\":{\"id\":\"57705a00-78d7-438b-a68e-f765f48a80ce\",\"type\":\"Circle\"},\"selection_glyph\":null,\"view\":{\"id\":\"247b87d2-cec0-40f5-94ee-22f1f15a4895\",\"type\":\"CDSView\"}},\"id\":\"a3622dac-8f74-4529-8748-7247682c7860\",\"type\":\"GlyphRenderer\"},{\"attributes\":{},\"id\":\"4ca4606f-fb7b-484a-b4f6-dcf18d9724fb\",\"type\":\"UnionRenderers\"},{\"attributes\":{\"source\":{\"id\":\"c35cd56e-d0e2-4d95-abd1-bc46cf003d97\",\"type\":\"ColumnDataSource\"}},\"id\":\"247b87d2-cec0-40f5-94ee-22f1f15a4895\",\"type\":\"CDSView\"},{\"attributes\":{},\"id\":\"6f3854f5-bcf1-4763-8906-542a5cdafb5b\",\"type\":\"Selection\"},{\"attributes\":{},\"id\":\"17f580d4-c6c1-42e7-8f30-242ab4b7f2cb\",\"type\":\"UnionRenderers\"},{\"attributes\":{},\"id\":\"6c5df6e8-64d8-4aa1-9ae0-b0faee8f49d2\",\"type\":\"Selection\"},{\"attributes\":{\"label\":{\"value\":\"300m\"},\"renderers\":[{\"id\":\"7fa1df86-1d31-4c56-899b-ce3faa2dc2dc\",\"type\":\"GlyphRenderer\"}]},\"id\":\"31ec74c9-7ec2-446f-8be8-f0cecd613699\",\"type\":\"LegendItem\"},{\"attributes\":{},\"id\":\"76aa9bc4-f268-4a32-9812-1b6193eabbcd\",\"type\":\"UnionRenderers\"},{\"attributes\":{\"callback\":null,\"data\":{},\"selected\":{\"id\":\"258ee2f0-2ae7-404b-8e31-5d94374f5a1f\",\"type\":\"Selection\"},\"selection_policy\":{\"id\":\"888ba16c-465a-41bc-8ce6-3990c3397c05\",\"type\":\"UnionRenderers\"}},\"id\":\"b0972714-7ad0-4607-88de-bd914c70f50f\",\"type\":\"ColumnDataSource\"},{\"attributes\":{},\"id\":\"0dada096-6e94-459b-a666-629c895a57e3\",\"type\":\"Selection\"},{\"attributes\":{\"fill_alpha\":{\"value\":0.3},\"fill_color\":{\"value\":\"#03ed3a\"},\"line_alpha\":{\"value\":0.3},\"line_color\":{\"value\":\"firebrick\"},\"line_dash\":[6,3],\"size\":{\"units\":\"screen\",\"value\":20},\"x\":{\"value\":828247.8905607063},\"y\":{\"value\":5933750.707752705}},\"id\":\"2937d332-a2d3-460e-bf1c-79f108d1ac20\",\"type\":\"Circle\"},{\"attributes\":{},\"id\":\"fdfa7d0e-4513-4d62-b735-8c19d9b8ddec\",\"type\":\"UnionRenderers\"},{\"attributes\":{\"label\":{\"value\":\"800m\"},\"renderers\":[{\"id\":\"a3622dac-8f74-4529-8748-7247682c7860\",\"type\":\"GlyphRenderer\"}]},\"id\":\"df5f3436-2192-476c-97fc-23c059ff33e9\",\"type\":\"LegendItem\"},{\"attributes\":{\"fill_alpha\":{\"value\":0.1},\"fill_color\":{\"value\":\"#1f77b4\"},\"line_alpha\":{\"value\":0.1},\"line_color\":{\"value\":\"#1f77b4\"},\"x\":{\"value\":828247.8905607063},\"y\":{\"value\":5933750.707752705}},\"id\":\"f55f3191-e480-4776-80b2-6fe17a8db1ff\",\"type\":\"Circle\"},{\"attributes\":{\"data_source\":{\"id\":\"46b7d18b-fcbd-46bb-a589-632fa90913ab\",\"type\":\"ColumnDataSource\"},\"glyph\":{\"id\":\"2937d332-a2d3-460e-bf1c-79f108d1ac20\",\"type\":\"Circle\"},\"hover_glyph\":null,\"muted_glyph\":null,\"nonselection_glyph\":{\"id\":\"f55f3191-e480-4776-80b2-6fe17a8db1ff\",\"type\":\"Circle\"},\"selection_glyph\":null,\"view\":{\"id\":\"8b5edebf-b59c-47c6-b535-425e267977d9\",\"type\":\"CDSView\"}},\"id\":\"057fffac-1a8d-4e01-968f-f075883ee50c\",\"type\":\"GlyphRenderer\"},{\"attributes\":{\"attribution\":\"&copy; <a href=\\\"https://www.openstreetmap.org/copyright\\\">OpenStreetMap</a> contributors,&copy; <a href=\\\"https://cartodb.com/attributions\\\">CartoDB</a>\",\"url\":\"https://tiles.basemaps.cartocdn.com/light_all/{z}/{x}/{y}.png\"},\"id\":\"d58afdcd-a530-4ac0-94f0-5ff57ad291a7\",\"type\":\"WMTSTileSource\"},{\"attributes\":{\"source\":{\"id\":\"46b7d18b-fcbd-46bb-a589-632fa90913ab\",\"type\":\"ColumnDataSource\"}},\"id\":\"8b5edebf-b59c-47c6-b535-425e267977d9\",\"type\":\"CDSView\"},{\"attributes\":{\"fill_alpha\":{\"value\":0.3},\"fill_color\":{\"value\":\"magenta\"},\"line_alpha\":{\"value\":0.3},\"line_color\":{\"value\":\"firebrick\"},\"line_dash\":[6,3],\"size\":{\"units\":\"screen\",\"value\":20},\"x\":{\"value\":950668.4513745566},\"y\":{\"value\":6002677.997532715}},\"id\":\"695bb14c-5b77-4f68-8e9c-1dc98acc7074\",\"type\":\"Circle\"},{\"attributes\":{\"callback\":null,\"data\":{},\"selected\":{\"id\":\"ae46353a-87f8-45a7-a65c-f60b16af524b\",\"type\":\"Selection\"},\"selection_policy\":{\"id\":\"d4225ac1-5a30-4865-807b-a51dee292b72\",\"type\":\"UnionRenderers\"}},\"id\":\"c2ba7d7b-a237-463d-b2a1-1602c514f289\",\"type\":\"ColumnDataSource\"},{\"attributes\":{\"fill_alpha\":{\"value\":0.1},\"fill_color\":{\"value\":\"#1f77b4\"},\"line_alpha\":{\"value\":0.1},\"line_color\":{\"value\":\"#1f77b4\"},\"x\":{\"value\":950668.4513745566},\"y\":{\"value\":6002677.997532715}},\"id\":\"030c4879-712e-4306-b1b8-3529e4e095bd\",\"type\":\"Circle\"},{\"attributes\":{\"data_source\":{\"id\":\"429269f5-afd7-4836-b932-d0dd78e84389\",\"type\":\"ColumnDataSource\"},\"glyph\":{\"id\":\"695bb14c-5b77-4f68-8e9c-1dc98acc7074\",\"type\":\"Circle\"},\"hover_glyph\":null,\"muted_glyph\":null,\"nonselection_glyph\":{\"id\":\"030c4879-712e-4306-b1b8-3529e4e095bd\",\"type\":\"Circle\"},\"selection_glyph\":null,\"view\":{\"id\":\"1c180e70-c740-4a9d-be29-b5ca6e148b5a\",\"type\":\"CDSView\"}},\"id\":\"f6ea2b25-aed0-44be-ba27-84f1707feda0\",\"type\":\"GlyphRenderer\"},{\"attributes\":{\"fill_color\":{\"value\":\"#03ed3a\"},\"line_color\":{\"value\":\"#03ed3a\"},\"size\":{\"units\":\"screen\",\"value\":3},\"x\":{\"value\":828247.8905607063},\"y\":{\"value\":5933750.707752705}},\"id\":\"3633248d-9936-4417-8e8c-12701e974357\",\"type\":\"Circle\"},{\"attributes\":{\"fill_alpha\":{\"value\":0.1},\"fill_color\":{\"value\":\"#1f77b4\"},\"line_alpha\":{\"value\":0.1},\"line_color\":{\"value\":\"#1f77b4\"},\"size\":{\"units\":\"screen\",\"value\":3},\"x\":{\"value\":828247.8905607063},\"y\":{\"value\":5933750.707752705}},\"id\":\"1ae3dd48-a83f-4112-bf37-49ceb5d46d83\",\"type\":\"Circle\"},{\"attributes\":{\"source\":{\"id\":\"429269f5-afd7-4836-b932-d0dd78e84389\",\"type\":\"ColumnDataSource\"}},\"id\":\"1c180e70-c740-4a9d-be29-b5ca6e148b5a\",\"type\":\"CDSView\"},{\"attributes\":{\"data_source\":{\"id\":\"c2ba7d7b-a237-463d-b2a1-1602c514f289\",\"type\":\"ColumnDataSource\"},\"glyph\":{\"id\":\"3633248d-9936-4417-8e8c-12701e974357\",\"type\":\"Circle\"},\"hover_glyph\":null,\"muted_glyph\":null,\"nonselection_glyph\":{\"id\":\"1ae3dd48-a83f-4112-bf37-49ceb5d46d83\",\"type\":\"Circle\"},\"selection_glyph\":null,\"view\":{\"id\":\"730c1d45-f1cf-4bd7-a156-907a9e227df8\",\"type\":\"CDSView\"}},\"id\":\"6265853a-a60d-4ffd-b7e4-aacae6166f07\",\"type\":\"GlyphRenderer\"},{\"attributes\":{\"callback\":null,\"data\":{},\"selected\":{\"id\":\"31a9c210-028d-49e4-addc-f1c0916451d7\",\"type\":\"Selection\"},\"selection_policy\":{\"id\":\"a1a2b989-b237-4afe-97f9-5c7d7c64a604\",\"type\":\"UnionRenderers\"}},\"id\":\"7df67527-c6be-4c6a-9afe-f632818b5c45\",\"type\":\"ColumnDataSource\"},{\"attributes\":{\"source\":{\"id\":\"c2ba7d7b-a237-463d-b2a1-1602c514f289\",\"type\":\"ColumnDataSource\"}},\"id\":\"730c1d45-f1cf-4bd7-a156-907a9e227df8\",\"type\":\"CDSView\"},{\"attributes\":{\"fill_color\":{\"value\":\"magenta\"},\"line_color\":{\"value\":\"magenta\"},\"size\":{\"units\":\"screen\",\"value\":3},\"x\":{\"value\":950668.4513745566},\"y\":{\"value\":6002677.997532715}},\"id\":\"b28a5965-3dee-462f-827b-c75d7c0ff73b\",\"type\":\"Circle\"},{\"attributes\":{\"fill_alpha\":{\"value\":0.1},\"fill_color\":{\"value\":\"#1f77b4\"},\"line_alpha\":{\"value\":0.1},\"line_color\":{\"value\":\"#1f77b4\"},\"size\":{\"units\":\"screen\",\"value\":3},\"x\":{\"value\":950668.4513745566},\"y\":{\"value\":6002677.997532715}},\"id\":\"5909497b-1a10-404b-8208-cc52b06c5a3b\",\"type\":\"Circle\"},{\"attributes\":{},\"id\":\"4b1335e8-42b6-4532-a4d8-9aafffd6307f\",\"type\":\"Selection\"},{\"attributes\":{\"data_source\":{\"id\":\"7df67527-c6be-4c6a-9afe-f632818b5c45\",\"type\":\"ColumnDataSource\"},\"glyph\":{\"id\":\"b28a5965-3dee-462f-827b-c75d7c0ff73b\",\"type\":\"Circle\"},\"hover_glyph\":null,\"muted_glyph\":null,\"nonselection_glyph\":{\"id\":\"5909497b-1a10-404b-8208-cc52b06c5a3b\",\"type\":\"Circle\"},\"selection_glyph\":null,\"view\":{\"id\":\"e4713265-1420-4ec6-bbbe-ecf86846dba6\",\"type\":\"CDSView\"}},\"id\":\"122ca953-df43-4e0a-98df-07340e956c51\",\"type\":\"GlyphRenderer\"},{\"attributes\":{},\"id\":\"a7a5ec1e-eca9-43b0-b9a2-9889975796b6\",\"type\":\"UnionRenderers\"},{\"attributes\":{\"source\":{\"id\":\"7df67527-c6be-4c6a-9afe-f632818b5c45\",\"type\":\"ColumnDataSource\"}},\"id\":\"e4713265-1420-4ec6-bbbe-ecf86846dba6\",\"type\":\"CDSView\"},{\"attributes\":{},\"id\":\"ebfeaef7-15d5-44cf-bfc3-5443d69ffbfa\",\"type\":\"Selection\"},{\"attributes\":{},\"id\":\"71f812d5-c972-43ec-8662-3867f48d235d\",\"type\":\"UnionRenderers\"},{\"attributes\":{},\"id\":\"d22ca8bf-d11b-4cd2-8ffa-751b0911badd\",\"type\":\"Selection\"},{\"attributes\":{\"label\":{\"value\":\"400m\"},\"renderers\":[{\"id\":\"6265853a-a60d-4ffd-b7e4-aacae6166f07\",\"type\":\"GlyphRenderer\"}]},\"id\":\"72db2f8d-c935-406f-aad9-2c4318b02b35\",\"type\":\"LegendItem\"},{\"attributes\":{},\"id\":\"d3259659-f1d3-428c-b83b-02d9be144de7\",\"type\":\"UnionRenderers\"},{\"attributes\":{\"callback\":null,\"data\":{},\"selected\":{\"id\":\"5b06d665-8e31-4880-b946-2efbb2eb2781\",\"type\":\"Selection\"},\"selection_policy\":{\"id\":\"1185bbd2-2b6c-4ac2-a96a-f1da9c045c0d\",\"type\":\"UnionRenderers\"}},\"id\":\"b162f226-d4d2-41f5-8e06-2481c1454323\",\"type\":\"ColumnDataSource\"},{\"attributes\":{},\"id\":\"e0699d77-19d8-4791-9c6e-2a2339342378\",\"type\":\"Selection\"},{\"attributes\":{\"fill_alpha\":{\"value\":0.3},\"fill_color\":{\"value\":\"#e8000b\"},\"line_alpha\":{\"value\":0.3},\"line_color\":{\"value\":\"firebrick\"},\"line_dash\":[6,3],\"size\":{\"units\":\"screen\",\"value\":20},\"x\":{\"value\":950551.5659092232},\"y\":{\"value\":6003549.187059372}},\"id\":\"ccabc561-bb0d-47f0-b7f4-a75faa8c4a4e\",\"type\":\"Circle\"},{\"attributes\":{},\"id\":\"cbf27e55-d5fd-4d54-a074-418e804d7c4b\",\"type\":\"UnionRenderers\"},{\"attributes\":{\"tile_source\":{\"id\":\"d58afdcd-a530-4ac0-94f0-5ff57ad291a7\",\"type\":\"WMTSTileSource\"}},\"id\":\"d22dec88-1661-4f40-a944-eafbec9f6694\",\"type\":\"TileRenderer\"},{\"attributes\":{\"label\":{\"value\":\"1000m\"},\"renderers\":[{\"id\":\"122ca953-df43-4e0a-98df-07340e956c51\",\"type\":\"GlyphRenderer\"}]},\"id\":\"e26dbf5a-05b8-46f1-ac62-6f875d823af9\",\"type\":\"LegendItem\"},{\"attributes\":{\"fill_alpha\":{\"value\":0.1},\"fill_color\":{\"value\":\"#1f77b4\"},\"line_alpha\":{\"value\":0.1},\"line_color\":{\"value\":\"#1f77b4\"},\"x\":{\"value\":950551.5659092232},\"y\":{\"value\":6003549.187059372}},\"id\":\"48e00a32-08b8-4f99-93ed-3c841784380d\",\"type\":\"Circle\"},{\"attributes\":{\"data_source\":{\"id\":\"b0972714-7ad0-4607-88de-bd914c70f50f\",\"type\":\"ColumnDataSource\"},\"glyph\":{\"id\":\"ccabc561-bb0d-47f0-b7f4-a75faa8c4a4e\",\"type\":\"Circle\"},\"hover_glyph\":null,\"muted_glyph\":null,\"nonselection_glyph\":{\"id\":\"48e00a32-08b8-4f99-93ed-3c841784380d\",\"type\":\"Circle\"},\"selection_glyph\":null,\"view\":{\"id\":\"17e9d721-173b-43fb-ab55-6cb8e56b186e\",\"type\":\"CDSView\"}},\"id\":\"8cbd4832-0b28-48b6-9eff-520c68f4e4d5\",\"type\":\"GlyphRenderer\"},{\"attributes\":{\"below\":[{\"id\":\"29595a8f-b1db-43de-8394-851277d3cdc7\",\"type\":\"MercatorAxis\"}],\"left\":[{\"id\":\"ba3786be-fce0-46ff-b29b-5f7ee8688f1e\",\"type\":\"MercatorAxis\"}],\"plot_height\":400,\"renderers\":[{\"id\":\"29595a8f-b1db-43de-8394-851277d3cdc7\",\"type\":\"MercatorAxis\"},{\"id\":\"66928a06-05b4-422f-a69d-d08b1547a088\",\"type\":\"Grid\"},{\"id\":\"ba3786be-fce0-46ff-b29b-5f7ee8688f1e\",\"type\":\"MercatorAxis\"},{\"id\":\"50a11e2c-cdb6-4a1d-9641-14d08dc758c8\",\"type\":\"Grid\"},{\"id\":\"d22dec88-1661-4f40-a944-eafbec9f6694\",\"type\":\"TileRenderer\"},{\"id\":\"3348807f-f7d6-46a4-8d9f-18f6f482e107\",\"type\":\"GlyphRenderer\"},{\"id\":\"57a13aff-7c23-4682-a427-90f0e912899a\",\"type\":\"Legend\"},{\"id\":\"a1e05b5c-39d1-423b-8de2-ff63c35571ba\",\"type\":\"GlyphRenderer\"},{\"id\":\"bb30af57-d5cb-4b0c-be2f-5cef39a8f71c\",\"type\":\"GlyphRenderer\"},{\"id\":\"7fa1df86-1d31-4c56-899b-ce3faa2dc2dc\",\"type\":\"GlyphRenderer\"},{\"id\":\"057fffac-1a8d-4e01-968f-f075883ee50c\",\"type\":\"GlyphRenderer\"},{\"id\":\"6265853a-a60d-4ffd-b7e4-aacae6166f07\",\"type\":\"GlyphRenderer\"},{\"id\":\"8cbd4832-0b28-48b6-9eff-520c68f4e4d5\",\"type\":\"GlyphRenderer\"},{\"id\":\"30eca858-2ffe-40cb-b4a6-51ea6ffbaeea\",\"type\":\"GlyphRenderer\"},{\"id\":\"b1ebe039-af78-4789-872b-640110528ccd\",\"type\":\"GlyphRenderer\"},{\"id\":\"2632c059-fa80-47f3-ad5d-9b10ecc5208f\",\"type\":\"GlyphRenderer\"},{\"id\":\"e96fa001-de81-462e-a1f8-a35b07cbb683\",\"type\":\"GlyphRenderer\"},{\"id\":\"2a844e6e-d36a-4d10-a26d-c0e8f3075b68\",\"type\":\"GlyphRenderer\"},{\"id\":\"7330df12-8f0d-4ccd-9e86-55eed5233f63\",\"type\":\"GlyphRenderer\"},{\"id\":\"a3622dac-8f74-4529-8748-7247682c7860\",\"type\":\"GlyphRenderer\"},{\"id\":\"f6ea2b25-aed0-44be-ba27-84f1707feda0\",\"type\":\"GlyphRenderer\"},{\"id\":\"122ca953-df43-4e0a-98df-07340e956c51\",\"type\":\"GlyphRenderer\"}],\"title\":{\"id\":\"2b4045d5-b058-4839-b6eb-7b6093e1dbc9\",\"type\":\"Title\"},\"toolbar\":{\"id\":\"7783d16c-a919-4c6d-a8d9-ce42adfb2df3\",\"type\":\"Toolbar\"},\"x_range\":{\"id\":\"1cb4dbb3-1489-4300-abd7-00364f835e9e\",\"type\":\"DataRange1d\"},\"x_scale\":{\"id\":\"effcf6a7-9b07-4904-b1b9-89d0c83b3aec\",\"type\":\"LinearScale\"},\"y_range\":{\"id\":\"017e0344-c598-41db-ab5b-6b59318d89a5\",\"type\":\"DataRange1d\"},\"y_scale\":{\"id\":\"685d4dab-b36f-45ed-b104-af666b42c560\",\"type\":\"LinearScale\"}},\"id\":\"6c767b0c-4625-4bad-bbd7-e794ccd90d29\",\"subtype\":\"Figure\",\"type\":\"Plot\"},{\"attributes\":{\"source\":{\"id\":\"b0972714-7ad0-4607-88de-bd914c70f50f\",\"type\":\"ColumnDataSource\"}},\"id\":\"17e9d721-173b-43fb-ab55-6cb8e56b186e\",\"type\":\"CDSView\"},{\"attributes\":{\"callback\":null,\"data\":{},\"selected\":{\"id\":\"0cddec89-d8b0-4b0e-a555-5d5dd27f85e9\",\"type\":\"Selection\"},\"selection_policy\":{\"id\":\"28f4c5bd-bb4a-497a-894d-aef10c19e6ac\",\"type\":\"UnionRenderers\"}},\"id\":\"f98ce274-7548-498b-abbe-5101dfce6b21\",\"type\":\"ColumnDataSource\"},{\"attributes\":{},\"id\":\"a1a2b989-b237-4afe-97f9-5c7d7c64a604\",\"type\":\"UnionRenderers\"},{\"attributes\":{\"plot\":null,\"text\":\"Greatests RC for each radius\"},\"id\":\"2b4045d5-b058-4839-b6eb-7b6093e1dbc9\",\"type\":\"Title\"},{\"attributes\":{\"fill_color\":{\"value\":\"#e8000b\"},\"line_color\":{\"value\":\"#e8000b\"},\"size\":{\"units\":\"screen\",\"value\":3},\"x\":{\"value\":950551.5659092232},\"y\":{\"value\":6003549.187059372}},\"id\":\"921a674a-a2d3-4e67-8236-70fa4cd2a3ba\",\"type\":\"Circle\"},{\"attributes\":{\"fill_alpha\":{\"value\":0.1},\"fill_color\":{\"value\":\"#1f77b4\"},\"line_alpha\":{\"value\":0.1},\"line_color\":{\"value\":\"#1f77b4\"},\"size\":{\"units\":\"screen\",\"value\":3},\"x\":{\"value\":950551.5659092232},\"y\":{\"value\":6003549.187059372}},\"id\":\"b389d89b-7ad8-407f-8665-33ac962c5729\",\"type\":\"Circle\"},{\"attributes\":{\"data_source\":{\"id\":\"f98ce274-7548-498b-abbe-5101dfce6b21\",\"type\":\"ColumnDataSource\"},\"glyph\":{\"id\":\"921a674a-a2d3-4e67-8236-70fa4cd2a3ba\",\"type\":\"Circle\"},\"hover_glyph\":null,\"muted_glyph\":null,\"nonselection_glyph\":{\"id\":\"b389d89b-7ad8-407f-8665-33ac962c5729\",\"type\":\"Circle\"},\"selection_glyph\":null,\"view\":{\"id\":\"055b6597-2857-4012-afb3-6dddc8249b7c\",\"type\":\"CDSView\"}},\"id\":\"30eca858-2ffe-40cb-b4a6-51ea6ffbaeea\",\"type\":\"GlyphRenderer\"},{\"attributes\":{\"source\":{\"id\":\"f98ce274-7548-498b-abbe-5101dfce6b21\",\"type\":\"ColumnDataSource\"}},\"id\":\"055b6597-2857-4012-afb3-6dddc8249b7c\",\"type\":\"CDSView\"},{\"attributes\":{},\"id\":\"ae46353a-87f8-45a7-a65c-f60b16af524b\",\"type\":\"Selection\"},{\"attributes\":{\"callback\":null,\"data\":{},\"selected\":{\"id\":\"6f3854f5-bcf1-4763-8906-542a5cdafb5b\",\"type\":\"Selection\"},\"selection_policy\":{\"id\":\"17f580d4-c6c1-42e7-8f30-242ab4b7f2cb\",\"type\":\"UnionRenderers\"}},\"id\":\"f0b4c853-f4c1-43ff-8847-4a759fc0d469\",\"type\":\"ColumnDataSource\"}],\"root_ids\":[\"6c767b0c-4625-4bad-bbd7-e794ccd90d29\"]},\"title\":\"Bokeh Application\",\"version\":\"0.13.0\"}};\n",
       "  var render_items = [{\"docid\":\"3e96fc78-4ec7-44bc-a44f-a868f031352e\",\"roots\":{\"6c767b0c-4625-4bad-bbd7-e794ccd90d29\":\"60d15487-7a4c-4c1e-948d-e80f5f60428d\"}}];\n",
       "  root.Bokeh.embed.embed_items_notebook(docs_json, render_items);\n",
       "\n",
       "  }\n",
       "  if (root.Bokeh !== undefined) {\n",
       "    embed_document(root);\n",
       "  } else {\n",
       "    var attempts = 0;\n",
       "    var timer = setInterval(function(root) {\n",
       "      if (root.Bokeh !== undefined) {\n",
       "        embed_document(root);\n",
       "        clearInterval(timer);\n",
       "      }\n",
       "      attempts++;\n",
       "      if (attempts > 100) {\n",
       "        console.log(\"Bokeh: ERROR: Unable to run BokehJS code because BokehJS library is missing\")\n",
       "        clearInterval(timer);\n",
       "      }\n",
       "    }, 10, root)\n",
       "  }\n",
       "})(window);"
      ],
      "application/vnd.bokehjs_exec.v0+json": ""
     },
     "metadata": {
      "application/vnd.bokehjs_exec.v0+json": {
       "id": "6c767b0c-4625-4bad-bbd7-e794ccd90d29"
      }
     },
     "output_type": "display_data"
    }
   ],
   "source": [
    "colors = palette() + [\"magenta\"]\n",
    "p = biggests_pois[200].plot(title=\"Greatests RC for each radius\", legend=\"200m\", color=colors[0], width=600, height=400)\n",
    "p = biggests_pois[300].plot(legend=\"300m\", color=colors[0], p=p)\n",
    "p = biggests_pois[400].plot(legend=\"400m\", color=colors[1], p=p)\n",
    "p = biggests_pois[500].plot(legend=\"500m\", color=colors[2], p=p)\n",
    "p = biggests_pois[600].plot(legend=\"600m\", color=colors[3], p=p)\n",
    "p = biggests_pois[700].plot(legend=\"700m\", color=colors[4], p=p)\n",
    "p = biggests_pois[800].plot(legend=\"800m\", color=colors[5], p=p)\n",
    "p = biggests_pois[1000].plot(legend=\"1000m\", color=colors[6], p=p)\n",
    "\n",
    "show(p)"
   ]
  },
  {
   "cell_type": "code",
   "execution_count": 22,
   "metadata": {},
   "outputs": [
    {
     "name": "stdout",
     "output_type": "stream",
     "text": [
      "200m - Latitude: 47.37707500000001, Longitude: 8.539591999999999\n",
      "300m - Latitude: 46.94898260869565, Longitude: 7.440277391304347\n",
      "400m - Latitude: 46.94898260869565, Longitude: 7.440277391304347\n",
      "500m - Latitude: 47.3753, Longitude: 8.53895\n",
      "600m - Latitude: 47.3753, Longitude: 8.53895\n",
      "700m - Latitude: 47.36999999999999, Longitude: 8.539999999999997\n",
      "800m - Latitude: 47.36999999999999, Longitude: 8.539999999999997\n",
      "1000m - Latitude: 47.36999999999999, Longitude: 8.539999999999997\n"
     ]
    }
   ],
   "source": [
    "for radius in biggests_pois.keys():\n",
    "    print(\"{}m - Latitude: {}, Longitude: {}\".format(radius, biggests_pois[radius].center_lat, biggests_pois[radius].center_lon))"
   ]
  },
  {
   "cell_type": "code",
   "execution_count": null,
   "metadata": {},
   "outputs": [],
   "source": []
  },
  {
   "cell_type": "code",
   "execution_count": null,
   "metadata": {},
   "outputs": [],
   "source": []
  },
  {
   "cell_type": "code",
   "execution_count": 23,
   "metadata": {},
   "outputs": [
    {
     "name": "stdout",
     "output_type": "stream",
     "text": [
      "Amount of Request Circles with no HOT OSM POIs\n",
      "200m\t-  57.09%\n",
      "300m\t-  48.03%\n",
      "400m\t-  46.13%\n",
      "500m\t-  39.81%\n",
      "600m\t-  40.42%\n",
      "700m\t-  35.58%\n",
      "800m\t-  33.59%\n",
      "1000m\t-  31.58%\n"
     ]
    }
   ],
   "source": [
    "print(\"Amount of Request Circles with no HOT OSM POIs\")\n",
    "for rc_with_pois_inside in geo_circles_list:\n",
    "    print(\"{}m\\t-  {:.2f}%\".format(rc_with_pois_inside[\"request_circle\"].iloc[0].radius_m, 100 * len(rc_with_pois_inside[rc_with_pois_inside[\"pois_size\"] == 0]) / len(rc_with_pois_inside)))"
   ]
  },
  {
   "cell_type": "code",
   "execution_count": null,
   "metadata": {},
   "outputs": [],
   "source": []
  }
 ],
 "metadata": {
  "kernelspec": {
   "display_name": "Python 3",
   "language": "python",
   "name": "python3"
  },
  "language_info": {
   "codemirror_mode": {
    "name": "ipython",
    "version": 3
   },
   "file_extension": ".py",
   "mimetype": "text/x-python",
   "name": "python",
   "nbconvert_exporter": "python",
   "pygments_lexer": "ipython3",
   "version": "3.6.5"
  }
 },
 "nbformat": 4,
 "nbformat_minor": 2
}
