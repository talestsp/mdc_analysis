{
 "cells": [
  {
   "cell_type": "markdown",
   "metadata": {},
   "source": [
    "# Extreme Travelers\n",
    "\n",
    "Early birds, night owls, and tireless/recurring itinerants: \n",
    "An exploratory analysis of extreme transit behaviors in Beijing, China\n",
    "\n",
    "https://www.sciencedirect.com/science/article/pii/S0197397516301539"
   ]
  },
  {
   "cell_type": "code",
   "execution_count": 1,
   "metadata": {},
   "outputs": [
    {
     "name": "stdout",
     "output_type": "stream",
     "text": [
      "working dir /home/tales/dev/master/mdc_analysis\n"
     ]
    }
   ],
   "source": [
    "import os\n",
    "os.chdir(\"/home/tales/dev/master/mdc_analysis/\")\n",
    "print(\"working dir\", os.getcwd())"
   ]
  },
  {
   "cell_type": "code",
   "execution_count": 2,
   "metadata": {},
   "outputs": [],
   "source": [
    "import pandas as pd\n",
    "\n",
    "from src.dao import csv_dao\n",
    "from src.dao import objects_dao\n",
    "from src.similarity.extreme_travelers import early_bird, nigh_owl, tireless_intinerant\n",
    "from src.similarity.extreme_travelers import sequence_report"
   ]
  },
  {
   "cell_type": "markdown",
   "metadata": {},
   "source": [
    "## Loading User Data"
   ]
  },
  {
   "cell_type": "code",
   "execution_count": 3,
   "metadata": {
    "scrolled": true
   },
   "outputs": [
    {
     "name": "stdout",
     "output_type": "stream",
     "text": [
      "Loading user_id: 6189 - 1 out of 163\n",
      "Loading user_id: 5936 - 2 out of 163\n",
      "Loading user_id: 6087 - 3 out of 163\n",
      "Loading user_id: 5973 - 4 out of 163\n",
      "Loading user_id: 6085 - 5 out of 163\n",
      "Loading user_id: 6074 - 6 out of 163\n",
      "Loading user_id: 6012 - 7 out of 163\n",
      "Loading user_id: 5982 - 8 out of 163\n",
      "Loading user_id: 5948 - 9 out of 163\n",
      "Loading user_id: 5974 - 10 out of 163\n",
      "Loading user_id: 6090 - 11 out of 163\n",
      "Loading user_id: 6199 - 12 out of 163\n",
      "Loading user_id: 6068 - 13 out of 163\n",
      "Loading user_id: 6024 - 14 out of 163\n",
      "Loading user_id: 5976 - 15 out of 163\n",
      "Loading user_id: 6094 - 16 out of 163\n",
      "Loading user_id: 5941 - 17 out of 163\n",
      "Loading user_id: 5995 - 18 out of 163\n",
      "Loading user_id: 5962 - 19 out of 163\n",
      "Loading user_id: 6093 - 20 out of 163\n",
      "Loading user_id: 6033 - 21 out of 163\n",
      "Loading user_id: 6079 - 22 out of 163\n",
      "Loading user_id: 6038 - 23 out of 163\n",
      "Loading user_id: 6175 - 24 out of 163\n",
      "Loading user_id: 6042 - 25 out of 163\n",
      "Loading user_id: 5924 - 26 out of 163\n",
      "Loading user_id: 6083 - 27 out of 163\n",
      "Loading user_id: 6178 - 28 out of 163\n",
      "Loading user_id: 5958 - 29 out of 163\n",
      "Loading user_id: 6086 - 30 out of 163\n",
      "Loading user_id: 6100 - 31 out of 163\n",
      "Loading user_id: 5945 - 32 out of 163\n",
      "Loading user_id: 5925 - 33 out of 163\n",
      "Loading user_id: 5935 - 34 out of 163\n",
      "Loading user_id: 6172 - 35 out of 163\n",
      "Loading user_id: 5955 - 36 out of 163\n",
      "Loading user_id: 6073 - 37 out of 163\n",
      "Loading user_id: 5980 - 38 out of 163\n",
      "Loading user_id: 6010 - 39 out of 163\n",
      "Loading user_id: 5993 - 40 out of 163\n",
      "Loading user_id: 6037 - 41 out of 163\n",
      "Loading user_id: 5979 - 42 out of 163\n",
      "Loading user_id: 5966 - 43 out of 163\n",
      "Loading user_id: 5985 - 44 out of 163\n",
      "Loading user_id: 5967 - 45 out of 163\n",
      "Loading user_id: 5970 - 46 out of 163\n",
      "Loading user_id: 6169 - 47 out of 163\n",
      "Loading user_id: 6188 - 48 out of 163\n",
      "Loading user_id: 6097 - 49 out of 163\n",
      "Loading user_id: 6096 - 50 out of 163\n",
      "Loading user_id: 6041 - 51 out of 163\n",
      "Loading user_id: 6192 - 52 out of 163\n",
      "Loading user_id: 6064 - 53 out of 163\n",
      "Loading user_id: 6183 - 54 out of 163\n",
      "Loading user_id: 5954 - 55 out of 163\n",
      "Loading user_id: 5972 - 56 out of 163\n",
      "Loading user_id: 6060 - 57 out of 163\n",
      "Loading user_id: 6069 - 58 out of 163\n",
      "Loading user_id: 5937 - 59 out of 163\n",
      "Loading user_id: 6028 - 60 out of 163\n",
      "Loading user_id: 5990 - 61 out of 163\n",
      "Loading user_id: 6071 - 62 out of 163\n",
      "Loading user_id: 5928 - 63 out of 163\n",
      "Loading user_id: 5992 - 64 out of 163\n",
      "Loading user_id: 6058 - 65 out of 163\n",
      "Loading user_id: 6001 - 66 out of 163\n",
      "Loading user_id: 5964 - 67 out of 163\n",
      "Loading user_id: 5950 - 68 out of 163\n",
      "Loading user_id: 5991 - 69 out of 163\n",
      "Loading user_id: 6177 - 70 out of 163\n",
      "Loading user_id: 5961 - 71 out of 163\n",
      "Loading user_id: 6176 - 72 out of 163\n",
      "Loading user_id: 6007 - 73 out of 163\n",
      "Loading user_id: 5956 - 74 out of 163\n",
      "Loading user_id: 6182 - 75 out of 163\n",
      "Loading user_id: 6171 - 76 out of 163\n",
      "Loading user_id: 5938 - 77 out of 163\n",
      "Loading user_id: 5960 - 78 out of 163\n",
      "Loading user_id: 6103 - 79 out of 163\n",
      "Loading user_id: 6179 - 80 out of 163\n",
      "Loading user_id: 6027 - 81 out of 163\n",
      "Loading user_id: 5947 - 82 out of 163\n",
      "Loading user_id: 6020 - 83 out of 163\n",
      "Loading user_id: 5927 - 84 out of 163\n",
      "Loading user_id: 6047 - 85 out of 163\n",
      "Loading user_id: 6072 - 86 out of 163\n",
      "Loading user_id: 5977 - 87 out of 163\n",
      "Loading user_id: 6198 - 88 out of 163\n",
      "Loading user_id: 5957 - 89 out of 163\n",
      "Loading user_id: 5975 - 90 out of 163\n",
      "Loading user_id: 6057 - 91 out of 163\n",
      "Loading user_id: 6102 - 92 out of 163\n",
      "Loading user_id: 6043 - 93 out of 163\n",
      "Loading user_id: 6077 - 94 out of 163\n",
      "Loading user_id: 6026 - 95 out of 163\n",
      "Loading user_id: 6014 - 96 out of 163\n",
      "Loading user_id: 6078 - 97 out of 163\n",
      "Loading user_id: 6166 - 98 out of 163\n",
      "Loading user_id: 6015 - 99 out of 163\n",
      "Loading user_id: 5978 - 100 out of 163\n",
      "Loading user_id: 5986 - 101 out of 163\n",
      "Loading user_id: 5969 - 102 out of 163\n",
      "Loading user_id: 6174 - 103 out of 163\n",
      "Loading user_id: 5949 - 104 out of 163\n",
      "Loading user_id: 5959 - 105 out of 163\n",
      "Loading user_id: 6023 - 106 out of 163\n",
      "Loading user_id: 6051 - 107 out of 163\n",
      "Loading user_id: 6029 - 108 out of 163\n",
      "Loading user_id: 6036 - 109 out of 163\n",
      "Loading user_id: 6070 - 110 out of 163\n",
      "Loading user_id: 5952 - 111 out of 163\n",
      "Loading user_id: 6062 - 112 out of 163\n",
      "Loading user_id: 6056 - 113 out of 163\n",
      "Loading user_id: 5942 - 114 out of 163\n",
      "Loading user_id: 5953 - 115 out of 163\n",
      "Loading user_id: 6034 - 116 out of 163\n",
      "Loading user_id: 6076 - 117 out of 163\n",
      "Loading user_id: 6066 - 118 out of 163\n",
      "Loading user_id: 5940 - 119 out of 163\n",
      "Loading user_id: 6197 - 120 out of 163\n",
      "Loading user_id: 6109 - 121 out of 163\n",
      "Loading user_id: 6002 - 122 out of 163\n",
      "Loading user_id: 6016 - 123 out of 163\n",
      "Loading user_id: 6187 - 124 out of 163\n",
      "Loading user_id: 5987 - 125 out of 163\n",
      "Loading user_id: 6053 - 126 out of 163\n",
      "Loading user_id: 6104 - 127 out of 163\n",
      "Loading user_id: 5943 - 128 out of 163\n",
      "Loading user_id: 6017 - 129 out of 163\n",
      "Loading user_id: 6168 - 130 out of 163\n",
      "Loading user_id: 6045 - 131 out of 163\n",
      "Loading user_id: 5989 - 132 out of 163\n",
      "Loading user_id: 5963 - 133 out of 163\n",
      "Loading user_id: 5968 - 134 out of 163\n",
      "Loading user_id: 6194 - 135 out of 163\n",
      "Loading user_id: 6190 - 136 out of 163\n",
      "Loading user_id: 6003 - 137 out of 163\n",
      "Loading user_id: 6035 - 138 out of 163\n",
      "Loading user_id: 6167 - 139 out of 163\n",
      "Loading user_id: 6004 - 140 out of 163\n",
      "Loading user_id: 6030 - 141 out of 163\n",
      "Loading user_id: 6054 - 142 out of 163\n",
      "Loading user_id: 6032 - 143 out of 163\n",
      "Loading user_id: 6170 - 144 out of 163\n",
      "Loading user_id: 6063 - 145 out of 163\n",
      "Loading user_id: 6005 - 146 out of 163\n",
      "Loading user_id: 5988 - 147 out of 163\n",
      "Loading user_id: 5944 - 148 out of 163\n",
      "Loading user_id: 6075 - 149 out of 163\n",
      "Loading user_id: 6061 - 150 out of 163\n",
      "Loading user_id: 5965 - 151 out of 163\n",
      "Loading user_id: 6040 - 152 out of 163\n",
      "Loading user_id: 6000 - 153 out of 163\n",
      "Loading user_id: 6059 - 154 out of 163\n",
      "Loading user_id: 5951 - 155 out of 163\n",
      "Loading user_id: 6106 - 156 out of 163\n",
      "Loading user_id: 6082 - 157 out of 163\n",
      "Loading user_id: 6031 - 158 out of 163\n",
      "Loading user_id: 6180 - 159 out of 163\n",
      "Loading user_id: 6039 - 160 out of 163\n",
      "Loading user_id: 6181 - 161 out of 163\n",
      "Loading user_id: 6067 - 162 out of 163\n",
      "Loading user_id: 5939 - 163 out of 163\n"
     ]
    }
   ],
   "source": [
    "users_srg = objects_dao.load_all_stop_region_group_object()"
   ]
  },
  {
   "cell_type": "markdown",
   "metadata": {},
   "source": [
    "<table align=\"left\">\n",
    "  <tr>\n",
    "    <th>Label</th>\n",
    "    <th>Description</th>\n",
    "  </tr>\n",
    "  <tr>\n",
    "    <td>Early birds (EBs)</td>\n",
    "    <td> First trip < 6AM, more than two days in a week (60% of weekdays)</td>\n",
    "  </tr>\n",
    "  <tr>\n",
    "    <td>Night owls (NOs)</td>\n",
    "    <td> Last trip (boarding time) > 10PM, more than two days in a week (60% weekdays)</td>\n",
    "  </tr>\n",
    "  <tr>\n",
    "    <td>Tireless itinerants (TIs)</td>\n",
    "    <td> More than one and a half hours for one-way commuting (from the home location to job location) more than two days in a week</td>\n",
    "  </tr>\n",
    "  <tr>\n",
    "    <td>Recurring itinerants (RIs)</td>\n",
    "    <td> More than 30 trips in weekdays of a week (more than 6 trips per day)</td>\n",
    "  </tr>\n",
    "  <tr>\n",
    "    <td>Average Beijingers (ABs)</td>\n",
    "    <td> The “average” cardholders in the MDC Dataset</td>\n",
    "  </tr>\n",
    "</table>"
   ]
  },
  {
   "cell_type": "markdown",
   "metadata": {},
   "source": [
    "## Extreme Travelers\n",
    "Factor Analysis"
   ]
  },
  {
   "cell_type": "code",
   "execution_count": 4,
   "metadata": {},
   "outputs": [
    {
     "data": {
      "text/html": [
       "\n",
       "    <div class=\"bk-root\">\n",
       "        <a href=\"https://bokeh.pydata.org\" target=\"_blank\" class=\"bk-logo bk-logo-small bk-logo-notebook\"></a>\n",
       "        <span id=\"d9109a79-c70f-46f5-9f37-f5e6acefc98b\">Loading BokehJS ...</span>\n",
       "    </div>"
      ]
     },
     "metadata": {},
     "output_type": "display_data"
    },
    {
     "data": {
      "application/javascript": [
       "\n",
       "(function(root) {\n",
       "  function now() {\n",
       "    return new Date();\n",
       "  }\n",
       "\n",
       "  var force = true;\n",
       "\n",
       "  if (typeof (root._bokeh_onload_callbacks) === \"undefined\" || force === true) {\n",
       "    root._bokeh_onload_callbacks = [];\n",
       "    root._bokeh_is_loading = undefined;\n",
       "  }\n",
       "\n",
       "  var JS_MIME_TYPE = 'application/javascript';\n",
       "  var HTML_MIME_TYPE = 'text/html';\n",
       "  var EXEC_MIME_TYPE = 'application/vnd.bokehjs_exec.v0+json';\n",
       "  var CLASS_NAME = 'output_bokeh rendered_html';\n",
       "\n",
       "  /**\n",
       "   * Render data to the DOM node\n",
       "   */\n",
       "  function render(props, node) {\n",
       "    var script = document.createElement(\"script\");\n",
       "    node.appendChild(script);\n",
       "  }\n",
       "\n",
       "  /**\n",
       "   * Handle when an output is cleared or removed\n",
       "   */\n",
       "  function handleClearOutput(event, handle) {\n",
       "    var cell = handle.cell;\n",
       "\n",
       "    var id = cell.output_area._bokeh_element_id;\n",
       "    var server_id = cell.output_area._bokeh_server_id;\n",
       "    // Clean up Bokeh references\n",
       "    if (id != null && id in Bokeh.index) {\n",
       "      Bokeh.index[id].model.document.clear();\n",
       "      delete Bokeh.index[id];\n",
       "    }\n",
       "\n",
       "    if (server_id !== undefined) {\n",
       "      // Clean up Bokeh references\n",
       "      var cmd = \"from bokeh.io.state import curstate; print(curstate().uuid_to_server['\" + server_id + \"'].get_sessions()[0].document.roots[0]._id)\";\n",
       "      cell.notebook.kernel.execute(cmd, {\n",
       "        iopub: {\n",
       "          output: function(msg) {\n",
       "            var id = msg.content.text.trim();\n",
       "            if (id in Bokeh.index) {\n",
       "              Bokeh.index[id].model.document.clear();\n",
       "              delete Bokeh.index[id];\n",
       "            }\n",
       "          }\n",
       "        }\n",
       "      });\n",
       "      // Destroy server and session\n",
       "      var cmd = \"import bokeh.io.notebook as ion; ion.destroy_server('\" + server_id + \"')\";\n",
       "      cell.notebook.kernel.execute(cmd);\n",
       "    }\n",
       "  }\n",
       "\n",
       "  /**\n",
       "   * Handle when a new output is added\n",
       "   */\n",
       "  function handleAddOutput(event, handle) {\n",
       "    var output_area = handle.output_area;\n",
       "    var output = handle.output;\n",
       "\n",
       "    // limit handleAddOutput to display_data with EXEC_MIME_TYPE content only\n",
       "    if ((output.output_type != \"display_data\") || (!output.data.hasOwnProperty(EXEC_MIME_TYPE))) {\n",
       "      return\n",
       "    }\n",
       "\n",
       "    var toinsert = output_area.element.find(\".\" + CLASS_NAME.split(' ')[0]);\n",
       "\n",
       "    if (output.metadata[EXEC_MIME_TYPE][\"id\"] !== undefined) {\n",
       "      toinsert[toinsert.length - 1].firstChild.textContent = output.data[JS_MIME_TYPE];\n",
       "      // store reference to embed id on output_area\n",
       "      output_area._bokeh_element_id = output.metadata[EXEC_MIME_TYPE][\"id\"];\n",
       "    }\n",
       "    if (output.metadata[EXEC_MIME_TYPE][\"server_id\"] !== undefined) {\n",
       "      var bk_div = document.createElement(\"div\");\n",
       "      bk_div.innerHTML = output.data[HTML_MIME_TYPE];\n",
       "      var script_attrs = bk_div.children[0].attributes;\n",
       "      for (var i = 0; i < script_attrs.length; i++) {\n",
       "        toinsert[toinsert.length - 1].firstChild.setAttribute(script_attrs[i].name, script_attrs[i].value);\n",
       "      }\n",
       "      // store reference to server id on output_area\n",
       "      output_area._bokeh_server_id = output.metadata[EXEC_MIME_TYPE][\"server_id\"];\n",
       "    }\n",
       "  }\n",
       "\n",
       "  function register_renderer(events, OutputArea) {\n",
       "\n",
       "    function append_mime(data, metadata, element) {\n",
       "      // create a DOM node to render to\n",
       "      var toinsert = this.create_output_subarea(\n",
       "        metadata,\n",
       "        CLASS_NAME,\n",
       "        EXEC_MIME_TYPE\n",
       "      );\n",
       "      this.keyboard_manager.register_events(toinsert);\n",
       "      // Render to node\n",
       "      var props = {data: data, metadata: metadata[EXEC_MIME_TYPE]};\n",
       "      render(props, toinsert[toinsert.length - 1]);\n",
       "      element.append(toinsert);\n",
       "      return toinsert\n",
       "    }\n",
       "\n",
       "    /* Handle when an output is cleared or removed */\n",
       "    events.on('clear_output.CodeCell', handleClearOutput);\n",
       "    events.on('delete.Cell', handleClearOutput);\n",
       "\n",
       "    /* Handle when a new output is added */\n",
       "    events.on('output_added.OutputArea', handleAddOutput);\n",
       "\n",
       "    /**\n",
       "     * Register the mime type and append_mime function with output_area\n",
       "     */\n",
       "    OutputArea.prototype.register_mime_type(EXEC_MIME_TYPE, append_mime, {\n",
       "      /* Is output safe? */\n",
       "      safe: true,\n",
       "      /* Index of renderer in `output_area.display_order` */\n",
       "      index: 0\n",
       "    });\n",
       "  }\n",
       "\n",
       "  // register the mime type if in Jupyter Notebook environment and previously unregistered\n",
       "  if (root.Jupyter !== undefined) {\n",
       "    var events = require('base/js/events');\n",
       "    var OutputArea = require('notebook/js/outputarea').OutputArea;\n",
       "\n",
       "    if (OutputArea.prototype.mime_types().indexOf(EXEC_MIME_TYPE) == -1) {\n",
       "      register_renderer(events, OutputArea);\n",
       "    }\n",
       "  }\n",
       "\n",
       "  \n",
       "  if (typeof (root._bokeh_timeout) === \"undefined\" || force === true) {\n",
       "    root._bokeh_timeout = Date.now() + 5000;\n",
       "    root._bokeh_failed_load = false;\n",
       "  }\n",
       "\n",
       "  var NB_LOAD_WARNING = {'data': {'text/html':\n",
       "     \"<div style='background-color: #fdd'>\\n\"+\n",
       "     \"<p>\\n\"+\n",
       "     \"BokehJS does not appear to have successfully loaded. If loading BokehJS from CDN, this \\n\"+\n",
       "     \"may be due to a slow or bad network connection. Possible fixes:\\n\"+\n",
       "     \"</p>\\n\"+\n",
       "     \"<ul>\\n\"+\n",
       "     \"<li>re-rerun `output_notebook()` to attempt to load from CDN again, or</li>\\n\"+\n",
       "     \"<li>use INLINE resources instead, as so:</li>\\n\"+\n",
       "     \"</ul>\\n\"+\n",
       "     \"<code>\\n\"+\n",
       "     \"from bokeh.resources import INLINE\\n\"+\n",
       "     \"output_notebook(resources=INLINE)\\n\"+\n",
       "     \"</code>\\n\"+\n",
       "     \"</div>\"}};\n",
       "\n",
       "  function display_loaded() {\n",
       "    var el = document.getElementById(\"d9109a79-c70f-46f5-9f37-f5e6acefc98b\");\n",
       "    if (el != null) {\n",
       "      el.textContent = \"BokehJS is loading...\";\n",
       "    }\n",
       "    if (root.Bokeh !== undefined) {\n",
       "      if (el != null) {\n",
       "        el.textContent = \"BokehJS \" + root.Bokeh.version + \" successfully loaded.\";\n",
       "      }\n",
       "    } else if (Date.now() < root._bokeh_timeout) {\n",
       "      setTimeout(display_loaded, 100)\n",
       "    }\n",
       "  }\n",
       "\n",
       "\n",
       "  function run_callbacks() {\n",
       "    try {\n",
       "      root._bokeh_onload_callbacks.forEach(function(callback) { callback() });\n",
       "    }\n",
       "    finally {\n",
       "      delete root._bokeh_onload_callbacks\n",
       "    }\n",
       "    console.info(\"Bokeh: all callbacks have finished\");\n",
       "  }\n",
       "\n",
       "  function load_libs(js_urls, callback) {\n",
       "    root._bokeh_onload_callbacks.push(callback);\n",
       "    if (root._bokeh_is_loading > 0) {\n",
       "      console.log(\"Bokeh: BokehJS is being loaded, scheduling callback at\", now());\n",
       "      return null;\n",
       "    }\n",
       "    if (js_urls == null || js_urls.length === 0) {\n",
       "      run_callbacks();\n",
       "      return null;\n",
       "    }\n",
       "    console.log(\"Bokeh: BokehJS not loaded, scheduling load and callback at\", now());\n",
       "    root._bokeh_is_loading = js_urls.length;\n",
       "    for (var i = 0; i < js_urls.length; i++) {\n",
       "      var url = js_urls[i];\n",
       "      var s = document.createElement('script');\n",
       "      s.src = url;\n",
       "      s.async = false;\n",
       "      s.onreadystatechange = s.onload = function() {\n",
       "        root._bokeh_is_loading--;\n",
       "        if (root._bokeh_is_loading === 0) {\n",
       "          console.log(\"Bokeh: all BokehJS libraries loaded\");\n",
       "          run_callbacks()\n",
       "        }\n",
       "      };\n",
       "      s.onerror = function() {\n",
       "        console.warn(\"failed to load library \" + url);\n",
       "      };\n",
       "      console.log(\"Bokeh: injecting script tag for BokehJS library: \", url);\n",
       "      document.getElementsByTagName(\"head\")[0].appendChild(s);\n",
       "    }\n",
       "  };var element = document.getElementById(\"d9109a79-c70f-46f5-9f37-f5e6acefc98b\");\n",
       "  if (element == null) {\n",
       "    console.log(\"Bokeh: ERROR: autoload.js configured with elementid 'd9109a79-c70f-46f5-9f37-f5e6acefc98b' but no matching script tag was found. \")\n",
       "    return false;\n",
       "  }\n",
       "\n",
       "  var js_urls = [\"https://cdn.pydata.org/bokeh/release/bokeh-0.13.0.min.js\", \"https://cdn.pydata.org/bokeh/release/bokeh-widgets-0.13.0.min.js\", \"https://cdn.pydata.org/bokeh/release/bokeh-tables-0.13.0.min.js\", \"https://cdn.pydata.org/bokeh/release/bokeh-gl-0.13.0.min.js\"];\n",
       "\n",
       "  var inline_js = [\n",
       "    function(Bokeh) {\n",
       "      Bokeh.set_log_level(\"info\");\n",
       "    },\n",
       "    \n",
       "    function(Bokeh) {\n",
       "      \n",
       "    },\n",
       "    function(Bokeh) {\n",
       "      console.log(\"Bokeh: injecting CSS: https://cdn.pydata.org/bokeh/release/bokeh-0.13.0.min.css\");\n",
       "      Bokeh.embed.inject_css(\"https://cdn.pydata.org/bokeh/release/bokeh-0.13.0.min.css\");\n",
       "      console.log(\"Bokeh: injecting CSS: https://cdn.pydata.org/bokeh/release/bokeh-widgets-0.13.0.min.css\");\n",
       "      Bokeh.embed.inject_css(\"https://cdn.pydata.org/bokeh/release/bokeh-widgets-0.13.0.min.css\");\n",
       "      console.log(\"Bokeh: injecting CSS: https://cdn.pydata.org/bokeh/release/bokeh-tables-0.13.0.min.css\");\n",
       "      Bokeh.embed.inject_css(\"https://cdn.pydata.org/bokeh/release/bokeh-tables-0.13.0.min.css\");\n",
       "    }\n",
       "  ];\n",
       "\n",
       "  function run_inline_js() {\n",
       "    \n",
       "    if ((root.Bokeh !== undefined) || (force === true)) {\n",
       "      for (var i = 0; i < inline_js.length; i++) {\n",
       "        inline_js[i].call(root, root.Bokeh);\n",
       "      }if (force === true) {\n",
       "        display_loaded();\n",
       "      }} else if (Date.now() < root._bokeh_timeout) {\n",
       "      setTimeout(run_inline_js, 100);\n",
       "    } else if (!root._bokeh_failed_load) {\n",
       "      console.log(\"Bokeh: BokehJS failed to load within specified timeout.\");\n",
       "      root._bokeh_failed_load = true;\n",
       "    } else if (force !== true) {\n",
       "      var cell = $(document.getElementById(\"d9109a79-c70f-46f5-9f37-f5e6acefc98b\")).parents('.cell').data().cell;\n",
       "      cell.output_area.append_execute_result(NB_LOAD_WARNING)\n",
       "    }\n",
       "\n",
       "  }\n",
       "\n",
       "  if (root._bokeh_is_loading === 0) {\n",
       "    console.log(\"Bokeh: BokehJS loaded, going straight to plotting\");\n",
       "    run_inline_js();\n",
       "  } else {\n",
       "    load_libs(js_urls, function() {\n",
       "      console.log(\"Bokeh: BokehJS plotting callback run at\", now());\n",
       "      run_inline_js();\n",
       "    });\n",
       "  }\n",
       "}(window));"
      ],
      "application/vnd.bokehjs_load.v0+json": "\n(function(root) {\n  function now() {\n    return new Date();\n  }\n\n  var force = true;\n\n  if (typeof (root._bokeh_onload_callbacks) === \"undefined\" || force === true) {\n    root._bokeh_onload_callbacks = [];\n    root._bokeh_is_loading = undefined;\n  }\n\n  \n\n  \n  if (typeof (root._bokeh_timeout) === \"undefined\" || force === true) {\n    root._bokeh_timeout = Date.now() + 5000;\n    root._bokeh_failed_load = false;\n  }\n\n  var NB_LOAD_WARNING = {'data': {'text/html':\n     \"<div style='background-color: #fdd'>\\n\"+\n     \"<p>\\n\"+\n     \"BokehJS does not appear to have successfully loaded. If loading BokehJS from CDN, this \\n\"+\n     \"may be due to a slow or bad network connection. Possible fixes:\\n\"+\n     \"</p>\\n\"+\n     \"<ul>\\n\"+\n     \"<li>re-rerun `output_notebook()` to attempt to load from CDN again, or</li>\\n\"+\n     \"<li>use INLINE resources instead, as so:</li>\\n\"+\n     \"</ul>\\n\"+\n     \"<code>\\n\"+\n     \"from bokeh.resources import INLINE\\n\"+\n     \"output_notebook(resources=INLINE)\\n\"+\n     \"</code>\\n\"+\n     \"</div>\"}};\n\n  function display_loaded() {\n    var el = document.getElementById(\"d9109a79-c70f-46f5-9f37-f5e6acefc98b\");\n    if (el != null) {\n      el.textContent = \"BokehJS is loading...\";\n    }\n    if (root.Bokeh !== undefined) {\n      if (el != null) {\n        el.textContent = \"BokehJS \" + root.Bokeh.version + \" successfully loaded.\";\n      }\n    } else if (Date.now() < root._bokeh_timeout) {\n      setTimeout(display_loaded, 100)\n    }\n  }\n\n\n  function run_callbacks() {\n    try {\n      root._bokeh_onload_callbacks.forEach(function(callback) { callback() });\n    }\n    finally {\n      delete root._bokeh_onload_callbacks\n    }\n    console.info(\"Bokeh: all callbacks have finished\");\n  }\n\n  function load_libs(js_urls, callback) {\n    root._bokeh_onload_callbacks.push(callback);\n    if (root._bokeh_is_loading > 0) {\n      console.log(\"Bokeh: BokehJS is being loaded, scheduling callback at\", now());\n      return null;\n    }\n    if (js_urls == null || js_urls.length === 0) {\n      run_callbacks();\n      return null;\n    }\n    console.log(\"Bokeh: BokehJS not loaded, scheduling load and callback at\", now());\n    root._bokeh_is_loading = js_urls.length;\n    for (var i = 0; i < js_urls.length; i++) {\n      var url = js_urls[i];\n      var s = document.createElement('script');\n      s.src = url;\n      s.async = false;\n      s.onreadystatechange = s.onload = function() {\n        root._bokeh_is_loading--;\n        if (root._bokeh_is_loading === 0) {\n          console.log(\"Bokeh: all BokehJS libraries loaded\");\n          run_callbacks()\n        }\n      };\n      s.onerror = function() {\n        console.warn(\"failed to load library \" + url);\n      };\n      console.log(\"Bokeh: injecting script tag for BokehJS library: \", url);\n      document.getElementsByTagName(\"head\")[0].appendChild(s);\n    }\n  };var element = document.getElementById(\"d9109a79-c70f-46f5-9f37-f5e6acefc98b\");\n  if (element == null) {\n    console.log(\"Bokeh: ERROR: autoload.js configured with elementid 'd9109a79-c70f-46f5-9f37-f5e6acefc98b' but no matching script tag was found. \")\n    return false;\n  }\n\n  var js_urls = [\"https://cdn.pydata.org/bokeh/release/bokeh-0.13.0.min.js\", \"https://cdn.pydata.org/bokeh/release/bokeh-widgets-0.13.0.min.js\", \"https://cdn.pydata.org/bokeh/release/bokeh-tables-0.13.0.min.js\", \"https://cdn.pydata.org/bokeh/release/bokeh-gl-0.13.0.min.js\"];\n\n  var inline_js = [\n    function(Bokeh) {\n      Bokeh.set_log_level(\"info\");\n    },\n    \n    function(Bokeh) {\n      \n    },\n    function(Bokeh) {\n      console.log(\"Bokeh: injecting CSS: https://cdn.pydata.org/bokeh/release/bokeh-0.13.0.min.css\");\n      Bokeh.embed.inject_css(\"https://cdn.pydata.org/bokeh/release/bokeh-0.13.0.min.css\");\n      console.log(\"Bokeh: injecting CSS: https://cdn.pydata.org/bokeh/release/bokeh-widgets-0.13.0.min.css\");\n      Bokeh.embed.inject_css(\"https://cdn.pydata.org/bokeh/release/bokeh-widgets-0.13.0.min.css\");\n      console.log(\"Bokeh: injecting CSS: https://cdn.pydata.org/bokeh/release/bokeh-tables-0.13.0.min.css\");\n      Bokeh.embed.inject_css(\"https://cdn.pydata.org/bokeh/release/bokeh-tables-0.13.0.min.css\");\n    }\n  ];\n\n  function run_inline_js() {\n    \n    if ((root.Bokeh !== undefined) || (force === true)) {\n      for (var i = 0; i < inline_js.length; i++) {\n        inline_js[i].call(root, root.Bokeh);\n      }if (force === true) {\n        display_loaded();\n      }} else if (Date.now() < root._bokeh_timeout) {\n      setTimeout(run_inline_js, 100);\n    } else if (!root._bokeh_failed_load) {\n      console.log(\"Bokeh: BokehJS failed to load within specified timeout.\");\n      root._bokeh_failed_load = true;\n    } else if (force !== true) {\n      var cell = $(document.getElementById(\"d9109a79-c70f-46f5-9f37-f5e6acefc98b\")).parents('.cell').data().cell;\n      cell.output_area.append_execute_result(NB_LOAD_WARNING)\n    }\n\n  }\n\n  if (root._bokeh_is_loading === 0) {\n    console.log(\"Bokeh: BokehJS loaded, going straight to plotting\");\n    run_inline_js();\n  } else {\n    load_libs(js_urls, function() {\n      console.log(\"Bokeh: BokehJS plotting callback run at\", now());\n      run_inline_js();\n    });\n  }\n}(window));"
     },
     "metadata": {},
     "output_type": "display_data"
    }
   ],
   "source": [
    "from bokeh.plotting import figure\n",
    "from bokeh.io import output_notebook, show\n",
    "from bokeh.palettes import Category20\n",
    "output_notebook()"
   ]
  },
  {
   "cell_type": "code",
   "execution_count": 5,
   "metadata": {},
   "outputs": [],
   "source": [
    "def plot_result_multi_line(xs_list, ys_list,  x_label, y_label, color_list=[], legend_list=[], title=\"\"):\n",
    "    p = None\n",
    "    \n",
    "    for i in range(len(xs_list)):\n",
    "        p = plot_result(xs_list[i], \n",
    "                        ys_list[i],  \n",
    "                        x_label, \n",
    "                        y_label, \n",
    "                        color=color_list[i], \n",
    "                        legend=legend_list[i], \n",
    "                        title=title, \n",
    "                        p=p)\n",
    "        \n",
    "    return p\n",
    "\n",
    "def plot_result(xs, ys,  x_label, y_label, color=\"darkblue\", legend=None, title=\"\", p=None):\n",
    "    xs = [float(x) for x in xs]\n",
    "    ys = [float(y) for y in ys]\n",
    "\n",
    "    if not p:\n",
    "        p = figure(plot_width=500, plot_height=300, title=title, x_axis_label=x_label, y_axis_label=y_label)\n",
    "    \n",
    "    p.line(xs, ys, color=color, alpha=0.8, line_width=2)\n",
    "    p.circle(xs, ys, color=color, fill_alpha=1, size=4, legend=legend)\n",
    "#     p.legend.location = \"bottom_right\"\n",
    "\n",
    "    return p"
   ]
  },
  {
   "cell_type": "markdown",
   "metadata": {},
   "source": [
    "## Early Bids"
   ]
  },
  {
   "cell_type": "code",
   "execution_count": 6,
   "metadata": {},
   "outputs": [
    {
     "data": {
      "text/plain": [
       "5     0.103933\n",
       "6     0.143258\n",
       "7     0.184388\n",
       "8     0.214421\n",
       "9     0.250000\n",
       "10    0.283505\n",
       "11    0.304348\n",
       "12    0.326531\n",
       "13    0.352459\n",
       "14    0.384615\n",
       "dtype: float64"
      ]
     },
     "execution_count": 6,
     "metadata": {},
     "output_type": "execute_result"
    }
   ],
   "source": [
    "try:\n",
    "    eb_rates = pd.read_csv(\"notebooks/outputs/eb_rates.csv\", index_col=0).to_dict()\n",
    "    \n",
    "except FileNotFoundError:\n",
    "    eb_rates = {}\n",
    "\n",
    "    for leaving_time in [5,6,7,8,9,10]:\n",
    "\n",
    "        eb_rate = {}\n",
    "\n",
    "        for user_id in users_srg.keys():\n",
    "            try:\n",
    "                eb_rate[user_id] = early_bird(users_srg[user_id], leaving_time=leaving_time)\n",
    "            except ZeroDivisionError:\n",
    "                eb_rate[user_id] = 0\n",
    "\n",
    "        eb_rates[leaving_time] = eb_rate\n",
    "\n",
    "    pd.DataFrame(eb_rates).to_csv(\"notebooks/outputs/eb_rates.csv\")\n",
    "\n",
    "eb_data = pd.DataFrame(eb_rates).median()\n",
    "eb_data.index = eb_data.index.astype(int)\n",
    "eb_data = eb_data.sort_index()\n",
    "eb_data"
   ]
  },
  {
   "cell_type": "code",
   "execution_count": 7,
   "metadata": {},
   "outputs": [
    {
     "data": {
      "text/html": [
       "\n",
       "\n",
       "\n",
       "\n",
       "\n",
       "\n",
       "  <div class=\"bk-root\" id=\"7c364abb-2ec5-4c46-a157-c149543bf47c\"></div>\n"
      ]
     },
     "metadata": {},
     "output_type": "display_data"
    },
    {
     "data": {
      "application/javascript": [
       "(function(root) {\n",
       "  function embed_document(root) {\n",
       "    \n",
       "  var docs_json = {\"f1b9cb6b-f1dd-4cf9-9270-6f23c50cddbe\":{\"roots\":{\"references\":[{\"attributes\":{\"data_source\":{\"id\":\"4f5398d3-98d1-4388-9fe4-b05512da6087\",\"type\":\"ColumnDataSource\"},\"glyph\":{\"id\":\"16ef6d18-7cc4-403c-b4db-d376f0fe3ec7\",\"type\":\"Circle\"},\"hover_glyph\":null,\"muted_glyph\":null,\"nonselection_glyph\":{\"id\":\"1db2c5c6-a5f7-4fa6-acee-cd628b5c96c5\",\"type\":\"Circle\"},\"selection_glyph\":null,\"view\":{\"id\":\"be9101e4-8ac0-48d0-a68f-002a152355b8\",\"type\":\"CDSView\"}},\"id\":\"7b8a0d0b-aec8-48bd-bdf8-af2c703f835f\",\"type\":\"GlyphRenderer\"},{\"attributes\":{\"callback\":null,\"data\":{\"x\":[5.0,6.0,7.0,8.0,9.0,10.0,11.0,12.0,13.0,14.0],\"y\":[0.10393258426966293,0.14325842696629212,0.18438761776581428,0.2144212523719165,0.25,0.28350515463917525,0.3043478260869565,0.32653061224489793,0.3524590163934426,0.38461538461538464]},\"selected\":{\"id\":\"8bd2ed0b-f2d8-4f03-8df5-ed1068bae474\",\"type\":\"Selection\"},\"selection_policy\":{\"id\":\"8d4a9e86-847f-48e3-8f14-3afae0bd931b\",\"type\":\"UnionRenderers\"}},\"id\":\"4f5398d3-98d1-4388-9fe4-b05512da6087\",\"type\":\"ColumnDataSource\"},{\"attributes\":{\"source\":{\"id\":\"4f5398d3-98d1-4388-9fe4-b05512da6087\",\"type\":\"ColumnDataSource\"}},\"id\":\"be9101e4-8ac0-48d0-a68f-002a152355b8\",\"type\":\"CDSView\"},{\"attributes\":{\"active_drag\":\"auto\",\"active_inspect\":\"auto\",\"active_multi\":null,\"active_scroll\":\"auto\",\"active_tap\":\"auto\",\"tools\":[{\"id\":\"788fc59b-fdf8-4e56-9e63-5a1328ca0fa2\",\"type\":\"PanTool\"},{\"id\":\"90a310cc-4b21-4382-a19e-094b64834dfa\",\"type\":\"WheelZoomTool\"},{\"id\":\"e60283a9-aa3c-40b0-9bdc-b71f272775c4\",\"type\":\"BoxZoomTool\"},{\"id\":\"3b8c2471-1684-4abc-adb5-f8c65ee918d7\",\"type\":\"SaveTool\"},{\"id\":\"58632c64-f061-49d3-96c8-d585eadb2bcd\",\"type\":\"ResetTool\"},{\"id\":\"18df1dc5-d253-4365-922d-ee5c75cb6ff3\",\"type\":\"HelpTool\"}]},\"id\":\"cf3bf5a9-4b76-4498-89f2-92eaeeb7eebf\",\"type\":\"Toolbar\"},{\"attributes\":{\"dimension\":1,\"plot\":{\"id\":\"c78eccc4-6d5e-4a2e-b16a-037fc5c15334\",\"subtype\":\"Figure\",\"type\":\"Plot\"},\"ticker\":{\"id\":\"d8db6689-36a1-4815-a975-619bd7e72884\",\"type\":\"BasicTicker\"}},\"id\":\"eb0f1f29-c180-42ed-b213-2c4ed905778b\",\"type\":\"Grid\"},{\"attributes\":{},\"id\":\"3b8c2471-1684-4abc-adb5-f8c65ee918d7\",\"type\":\"SaveTool\"},{\"attributes\":{\"line_alpha\":0.8,\"line_color\":\"#1f77b4\",\"line_width\":2,\"x\":{\"field\":\"x\"},\"y\":{\"field\":\"y\"}},\"id\":\"0d7bc400-920d-447f-9a75-0de34bc3f792\",\"type\":\"Line\"},{\"attributes\":{},\"id\":\"d8db6689-36a1-4815-a975-619bd7e72884\",\"type\":\"BasicTicker\"},{\"attributes\":{},\"id\":\"18df1dc5-d253-4365-922d-ee5c75cb6ff3\",\"type\":\"HelpTool\"},{\"attributes\":{},\"id\":\"58632c64-f061-49d3-96c8-d585eadb2bcd\",\"type\":\"ResetTool\"},{\"attributes\":{},\"id\":\"478e21ae-1d84-4d54-8b62-6490e172952e\",\"type\":\"Selection\"},{\"attributes\":{\"callback\":null,\"data\":{\"x\":[5.0,6.0,7.0,8.0,9.0,10.0,11.0,12.0,13.0,14.0],\"y\":[0.10393258426966293,0.14325842696629212,0.18438761776581428,0.2144212523719165,0.25,0.28350515463917525,0.3043478260869565,0.32653061224489793,0.3524590163934426,0.38461538461538464]},\"selected\":{\"id\":\"478e21ae-1d84-4d54-8b62-6490e172952e\",\"type\":\"Selection\"},\"selection_policy\":{\"id\":\"614de963-6017-4e4a-8e1c-97b443edc783\",\"type\":\"UnionRenderers\"}},\"id\":\"82625f9c-d581-4c00-9541-ce21bd616933\",\"type\":\"ColumnDataSource\"},{\"attributes\":{},\"id\":\"59676cc0-3ebb-467f-8666-21040a8c54ba\",\"type\":\"BasicTickFormatter\"},{\"attributes\":{\"axis_label\":\"Rate\",\"formatter\":{\"id\":\"59676cc0-3ebb-467f-8666-21040a8c54ba\",\"type\":\"BasicTickFormatter\"},\"plot\":{\"id\":\"c78eccc4-6d5e-4a2e-b16a-037fc5c15334\",\"subtype\":\"Figure\",\"type\":\"Plot\"},\"ticker\":{\"id\":\"d8db6689-36a1-4815-a975-619bd7e72884\",\"type\":\"BasicTicker\"}},\"id\":\"d9b98e7e-8636-4928-8f4a-575dde22c73e\",\"type\":\"LinearAxis\"},{\"attributes\":{\"overlay\":{\"id\":\"d347d696-101f-4f46-a48a-5c1058851dd5\",\"type\":\"BoxAnnotation\"}},\"id\":\"e60283a9-aa3c-40b0-9bdc-b71f272775c4\",\"type\":\"BoxZoomTool\"},{\"attributes\":{},\"id\":\"614de963-6017-4e4a-8e1c-97b443edc783\",\"type\":\"UnionRenderers\"},{\"attributes\":{\"fill_color\":{\"value\":\"#1f77b4\"},\"line_color\":{\"value\":\"#1f77b4\"},\"x\":{\"field\":\"x\"},\"y\":{\"field\":\"y\"}},\"id\":\"16ef6d18-7cc4-403c-b4db-d376f0fe3ec7\",\"type\":\"Circle\"},{\"attributes\":{\"plot\":null,\"text\":\"Frequency of Early-Birding for users (median)\"},\"id\":\"e3250bdb-1a2a-40e4-9dcc-84443bdbfe59\",\"type\":\"Title\"},{\"attributes\":{},\"id\":\"90a310cc-4b21-4382-a19e-094b64834dfa\",\"type\":\"WheelZoomTool\"},{\"attributes\":{},\"id\":\"8d4a9e86-847f-48e3-8f14-3afae0bd931b\",\"type\":\"UnionRenderers\"},{\"attributes\":{\"below\":[{\"id\":\"bd18c36f-a126-4ce8-b4c3-11187f21b8b1\",\"type\":\"LinearAxis\"}],\"left\":[{\"id\":\"d9b98e7e-8636-4928-8f4a-575dde22c73e\",\"type\":\"LinearAxis\"}],\"plot_height\":300,\"plot_width\":500,\"renderers\":[{\"id\":\"bd18c36f-a126-4ce8-b4c3-11187f21b8b1\",\"type\":\"LinearAxis\"},{\"id\":\"3a3108c6-f659-4bb3-b389-31e0adeed9a5\",\"type\":\"Grid\"},{\"id\":\"d9b98e7e-8636-4928-8f4a-575dde22c73e\",\"type\":\"LinearAxis\"},{\"id\":\"eb0f1f29-c180-42ed-b213-2c4ed905778b\",\"type\":\"Grid\"},{\"id\":\"d347d696-101f-4f46-a48a-5c1058851dd5\",\"type\":\"BoxAnnotation\"},{\"id\":\"b27f7d31-fd16-4c14-ad56-4441ac56e4c3\",\"type\":\"GlyphRenderer\"},{\"id\":\"7b8a0d0b-aec8-48bd-bdf8-af2c703f835f\",\"type\":\"GlyphRenderer\"}],\"title\":{\"id\":\"e3250bdb-1a2a-40e4-9dcc-84443bdbfe59\",\"type\":\"Title\"},\"toolbar\":{\"id\":\"cf3bf5a9-4b76-4498-89f2-92eaeeb7eebf\",\"type\":\"Toolbar\"},\"x_range\":{\"id\":\"eba25851-bbe8-4b8c-8c95-77a32f9e24aa\",\"type\":\"DataRange1d\"},\"x_scale\":{\"id\":\"8c0cc763-c410-4079-be51-3b6550ce8d81\",\"type\":\"LinearScale\"},\"y_range\":{\"id\":\"38ebdf19-3578-400c-8e98-e7be5afbea8a\",\"type\":\"DataRange1d\"},\"y_scale\":{\"id\":\"146504a3-6120-43c7-9481-081d363bcea6\",\"type\":\"LinearScale\"}},\"id\":\"c78eccc4-6d5e-4a2e-b16a-037fc5c15334\",\"subtype\":\"Figure\",\"type\":\"Plot\"},{\"attributes\":{\"fill_alpha\":{\"value\":0.1},\"fill_color\":{\"value\":\"#1f77b4\"},\"line_alpha\":{\"value\":0.1},\"line_color\":{\"value\":\"#1f77b4\"},\"x\":{\"field\":\"x\"},\"y\":{\"field\":\"y\"}},\"id\":\"1db2c5c6-a5f7-4fa6-acee-cd628b5c96c5\",\"type\":\"Circle\"},{\"attributes\":{},\"id\":\"6da844eb-fcf8-4869-ad08-b21ffc3fabd3\",\"type\":\"BasicTicker\"},{\"attributes\":{\"axis_label\":\"leaving_time (h)\",\"formatter\":{\"id\":\"17cd7dce-8d0c-4fd1-9ad9-63db2bed7794\",\"type\":\"BasicTickFormatter\"},\"plot\":{\"id\":\"c78eccc4-6d5e-4a2e-b16a-037fc5c15334\",\"subtype\":\"Figure\",\"type\":\"Plot\"},\"ticker\":{\"id\":\"6da844eb-fcf8-4869-ad08-b21ffc3fabd3\",\"type\":\"BasicTicker\"}},\"id\":\"bd18c36f-a126-4ce8-b4c3-11187f21b8b1\",\"type\":\"LinearAxis\"},{\"attributes\":{\"callback\":null},\"id\":\"eba25851-bbe8-4b8c-8c95-77a32f9e24aa\",\"type\":\"DataRange1d\"},{\"attributes\":{\"line_alpha\":0.1,\"line_color\":\"#1f77b4\",\"line_width\":2,\"x\":{\"field\":\"x\"},\"y\":{\"field\":\"y\"}},\"id\":\"25ff2ec9-21d1-41e7-a1c0-c3021fabb843\",\"type\":\"Line\"},{\"attributes\":{},\"id\":\"17cd7dce-8d0c-4fd1-9ad9-63db2bed7794\",\"type\":\"BasicTickFormatter\"},{\"attributes\":{},\"id\":\"788fc59b-fdf8-4e56-9e63-5a1328ca0fa2\",\"type\":\"PanTool\"},{\"attributes\":{},\"id\":\"8c0cc763-c410-4079-be51-3b6550ce8d81\",\"type\":\"LinearScale\"},{\"attributes\":{\"callback\":null},\"id\":\"38ebdf19-3578-400c-8e98-e7be5afbea8a\",\"type\":\"DataRange1d\"},{\"attributes\":{\"plot\":{\"id\":\"c78eccc4-6d5e-4a2e-b16a-037fc5c15334\",\"subtype\":\"Figure\",\"type\":\"Plot\"},\"ticker\":{\"id\":\"6da844eb-fcf8-4869-ad08-b21ffc3fabd3\",\"type\":\"BasicTicker\"}},\"id\":\"3a3108c6-f659-4bb3-b389-31e0adeed9a5\",\"type\":\"Grid\"},{\"attributes\":{\"bottom_units\":\"screen\",\"fill_alpha\":{\"value\":0.5},\"fill_color\":{\"value\":\"lightgrey\"},\"left_units\":\"screen\",\"level\":\"overlay\",\"line_alpha\":{\"value\":1.0},\"line_color\":{\"value\":\"black\"},\"line_dash\":[4,4],\"line_width\":{\"value\":2},\"plot\":null,\"render_mode\":\"css\",\"right_units\":\"screen\",\"top_units\":\"screen\"},\"id\":\"d347d696-101f-4f46-a48a-5c1058851dd5\",\"type\":\"BoxAnnotation\"},{\"attributes\":{\"source\":{\"id\":\"82625f9c-d581-4c00-9541-ce21bd616933\",\"type\":\"ColumnDataSource\"}},\"id\":\"58b84bb4-5d62-40cc-bd38-82cf09991d9e\",\"type\":\"CDSView\"},{\"attributes\":{\"data_source\":{\"id\":\"82625f9c-d581-4c00-9541-ce21bd616933\",\"type\":\"ColumnDataSource\"},\"glyph\":{\"id\":\"0d7bc400-920d-447f-9a75-0de34bc3f792\",\"type\":\"Line\"},\"hover_glyph\":null,\"muted_glyph\":null,\"nonselection_glyph\":{\"id\":\"25ff2ec9-21d1-41e7-a1c0-c3021fabb843\",\"type\":\"Line\"},\"selection_glyph\":null,\"view\":{\"id\":\"58b84bb4-5d62-40cc-bd38-82cf09991d9e\",\"type\":\"CDSView\"}},\"id\":\"b27f7d31-fd16-4c14-ad56-4441ac56e4c3\",\"type\":\"GlyphRenderer\"},{\"attributes\":{},\"id\":\"146504a3-6120-43c7-9481-081d363bcea6\",\"type\":\"LinearScale\"},{\"attributes\":{},\"id\":\"8bd2ed0b-f2d8-4f03-8df5-ed1068bae474\",\"type\":\"Selection\"}],\"root_ids\":[\"c78eccc4-6d5e-4a2e-b16a-037fc5c15334\"]},\"title\":\"Bokeh Application\",\"version\":\"0.13.0\"}};\n",
       "  var render_items = [{\"docid\":\"f1b9cb6b-f1dd-4cf9-9270-6f23c50cddbe\",\"roots\":{\"c78eccc4-6d5e-4a2e-b16a-037fc5c15334\":\"7c364abb-2ec5-4c46-a157-c149543bf47c\"}}];\n",
       "  root.Bokeh.embed.embed_items_notebook(docs_json, render_items);\n",
       "\n",
       "  }\n",
       "  if (root.Bokeh !== undefined) {\n",
       "    embed_document(root);\n",
       "  } else {\n",
       "    var attempts = 0;\n",
       "    var timer = setInterval(function(root) {\n",
       "      if (root.Bokeh !== undefined) {\n",
       "        embed_document(root);\n",
       "        clearInterval(timer);\n",
       "      }\n",
       "      attempts++;\n",
       "      if (attempts > 100) {\n",
       "        console.log(\"Bokeh: ERROR: Unable to run BokehJS code because BokehJS library is missing\")\n",
       "        clearInterval(timer);\n",
       "      }\n",
       "    }, 10, root)\n",
       "  }\n",
       "})(window);"
      ],
      "application/vnd.bokehjs_exec.v0+json": ""
     },
     "metadata": {
      "application/vnd.bokehjs_exec.v0+json": {
       "id": "c78eccc4-6d5e-4a2e-b16a-037fc5c15334"
      }
     },
     "output_type": "display_data"
    }
   ],
   "source": [
    "p = plot_result(xs=eb_data.index.tolist(), \n",
    "                ys=eb_data.tolist(),\n",
    "                x_label=\"leaving_time (h)\",\n",
    "                y_label=\"Rate\",\n",
    "                color=Category20[6][0],\n",
    "                title=\"Frequency of Early-Birding for users (median)\")\n",
    "                \n",
    "show(p)"
   ]
  },
  {
   "cell_type": "markdown",
   "metadata": {},
   "source": [
    "## Night Owls"
   ]
  },
  {
   "cell_type": "code",
   "execution_count": 8,
   "metadata": {},
   "outputs": [
    {
     "data": {
      "text/plain": [
       "10    0.017391\n",
       "11    0.016393\n",
       "12    0.015480\n",
       "13    0.014925\n",
       "14    0.012658\n",
       "15    0.009950\n",
       "16    0.007843\n",
       "17    0.004329\n",
       "18    0.002608\n",
       "dtype: float64"
      ]
     },
     "execution_count": 8,
     "metadata": {},
     "output_type": "execute_result"
    }
   ],
   "source": [
    "try:\n",
    "    no_rates = pd.read_csv(\"notebooks/outputs/no_rates.csv\", index_col=0).to_dict()\n",
    "    \n",
    "except FileNotFoundError:\n",
    "    no_rates = {}\n",
    "\n",
    "    for boarding_time in [11,12,13,14,15,16,17,18]:\n",
    "        no_rate = {}\n",
    "\n",
    "        for user_id in users_srg.keys():\n",
    "            try:\n",
    "                no_rate[user_id] = nigh_owl(users_srg[user_id], boarding_time=boarding_time)\n",
    "            except ZeroDivisionError:\n",
    "                no_rate[user_id] = 0\n",
    "\n",
    "        no_rates[boarding_time] = no_rate\n",
    "        \n",
    "    pd.DataFrame(no_rates).to_csv(\"notebooks/outputs/no_rates.csv\")\n",
    "    \n",
    "no_data = pd.DataFrame(no_rates).median().sort_index()\n",
    "no_data.index = no_data.index.astype(int)\n",
    "no_data = no_data.sort_index()\n",
    "no_data"
   ]
  },
  {
   "cell_type": "code",
   "execution_count": 9,
   "metadata": {},
   "outputs": [
    {
     "data": {
      "text/plain": [
       "[6103,\n",
       " 6190,\n",
       " 6074,\n",
       " 6102,\n",
       " 6078,\n",
       " 5951,\n",
       " 6183,\n",
       " 6100,\n",
       " 6077,\n",
       " 6056,\n",
       " 6181,\n",
       " 6182,\n",
       " 6198,\n",
       " 6172,\n",
       " 6062,\n",
       " 5987]"
      ]
     },
     "execution_count": 9,
     "metadata": {},
     "output_type": "execute_result"
    }
   ],
   "source": [
    "pd.DataFrame(no_rates)[\"10\"].sort_values(ascending=False).head(16).index.tolist()"
   ]
  },
  {
   "cell_type": "code",
   "execution_count": 10,
   "metadata": {},
   "outputs": [
    {
     "data": {
      "text/html": [
       "\n",
       "\n",
       "\n",
       "\n",
       "\n",
       "\n",
       "  <div class=\"bk-root\" id=\"42423937-1309-4508-92f7-0903a12fa54b\"></div>\n"
      ]
     },
     "metadata": {},
     "output_type": "display_data"
    },
    {
     "data": {
      "application/javascript": [
       "(function(root) {\n",
       "  function embed_document(root) {\n",
       "    \n",
       "  var docs_json = {\"f1b3ec51-1251-4c65-96fe-999f62e174ee\":{\"roots\":{\"references\":[{\"attributes\":{\"fill_color\":{\"value\":\"#aec7e8\"},\"line_color\":{\"value\":\"#aec7e8\"},\"x\":{\"field\":\"x\"},\"y\":{\"field\":\"y\"}},\"id\":\"520afed4-1e9c-4f88-a6b2-c5900443a98e\",\"type\":\"Circle\"},{\"attributes\":{\"data_source\":{\"id\":\"b02787ed-93b9-454f-9398-c92bc2586514\",\"type\":\"ColumnDataSource\"},\"glyph\":{\"id\":\"2433739b-20f0-4fea-8883-bd7c536bfa17\",\"type\":\"Line\"},\"hover_glyph\":null,\"muted_glyph\":null,\"nonselection_glyph\":{\"id\":\"84d5094d-efe9-4b9d-8f45-c5b366045480\",\"type\":\"Line\"},\"selection_glyph\":null,\"view\":{\"id\":\"ad47de24-50de-4eff-99f8-6e48e9918898\",\"type\":\"CDSView\"}},\"id\":\"2ba725bd-7063-4dd4-8520-a5ccab18ccc5\",\"type\":\"GlyphRenderer\"},{\"attributes\":{},\"id\":\"884aba92-56c7-45eb-bc9f-bb77316dd226\",\"type\":\"UnionRenderers\"},{\"attributes\":{\"dimension\":1,\"plot\":{\"id\":\"1b2759eb-dd51-46a9-b99a-583a7523248f\",\"subtype\":\"Figure\",\"type\":\"Plot\"},\"ticker\":{\"id\":\"b9a8446d-423d-48bd-a9fc-d58a2f5e4db1\",\"type\":\"BasicTicker\"}},\"id\":\"2abd4004-effb-491b-8f15-b0de59aa0bdd\",\"type\":\"Grid\"},{\"attributes\":{\"callback\":null},\"id\":\"bcc39f7c-a56f-4cc3-b3f7-593e13e5511c\",\"type\":\"DataRange1d\"},{\"attributes\":{},\"id\":\"028a83dc-0fb1-4749-b482-0473a7373dbb\",\"type\":\"BasicTicker\"},{\"attributes\":{\"source\":{\"id\":\"b02787ed-93b9-454f-9398-c92bc2586514\",\"type\":\"ColumnDataSource\"}},\"id\":\"ad47de24-50de-4eff-99f8-6e48e9918898\",\"type\":\"CDSView\"},{\"attributes\":{},\"id\":\"dae45e8c-a9b5-4c65-b07e-bb8ee9cdb051\",\"type\":\"WheelZoomTool\"},{\"attributes\":{},\"id\":\"67ea8a6d-bbf3-48c4-ae60-3432c384548c\",\"type\":\"BasicTickFormatter\"},{\"attributes\":{\"callback\":null,\"data\":{\"x\":[10.0,11.0,12.0,13.0,14.0,15.0,16.0,17.0,18.0],\"y\":[0.017391304347826087,0.016393442622950817,0.015479876160990712,0.01492537313432836,0.012658227848101266,0.009950248756218905,0.007843137254901959,0.004329004329004329,0.0026075619295958283]},\"selected\":{\"id\":\"71c6e803-53b8-4226-9762-b482c9dcbf52\",\"type\":\"Selection\"},\"selection_policy\":{\"id\":\"884aba92-56c7-45eb-bc9f-bb77316dd226\",\"type\":\"UnionRenderers\"}},\"id\":\"8c8a691f-525c-4d53-af3b-e39763a1f324\",\"type\":\"ColumnDataSource\"},{\"attributes\":{},\"id\":\"787730a4-dda6-45f7-9c8f-8fc1d6d7fadf\",\"type\":\"SaveTool\"},{\"attributes\":{},\"id\":\"62818332-dd2c-4247-94b0-03ee720ca814\",\"type\":\"ResetTool\"},{\"attributes\":{},\"id\":\"71c6e803-53b8-4226-9762-b482c9dcbf52\",\"type\":\"Selection\"},{\"attributes\":{\"bottom_units\":\"screen\",\"fill_alpha\":{\"value\":0.5},\"fill_color\":{\"value\":\"lightgrey\"},\"left_units\":\"screen\",\"level\":\"overlay\",\"line_alpha\":{\"value\":1.0},\"line_color\":{\"value\":\"black\"},\"line_dash\":[4,4],\"line_width\":{\"value\":2},\"plot\":null,\"render_mode\":\"css\",\"right_units\":\"screen\",\"top_units\":\"screen\"},\"id\":\"556282d9-ae71-482d-abb6-4947111fc126\",\"type\":\"BoxAnnotation\"},{\"attributes\":{\"axis_label\":\"Rate\",\"formatter\":{\"id\":\"8d7727ef-32f3-415d-9f58-68b958c08664\",\"type\":\"BasicTickFormatter\"},\"plot\":{\"id\":\"1b2759eb-dd51-46a9-b99a-583a7523248f\",\"subtype\":\"Figure\",\"type\":\"Plot\"},\"ticker\":{\"id\":\"b9a8446d-423d-48bd-a9fc-d58a2f5e4db1\",\"type\":\"BasicTicker\"}},\"id\":\"931ebf9e-6971-4bd6-9f24-0a58a36cc771\",\"type\":\"LinearAxis\"},{\"attributes\":{},\"id\":\"56b326c8-87f7-49fd-b6b2-d606c72cf842\",\"type\":\"HelpTool\"},{\"attributes\":{},\"id\":\"8d7727ef-32f3-415d-9f58-68b958c08664\",\"type\":\"BasicTickFormatter\"},{\"attributes\":{\"source\":{\"id\":\"8c8a691f-525c-4d53-af3b-e39763a1f324\",\"type\":\"ColumnDataSource\"}},\"id\":\"0b86e1c4-b70c-40f2-b49e-a3c3584d9d7f\",\"type\":\"CDSView\"},{\"attributes\":{\"data_source\":{\"id\":\"8c8a691f-525c-4d53-af3b-e39763a1f324\",\"type\":\"ColumnDataSource\"},\"glyph\":{\"id\":\"520afed4-1e9c-4f88-a6b2-c5900443a98e\",\"type\":\"Circle\"},\"hover_glyph\":null,\"muted_glyph\":null,\"nonselection_glyph\":{\"id\":\"a2867ef4-0f0a-45f9-adcf-0c861e13913e\",\"type\":\"Circle\"},\"selection_glyph\":null,\"view\":{\"id\":\"0b86e1c4-b70c-40f2-b49e-a3c3584d9d7f\",\"type\":\"CDSView\"}},\"id\":\"e245bad3-46cc-42e0-a7ec-c868a2f57bc9\",\"type\":\"GlyphRenderer\"},{\"attributes\":{},\"id\":\"b9a8446d-423d-48bd-a9fc-d58a2f5e4db1\",\"type\":\"BasicTicker\"},{\"attributes\":{},\"id\":\"5ccb2206-b2e2-4f03-9f3d-39e5c0c88b1f\",\"type\":\"UnionRenderers\"},{\"attributes\":{\"callback\":null},\"id\":\"38860a9a-f410-482b-9cd5-2b97e03e4d2f\",\"type\":\"DataRange1d\"},{\"attributes\":{\"plot\":{\"id\":\"1b2759eb-dd51-46a9-b99a-583a7523248f\",\"subtype\":\"Figure\",\"type\":\"Plot\"},\"ticker\":{\"id\":\"028a83dc-0fb1-4749-b482-0473a7373dbb\",\"type\":\"BasicTicker\"}},\"id\":\"bed3bcdd-ca73-442d-b891-79bf4d726330\",\"type\":\"Grid\"},{\"attributes\":{\"callback\":null,\"data\":{\"x\":[10.0,11.0,12.0,13.0,14.0,15.0,16.0,17.0,18.0],\"y\":[0.017391304347826087,0.016393442622950817,0.015479876160990712,0.01492537313432836,0.012658227848101266,0.009950248756218905,0.007843137254901959,0.004329004329004329,0.0026075619295958283]},\"selected\":{\"id\":\"c8bc1977-73b8-4457-80ee-9efc5a4ca9c7\",\"type\":\"Selection\"},\"selection_policy\":{\"id\":\"5ccb2206-b2e2-4f03-9f3d-39e5c0c88b1f\",\"type\":\"UnionRenderers\"}},\"id\":\"b02787ed-93b9-454f-9398-c92bc2586514\",\"type\":\"ColumnDataSource\"},{\"attributes\":{\"line_alpha\":0.1,\"line_color\":\"#1f77b4\",\"line_width\":2,\"x\":{\"field\":\"x\"},\"y\":{\"field\":\"y\"}},\"id\":\"84d5094d-efe9-4b9d-8f45-c5b366045480\",\"type\":\"Line\"},{\"attributes\":{\"axis_label\":\"boarding_time (h)\",\"formatter\":{\"id\":\"67ea8a6d-bbf3-48c4-ae60-3432c384548c\",\"type\":\"BasicTickFormatter\"},\"plot\":{\"id\":\"1b2759eb-dd51-46a9-b99a-583a7523248f\",\"subtype\":\"Figure\",\"type\":\"Plot\"},\"ticker\":{\"id\":\"028a83dc-0fb1-4749-b482-0473a7373dbb\",\"type\":\"BasicTicker\"}},\"id\":\"5f83fa9e-d51e-4c42-8d8f-a23406fd045e\",\"type\":\"LinearAxis\"},{\"attributes\":{\"overlay\":{\"id\":\"556282d9-ae71-482d-abb6-4947111fc126\",\"type\":\"BoxAnnotation\"}},\"id\":\"34541c7a-db1c-459c-9817-d15012606c35\",\"type\":\"BoxZoomTool\"},{\"attributes\":{\"fill_alpha\":{\"value\":0.1},\"fill_color\":{\"value\":\"#1f77b4\"},\"line_alpha\":{\"value\":0.1},\"line_color\":{\"value\":\"#1f77b4\"},\"x\":{\"field\":\"x\"},\"y\":{\"field\":\"y\"}},\"id\":\"a2867ef4-0f0a-45f9-adcf-0c861e13913e\",\"type\":\"Circle\"},{\"attributes\":{},\"id\":\"c8bc1977-73b8-4457-80ee-9efc5a4ca9c7\",\"type\":\"Selection\"},{\"attributes\":{},\"id\":\"36538139-b32e-42c4-8db8-2dad946d264b\",\"type\":\"LinearScale\"},{\"attributes\":{},\"id\":\"121710d2-a15b-4196-9b87-3a5bfb42dfcc\",\"type\":\"LinearScale\"},{\"attributes\":{\"plot\":null,\"text\":\"Frequency of Night-Owling for users (median)\"},\"id\":\"431d18e6-b9ce-4cb7-ad5b-86e1bf8d25e5\",\"type\":\"Title\"},{\"attributes\":{},\"id\":\"5b9e2ef5-40d5-48f5-9f2f-af76cc0d9f49\",\"type\":\"PanTool\"},{\"attributes\":{\"line_alpha\":0.8,\"line_color\":\"#aec7e8\",\"line_width\":2,\"x\":{\"field\":\"x\"},\"y\":{\"field\":\"y\"}},\"id\":\"2433739b-20f0-4fea-8883-bd7c536bfa17\",\"type\":\"Line\"},{\"attributes\":{\"active_drag\":\"auto\",\"active_inspect\":\"auto\",\"active_multi\":null,\"active_scroll\":\"auto\",\"active_tap\":\"auto\",\"tools\":[{\"id\":\"5b9e2ef5-40d5-48f5-9f2f-af76cc0d9f49\",\"type\":\"PanTool\"},{\"id\":\"dae45e8c-a9b5-4c65-b07e-bb8ee9cdb051\",\"type\":\"WheelZoomTool\"},{\"id\":\"34541c7a-db1c-459c-9817-d15012606c35\",\"type\":\"BoxZoomTool\"},{\"id\":\"787730a4-dda6-45f7-9c8f-8fc1d6d7fadf\",\"type\":\"SaveTool\"},{\"id\":\"62818332-dd2c-4247-94b0-03ee720ca814\",\"type\":\"ResetTool\"},{\"id\":\"56b326c8-87f7-49fd-b6b2-d606c72cf842\",\"type\":\"HelpTool\"}]},\"id\":\"b889c607-2ccf-4ba1-b96d-d49a88a67d1e\",\"type\":\"Toolbar\"},{\"attributes\":{\"below\":[{\"id\":\"5f83fa9e-d51e-4c42-8d8f-a23406fd045e\",\"type\":\"LinearAxis\"}],\"left\":[{\"id\":\"931ebf9e-6971-4bd6-9f24-0a58a36cc771\",\"type\":\"LinearAxis\"}],\"plot_height\":300,\"plot_width\":500,\"renderers\":[{\"id\":\"5f83fa9e-d51e-4c42-8d8f-a23406fd045e\",\"type\":\"LinearAxis\"},{\"id\":\"bed3bcdd-ca73-442d-b891-79bf4d726330\",\"type\":\"Grid\"},{\"id\":\"931ebf9e-6971-4bd6-9f24-0a58a36cc771\",\"type\":\"LinearAxis\"},{\"id\":\"2abd4004-effb-491b-8f15-b0de59aa0bdd\",\"type\":\"Grid\"},{\"id\":\"556282d9-ae71-482d-abb6-4947111fc126\",\"type\":\"BoxAnnotation\"},{\"id\":\"2ba725bd-7063-4dd4-8520-a5ccab18ccc5\",\"type\":\"GlyphRenderer\"},{\"id\":\"e245bad3-46cc-42e0-a7ec-c868a2f57bc9\",\"type\":\"GlyphRenderer\"}],\"title\":{\"id\":\"431d18e6-b9ce-4cb7-ad5b-86e1bf8d25e5\",\"type\":\"Title\"},\"toolbar\":{\"id\":\"b889c607-2ccf-4ba1-b96d-d49a88a67d1e\",\"type\":\"Toolbar\"},\"x_range\":{\"id\":\"38860a9a-f410-482b-9cd5-2b97e03e4d2f\",\"type\":\"DataRange1d\"},\"x_scale\":{\"id\":\"36538139-b32e-42c4-8db8-2dad946d264b\",\"type\":\"LinearScale\"},\"y_range\":{\"id\":\"bcc39f7c-a56f-4cc3-b3f7-593e13e5511c\",\"type\":\"DataRange1d\"},\"y_scale\":{\"id\":\"121710d2-a15b-4196-9b87-3a5bfb42dfcc\",\"type\":\"LinearScale\"}},\"id\":\"1b2759eb-dd51-46a9-b99a-583a7523248f\",\"subtype\":\"Figure\",\"type\":\"Plot\"}],\"root_ids\":[\"1b2759eb-dd51-46a9-b99a-583a7523248f\"]},\"title\":\"Bokeh Application\",\"version\":\"0.13.0\"}};\n",
       "  var render_items = [{\"docid\":\"f1b3ec51-1251-4c65-96fe-999f62e174ee\",\"roots\":{\"1b2759eb-dd51-46a9-b99a-583a7523248f\":\"42423937-1309-4508-92f7-0903a12fa54b\"}}];\n",
       "  root.Bokeh.embed.embed_items_notebook(docs_json, render_items);\n",
       "\n",
       "  }\n",
       "  if (root.Bokeh !== undefined) {\n",
       "    embed_document(root);\n",
       "  } else {\n",
       "    var attempts = 0;\n",
       "    var timer = setInterval(function(root) {\n",
       "      if (root.Bokeh !== undefined) {\n",
       "        embed_document(root);\n",
       "        clearInterval(timer);\n",
       "      }\n",
       "      attempts++;\n",
       "      if (attempts > 100) {\n",
       "        console.log(\"Bokeh: ERROR: Unable to run BokehJS code because BokehJS library is missing\")\n",
       "        clearInterval(timer);\n",
       "      }\n",
       "    }, 10, root)\n",
       "  }\n",
       "})(window);"
      ],
      "application/vnd.bokehjs_exec.v0+json": ""
     },
     "metadata": {
      "application/vnd.bokehjs_exec.v0+json": {
       "id": "1b2759eb-dd51-46a9-b99a-583a7523248f"
      }
     },
     "output_type": "display_data"
    }
   ],
   "source": [
    "p = plot_result(xs=no_data.index.tolist(), \n",
    "                ys=no_data.tolist(),\n",
    "                x_label=\"boarding_time (h)\",\n",
    "                y_label=\"Rate\",\n",
    "                color=Category20[6][1],\n",
    "                title=\"Frequency of Night-Owling for users (median)\")\n",
    "                \n",
    "show(p)"
   ]
  },
  {
   "cell_type": "markdown",
   "metadata": {},
   "source": [
    "## Tireless Itinerants"
   ]
  },
  {
   "cell_type": "code",
   "execution_count": 11,
   "metadata": {},
   "outputs": [
    {
     "data": {
      "text/plain": [
       "5      0.0\n",
       "10     0.0\n",
       "20     0.0\n",
       "30     0.0\n",
       "50     0.0\n",
       "70     0.0\n",
       "90     0.0\n",
       "110    0.0\n",
       "dtype: float64"
      ]
     },
     "execution_count": 11,
     "metadata": {},
     "output_type": "execute_result"
    }
   ],
   "source": [
    "try:\n",
    "    ti_rates = pd.read_csv(\"notebooks/outputs/ti_rates.csv\", index_col=0).to_dict()\n",
    "\n",
    "except FileNotFoundError:\n",
    "\n",
    "    ti_rates = {}\n",
    "\n",
    "    for commuting_time_m in [10, 30, 50, 70, 90, 110]:\n",
    "        ti_rate = {}\n",
    "\n",
    "        for user_id in users_srg.keys():\n",
    "            try:\n",
    "                ti_rate[user_id] = tireless_intinerant(users_srg[user_id], commuting_time_m=commuting_time_m)\n",
    "            except ZeroDivisionError:\n",
    "                ti_rate[user_id] = 0\n",
    "\n",
    "        ti_rates[commuting_time_m] = ti_rate\n",
    "        \n",
    "    pd.DataFrame(ti_rates).to_csv(\"notebooks/outputs/ti_rates.csv\")\n",
    "    \n",
    "ti_data = pd.DataFrame(ti_rates).median().sort_index()\n",
    "ti_data.index = ti_data.index.astype(int)\n",
    "ti_data = ti_data.sort_index()\n",
    "ti_data"
   ]
  },
  {
   "cell_type": "code",
   "execution_count": 12,
   "metadata": {},
   "outputs": [
    {
     "data": {
      "text/html": [
       "\n",
       "\n",
       "\n",
       "\n",
       "\n",
       "\n",
       "  <div class=\"bk-root\" id=\"b75142ba-38bd-4c28-9600-669f8875620f\"></div>\n"
      ]
     },
     "metadata": {},
     "output_type": "display_data"
    },
    {
     "data": {
      "application/javascript": [
       "(function(root) {\n",
       "  function embed_document(root) {\n",
       "    \n",
       "  var docs_json = {\"270a4238-68c8-487e-9757-965233f093fa\":{\"roots\":{\"references\":[{\"attributes\":{},\"id\":\"3620a9b3-c42f-4682-953e-ee915ed6c16a\",\"type\":\"UnionRenderers\"},{\"attributes\":{\"fill_alpha\":{\"value\":0.1},\"fill_color\":{\"value\":\"#1f77b4\"},\"line_alpha\":{\"value\":0.1},\"line_color\":{\"value\":\"#1f77b4\"},\"x\":{\"field\":\"x\"},\"y\":{\"field\":\"y\"}},\"id\":\"23dc0ed5-1b24-4a45-96d1-f9e2d61b989e\",\"type\":\"Circle\"},{\"attributes\":{},\"id\":\"be2474d6-9294-46ad-8c2b-02fb9e335536\",\"type\":\"LinearScale\"},{\"attributes\":{},\"id\":\"48d089ca-1d45-491a-9196-0dc02dd7d71d\",\"type\":\"Selection\"},{\"attributes\":{\"callback\":null,\"data\":{\"x\":[5.0,10.0,20.0,30.0,50.0,70.0,90.0,110.0],\"y\":[0.0,0.0,0.0,0.0,0.0,0.0,0.0,0.0]},\"selected\":{\"id\":\"946d4458-604c-4e69-ae21-41549b8fd3a3\",\"type\":\"Selection\"},\"selection_policy\":{\"id\":\"187c962e-c244-4fed-ad3c-6a687666a7bd\",\"type\":\"UnionRenderers\"}},\"id\":\"e9314018-afbd-4d1b-b003-711d17e3ca3e\",\"type\":\"ColumnDataSource\"},{\"attributes\":{\"source\":{\"id\":\"e9314018-afbd-4d1b-b003-711d17e3ca3e\",\"type\":\"ColumnDataSource\"}},\"id\":\"83358b0f-88ed-4d69-b81d-618d97d4c585\",\"type\":\"CDSView\"},{\"attributes\":{},\"id\":\"187c962e-c244-4fed-ad3c-6a687666a7bd\",\"type\":\"UnionRenderers\"},{\"attributes\":{\"data_source\":{\"id\":\"355c1333-ac8f-4331-b63d-fa31c573648a\",\"type\":\"ColumnDataSource\"},\"glyph\":{\"id\":\"b05cef51-d4ce-4ef9-9d7e-911005b1730b\",\"type\":\"Line\"},\"hover_glyph\":null,\"muted_glyph\":null,\"nonselection_glyph\":{\"id\":\"be1c7d25-09a7-494f-adae-59ffa7c75bbb\",\"type\":\"Line\"},\"selection_glyph\":null,\"view\":{\"id\":\"3ce5f5b0-8bc3-4315-845d-4b31180ee257\",\"type\":\"CDSView\"}},\"id\":\"2dd56d7a-4118-4173-9107-0f285625fe30\",\"type\":\"GlyphRenderer\"},{\"attributes\":{\"active_drag\":\"auto\",\"active_inspect\":\"auto\",\"active_multi\":null,\"active_scroll\":\"auto\",\"active_tap\":\"auto\",\"tools\":[{\"id\":\"636a091c-6394-4d43-9982-341cbfcfb5a2\",\"type\":\"PanTool\"},{\"id\":\"c2c58fca-fc93-4d41-abcb-94b451362c7d\",\"type\":\"WheelZoomTool\"},{\"id\":\"30ee73ae-64dc-4d2d-a98e-b303ecf35141\",\"type\":\"BoxZoomTool\"},{\"id\":\"017a507c-6fcb-420f-90c8-6fb50ebe312b\",\"type\":\"SaveTool\"},{\"id\":\"57b7a6d5-a209-4a59-828c-984e55ced3e4\",\"type\":\"ResetTool\"},{\"id\":\"9d11df87-5fba-4034-9f6c-5879334b5457\",\"type\":\"HelpTool\"}]},\"id\":\"ef5cb539-6efb-46b7-a804-c6a46e4c5f4a\",\"type\":\"Toolbar\"},{\"attributes\":{\"source\":{\"id\":\"355c1333-ac8f-4331-b63d-fa31c573648a\",\"type\":\"ColumnDataSource\"}},\"id\":\"3ce5f5b0-8bc3-4315-845d-4b31180ee257\",\"type\":\"CDSView\"},{\"attributes\":{},\"id\":\"946d4458-604c-4e69-ae21-41549b8fd3a3\",\"type\":\"Selection\"},{\"attributes\":{},\"id\":\"636a091c-6394-4d43-9982-341cbfcfb5a2\",\"type\":\"PanTool\"},{\"attributes\":{\"plot\":{\"id\":\"6882cd76-7b19-4642-9943-41647e9a6177\",\"subtype\":\"Figure\",\"type\":\"Plot\"},\"ticker\":{\"id\":\"6467bea6-081e-4fcb-bd82-96d6cedf9949\",\"type\":\"BasicTicker\"}},\"id\":\"d2485778-175a-4c7a-bda2-d2fd7390ff6e\",\"type\":\"Grid\"},{\"attributes\":{\"axis_label\":\"commuting_time (h)\",\"formatter\":{\"id\":\"376960d1-f6a7-498c-967f-adbd73663759\",\"type\":\"BasicTickFormatter\"},\"plot\":{\"id\":\"6882cd76-7b19-4642-9943-41647e9a6177\",\"subtype\":\"Figure\",\"type\":\"Plot\"},\"ticker\":{\"id\":\"6467bea6-081e-4fcb-bd82-96d6cedf9949\",\"type\":\"BasicTicker\"}},\"id\":\"78fbb8f4-a13b-4358-8fb4-8ad95b0abef9\",\"type\":\"LinearAxis\"},{\"attributes\":{\"bottom_units\":\"screen\",\"fill_alpha\":{\"value\":0.5},\"fill_color\":{\"value\":\"lightgrey\"},\"left_units\":\"screen\",\"level\":\"overlay\",\"line_alpha\":{\"value\":1.0},\"line_color\":{\"value\":\"black\"},\"line_dash\":[4,4],\"line_width\":{\"value\":2},\"plot\":null,\"render_mode\":\"css\",\"right_units\":\"screen\",\"top_units\":\"screen\"},\"id\":\"1bf637b3-1069-4be9-aad5-25b23a0e0f19\",\"type\":\"BoxAnnotation\"},{\"attributes\":{\"line_alpha\":0.1,\"line_color\":\"#1f77b4\",\"line_width\":2,\"x\":{\"field\":\"x\"},\"y\":{\"field\":\"y\"}},\"id\":\"be1c7d25-09a7-494f-adae-59ffa7c75bbb\",\"type\":\"Line\"},{\"attributes\":{\"line_alpha\":0.8,\"line_color\":\"#ff7f0e\",\"line_width\":2,\"x\":{\"field\":\"x\"},\"y\":{\"field\":\"y\"}},\"id\":\"b05cef51-d4ce-4ef9-9d7e-911005b1730b\",\"type\":\"Line\"},{\"attributes\":{},\"id\":\"376960d1-f6a7-498c-967f-adbd73663759\",\"type\":\"BasicTickFormatter\"},{\"attributes\":{},\"id\":\"57b7a6d5-a209-4a59-828c-984e55ced3e4\",\"type\":\"ResetTool\"},{\"attributes\":{\"callback\":null},\"id\":\"5a0bba0e-66aa-4667-a725-d96898e69c0b\",\"type\":\"DataRange1d\"},{\"attributes\":{\"dimension\":1,\"plot\":{\"id\":\"6882cd76-7b19-4642-9943-41647e9a6177\",\"subtype\":\"Figure\",\"type\":\"Plot\"},\"ticker\":{\"id\":\"8702dfe5-e413-4b81-bb3b-47963301b129\",\"type\":\"BasicTicker\"}},\"id\":\"3ee6b3d4-1343-4738-9e76-ee9dd9655a8e\",\"type\":\"Grid\"},{\"attributes\":{\"data_source\":{\"id\":\"e9314018-afbd-4d1b-b003-711d17e3ca3e\",\"type\":\"ColumnDataSource\"},\"glyph\":{\"id\":\"684866eb-db12-43cd-acf0-2da009fd9204\",\"type\":\"Circle\"},\"hover_glyph\":null,\"muted_glyph\":null,\"nonselection_glyph\":{\"id\":\"23dc0ed5-1b24-4a45-96d1-f9e2d61b989e\",\"type\":\"Circle\"},\"selection_glyph\":null,\"view\":{\"id\":\"83358b0f-88ed-4d69-b81d-618d97d4c585\",\"type\":\"CDSView\"}},\"id\":\"621e9403-56d5-4fa5-a2fe-b0eba05b91d2\",\"type\":\"GlyphRenderer\"},{\"attributes\":{},\"id\":\"6bd8ae3b-e088-4c51-85e4-3315a9536298\",\"type\":\"LinearScale\"},{\"attributes\":{},\"id\":\"9d11df87-5fba-4034-9f6c-5879334b5457\",\"type\":\"HelpTool\"},{\"attributes\":{\"axis_label\":\"Rate\",\"formatter\":{\"id\":\"1668d80c-e4e5-4da6-b53a-dbf3ef4377dc\",\"type\":\"BasicTickFormatter\"},\"plot\":{\"id\":\"6882cd76-7b19-4642-9943-41647e9a6177\",\"subtype\":\"Figure\",\"type\":\"Plot\"},\"ticker\":{\"id\":\"8702dfe5-e413-4b81-bb3b-47963301b129\",\"type\":\"BasicTicker\"}},\"id\":\"bcc379e6-a039-475a-9a50-ef4d11a1a43d\",\"type\":\"LinearAxis\"},{\"attributes\":{},\"id\":\"c2c58fca-fc93-4d41-abcb-94b451362c7d\",\"type\":\"WheelZoomTool\"},{\"attributes\":{\"below\":[{\"id\":\"78fbb8f4-a13b-4358-8fb4-8ad95b0abef9\",\"type\":\"LinearAxis\"}],\"left\":[{\"id\":\"bcc379e6-a039-475a-9a50-ef4d11a1a43d\",\"type\":\"LinearAxis\"}],\"plot_height\":300,\"plot_width\":500,\"renderers\":[{\"id\":\"78fbb8f4-a13b-4358-8fb4-8ad95b0abef9\",\"type\":\"LinearAxis\"},{\"id\":\"d2485778-175a-4c7a-bda2-d2fd7390ff6e\",\"type\":\"Grid\"},{\"id\":\"bcc379e6-a039-475a-9a50-ef4d11a1a43d\",\"type\":\"LinearAxis\"},{\"id\":\"3ee6b3d4-1343-4738-9e76-ee9dd9655a8e\",\"type\":\"Grid\"},{\"id\":\"1bf637b3-1069-4be9-aad5-25b23a0e0f19\",\"type\":\"BoxAnnotation\"},{\"id\":\"2dd56d7a-4118-4173-9107-0f285625fe30\",\"type\":\"GlyphRenderer\"},{\"id\":\"621e9403-56d5-4fa5-a2fe-b0eba05b91d2\",\"type\":\"GlyphRenderer\"}],\"title\":{\"id\":\"c8399d60-07df-4f6e-9a6b-b4c653e7c7a1\",\"type\":\"Title\"},\"toolbar\":{\"id\":\"ef5cb539-6efb-46b7-a804-c6a46e4c5f4a\",\"type\":\"Toolbar\"},\"x_range\":{\"id\":\"8d5793bf-11ad-4f20-998a-15783f1a73cb\",\"type\":\"DataRange1d\"},\"x_scale\":{\"id\":\"be2474d6-9294-46ad-8c2b-02fb9e335536\",\"type\":\"LinearScale\"},\"y_range\":{\"id\":\"5a0bba0e-66aa-4667-a725-d96898e69c0b\",\"type\":\"DataRange1d\"},\"y_scale\":{\"id\":\"6bd8ae3b-e088-4c51-85e4-3315a9536298\",\"type\":\"LinearScale\"}},\"id\":\"6882cd76-7b19-4642-9943-41647e9a6177\",\"subtype\":\"Figure\",\"type\":\"Plot\"},{\"attributes\":{\"overlay\":{\"id\":\"1bf637b3-1069-4be9-aad5-25b23a0e0f19\",\"type\":\"BoxAnnotation\"}},\"id\":\"30ee73ae-64dc-4d2d-a98e-b303ecf35141\",\"type\":\"BoxZoomTool\"},{\"attributes\":{\"callback\":null},\"id\":\"8d5793bf-11ad-4f20-998a-15783f1a73cb\",\"type\":\"DataRange1d\"},{\"attributes\":{\"plot\":null,\"text\":\"Frequency of Tireless Itineranting for users (median)\"},\"id\":\"c8399d60-07df-4f6e-9a6b-b4c653e7c7a1\",\"type\":\"Title\"},{\"attributes\":{},\"id\":\"6467bea6-081e-4fcb-bd82-96d6cedf9949\",\"type\":\"BasicTicker\"},{\"attributes\":{\"callback\":null,\"data\":{\"x\":[5.0,10.0,20.0,30.0,50.0,70.0,90.0,110.0],\"y\":[0.0,0.0,0.0,0.0,0.0,0.0,0.0,0.0]},\"selected\":{\"id\":\"48d089ca-1d45-491a-9196-0dc02dd7d71d\",\"type\":\"Selection\"},\"selection_policy\":{\"id\":\"3620a9b3-c42f-4682-953e-ee915ed6c16a\",\"type\":\"UnionRenderers\"}},\"id\":\"355c1333-ac8f-4331-b63d-fa31c573648a\",\"type\":\"ColumnDataSource\"},{\"attributes\":{},\"id\":\"8702dfe5-e413-4b81-bb3b-47963301b129\",\"type\":\"BasicTicker\"},{\"attributes\":{},\"id\":\"017a507c-6fcb-420f-90c8-6fb50ebe312b\",\"type\":\"SaveTool\"},{\"attributes\":{\"fill_color\":{\"value\":\"#ff7f0e\"},\"line_color\":{\"value\":\"#ff7f0e\"},\"x\":{\"field\":\"x\"},\"y\":{\"field\":\"y\"}},\"id\":\"684866eb-db12-43cd-acf0-2da009fd9204\",\"type\":\"Circle\"},{\"attributes\":{},\"id\":\"1668d80c-e4e5-4da6-b53a-dbf3ef4377dc\",\"type\":\"BasicTickFormatter\"}],\"root_ids\":[\"6882cd76-7b19-4642-9943-41647e9a6177\"]},\"title\":\"Bokeh Application\",\"version\":\"0.13.0\"}};\n",
       "  var render_items = [{\"docid\":\"270a4238-68c8-487e-9757-965233f093fa\",\"roots\":{\"6882cd76-7b19-4642-9943-41647e9a6177\":\"b75142ba-38bd-4c28-9600-669f8875620f\"}}];\n",
       "  root.Bokeh.embed.embed_items_notebook(docs_json, render_items);\n",
       "\n",
       "  }\n",
       "  if (root.Bokeh !== undefined) {\n",
       "    embed_document(root);\n",
       "  } else {\n",
       "    var attempts = 0;\n",
       "    var timer = setInterval(function(root) {\n",
       "      if (root.Bokeh !== undefined) {\n",
       "        embed_document(root);\n",
       "        clearInterval(timer);\n",
       "      }\n",
       "      attempts++;\n",
       "      if (attempts > 100) {\n",
       "        console.log(\"Bokeh: ERROR: Unable to run BokehJS code because BokehJS library is missing\")\n",
       "        clearInterval(timer);\n",
       "      }\n",
       "    }, 10, root)\n",
       "  }\n",
       "})(window);"
      ],
      "application/vnd.bokehjs_exec.v0+json": ""
     },
     "metadata": {
      "application/vnd.bokehjs_exec.v0+json": {
       "id": "6882cd76-7b19-4642-9943-41647e9a6177"
      }
     },
     "output_type": "display_data"
    }
   ],
   "source": [
    "p = plot_result(xs=ti_data.index.tolist(), \n",
    "                ys=ti_data.tolist(),\n",
    "                x_label=\"commuting_time (h)\",\n",
    "                y_label=\"Rate\",\n",
    "                color=Category20[6][2],\n",
    "                title=\"Frequency of Tireless Itineranting for users (median)\")\n",
    "                \n",
    "show(p)"
   ]
  },
  {
   "cell_type": "code",
   "execution_count": 13,
   "metadata": {},
   "outputs": [],
   "source": [
    "q50 = pd.DataFrame(ti_rates).quantile(0.5)\n",
    "q60 = pd.DataFrame(ti_rates).quantile(0.6)\n",
    "q70 = pd.DataFrame(ti_rates).quantile(0.7)\n",
    "q80 = pd.DataFrame(ti_rates).quantile(0.8)\n",
    "q90 = pd.DataFrame(ti_rates).quantile(0.9)\n",
    "\n",
    "qs = [q50, q60, q70, q80, q90]\n",
    "\n",
    "fixed_qs = []\n",
    "for q in qs:\n",
    "    q.index = q.index.astype(int)\n",
    "    q = q.sort_index()\n",
    "    fixed_qs.append(q)\n",
    "\n",
    "colors = [\"#FF0000\", \"#BF0000\", \"#800000\", \"#400000\", \"#000000\"]\n",
    "colors.reverse()"
   ]
  },
  {
   "cell_type": "code",
   "execution_count": 14,
   "metadata": {},
   "outputs": [
    {
     "data": {
      "text/html": [
       "\n",
       "\n",
       "\n",
       "\n",
       "\n",
       "\n",
       "  <div class=\"bk-root\" id=\"0ead876a-478b-4c70-905e-56901cb9cc36\"></div>\n"
      ]
     },
     "metadata": {},
     "output_type": "display_data"
    },
    {
     "data": {
      "application/javascript": [
       "(function(root) {\n",
       "  function embed_document(root) {\n",
       "    \n",
       "  var docs_json = {\"ee6dec93-e129-4806-b1c7-78e7864447b1\":{\"roots\":{\"references\":[{\"attributes\":{},\"id\":\"db9890bd-9a9b-41c7-918f-52f666f6ecb8\",\"type\":\"UnionRenderers\"},{\"attributes\":{\"data_source\":{\"id\":\"bb288f52-61e6-4f05-a2f3-5707c84a26c4\",\"type\":\"ColumnDataSource\"},\"glyph\":{\"id\":\"689a9e94-ed6f-45cf-801a-8e47fcbc5899\",\"type\":\"Line\"},\"hover_glyph\":null,\"muted_glyph\":null,\"nonselection_glyph\":{\"id\":\"d3f80af8-a694-4951-a0fa-4359d249d905\",\"type\":\"Line\"},\"selection_glyph\":null,\"view\":{\"id\":\"6311864a-95a5-4160-a497-c1cc38adac5b\",\"type\":\"CDSView\"}},\"id\":\"0867d61b-4c55-4823-bd8e-77cf1afeaaa1\",\"type\":\"GlyphRenderer\"},{\"attributes\":{\"axis_label\":\"Rate\",\"formatter\":{\"id\":\"c1ff30e7-d7e9-49c3-864e-6930a5f8e9c7\",\"type\":\"BasicTickFormatter\"},\"plot\":{\"id\":\"3f3bcb71-3f24-4670-a95c-d7f6a226dfe1\",\"subtype\":\"Figure\",\"type\":\"Plot\"},\"ticker\":{\"id\":\"d6b5b0d9-fee2-469f-b630-8a164bee8c2d\",\"type\":\"BasicTicker\"}},\"id\":\"8c00c456-64a8-462d-b59e-30761b8c39ae\",\"type\":\"LinearAxis\"},{\"attributes\":{\"axis_label\":\"commuting_time (h)\",\"formatter\":{\"id\":\"a79b5f90-5dd1-40c6-83a1-c57af1284c32\",\"type\":\"BasicTickFormatter\"},\"plot\":{\"id\":\"3f3bcb71-3f24-4670-a95c-d7f6a226dfe1\",\"subtype\":\"Figure\",\"type\":\"Plot\"},\"ticker\":{\"id\":\"d28e4989-a57e-4b17-a204-701bd73a954c\",\"type\":\"BasicTicker\"}},\"id\":\"b14462fc-8864-42af-95b7-6a807d56ee0e\",\"type\":\"LinearAxis\"},{\"attributes\":{\"source\":{\"id\":\"83cb2137-a6a6-4d6c-b250-c9e0b26a2209\",\"type\":\"ColumnDataSource\"}},\"id\":\"0d3bc7f1-c878-4e6b-ba32-88bd1a582394\",\"type\":\"CDSView\"},{\"attributes\":{},\"id\":\"a94a64d7-2dbd-497c-97f8-0defa20ba858\",\"type\":\"HelpTool\"},{\"attributes\":{\"line_alpha\":0.1,\"line_color\":\"#1f77b4\",\"line_width\":2,\"x\":{\"field\":\"x\"},\"y\":{\"field\":\"y\"}},\"id\":\"b969e8df-cd88-4954-8abc-5e07d7c71c70\",\"type\":\"Line\"},{\"attributes\":{\"data_source\":{\"id\":\"48f2d9f8-42b2-4d81-95e8-21a40d03b750\",\"type\":\"ColumnDataSource\"},\"glyph\":{\"id\":\"d88283a2-7ddd-4327-8a1c-baba4788aa6f\",\"type\":\"Circle\"},\"hover_glyph\":null,\"muted_glyph\":null,\"nonselection_glyph\":{\"id\":\"794e6fc0-42f2-489c-9103-ecc267ee418c\",\"type\":\"Circle\"},\"selection_glyph\":null,\"view\":{\"id\":\"e6ab4214-9f82-4b28-9d62-55b592653f0c\",\"type\":\"CDSView\"}},\"id\":\"61b169c5-5264-494e-bdd2-8c7b8c99c30b\",\"type\":\"GlyphRenderer\"},{\"attributes\":{\"callback\":null,\"data\":{\"x\":[5.0,10.0,20.0,30.0,50.0,70.0,90.0,110.0],\"y\":[1.0,0.8682199440820125,0.4673992673992673,0.2707547169811316,0.15099206349206337,0.07988505747126431,0.04972515856236778,0.010256410256410038]},\"selected\":{\"id\":\"682a681c-127c-4b35-97f4-f87a65780607\",\"type\":\"Selection\"},\"selection_policy\":{\"id\":\"90f21db7-78bc-41e2-9ce1-57a59de0af08\",\"type\":\"UnionRenderers\"}},\"id\":\"591976be-4962-4af6-9002-58d734916022\",\"type\":\"ColumnDataSource\"},{\"attributes\":{},\"id\":\"0f25a9b5-53a2-401c-9247-eeb0aba3903b\",\"type\":\"UnionRenderers\"},{\"attributes\":{\"dimension\":1,\"plot\":{\"id\":\"3f3bcb71-3f24-4670-a95c-d7f6a226dfe1\",\"subtype\":\"Figure\",\"type\":\"Plot\"},\"ticker\":{\"id\":\"d6b5b0d9-fee2-469f-b630-8a164bee8c2d\",\"type\":\"BasicTicker\"}},\"id\":\"8ca765de-83df-420c-8443-a8ed4ad10bc8\",\"type\":\"Grid\"},{\"attributes\":{\"line_alpha\":0.8,\"line_color\":\"#000000\",\"line_width\":2,\"x\":{\"field\":\"x\"},\"y\":{\"field\":\"y\"}},\"id\":\"91c7160b-a670-4319-8deb-07dd88a8cf63\",\"type\":\"Line\"},{\"attributes\":{\"fill_alpha\":{\"value\":0.1},\"fill_color\":{\"value\":\"#1f77b4\"},\"line_alpha\":{\"value\":0.1},\"line_color\":{\"value\":\"#1f77b4\"},\"x\":{\"field\":\"x\"},\"y\":{\"field\":\"y\"}},\"id\":\"4a621294-8828-4df9-9c94-a59229ad6fd8\",\"type\":\"Circle\"},{\"attributes\":{},\"id\":\"b00c43cb-6bdb-49d6-ad4b-7636dd7ed931\",\"type\":\"UnionRenderers\"},{\"attributes\":{},\"id\":\"a1c75c5f-ca51-45bf-a62b-e3684848204c\",\"type\":\"Selection\"},{\"attributes\":{},\"id\":\"90688f9d-a2a9-4522-8446-d282682056b2\",\"type\":\"Selection\"},{\"attributes\":{},\"id\":\"fef3c48d-380d-40bc-b084-9e1281995f6f\",\"type\":\"UnionRenderers\"},{\"attributes\":{},\"id\":\"84465945-ecb9-4cac-b7c4-e9471424f843\",\"type\":\"Selection\"},{\"attributes\":{\"data_source\":{\"id\":\"4e42f1ee-99e0-4bef-b373-847b8624ce27\",\"type\":\"ColumnDataSource\"},\"glyph\":{\"id\":\"bb37a50f-08fa-4079-9048-1626af42e96c\",\"type\":\"Circle\"},\"hover_glyph\":null,\"muted_glyph\":null,\"nonselection_glyph\":{\"id\":\"e33ebafb-14ca-4333-8f37-9665d7026333\",\"type\":\"Circle\"},\"selection_glyph\":null,\"view\":{\"id\":\"16ca5dad-5598-4ea7-8d2f-97bea2f7d334\",\"type\":\"CDSView\"}},\"id\":\"a88c219e-ccca-481c-8e2b-581aa16cda29\",\"type\":\"GlyphRenderer\"},{\"attributes\":{\"fill_color\":{\"value\":\"#400000\"},\"line_color\":{\"value\":\"#400000\"},\"x\":{\"field\":\"x\"},\"y\":{\"field\":\"y\"}},\"id\":\"a0337c1f-c2e0-49f1-8b4c-56fdc9007634\",\"type\":\"Circle\"},{\"attributes\":{\"data_source\":{\"id\":\"83cb2137-a6a6-4d6c-b250-c9e0b26a2209\",\"type\":\"ColumnDataSource\"},\"glyph\":{\"id\":\"91c7160b-a670-4319-8deb-07dd88a8cf63\",\"type\":\"Line\"},\"hover_glyph\":null,\"muted_glyph\":null,\"nonselection_glyph\":{\"id\":\"be81eb96-dc65-4d2e-afce-e59dc7b24e0f\",\"type\":\"Line\"},\"selection_glyph\":null,\"view\":{\"id\":\"0d3bc7f1-c878-4e6b-ba32-88bd1a582394\",\"type\":\"CDSView\"}},\"id\":\"6e852bb6-8aad-4a8b-b5f3-a72ba35d43b6\",\"type\":\"GlyphRenderer\"},{\"attributes\":{\"line_alpha\":0.8,\"line_color\":\"#400000\",\"line_width\":2,\"x\":{\"field\":\"x\"},\"y\":{\"field\":\"y\"}},\"id\":\"6cb3d0c8-2e88-41d0-b54c-a792f735bf6d\",\"type\":\"Line\"},{\"attributes\":{\"line_alpha\":0.1,\"line_color\":\"#1f77b4\",\"line_width\":2,\"x\":{\"field\":\"x\"},\"y\":{\"field\":\"y\"}},\"id\":\"d3f80af8-a694-4951-a0fa-4359d249d905\",\"type\":\"Line\"},{\"attributes\":{\"line_alpha\":0.8,\"line_color\":\"#FF0000\",\"line_width\":2,\"x\":{\"field\":\"x\"},\"y\":{\"field\":\"y\"}},\"id\":\"7e80cd14-4494-4039-9577-cb88784cccaa\",\"type\":\"Line\"},{\"attributes\":{},\"id\":\"3e55c49a-6480-446a-9146-486e175e6e27\",\"type\":\"Selection\"},{\"attributes\":{\"label\":{\"value\":\"q50\"},\"renderers\":[{\"id\":\"a88c219e-ccca-481c-8e2b-581aa16cda29\",\"type\":\"GlyphRenderer\"}]},\"id\":\"aafcdf04-bf2e-4cca-aad5-b07c7481453c\",\"type\":\"LegendItem\"},{\"attributes\":{\"fill_color\":{\"value\":\"#800000\"},\"line_color\":{\"value\":\"#800000\"},\"x\":{\"field\":\"x\"},\"y\":{\"field\":\"y\"}},\"id\":\"a79c72cb-682c-4335-9e56-6c21b255f1f9\",\"type\":\"Circle\"},{\"attributes\":{},\"id\":\"b6c8940c-84a0-427f-bd4c-07d9dc9ea88f\",\"type\":\"Selection\"},{\"attributes\":{\"source\":{\"id\":\"8dbe3f98-c733-4b28-8b27-2847569fd309\",\"type\":\"ColumnDataSource\"}},\"id\":\"09faf8f0-e22a-4c61-8d4a-bb366d49c1d7\",\"type\":\"CDSView\"},{\"attributes\":{\"fill_alpha\":{\"value\":0.1},\"fill_color\":{\"value\":\"#1f77b4\"},\"line_alpha\":{\"value\":0.1},\"line_color\":{\"value\":\"#1f77b4\"},\"x\":{\"field\":\"x\"},\"y\":{\"field\":\"y\"}},\"id\":\"794e6fc0-42f2-489c-9103-ecc267ee418c\",\"type\":\"Circle\"},{\"attributes\":{\"plot\":null,\"text\":\"Frequency of Tireless Itineranting for users (quantiles)\"},\"id\":\"2b726092-a7e3-47ef-a0ec-2864a27dfe1c\",\"type\":\"Title\"},{\"attributes\":{},\"id\":\"7e5548b3-16c8-4ed4-84e7-3a0c37daf97a\",\"type\":\"UnionRenderers\"},{\"attributes\":{},\"id\":\"d6b5b0d9-fee2-469f-b630-8a164bee8c2d\",\"type\":\"BasicTicker\"},{\"attributes\":{\"callback\":null,\"data\":{\"x\":[5.0,10.0,20.0,30.0,50.0,70.0,90.0,110.0],\"y\":[1.0,1.0,0.7191794871794872,0.508108108108108,0.3333333333333333,0.25,0.15753846153846152,0.09567099567099555]},\"selected\":{\"id\":\"84465945-ecb9-4cac-b7c4-e9471424f843\",\"type\":\"Selection\"},\"selection_policy\":{\"id\":\"0f25a9b5-53a2-401c-9247-eeb0aba3903b\",\"type\":\"UnionRenderers\"}},\"id\":\"b6ba09bc-a42b-499c-a80e-88e3c4996206\",\"type\":\"ColumnDataSource\"},{\"attributes\":{\"source\":{\"id\":\"bb288f52-61e6-4f05-a2f3-5707c84a26c4\",\"type\":\"ColumnDataSource\"}},\"id\":\"6311864a-95a5-4160-a497-c1cc38adac5b\",\"type\":\"CDSView\"},{\"attributes\":{},\"id\":\"7e796575-d2b9-4012-a4a2-ddd80f37013d\",\"type\":\"Selection\"},{\"attributes\":{\"source\":{\"id\":\"4e42f1ee-99e0-4bef-b373-847b8624ce27\",\"type\":\"ColumnDataSource\"}},\"id\":\"16ca5dad-5598-4ea7-8d2f-97bea2f7d334\",\"type\":\"CDSView\"},{\"attributes\":{\"plot\":{\"id\":\"3f3bcb71-3f24-4670-a95c-d7f6a226dfe1\",\"subtype\":\"Figure\",\"type\":\"Plot\"},\"ticker\":{\"id\":\"d28e4989-a57e-4b17-a204-701bd73a954c\",\"type\":\"BasicTicker\"}},\"id\":\"7ad12027-71a7-40d7-bb30-115d3d001c1d\",\"type\":\"Grid\"},{\"attributes\":{\"callback\":null,\"data\":{\"x\":[5.0,10.0,20.0,30.0,50.0,70.0,90.0,110.0],\"y\":[0.48055555555555607,0.22777777777777786,0.032727272727273195,0.0,0.0,0.0,0.0,0.0]},\"selected\":{\"id\":\"a1c75c5f-ca51-45bf-a62b-e3684848204c\",\"type\":\"Selection\"},\"selection_policy\":{\"id\":\"68243530-135c-408d-94d8-6a9e71cfd2ae\",\"type\":\"UnionRenderers\"}},\"id\":\"a82d4b83-873a-441b-b52e-b7aa8127d866\",\"type\":\"ColumnDataSource\"},{\"attributes\":{\"source\":{\"id\":\"df5e4785-9878-4a55-bf89-09aba42d5803\",\"type\":\"ColumnDataSource\"}},\"id\":\"ed5bb39c-9896-44d7-8a06-81d3acb5cad9\",\"type\":\"CDSView\"},{\"attributes\":{\"line_alpha\":0.8,\"line_color\":\"#800000\",\"line_width\":2,\"x\":{\"field\":\"x\"},\"y\":{\"field\":\"y\"}},\"id\":\"a4c548d5-5587-4814-85f4-9c52445d48ad\",\"type\":\"Line\"},{\"attributes\":{\"overlay\":{\"id\":\"27b9db20-133e-4d94-b5dd-9095c6c52cce\",\"type\":\"BoxAnnotation\"}},\"id\":\"6aae89b8-35ed-4299-9f15-050f767652b4\",\"type\":\"BoxZoomTool\"},{\"attributes\":{},\"id\":\"a79b5f90-5dd1-40c6-83a1-c57af1284c32\",\"type\":\"BasicTickFormatter\"},{\"attributes\":{\"bottom_units\":\"screen\",\"fill_alpha\":{\"value\":0.5},\"fill_color\":{\"value\":\"lightgrey\"},\"left_units\":\"screen\",\"level\":\"overlay\",\"line_alpha\":{\"value\":1.0},\"line_color\":{\"value\":\"black\"},\"line_dash\":[4,4],\"line_width\":{\"value\":2},\"plot\":null,\"render_mode\":\"css\",\"right_units\":\"screen\",\"top_units\":\"screen\"},\"id\":\"27b9db20-133e-4d94-b5dd-9095c6c52cce\",\"type\":\"BoxAnnotation\"},{\"attributes\":{},\"id\":\"682a681c-127c-4b35-97f4-f87a65780607\",\"type\":\"Selection\"},{\"attributes\":{\"line_alpha\":0.1,\"line_color\":\"#1f77b4\",\"line_width\":2,\"x\":{\"field\":\"x\"},\"y\":{\"field\":\"y\"}},\"id\":\"53342a93-eaef-427f-8a1a-e5e803fc17be\",\"type\":\"Line\"},{\"attributes\":{},\"id\":\"7e9a20be-23e6-4b18-b506-4eb54236201a\",\"type\":\"UnionRenderers\"},{\"attributes\":{},\"id\":\"f91e0746-aa98-4c34-867d-3b99210c77f3\",\"type\":\"Selection\"},{\"attributes\":{\"callback\":null},\"id\":\"d5d42a9b-b423-4235-b910-76042db43ed1\",\"type\":\"DataRange1d\"},{\"attributes\":{\"source\":{\"id\":\"b6ba09bc-a42b-499c-a80e-88e3c4996206\",\"type\":\"ColumnDataSource\"}},\"id\":\"6bf4b324-acd9-4eaf-8760-7a8d811cf65f\",\"type\":\"CDSView\"},{\"attributes\":{\"data_source\":{\"id\":\"df5e4785-9878-4a55-bf89-09aba42d5803\",\"type\":\"ColumnDataSource\"},\"glyph\":{\"id\":\"7e80cd14-4494-4039-9577-cb88784cccaa\",\"type\":\"Line\"},\"hover_glyph\":null,\"muted_glyph\":null,\"nonselection_glyph\":{\"id\":\"b969e8df-cd88-4954-8abc-5e07d7c71c70\",\"type\":\"Line\"},\"selection_glyph\":null,\"view\":{\"id\":\"ed5bb39c-9896-44d7-8a06-81d3acb5cad9\",\"type\":\"CDSView\"}},\"id\":\"147d6560-b447-465d-83c4-1d5b0af9004a\",\"type\":\"GlyphRenderer\"},{\"attributes\":{\"callback\":null,\"data\":{\"x\":[5.0,10.0,20.0,30.0,50.0,70.0,90.0,110.0],\"y\":[0.0,0.0,0.0,0.0,0.0,0.0,0.0,0.0]},\"selected\":{\"id\":\"f62ed201-66b4-4fb8-bd87-8445b21d7406\",\"type\":\"Selection\"},\"selection_policy\":{\"id\":\"b00c43cb-6bdb-49d6-ad4b-7636dd7ed931\",\"type\":\"UnionRenderers\"}},\"id\":\"4e42f1ee-99e0-4bef-b373-847b8624ce27\",\"type\":\"ColumnDataSource\"},{\"attributes\":{},\"id\":\"5601042e-6e6e-4c8b-98d4-ee6e1a7ad684\",\"type\":\"LinearScale\"},{\"attributes\":{},\"id\":\"3d7edceb-6535-4bd4-af4e-15a9782dd647\",\"type\":\"ResetTool\"},{\"attributes\":{\"callback\":null,\"data\":{\"x\":[5.0,10.0,20.0,30.0,50.0,70.0,90.0,110.0],\"y\":[0.48055555555555607,0.22777777777777786,0.032727272727273195,0.0,0.0,0.0,0.0,0.0]},\"selected\":{\"id\":\"3e55c49a-6480-446a-9146-486e175e6e27\",\"type\":\"Selection\"},\"selection_policy\":{\"id\":\"7e9a20be-23e6-4b18-b506-4eb54236201a\",\"type\":\"UnionRenderers\"}},\"id\":\"53c6c23c-53ed-4c38-8a39-af7553c11381\",\"type\":\"ColumnDataSource\"},{\"attributes\":{\"active_drag\":\"auto\",\"active_inspect\":\"auto\",\"active_multi\":null,\"active_scroll\":\"auto\",\"active_tap\":\"auto\",\"tools\":[{\"id\":\"be617cdf-e618-4fd2-9330-ca21ecdf1d4a\",\"type\":\"PanTool\"},{\"id\":\"e1e518c8-a484-4f32-b7ab-0f6b07facabb\",\"type\":\"WheelZoomTool\"},{\"id\":\"6aae89b8-35ed-4299-9f15-050f767652b4\",\"type\":\"BoxZoomTool\"},{\"id\":\"d91c1474-5a75-4842-bc7a-6460487ff097\",\"type\":\"SaveTool\"},{\"id\":\"3d7edceb-6535-4bd4-af4e-15a9782dd647\",\"type\":\"ResetTool\"},{\"id\":\"a94a64d7-2dbd-497c-97f8-0defa20ba858\",\"type\":\"HelpTool\"}]},\"id\":\"1d9bb754-57b3-4cec-82b6-f5ce60409d02\",\"type\":\"Toolbar\"},{\"attributes\":{\"label\":{\"value\":\"q90\"},\"renderers\":[{\"id\":\"61b169c5-5264-494e-bdd2-8c7b8c99c30b\",\"type\":\"GlyphRenderer\"}]},\"id\":\"0ce5b603-212b-4266-84b8-8f7c630c30aa\",\"type\":\"LegendItem\"},{\"attributes\":{},\"id\":\"90f21db7-78bc-41e2-9ce1-57a59de0af08\",\"type\":\"UnionRenderers\"},{\"attributes\":{\"fill_color\":{\"value\":\"#000000\"},\"line_color\":{\"value\":\"#000000\"},\"x\":{\"field\":\"x\"},\"y\":{\"field\":\"y\"}},\"id\":\"bb37a50f-08fa-4079-9048-1626af42e96c\",\"type\":\"Circle\"},{\"attributes\":{\"fill_alpha\":{\"value\":0.1},\"fill_color\":{\"value\":\"#1f77b4\"},\"line_alpha\":{\"value\":0.1},\"line_color\":{\"value\":\"#1f77b4\"},\"x\":{\"field\":\"x\"},\"y\":{\"field\":\"y\"}},\"id\":\"e33ebafb-14ca-4333-8f37-9665d7026333\",\"type\":\"Circle\"},{\"attributes\":{\"fill_color\":{\"value\":\"#BF0000\"},\"line_color\":{\"value\":\"#BF0000\"},\"x\":{\"field\":\"x\"},\"y\":{\"field\":\"y\"}},\"id\":\"5cb202db-ca97-41a2-9936-9554bd44a950\",\"type\":\"Circle\"},{\"attributes\":{\"data_source\":{\"id\":\"b6ba09bc-a42b-499c-a80e-88e3c4996206\",\"type\":\"ColumnDataSource\"},\"glyph\":{\"id\":\"5cb202db-ca97-41a2-9936-9554bd44a950\",\"type\":\"Circle\"},\"hover_glyph\":null,\"muted_glyph\":null,\"nonselection_glyph\":{\"id\":\"9cbf058d-4fec-46ee-91d7-19bd31942bb0\",\"type\":\"Circle\"},\"selection_glyph\":null,\"view\":{\"id\":\"6bf4b324-acd9-4eaf-8760-7a8d811cf65f\",\"type\":\"CDSView\"}},\"id\":\"a66fbf74-ff91-48a5-aa5a-f31671702e94\",\"type\":\"GlyphRenderer\"},{\"attributes\":{\"source\":{\"id\":\"591976be-4962-4af6-9002-58d734916022\",\"type\":\"ColumnDataSource\"}},\"id\":\"8e09be43-6788-40c9-ba6e-900a310fb0c6\",\"type\":\"CDSView\"},{\"attributes\":{\"source\":{\"id\":\"48f2d9f8-42b2-4d81-95e8-21a40d03b750\",\"type\":\"ColumnDataSource\"}},\"id\":\"e6ab4214-9f82-4b28-9d62-55b592653f0c\",\"type\":\"CDSView\"},{\"attributes\":{\"line_alpha\":0.8,\"line_color\":\"#BF0000\",\"line_width\":2,\"x\":{\"field\":\"x\"},\"y\":{\"field\":\"y\"}},\"id\":\"689a9e94-ed6f-45cf-801a-8e47fcbc5899\",\"type\":\"Line\"},{\"attributes\":{\"callback\":null,\"data\":{\"x\":[5.0,10.0,20.0,30.0,50.0,70.0,90.0,110.0],\"y\":[1.0,1.0,1.0,0.8824561403508779,0.5468875502008033,0.41333333333333355,0.3333333333333333,0.2837438423645321]},\"selected\":{\"id\":\"90688f9d-a2a9-4522-8446-d282682056b2\",\"type\":\"Selection\"},\"selection_policy\":{\"id\":\"fef3c48d-380d-40bc-b084-9e1281995f6f\",\"type\":\"UnionRenderers\"}},\"id\":\"48f2d9f8-42b2-4d81-95e8-21a40d03b750\",\"type\":\"ColumnDataSource\"},{\"attributes\":{\"source\":{\"id\":\"53c6c23c-53ed-4c38-8a39-af7553c11381\",\"type\":\"ColumnDataSource\"}},\"id\":\"b9dc7d0d-0682-4b64-915c-25c8916bffee\",\"type\":\"CDSView\"},{\"attributes\":{\"line_alpha\":0.1,\"line_color\":\"#1f77b4\",\"line_width\":2,\"x\":{\"field\":\"x\"},\"y\":{\"field\":\"y\"}},\"id\":\"c14cc83b-4490-42e2-893e-adbcfd8f09b8\",\"type\":\"Line\"},{\"attributes\":{},\"id\":\"d28e4989-a57e-4b17-a204-701bd73a954c\",\"type\":\"BasicTicker\"},{\"attributes\":{},\"id\":\"a8bc6185-aac7-4e61-b2d4-fe4253faa610\",\"type\":\"Selection\"},{\"attributes\":{},\"id\":\"306eb74f-6c87-4902-a33b-5b6bc192bed7\",\"type\":\"LinearScale\"},{\"attributes\":{\"callback\":null,\"data\":{\"x\":[5.0,10.0,20.0,30.0,50.0,70.0,90.0,110.0],\"y\":[1.0,1.0,1.0,0.8824561403508779,0.5468875502008033,0.41333333333333355,0.3333333333333333,0.2837438423645321]},\"selected\":{\"id\":\"b6c8940c-84a0-427f-bd4c-07d9dc9ea88f\",\"type\":\"Selection\"},\"selection_policy\":{\"id\":\"7e5548b3-16c8-4ed4-84e7-3a0c37daf97a\",\"type\":\"UnionRenderers\"}},\"id\":\"df5e4785-9878-4a55-bf89-09aba42d5803\",\"type\":\"ColumnDataSource\"},{\"attributes\":{},\"id\":\"be617cdf-e618-4fd2-9330-ca21ecdf1d4a\",\"type\":\"PanTool\"},{\"attributes\":{\"data_source\":{\"id\":\"53c6c23c-53ed-4c38-8a39-af7553c11381\",\"type\":\"ColumnDataSource\"},\"glyph\":{\"id\":\"6cb3d0c8-2e88-41d0-b54c-a792f735bf6d\",\"type\":\"Line\"},\"hover_glyph\":null,\"muted_glyph\":null,\"nonselection_glyph\":{\"id\":\"53342a93-eaef-427f-8a1a-e5e803fc17be\",\"type\":\"Line\"},\"selection_glyph\":null,\"view\":{\"id\":\"b9dc7d0d-0682-4b64-915c-25c8916bffee\",\"type\":\"CDSView\"}},\"id\":\"920a6f70-9328-4d17-94bc-68a17d83bd7b\",\"type\":\"GlyphRenderer\"},{\"attributes\":{\"label\":{\"value\":\"q60\"},\"renderers\":[{\"id\":\"241245c9-3338-4e81-9164-e416264707d5\",\"type\":\"GlyphRenderer\"}]},\"id\":\"4eeacb85-7a3a-4a71-ad5b-0ef099a76608\",\"type\":\"LegendItem\"},{\"attributes\":{},\"id\":\"68243530-135c-408d-94d8-6a9e71cfd2ae\",\"type\":\"UnionRenderers\"},{\"attributes\":{\"line_alpha\":0.1,\"line_color\":\"#1f77b4\",\"line_width\":2,\"x\":{\"field\":\"x\"},\"y\":{\"field\":\"y\"}},\"id\":\"be81eb96-dc65-4d2e-afce-e59dc7b24e0f\",\"type\":\"Line\"},{\"attributes\":{\"fill_alpha\":{\"value\":0.1},\"fill_color\":{\"value\":\"#1f77b4\"},\"line_alpha\":{\"value\":0.1},\"line_color\":{\"value\":\"#1f77b4\"},\"x\":{\"field\":\"x\"},\"y\":{\"field\":\"y\"}},\"id\":\"9cbf058d-4fec-46ee-91d7-19bd31942bb0\",\"type\":\"Circle\"},{\"attributes\":{\"callback\":null},\"id\":\"82070c8b-a77d-4c15-a97f-51a360891cbf\",\"type\":\"DataRange1d\"},{\"attributes\":{},\"id\":\"e1e518c8-a484-4f32-b7ab-0f6b07facabb\",\"type\":\"WheelZoomTool\"},{\"attributes\":{\"label\":{\"value\":\"q70\"},\"renderers\":[{\"id\":\"2840bf56-c280-43f1-935d-ee807d7f2648\",\"type\":\"GlyphRenderer\"}]},\"id\":\"ad97b7dc-49a4-4df5-94b1-cbb2ca846d4e\",\"type\":\"LegendItem\"},{\"attributes\":{\"label\":{\"value\":\"q80\"},\"renderers\":[{\"id\":\"a66fbf74-ff91-48a5-aa5a-f31671702e94\",\"type\":\"GlyphRenderer\"}]},\"id\":\"69e8e0a6-aa3a-4728-ba59-65b0f2ce326c\",\"type\":\"LegendItem\"},{\"attributes\":{},\"id\":\"d91c1474-5a75-4842-bc7a-6460487ff097\",\"type\":\"SaveTool\"},{\"attributes\":{\"source\":{\"id\":\"a82d4b83-873a-441b-b52e-b7aa8127d866\",\"type\":\"ColumnDataSource\"}},\"id\":\"a16ec0fb-39c2-47bc-aff0-1e14666b6e48\",\"type\":\"CDSView\"},{\"attributes\":{},\"id\":\"73bce26a-96d9-4579-b126-896f15e4ca0d\",\"type\":\"UnionRenderers\"},{\"attributes\":{\"data_source\":{\"id\":\"591976be-4962-4af6-9002-58d734916022\",\"type\":\"ColumnDataSource\"},\"glyph\":{\"id\":\"a4c548d5-5587-4814-85f4-9c52445d48ad\",\"type\":\"Line\"},\"hover_glyph\":null,\"muted_glyph\":null,\"nonselection_glyph\":{\"id\":\"c14cc83b-4490-42e2-893e-adbcfd8f09b8\",\"type\":\"Line\"},\"selection_glyph\":null,\"view\":{\"id\":\"8e09be43-6788-40c9-ba6e-900a310fb0c6\",\"type\":\"CDSView\"}},\"id\":\"28db7861-3022-4d0e-9485-f5464e490b2c\",\"type\":\"GlyphRenderer\"},{\"attributes\":{\"callback\":null,\"data\":{\"x\":[5.0,10.0,20.0,30.0,50.0,70.0,90.0,110.0],\"y\":[1.0,1.0,0.7191794871794872,0.508108108108108,0.3333333333333333,0.25,0.15753846153846152,0.09567099567099555]},\"selected\":{\"id\":\"f91e0746-aa98-4c34-867d-3b99210c77f3\",\"type\":\"Selection\"},\"selection_policy\":{\"id\":\"db9890bd-9a9b-41c7-918f-52f666f6ecb8\",\"type\":\"UnionRenderers\"}},\"id\":\"bb288f52-61e6-4f05-a2f3-5707c84a26c4\",\"type\":\"ColumnDataSource\"},{\"attributes\":{},\"id\":\"79ff1d29-0fc6-4064-aeb5-8bdbe67b5c9f\",\"type\":\"UnionRenderers\"},{\"attributes\":{\"callback\":null,\"data\":{\"x\":[5.0,10.0,20.0,30.0,50.0,70.0,90.0,110.0],\"y\":[1.0,0.8682199440820125,0.4673992673992673,0.2707547169811316,0.15099206349206337,0.07988505747126431,0.04972515856236778,0.010256410256410038]},\"selected\":{\"id\":\"7e796575-d2b9-4012-a4a2-ddd80f37013d\",\"type\":\"Selection\"},\"selection_policy\":{\"id\":\"73bce26a-96d9-4579-b126-896f15e4ca0d\",\"type\":\"UnionRenderers\"}},\"id\":\"8dbe3f98-c733-4b28-8b27-2847569fd309\",\"type\":\"ColumnDataSource\"},{\"attributes\":{},\"id\":\"c1ff30e7-d7e9-49c3-864e-6930a5f8e9c7\",\"type\":\"BasicTickFormatter\"},{\"attributes\":{},\"id\":\"f62ed201-66b4-4fb8-bd87-8445b21d7406\",\"type\":\"Selection\"},{\"attributes\":{\"data_source\":{\"id\":\"8dbe3f98-c733-4b28-8b27-2847569fd309\",\"type\":\"ColumnDataSource\"},\"glyph\":{\"id\":\"a79c72cb-682c-4335-9e56-6c21b255f1f9\",\"type\":\"Circle\"},\"hover_glyph\":null,\"muted_glyph\":null,\"nonselection_glyph\":{\"id\":\"4a621294-8828-4df9-9c94-a59229ad6fd8\",\"type\":\"Circle\"},\"selection_glyph\":null,\"view\":{\"id\":\"09faf8f0-e22a-4c61-8d4a-bb366d49c1d7\",\"type\":\"CDSView\"}},\"id\":\"2840bf56-c280-43f1-935d-ee807d7f2648\",\"type\":\"GlyphRenderer\"},{\"attributes\":{\"data_source\":{\"id\":\"a82d4b83-873a-441b-b52e-b7aa8127d866\",\"type\":\"ColumnDataSource\"},\"glyph\":{\"id\":\"a0337c1f-c2e0-49f1-8b4c-56fdc9007634\",\"type\":\"Circle\"},\"hover_glyph\":null,\"muted_glyph\":null,\"nonselection_glyph\":{\"id\":\"88f507ed-3c6c-4270-8b63-b6e5d25a8e2b\",\"type\":\"Circle\"},\"selection_glyph\":null,\"view\":{\"id\":\"a16ec0fb-39c2-47bc-aff0-1e14666b6e48\",\"type\":\"CDSView\"}},\"id\":\"241245c9-3338-4e81-9164-e416264707d5\",\"type\":\"GlyphRenderer\"},{\"attributes\":{\"fill_color\":{\"value\":\"#FF0000\"},\"line_color\":{\"value\":\"#FF0000\"},\"x\":{\"field\":\"x\"},\"y\":{\"field\":\"y\"}},\"id\":\"d88283a2-7ddd-4327-8a1c-baba4788aa6f\",\"type\":\"Circle\"},{\"attributes\":{\"fill_alpha\":{\"value\":0.1},\"fill_color\":{\"value\":\"#1f77b4\"},\"line_alpha\":{\"value\":0.1},\"line_color\":{\"value\":\"#1f77b4\"},\"x\":{\"field\":\"x\"},\"y\":{\"field\":\"y\"}},\"id\":\"88f507ed-3c6c-4270-8b63-b6e5d25a8e2b\",\"type\":\"Circle\"},{\"attributes\":{\"below\":[{\"id\":\"b14462fc-8864-42af-95b7-6a807d56ee0e\",\"type\":\"LinearAxis\"}],\"left\":[{\"id\":\"8c00c456-64a8-462d-b59e-30761b8c39ae\",\"type\":\"LinearAxis\"}],\"plot_height\":300,\"plot_width\":500,\"renderers\":[{\"id\":\"b14462fc-8864-42af-95b7-6a807d56ee0e\",\"type\":\"LinearAxis\"},{\"id\":\"7ad12027-71a7-40d7-bb30-115d3d001c1d\",\"type\":\"Grid\"},{\"id\":\"8c00c456-64a8-462d-b59e-30761b8c39ae\",\"type\":\"LinearAxis\"},{\"id\":\"8ca765de-83df-420c-8443-a8ed4ad10bc8\",\"type\":\"Grid\"},{\"id\":\"27b9db20-133e-4d94-b5dd-9095c6c52cce\",\"type\":\"BoxAnnotation\"},{\"id\":\"6e852bb6-8aad-4a8b-b5f3-a72ba35d43b6\",\"type\":\"GlyphRenderer\"},{\"id\":\"5d62f2e2-64b9-4df3-91ed-baa360d56326\",\"type\":\"Legend\"},{\"id\":\"a88c219e-ccca-481c-8e2b-581aa16cda29\",\"type\":\"GlyphRenderer\"},{\"id\":\"920a6f70-9328-4d17-94bc-68a17d83bd7b\",\"type\":\"GlyphRenderer\"},{\"id\":\"241245c9-3338-4e81-9164-e416264707d5\",\"type\":\"GlyphRenderer\"},{\"id\":\"28db7861-3022-4d0e-9485-f5464e490b2c\",\"type\":\"GlyphRenderer\"},{\"id\":\"2840bf56-c280-43f1-935d-ee807d7f2648\",\"type\":\"GlyphRenderer\"},{\"id\":\"0867d61b-4c55-4823-bd8e-77cf1afeaaa1\",\"type\":\"GlyphRenderer\"},{\"id\":\"a66fbf74-ff91-48a5-aa5a-f31671702e94\",\"type\":\"GlyphRenderer\"},{\"id\":\"147d6560-b447-465d-83c4-1d5b0af9004a\",\"type\":\"GlyphRenderer\"},{\"id\":\"61b169c5-5264-494e-bdd2-8c7b8c99c30b\",\"type\":\"GlyphRenderer\"}],\"title\":{\"id\":\"2b726092-a7e3-47ef-a0ec-2864a27dfe1c\",\"type\":\"Title\"},\"toolbar\":{\"id\":\"1d9bb754-57b3-4cec-82b6-f5ce60409d02\",\"type\":\"Toolbar\"},\"x_range\":{\"id\":\"d5d42a9b-b423-4235-b910-76042db43ed1\",\"type\":\"DataRange1d\"},\"x_scale\":{\"id\":\"306eb74f-6c87-4902-a33b-5b6bc192bed7\",\"type\":\"LinearScale\"},\"y_range\":{\"id\":\"82070c8b-a77d-4c15-a97f-51a360891cbf\",\"type\":\"DataRange1d\"},\"y_scale\":{\"id\":\"5601042e-6e6e-4c8b-98d4-ee6e1a7ad684\",\"type\":\"LinearScale\"}},\"id\":\"3f3bcb71-3f24-4670-a95c-d7f6a226dfe1\",\"subtype\":\"Figure\",\"type\":\"Plot\"},{\"attributes\":{\"items\":[{\"id\":\"aafcdf04-bf2e-4cca-aad5-b07c7481453c\",\"type\":\"LegendItem\"},{\"id\":\"4eeacb85-7a3a-4a71-ad5b-0ef099a76608\",\"type\":\"LegendItem\"},{\"id\":\"ad97b7dc-49a4-4df5-94b1-cbb2ca846d4e\",\"type\":\"LegendItem\"},{\"id\":\"69e8e0a6-aa3a-4728-ba59-65b0f2ce326c\",\"type\":\"LegendItem\"},{\"id\":\"0ce5b603-212b-4266-84b8-8f7c630c30aa\",\"type\":\"LegendItem\"}],\"plot\":{\"id\":\"3f3bcb71-3f24-4670-a95c-d7f6a226dfe1\",\"subtype\":\"Figure\",\"type\":\"Plot\"}},\"id\":\"5d62f2e2-64b9-4df3-91ed-baa360d56326\",\"type\":\"Legend\"},{\"attributes\":{\"callback\":null,\"data\":{\"x\":[5.0,10.0,20.0,30.0,50.0,70.0,90.0,110.0],\"y\":[0.0,0.0,0.0,0.0,0.0,0.0,0.0,0.0]},\"selected\":{\"id\":\"a8bc6185-aac7-4e61-b2d4-fe4253faa610\",\"type\":\"Selection\"},\"selection_policy\":{\"id\":\"79ff1d29-0fc6-4064-aeb5-8bdbe67b5c9f\",\"type\":\"UnionRenderers\"}},\"id\":\"83cb2137-a6a6-4d6c-b250-c9e0b26a2209\",\"type\":\"ColumnDataSource\"}],\"root_ids\":[\"3f3bcb71-3f24-4670-a95c-d7f6a226dfe1\"]},\"title\":\"Bokeh Application\",\"version\":\"0.13.0\"}};\n",
       "  var render_items = [{\"docid\":\"ee6dec93-e129-4806-b1c7-78e7864447b1\",\"roots\":{\"3f3bcb71-3f24-4670-a95c-d7f6a226dfe1\":\"0ead876a-478b-4c70-905e-56901cb9cc36\"}}];\n",
       "  root.Bokeh.embed.embed_items_notebook(docs_json, render_items);\n",
       "\n",
       "  }\n",
       "  if (root.Bokeh !== undefined) {\n",
       "    embed_document(root);\n",
       "  } else {\n",
       "    var attempts = 0;\n",
       "    var timer = setInterval(function(root) {\n",
       "      if (root.Bokeh !== undefined) {\n",
       "        embed_document(root);\n",
       "        clearInterval(timer);\n",
       "      }\n",
       "      attempts++;\n",
       "      if (attempts > 100) {\n",
       "        console.log(\"Bokeh: ERROR: Unable to run BokehJS code because BokehJS library is missing\")\n",
       "        clearInterval(timer);\n",
       "      }\n",
       "    }, 10, root)\n",
       "  }\n",
       "})(window);"
      ],
      "application/vnd.bokehjs_exec.v0+json": ""
     },
     "metadata": {
      "application/vnd.bokehjs_exec.v0+json": {
       "id": "3f3bcb71-3f24-4670-a95c-d7f6a226dfe1"
      }
     },
     "output_type": "display_data"
    }
   ],
   "source": [
    "p = plot_result_multi_line(xs_list=[qn.index.tolist() for qn in fixed_qs], \n",
    "                           ys_list=[qn.tolist() for qn in fixed_qs],  \n",
    "                           x_label=\"commuting_time (h)\",\n",
    "                           y_label=\"Rate\",\n",
    "                           color_list=colors, \n",
    "                           legend_list=[\"q50\", \"q60\", \"q70\", \"q80\", \"q90\"], \n",
    "                           title=\"Frequency of Tireless Itineranting for users (quantiles)\")\n",
    "\n",
    "show(p)"
   ]
  },
  {
   "cell_type": "markdown",
   "metadata": {},
   "source": [
    "It is posible that people leave their mobiles at home, more often than I expected."
   ]
  }
 ],
 "metadata": {
  "kernelspec": {
   "display_name": "Python 3",
   "language": "python",
   "name": "python3"
  },
  "language_info": {
   "codemirror_mode": {
    "name": "ipython",
    "version": 3
   },
   "file_extension": ".py",
   "mimetype": "text/x-python",
   "name": "python",
   "nbconvert_exporter": "python",
   "pygments_lexer": "ipython3",
   "version": "3.6.5"
  }
 },
 "nbformat": 4,
 "nbformat_minor": 2
}
