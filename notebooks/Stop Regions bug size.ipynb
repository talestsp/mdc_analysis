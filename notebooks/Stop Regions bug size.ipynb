{
 "cells": [
  {
   "cell_type": "code",
   "execution_count": 1,
   "metadata": {},
   "outputs": [
    {
     "name": "stdout",
     "output_type": "stream",
     "text": [
      "working dir /home/tales/dev/master/mdc_analysis\n"
     ]
    }
   ],
   "source": [
    "import os\n",
    "\n",
    "os.chdir(\"/home/tales/dev/master/mdc_analysis/\")\n",
    "print(\"working dir\", os.getcwd())"
   ]
  },
  {
   "cell_type": "code",
   "execution_count": 32,
   "metadata": {},
   "outputs": [],
   "source": [
    "import pandas as pd\n",
    "import threading\n",
    "\n",
    "from src.dao import objects_dao, csv_dao\n",
    "from src.data_processment.input_data_version import InputDataManager"
   ]
  },
  {
   "cell_type": "code",
   "execution_count": 3,
   "metadata": {},
   "outputs": [],
   "source": [
    "def len_multi_trip(multi_trip):\n",
    "    soma_categs_multi_trip = 0\n",
    "    for trip in multi_trip:\n",
    "        soma_categs_multi_trip += len(trip)\n",
    "    return soma_categs_multi_trip"
   ]
  },
  {
   "cell_type": "code",
   "execution_count": 46,
   "metadata": {},
   "outputs": [],
   "source": [
    "# def load_stop_region_sequence_multi_thread(n_threads):\n",
    "#     user_ids = list(multi_trip_dm.keys())[0:5]\n",
    "    \n",
    "#     length = int(len(user_ids) / n_threads)\n",
    "#     missing = len(user_ids) % n_threads\n",
    "    \n",
    "#     print(user_ids)\n",
    "#     print()\n",
    "    \n",
    "#     for i in range(n_threads):\n",
    "#         init_i = i * length\n",
    "#         end_i = (i+1) * length\n",
    "# #         print(user_ids[init_i : end_i])\n",
    "# #         print(len(user_ids[init_i : end_i]))\n",
    "#         t = threading.Thread(target=load_stop_region_sequence,\n",
    "#                              args=(user_ids[init_i : end_i],))\n",
    "#         t.start()\n",
    "\n",
    "#     for j in range(missing):\n",
    "#         init_i = end_i\n",
    "#         end_i = end_i + missing\n",
    "# #         print(user_ids[init_i: end_i])\n",
    "# #         print(len(user_ids[init_i : end_i]))\n",
    "#         t = threading.Thread(target=load_stop_region_sequence,\n",
    "#                              args=(user_ids[init_i : end_i],))\n",
    "#         t.start()\n",
    "    \n",
    " \n",
    "# aaa = load_stop_region_sequence_multi_thread(2)\n",
    "    \n",
    "# print(aaa)\n",
    "\n",
    "# def load_stop_region_sequence(user_ids):\n",
    "#     srs = []\n",
    "#     print(\"to_load:\", user_ids)\n",
    "#     for user_id in user_ids:\n",
    "#         print(\"loading:\", user_id)\n",
    "#         srs.append(csv_dao.stop_region_sequence(user_id))\n",
    "#         print(\"loaded\", user_id)\n",
    "        \n",
    "#     print(srs)\n",
    "#     return srs"
   ]
  },
  {
   "cell_type": "code",
   "execution_count": 25,
   "metadata": {
    "scrolled": true
   },
   "outputs": [
    {
     "name": "stdout",
     "output_type": "stream",
     "text": [
      "Loading Users Sequence Report\n"
     ]
    }
   ],
   "source": [
    "data_manager = InputDataManager()"
   ]
  },
  {
   "cell_type": "code",
   "execution_count": 5,
   "metadata": {},
   "outputs": [],
   "source": [
    "raw_data_dm = data_manager.get_input_data(\"raw_tags-0.0\")[\"user_data\"]"
   ]
  },
  {
   "cell_type": "code",
   "execution_count": 6,
   "metadata": {},
   "outputs": [],
   "source": [
    "seq_report = objects_dao.load_users_sequence_report(use_cache=True)"
   ]
  },
  {
   "cell_type": "code",
   "execution_count": 7,
   "metadata": {},
   "outputs": [],
   "source": [
    "multi_trip_dm = data_manager.users_multi_trip(gap_tresh_minutes=60 * 12,\n",
    "                               sr_stay_time_minutes=4,\n",
    "                               version=\"0.0.categ_v1\")"
   ]
  },
  {
   "cell_type": "code",
   "execution_count": 8,
   "metadata": {},
   "outputs": [
    {
     "name": "stdout",
     "output_type": "stream",
     "text": [
      "All Stop Regions:    120607\n"
     ]
    }
   ],
   "source": [
    "centroids = csv_dao.load_all_users_stop_regions_centroids()"
   ]
  },
  {
   "cell_type": "code",
   "execution_count": null,
   "metadata": {},
   "outputs": [
    {
     "name": "stdout",
     "output_type": "stream",
     "text": [
      "6015\n"
     ]
    }
   ],
   "source": [
    "srs = []\n",
    "for user_id in list(multi_trip_dm.keys())[0:3]:\n",
    "    print(user_id)\n",
    "    srs.append(csv_dao.stop_region_sequence(user_id))"
   ]
  },
  {
   "cell_type": "code",
   "execution_count": 48,
   "metadata": {},
   "outputs": [
    {
     "data": {
      "text/plain": [
       "[]"
      ]
     },
     "execution_count": 48,
     "metadata": {},
     "output_type": "execute_result"
    }
   ],
   "source": [
    "srs"
   ]
  },
  {
   "cell_type": "markdown",
   "metadata": {},
   "source": [
    "### Multi Trip Has repeated first element"
   ]
  },
  {
   "cell_type": "code",
   "execution_count": 10,
   "metadata": {},
   "outputs": [
    {
     "data": {
      "text/html": [
       "<div>\n",
       "<style scoped>\n",
       "    .dataframe tbody tr th:only-of-type {\n",
       "        vertical-align: middle;\n",
       "    }\n",
       "\n",
       "    .dataframe tbody tr th {\n",
       "        vertical-align: top;\n",
       "    }\n",
       "\n",
       "    .dataframe thead th {\n",
       "        text-align: right;\n",
       "    }\n",
       "</style>\n",
       "<table border=\"1\" class=\"dataframe\">\n",
       "  <thead>\n",
       "    <tr style=\"text-align: right;\">\n",
       "      <th></th>\n",
       "      <th>user_id</th>\n",
       "      <th>len</th>\n",
       "      <th>1st</th>\n",
       "      <th>2nd</th>\n",
       "    </tr>\n",
       "  </thead>\n",
       "  <tbody>\n",
       "    <tr>\n",
       "      <th>0</th>\n",
       "      <td>6015</td>\n",
       "      <td>184</td>\n",
       "      <td>liquor_store</td>\n",
       "      <td>liquor_store</td>\n",
       "    </tr>\n",
       "    <tr>\n",
       "      <th>1</th>\n",
       "      <td>6086</td>\n",
       "      <td>290</td>\n",
       "      <td>HOME</td>\n",
       "      <td>HOME</td>\n",
       "    </tr>\n",
       "    <tr>\n",
       "      <th>2</th>\n",
       "      <td>6014</td>\n",
       "      <td>275</td>\n",
       "      <td>WORK</td>\n",
       "      <td>WORK</td>\n",
       "    </tr>\n",
       "    <tr>\n",
       "      <th>3</th>\n",
       "      <td>6057</td>\n",
       "      <td>357</td>\n",
       "      <td>store</td>\n",
       "      <td>store</td>\n",
       "    </tr>\n",
       "    <tr>\n",
       "      <th>4</th>\n",
       "      <td>6181</td>\n",
       "      <td>20</td>\n",
       "      <td>laundry</td>\n",
       "      <td>laundry</td>\n",
       "    </tr>\n",
       "  </tbody>\n",
       "</table>\n",
       "</div>"
      ],
      "text/plain": [
       "  user_id  len           1st           2nd\n",
       "0    6015  184  liquor_store  liquor_store\n",
       "1    6086  290          HOME          HOME\n",
       "2    6014  275          WORK          WORK\n",
       "3    6057  357         store         store\n",
       "4    6181   20       laundry       laundry"
      ]
     },
     "execution_count": 10,
     "metadata": {},
     "output_type": "execute_result"
    }
   ],
   "source": [
    "firsts_sr = []\n",
    "\n",
    "for user_id in multi_trip_dm.keys():\n",
    "    firsts_sr.append({\"user_id\": user_id, \n",
    "                      \"len\": len_multi_trip(multi_trip_dm[user_id]),\n",
    "                      \"1st\": multi_trip_dm[user_id][0][0][0],\n",
    "                      \"2nd\": multi_trip_dm[user_id][0][1][0]})\n",
    "\n",
    "pd.DataFrame(firsts_sr)[[\"user_id\", \"len\", \"1st\", \"2nd\"]].head()"
   ]
  },
  {
   "cell_type": "markdown",
   "metadata": {},
   "source": [
    "### Different Lengths fo Stop Regions"
   ]
  },
  {
   "cell_type": "code",
   "execution_count": null,
   "metadata": {},
   "outputs": [],
   "source": []
  },
  {
   "cell_type": "code",
   "execution_count": null,
   "metadata": {},
   "outputs": [],
   "source": [
    "lengths = []\n",
    "\n",
    "for user_id in multi_trip_dm.keys():\n",
    "    \n",
    "    lengths.append({\"user_id\": user_id,\n",
    "                   \"raw_data_dm\": len(raw_data_dm[user_id]),\n",
    "                   \"multi_trip_dm\": len(multi_trip_dm[user_id]), \n",
    "                   \"seq_report\": len(seq_report[user_id]), \n",
    "                   \"srs\": len(srs[user_id]),\n",
    "                   \"centroids\": len(centroids[centroids[\"user_id\"] == int(user_id)])})\n",
    "    \n",
    "pd.DataFrame(lengths)"
   ]
  },
  {
   "cell_type": "code",
   "execution_count": null,
   "metadata": {},
   "outputs": [],
   "source": []
  },
  {
   "cell_type": "code",
   "execution_count": null,
   "metadata": {},
   "outputs": [],
   "source": [
    "from itertools import groupby\n",
    "\n",
    "len([x[0] for x in groupby(centroids[\"user_id\"].tolist())])"
   ]
  },
  {
   "cell_type": "code",
   "execution_count": null,
   "metadata": {},
   "outputs": [],
   "source": []
  }
 ],
 "metadata": {
  "kernelspec": {
   "display_name": "Python 3",
   "language": "python",
   "name": "python3"
  },
  "language_info": {
   "codemirror_mode": {
    "name": "ipython",
    "version": 3
   },
   "file_extension": ".py",
   "mimetype": "text/x-python",
   "name": "python",
   "nbconvert_exporter": "python",
   "pygments_lexer": "ipython3",
   "version": "3.6.4"
  }
 },
 "nbformat": 4,
 "nbformat_minor": 2
}
