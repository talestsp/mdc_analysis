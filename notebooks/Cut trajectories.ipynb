{
 "cells": [
  {
   "cell_type": "markdown",
   "metadata": {},
   "source": [
    "# Cutting Trajectories"
   ]
  },
  {
   "cell_type": "code",
   "execution_count": 1,
   "metadata": {},
   "outputs": [
    {
     "name": "stdout",
     "output_type": "stream",
     "text": [
      "working dir /home/tales/dev/master/mdc_analysis\n"
     ]
    }
   ],
   "source": [
    "import os\n",
    "os.chdir(\"/home/tales/dev/master/mdc_analysis/\")\n",
    "print(\"working dir\", os.getcwd())"
   ]
  },
  {
   "cell_type": "code",
   "execution_count": 2,
   "metadata": {},
   "outputs": [],
   "source": [
    "import pandas as pd\n",
    "import numpy as np\n",
    "import math\n",
    "import copy\n",
    "\n",
    "from bokeh.models import PrintfTickFormatter\n",
    "from bokeh.io import output_notebook, show\n",
    "\n",
    "from src.dao import csv_dao, objects_dao\n",
    "from src.plot.basic_plot import plot_result\n",
    "from src.similarity.extreme_travelers import sequence_report\n",
    "from src.data_processment.input_data_version2 import InputDataManager\n",
    "from src.utils.time_utils import human_time\n",
    "\n",
    "import warnings\n",
    "warnings.simplefilter(action='ignore', category=FutureWarning)"
   ]
  },
  {
   "cell_type": "code",
   "execution_count": 6,
   "metadata": {},
   "outputs": [],
   "source": [
    "pd.set_option('display.float_format', lambda x: '%.2f' % x)"
   ]
  },
  {
   "cell_type": "code",
   "execution_count": 7,
   "metadata": {},
   "outputs": [
    {
     "data": {
      "text/html": [
       "\n",
       "    <div class=\"bk-root\">\n",
       "        <a href=\"https://bokeh.pydata.org\" target=\"_blank\" class=\"bk-logo bk-logo-small bk-logo-notebook\"></a>\n",
       "        <span id=\"52f34c7a-1cb7-4448-931b-b457c3e3d185\">Loading BokehJS ...</span>\n",
       "    </div>"
      ]
     },
     "metadata": {},
     "output_type": "display_data"
    },
    {
     "data": {
      "application/javascript": [
       "\n",
       "(function(root) {\n",
       "  function now() {\n",
       "    return new Date();\n",
       "  }\n",
       "\n",
       "  var force = true;\n",
       "\n",
       "  if (typeof (root._bokeh_onload_callbacks) === \"undefined\" || force === true) {\n",
       "    root._bokeh_onload_callbacks = [];\n",
       "    root._bokeh_is_loading = undefined;\n",
       "  }\n",
       "\n",
       "  var JS_MIME_TYPE = 'application/javascript';\n",
       "  var HTML_MIME_TYPE = 'text/html';\n",
       "  var EXEC_MIME_TYPE = 'application/vnd.bokehjs_exec.v0+json';\n",
       "  var CLASS_NAME = 'output_bokeh rendered_html';\n",
       "\n",
       "  /**\n",
       "   * Render data to the DOM node\n",
       "   */\n",
       "  function render(props, node) {\n",
       "    var script = document.createElement(\"script\");\n",
       "    node.appendChild(script);\n",
       "  }\n",
       "\n",
       "  /**\n",
       "   * Handle when an output is cleared or removed\n",
       "   */\n",
       "  function handleClearOutput(event, handle) {\n",
       "    var cell = handle.cell;\n",
       "\n",
       "    var id = cell.output_area._bokeh_element_id;\n",
       "    var server_id = cell.output_area._bokeh_server_id;\n",
       "    // Clean up Bokeh references\n",
       "    if (id !== undefined) {\n",
       "      Bokeh.index[id].model.document.clear();\n",
       "      delete Bokeh.index[id];\n",
       "    }\n",
       "\n",
       "    if (server_id !== undefined) {\n",
       "      // Clean up Bokeh references\n",
       "      var cmd = \"from bokeh.io.state import curstate; print(curstate().uuid_to_server['\" + server_id + \"'].get_sessions()[0].document.roots[0]._id)\";\n",
       "      cell.notebook.kernel.execute(cmd, {\n",
       "        iopub: {\n",
       "          output: function(msg) {\n",
       "            var element_id = msg.content.text.trim();\n",
       "            Bokeh.index[element_id].model.document.clear();\n",
       "            delete Bokeh.index[element_id];\n",
       "          }\n",
       "        }\n",
       "      });\n",
       "      // Destroy server and session\n",
       "      var cmd = \"import bokeh.io.notebook as ion; ion.destroy_server('\" + server_id + \"')\";\n",
       "      cell.notebook.kernel.execute(cmd);\n",
       "    }\n",
       "  }\n",
       "\n",
       "  /**\n",
       "   * Handle when a new output is added\n",
       "   */\n",
       "  function handleAddOutput(event, handle) {\n",
       "    var output_area = handle.output_area;\n",
       "    var output = handle.output;\n",
       "\n",
       "    // limit handleAddOutput to display_data with EXEC_MIME_TYPE content only\n",
       "    if ((output.output_type != \"display_data\") || (!output.data.hasOwnProperty(EXEC_MIME_TYPE))) {\n",
       "      return\n",
       "    }\n",
       "\n",
       "    var toinsert = output_area.element.find(\".\" + CLASS_NAME.split(' ')[0]);\n",
       "\n",
       "    if (output.metadata[EXEC_MIME_TYPE][\"id\"] !== undefined) {\n",
       "      toinsert[toinsert.length - 1].firstChild.textContent = output.data[JS_MIME_TYPE];\n",
       "      // store reference to embed id on output_area\n",
       "      output_area._bokeh_element_id = output.metadata[EXEC_MIME_TYPE][\"id\"];\n",
       "    }\n",
       "    if (output.metadata[EXEC_MIME_TYPE][\"server_id\"] !== undefined) {\n",
       "      var bk_div = document.createElement(\"div\");\n",
       "      bk_div.innerHTML = output.data[HTML_MIME_TYPE];\n",
       "      var script_attrs = bk_div.children[0].attributes;\n",
       "      for (var i = 0; i < script_attrs.length; i++) {\n",
       "        toinsert[toinsert.length - 1].firstChild.setAttribute(script_attrs[i].name, script_attrs[i].value);\n",
       "      }\n",
       "      // store reference to server id on output_area\n",
       "      output_area._bokeh_server_id = output.metadata[EXEC_MIME_TYPE][\"server_id\"];\n",
       "    }\n",
       "  }\n",
       "\n",
       "  function register_renderer(events, OutputArea) {\n",
       "\n",
       "    function append_mime(data, metadata, element) {\n",
       "      // create a DOM node to render to\n",
       "      var toinsert = this.create_output_subarea(\n",
       "        metadata,\n",
       "        CLASS_NAME,\n",
       "        EXEC_MIME_TYPE\n",
       "      );\n",
       "      this.keyboard_manager.register_events(toinsert);\n",
       "      // Render to node\n",
       "      var props = {data: data, metadata: metadata[EXEC_MIME_TYPE]};\n",
       "      render(props, toinsert[toinsert.length - 1]);\n",
       "      element.append(toinsert);\n",
       "      return toinsert\n",
       "    }\n",
       "\n",
       "    /* Handle when an output is cleared or removed */\n",
       "    events.on('clear_output.CodeCell', handleClearOutput);\n",
       "    events.on('delete.Cell', handleClearOutput);\n",
       "\n",
       "    /* Handle when a new output is added */\n",
       "    events.on('output_added.OutputArea', handleAddOutput);\n",
       "\n",
       "    /**\n",
       "     * Register the mime type and append_mime function with output_area\n",
       "     */\n",
       "    OutputArea.prototype.register_mime_type(EXEC_MIME_TYPE, append_mime, {\n",
       "      /* Is output safe? */\n",
       "      safe: true,\n",
       "      /* Index of renderer in `output_area.display_order` */\n",
       "      index: 0\n",
       "    });\n",
       "  }\n",
       "\n",
       "  // register the mime type if in Jupyter Notebook environment and previously unregistered\n",
       "  if (root.Jupyter !== undefined) {\n",
       "    var events = require('base/js/events');\n",
       "    var OutputArea = require('notebook/js/outputarea').OutputArea;\n",
       "\n",
       "    if (OutputArea.prototype.mime_types().indexOf(EXEC_MIME_TYPE) == -1) {\n",
       "      register_renderer(events, OutputArea);\n",
       "    }\n",
       "  }\n",
       "\n",
       "  \n",
       "  if (typeof (root._bokeh_timeout) === \"undefined\" || force === true) {\n",
       "    root._bokeh_timeout = Date.now() + 5000;\n",
       "    root._bokeh_failed_load = false;\n",
       "  }\n",
       "\n",
       "  var NB_LOAD_WARNING = {'data': {'text/html':\n",
       "     \"<div style='background-color: #fdd'>\\n\"+\n",
       "     \"<p>\\n\"+\n",
       "     \"BokehJS does not appear to have successfully loaded. If loading BokehJS from CDN, this \\n\"+\n",
       "     \"may be due to a slow or bad network connection. Possible fixes:\\n\"+\n",
       "     \"</p>\\n\"+\n",
       "     \"<ul>\\n\"+\n",
       "     \"<li>re-rerun `output_notebook()` to attempt to load from CDN again, or</li>\\n\"+\n",
       "     \"<li>use INLINE resources instead, as so:</li>\\n\"+\n",
       "     \"</ul>\\n\"+\n",
       "     \"<code>\\n\"+\n",
       "     \"from bokeh.resources import INLINE\\n\"+\n",
       "     \"output_notebook(resources=INLINE)\\n\"+\n",
       "     \"</code>\\n\"+\n",
       "     \"</div>\"}};\n",
       "\n",
       "  function display_loaded() {\n",
       "    var el = document.getElementById(\"52f34c7a-1cb7-4448-931b-b457c3e3d185\");\n",
       "    if (el != null) {\n",
       "      el.textContent = \"BokehJS is loading...\";\n",
       "    }\n",
       "    if (root.Bokeh !== undefined) {\n",
       "      if (el != null) {\n",
       "        el.textContent = \"BokehJS \" + root.Bokeh.version + \" successfully loaded.\";\n",
       "      }\n",
       "    } else if (Date.now() < root._bokeh_timeout) {\n",
       "      setTimeout(display_loaded, 100)\n",
       "    }\n",
       "  }\n",
       "\n",
       "\n",
       "  function run_callbacks() {\n",
       "    try {\n",
       "      root._bokeh_onload_callbacks.forEach(function(callback) { callback() });\n",
       "    }\n",
       "    finally {\n",
       "      delete root._bokeh_onload_callbacks\n",
       "    }\n",
       "    console.info(\"Bokeh: all callbacks have finished\");\n",
       "  }\n",
       "\n",
       "  function load_libs(js_urls, callback) {\n",
       "    root._bokeh_onload_callbacks.push(callback);\n",
       "    if (root._bokeh_is_loading > 0) {\n",
       "      console.log(\"Bokeh: BokehJS is being loaded, scheduling callback at\", now());\n",
       "      return null;\n",
       "    }\n",
       "    if (js_urls == null || js_urls.length === 0) {\n",
       "      run_callbacks();\n",
       "      return null;\n",
       "    }\n",
       "    console.log(\"Bokeh: BokehJS not loaded, scheduling load and callback at\", now());\n",
       "    root._bokeh_is_loading = js_urls.length;\n",
       "    for (var i = 0; i < js_urls.length; i++) {\n",
       "      var url = js_urls[i];\n",
       "      var s = document.createElement('script');\n",
       "      s.src = url;\n",
       "      s.async = false;\n",
       "      s.onreadystatechange = s.onload = function() {\n",
       "        root._bokeh_is_loading--;\n",
       "        if (root._bokeh_is_loading === 0) {\n",
       "          console.log(\"Bokeh: all BokehJS libraries loaded\");\n",
       "          run_callbacks()\n",
       "        }\n",
       "      };\n",
       "      s.onerror = function() {\n",
       "        console.warn(\"failed to load library \" + url);\n",
       "      };\n",
       "      console.log(\"Bokeh: injecting script tag for BokehJS library: \", url);\n",
       "      document.getElementsByTagName(\"head\")[0].appendChild(s);\n",
       "    }\n",
       "  };var element = document.getElementById(\"52f34c7a-1cb7-4448-931b-b457c3e3d185\");\n",
       "  if (element == null) {\n",
       "    console.log(\"Bokeh: ERROR: autoload.js configured with elementid '52f34c7a-1cb7-4448-931b-b457c3e3d185' but no matching script tag was found. \")\n",
       "    return false;\n",
       "  }\n",
       "\n",
       "  var js_urls = [\"https://cdn.pydata.org/bokeh/release/bokeh-0.12.16.min.js\", \"https://cdn.pydata.org/bokeh/release/bokeh-widgets-0.12.16.min.js\", \"https://cdn.pydata.org/bokeh/release/bokeh-tables-0.12.16.min.js\", \"https://cdn.pydata.org/bokeh/release/bokeh-gl-0.12.16.min.js\"];\n",
       "\n",
       "  var inline_js = [\n",
       "    function(Bokeh) {\n",
       "      Bokeh.set_log_level(\"info\");\n",
       "    },\n",
       "    \n",
       "    function(Bokeh) {\n",
       "      \n",
       "    },\n",
       "    function(Bokeh) {\n",
       "      console.log(\"Bokeh: injecting CSS: https://cdn.pydata.org/bokeh/release/bokeh-0.12.16.min.css\");\n",
       "      Bokeh.embed.inject_css(\"https://cdn.pydata.org/bokeh/release/bokeh-0.12.16.min.css\");\n",
       "      console.log(\"Bokeh: injecting CSS: https://cdn.pydata.org/bokeh/release/bokeh-widgets-0.12.16.min.css\");\n",
       "      Bokeh.embed.inject_css(\"https://cdn.pydata.org/bokeh/release/bokeh-widgets-0.12.16.min.css\");\n",
       "      console.log(\"Bokeh: injecting CSS: https://cdn.pydata.org/bokeh/release/bokeh-tables-0.12.16.min.css\");\n",
       "      Bokeh.embed.inject_css(\"https://cdn.pydata.org/bokeh/release/bokeh-tables-0.12.16.min.css\");\n",
       "    }\n",
       "  ];\n",
       "\n",
       "  function run_inline_js() {\n",
       "    \n",
       "    if ((root.Bokeh !== undefined) || (force === true)) {\n",
       "      for (var i = 0; i < inline_js.length; i++) {\n",
       "        inline_js[i].call(root, root.Bokeh);\n",
       "      }if (force === true) {\n",
       "        display_loaded();\n",
       "      }} else if (Date.now() < root._bokeh_timeout) {\n",
       "      setTimeout(run_inline_js, 100);\n",
       "    } else if (!root._bokeh_failed_load) {\n",
       "      console.log(\"Bokeh: BokehJS failed to load within specified timeout.\");\n",
       "      root._bokeh_failed_load = true;\n",
       "    } else if (force !== true) {\n",
       "      var cell = $(document.getElementById(\"52f34c7a-1cb7-4448-931b-b457c3e3d185\")).parents('.cell').data().cell;\n",
       "      cell.output_area.append_execute_result(NB_LOAD_WARNING)\n",
       "    }\n",
       "\n",
       "  }\n",
       "\n",
       "  if (root._bokeh_is_loading === 0) {\n",
       "    console.log(\"Bokeh: BokehJS loaded, going straight to plotting\");\n",
       "    run_inline_js();\n",
       "  } else {\n",
       "    load_libs(js_urls, function() {\n",
       "      console.log(\"Bokeh: BokehJS plotting callback run at\", now());\n",
       "      run_inline_js();\n",
       "    });\n",
       "  }\n",
       "}(window));"
      ],
      "application/vnd.bokehjs_load.v0+json": "\n(function(root) {\n  function now() {\n    return new Date();\n  }\n\n  var force = true;\n\n  if (typeof (root._bokeh_onload_callbacks) === \"undefined\" || force === true) {\n    root._bokeh_onload_callbacks = [];\n    root._bokeh_is_loading = undefined;\n  }\n\n  \n\n  \n  if (typeof (root._bokeh_timeout) === \"undefined\" || force === true) {\n    root._bokeh_timeout = Date.now() + 5000;\n    root._bokeh_failed_load = false;\n  }\n\n  var NB_LOAD_WARNING = {'data': {'text/html':\n     \"<div style='background-color: #fdd'>\\n\"+\n     \"<p>\\n\"+\n     \"BokehJS does not appear to have successfully loaded. If loading BokehJS from CDN, this \\n\"+\n     \"may be due to a slow or bad network connection. Possible fixes:\\n\"+\n     \"</p>\\n\"+\n     \"<ul>\\n\"+\n     \"<li>re-rerun `output_notebook()` to attempt to load from CDN again, or</li>\\n\"+\n     \"<li>use INLINE resources instead, as so:</li>\\n\"+\n     \"</ul>\\n\"+\n     \"<code>\\n\"+\n     \"from bokeh.resources import INLINE\\n\"+\n     \"output_notebook(resources=INLINE)\\n\"+\n     \"</code>\\n\"+\n     \"</div>\"}};\n\n  function display_loaded() {\n    var el = document.getElementById(\"52f34c7a-1cb7-4448-931b-b457c3e3d185\");\n    if (el != null) {\n      el.textContent = \"BokehJS is loading...\";\n    }\n    if (root.Bokeh !== undefined) {\n      if (el != null) {\n        el.textContent = \"BokehJS \" + root.Bokeh.version + \" successfully loaded.\";\n      }\n    } else if (Date.now() < root._bokeh_timeout) {\n      setTimeout(display_loaded, 100)\n    }\n  }\n\n\n  function run_callbacks() {\n    try {\n      root._bokeh_onload_callbacks.forEach(function(callback) { callback() });\n    }\n    finally {\n      delete root._bokeh_onload_callbacks\n    }\n    console.info(\"Bokeh: all callbacks have finished\");\n  }\n\n  function load_libs(js_urls, callback) {\n    root._bokeh_onload_callbacks.push(callback);\n    if (root._bokeh_is_loading > 0) {\n      console.log(\"Bokeh: BokehJS is being loaded, scheduling callback at\", now());\n      return null;\n    }\n    if (js_urls == null || js_urls.length === 0) {\n      run_callbacks();\n      return null;\n    }\n    console.log(\"Bokeh: BokehJS not loaded, scheduling load and callback at\", now());\n    root._bokeh_is_loading = js_urls.length;\n    for (var i = 0; i < js_urls.length; i++) {\n      var url = js_urls[i];\n      var s = document.createElement('script');\n      s.src = url;\n      s.async = false;\n      s.onreadystatechange = s.onload = function() {\n        root._bokeh_is_loading--;\n        if (root._bokeh_is_loading === 0) {\n          console.log(\"Bokeh: all BokehJS libraries loaded\");\n          run_callbacks()\n        }\n      };\n      s.onerror = function() {\n        console.warn(\"failed to load library \" + url);\n      };\n      console.log(\"Bokeh: injecting script tag for BokehJS library: \", url);\n      document.getElementsByTagName(\"head\")[0].appendChild(s);\n    }\n  };var element = document.getElementById(\"52f34c7a-1cb7-4448-931b-b457c3e3d185\");\n  if (element == null) {\n    console.log(\"Bokeh: ERROR: autoload.js configured with elementid '52f34c7a-1cb7-4448-931b-b457c3e3d185' but no matching script tag was found. \")\n    return false;\n  }\n\n  var js_urls = [\"https://cdn.pydata.org/bokeh/release/bokeh-0.12.16.min.js\", \"https://cdn.pydata.org/bokeh/release/bokeh-widgets-0.12.16.min.js\", \"https://cdn.pydata.org/bokeh/release/bokeh-tables-0.12.16.min.js\", \"https://cdn.pydata.org/bokeh/release/bokeh-gl-0.12.16.min.js\"];\n\n  var inline_js = [\n    function(Bokeh) {\n      Bokeh.set_log_level(\"info\");\n    },\n    \n    function(Bokeh) {\n      \n    },\n    function(Bokeh) {\n      console.log(\"Bokeh: injecting CSS: https://cdn.pydata.org/bokeh/release/bokeh-0.12.16.min.css\");\n      Bokeh.embed.inject_css(\"https://cdn.pydata.org/bokeh/release/bokeh-0.12.16.min.css\");\n      console.log(\"Bokeh: injecting CSS: https://cdn.pydata.org/bokeh/release/bokeh-widgets-0.12.16.min.css\");\n      Bokeh.embed.inject_css(\"https://cdn.pydata.org/bokeh/release/bokeh-widgets-0.12.16.min.css\");\n      console.log(\"Bokeh: injecting CSS: https://cdn.pydata.org/bokeh/release/bokeh-tables-0.12.16.min.css\");\n      Bokeh.embed.inject_css(\"https://cdn.pydata.org/bokeh/release/bokeh-tables-0.12.16.min.css\");\n    }\n  ];\n\n  function run_inline_js() {\n    \n    if ((root.Bokeh !== undefined) || (force === true)) {\n      for (var i = 0; i < inline_js.length; i++) {\n        inline_js[i].call(root, root.Bokeh);\n      }if (force === true) {\n        display_loaded();\n      }} else if (Date.now() < root._bokeh_timeout) {\n      setTimeout(run_inline_js, 100);\n    } else if (!root._bokeh_failed_load) {\n      console.log(\"Bokeh: BokehJS failed to load within specified timeout.\");\n      root._bokeh_failed_load = true;\n    } else if (force !== true) {\n      var cell = $(document.getElementById(\"52f34c7a-1cb7-4448-931b-b457c3e3d185\")).parents('.cell').data().cell;\n      cell.output_area.append_execute_result(NB_LOAD_WARNING)\n    }\n\n  }\n\n  if (root._bokeh_is_loading === 0) {\n    console.log(\"Bokeh: BokehJS loaded, going straight to plotting\");\n    run_inline_js();\n  } else {\n    load_libs(js_urls, function() {\n      console.log(\"Bokeh: BokehJS plotting callback run at\", now());\n      run_inline_js();\n    });\n  }\n}(window));"
     },
     "metadata": {},
     "output_type": "display_data"
    }
   ],
   "source": [
    "output_notebook()"
   ]
  },
  {
   "cell_type": "markdown",
   "metadata": {},
   "source": [
    "## Loading User Data"
   ]
  },
  {
   "cell_type": "code",
   "execution_count": null,
   "metadata": {
    "scrolled": true
   },
   "outputs": [],
   "source": [
    "# users_srg = objects_dao.load_all_stop_region_group_object()\n",
    "# users_tags = objects_dao.load_users_tags_sequence(sr_stay_time_above_h=0.5)[\"orignal\"]"
   ]
  },
  {
   "cell_type": "code",
   "execution_count": 8,
   "metadata": {},
   "outputs": [],
   "source": [
    "users_gps_dir = os.listdir(\"outputs/user_gps/\")\n",
    "users_gps = {}\n",
    "\n",
    "for user_gps_dir in users_gps_dir:\n",
    "    user = user_gps_dir.split(\"_\")[0]\n",
    "    users_gps[user] = csv_dao.load_user_gps_csv(user)"
   ]
  },
  {
   "cell_type": "markdown",
   "metadata": {},
   "source": [
    "## Gaps"
   ]
  },
  {
   "cell_type": "markdown",
   "metadata": {},
   "source": [
    "How many gaps above 06h ? <br> \n",
    "How many gaps above 12h ? <br> \n",
    "How many gaps above 24h ? <br>\n",
    "How many gaps above 48h ? <br>\n",
    "How much time the user has participated?"
   ]
  },
  {
   "cell_type": "code",
   "execution_count": null,
   "metadata": {},
   "outputs": [],
   "source": [
    "def gap_missing_values(report):\n",
    "    t2 = report.iloc[1:len(report)][\"local_time\"].astype(float).reset_index(drop=True)\n",
    "    t1 = report.iloc[0:len(report) - 1][\"local_time\"].astype(float).reset_index(drop=True)\n",
    "    gaps = t2 - t1\n",
    "    gaps.index = report.iloc[1:len(report)][\"local_time\"]\n",
    "    head = pd.Series([None], index=[t1.iloc[0].item()])\n",
    "    return head.append(gaps)\n",
    "\n",
    "def gap_amount(gap, min_time_h):\n",
    "    present_data_sum = gap[gap <= 60 * 60 * min_time_h].sum()\n",
    "    missing_data_sum = gap[gap > 60 * 60 * min_time_h].sum()\n",
    "    \n",
    "    return {\"missing_data_sum\": missing_data_sum, \"present_data_sum\": present_data_sum}\n",
    "\n",
    "def user_time_participation(report):\n",
    "    first = report[\"local_time\"].min()\n",
    "    last = report[\"local_time\"].max()\n",
    "    \n",
    "    n_days = (last - first) / (60*60*24)\n",
    "    \n",
    "    return {\"n_days\": n_days,\n",
    "            \"n_years\": n_days / 365.25,\n",
    "            \"datetime_start\": human_time(first, datetime_format='%d-%m-%Y %H:%M:%S')[\"datetime\"],\n",
    "            \"datetime_end\": human_time(last, datetime_format='%d-%m-%Y %H:%M:%S')[\"datetime\"]}\n",
    "    \n",
    "def gaps_summary(gaps, min_time_h):\n",
    "    selection = gaps[gaps > 60 * 60 * min_time_h]\n",
    "    return {\"n_gaps\": len(selection),\n",
    "            \"median_sec\": selection.median(),\n",
    "            \"min_time_gap\": min_time_h}\n",
    "\n",
    "def merge_dicts(dicts):\n",
    "    final_dict = {}\n",
    "    \n",
    "    for d in dicts:\n",
    "        \n",
    "        for k in d.keys():\n",
    "            final_dict[k] = d[k]\n",
    "\n",
    "    return final_dict\n",
    "\n",
    "def gaps_week(gaps, user_data, min_time_h):    \n",
    "    gaps_df = pd.DataFrame({\"gaps\": gaps.tolist(), \"local_time\": user_data[\"local_time\"][0:-1].tolist()})\n",
    "    gaps_df[\"week\"] = ((gaps_df[\"local_time\"] - gaps_df[\"local_time\"].min()) / (60*60*24*7)).apply(math.floor)\n",
    "    \n",
    "    return gaps_df[gaps_df[\"gaps\"] > 60*60*min_time_h]"
   ]
  },
  {
   "cell_type": "code",
   "execution_count": null,
   "metadata": {},
   "outputs": [],
   "source": [
    "users_gaps_summary = []\n",
    "\n",
    "for user_id in users_gps.keys():\n",
    "    user_gps = users_gps[user_id]\n",
    "   \n",
    "    if len(user_gps) == 0:\n",
    "        continue\n",
    "\n",
    "    gaps = gap_missing_values(user_gps)\n",
    "    \n",
    "    user_data = {\"user_id\": user_id}\n",
    "    user_time = user_time_participation(user_gps)\n",
    "    \n",
    "    for hour in [6, 12, 18, 24, 30, 36, 42, 48]:\n",
    "        user_gaps_report = gaps_summary(gaps, hour)\n",
    "        gap_time_sum = gap_amount(gaps, hour)\n",
    "        \n",
    "        users_gaps_summary.append(merge_dicts([user_data, user_time, user_gaps_report, gap_time_sum]))\n",
    "\n",
    "users_gaps_summary = pd.DataFrame(users_gaps_summary)[[\"user_id\", \"min_time_gap\", \"n_gaps\", \"median_sec\", \"missing_data_sum\", \"present_data_sum\", \"datetime_end\", \"datetime_start\", \"n_years\", \"n_days\"]]"
   ]
  },
  {
   "cell_type": "markdown",
   "metadata": {},
   "source": [
    "### Counting number of gaps \n",
    "Gaps grater than 6, 12, 18, 24, 30, 36, 42 and 48 hours"
   ]
  },
  {
   "cell_type": "code",
   "execution_count": null,
   "metadata": {},
   "outputs": [],
   "source": [
    "users_gaps_summary.groupby(\"min_time_gap\")[\"n_gaps\"].median().plot.bar(title=\"Gaps frequency median by minimum time\")"
   ]
  },
  {
   "cell_type": "markdown",
   "metadata": {},
   "source": [
    "### Counting frequency of gaps per day \n",
    "Gaps grater than 6, 12, 18, 24, 30, 36, 42 and 48 hours"
   ]
  },
  {
   "cell_type": "code",
   "execution_count": null,
   "metadata": {},
   "outputs": [],
   "source": [
    "users_gaps_summary[\"gaps_per_day\"] = users_gaps_summary[\"n_gaps\"] / users_gaps_summary[\"n_days\"]\n",
    "users_gaps_summary.groupby(\"min_time_gap\")[\"gaps_per_day\"].median().plot.bar(title=\"Gaps per day median for each min_time gap\")"
   ]
  },
  {
   "cell_type": "markdown",
   "metadata": {},
   "source": [
    "### What is the proportion of total gaps times \n",
    "Gaps grater than 6, 12, 18, 24, 30, 36, 42 and 48 hours"
   ]
  },
  {
   "cell_type": "code",
   "execution_count": null,
   "metadata": {},
   "outputs": [],
   "source": [
    "users_gaps_summary[\"valid_amount_h\"] = users_gaps_summary[\"missing_data_sum\"] / (users_gaps_summary[\"missing_data_sum\"] + users_gaps_summary[\"present_data_sum\"])\n",
    "users_gaps_summary[\"valid_amount_h\"] = users_gaps_summary[\"valid_amount_h\"].astype(float)"
   ]
  },
  {
   "cell_type": "code",
   "execution_count": null,
   "metadata": {},
   "outputs": [],
   "source": [
    "users_gaps_summary.groupby(\"min_time_gap\")[\"valid_amount_h\"].median().plot.bar(title=\"Proportion of missing data among all data\")"
   ]
  },
  {
   "cell_type": "markdown",
   "metadata": {},
   "source": [
    "# Cutting Trajectories"
   ]
  },
  {
   "cell_type": "code",
   "execution_count": null,
   "metadata": {},
   "outputs": [],
   "source": [
    "# user_tags_sequence = objects_dao.load_users_tags_sequence()"
   ]
  },
  {
   "cell_type": "code",
   "execution_count": 9,
   "metadata": {},
   "outputs": [
    {
     "ename": "NameError",
     "evalue": "name 'gap_missing_values' is not defined",
     "output_type": "error",
     "traceback": [
      "\u001b[0;31m---------------------------------------------------------------------------\u001b[0m",
      "\u001b[0;31mNameError\u001b[0m                                 Traceback (most recent call last)",
      "\u001b[0;32m<ipython-input-9-cacb7a1e97fa>\u001b[0m in \u001b[0;36m<module>\u001b[0;34m()\u001b[0m\n\u001b[1;32m     11\u001b[0m     \u001b[0;32mreturn\u001b[0m \u001b[0mselected_gaps\u001b[0m\u001b[0;34m[\u001b[0m\u001b[0;34m[\u001b[0m\u001b[0;34m\"gap_time\"\u001b[0m\u001b[0;34m,\u001b[0m \u001b[0;34m\"start\"\u001b[0m\u001b[0;34m,\u001b[0m \u001b[0;34m\"stop\"\u001b[0m\u001b[0;34m]\u001b[0m\u001b[0;34m]\u001b[0m\u001b[0;34m\u001b[0m\u001b[0m\n\u001b[1;32m     12\u001b[0m \u001b[0;34m\u001b[0m\u001b[0m\n\u001b[0;32m---> 13\u001b[0;31m \u001b[0mgaps_times\u001b[0m \u001b[0;34m=\u001b[0m \u001b[0mcut_traj_in_trips\u001b[0m\u001b[0;34m(\u001b[0m\u001b[0musers_gps\u001b[0m\u001b[0;34m[\u001b[0m\u001b[0;34m\"5937\"\u001b[0m\u001b[0;34m]\u001b[0m\u001b[0;34m,\u001b[0m \u001b[0;36m30\u001b[0m\u001b[0;34m)\u001b[0m\u001b[0;34m\u001b[0m\u001b[0m\n\u001b[0m\u001b[1;32m     14\u001b[0m \u001b[0mgaps_times\u001b[0m\u001b[0;34m.\u001b[0m\u001b[0mhead\u001b[0m\u001b[0;34m(\u001b[0m\u001b[0;36m6\u001b[0m\u001b[0;34m)\u001b[0m\u001b[0;34m\u001b[0m\u001b[0m\n",
      "\u001b[0;32m<ipython-input-9-cacb7a1e97fa>\u001b[0m in \u001b[0;36mcut_traj_in_trips\u001b[0;34m(user_gps_data, gap_tresh_minutes)\u001b[0m\n\u001b[1;32m      2\u001b[0m     \u001b[0mstart_stop_gaps\u001b[0m \u001b[0;34m=\u001b[0m \u001b[0;34m[\u001b[0m\u001b[0;34m]\u001b[0m\u001b[0;34m\u001b[0m\u001b[0m\n\u001b[1;32m      3\u001b[0m \u001b[0;34m\u001b[0m\u001b[0m\n\u001b[0;32m----> 4\u001b[0;31m     \u001b[0mgaps_data\u001b[0m \u001b[0;34m=\u001b[0m \u001b[0mgap_missing_values\u001b[0m\u001b[0;34m(\u001b[0m\u001b[0muser_gps_data\u001b[0m\u001b[0;34m)\u001b[0m\u001b[0;34m.\u001b[0m\u001b[0mto_frame\u001b[0m\u001b[0;34m(\u001b[0m\u001b[0;34m)\u001b[0m\u001b[0;34m.\u001b[0m\u001b[0mreset_index\u001b[0m\u001b[0;34m(\u001b[0m\u001b[0;34m)\u001b[0m\u001b[0;34m.\u001b[0m\u001b[0mrename\u001b[0m\u001b[0;34m(\u001b[0m\u001b[0;34m{\u001b[0m\u001b[0;36m0\u001b[0m\u001b[0;34m:\u001b[0m \u001b[0;34m\"gap_time\"\u001b[0m\u001b[0;34m,\u001b[0m \u001b[0;34m\"index\"\u001b[0m\u001b[0;34m:\u001b[0m \u001b[0;34m\"stop\"\u001b[0m\u001b[0;34m}\u001b[0m\u001b[0;34m,\u001b[0m \u001b[0maxis\u001b[0m\u001b[0;34m=\u001b[0m\u001b[0;36m1\u001b[0m\u001b[0;34m)\u001b[0m\u001b[0;34m\u001b[0m\u001b[0m\n\u001b[0m\u001b[1;32m      5\u001b[0m \u001b[0;34m\u001b[0m\u001b[0m\n\u001b[1;32m      6\u001b[0m     \u001b[0mgaps_data\u001b[0m\u001b[0;34m[\u001b[0m\u001b[0;34m\"start\"\u001b[0m\u001b[0;34m]\u001b[0m \u001b[0;34m=\u001b[0m \u001b[0;34m[\u001b[0m\u001b[0;32mNone\u001b[0m\u001b[0;34m]\u001b[0m \u001b[0;34m+\u001b[0m \u001b[0mgaps_data\u001b[0m\u001b[0;34m.\u001b[0m\u001b[0miloc\u001b[0m\u001b[0;34m[\u001b[0m\u001b[0;36m0\u001b[0m \u001b[0;34m:\u001b[0m \u001b[0mlen\u001b[0m\u001b[0;34m(\u001b[0m\u001b[0mgaps_data\u001b[0m\u001b[0;34m)\u001b[0m \u001b[0;34m-\u001b[0m \u001b[0;36m1\u001b[0m\u001b[0;34m]\u001b[0m\u001b[0;34m[\u001b[0m\u001b[0;34m\"stop\"\u001b[0m\u001b[0;34m]\u001b[0m\u001b[0;34m.\u001b[0m\u001b[0mtolist\u001b[0m\u001b[0;34m(\u001b[0m\u001b[0;34m)\u001b[0m\u001b[0;34m\u001b[0m\u001b[0m\n",
      "\u001b[0;31mNameError\u001b[0m: name 'gap_missing_values' is not defined"
     ]
    }
   ],
   "source": [
    "def cut_traj_in_trips(user_gps_data, gap_tresh_minutes):\n",
    "    start_stop_gaps = []\n",
    "    \n",
    "    gaps_data = gap_missing_values(user_gps_data).to_frame().reset_index().rename({0: \"gap_time\", \"index\": \"stop\"}, axis=1)\n",
    "    \n",
    "    gaps_data[\"start\"] = [None] + gaps_data.iloc[0 : len(gaps_data) - 1][\"stop\"].tolist()\n",
    "    gaps_data[\"start\"] = gaps_data[\"start\"].replace({np.NaN: None})\n",
    "    \n",
    "    selected_gaps = gaps_data[gaps_data[\"gap_time\"] > gap_tresh_minutes * 60]\n",
    "    \n",
    "    return selected_gaps[[\"gap_time\", \"start\", \"stop\"]]\n",
    "    \n",
    "gaps_times = cut_traj_in_trips(users_gps[\"5937\"], 30)\n",
    "gaps_times.head(6)"
   ]
  },
  {
   "cell_type": "code",
   "execution_count": null,
   "metadata": {},
   "outputs": [],
   "source": []
  },
  {
   "cell_type": "markdown",
   "metadata": {},
   "source": [
    "# Applying Trajectories Cut To InputDataManager"
   ]
  },
  {
   "cell_type": "code",
   "execution_count": null,
   "metadata": {},
   "outputs": [],
   "source": [
    "# srs = objects_dao.load_all_stop_region_group_object()"
   ]
  },
  {
   "cell_type": "code",
   "execution_count": null,
   "metadata": {},
   "outputs": [],
   "source": [
    "# tags = objects_dao.load_users_tags_sequence()"
   ]
  },
  {
   "cell_type": "code",
   "execution_count": null,
   "metadata": {},
   "outputs": [],
   "source": []
  },
  {
   "cell_type": "code",
   "execution_count": null,
   "metadata": {},
   "outputs": [],
   "source": [
    "# srs[\"5954\"].sequence_report(enrich_columns=True)[[\"start_time\", \"end_time\", \"stay_time_h\"]]"
   ]
  },
  {
   "cell_type": "code",
   "execution_count": null,
   "metadata": {},
   "outputs": [],
   "source": [
    "# tags[\"original\"][\"5954\"]"
   ]
  },
  {
   "cell_type": "code",
   "execution_count": 3,
   "metadata": {
    "scrolled": true
   },
   "outputs": [
    {
     "name": "stdout",
     "output_type": "stream",
     "text": [
      "Loading Users Sequence Report\n",
      "Loading user_id: 6015 - 1 out of 163\n",
      "Loading user_id: 6086 - 2 out of 163\n",
      "Loading user_id: 6014 - 3 out of 163\n",
      "Loading user_id: 6057 - 4 out of 163\n",
      "Loading user_id: 6181 - 5 out of 163\n",
      "Loading user_id: 6069 - 6 out of 163\n",
      "Loading user_id: 5985 - 7 out of 163\n",
      "Loading user_id: 5970 - 8 out of 163\n",
      "Loading user_id: 6062 - 9 out of 163\n",
      "Loading user_id: 6042 - 10 out of 163\n",
      "Loading user_id: 5966 - 11 out of 163\n",
      "Loading user_id: 6067 - 12 out of 163\n",
      "Loading user_id: 5949 - 13 out of 163\n",
      "Loading user_id: 5938 - 14 out of 163\n",
      "Loading user_id: 5937 - 15 out of 163\n",
      "Loading user_id: 5980 - 16 out of 163\n",
      "Loading user_id: 6075 - 17 out of 163\n",
      "Loading user_id: 6028 - 18 out of 163\n",
      "Loading user_id: 5968 - 19 out of 163\n",
      "Loading user_id: 6036 - 20 out of 163\n",
      "Loading user_id: 6023 - 21 out of 163\n",
      "Loading user_id: 6078 - 22 out of 163\n",
      "Loading user_id: 6031 - 23 out of 163\n",
      "Loading user_id: 5927 - 24 out of 163\n",
      "Loading user_id: 5942 - 25 out of 163\n",
      "Loading user_id: 6030 - 26 out of 163\n",
      "Loading user_id: 6087 - 27 out of 163\n",
      "Loading user_id: 6035 - 28 out of 163\n",
      "Loading user_id: 6029 - 29 out of 163\n",
      "Loading user_id: 6171 - 30 out of 163\n",
      "Loading user_id: 6199 - 31 out of 163\n",
      "Loading user_id: 5977 - 32 out of 163\n",
      "Loading user_id: 5973 - 33 out of 163\n",
      "Loading user_id: 6197 - 34 out of 163\n",
      "Loading user_id: 5928 - 35 out of 163\n",
      "Loading user_id: 6003 - 36 out of 163\n",
      "Loading user_id: 6178 - 37 out of 163\n",
      "Loading user_id: 6040 - 38 out of 163\n",
      "Loading user_id: 6179 - 39 out of 163\n",
      "Loading user_id: 5955 - 40 out of 163\n",
      "Loading user_id: 5962 - 41 out of 163\n",
      "Loading user_id: 6180 - 42 out of 163\n",
      "Loading user_id: 5956 - 43 out of 163\n",
      "Loading user_id: 6176 - 44 out of 163\n",
      "Loading user_id: 6182 - 45 out of 163\n",
      "Loading user_id: 5924 - 46 out of 163\n",
      "Loading user_id: 6070 - 47 out of 163\n",
      "Loading user_id: 5944 - 48 out of 163\n",
      "Loading user_id: 6072 - 49 out of 163\n",
      "Loading user_id: 6051 - 50 out of 163\n",
      "Loading user_id: 6005 - 51 out of 163\n",
      "Loading user_id: 5936 - 52 out of 163\n",
      "Loading user_id: 5986 - 53 out of 163\n",
      "Loading user_id: 5941 - 54 out of 163\n",
      "Loading user_id: 6038 - 55 out of 163\n",
      "Loading user_id: 5969 - 56 out of 163\n",
      "Loading user_id: 6103 - 57 out of 163\n",
      "Loading user_id: 6043 - 58 out of 163\n",
      "Loading user_id: 6167 - 59 out of 163\n",
      "Loading user_id: 5953 - 60 out of 163\n",
      "Loading user_id: 6066 - 61 out of 163\n",
      "Loading user_id: 5939 - 62 out of 163\n",
      "Loading user_id: 5952 - 63 out of 163\n",
      "Loading user_id: 6039 - 64 out of 163\n",
      "Loading user_id: 5979 - 65 out of 163\n",
      "Loading user_id: 6177 - 66 out of 163\n",
      "Loading user_id: 5948 - 67 out of 163\n",
      "Loading user_id: 6090 - 68 out of 163\n",
      "Loading user_id: 5935 - 69 out of 163\n",
      "Loading user_id: 6083 - 70 out of 163\n",
      "Loading user_id: 5967 - 71 out of 163\n",
      "Loading user_id: 5989 - 72 out of 163\n",
      "Loading user_id: 6027 - 73 out of 163\n",
      "Loading user_id: 6074 - 74 out of 163\n",
      "Loading user_id: 6175 - 75 out of 163\n",
      "Loading user_id: 5958 - 76 out of 163\n",
      "Loading user_id: 5993 - 77 out of 163\n",
      "Loading user_id: 5975 - 78 out of 163\n",
      "Loading user_id: 6010 - 79 out of 163\n",
      "Loading user_id: 6100 - 80 out of 163\n",
      "Loading user_id: 6079 - 81 out of 163\n",
      "Loading user_id: 6000 - 82 out of 163\n",
      "Loading user_id: 5988 - 83 out of 163\n",
      "Loading user_id: 6109 - 84 out of 163\n",
      "Loading user_id: 5925 - 85 out of 163\n",
      "Loading user_id: 6047 - 86 out of 163\n",
      "Loading user_id: 5950 - 87 out of 163\n",
      "Loading user_id: 6190 - 88 out of 163\n",
      "Loading user_id: 5974 - 89 out of 163\n",
      "Loading user_id: 6004 - 90 out of 163\n",
      "Loading user_id: 6053 - 91 out of 163\n",
      "Loading user_id: 5959 - 92 out of 163\n",
      "Loading user_id: 5978 - 93 out of 163\n",
      "Loading user_id: 6104 - 94 out of 163\n",
      "Loading user_id: 6041 - 95 out of 163\n",
      "Loading user_id: 6096 - 96 out of 163\n",
      "Loading user_id: 6094 - 97 out of 163\n",
      "Loading user_id: 6001 - 98 out of 163\n",
      "Loading user_id: 6174 - 99 out of 163\n",
      "Loading user_id: 6076 - 100 out of 163\n",
      "Loading user_id: 6059 - 101 out of 163\n",
      "Loading user_id: 6017 - 102 out of 163\n",
      "Loading user_id: 6188 - 103 out of 163\n",
      "Loading user_id: 6071 - 104 out of 163\n",
      "Loading user_id: 6034 - 105 out of 163\n",
      "Loading user_id: 6085 - 106 out of 163\n",
      "Loading user_id: 6032 - 107 out of 163\n",
      "Loading user_id: 6172 - 108 out of 163\n",
      "Loading user_id: 6166 - 109 out of 163\n",
      "Loading user_id: 6192 - 110 out of 163\n",
      "Loading user_id: 5947 - 111 out of 163\n",
      "Loading user_id: 6012 - 112 out of 163\n",
      "Loading user_id: 6063 - 113 out of 163\n",
      "Loading user_id: 6082 - 114 out of 163\n",
      "Loading user_id: 5961 - 115 out of 163\n",
      "Loading user_id: 6168 - 116 out of 163\n",
      "Loading user_id: 6026 - 117 out of 163\n",
      "Loading user_id: 6020 - 118 out of 163\n",
      "Loading user_id: 5972 - 119 out of 163\n",
      "Loading user_id: 6007 - 120 out of 163\n",
      "Loading user_id: 6183 - 121 out of 163\n",
      "Loading user_id: 6198 - 122 out of 163\n",
      "Loading user_id: 6056 - 123 out of 163\n",
      "Loading user_id: 6187 - 124 out of 163\n",
      "Loading user_id: 5945 - 125 out of 163\n",
      "Loading user_id: 6189 - 126 out of 163\n",
      "Loading user_id: 6045 - 127 out of 163\n",
      "Loading user_id: 6194 - 128 out of 163\n",
      "Loading user_id: 5991 - 129 out of 163\n",
      "Loading user_id: 6058 - 130 out of 163\n",
      "Loading user_id: 6016 - 131 out of 163\n",
      "Loading user_id: 5943 - 132 out of 163\n",
      "Loading user_id: 5987 - 133 out of 163\n",
      "Loading user_id: 5992 - 134 out of 163\n",
      "Loading user_id: 6002 - 135 out of 163\n",
      "Loading user_id: 6060 - 136 out of 163\n",
      "Loading user_id: 6054 - 137 out of 163\n",
      "Loading user_id: 5990 - 138 out of 163\n",
      "Loading user_id: 6024 - 139 out of 163\n",
      "Loading user_id: 5954 - 140 out of 163\n",
      "Loading user_id: 6073 - 141 out of 163\n",
      "Loading user_id: 5965 - 142 out of 163\n",
      "Loading user_id: 5995 - 143 out of 163\n",
      "Loading user_id: 6077 - 144 out of 163\n",
      "Loading user_id: 6102 - 145 out of 163\n",
      "Loading user_id: 6033 - 146 out of 163\n",
      "Loading user_id: 5963 - 147 out of 163\n",
      "Loading user_id: 6093 - 148 out of 163\n",
      "Loading user_id: 5951 - 149 out of 163\n",
      "Loading user_id: 6064 - 150 out of 163\n",
      "Loading user_id: 6169 - 151 out of 163\n",
      "Loading user_id: 6061 - 152 out of 163\n",
      "Loading user_id: 5960 - 153 out of 163\n",
      "Loading user_id: 6037 - 154 out of 163\n",
      "Loading user_id: 5940 - 155 out of 163\n",
      "Loading user_id: 6106 - 156 out of 163\n",
      "Loading user_id: 6097 - 157 out of 163\n",
      "Loading user_id: 5982 - 158 out of 163\n",
      "Loading user_id: 5957 - 159 out of 163\n",
      "Loading user_id: 5964 - 160 out of 163\n",
      "Loading user_id: 6170 - 161 out of 163\n",
      "Loading user_id: 6068 - 162 out of 163\n",
      "Loading user_id: 5976 - 163 out of 163\n"
     ]
    }
   ],
   "source": [
    "data_manager = InputDataManager(use_cache=False)"
   ]
  },
  {
   "cell_type": "code",
   "execution_count": 4,
   "metadata": {},
   "outputs": [
    {
     "name": "stdout",
     "output_type": "stream",
     "text": [
      "version: markov-0.0\n",
      "sr_min_time: 5\n",
      "sr_min_time: 10\n",
      "sr_min_time: 15\n",
      "sr_min_time: 20\n",
      "sr_min_time: 25\n",
      "sr_min_time: 30\n",
      "version: 0.0.categ_v1\n",
      "sr_min_time: 5\n",
      "sr_min_time: 10\n",
      "sr_min_time: 15\n",
      "sr_min_time: 20\n",
      "sr_min_time: 25\n",
      "sr_min_time: 30\n",
      "version: 0.1.categ_v1\n",
      "sr_min_time: 5\n",
      "sr_min_time: 10\n",
      "sr_min_time: 15\n",
      "sr_min_time: 20\n",
      "sr_min_time: 25\n",
      "sr_min_time: 30\n"
     ]
    }
   ],
   "source": [
    "input_data = {}\n",
    "\n",
    "for version in data_manager.avaliable_versions():\n",
    "    print(\"version:\", version)\n",
    "    input_data[version] = {}\n",
    "    for sr_min_time in [5,10,15,20,25,30]:\n",
    "        print(\"sr_min_time:\", sr_min_time)\n",
    "        input_data[version][sr_min_time] = data_manager.get_input_data(version=version, sr_stay_time_minutes=sr_min_time)\n"
   ]
  },
  {
   "cell_type": "code",
   "execution_count": 13,
   "metadata": {},
   "outputs": [
    {
     "data": {
      "text/plain": [
       "dict_keys(['5957', '6027', '6029', '5982', '6005', '6014', '5963', '5927', '6178', '6056', '6001', '6051', '5956', '6031', '6016', '5973', '5922', '6037', '5992', '6045', '5990', '6082', '5945', '5448', '5955', '5951', '5950', '5952', '6187', '6024', '5964', '6015', '5970', '6219', '6093', '6061', '6198', '5451', '5921', '6109', '5542', '5943', '6174', '5949', '6190', '5477', '5480', '5959', '5989', '5988', '6167', '6199', '6003', '5954', '6058', '6043', '5518', '6090', '5936', '5972', '6034', '6106', '6179', '5447', '6060', '6181', '6182', '5986', '6072', '6175', '6076', '6041', '5449', '6069', '5484', '6170', '6086', '5958', '6064', '6189', '5979', '6063', '5987', '6084', '6053', '5968', '6166', '6103', '6040', '6030', '6192', '6085', '6194', '6091', '6062', '5479', '5940', '6073', '5942', '6007', '5941', '6171', '6087', '6221', '6026', '6033', '5966', '6183', '5993', '6038', '6002', '5985', '6067', '6042', '6025', '5582', '5946', '6017', '5462', '5978', '6068', '6096', '6169', '5944', '6079', '6176', '6004', '6083', '6010', '6020', '5768', '6218', '5977', '5962', '5924', '6188', '6075', '5947', '5980', '5928', '5991', '6070', '6071', '5953', '5974', '6074', '6077', '6097', '6057', '6023', '6039', '6271', '5995', '6094', '5939', '5967', '6272', '5578', '6185', '6059', '6047', '6035', '6036', '6028', '6104', '6078', '6177', '6012', '5969', '5938', '6066', '6214', '5961', '5935', '5925', '5450', '5937', '6100', '5965', '5960', '6168', '6180', '6032', '6102', '6054', '5976', '5975', '5948', '6197', '6000', '6172'])"
      ]
     },
     "execution_count": 13,
     "metadata": {},
     "output_type": "execute_result"
    }
   ],
   "source": [
    "users_gps.keys()"
   ]
  },
  {
   "cell_type": "code",
   "execution_count": 15,
   "metadata": {},
   "outputs": [
    {
     "name": "stdout",
     "output_type": "stream",
     "text": [
      "markov-0.0 5 138\n",
      "markov-0.0 10 109\n",
      "markov-0.0 15 104\n",
      "markov-0.0 20 99\n",
      "markov-0.0 25 96\n",
      "markov-0.0 30 92\n",
      "0.0.categ_v1 5 19\n",
      "0.0.categ_v1 10 19\n",
      "0.0.categ_v1 15 19\n",
      "0.0.categ_v1 20 19\n",
      "0.0.categ_v1 25 19\n",
      "0.0.categ_v1 30 19\n",
      "0.1.categ_v1 5 1\n",
      "0.1.categ_v1 10 1\n",
      "0.1.categ_v1 15 1\n",
      "0.1.categ_v1 20 1\n",
      "0.1.categ_v1 25 1\n",
      "0.1.categ_v1 30 1\n"
     ]
    }
   ],
   "source": [
    "for version in input_data.keys():\n",
    "    for sr_min_time in input_data[version].keys():\n",
    "        print(version, sr_min_time, len(input_data[version][sr_min_time][\"5960\"]))"
   ]
  },
  {
   "cell_type": "code",
   "execution_count": null,
   "metadata": {},
   "outputs": [],
   "source": [
    "input_data[\"0.0.categ_v1\"][sr_min_time][\"5960\"]"
   ]
  }
 ],
 "metadata": {
  "kernelspec": {
   "display_name": "Python 3",
   "language": "python",
   "name": "python3"
  },
  "language_info": {
   "codemirror_mode": {
    "name": "ipython",
    "version": 3
   },
   "file_extension": ".py",
   "mimetype": "text/x-python",
   "name": "python",
   "nbconvert_exporter": "python",
   "pygments_lexer": "ipython3",
   "version": "3.6.4"
  }
 },
 "nbformat": 4,
 "nbformat_minor": 2
}
