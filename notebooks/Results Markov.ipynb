{
 "cells": [
  {
   "cell_type": "markdown",
   "metadata": {},
   "source": [
    "# Results Markov"
   ]
  },
  {
   "cell_type": "code",
   "execution_count": 1,
   "metadata": {},
   "outputs": [
    {
     "name": "stdout",
     "output_type": "stream",
     "text": [
      "working dir /home/tales/dev/master/mdc_analysis\n"
     ]
    }
   ],
   "source": [
    "import os\n",
    "os.chdir(\"/home/tales/dev/master/mdc_analysis/\")\n",
    "print(\"working dir\", os.getcwd())\n",
    "import math\n",
    "\n",
    "import src.ml.markov as mk\n",
    "from src.dao.experiments_dao import load_execution_test_data_by_model\n",
    "\n",
    "from src.exceptions import exceptions\n",
    "\n",
    "import warnings\n",
    "warnings.simplefilter(action='ignore', category=FutureWarning)\n",
    "\n",
    "import pandas as pd\n",
    "pd.set_option('display.float_format', lambda x: '%.3f' % x)"
   ]
  },
  {
   "cell_type": "markdown",
   "metadata": {},
   "source": [
    "## Loading data"
   ]
  },
  {
   "cell_type": "code",
   "execution_count": 2,
   "metadata": {},
   "outputs": [],
   "source": [
    "def round_up_list(num_list):\n",
    "    rounded = [math.ceil(i) for i in num_list]\n",
    "    return rounded\n",
    "\n",
    "def json_to_dataframe(json_list, simple_cols=True):\n",
    "    df = pd.DataFrame(json_list)\n",
    "    \n",
    "    df[\"iteration\"] = df[\"iteration\"].astype(str)\n",
    "    df[\"k\"] = df[\"k\"].astype(str)\n",
    "    \n",
    "    df[\"acc\"] = df[\"total_hits\"] / (df[\"total_hits\"] + df[\"total_misses\"])\n",
    "    \n",
    "    df[\"partial_hits_mean\"] = df[\"partial_hits\"].apply(lambda lista : pd.Series(lista).mean())\n",
    "    \n",
    "    df[\"hits_contain\"] = df[\"partial_hits\"].apply(lambda lista : round_up_list(lista))\n",
    "    df[\"hits_contain_mean\"] = df[\"partial_hits\"].apply(lambda lista : pd.Series(round_up_list(lista)).mean())\n",
    "    \n",
    "    if simple_cols:\n",
    "        del df[\"states_not_trained_as_origin\"]\n",
    "        del df[\"hits\"]\n",
    "        del df[\"misses\"]\n",
    "        \n",
    "    return df"
   ]
  },
  {
   "cell_type": "code",
   "execution_count": 3,
   "metadata": {},
   "outputs": [
    {
     "name": "stdout",
     "output_type": "stream",
     "text": [
      "4708 tests\n"
     ]
    },
    {
     "data": {
      "text/html": [
       "<div>\n",
       "<style scoped>\n",
       "    .dataframe tbody tr th:only-of-type {\n",
       "        vertical-align: middle;\n",
       "    }\n",
       "\n",
       "    .dataframe tbody tr th {\n",
       "        vertical-align: top;\n",
       "    }\n",
       "\n",
       "    .dataframe thead th {\n",
       "        text-align: right;\n",
       "    }\n",
       "</style>\n",
       "<table border=\"1\" class=\"dataframe\">\n",
       "  <thead>\n",
       "    <tr style=\"text-align: right;\">\n",
       "      <th></th>\n",
       "      <th>hits</th>\n",
       "      <th>input_data_version</th>\n",
       "      <th>is_distributive</th>\n",
       "      <th>iteration</th>\n",
       "      <th>k</th>\n",
       "      <th>method</th>\n",
       "      <th>misses</th>\n",
       "      <th>partial_hits</th>\n",
       "      <th>states_not_trained_as_origin</th>\n",
       "      <th>test_id</th>\n",
       "      <th>...</th>\n",
       "      <th>total_hits</th>\n",
       "      <th>total_misses</th>\n",
       "      <th>total_states_not_trained_as_origin</th>\n",
       "      <th>train_size</th>\n",
       "      <th>trained_with</th>\n",
       "      <th>user_id</th>\n",
       "      <th>acc</th>\n",
       "      <th>partial_hits_mean</th>\n",
       "      <th>hits_contain</th>\n",
       "      <th>hits_contain_mean</th>\n",
       "    </tr>\n",
       "  </thead>\n",
       "  <tbody>\n",
       "    <tr>\n",
       "      <th>4377</th>\n",
       "      <td>[['HOME'], ['WORK']]</td>\n",
       "      <td>markov-0.0.d</td>\n",
       "      <td>True</td>\n",
       "      <td>3.0</td>\n",
       "      <td>4.0</td>\n",
       "      <td>k_fold</td>\n",
       "      <td>[{'real': '['WORK']', 'pred': '['park']'}, {'r...</td>\n",
       "      <td>[0.0, 0.0, 0.0, 0.0, 0.2, 0.0, 0.3333333333333...</td>\n",
       "      <td>[['moving_company', 'storage']]</td>\n",
       "      <td>67ed87d0-eece-40ef-9db0-538604181f56</td>\n",
       "      <td>...</td>\n",
       "      <td>2</td>\n",
       "      <td>74</td>\n",
       "      <td>1</td>\n",
       "      <td>231</td>\n",
       "      <td>same_user</td>\n",
       "      <td>6058</td>\n",
       "      <td>0.026</td>\n",
       "      <td>0.093</td>\n",
       "      <td>[0, 0, 0, 0, 1, 0, 1, 0, 0, 0, 1, 0, 1, 1, 0, ...</td>\n",
       "      <td>0.250</td>\n",
       "    </tr>\n",
       "    <tr>\n",
       "      <th>4197</th>\n",
       "      <td>[['health'], ['store'], ['HOME'], ['store'], [...</td>\n",
       "      <td>markov-0.0.categ_v1</td>\n",
       "      <td>False</td>\n",
       "      <td>1.0</td>\n",
       "      <td>4.0</td>\n",
       "      <td>k_fold</td>\n",
       "      <td>[{'real': '['cafe']', 'pred': '['lawyer']'}, {...</td>\n",
       "      <td>[0.0, 0.0, 0.0, 0.0, 1.0, 0.0, 0.0, 0.0, 1.0, ...</td>\n",
       "      <td>[]</td>\n",
       "      <td>830b21f2-55a6-443a-ae4a-2b801e2d8136</td>\n",
       "      <td>...</td>\n",
       "      <td>10</td>\n",
       "      <td>43</td>\n",
       "      <td>0</td>\n",
       "      <td>165</td>\n",
       "      <td>same_user</td>\n",
       "      <td>6028</td>\n",
       "      <td>0.189</td>\n",
       "      <td>0.189</td>\n",
       "      <td>[0, 0, 0, 0, 1, 0, 0, 0, 1, 0, 0, 0, 0, 1, 0, ...</td>\n",
       "      <td>0.189</td>\n",
       "    </tr>\n",
       "    <tr>\n",
       "      <th>3951</th>\n",
       "      <td>[['HOME'], ['store'], ['restaurant'], ['WORK']...</td>\n",
       "      <td>markov-0.0.categ_v1-DUMMY</td>\n",
       "      <td>False</td>\n",
       "      <td>nan</td>\n",
       "      <td>nan</td>\n",
       "      <td>all_users_vs_one-dummy</td>\n",
       "      <td>[{'real': '['HOME']', 'pred': '['lodging']'}, ...</td>\n",
       "      <td>[0.0, 0.0, 0.0, 0.0, 0.0, 1.0, 0.0, 0.0, 0.0, ...</td>\n",
       "      <td>[]</td>\n",
       "      <td>a7beef6c-7bab-4c6c-a5d7-532e2a64e096</td>\n",
       "      <td>...</td>\n",
       "      <td>5</td>\n",
       "      <td>127</td>\n",
       "      <td>0</td>\n",
       "      <td>48209</td>\n",
       "      <td>all_other_users</td>\n",
       "      <td>5943</td>\n",
       "      <td>0.038</td>\n",
       "      <td>0.038</td>\n",
       "      <td>[0, 0, 0, 0, 0, 1, 0, 0, 0, 0, 0, 0, 0, 0, 0, ...</td>\n",
       "      <td>0.038</td>\n",
       "    </tr>\n",
       "    <tr>\n",
       "      <th>2203</th>\n",
       "      <td>[['WORK'], ['HOME'], ['HOME'], ['WORK'], ['HOM...</td>\n",
       "      <td>markov-0.0</td>\n",
       "      <td>False</td>\n",
       "      <td>0.0</td>\n",
       "      <td>4.0</td>\n",
       "      <td>k_fold</td>\n",
       "      <td>[{'real': '['WORK']', 'pred': '['locality', 'p...</td>\n",
       "      <td>[0.0, 0.0, 0.0, 0.0, 0.0, 0.0, 0.0, 1.0, 0.0, ...</td>\n",
       "      <td>[['insurance_agency'], ['cafe', 'food', 'real_...</td>\n",
       "      <td>bb775aa0-587c-464a-b3e9-72121a00fd72</td>\n",
       "      <td>...</td>\n",
       "      <td>40</td>\n",
       "      <td>128</td>\n",
       "      <td>13</td>\n",
       "      <td>546</td>\n",
       "      <td>same_user</td>\n",
       "      <td>5967</td>\n",
       "      <td>0.238</td>\n",
       "      <td>0.247</td>\n",
       "      <td>[0, 0, 0, 0, 0, 0, 0, 1, 0, 0, 0, 0, 1, 0, 0, ...</td>\n",
       "      <td>0.262</td>\n",
       "    </tr>\n",
       "  </tbody>\n",
       "</table>\n",
       "<p>4 rows × 21 columns</p>\n",
       "</div>"
      ],
      "text/plain": [
       "                                                   hits  \\\n",
       "4377                               [['HOME'], ['WORK']]   \n",
       "4197  [['health'], ['store'], ['HOME'], ['store'], [...   \n",
       "3951  [['HOME'], ['store'], ['restaurant'], ['WORK']...   \n",
       "2203  [['WORK'], ['HOME'], ['HOME'], ['WORK'], ['HOM...   \n",
       "\n",
       "             input_data_version  is_distributive iteration    k  \\\n",
       "4377               markov-0.0.d             True       3.0  4.0   \n",
       "4197        markov-0.0.categ_v1            False       1.0  4.0   \n",
       "3951  markov-0.0.categ_v1-DUMMY            False       nan  nan   \n",
       "2203                 markov-0.0            False       0.0  4.0   \n",
       "\n",
       "                      method  \\\n",
       "4377                  k_fold   \n",
       "4197                  k_fold   \n",
       "3951  all_users_vs_one-dummy   \n",
       "2203                  k_fold   \n",
       "\n",
       "                                                 misses  \\\n",
       "4377  [{'real': '['WORK']', 'pred': '['park']'}, {'r...   \n",
       "4197  [{'real': '['cafe']', 'pred': '['lawyer']'}, {...   \n",
       "3951  [{'real': '['HOME']', 'pred': '['lodging']'}, ...   \n",
       "2203  [{'real': '['WORK']', 'pred': '['locality', 'p...   \n",
       "\n",
       "                                           partial_hits  \\\n",
       "4377  [0.0, 0.0, 0.0, 0.0, 0.2, 0.0, 0.3333333333333...   \n",
       "4197  [0.0, 0.0, 0.0, 0.0, 1.0, 0.0, 0.0, 0.0, 1.0, ...   \n",
       "3951  [0.0, 0.0, 0.0, 0.0, 0.0, 1.0, 0.0, 0.0, 0.0, ...   \n",
       "2203  [0.0, 0.0, 0.0, 0.0, 0.0, 0.0, 0.0, 1.0, 0.0, ...   \n",
       "\n",
       "                           states_not_trained_as_origin  \\\n",
       "4377                    [['moving_company', 'storage']]   \n",
       "4197                                                 []   \n",
       "3951                                                 []   \n",
       "2203  [['insurance_agency'], ['cafe', 'food', 'real_...   \n",
       "\n",
       "                                   test_id        ...         total_hits  \\\n",
       "4377  67ed87d0-eece-40ef-9db0-538604181f56        ...                  2   \n",
       "4197  830b21f2-55a6-443a-ae4a-2b801e2d8136        ...                 10   \n",
       "3951  a7beef6c-7bab-4c6c-a5d7-532e2a64e096        ...                  5   \n",
       "2203  bb775aa0-587c-464a-b3e9-72121a00fd72        ...                 40   \n",
       "\n",
       "      total_misses  total_states_not_trained_as_origin  train_size  \\\n",
       "4377            74                                   1         231   \n",
       "4197            43                                   0         165   \n",
       "3951           127                                   0       48209   \n",
       "2203           128                                  13         546   \n",
       "\n",
       "         trained_with user_id   acc  partial_hits_mean  \\\n",
       "4377        same_user    6058 0.026              0.093   \n",
       "4197        same_user    6028 0.189              0.189   \n",
       "3951  all_other_users    5943 0.038              0.038   \n",
       "2203        same_user    5967 0.238              0.247   \n",
       "\n",
       "                                           hits_contain hits_contain_mean  \n",
       "4377  [0, 0, 0, 0, 1, 0, 1, 0, 0, 0, 1, 0, 1, 1, 0, ...             0.250  \n",
       "4197  [0, 0, 0, 0, 1, 0, 0, 0, 1, 0, 0, 0, 0, 1, 0, ...             0.189  \n",
       "3951  [0, 0, 0, 0, 0, 1, 0, 0, 0, 0, 0, 0, 0, 0, 0, ...             0.038  \n",
       "2203  [0, 0, 0, 0, 0, 0, 0, 1, 0, 0, 0, 0, 1, 0, 0, ...             0.262  \n",
       "\n",
       "[4 rows x 21 columns]"
      ]
     },
     "execution_count": 3,
     "metadata": {},
     "output_type": "execute_result"
    }
   ],
   "source": [
    "results_dir = \"markov_model\"\n",
    "\n",
    "mk_results = load_execution_test_data_by_model(results_dir)\n",
    "print(\"{} tests\".format(len(mk_results)))\n",
    "\n",
    "r = json_to_dataframe(mk_results, simple_cols=False)\n",
    "r.sample(4)"
   ]
  },
  {
   "cell_type": "markdown",
   "metadata": {},
   "source": [
    "## Summary"
   ]
  },
  {
   "cell_type": "code",
   "execution_count": 4,
   "metadata": {},
   "outputs": [
    {
     "data": {
      "text/plain": [
       "markov-0.0-DUMMY             787\n",
       "markov-0.0                   787\n",
       "markov-0.0.d                 787\n",
       "markov-0.0.d-DUMMY           787\n",
       "markov-0.0.categ_v1-DUMMY    780\n",
       "markov-0.0.categ_v1          780\n",
       "Name: input_data_version, dtype: int64"
      ]
     },
     "execution_count": 4,
     "metadata": {},
     "output_type": "execute_result"
    }
   ],
   "source": [
    "r[\"input_data_version\"].value_counts()"
   ]
  },
  {
   "cell_type": "code",
   "execution_count": 5,
   "metadata": {},
   "outputs": [
    {
     "data": {
      "text/plain": [
       "<matplotlib.axes._subplots.AxesSubplot at 0x7f9b1bd533c8>"
      ]
     },
     "execution_count": 5,
     "metadata": {},
     "output_type": "execute_result"
    }
   ],
   "source": [
    "r[\"input_data_version\"].value_counts().plot.bar(title=\"input_data_version\", figsize=(4,2))"
   ]
  },
  {
   "cell_type": "code",
   "execution_count": 6,
   "metadata": {},
   "outputs": [
    {
     "data": {
      "text/plain": [
       "k_fold                    1872\n",
       "k_fold-dummy              1872\n",
       "all_users_vs_one           482\n",
       "all_users_vs_one-dummy     482\n",
       "Name: method, dtype: int64"
      ]
     },
     "execution_count": 6,
     "metadata": {},
     "output_type": "execute_result"
    }
   ],
   "source": [
    "r[\"method\"].value_counts()"
   ]
  },
  {
   "cell_type": "code",
   "execution_count": 7,
   "metadata": {},
   "outputs": [
    {
     "data": {
      "text/plain": [
       "<matplotlib.axes._subplots.AxesSubplot at 0x7f9b181f62e8>"
      ]
     },
     "execution_count": 7,
     "metadata": {},
     "output_type": "execute_result"
    },
    {
     "data": {
      "image/png": "[encoded data removed]",
      "text/plain": [
       "<matplotlib.figure.Figure at 0x7f9b31be6198>"
      ]
     },
     "metadata": {},
     "output_type": "display_data"
    }
   ],
   "source": [
    "r[\"method\"].value_counts().plot.bar(title=\"method\", figsize=(4,2))"
   ]
  },
  {
   "cell_type": "code",
   "execution_count": 8,
   "metadata": {},
   "outputs": [
    {
     "data": {
      "text/plain": [
       "<matplotlib.axes._subplots.AxesSubplot at 0x7f9b1ba96198>"
      ]
     },
     "execution_count": 8,
     "metadata": {},
     "output_type": "execute_result"
    },
    {
     "data": {
      "image/png": "[encoded data removed]",
      "text/plain": [
       "<matplotlib.figure.Figure at 0x7f9b1821a0b8>"
      ]
     },
     "metadata": {},
     "output_type": "display_data"
    }
   ],
   "source": [
    "r[\"test_size\"].plot.hist(title=\"test_size\", bins=15)"
   ]
  },
  {
   "cell_type": "markdown",
   "metadata": {},
   "source": [
    "## Accuracy"
   ]
  },
  {
   "cell_type": "code",
   "execution_count": 9,
   "metadata": {},
   "outputs": [],
   "source": [
    "def markov_accuracy(results):\n",
    "    return results[\"total_hits\"].sum() / (results[\"total_hits\"].sum() + results[\"total_misses\"].sum())"
   ]
  },
  {
   "cell_type": "code",
   "execution_count": 10,
   "metadata": {},
   "outputs": [],
   "source": [
    "results = []"
   ]
  },
  {
   "cell_type": "markdown",
   "metadata": {},
   "source": [
    "### markov-0.0"
   ]
  },
  {
   "cell_type": "code",
   "execution_count": 11,
   "metadata": {},
   "outputs": [
    {
     "name": "stdout",
     "output_type": "stream",
     "text": [
      "method: all_users_vs_one\n",
      "\n",
      "    Accuracy: 0.0392\n",
      "    Mean Absolute Deviation: 0.0283\n",
      "    ---\n",
      "    Partial Hits Mean: 0.0700\n",
      "    Mean Absolute Deviation: 0.0279\n",
      "    ---\n",
      "    Contains Partial Hits Mean: 0.1288\n",
      "    ---\n",
      "\n",
      "method: k_fold\n",
      "\n",
      "    Accuracy: 0.1304\n",
      "    Mean Absolute Deviation: 0.0902\n",
      "    ---\n",
      "    Partial Hits Mean: 0.1631\n",
      "    Mean Absolute Deviation: 0.0876\n",
      "    ---\n",
      "    Contains Partial Hits Mean: 0.2345\n",
      "    ---\n",
      "\n"
     ]
    }
   ],
   "source": [
    "hist_plot = []\n",
    "\n",
    "use_data = r[r[\"input_data_version\"] == \"markov-0.0\"]\n",
    "\n",
    "for method in use_data[\"method\"].drop_duplicates().sort_values():\n",
    "    use_results = use_data[use_data[\"method\"] == method]\n",
    "    print(\"method: {}\".format(method))\n",
    "    print()\n",
    "    acc = use_results[\"acc\"].median()\n",
    "    print(\"    Accuracy: {0:.4f}\".format(acc))\n",
    "    mad = use_results[\"acc\"].mad()\n",
    "    print(\"    Mean Absolute Deviation: {0:.4f}\".format(mad))\n",
    "    print(\"    ---\")\n",
    "    p_acc = use_results[\"partial_hits_mean\"].median()\n",
    "    print(\"    Partial Hits Mean: {0:.4f}\".format(p_acc))\n",
    "    p_mad = use_results[\"partial_hits_mean\"].mad()\n",
    "    print(\"    Mean Absolute Deviation: {0:.4f}\".format(p_mad))\n",
    "    print(\"    ---\")\n",
    "    contain_acc = use_results[\"hits_contain_mean\"].mean()\n",
    "    print(\"    Contains Partial Hits Mean: {0:.4f}\".format(contain_acc))\n",
    "    print(\"    ---\")\n",
    "    print()\n",
    "    results.append({\"method\": method, \"acc\": acc, \"partial_acc\": p_acc, \"mad\": mad, \"partial_mad\": p_mad, \"input_data\": \"markov-0.0\", \"contains_acc\": contain_acc})\n"
   ]
  },
  {
   "cell_type": "markdown",
   "metadata": {},
   "source": [
    "### markov-0.0.d"
   ]
  },
  {
   "cell_type": "code",
   "execution_count": 12,
   "metadata": {},
   "outputs": [
    {
     "name": "stdout",
     "output_type": "stream",
     "text": [
      "method: all_users_vs_one\n",
      "\n",
      "    Accuracy: 0.0147\n",
      "    Mean Absolute Deviation: 0.0160\n",
      "    ---\n",
      "    Partial Hits Mean: 0.0598\n",
      "    Mean Absolute Deviation: 0.0170\n",
      "    ---\n",
      "    Contains Partial Hits Mean: 0.1478\n",
      "    ---\n",
      "\n",
      "method: k_fold\n",
      "\n",
      "    Accuracy: 0.0373\n",
      "    Mean Absolute Deviation: 0.0535\n",
      "    ---\n",
      "    Partial Hits Mean: 0.1115\n",
      "    Mean Absolute Deviation: 0.0587\n",
      "    ---\n",
      "    Contains Partial Hits Mean: 0.2419\n",
      "    ---\n",
      "\n"
     ]
    }
   ],
   "source": [
    "hist_plot = []\n",
    "\n",
    "use_data = r[r[\"input_data_version\"] == \"markov-0.0.d\"]\n",
    "\n",
    "for method in use_data[\"method\"].drop_duplicates().sort_values():\n",
    "    use_results = use_data[use_data[\"method\"] == method]\n",
    "    print(\"method: {}\".format(method))\n",
    "    print()\n",
    "    acc = use_results[\"acc\"].median()\n",
    "    print(\"    Accuracy: {0:.4f}\".format(acc))\n",
    "    mad = use_results[\"acc\"].mad()\n",
    "    print(\"    Mean Absolute Deviation: {0:.4f}\".format(mad))\n",
    "    print(\"    ---\")\n",
    "    p_acc = use_results[\"partial_hits_mean\"].median()\n",
    "    print(\"    Partial Hits Mean: {0:.4f}\".format(p_acc))\n",
    "    p_mad = use_results[\"partial_hits_mean\"].mad()\n",
    "    print(\"    Mean Absolute Deviation: {0:.4f}\".format(p_mad))\n",
    "    print(\"    ---\")\n",
    "    contain_acc = use_results[\"hits_contain_mean\"].mean()\n",
    "    print(\"    Contains Partial Hits Mean: {0:.4f}\".format(contain_acc))\n",
    "    print(\"    ---\")\n",
    "    print()\n",
    "    results.append({\"method\": method, \"acc\": acc, \"partial_acc\": p_acc, \"mad\": mad, \"partial_mad\": p_mad, \"input_data\": \"markov-0.0.d\", \"contains_acc\": contain_acc})\n"
   ]
  },
  {
   "cell_type": "code",
   "execution_count": 13,
   "metadata": {},
   "outputs": [
    {
     "name": "stdout",
     "output_type": "stream",
     "text": [
      "method: all_users_vs_one\n",
      "\n",
      "    Accuracy: 0.0869\n",
      "    Mean Absolute Deviation: 0.0273\n",
      "    ---\n",
      "    Partial Hits Mean: 0.0869\n",
      "    Mean Absolute Deviation: 0.0273\n",
      "    ---\n",
      "    Contains Partial Hits Mean: 0.0885\n",
      "    ---\n",
      "\n",
      "method: k_fold\n",
      "\n",
      "    Accuracy: 0.1611\n",
      "    Mean Absolute Deviation: 0.0846\n",
      "    ---\n",
      "    Partial Hits Mean: 0.1611\n",
      "    Mean Absolute Deviation: 0.0846\n",
      "    ---\n",
      "    Contains Partial Hits Mean: 0.1808\n",
      "    ---\n",
      "\n"
     ]
    }
   ],
   "source": [
    "hist_plot = []\n",
    "\n",
    "use_data = r[r[\"input_data_version\"] == \"markov-0.0.categ_v1\"]\n",
    "\n",
    "for method in use_data[\"method\"].drop_duplicates().sort_values():\n",
    "    use_results = use_data[use_data[\"method\"] == method]\n",
    "    print(\"method: {}\".format(method))\n",
    "    print()\n",
    "    acc = use_results[\"acc\"].median()\n",
    "    print(\"    Accuracy: {0:.4f}\".format(acc))\n",
    "    mad = use_results[\"acc\"].mad()\n",
    "    print(\"    Mean Absolute Deviation: {0:.4f}\".format(mad))\n",
    "    print(\"    ---\")\n",
    "    p_acc = use_results[\"partial_hits_mean\"].median()\n",
    "    print(\"    Partial Hits Mean: {0:.4f}\".format(p_acc))\n",
    "    p_mad = use_results[\"partial_hits_mean\"].mad()\n",
    "    print(\"    Mean Absolute Deviation: {0:.4f}\".format(p_mad))\n",
    "    print(\"    ---\")\n",
    "    contain_acc = use_results[\"hits_contain_mean\"].mean()\n",
    "    print(\"    Contains Partial Hits Mean: {0:.4f}\".format(contain_acc))\n",
    "    print(\"    ---\")\n",
    "    print()\n",
    "    results.append({\"method\": method, \"acc\": acc, \"partial_acc\": p_acc, \"mad\": mad, \"partial_mad\": p_mad, \"input_data\": \"markov-0.0.d\", \"contains_acc\": contain_acc})\n"
   ]
  },
  {
   "cell_type": "code",
   "execution_count": 14,
   "metadata": {},
   "outputs": [
    {
     "data": {
      "text/html": [
       "<div>\n",
       "<style scoped>\n",
       "    .dataframe tbody tr th:only-of-type {\n",
       "        vertical-align: middle;\n",
       "    }\n",
       "\n",
       "    .dataframe tbody tr th {\n",
       "        vertical-align: top;\n",
       "    }\n",
       "\n",
       "    .dataframe thead th {\n",
       "        text-align: right;\n",
       "    }\n",
       "</style>\n",
       "<table border=\"1\" class=\"dataframe\">\n",
       "  <thead>\n",
       "    <tr style=\"text-align: right;\">\n",
       "      <th></th>\n",
       "      <th>acc</th>\n",
       "      <th>contains_acc</th>\n",
       "      <th>input_data</th>\n",
       "      <th>mad</th>\n",
       "      <th>method</th>\n",
       "      <th>partial_acc</th>\n",
       "      <th>partial_mad</th>\n",
       "    </tr>\n",
       "  </thead>\n",
       "  <tbody>\n",
       "    <tr>\n",
       "      <th>0</th>\n",
       "      <td>0.039</td>\n",
       "      <td>0.129</td>\n",
       "      <td>markov-0.0</td>\n",
       "      <td>0.028</td>\n",
       "      <td>all_users_vs_one</td>\n",
       "      <td>0.070</td>\n",
       "      <td>0.028</td>\n",
       "    </tr>\n",
       "    <tr>\n",
       "      <th>1</th>\n",
       "      <td>0.130</td>\n",
       "      <td>0.235</td>\n",
       "      <td>markov-0.0</td>\n",
       "      <td>0.090</td>\n",
       "      <td>k_fold</td>\n",
       "      <td>0.163</td>\n",
       "      <td>0.088</td>\n",
       "    </tr>\n",
       "    <tr>\n",
       "      <th>2</th>\n",
       "      <td>0.015</td>\n",
       "      <td>0.148</td>\n",
       "      <td>markov-0.0.d</td>\n",
       "      <td>0.016</td>\n",
       "      <td>all_users_vs_one</td>\n",
       "      <td>0.060</td>\n",
       "      <td>0.017</td>\n",
       "    </tr>\n",
       "    <tr>\n",
       "      <th>3</th>\n",
       "      <td>0.037</td>\n",
       "      <td>0.242</td>\n",
       "      <td>markov-0.0.d</td>\n",
       "      <td>0.054</td>\n",
       "      <td>k_fold</td>\n",
       "      <td>0.112</td>\n",
       "      <td>0.059</td>\n",
       "    </tr>\n",
       "    <tr>\n",
       "      <th>4</th>\n",
       "      <td>0.087</td>\n",
       "      <td>0.089</td>\n",
       "      <td>markov-0.0.d</td>\n",
       "      <td>0.027</td>\n",
       "      <td>all_users_vs_one</td>\n",
       "      <td>0.087</td>\n",
       "      <td>0.027</td>\n",
       "    </tr>\n",
       "    <tr>\n",
       "      <th>5</th>\n",
       "      <td>0.161</td>\n",
       "      <td>0.181</td>\n",
       "      <td>markov-0.0.d</td>\n",
       "      <td>0.085</td>\n",
       "      <td>k_fold</td>\n",
       "      <td>0.161</td>\n",
       "      <td>0.085</td>\n",
       "    </tr>\n",
       "  </tbody>\n",
       "</table>\n",
       "</div>"
      ],
      "text/plain": [
       "    acc  contains_acc    input_data   mad            method  partial_acc  \\\n",
       "0 0.039         0.129    markov-0.0 0.028  all_users_vs_one        0.070   \n",
       "1 0.130         0.235    markov-0.0 0.090            k_fold        0.163   \n",
       "2 0.015         0.148  markov-0.0.d 0.016  all_users_vs_one        0.060   \n",
       "3 0.037         0.242  markov-0.0.d 0.054            k_fold        0.112   \n",
       "4 0.087         0.089  markov-0.0.d 0.027  all_users_vs_one        0.087   \n",
       "5 0.161         0.181  markov-0.0.d 0.085            k_fold        0.161   \n",
       "\n",
       "   partial_mad  \n",
       "0        0.028  \n",
       "1        0.088  \n",
       "2        0.017  \n",
       "3        0.059  \n",
       "4        0.027  \n",
       "5        0.085  "
      ]
     },
     "execution_count": 14,
     "metadata": {},
     "output_type": "execute_result"
    }
   ],
   "source": [
    "results_df = pd.DataFrame(results)\n",
    "results_df"
   ]
  },
  {
   "cell_type": "markdown",
   "metadata": {},
   "source": [
    "# Complete matching accuracy"
   ]
  },
  {
   "cell_type": "markdown",
   "metadata": {},
   "source": [
    "### Overview"
   ]
  },
  {
   "cell_type": "code",
   "execution_count": 15,
   "metadata": {},
   "outputs": [
    {
     "data": {
      "text/plain": [
       "<matplotlib.axes._subplots.AxesSubplot at 0x7f9b31be19b0>"
      ]
     },
     "execution_count": 15,
     "metadata": {},
     "output_type": "execute_result"
    },
    {
     "data": {
      "image/png": "[encoded data removed]",
      "text/plain": [
       "<matplotlib.figure.Figure at 0x7f9b180e0400>"
      ]
     },
     "metadata": {},
     "output_type": "display_data"
    }
   ],
   "source": [
    "results_df.set_index(\"method\").groupby(\"method\").apply(lambda value : value.mean())[\"acc\"].plot.bar(title=\"Acc mean by method\")"
   ]
  },
  {
   "cell_type": "code",
   "execution_count": 16,
   "metadata": {},
   "outputs": [],
   "source": [
    "#results_df.set_index(\"input_data\").groupby(\"input_data\").apply(lambda value : value.mean())[\"contains_acc\"].plot.bar(title=\"Acc mean by method\")"
   ]
  },
  {
   "cell_type": "markdown",
   "metadata": {},
   "source": [
    "### Complete Array Matching"
   ]
  },
  {
   "cell_type": "code",
   "execution_count": 17,
   "metadata": {},
   "outputs": [
    {
     "data": {
      "text/plain": [
       "<matplotlib.axes._subplots.AxesSubplot at 0x7f9b181a1b70>"
      ]
     },
     "execution_count": 17,
     "metadata": {},
     "output_type": "execute_result"
    },
    {
     "data": {
      "image/png": "[encoded data removed]",
      "text/plain": [
       "<matplotlib.figure.Figure at 0x7f9b181100b8>"
      ]
     },
     "metadata": {},
     "output_type": "display_data"
    }
   ],
   "source": [
    "results_df[results_df[\"input_data\"] == \"markov-0.0\"].set_index(\"method\").groupby(\"method\").apply(lambda value : value.mean())[\"acc\"].plot.bar(title=\"Acc mean by method - Complete Array Matching\")"
   ]
  },
  {
   "cell_type": "code",
   "execution_count": 18,
   "metadata": {},
   "outputs": [
    {
     "data": {
      "text/plain": [
       "<matplotlib.axes._subplots.AxesSubplot at 0x7f9b180c8cc0>"
      ]
     },
     "execution_count": 18,
     "metadata": {},
     "output_type": "execute_result"
    },
    {
     "data": {
      "image/png": "[encoded data removed]",
      "text/plain": [
       "<matplotlib.figure.Figure at 0x7f9b18061438>"
      ]
     },
     "metadata": {},
     "output_type": "display_data"
    }
   ],
   "source": [
    "results_df[results_df[\"input_data\"] == \"markov-0.0.d\"].set_index(\"method\").groupby(\"method\").apply(lambda value : value.mean())[\"acc\"].plot.bar(title=\"Acc mean by method - Complete Array Matching - Distributive Transitions\")"
   ]
  },
  {
   "cell_type": "markdown",
   "metadata": {},
   "source": [
    "### Partial Array Matching (Jaccard)"
   ]
  },
  {
   "cell_type": "code",
   "execution_count": 19,
   "metadata": {},
   "outputs": [
    {
     "data": {
      "text/plain": [
       "<matplotlib.axes._subplots.AxesSubplot at 0x7f9b180e0ef0>"
      ]
     },
     "execution_count": 19,
     "metadata": {},
     "output_type": "execute_result"
    },
    {
     "data": {
      "image/png": "[encoded data removed]",
      "text/plain": [
       "<matplotlib.figure.Figure at 0x7f9b180537f0>"
      ]
     },
     "metadata": {},
     "output_type": "display_data"
    }
   ],
   "source": [
    "results_df[results_df[\"input_data\"] == \"markov-0.0\"].set_index(\"method\").groupby(\"method\").apply(lambda value : value.mean())[\"partial_acc\"].plot.bar(title=\"Acc mean by method - Partial Array Matching\")"
   ]
  },
  {
   "cell_type": "code",
   "execution_count": 20,
   "metadata": {},
   "outputs": [
    {
     "data": {
      "text/plain": [
       "<matplotlib.axes._subplots.AxesSubplot at 0x7f9b17f787b8>"
      ]
     },
     "execution_count": 20,
     "metadata": {},
     "output_type": "execute_result"
    },
    {
     "data": {
      "image/png": "[encoded data removed]",
      "text/plain": [
       "<matplotlib.figure.Figure at 0x7f9b17f9fba8>"
      ]
     },
     "metadata": {},
     "output_type": "display_data"
    }
   ],
   "source": [
    "results_df[results_df[\"input_data\"] == \"markov-0.0.d\"].set_index(\"method\").groupby(\"method\").apply(lambda value : value.mean())[\"partial_acc\"].plot.bar(title=\"Acc mean by method - Partial Array Matching - Distributive Transitions\")"
   ]
  },
  {
   "cell_type": "markdown",
   "metadata": {},
   "source": [
    "### Real Array Type Contains Any Predicted Type"
   ]
  },
  {
   "cell_type": "markdown",
   "metadata": {},
   "source": [
    "[A, B] [X,A,Z] <BR>\n",
    "[C] [A,B,C]"
   ]
  },
  {
   "cell_type": "code",
   "execution_count": 21,
   "metadata": {},
   "outputs": [
    {
     "data": {
      "text/plain": [
       "<matplotlib.axes._subplots.AxesSubplot at 0x7f9b17f6c518>"
      ]
     },
     "execution_count": 21,
     "metadata": {},
     "output_type": "execute_result"
    },
    {
     "data": {
      "image/png": "[encoded data removed]",
      "text/plain": [
       "<matplotlib.figure.Figure at 0x7f9b17f78a90>"
      ]
     },
     "metadata": {},
     "output_type": "display_data"
    }
   ],
   "source": [
    "results_df[results_df[\"input_data\"] == \"markov-0.0\"].set_index(\"method\").groupby(\"method\").apply(lambda value : value.mean())[\"contains_acc\"].plot.bar(title=\"Acc mean by method - Array Contains Any Type\")"
   ]
  },
  {
   "cell_type": "code",
   "execution_count": 22,
   "metadata": {},
   "outputs": [
    {
     "data": {
      "text/plain": [
       "<matplotlib.axes._subplots.AxesSubplot at 0x7f9b17eaa550>"
      ]
     },
     "execution_count": 22,
     "metadata": {},
     "output_type": "execute_result"
    },
    {
     "data": {
      "image/png": "[encoded data removed]",
      "text/plain": [
       "<matplotlib.figure.Figure at 0x7f9b17f05588>"
      ]
     },
     "metadata": {},
     "output_type": "display_data"
    }
   ],
   "source": [
    "results_df[results_df[\"input_data\"] == \"markov-0.0.d\"].set_index(\"method\").groupby(\"method\").apply(lambda value : value.mean())[\"contains_acc\"].plot.bar(title=\"Acc mean by method - Array Contains Any Type - Distributive Transitions\")"
   ]
  },
  {
   "cell_type": "code",
   "execution_count": null,
   "metadata": {},
   "outputs": [],
   "source": []
  }
 ],
 "metadata": {
  "kernelspec": {
   "display_name": "Python 3",
   "language": "python",
   "name": "python3"
  },
  "language_info": {
   "codemirror_mode": {
    "name": "ipython",
    "version": 3
   },
   "file_extension": ".py",
   "mimetype": "text/x-python",
   "name": "python",
   "nbconvert_exporter": "python",
   "pygments_lexer": "ipython3",
   "version": "3.6.4"
  }
 },
 "nbformat": 4,
 "nbformat_minor": 2
}
