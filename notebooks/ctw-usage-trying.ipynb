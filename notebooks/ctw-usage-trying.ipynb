{
 "cells": [
  {
   "cell_type": "markdown",
   "metadata": {
    "janus": {
     "all_versions_showing": false,
     "cell_hidden": false,
     "current_version": 0,
     "id": "62317516d26a68",
     "named_versions": [],
     "output_hidden": false,
     "show_versions": false,
     "source_hidden": false,
     "versions": []
    }
   },
   "source": [
    "# Context Tree Weighting Examples"
   ]
  },
  {
   "cell_type": "code",
   "execution_count": 1,
   "metadata": {},
   "outputs": [
    {
     "name": "stdout",
     "output_type": "stream",
     "text": [
      "working dir /home/tales/dev/master/mdc_analysis\n"
     ]
    }
   ],
   "source": [
    "import os\n",
    "os.chdir(\"/home/tales/dev/master/mdc_analysis/\")\n",
    "print(\"working dir\", os.getcwd())\n",
    "\n",
    "import json\n",
    "from src.taxonomy.category_mapping import CategoryMapper\n",
    "from src.exceptions.exceptions import NoCategoryMatched, NotValidTypes"
   ]
  },
  {
   "cell_type": "markdown",
   "metadata": {
    "janus": {
     "all_versions_showing": false,
     "cell_hidden": false,
     "current_version": 0,
     "id": "ff73e0c2c8de68",
     "named_versions": [],
     "output_hidden": false,
     "show_versions": false,
     "source_hidden": false,
     "versions": []
    }
   },
   "source": [
    "This notebook walks through the usage of the context tree weighting implementation in `ctw.py`."
   ]
  },
  {
   "cell_type": "markdown",
   "metadata": {
    "janus": {
     "all_versions_showing": false,
     "cell_hidden": false,
     "current_version": 0,
     "id": "89d99500de56c",
     "named_versions": [],
     "output_hidden": false,
     "show_versions": false,
     "source_hidden": false,
     "versions": []
    }
   },
   "source": [
    "## 1. Generate Data\n",
    "First, we'll generate some data from a tree source. \n",
    "<br>\n",
    "We'll do this using a somewhat unsightly parameter dictionary where each key represents a context and each value is a specification of parameters for the next samples. \n",
    "<br>\n",
    "The parameter dictionary defined below generates <b>two sequences</b>, \n",
    "<br>\n",
    "$X_n\\in\\{0,1,2\\}$ \n",
    "<br>\n",
    "and\n",
    "<br>\n",
    "$Y_n\\in\\{0,1\\}$ \n",
    "<br>\n",
    "for $n=1,\\dots,N$. The depth of the tree is chosen to be $D=2$, meaning that for each *context* $s=(x_{n-1},x_{n-2},y_{n-1},y_{n-2})$ we have the two parameter vectors $\\theta_x = [p_{x0},p_{x1},p_{x2}]$ and $\\theta_y = [p_{y0},p_{y1}]$ with $p_{xi} \\triangleq Pr(x=i)$ and $\\sum_i p_{xi}=1$ (and similarly for $y$). This particular set up demonstrates the ability of the CTW class to make predictions of $M$-ary sequences (in this case $M=3$) and to make predictions using side information, $Y_n$. You can make changes to the generating tree source, but note that for ease of building the data generation function, only complete trees are handled (an incomplete tree can be made by setting neighboring leaf nodes to have the same parameters)."
   ]
  },
  {
   "cell_type": "code",
   "execution_count": 2,
   "metadata": {},
   "outputs": [
    {
     "data": {
      "text/plain": [
       "([0.3333333333333333, 0.3333333333333333, 0.3333333333333333], [0.5, 0.5])"
      ]
     },
     "execution_count": 2,
     "metadata": {},
     "output_type": "execute_result"
    }
   ],
   "source": [
    "[1/3]*3,[1/2]*2"
   ]
  },
  {
   "cell_type": "code",
   "execution_count": 3,
   "metadata": {},
   "outputs": [
    {
     "data": {
      "text/plain": [
       "([0.3333333333333333, 0.5, 0.16666666666666666], [0.5, 0.5])"
      ]
     },
     "execution_count": 3,
     "metadata": {},
     "output_type": "execute_result"
    }
   ],
   "source": [
    "[1/3,1/2,1/6],[1/2]*2"
   ]
  },
  {
   "cell_type": "code",
   "execution_count": 4,
   "metadata": {},
   "outputs": [
    {
     "data": {
      "text/plain": [
       "([0.16666666666666666, 0.16666666666666666, 0.6666666666666666], [0.5, 0.5])"
      ]
     },
     "execution_count": 4,
     "metadata": {},
     "output_type": "execute_result"
    }
   ],
   "source": [
    "[1/6,1/6,2/3],[1/2]*2"
   ]
  },
  {
   "cell_type": "code",
   "execution_count": 5,
   "metadata": {
    "code_folding": [],
    "janus": {
     "all_versions_showing": false,
     "cell_hidden": false,
     "current_version": 0,
     "id": "0f8ca91e050138",
     "named_versions": [],
     "output_hidden": false,
     "show_versions": false,
     "source_hidden": false,
     "versions": []
    }
   },
   "outputs": [
    {
     "data": {
      "image/png": "[encoded data removed]",
      "text/plain": [
       "<Figure size 1080x432 with 2 Axes>"
      ]
     },
     "metadata": {},
     "output_type": "display_data"
    }
   ],
   "source": [
    "%matplotlib inline\n",
    "from src.ml.ctw.gendata import gendata, plotprobs\n",
    "\n",
    "# dictionary of parameters for depth 2 tree with x in {0,1,2} and y in {0,1}\n",
    "# params['[[x{n-1},x{n-2}],[y{n-1},y{n-2}]]'] = ([p(xn=0),p(xn=1),p(xn=2)],[p(yn=0),p(yn=1)])\n",
    "params ={\n",
    "    '[[0,0],[0,0]]':([1/3]*3,[1/2]*2),\n",
    "    '[[0,0],[0,1]]':([1/3,1/2,1/6],[1/2]*2),\n",
    "    '[[0,0],[1,0]]':([1/6,1/6,2/3],[1/2]*2),\n",
    "    '[[0,0],[1,1]]':([1/3]*3,[1/2]*2),\n",
    "    '[[0,1],[0,0]]':([1/3,1/2,1/6],[1/2]*2),\n",
    "    '[[0,1],[0,1]]':([7/9,1/9,1/9],[1/2]*2),\n",
    "    '[[0,1],[1,0]]':([1/3]*3,[1/2]*2),\n",
    "    '[[0,1],[1,1]]':([1/3]*3,[1/2]*2),\n",
    "    '[[0,2],[0,0]]':([1/6,1/6,2/3],[1/2]*2),\n",
    "    '[[0,2],[0,1]]':([1/3,1/2,1/6],[1/2]*2),\n",
    "    '[[0,2],[1,0]]':([1/3]*3,[1/2]*2),\n",
    "    '[[0,2],[1,1]]':([1/6,1/6,2/3],[1/2]*2),\n",
    "    '[[1,0],[0,0]]':([1/3,1/2,1/6],[1/2]*2),\n",
    "    '[[1,0],[0,1]]':([1/3]*3,[1/2]*2),\n",
    "    '[[1,0],[1,0]]':([1/3]*3,[1/2]*2),\n",
    "    '[[1,0],[1,1]]':([1/3]*3,[1/2]*2),\n",
    "    '[[1,1],[0,0]]':([1/3,1/2,1/6],[1/2]*2),\n",
    "    '[[1,1],[0,1]]':([1/3]*3,[1/2]*2),\n",
    "    '[[1,1],[1,0]]':([1/3]*3,[1/2]*2),\n",
    "    '[[1,1],[1,1]]':([1/3]*3,[1/2]*2),\n",
    "    '[[1,2],[0,0]]':([1/6,1/6,2/3],[1/2]*2),\n",
    "    '[[1,2],[0,1]]':([1/3]*3,[1/2]*2),\n",
    "    '[[1,2],[1,0]]':([1/3]*3,[1/2]*2),\n",
    "    '[[1,2],[1,1]]':([1/3]*3,[1/2]*2),\n",
    "    '[[2,0],[0,0]]':([1/3,1/2,1/6],[1/2]*2),\n",
    "    '[[2,0],[0,1]]':([1/3]*3,[1/2]*2),\n",
    "    '[[2,0],[1,0]]':([1/3]*3,[1/2]*2),\n",
    "    '[[2,0],[1,1]]':([1/3]*3,[1/2]*2),\n",
    "    '[[2,1],[0,0]]':([7/9,1/9,1/9],[1/2]*2),\n",
    "    '[[2,1],[0,1]]':([1/3,1/2,1/6],[1/2]*2),\n",
    "    '[[2,1],[1,0]]':([1/3]*3,[1/2]*2),\n",
    "    '[[2,1],[1,1]]':([1/3]*3,[1/2]*2),\n",
    "    '[[2,2],[0,0]]':([1/3,1/2,1/6],[1/2]*2),\n",
    "    '[[2,2],[0,1]]':([1/3]*3,[1/2]*2),\n",
    "    '[[2,2],[1,0]]':([7/9,1/9,1/9],[1/2]*2),\n",
    "    '[[2,2],[1,1]]':([7/9,1/9,1/9],[1/2]*2),\n",
    "}\n",
    "\n",
    "x,y = gendata(N=5000,params=params,plot_samples=100)"
   ]
  },
  {
   "cell_type": "markdown",
   "metadata": {
    "janus": {
     "all_versions_showing": false,
     "cell_hidden": false,
     "current_version": 0,
     "id": "3882446ccbe39",
     "named_versions": [],
     "output_hidden": false,
     "show_versions": false,
     "source_hidden": false,
     "versions": []
    }
   },
   "source": [
    "For viewing purposes, we are only showing the last 100 samples of the sequences. The bottom plot shows the true next sample probabilities of $X_n$ (i.e. $\\theta_x$ at time $n$) because our CTW will be output a probability assignment for the next sample $X_n$ given the past of the sequence and the side information. In these plots, larger circles represent higher probabilities."
   ]
  },
  {
   "cell_type": "markdown",
   "metadata": {
    "janus": {
     "all_versions_showing": false,
     "cell_hidden": false,
     "current_version": 0,
     "id": "027b0839f4c39",
     "named_versions": [],
     "output_hidden": false,
     "show_versions": false,
     "source_hidden": false,
     "versions": []
    }
   },
   "source": [
    "## 2. Sequential Probability Assignment with Depth-2 CTW (w/ side info)\n",
    "First we'll produce sequential probability assignments using a depth-2 context tree with access to side information. A couple notes on use of the `CTW` class:\n",
    "\n",
    "* When creating a `CTW` object, specify:\n",
    "    * `depth` - Depth of tree\n",
    "    * `symbols` - Number of symbols that $X$ can take (i.e. $M$)\n",
    "    * `sidesymbols` - Number of symbols the $Y$ can take. If this is left blank, then there is assumed no side info.\n",
    "* When using `CTW.predict_sequence(x,sideseq=y)`, it is assumed that:\n",
    "    * `x` only contains values in $0,1,\\dots,$ `symbols-1`\n",
    "    * `y` only contains values in $0,1,\\dots,$ `sidesymbols-1`\n",
    "    * `y` is omitted if not using side info and `y` is included if using side info\n",
    "* `ctw.predict_sequence` returns an $M\\times N$ matrix of probabilites, where the $n$th column represents the $M$ assigned probabilities of values of $X_n$."
   ]
  },
  {
   "cell_type": "code",
   "execution_count": 6,
   "metadata": {},
   "outputs": [],
   "source": [
    "import pandas as pd\n",
    "from src.ml.markov import transition_probabilities"
   ]
  },
  {
   "cell_type": "code",
   "execution_count": 7,
   "metadata": {},
   "outputs": [
    {
     "name": "stdout",
     "output_type": "stream",
     "text": [
      "5002\n"
     ]
    },
    {
     "data": {
      "text/plain": [
       "0    1839\n",
       "1    1648\n",
       "2    1515\n",
       "dtype: int64"
      ]
     },
     "execution_count": 7,
     "metadata": {},
     "output_type": "execute_result"
    }
   ],
   "source": [
    "print(len(x))\n",
    "pd.Series(x).value_counts()"
   ]
  },
  {
   "cell_type": "code",
   "execution_count": 8,
   "metadata": {},
   "outputs": [
    {
     "data": {
      "text/html": [
       "<div>\n",
       "<style scoped>\n",
       "    .dataframe tbody tr th:only-of-type {\n",
       "        vertical-align: middle;\n",
       "    }\n",
       "\n",
       "    .dataframe tbody tr th {\n",
       "        vertical-align: top;\n",
       "    }\n",
       "\n",
       "    .dataframe thead th {\n",
       "        text-align: right;\n",
       "    }\n",
       "</style>\n",
       "<table border=\"1\" class=\"dataframe\">\n",
       "  <thead>\n",
       "    <tr style=\"text-align: right;\">\n",
       "      <th></th>\n",
       "      <th>origin</th>\n",
       "      <th>destination</th>\n",
       "      <th>transition_freq</th>\n",
       "    </tr>\n",
       "  </thead>\n",
       "  <tbody>\n",
       "    <tr>\n",
       "      <th>0</th>\n",
       "      <td>0</td>\n",
       "      <td>0</td>\n",
       "      <td>0.320457</td>\n",
       "    </tr>\n",
       "    <tr>\n",
       "      <th>1</th>\n",
       "      <td>0</td>\n",
       "      <td>1</td>\n",
       "      <td>0.365071</td>\n",
       "    </tr>\n",
       "    <tr>\n",
       "      <th>2</th>\n",
       "      <td>0</td>\n",
       "      <td>2</td>\n",
       "      <td>0.314472</td>\n",
       "    </tr>\n",
       "    <tr>\n",
       "      <th>3</th>\n",
       "      <td>1</td>\n",
       "      <td>0</td>\n",
       "      <td>0.432039</td>\n",
       "    </tr>\n",
       "    <tr>\n",
       "      <th>4</th>\n",
       "      <td>1</td>\n",
       "      <td>1</td>\n",
       "      <td>0.320995</td>\n",
       "    </tr>\n",
       "    <tr>\n",
       "      <th>5</th>\n",
       "      <td>1</td>\n",
       "      <td>2</td>\n",
       "      <td>0.246966</td>\n",
       "    </tr>\n",
       "    <tr>\n",
       "      <th>6</th>\n",
       "      <td>2</td>\n",
       "      <td>0</td>\n",
       "      <td>0.354455</td>\n",
       "    </tr>\n",
       "    <tr>\n",
       "      <th>7</th>\n",
       "      <td>2</td>\n",
       "      <td>1</td>\n",
       "      <td>0.295710</td>\n",
       "    </tr>\n",
       "    <tr>\n",
       "      <th>8</th>\n",
       "      <td>2</td>\n",
       "      <td>2</td>\n",
       "      <td>0.349835</td>\n",
       "    </tr>\n",
       "  </tbody>\n",
       "</table>\n",
       "</div>"
      ],
      "text/plain": [
       "  origin destination  transition_freq\n",
       "0      0           0         0.320457\n",
       "1      0           1         0.365071\n",
       "2      0           2         0.314472\n",
       "3      1           0         0.432039\n",
       "4      1           1         0.320995\n",
       "5      1           2         0.246966\n",
       "6      2           0         0.354455\n",
       "7      2           1         0.295710\n",
       "8      2           2         0.349835"
      ]
     },
     "execution_count": 8,
     "metadata": {},
     "output_type": "execute_result"
    }
   ],
   "source": [
    "transition_probabilities(x)"
   ]
  },
  {
   "cell_type": "code",
   "execution_count": 9,
   "metadata": {},
   "outputs": [
    {
     "name": "stdout",
     "output_type": "stream",
     "text": [
      "5002\n"
     ]
    },
    {
     "data": {
      "text/plain": [
       "0    2535\n",
       "1    2467\n",
       "dtype: int64"
      ]
     },
     "execution_count": 9,
     "metadata": {},
     "output_type": "execute_result"
    }
   ],
   "source": [
    "print(len(y))\n",
    "pd.Series(y).value_counts()"
   ]
  },
  {
   "cell_type": "code",
   "execution_count": 10,
   "metadata": {},
   "outputs": [
    {
     "data": {
      "text/html": [
       "<div>\n",
       "<style scoped>\n",
       "    .dataframe tbody tr th:only-of-type {\n",
       "        vertical-align: middle;\n",
       "    }\n",
       "\n",
       "    .dataframe tbody tr th {\n",
       "        vertical-align: top;\n",
       "    }\n",
       "\n",
       "    .dataframe thead th {\n",
       "        text-align: right;\n",
       "    }\n",
       "</style>\n",
       "<table border=\"1\" class=\"dataframe\">\n",
       "  <thead>\n",
       "    <tr style=\"text-align: right;\">\n",
       "      <th></th>\n",
       "      <th>origin</th>\n",
       "      <th>destination</th>\n",
       "      <th>transition_freq</th>\n",
       "    </tr>\n",
       "  </thead>\n",
       "  <tbody>\n",
       "    <tr>\n",
       "      <th>0</th>\n",
       "      <td>0</td>\n",
       "      <td>0</td>\n",
       "      <td>0.506314</td>\n",
       "    </tr>\n",
       "    <tr>\n",
       "      <th>1</th>\n",
       "      <td>0</td>\n",
       "      <td>1</td>\n",
       "      <td>0.493686</td>\n",
       "    </tr>\n",
       "    <tr>\n",
       "      <th>2</th>\n",
       "      <td>1</td>\n",
       "      <td>0</td>\n",
       "      <td>0.507094</td>\n",
       "    </tr>\n",
       "    <tr>\n",
       "      <th>3</th>\n",
       "      <td>1</td>\n",
       "      <td>1</td>\n",
       "      <td>0.492906</td>\n",
       "    </tr>\n",
       "  </tbody>\n",
       "</table>\n",
       "</div>"
      ],
      "text/plain": [
       "  origin destination  transition_freq\n",
       "0      0           0         0.506314\n",
       "1      0           1         0.493686\n",
       "2      1           0         0.507094\n",
       "3      1           1         0.492906"
      ]
     },
     "execution_count": 10,
     "metadata": {},
     "output_type": "execute_result"
    }
   ],
   "source": [
    "transition_probabilities(y)"
   ]
  },
  {
   "cell_type": "code",
   "execution_count": 19,
   "metadata": {
    "janus": {
     "all_versions_showing": false,
     "cell_hidden": false,
     "current_version": 0,
     "id": "416d84192ee5c8",
     "named_versions": [],
     "output_hidden": false,
     "show_versions": false,
     "source_hidden": false,
     "versions": []
    }
   },
   "outputs": [
    {
     "data": {
      "image/png": "[encoded data removed]",
      "text/plain": [
       "<Figure size 1080x216 with 1 Axes>"
      ]
     },
     "metadata": {},
     "output_type": "display_data"
    }
   ],
   "source": [
    "from src.ml.ctw.ctw import CTW\n",
    "\n",
    "ctw = CTW(depth=2,symbols=3)\n",
    "pxs = ctw.predict_sequence(x)\n",
    "plotprobs(pxs,estimate=True,plot_samples=100)"
   ]
  },
  {
   "cell_type": "code",
   "execution_count": null,
   "metadata": {},
   "outputs": [],
   "source": []
  },
  {
   "cell_type": "code",
   "execution_count": 12,
   "metadata": {},
   "outputs": [
    {
     "data": {
      "text/html": [
       "<div>\n",
       "<style scoped>\n",
       "    .dataframe tbody tr th:only-of-type {\n",
       "        vertical-align: middle;\n",
       "    }\n",
       "\n",
       "    .dataframe tbody tr th {\n",
       "        vertical-align: top;\n",
       "    }\n",
       "\n",
       "    .dataframe thead th {\n",
       "        text-align: right;\n",
       "    }\n",
       "</style>\n",
       "<table border=\"1\" class=\"dataframe\">\n",
       "  <thead>\n",
       "    <tr style=\"text-align: right;\">\n",
       "      <th></th>\n",
       "      <th>0</th>\n",
       "      <th>1</th>\n",
       "      <th>2</th>\n",
       "      <th>3</th>\n",
       "      <th>4</th>\n",
       "      <th>5</th>\n",
       "      <th>6</th>\n",
       "      <th>7</th>\n",
       "      <th>8</th>\n",
       "      <th>9</th>\n",
       "      <th>...</th>\n",
       "      <th>4990</th>\n",
       "      <th>4991</th>\n",
       "      <th>4992</th>\n",
       "      <th>4993</th>\n",
       "      <th>4994</th>\n",
       "      <th>4995</th>\n",
       "      <th>4996</th>\n",
       "      <th>4997</th>\n",
       "      <th>4998</th>\n",
       "      <th>4999</th>\n",
       "    </tr>\n",
       "  </thead>\n",
       "  <tbody>\n",
       "    <tr>\n",
       "      <th>0</th>\n",
       "      <td>0.333333</td>\n",
       "      <td>0.266667</td>\n",
       "      <td>0.187075</td>\n",
       "      <td>0.224242</td>\n",
       "      <td>0.180386</td>\n",
       "      <td>0.209145</td>\n",
       "      <td>0.146119</td>\n",
       "      <td>0.290196</td>\n",
       "      <td>0.432634</td>\n",
       "      <td>0.638871</td>\n",
       "      <td>...</td>\n",
       "      <td>0.125628</td>\n",
       "      <td>0.319298</td>\n",
       "      <td>0.376744</td>\n",
       "      <td>0.336323</td>\n",
       "      <td>0.328520</td>\n",
       "      <td>0.317073</td>\n",
       "      <td>0.304029</td>\n",
       "      <td>0.360269</td>\n",
       "      <td>0.301818</td>\n",
       "      <td>0.373219</td>\n",
       "    </tr>\n",
       "    <tr>\n",
       "      <th>1</th>\n",
       "      <td>0.333333</td>\n",
       "      <td>0.466667</td>\n",
       "      <td>0.625850</td>\n",
       "      <td>0.442424</td>\n",
       "      <td>0.358898</td>\n",
       "      <td>0.358171</td>\n",
       "      <td>0.306849</td>\n",
       "      <td>0.322549</td>\n",
       "      <td>0.266080</td>\n",
       "      <td>0.170877</td>\n",
       "      <td>...</td>\n",
       "      <td>0.216080</td>\n",
       "      <td>0.298246</td>\n",
       "      <td>0.283721</td>\n",
       "      <td>0.372197</td>\n",
       "      <td>0.509025</td>\n",
       "      <td>0.303136</td>\n",
       "      <td>0.362637</td>\n",
       "      <td>0.481481</td>\n",
       "      <td>0.360000</td>\n",
       "      <td>0.481481</td>\n",
       "    </tr>\n",
       "    <tr>\n",
       "      <th>2</th>\n",
       "      <td>0.333333</td>\n",
       "      <td>0.266667</td>\n",
       "      <td>0.187075</td>\n",
       "      <td>0.333333</td>\n",
       "      <td>0.460716</td>\n",
       "      <td>0.432684</td>\n",
       "      <td>0.547032</td>\n",
       "      <td>0.387255</td>\n",
       "      <td>0.301286</td>\n",
       "      <td>0.190252</td>\n",
       "      <td>...</td>\n",
       "      <td>0.658291</td>\n",
       "      <td>0.382456</td>\n",
       "      <td>0.339535</td>\n",
       "      <td>0.291480</td>\n",
       "      <td>0.162455</td>\n",
       "      <td>0.379791</td>\n",
       "      <td>0.333333</td>\n",
       "      <td>0.158249</td>\n",
       "      <td>0.338182</td>\n",
       "      <td>0.145299</td>\n",
       "    </tr>\n",
       "  </tbody>\n",
       "</table>\n",
       "<p>3 rows × 5000 columns</p>\n",
       "</div>"
      ],
      "text/plain": [
       "       0         1         2         3         4         5         6     \\\n",
       "0  0.333333  0.266667  0.187075  0.224242  0.180386  0.209145  0.146119   \n",
       "1  0.333333  0.466667  0.625850  0.442424  0.358898  0.358171  0.306849   \n",
       "2  0.333333  0.266667  0.187075  0.333333  0.460716  0.432684  0.547032   \n",
       "\n",
       "       7         8         9       ...         4990      4991      4992  \\\n",
       "0  0.290196  0.432634  0.638871    ...     0.125628  0.319298  0.376744   \n",
       "1  0.322549  0.266080  0.170877    ...     0.216080  0.298246  0.283721   \n",
       "2  0.387255  0.301286  0.190252    ...     0.658291  0.382456  0.339535   \n",
       "\n",
       "       4993      4994      4995      4996      4997      4998      4999  \n",
       "0  0.336323  0.328520  0.317073  0.304029  0.360269  0.301818  0.373219  \n",
       "1  0.372197  0.509025  0.303136  0.362637  0.481481  0.360000  0.481481  \n",
       "2  0.291480  0.162455  0.379791  0.333333  0.158249  0.338182  0.145299  \n",
       "\n",
       "[3 rows x 5000 columns]"
      ]
     },
     "execution_count": 12,
     "metadata": {},
     "output_type": "execute_result"
    }
   ],
   "source": [
    "pd.DataFrame(pxs)"
   ]
  },
  {
   "cell_type": "markdown",
   "metadata": {
    "janus": {
     "all_versions_showing": false,
     "cell_hidden": false,
     "current_version": 0,
     "id": "8bbdf406d700e8",
     "named_versions": [],
     "output_hidden": false,
     "show_versions": false,
     "source_hidden": false,
     "versions": []
    }
   },
   "source": [
    "We can see that by the end of the when using the correct tree, with access to side information, the probability assignments match the true probabilities."
   ]
  },
  {
   "cell_type": "code",
   "execution_count": null,
   "metadata": {},
   "outputs": [],
   "source": []
  },
  {
   "cell_type": "code",
   "execution_count": null,
   "metadata": {},
   "outputs": [],
   "source": []
  },
  {
   "cell_type": "code",
   "execution_count": null,
   "metadata": {},
   "outputs": [],
   "source": []
  },
  {
   "cell_type": "code",
   "execution_count": null,
   "metadata": {},
   "outputs": [],
   "source": []
  },
  {
   "cell_type": "code",
   "execution_count": 13,
   "metadata": {},
   "outputs": [],
   "source": [
    "def load_users_tags_sequence():\n",
    "    with open('outputs/users_tags_sequence.json') as json_file:\n",
    "        return json.load(json_file)\n",
    "    \n",
    "users_tags_sequence = load_users_tags_sequence()"
   ]
  },
  {
   "cell_type": "code",
   "execution_count": 14,
   "metadata": {},
   "outputs": [],
   "source": [
    "categ_mapper = CategoryMapper()"
   ]
  },
  {
   "cell_type": "code",
   "execution_count": 15,
   "metadata": {},
   "outputs": [],
   "source": [
    "def clean_sequence(sequence):\n",
    "    new_sequence = []\n",
    "    \n",
    "    for tags in sequence:\n",
    "        if \"parking\" in tags:\n",
    "            continue\n",
    "        else:\n",
    "            new_sequence.append(tags)\n",
    "\n",
    "    return new_sequence"
   ]
  },
  {
   "cell_type": "code",
   "execution_count": 16,
   "metadata": {},
   "outputs": [],
   "source": [
    "tags = clean_sequence(users_tags_sequence[\"6079\"])\n",
    "use_tags = []\n",
    "\n",
    "for tag in tags:\n",
    "    if tag == [\"WORK\"] or tag == [\"HOME\"]:\n",
    "        use_tags.append(tag)\n",
    "        \n",
    "    else:\n",
    "        try:\n",
    "            categ = categ_mapper.map_categ(tag, method=\"most_specific\")\n",
    "            use_tags.append(categ)\n",
    "\n",
    "        except NotValidTypes:\n",
    "            use_tags.append('')\n",
    "\n",
    "        except NoCategoryMatched:\n",
    "            use_tags.append(\"NoCategoryMatched\") "
   ]
  },
  {
   "cell_type": "code",
   "execution_count": 17,
   "metadata": {},
   "outputs": [
    {
     "name": "stdout",
     "output_type": "stream",
     "text": [
      "20\n"
     ]
    },
    {
     "data": {
      "text/plain": [
       "restaurant                118\n",
       "store                      42\n",
       "health                     35\n",
       "NoCategoryMatched          28\n",
       "school                     18\n",
       "place_of_worship           12\n",
       "transit_station            12\n",
       "beauty_salon               10\n",
       "finance                     9\n",
       "lodging                     9\n",
       "hair_care                   8\n",
       "cafe                        8\n",
       "bar                         8\n",
       "political                   4\n",
       "general_contractor          4\n",
       "grocery_or_supermarket      3\n",
       "travel_agency               3\n",
       "real_estate_agency          2\n",
       "lawyer                      2\n",
       "supermarket                 1\n",
       "dtype: int64"
      ]
     },
     "execution_count": 17,
     "metadata": {},
     "output_type": "execute_result"
    }
   ],
   "source": [
    "print(len(set(use_tags)))\n",
    "pd.Series(use_tags).value_counts()"
   ]
  },
  {
   "cell_type": "code",
   "execution_count": 18,
   "metadata": {},
   "outputs": [
    {
     "ename": "KeyError",
     "evalue": "\"['restaurant', 'cafe', 'restaurant', 'NoCategoryMatched']\"",
     "output_type": "error",
     "traceback": [
      "\u001b[0;31m---------------------------------------------------------------------------\u001b[0m",
      "\u001b[0;31mKeyError\u001b[0m                                  Traceback (most recent call last)",
      "\u001b[0;32m<ipython-input-18-8688a59c4dd6>\u001b[0m in \u001b[0;36m<module>\u001b[0;34m()\u001b[0m\n\u001b[1;32m      1\u001b[0m \u001b[0mctw\u001b[0m \u001b[0;34m=\u001b[0m \u001b[0mCTW\u001b[0m\u001b[0;34m(\u001b[0m\u001b[0mdepth\u001b[0m\u001b[0;34m=\u001b[0m\u001b[0;36m4\u001b[0m\u001b[0;34m,\u001b[0m\u001b[0msymbols\u001b[0m\u001b[0;34m=\u001b[0m\u001b[0mlen\u001b[0m\u001b[0;34m(\u001b[0m\u001b[0mset\u001b[0m\u001b[0;34m(\u001b[0m\u001b[0muse_tags\u001b[0m\u001b[0;34m)\u001b[0m\u001b[0;34m)\u001b[0m\u001b[0;34m)\u001b[0m\u001b[0;34m\u001b[0m\u001b[0m\n\u001b[0;32m----> 2\u001b[0;31m \u001b[0mpxs\u001b[0m \u001b[0;34m=\u001b[0m \u001b[0mctw\u001b[0m\u001b[0;34m.\u001b[0m\u001b[0mpredict_sequence\u001b[0m\u001b[0;34m(\u001b[0m\u001b[0muse_tags\u001b[0m\u001b[0;34m)\u001b[0m\u001b[0;34m\u001b[0m\u001b[0m\n\u001b[0m\u001b[1;32m      3\u001b[0m \u001b[0;31m#plotprobs(pxs,estimate=True,plot_samples=100)\u001b[0m\u001b[0;34m\u001b[0m\u001b[0;34m\u001b[0m\u001b[0m\n",
      "\u001b[0;32m~/dev/master/mdc_analysis/src/ml/ctw/ctw.py\u001b[0m in \u001b[0;36mpredict_sequence\u001b[0;34m(self, seq, sideseq)\u001b[0m\n",
      "\u001b[0;32m~/dev/master/mdc_analysis/src/ml/ctw/ctw.py\u001b[0m in \u001b[0;36mupdate\u001b[0;34m(self, symbol, context)\u001b[0m\n",
      "\u001b[0;31mKeyError\u001b[0m: \"['restaurant', 'cafe', 'restaurant', 'NoCategoryMatched']\""
     ]
    }
   ],
   "source": [
    "ctw = CTW(depth=4,symbols=len(set(use_tags)))\n",
    "pxs = ctw.predict_sequence(use_tags)\n",
    "#plotprobs(pxs,estimate=True,plot_samples=100)"
   ]
  },
  {
   "cell_type": "markdown",
   "metadata": {
    "janus": {
     "all_versions_showing": false,
     "cell_hidden": false,
     "current_version": 0,
     "id": "bc5c2f6539513",
     "named_versions": [],
     "output_hidden": false,
     "show_versions": false,
     "source_hidden": false,
     "versions": []
    }
   },
   "source": [
    "## 3. Sequential Probability Assignment with Depth-3 CTW (w/ side info)\n",
    "\n",
    "Next we will create sequential probability assignments from a depth-3 context tree. While (slightly) less efficient, we would hope that the probability assignments would be equally good after enough samples."
   ]
  },
  {
   "cell_type": "code",
   "execution_count": null,
   "metadata": {
    "janus": {
     "all_versions_showing": false,
     "cell_hidden": false,
     "current_version": 0,
     "id": "24c3f22968ddd8",
     "named_versions": [],
     "output_hidden": false,
     "show_versions": false,
     "source_hidden": false,
     "versions": []
    }
   },
   "outputs": [],
   "source": [
    "ctw = CTW(depth=3,symbols=3,sidesymbols=2)\n",
    "pxs = ctw.predict_sequence(x,sideseq=y)\n",
    "plotprobs(pxs,estimate=True,plot_samples=100)"
   ]
  },
  {
   "cell_type": "markdown",
   "metadata": {
    "janus": {
     "all_versions_showing": false,
     "cell_hidden": false,
     "current_version": 0,
     "id": "87ea41a4b67b98",
     "named_versions": [],
     "output_hidden": false,
     "show_versions": false,
     "source_hidden": false,
     "versions": []
    }
   },
   "source": [
    "## 4. Sequential Probability Assignment with Depth-1 CTW (w/ side info)\n",
    "By reducing the depth to make the tree too shallow, we will expect worse performance. In particular, consider the following two contexts from the parameter dictionary:\n",
    "\n",
    "    '[[0,2],[0,0]]':([1/6,1/6,2/3],[1/2]*2)\n",
    "    '[[0,2],[0,1]]':([1/3,1/2,1/6],[1/2]*2)\n",
    "    \n",
    "Note that they have the same depth-1 context but different depth-2 contexts. Then given that they have different parameter vectors, the predictability of $X_n$ when the depth-1 context is $(0,0)$ is going to be much worse."
   ]
  },
  {
   "cell_type": "code",
   "execution_count": null,
   "metadata": {
    "janus": {
     "all_versions_showing": false,
     "cell_hidden": false,
     "current_version": 0,
     "id": "3dfc75394a3348",
     "named_versions": [],
     "output_hidden": false,
     "show_versions": false,
     "source_hidden": false,
     "versions": []
    },
    "run_control": {
     "marked": true
    }
   },
   "outputs": [],
   "source": [
    "ctw = CTW(depth=1,symbols=3,sidesymbols=2)\n",
    "pxs = ctw.predict_sequence(x,sideseq=y)\n",
    "plotprobs(pxs,estimate=True,plot_samples=100)"
   ]
  },
  {
   "cell_type": "markdown",
   "metadata": {
    "janus": {
     "all_versions_showing": false,
     "cell_hidden": false,
     "current_version": 0,
     "id": "42935cf2843a88",
     "named_versions": [],
     "output_hidden": false,
     "show_versions": false,
     "source_hidden": false,
     "versions": []
    }
   },
   "source": [
    "## 5. Sequential Probability Assignment with Depth-2 CTW (w/o side info)\n",
    "Similarly to above, if we remove the sideinformation, we can expect a decrease in accuracy from the probability assignments. This \"decrease in accuracy\" can be used to measure the causal influence of $Y$ on $X$."
   ]
  },
  {
   "cell_type": "code",
   "execution_count": null,
   "metadata": {
    "janus": {
     "all_versions_showing": false,
     "cell_hidden": false,
     "current_version": 0,
     "id": "c608cc67561c",
     "named_versions": [],
     "output_hidden": false,
     "show_versions": false,
     "source_hidden": false,
     "versions": []
    }
   },
   "outputs": [],
   "source": [
    "ctw = CTW(depth=2,symbols=3)\n",
    "pxs = ctw.predict_sequence(x)\n",
    "plotprobs(pxs,estimate=True,plot_samples=100)"
   ]
  },
  {
   "cell_type": "markdown",
   "metadata": {
    "janus": {
     "all_versions_showing": false,
     "cell_hidden": false,
     "current_version": 0,
     "id": "e39827e62ac27",
     "named_versions": [],
     "output_hidden": false,
     "show_versions": false,
     "source_hidden": false,
     "versions": []
    }
   },
   "source": [
    "## 6. Sequential Probability Assignment with Depth-4 CTW (w/ 2-stale side info)\n",
    "Suppose that $X$ and $Y$ are jointly $d$-Markov. Then when including $Y$ as side info when predicting $X$, we only need a tree of depth $d$. In general however, we cannot assume that $X$ is marginally $d$-Markov when leaving out the side info. As such the scenario considered above (example 5) may not be a true representation of how well $X$ can be predicted from its own past. To account for this, we can predict $X$ based on *stale side info*. In this case, we leave out the $k$ most recent samples of side info."
   ]
  },
  {
   "cell_type": "code",
   "execution_count": null,
   "metadata": {
    "janus": {
     "all_versions_showing": false,
     "cell_hidden": false,
     "current_version": 0,
     "id": "a1d715e7863f1",
     "named_versions": [],
     "output_hidden": false,
     "show_versions": false,
     "source_hidden": false,
     "versions": []
    }
   },
   "outputs": [],
   "source": [
    "from ctw import CTW\n",
    "\n",
    "ctw = CTW(depth=4,symbols=3,sidesymbols=2,staleness=2)\n",
    "pxs = ctw.predict_sequence(x,y)\n",
    "plotprobs(pxs,estimate=True,plot_samples=100)"
   ]
  },
  {
   "cell_type": "code",
   "execution_count": null,
   "metadata": {},
   "outputs": [],
   "source": []
  }
 ],
 "metadata": {
  "anaconda-cloud": {},
  "janus": {
   "filepaths": [
    [
     "2e0a9c20",
     1524701758208,
     1524716085282
    ],
    [
     "fa4bd7af",
     1524759221416,
     1525458036148
    ]
   ],
   "janus_markers": [],
   "track_history": true
  },
  "kernelspec": {
   "display_name": "Python 3",
   "language": "python",
   "name": "python3"
  },
  "language_info": {
   "codemirror_mode": {
    "name": "ipython",
    "version": 3
   },
   "file_extension": ".py",
   "mimetype": "text/x-python",
   "name": "python",
   "nbconvert_exporter": "python",
   "pygments_lexer": "ipython3",
   "version": "3.6.5"
  },
  "latex_envs": {
   "bibliofile": "biblio.bib",
   "cite_by": "apalike",
   "current_citInitial": 1,
   "eqLabelWithNumbers": true,
   "eqNumInitial": 0
  }
 },
 "nbformat": 4,
 "nbformat_minor": 2
}
