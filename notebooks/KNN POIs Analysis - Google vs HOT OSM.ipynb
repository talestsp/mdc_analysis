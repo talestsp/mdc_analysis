{
 "cells": [
  {
   "cell_type": "code",
   "execution_count": 1,
   "metadata": {},
   "outputs": [
    {
     "name": "stdout",
     "output_type": "stream",
     "text": [
      "working dir /home/tales/dev/master/mdc_analysis\n"
     ]
    },
    {
     "data": {
      "text/html": [
       "\n",
       "    <div class=\"bk-root\">\n",
       "        <a href=\"https://bokeh.pydata.org\" target=\"_blank\" class=\"bk-logo bk-logo-small bk-logo-notebook\"></a>\n",
       "        <span id=\"e2508ed6-7658-4bd3-97f0-4d4d4f1f1075\">Loading BokehJS ...</span>\n",
       "    </div>"
      ]
     },
     "metadata": {},
     "output_type": "display_data"
    },
    {
     "data": {
      "application/javascript": [
       "\n",
       "(function(root) {\n",
       "  function now() {\n",
       "    return new Date();\n",
       "  }\n",
       "\n",
       "  var force = true;\n",
       "\n",
       "  if (typeof (root._bokeh_onload_callbacks) === \"undefined\" || force === true) {\n",
       "    root._bokeh_onload_callbacks = [];\n",
       "    root._bokeh_is_loading = undefined;\n",
       "  }\n",
       "\n",
       "  var JS_MIME_TYPE = 'application/javascript';\n",
       "  var HTML_MIME_TYPE = 'text/html';\n",
       "  var EXEC_MIME_TYPE = 'application/vnd.bokehjs_exec.v0+json';\n",
       "  var CLASS_NAME = 'output_bokeh rendered_html';\n",
       "\n",
       "  /**\n",
       "   * Render data to the DOM node\n",
       "   */\n",
       "  function render(props, node) {\n",
       "    var script = document.createElement(\"script\");\n",
       "    node.appendChild(script);\n",
       "  }\n",
       "\n",
       "  /**\n",
       "   * Handle when an output is cleared or removed\n",
       "   */\n",
       "  function handleClearOutput(event, handle) {\n",
       "    var cell = handle.cell;\n",
       "\n",
       "    var id = cell.output_area._bokeh_element_id;\n",
       "    var server_id = cell.output_area._bokeh_server_id;\n",
       "    // Clean up Bokeh references\n",
       "    if (id != null && id in Bokeh.index) {\n",
       "      Bokeh.index[id].model.document.clear();\n",
       "      delete Bokeh.index[id];\n",
       "    }\n",
       "\n",
       "    if (server_id !== undefined) {\n",
       "      // Clean up Bokeh references\n",
       "      var cmd = \"from bokeh.io.state import curstate; print(curstate().uuid_to_server['\" + server_id + \"'].get_sessions()[0].document.roots[0]._id)\";\n",
       "      cell.notebook.kernel.execute(cmd, {\n",
       "        iopub: {\n",
       "          output: function(msg) {\n",
       "            var id = msg.content.text.trim();\n",
       "            if (id in Bokeh.index) {\n",
       "              Bokeh.index[id].model.document.clear();\n",
       "              delete Bokeh.index[id];\n",
       "            }\n",
       "          }\n",
       "        }\n",
       "      });\n",
       "      // Destroy server and session\n",
       "      var cmd = \"import bokeh.io.notebook as ion; ion.destroy_server('\" + server_id + \"')\";\n",
       "      cell.notebook.kernel.execute(cmd);\n",
       "    }\n",
       "  }\n",
       "\n",
       "  /**\n",
       "   * Handle when a new output is added\n",
       "   */\n",
       "  function handleAddOutput(event, handle) {\n",
       "    var output_area = handle.output_area;\n",
       "    var output = handle.output;\n",
       "\n",
       "    // limit handleAddOutput to display_data with EXEC_MIME_TYPE content only\n",
       "    if ((output.output_type != \"display_data\") || (!output.data.hasOwnProperty(EXEC_MIME_TYPE))) {\n",
       "      return\n",
       "    }\n",
       "\n",
       "    var toinsert = output_area.element.find(\".\" + CLASS_NAME.split(' ')[0]);\n",
       "\n",
       "    if (output.metadata[EXEC_MIME_TYPE][\"id\"] !== undefined) {\n",
       "      toinsert[toinsert.length - 1].firstChild.textContent = output.data[JS_MIME_TYPE];\n",
       "      // store reference to embed id on output_area\n",
       "      output_area._bokeh_element_id = output.metadata[EXEC_MIME_TYPE][\"id\"];\n",
       "    }\n",
       "    if (output.metadata[EXEC_MIME_TYPE][\"server_id\"] !== undefined) {\n",
       "      var bk_div = document.createElement(\"div\");\n",
       "      bk_div.innerHTML = output.data[HTML_MIME_TYPE];\n",
       "      var script_attrs = bk_div.children[0].attributes;\n",
       "      for (var i = 0; i < script_attrs.length; i++) {\n",
       "        toinsert[toinsert.length - 1].firstChild.setAttribute(script_attrs[i].name, script_attrs[i].value);\n",
       "      }\n",
       "      // store reference to server id on output_area\n",
       "      output_area._bokeh_server_id = output.metadata[EXEC_MIME_TYPE][\"server_id\"];\n",
       "    }\n",
       "  }\n",
       "\n",
       "  function register_renderer(events, OutputArea) {\n",
       "\n",
       "    function append_mime(data, metadata, element) {\n",
       "      // create a DOM node to render to\n",
       "      var toinsert = this.create_output_subarea(\n",
       "        metadata,\n",
       "        CLASS_NAME,\n",
       "        EXEC_MIME_TYPE\n",
       "      );\n",
       "      this.keyboard_manager.register_events(toinsert);\n",
       "      // Render to node\n",
       "      var props = {data: data, metadata: metadata[EXEC_MIME_TYPE]};\n",
       "      render(props, toinsert[toinsert.length - 1]);\n",
       "      element.append(toinsert);\n",
       "      return toinsert\n",
       "    }\n",
       "\n",
       "    /* Handle when an output is cleared or removed */\n",
       "    events.on('clear_output.CodeCell', handleClearOutput);\n",
       "    events.on('delete.Cell', handleClearOutput);\n",
       "\n",
       "    /* Handle when a new output is added */\n",
       "    events.on('output_added.OutputArea', handleAddOutput);\n",
       "\n",
       "    /**\n",
       "     * Register the mime type and append_mime function with output_area\n",
       "     */\n",
       "    OutputArea.prototype.register_mime_type(EXEC_MIME_TYPE, append_mime, {\n",
       "      /* Is output safe? */\n",
       "      safe: true,\n",
       "      /* Index of renderer in `output_area.display_order` */\n",
       "      index: 0\n",
       "    });\n",
       "  }\n",
       "\n",
       "  // register the mime type if in Jupyter Notebook environment and previously unregistered\n",
       "  if (root.Jupyter !== undefined) {\n",
       "    var events = require('base/js/events');\n",
       "    var OutputArea = require('notebook/js/outputarea').OutputArea;\n",
       "\n",
       "    if (OutputArea.prototype.mime_types().indexOf(EXEC_MIME_TYPE) == -1) {\n",
       "      register_renderer(events, OutputArea);\n",
       "    }\n",
       "  }\n",
       "\n",
       "  \n",
       "  if (typeof (root._bokeh_timeout) === \"undefined\" || force === true) {\n",
       "    root._bokeh_timeout = Date.now() + 5000;\n",
       "    root._bokeh_failed_load = false;\n",
       "  }\n",
       "\n",
       "  var NB_LOAD_WARNING = {'data': {'text/html':\n",
       "     \"<div style='background-color: #fdd'>\\n\"+\n",
       "     \"<p>\\n\"+\n",
       "     \"BokehJS does not appear to have successfully loaded. If loading BokehJS from CDN, this \\n\"+\n",
       "     \"may be due to a slow or bad network connection. Possible fixes:\\n\"+\n",
       "     \"</p>\\n\"+\n",
       "     \"<ul>\\n\"+\n",
       "     \"<li>re-rerun `output_notebook()` to attempt to load from CDN again, or</li>\\n\"+\n",
       "     \"<li>use INLINE resources instead, as so:</li>\\n\"+\n",
       "     \"</ul>\\n\"+\n",
       "     \"<code>\\n\"+\n",
       "     \"from bokeh.resources import INLINE\\n\"+\n",
       "     \"output_notebook(resources=INLINE)\\n\"+\n",
       "     \"</code>\\n\"+\n",
       "     \"</div>\"}};\n",
       "\n",
       "  function display_loaded() {\n",
       "    var el = document.getElementById(\"e2508ed6-7658-4bd3-97f0-4d4d4f1f1075\");\n",
       "    if (el != null) {\n",
       "      el.textContent = \"BokehJS is loading...\";\n",
       "    }\n",
       "    if (root.Bokeh !== undefined) {\n",
       "      if (el != null) {\n",
       "        el.textContent = \"BokehJS \" + root.Bokeh.version + \" successfully loaded.\";\n",
       "      }\n",
       "    } else if (Date.now() < root._bokeh_timeout) {\n",
       "      setTimeout(display_loaded, 100)\n",
       "    }\n",
       "  }\n",
       "\n",
       "\n",
       "  function run_callbacks() {\n",
       "    try {\n",
       "      root._bokeh_onload_callbacks.forEach(function(callback) { callback() });\n",
       "    }\n",
       "    finally {\n",
       "      delete root._bokeh_onload_callbacks\n",
       "    }\n",
       "    console.info(\"Bokeh: all callbacks have finished\");\n",
       "  }\n",
       "\n",
       "  function load_libs(js_urls, callback) {\n",
       "    root._bokeh_onload_callbacks.push(callback);\n",
       "    if (root._bokeh_is_loading > 0) {\n",
       "      console.log(\"Bokeh: BokehJS is being loaded, scheduling callback at\", now());\n",
       "      return null;\n",
       "    }\n",
       "    if (js_urls == null || js_urls.length === 0) {\n",
       "      run_callbacks();\n",
       "      return null;\n",
       "    }\n",
       "    console.log(\"Bokeh: BokehJS not loaded, scheduling load and callback at\", now());\n",
       "    root._bokeh_is_loading = js_urls.length;\n",
       "    for (var i = 0; i < js_urls.length; i++) {\n",
       "      var url = js_urls[i];\n",
       "      var s = document.createElement('script');\n",
       "      s.src = url;\n",
       "      s.async = false;\n",
       "      s.onreadystatechange = s.onload = function() {\n",
       "        root._bokeh_is_loading--;\n",
       "        if (root._bokeh_is_loading === 0) {\n",
       "          console.log(\"Bokeh: all BokehJS libraries loaded\");\n",
       "          run_callbacks()\n",
       "        }\n",
       "      };\n",
       "      s.onerror = function() {\n",
       "        console.warn(\"failed to load library \" + url);\n",
       "      };\n",
       "      console.log(\"Bokeh: injecting script tag for BokehJS library: \", url);\n",
       "      document.getElementsByTagName(\"head\")[0].appendChild(s);\n",
       "    }\n",
       "  };var element = document.getElementById(\"e2508ed6-7658-4bd3-97f0-4d4d4f1f1075\");\n",
       "  if (element == null) {\n",
       "    console.log(\"Bokeh: ERROR: autoload.js configured with elementid 'e2508ed6-7658-4bd3-97f0-4d4d4f1f1075' but no matching script tag was found. \")\n",
       "    return false;\n",
       "  }\n",
       "\n",
       "  var js_urls = [\"https://cdn.pydata.org/bokeh/release/bokeh-0.13.0.min.js\", \"https://cdn.pydata.org/bokeh/release/bokeh-widgets-0.13.0.min.js\", \"https://cdn.pydata.org/bokeh/release/bokeh-tables-0.13.0.min.js\", \"https://cdn.pydata.org/bokeh/release/bokeh-gl-0.13.0.min.js\"];\n",
       "\n",
       "  var inline_js = [\n",
       "    function(Bokeh) {\n",
       "      Bokeh.set_log_level(\"info\");\n",
       "    },\n",
       "    \n",
       "    function(Bokeh) {\n",
       "      \n",
       "    },\n",
       "    function(Bokeh) {\n",
       "      console.log(\"Bokeh: injecting CSS: https://cdn.pydata.org/bokeh/release/bokeh-0.13.0.min.css\");\n",
       "      Bokeh.embed.inject_css(\"https://cdn.pydata.org/bokeh/release/bokeh-0.13.0.min.css\");\n",
       "      console.log(\"Bokeh: injecting CSS: https://cdn.pydata.org/bokeh/release/bokeh-widgets-0.13.0.min.css\");\n",
       "      Bokeh.embed.inject_css(\"https://cdn.pydata.org/bokeh/release/bokeh-widgets-0.13.0.min.css\");\n",
       "      console.log(\"Bokeh: injecting CSS: https://cdn.pydata.org/bokeh/release/bokeh-tables-0.13.0.min.css\");\n",
       "      Bokeh.embed.inject_css(\"https://cdn.pydata.org/bokeh/release/bokeh-tables-0.13.0.min.css\");\n",
       "    }\n",
       "  ];\n",
       "\n",
       "  function run_inline_js() {\n",
       "    \n",
       "    if ((root.Bokeh !== undefined) || (force === true)) {\n",
       "      for (var i = 0; i < inline_js.length; i++) {\n",
       "        inline_js[i].call(root, root.Bokeh);\n",
       "      }if (force === true) {\n",
       "        display_loaded();\n",
       "      }} else if (Date.now() < root._bokeh_timeout) {\n",
       "      setTimeout(run_inline_js, 100);\n",
       "    } else if (!root._bokeh_failed_load) {\n",
       "      console.log(\"Bokeh: BokehJS failed to load within specified timeout.\");\n",
       "      root._bokeh_failed_load = true;\n",
       "    } else if (force !== true) {\n",
       "      var cell = $(document.getElementById(\"e2508ed6-7658-4bd3-97f0-4d4d4f1f1075\")).parents('.cell').data().cell;\n",
       "      cell.output_area.append_execute_result(NB_LOAD_WARNING)\n",
       "    }\n",
       "\n",
       "  }\n",
       "\n",
       "  if (root._bokeh_is_loading === 0) {\n",
       "    console.log(\"Bokeh: BokehJS loaded, going straight to plotting\");\n",
       "    run_inline_js();\n",
       "  } else {\n",
       "    load_libs(js_urls, function() {\n",
       "      console.log(\"Bokeh: BokehJS plotting callback run at\", now());\n",
       "      run_inline_js();\n",
       "    });\n",
       "  }\n",
       "}(window));"
      ],
      "application/vnd.bokehjs_load.v0+json": "\n(function(root) {\n  function now() {\n    return new Date();\n  }\n\n  var force = true;\n\n  if (typeof (root._bokeh_onload_callbacks) === \"undefined\" || force === true) {\n    root._bokeh_onload_callbacks = [];\n    root._bokeh_is_loading = undefined;\n  }\n\n  \n\n  \n  if (typeof (root._bokeh_timeout) === \"undefined\" || force === true) {\n    root._bokeh_timeout = Date.now() + 5000;\n    root._bokeh_failed_load = false;\n  }\n\n  var NB_LOAD_WARNING = {'data': {'text/html':\n     \"<div style='background-color: #fdd'>\\n\"+\n     \"<p>\\n\"+\n     \"BokehJS does not appear to have successfully loaded. If loading BokehJS from CDN, this \\n\"+\n     \"may be due to a slow or bad network connection. Possible fixes:\\n\"+\n     \"</p>\\n\"+\n     \"<ul>\\n\"+\n     \"<li>re-rerun `output_notebook()` to attempt to load from CDN again, or</li>\\n\"+\n     \"<li>use INLINE resources instead, as so:</li>\\n\"+\n     \"</ul>\\n\"+\n     \"<code>\\n\"+\n     \"from bokeh.resources import INLINE\\n\"+\n     \"output_notebook(resources=INLINE)\\n\"+\n     \"</code>\\n\"+\n     \"</div>\"}};\n\n  function display_loaded() {\n    var el = document.getElementById(\"e2508ed6-7658-4bd3-97f0-4d4d4f1f1075\");\n    if (el != null) {\n      el.textContent = \"BokehJS is loading...\";\n    }\n    if (root.Bokeh !== undefined) {\n      if (el != null) {\n        el.textContent = \"BokehJS \" + root.Bokeh.version + \" successfully loaded.\";\n      }\n    } else if (Date.now() < root._bokeh_timeout) {\n      setTimeout(display_loaded, 100)\n    }\n  }\n\n\n  function run_callbacks() {\n    try {\n      root._bokeh_onload_callbacks.forEach(function(callback) { callback() });\n    }\n    finally {\n      delete root._bokeh_onload_callbacks\n    }\n    console.info(\"Bokeh: all callbacks have finished\");\n  }\n\n  function load_libs(js_urls, callback) {\n    root._bokeh_onload_callbacks.push(callback);\n    if (root._bokeh_is_loading > 0) {\n      console.log(\"Bokeh: BokehJS is being loaded, scheduling callback at\", now());\n      return null;\n    }\n    if (js_urls == null || js_urls.length === 0) {\n      run_callbacks();\n      return null;\n    }\n    console.log(\"Bokeh: BokehJS not loaded, scheduling load and callback at\", now());\n    root._bokeh_is_loading = js_urls.length;\n    for (var i = 0; i < js_urls.length; i++) {\n      var url = js_urls[i];\n      var s = document.createElement('script');\n      s.src = url;\n      s.async = false;\n      s.onreadystatechange = s.onload = function() {\n        root._bokeh_is_loading--;\n        if (root._bokeh_is_loading === 0) {\n          console.log(\"Bokeh: all BokehJS libraries loaded\");\n          run_callbacks()\n        }\n      };\n      s.onerror = function() {\n        console.warn(\"failed to load library \" + url);\n      };\n      console.log(\"Bokeh: injecting script tag for BokehJS library: \", url);\n      document.getElementsByTagName(\"head\")[0].appendChild(s);\n    }\n  };var element = document.getElementById(\"e2508ed6-7658-4bd3-97f0-4d4d4f1f1075\");\n  if (element == null) {\n    console.log(\"Bokeh: ERROR: autoload.js configured with elementid 'e2508ed6-7658-4bd3-97f0-4d4d4f1f1075' but no matching script tag was found. \")\n    return false;\n  }\n\n  var js_urls = [\"https://cdn.pydata.org/bokeh/release/bokeh-0.13.0.min.js\", \"https://cdn.pydata.org/bokeh/release/bokeh-widgets-0.13.0.min.js\", \"https://cdn.pydata.org/bokeh/release/bokeh-tables-0.13.0.min.js\", \"https://cdn.pydata.org/bokeh/release/bokeh-gl-0.13.0.min.js\"];\n\n  var inline_js = [\n    function(Bokeh) {\n      Bokeh.set_log_level(\"info\");\n    },\n    \n    function(Bokeh) {\n      \n    },\n    function(Bokeh) {\n      console.log(\"Bokeh: injecting CSS: https://cdn.pydata.org/bokeh/release/bokeh-0.13.0.min.css\");\n      Bokeh.embed.inject_css(\"https://cdn.pydata.org/bokeh/release/bokeh-0.13.0.min.css\");\n      console.log(\"Bokeh: injecting CSS: https://cdn.pydata.org/bokeh/release/bokeh-widgets-0.13.0.min.css\");\n      Bokeh.embed.inject_css(\"https://cdn.pydata.org/bokeh/release/bokeh-widgets-0.13.0.min.css\");\n      console.log(\"Bokeh: injecting CSS: https://cdn.pydata.org/bokeh/release/bokeh-tables-0.13.0.min.css\");\n      Bokeh.embed.inject_css(\"https://cdn.pydata.org/bokeh/release/bokeh-tables-0.13.0.min.css\");\n    }\n  ];\n\n  function run_inline_js() {\n    \n    if ((root.Bokeh !== undefined) || (force === true)) {\n      for (var i = 0; i < inline_js.length; i++) {\n        inline_js[i].call(root, root.Bokeh);\n      }if (force === true) {\n        display_loaded();\n      }} else if (Date.now() < root._bokeh_timeout) {\n      setTimeout(run_inline_js, 100);\n    } else if (!root._bokeh_failed_load) {\n      console.log(\"Bokeh: BokehJS failed to load within specified timeout.\");\n      root._bokeh_failed_load = true;\n    } else if (force !== true) {\n      var cell = $(document.getElementById(\"e2508ed6-7658-4bd3-97f0-4d4d4f1f1075\")).parents('.cell').data().cell;\n      cell.output_area.append_execute_result(NB_LOAD_WARNING)\n    }\n\n  }\n\n  if (root._bokeh_is_loading === 0) {\n    console.log(\"Bokeh: BokehJS loaded, going straight to plotting\");\n    run_inline_js();\n  } else {\n    load_libs(js_urls, function() {\n      console.log(\"Bokeh: BokehJS plotting callback run at\", now());\n      run_inline_js();\n    });\n  }\n}(window));"
     },
     "metadata": {},
     "output_type": "display_data"
    }
   ],
   "source": [
    "import os\n",
    "\n",
    "os.chdir(\"/home/tales/dev/master/mdc_analysis/\")\n",
    "print(\"working dir\", os.getcwd())\n",
    "\n",
    "import pandas as pd\n",
    "import matplotlib.pyplot as plt\n",
    "\n",
    "import gc\n",
    "from src.dao import csv_dao\n",
    "from src.plot import plot\n",
    "from src.utils import geo\n",
    "from src.poi_grabber.google_places import nearby_search\n",
    "\n",
    "from bokeh.io import output_notebook, show\n",
    "output_notebook()\n",
    "\n",
    "pd.set_option('display.float_format', lambda x: '%.4f' % x)\n",
    "\n",
    "import warnings\n",
    "warnings.filterwarnings('ignore')\n",
    "\n",
    "import pandas as pd\n",
    "pd.set_option('display.max_rows', 500)\n",
    "pd.set_option('display.max_columns', 500)\n",
    "pd.set_option('display.width', 1000)"
   ]
  },
  {
   "cell_type": "markdown",
   "metadata": {},
   "source": [
    "# Stop Region nearest POIs "
   ]
  },
  {
   "cell_type": "markdown",
   "metadata": {},
   "source": [
    "## HOT OSM POIs"
   ]
  },
  {
   "cell_type": "code",
   "execution_count": 13,
   "metadata": {},
   "outputs": [],
   "source": [
    "def valid_pois_hotosm(pois):\n",
    "    return pois[pois[\"amenity\"].isna() == False]\n",
    "\n",
    "def valid_pois_google(google_places_data):\n",
    "    return google_places_data[~( (google_places_data[\"types\"].apply(len) == 2) & (google_places_data[\"types\"].apply(lambda list : \"point_of_interest\" in list)) & (google_places_data[\"types\"].apply(lambda list : \"establishment\" in list)) )]\n",
    "\n",
    "def unique_stop_regions(stop_regions, on_cols=[\"lat_sr\", \"lon_sr\"]):\n",
    "    unique_sr = stop_regions.drop_duplicates(subset=on_cols, keep=\"first\")[\"sr_id\"].tolist()\n",
    "    return stop_regions[stop_regions[\"sr_id\"].isin(unique_sr)]\n",
    "\n",
    "def load_sr_knn_pois_single_user(user_id):\n",
    "    user_knn_pois = csv_dao.load_sr_distance_to_close_pois(user_id)\n",
    "    user_knn_pois[\"user_id\"] = user_id\n",
    "    return user_knn_pois\n",
    "\n",
    "def load_sr_knn_pois(users):\n",
    "    knn_pois = pd.DataFrame()\n",
    "    \n",
    "    for user in users:\n",
    "        try:\n",
    "            user_knn_pois = load_sr_knn_pois_single_user(user)\n",
    "            #print(\"User {} data loaded\".format(user))\n",
    "        except FileNotFoundError:\n",
    "            continue\n",
    "            \n",
    "        user_knn_pois[\"user\"] = user\n",
    "        knn_pois = knn_pois.append(user_knn_pois)\n",
    "    print(\"done!\")\n",
    "    return knn_pois"
   ]
  },
  {
   "cell_type": "markdown",
   "metadata": {},
   "source": [
    "## Stop Regions for all users"
   ]
  },
  {
   "cell_type": "code",
   "execution_count": 7,
   "metadata": {},
   "outputs": [
    {
     "name": "stdout",
     "output_type": "stream",
     "text": [
      "All Stop Regions:    120607\n"
     ]
    },
    {
     "data": {
      "text/html": [
       "<div>\n",
       "<style scoped>\n",
       "    .dataframe tbody tr th:only-of-type {\n",
       "        vertical-align: middle;\n",
       "    }\n",
       "\n",
       "    .dataframe tbody tr th {\n",
       "        vertical-align: top;\n",
       "    }\n",
       "\n",
       "    .dataframe thead th {\n",
       "        text-align: right;\n",
       "    }\n",
       "</style>\n",
       "<table border=\"1\" class=\"dataframe\">\n",
       "  <thead>\n",
       "    <tr style=\"text-align: right;\">\n",
       "      <th></th>\n",
       "      <th>latitude</th>\n",
       "      <th>longitude</th>\n",
       "      <th>sr_id</th>\n",
       "    </tr>\n",
       "  </thead>\n",
       "  <tbody>\n",
       "    <tr>\n",
       "      <th>57</th>\n",
       "      <td>46.5100</td>\n",
       "      <td>6.5600</td>\n",
       "      <td>6087_15</td>\n",
       "    </tr>\n",
       "    <tr>\n",
       "      <th>691</th>\n",
       "      <td>46.4594</td>\n",
       "      <td>6.8429</td>\n",
       "      <td>6188_720</td>\n",
       "    </tr>\n",
       "    <tr>\n",
       "      <th>608</th>\n",
       "      <td>46.1700</td>\n",
       "      <td>6.1600</td>\n",
       "      <td>5927_1545</td>\n",
       "    </tr>\n",
       "    <tr>\n",
       "      <th>1267</th>\n",
       "      <td>46.8900</td>\n",
       "      <td>7.5300</td>\n",
       "      <td>5991_475</td>\n",
       "    </tr>\n",
       "    <tr>\n",
       "      <th>1553</th>\n",
       "      <td>46.9998</td>\n",
       "      <td>6.9496</td>\n",
       "      <td>5947_570</td>\n",
       "    </tr>\n",
       "    <tr>\n",
       "      <th>2726</th>\n",
       "      <td>46.1890</td>\n",
       "      <td>6.1543</td>\n",
       "      <td>5927_463</td>\n",
       "    </tr>\n",
       "  </tbody>\n",
       "</table>\n",
       "</div>"
      ],
      "text/plain": [
       "      latitude  longitude      sr_id\n",
       "57     46.5100     6.5600    6087_15\n",
       "691    46.4594     6.8429   6188_720\n",
       "608    46.1700     6.1600  5927_1545\n",
       "1267   46.8900     7.5300   5991_475\n",
       "1553   46.9998     6.9496   5947_570\n",
       "2726   46.1890     6.1543   5927_463"
      ]
     },
     "execution_count": 7,
     "metadata": {},
     "output_type": "execute_result"
    }
   ],
   "source": [
    "all_stop_regions = pd.DataFrame()\n",
    "\n",
    "for user_id in csv_dao.list_stop_region_usernames():\n",
    "    all_stop_regions = all_stop_regions.append(csv_dao.load_user_stop_regions_centroids(user_id))\n",
    "\n",
    "print(\"All Stop Regions:    {}\".format(len(all_stop_regions)))\n",
    "all_stop_regions.sample(6)"
   ]
  },
  {
   "cell_type": "code",
   "execution_count": 14,
   "metadata": {},
   "outputs": [
    {
     "name": "stdout",
     "output_type": "stream",
     "text": [
      "66927 unique Stop Regions\n"
     ]
    }
   ],
   "source": [
    "unique_sr = unique_stop_regions(all_stop_regions, on_cols=['latitude', 'longitude'])\n",
    "print(\"{} unique Stop Regions\".format(len(unique_sr)))"
   ]
  },
  {
   "cell_type": "code",
   "execution_count": 16,
   "metadata": {},
   "outputs": [
    {
     "data": {
      "text/plain": [
       "10967"
      ]
     },
     "execution_count": 16,
     "metadata": {},
     "output_type": "execute_result"
    }
   ],
   "source": [
    "unique_sr = None\n",
    "all_stop_regions = None\n",
    "gc.collect()"
   ]
  },
  {
   "cell_type": "markdown",
   "metadata": {},
   "source": [
    "## Stop Regions for some users"
   ]
  },
  {
   "cell_type": "code",
   "execution_count": null,
   "metadata": {},
   "outputs": [],
   "source": [
    "users = pd.Series(csv_dao.list_stop_region_usernames()).sample(5)\n",
    "hotosm_knn_pois = load_sr_knn_pois(users.tolist())\n",
    "print(\"All Stop Regions:    {}\".format(len(hotosm_knn_pois[\"sr_id\"].drop_duplicates())))\n",
    "hotosm_data = unique_stop_regions(hotosm_knn_pois)\n",
    "print(\"Unique Stop Regions: {}\".format(len(hotosm_data[\"sr_id\"].drop_duplicates())))\n",
    "hotosm_data.sample(6)"
   ]
  },
  {
   "cell_type": "code",
   "execution_count": null,
   "metadata": {},
   "outputs": [],
   "source": [
    "hotosm_pois = csv_dao.load_hot_osm_pois()\n",
    "valid_hotosm_pois = valid_pois_hotosm(hotosm_pois)\n",
    "\n",
    "valid_hotosm_pois.sample(6)"
   ]
  },
  {
   "cell_type": "markdown",
   "metadata": {},
   "source": [
    "## Merging Stop Region POIs"
   ]
  },
  {
   "cell_type": "code",
   "execution_count": null,
   "metadata": {},
   "outputs": [],
   "source": [
    "hotosm_data = hotosm_data.merge(valid_hotosm_pois[[\"osm_id\", \"amenity\", \"lat_4326\", \"lon_4326\"]], how=\"inner\", on=\"osm_id\")\n",
    "hotosm_data.sort_values(by=[\"sr_id\", \"position\"]).head()"
   ]
  },
  {
   "cell_type": "markdown",
   "metadata": {},
   "source": [
    "## How far to the Stop Regions are the POIs?"
   ]
  },
  {
   "cell_type": "code",
   "execution_count": null,
   "metadata": {},
   "outputs": [],
   "source": [
    "firsts = pd.DataFrame()\n",
    "seconds = pd.DataFrame()\n",
    "thirds = pd.DataFrame()\n",
    "for sr_id in hotosm_data[\"sr_id\"].drop_duplicates():\n",
    "    sr_knn = hotosm_data[hotosm_data[\"sr_id\"] == sr_id]\n",
    "    \n",
    "    firsts = firsts.append(sr_knn[sr_knn[\"position\"] == 0])\n",
    "    seconds = seconds.append(sr_knn[sr_knn[\"position\"] == 1])\n",
    "    thirds = thirds.append(sr_knn[sr_knn[\"position\"] == 2])    "
   ]
  },
  {
   "cell_type": "code",
   "execution_count": null,
   "metadata": {},
   "outputs": [],
   "source": [
    "firsts[\"distance\"].describe()"
   ]
  },
  {
   "cell_type": "code",
   "execution_count": null,
   "metadata": {},
   "outputs": [],
   "source": [
    "firsts[\"distance\"].plot.hist(xlim=(0, 3000), bins=100)"
   ]
  },
  {
   "cell_type": "code",
   "execution_count": null,
   "metadata": {},
   "outputs": [],
   "source": [
    "seconds[\"distance\"].describe()"
   ]
  },
  {
   "cell_type": "code",
   "execution_count": null,
   "metadata": {},
   "outputs": [],
   "source": [
    "seconds[\"distance\"].plot.hist(xlim=(0, 3000), bins=100)"
   ]
  },
  {
   "cell_type": "code",
   "execution_count": null,
   "metadata": {},
   "outputs": [],
   "source": [
    "thirds[\"distance\"].describe()"
   ]
  },
  {
   "cell_type": "code",
   "execution_count": null,
   "metadata": {},
   "outputs": [],
   "source": [
    "thirds[\"distance\"].plot.hist(xlim=(0, 3000), bins=100)"
   ]
  },
  {
   "cell_type": "code",
   "execution_count": null,
   "metadata": {},
   "outputs": [],
   "source": [
    "firsts[\"distance\"].plot.box(ylim=(-50,2200), color=\"navy\")"
   ]
  },
  {
   "cell_type": "code",
   "execution_count": null,
   "metadata": {},
   "outputs": [],
   "source": [
    "seconds[\"distance\"].plot.box(ylim=(-50,2200), color=\"magenta\")"
   ]
  },
  {
   "cell_type": "code",
   "execution_count": null,
   "metadata": {},
   "outputs": [],
   "source": [
    "thirds[\"distance\"].plot.box(ylim=(-50,2200), color=\"green\")"
   ]
  },
  {
   "cell_type": "code",
   "execution_count": null,
   "metadata": {},
   "outputs": [],
   "source": [
    "hotosm_data[\"user_id\"].drop_duplicates()"
   ]
  },
  {
   "cell_type": "markdown",
   "metadata": {},
   "source": [
    "## Closer POIs frequency of amenities"
   ]
  },
  {
   "cell_type": "markdown",
   "metadata": {},
   "source": [
    "tipo lugar que o cara costuma frequentar... :)"
   ]
  },
  {
   "cell_type": "code",
   "execution_count": null,
   "metadata": {},
   "outputs": [],
   "source": [
    "f, ax = plt.subplots(figsize=(15,5))\n",
    "firsts[\"amenity\"].value_counts().head(35).plot.bar(title=\"Frequency of point amenity for the CLOSEST POI\")"
   ]
  },
  {
   "cell_type": "code",
   "execution_count": null,
   "metadata": {},
   "outputs": [],
   "source": [
    "f, ax = plt.subplots(figsize=(15,5))\n",
    "firsts.append(seconds).append(thirds)[\"amenity\"].value_counts().head(35).plot.bar(title=\"Frequency of point amenity for 3 closets POIs\")"
   ]
  },
  {
   "cell_type": "markdown",
   "metadata": {},
   "source": [
    "## Variety of closer POIs"
   ]
  },
  {
   "cell_type": "code",
   "execution_count": null,
   "metadata": {},
   "outputs": [],
   "source": [
    "max_distance = 500\n",
    "most_common_frequency = []\n",
    "len_close_pois = []\n",
    "\n",
    "for sr_id in hotosm_data[\"sr_id\"].drop_duplicates():\n",
    "    knn_pois = hotosm_data[hotosm_data[\"sr_id\"] == sr_id]\n",
    "    use_knn_pois = knn_pois[knn_pois[\"distance\"] <= max_distance]\n",
    "    \n",
    "    len_close_pois.append(len(use_knn_pois))\n",
    "    \n",
    "    if len(use_knn_pois) == 0:\n",
    "        continue    \n",
    "    most_common_frequency.append(use_knn_pois[\"amenity\"].value_counts(normalize=True).iloc[0])"
   ]
  },
  {
   "cell_type": "code",
   "execution_count": null,
   "metadata": {},
   "outputs": [],
   "source": [
    "pd.Series(most_common_frequency).plot.hist(title=\"Frequency of most common amenities close to Stop Regions. Distance <= {}\".format(max_distance))"
   ]
  },
  {
   "cell_type": "code",
   "execution_count": null,
   "metadata": {},
   "outputs": [],
   "source": [
    "pd.Series(len_close_pois).plot.hist(title=\"Frequency of number of POIs closer to Stop Region. Distance <= {}\".format(max_distance))"
   ]
  },
  {
   "cell_type": "markdown",
   "metadata": {},
   "source": [
    "## Plotting Close Neighbors"
   ]
  },
  {
   "cell_type": "code",
   "execution_count": null,
   "metadata": {},
   "outputs": [],
   "source": [
    "user = hotosm_data[\"user_id\"].sample().item()\n",
    "print(\"User: {}\".format(user))\n",
    "hotosm_data[hotosm_data[\"user\"] == user].sort_values(by=[\"sr_id\", \"position\"]).sample(5)"
   ]
  },
  {
   "cell_type": "code",
   "execution_count": null,
   "metadata": {},
   "outputs": [],
   "source": [
    "p = None\n",
    "plot_hotosm_data = hotosm_data[hotosm_data[\"user\"] == user]\n",
    "\n",
    "print(\"{} Stop Regions\".format(len(hotosm_data[[\"lat_sr\", \"lon_sr\"]].drop_duplicates())))\n",
    "print(\"{} Close POIs\".format(len(hotosm_data)))\n",
    "\n",
    "if len(plot_hotosm_data) <= 20000:\n",
    "    p = plot.plot_stop_regions_centroids(plot_hotosm_data[[\"lat_sr\", \"lon_sr\"]].drop_duplicates(), \n",
    "                                         fill_color=\"navy\", title=\"User {} Stop Regions and POIs\".format(plot_hotosm_data[\"user\"].tolist()[0]), lat_col=\"lat_sr\", lon_col=\"lon_sr\",\n",
    "                                        width=700, height=500)\n",
    "    p = plot.plot_poi(plot_hotosm_data, lat_col=\"lat_4326\", lon_col=\"lon_4326\", title=\"\", \n",
    "                          figure=p, width=700, height=500, color=\"red\")    \n",
    "    show(p)\n",
    "    \n",
    "else:\n",
    "    print(\"Too much points may be critical to this machine\")"
   ]
  },
  {
   "cell_type": "code",
   "execution_count": null,
   "metadata": {},
   "outputs": [],
   "source": [
    "hotosm_data[\"user_id\"].drop_duplicates()"
   ]
  },
  {
   "cell_type": "code",
   "execution_count": null,
   "metadata": {},
   "outputs": [],
   "source": [
    "firsts[firsts[\"user\"] == user][\"distance\"].describe()"
   ]
  },
  {
   "cell_type": "markdown",
   "metadata": {},
   "source": [
    "## Comparing with Google Places"
   ]
  },
  {
   "cell_type": "markdown",
   "metadata": {},
   "source": [
    "#### User 6043 SR 550"
   ]
  },
  {
   "cell_type": "code",
   "execution_count": null,
   "metadata": {},
   "outputs": [],
   "source": [
    "sr_id_6043_550_google_places = {'html_attributions': [], 'next_page_token': 'CoQE_AEAACYDT-kq8XPlXACvRuX5dl5Np4hrFtbKWMyG1aD8zxoozUVkT9xVCwEpQtnjSjsKALZ1n505QMhPvVuwjIavjn8-VH32RauZoEYukxcJBC6spF3EDWpxI6nSnEe50mBkOuGJklUAh35r6IzMaKZ1fr0IVsqDYXCQiJqFusSDCl2yN-0-YdVyD5ZhY-SAGG6p3bZK7N0z5_C3CHbA3ZcliSAFrf49EpGZF9HToNiTnlEEydm6LoaDYstmed2c4ECKd9rYeZxfZgOpQcarYigxXau2NhJ8S-aID1uqD0wsBtGYtuGkAZex3aGtXcm3rOUS-qehtQ_29oxdFbkwXlJQq5Zp8IU46TgfA4Ld9hjSPLbvg8wRmNzUjUiNP1Fpg5L1PsB39_wECZN5lAxghbEAEdCloR5_joKL3Y9htBvsz_f5t4QR7tm58Jbqw2DrTVBOQdHzGyE8LK9ZTUo2lTDDv3Qk48YVzH8Zfty05z8QhMLzFGfePN-zklMtZxk1WW6opwpWaKVYSTX-E-tAHhL4axnbvD44f9zIohqBGw77FphZzr_sKVBbU_Dl7Zu2qE50B6fmHigsocWBV3NX5K3AGLqrVc7Cc9c7Ti9s8xxIhZhQiRQU5lOTu4UeBhvXhmDRdN7AyR1sV0g9lmVqpBIkoD_7cyflQfuooczDecMCRrhQEhCNL8MadM_JC_SKdQ1Pd0FpGhSf9EJ2DiwR_gflUS_rHzIXxW2oBg', 'results': [{'geometry': {'location': {'lat': 46.6071396, 'lng': 6.230396299999999}, 'viewport': {'northeast': {'lat': 46.64501, 'lng': 6.2989501}, 'southwest': {'lat': 46.52347, 'lng': 6.1105199}}}, 'icon': 'https://maps.gstatic.com/mapfiles/place_api/icons/geocode-71.png', 'id': '72a76c2401bbb37d00be606b746665b81b7986b7', 'name': 'Le Chenit', 'photos': [{'height': 2448, 'html_attributions': ['<a href=\"https://maps.google.com/maps/contrib/112505597890154891044/photos\">Aldo Bergamin</a>'], 'photo_reference': 'CmRaAAAAhcwtMP6EN1k83AsMts0KE7J_doXtpS6falWkO9ZnGyIBIRpg6Ybj8D0tVDTQqPQkBW-n7XOwv1VLWd8Z3w9hfP_IYbQACQgivSUodnao6ET1P6OrCTxxRZJb-wlCvTSkEhA9eKV44Y8WsOXoVEKb0EhSGhSWQYRsX3Ui2DBCEt45-fTe2Jtqzg', 'width': 2448}], 'place_id': 'ChIJG5dL77FWjEcR8Iiu2KctCew', 'reference': 'ChIJG5dL77FWjEcR8Iiu2KctCew', 'scope': 'GOOGLE', 'types': ['locality', 'political'], 'vicinity': 'Le Chenit'}, {'geometry': {'location': {'lat': 46.6040708, 'lng': 6.228746699999999}, 'viewport': {'northeast': {'lat': 46.60560438029149, 'lng': 6.2304523302915}, 'southwest': {'lat': 46.6029064197085, 'lng': 6.227754369708496}}}, 'icon': 'https://maps.gstatic.com/mapfiles/place_api/icons/civic_building-71.png', 'id': '8924f68c7f3189f20f50116bee20c416c90142da', 'name': 'Vallée de Joux Tourisme', 'opening_hours': {'open_now': True}, 'photos': [{'height': 2331, 'html_attributions': ['<a href=\"https://maps.google.com/maps/contrib/101057150365408504382/photos\">Vallée de Joux Tourisme</a>'], 'photo_reference': 'CmRaAAAAmxShY7SGe8D9QHet9Tgc11Ne_6HuvmhSn-COlBBWhnczBo4fudRNdEYNTZGzdqWIKFKC1ZUi_gvJWfCiIQG4BEmeFrBZ-I5zpnsto0wBDue20VcLEBmNxW1Qg2BpF26BEhDOB9Jedhv9jYBxWutCtt5HGhSaAXJ65pjx1ua_phFUV2hQTRHNyg', 'width': 3471}], 'place_id': 'ChIJb7QBx0xSjEcR7R2Hw4zxFN4', 'plus_code': {'compound_code': 'J63H+JF Le Chenit, Switzerland', 'global_code': '8FR8J63H+JF'}, 'rating': 4.3, 'reference': 'ChIJb7QBx0xSjEcR7R2Hw4zxFN4', 'scope': 'GOOGLE', 'types': ['local_government_office', 'point_of_interest', 'establishment'], 'user_ratings_total': 21, 'vicinity': \"Centre Sportif, Rue de l'Orbe 8, Le Sentier\"}, {'geometry': {'location': {'lat': 46.604064, 'lng': 6.228756999999999}, 'viewport': {'northeast': {'lat': 46.6056009802915, 'lng': 6.230457480291501}, 'southwest': {'lat': 46.60290301970851, 'lng': 6.227759519708497}}}, 'icon': 'https://maps.gstatic.com/mapfiles/place_api/icons/generic_business-71.png', 'id': '8b4952095c1781f0819b288550b80d37260ff7d4', 'name': 'Centre Sportif de la Vallée de Joux', 'opening_hours': {'open_now': False}, 'photos': [{'height': 1536, 'html_attributions': ['<a href=\"https://maps.google.com/maps/contrib/101425381915391213202/photos\">Centre Sportif de la Vallée de Joux</a>'], 'photo_reference': 'CmRaAAAARcS96REEBnuxzIuYQrVfGs9-I1veAIzyu2wvqPXy6uyBoBYzldrt0699t1CQ1BgqqzI-ZPLLIv-ILZAWQGt1prOhpTtzKx1pP-rgVVAQpQ-JJELxzs_x4BxfVhgrmdDiEhD7TEFq_8tRKjN18otEBKJ8GhSDj7-6kDUgO2WmjB9d0sdQcVxeGA', 'width': 2048}], 'place_id': 'ChIJrYYpglJSjEcRNLdBn9cQSYY', 'plus_code': {'compound_code': 'J63H+JG Le Chenit, Switzerland', 'global_code': '8FR8J63H+JG'}, 'rating': 4.3, 'reference': 'ChIJrYYpglJSjEcRNLdBn9cQSYY', 'scope': 'GOOGLE', 'types': ['gym', 'health', 'restaurant', 'point_of_interest', 'food', 'establishment'], 'user_ratings_total': 227, 'vicinity': \"Rue de l'Orbe 8, Le Sentier\"}, {'geometry': {'location': {'lat': 46.60181650000001, 'lng': 6.2230445}, 'viewport': {'northeast': {'lat': 46.6031935802915, 'lng': 6.224342380291502}, 'southwest': {'lat': 46.6004956197085, 'lng': 6.221644419708498}}}, 'icon': 'https://maps.gstatic.com/mapfiles/place_api/icons/generic_business-71.png', 'id': '6d4a2663296f10f984961626a6804dce2b9dfbff', 'name': 'Kif Parechoc SA', 'opening_hours': {'open_now': True}, 'place_id': 'ChIJO9YhP7RTjEcR7VffhRBd9E0', 'plus_code': {'compound_code': 'J62F+P6 Le Chenit, Switzerland', 'global_code': '8FR8J62F+P6'}, 'rating': 4.3, 'reference': 'ChIJO9YhP7RTjEcR7VffhRBd9E0', 'scope': 'GOOGLE', 'types': ['point_of_interest', 'establishment'], 'user_ratings_total': 4, 'vicinity': 'Rue Georges-Henri Piguet 19, Le Sentier'}, {'geometry': {'location': {'lat': 46.6031399, 'lng': 6.2246122}, 'viewport': {'northeast': {'lat': 46.60451803029149, 'lng': 6.225911380291501}, 'southwest': {'lat': 46.60182006970849, 'lng': 6.223213419708497}}}, 'icon': 'https://maps.gstatic.com/mapfiles/place_api/icons/generic_business-71.png', 'id': 'f1483de15b7f0366259f51e07e5f41226fba9681', 'name': 'Manufacture horlogère Vallée de Joux SA', 'opening_hours': {'open_now': True}, 'place_id': 'ChIJ61s1gLNTjEcRBqCbc6Azvl4', 'plus_code': {'compound_code': 'J63F+7R Le Chenit, Switzerland', 'global_code': '8FR8J63F+7R'}, 'rating': 4.5, 'reference': 'ChIJ61s1gLNTjEcRBqCbc6Azvl4', 'scope': 'GOOGLE', 'types': ['point_of_interest', 'establishment'], 'user_ratings_total': 2, 'vicinity': 'Rue Georges-Henri Piguet 11'}, {'geometry': {'location': {'lat': 46.6042219, 'lng': 6.2273938}, 'viewport': {'northeast': {'lat': 46.6056290302915, 'lng': 6.228639930291502}, 'southwest': {'lat': 46.6029310697085, 'lng': 6.225941969708497}}}, 'icon': 'https://maps.gstatic.com/mapfiles/place_api/icons/museum-71.png', 'id': 'effa275def423edf14c24bdfbb6e77b50bd8c274', 'name': \"Espace Horloger - FERME TEMPORAIREMENT JUSQU' A L'AUTOMNE 2019\", 'photos': [{'height': 1365, 'html_attributions': ['<a href=\"https://maps.google.com/maps/contrib/102869920091449428649/photos\">Vincent Jaton</a>'], 'photo_reference': 'CmRaAAAA1Sjf5cafIZYN09uScU_5_Kin1dniQAkLQph5flc59FC7wTbeUKi-r4A0CXPWBHDc_4SQBY9scTKzoNThsA_i_CI3lfF7RzNAeomPXjm5YGeWW42d39PILEw3Ik98qenaEhDa7_GITZbE9T4Nr1An8GrUGhQ3ztYDd-KQsqGkGPl003qSQhLzQw', 'width': 2048}], 'place_id': 'ChIJY-OlN7NTjEcRl8d6la1rvA4', 'plus_code': {'compound_code': 'J63G+MX Le Chenit, Switzerland', 'global_code': '8FR8J63G+MX'}, 'rating': 4.3, 'reference': 'ChIJY-OlN7NTjEcRl8d6la1rvA4', 'scope': 'GOOGLE', 'types': ['museum', 'point_of_interest', 'establishment'], 'user_ratings_total': 43, 'vicinity': 'Grande-Rue 2, Le Sentier'}, {'geometry': {'location': {'lat': 46.60169299999999, 'lng': 6.221488}, 'viewport': {'northeast': {'lat': 46.6031726302915, 'lng': 6.222731230291502}, 'southwest': {'lat': 46.6004746697085, 'lng': 6.220033269708498}}}, 'icon': 'https://maps.gstatic.com/mapfiles/place_api/icons/doctor-71.png', 'id': '94444ed2a9d8f513c909e3465c489978a6a483e8', 'name': 'Hospital Vallée De Joux', 'opening_hours': {'open_now': True}, 'photos': [{'height': 468, 'html_attributions': ['<a href=\"https://maps.google.com/maps/contrib/109277636448084409752/photos\">Hôpital de la Vallée de Joux</a>'], 'photo_reference': 'CmRaAAAAiYX7lJyRWJ1dOSTwqTjGPlgZCTep7T4Z6aGXzL9uEuG1khlrBHjOHQ5mIZ1I0A3bP8kcTUxYHTJSJrcE_YHAA0NvGZtLvCZdyTMXo2AnVooiZuZICmmEEnrIYiPMGSOkEhC01rVMMNpdbPehYniwEz0gGhQ1vcKr7eYjy12wA9ZIQw_1lomddg', 'width': 1440}], 'place_id': 'ChIJfzv2nrZTjEcR2SlL2hbDp8w', 'plus_code': {'compound_code': 'J62C+MH Le Chenit, Switzerland', 'global_code': '8FR8J62C+MH'}, 'rating': 4.3, 'reference': 'ChIJfzv2nrZTjEcR2SlL2hbDp8w', 'scope': 'GOOGLE', 'types': ['hospital', 'point_of_interest', 'establishment'], 'user_ratings_total': 4, 'vicinity': \"Rue de l'Hôpital 3, Le Chenit\"}, {'geometry': {'location': {'lat': 46.6039616, 'lng': 6.228792699999999}, 'viewport': {'northeast': {'lat': 46.6050127302915, 'lng': 6.229822080291502}, 'southwest': {'lat': 46.6023147697085, 'lng': 6.227124119708497}}}, 'icon': 'https://maps.gstatic.com/mapfiles/place_api/icons/restaurant-71.png', 'id': '25e83c3b96a3cb3282eaf4d013b106794381561e', 'name': 'Restaurant Lounge du Centre Sportif', 'opening_hours': {'open_now': True}, 'photos': [{'height': 3120, 'html_attributions': ['<a href=\"https://maps.google.com/maps/contrib/112233858266716286365/photos\">Bon Art Pastisseria</a>'], 'photo_reference': 'CmRaAAAAXB1RbgxpRn2xl80M5zd1OZtZeDWdzTjypNYB9OWI8MLlWmJR-wEd75PWMC-72quYhLCUUUkUHXaKUzqIT9NNpjRUWZMsnbrE2AdzGE09a5pX3m5XZEaix-ju3e5pTedqEhCRxItkyJIvKMVLMbufRawTGhRJaY3OTT0menl5_5HthDlW1mkx9g', 'width': 4160}], 'place_id': 'ChIJb7QBx0xSjEcR65KYtvm9qvE', 'plus_code': {'compound_code': 'J63H+HG Le Chenit, Switzerland', 'global_code': '8FR8J63H+HG'}, 'rating': 4.8, 'reference': 'ChIJb7QBx0xSjEcR65KYtvm9qvE', 'scope': 'GOOGLE', 'types': ['restaurant', 'point_of_interest', 'food', 'establishment'], 'user_ratings_total': 8, 'vicinity': \"Rue de l'Orbe 8\"}, {'geometry': {'location': {'lat': 46.6015909, 'lng': 6.2228999}, 'viewport': {'northeast': {'lat': 46.6029876302915, 'lng': 6.224161680291503}, 'southwest': {'lat': 46.6002896697085, 'lng': 6.221463719708498}}}, 'icon': 'https://maps.gstatic.com/mapfiles/place_api/icons/generic_business-71.png', 'id': '946161618a7034a96e4ae2416730a8254c8f0a67', 'name': 'STS Saulcy Traitement de Surface SA', 'opening_hours': {'open_now': True}, 'place_id': 'ChIJG701Dk5SjEcRNA_gaAnJc_k', 'plus_code': {'compound_code': 'J62F+J5 Le Chenit, Switzerland', 'global_code': '8FR8J62F+J5'}, 'reference': 'ChIJG701Dk5SjEcRNA_gaAnJc_k', 'scope': 'GOOGLE', 'types': ['point_of_interest', 'establishment'], 'vicinity': 'Rue Georges-Henri Piguet 19'}, {'geometry': {'location': {'lat': 46.6020151, 'lng': 6.223275699999999}, 'viewport': {'northeast': {'lat': 46.60339218029149, 'lng': 6.224573580291501}, 'southwest': {'lat': 46.6006942197085, 'lng': 6.221875619708497}}}, 'icon': 'https://maps.gstatic.com/mapfiles/place_api/icons/generic_business-71.png', 'id': 'a6548497f874909db5f42cfb2e34b0bfe786b30e', 'name': 'Blancpain SA', 'photos': [{'height': 3264, 'html_attributions': ['<a href=\"https://maps.google.com/maps/contrib/105580767663241770193/photos\">LÉON</a>'], 'photo_reference': 'CmRaAAAALx5YRVyqlP2VYw85Kyz3gAFRw-ImIcrtqARCgf2JdOggTOWv2HAU_CjefbfH_Feajy3xSVzd6inYxziGtkt88dLmosuzQIw5f7NhxzPXwCCqruI99M_iLZjUl_K4ttmWEhBCWME7hBntvrrHA684ApxgGhQgDPIp9UDNiAfJIrwQKTr7pt4Ccg', 'width': 4896}], 'place_id': 'ChIJO3gOa7RTjEcRHnlE9mcuO7E', 'plus_code': {'compound_code': 'J62F+R8 Le Chenit, Switzerland', 'global_code': '8FR8J62F+R8'}, 'rating': 5, 'reference': 'ChIJO3gOa7RTjEcRHnlE9mcuO7E', 'scope': 'GOOGLE', 'types': ['point_of_interest', 'establishment'], 'user_ratings_total': 1, 'vicinity': 'Rue Georges-Henri Piguet 17, Le Sentier'}, {'geometry': {'location': {'lat': 46.6023826, 'lng': 6.2228951}, 'viewport': {'northeast': {'lat': 46.6037360802915, 'lng': 6.224238530291502}, 'southwest': {'lat': 46.6010381197085, 'lng': 6.221540569708497}}}, 'icon': 'https://maps.gstatic.com/mapfiles/place_api/icons/generic_business-71.png', 'id': 'f514e6385ded1c32c2997385ef3512ee8507ea53', 'name': 'Idealcuisines', 'place_id': 'ChIJh9kcErRTjEcRppj6PoiwK0A', 'plus_code': {'compound_code': 'J62F+X5 Le Chenit, Switzerland', 'global_code': '8FR8J62F+X5'}, 'reference': 'ChIJh9kcErRTjEcRppj6PoiwK0A', 'scope': 'GOOGLE', 'types': ['point_of_interest', 'establishment'], 'vicinity': \"Rue de l'Hôpital 10, Le Sentier\"}, {'geometry': {'location': {'lat': 46.6041968, 'lng': 6.227188099999999}, 'viewport': {'northeast': {'lat': 46.6055736802915, 'lng': 6.228485980291502}, 'southwest': {'lat': 46.6028757197085, 'lng': 6.225788019708498}}}, 'icon': 'https://maps.gstatic.com/mapfiles/place_api/icons/generic_business-71.png', 'id': '647b3007b790df590e877d492c9b0809eb600cb8', 'name': \"Galerie de l'Essor\", 'opening_hours': {'open_now': False}, 'place_id': 'ChIJgw0gN7NTjEcRb4MSHmI3QSE', 'plus_code': {'compound_code': 'J63G+MV Le Chenit, Switzerland', 'global_code': '8FR8J63G+MV'}, 'rating': 4.7, 'reference': 'ChIJgw0gN7NTjEcRb4MSHmI3QSE', 'scope': 'GOOGLE', 'types': ['art_gallery', 'point_of_interest', 'establishment'], 'user_ratings_total': 6, 'vicinity': 'Grande-Rue 2, Le Chenit'}, {'geometry': {'location': {'lat': 46.6041299, 'lng': 6.227293899999998}, 'viewport': {'northeast': {'lat': 46.6054234802915, 'lng': 6.228738130291502}, 'southwest': {'lat': 46.6027255197085, 'lng': 6.226040169708497}}}, 'icon': 'https://maps.gstatic.com/mapfiles/place_api/icons/generic_business-71.png', 'id': 'b65c36f67eda683bbf1a06d8bfbe9de3bb048696', 'name': 'Tempo Squad', 'place_id': 'ChIJY-OlN7NTjEcRyw39nsWG-AU', 'plus_code': {'compound_code': 'J63G+MW Le Chenit, Switzerland', 'global_code': '8FR8J63G+MW'}, 'rating': 1, 'reference': 'ChIJY-OlN7NTjEcRyw39nsWG-AU', 'scope': 'GOOGLE', 'types': ['point_of_interest', 'establishment'], 'user_ratings_total': 1, 'vicinity': 'Grande-Rue 2, Le Chenit'}, {'geometry': {'location': {'lat': 46.60627890000001, 'lng': 6.228767899999999}, 'viewport': {'northeast': {'lat': 46.6076611302915, 'lng': 6.230035080291501}, 'southwest': {'lat': 46.6049631697085, 'lng': 6.227337119708497}}}, 'icon': 'https://maps.gstatic.com/mapfiles/place_api/icons/movies-71.png', 'id': '93586891dc49196cd400db14bca8dc94fb43f30a', 'name': 'Cinéma La Bobine', 'photos': [{'height': 720, 'html_attributions': ['<a href=\"https://maps.google.com/maps/contrib/100614347717554516583/photos\">La Bobine</a>'], 'photo_reference': 'CmRaAAAAVh-K37p-EFtKRGXTusbqB3oXt7qy_n06GQEVhqOaYYMCkrwT0UcCsCfbi1g8CDZHnlCOSO1mZUDNqTelgLefd0R8SbZ9Y0VW-y3np6TWvbd4UDY9mFJF8ixG3hC_7PeUEhDLp8Fh-EdtOv5MkHudK2GqGhQ4AzYDnm5VbyYLQBl5RaS8jVlKRg', 'width': 960}], 'place_id': 'ChIJe8u6zLJTjEcRhRskIVNDae0', 'plus_code': {'compound_code': 'J64H+GG Le Chenit, Switzerland', 'global_code': '8FR8J64H+GG'}, 'rating': 4.2, 'reference': 'ChIJe8u6zLJTjEcRhRskIVNDae0', 'scope': 'GOOGLE', 'types': ['movie_theater', 'point_of_interest', 'establishment'], 'user_ratings_total': 18, 'vicinity': 'Chemin des Cytises 1, Le Chenit'}, {'geometry': {'location': {'lat': 46.6052257, 'lng': 6.2284522}, 'viewport': {'northeast': {'lat': 46.60661133029149, 'lng': 6.229733680291501}, 'southwest': {'lat': 46.60391336970849, 'lng': 6.227035719708497}}}, 'icon': 'https://maps.gstatic.com/mapfiles/place_api/icons/generic_business-71.png', 'id': '728f94ca9d43cf4965d007f4d0a972a6795bbad9', 'name': 'Seyed Madani', 'opening_hours': {'open_now': True}, 'place_id': 'ChIJ1fSLuqlSjEcRVkZAOAp2m7U', 'plus_code': {'compound_code': 'J64H+39 Le Chenit, Switzerland', 'global_code': '8FR8J64H+39'}, 'rating': 4, 'reference': 'ChIJ1fSLuqlSjEcRVkZAOAp2m7U', 'scope': 'GOOGLE', 'types': ['doctor', 'health', 'point_of_interest', 'establishment'], 'user_ratings_total': 5, 'vicinity': 'Grande-Rue 10, Le Chenit'}, {'geometry': {'location': {'lat': 46.60216200000001, 'lng': 6.228932100000001}, 'viewport': {'northeast': {'lat': 46.6035559802915, 'lng': 6.230280630291503}, 'southwest': {'lat': 46.60085801970851, 'lng': 6.227582669708498}}}, 'icon': 'https://maps.gstatic.com/mapfiles/place_api/icons/generic_business-71.png', 'id': 'a3a95472f72c472a39186dced98d691f8a5f2960', 'name': 'Piccinin Décolletage SA', 'place_id': 'ChIJLUNqaEtSjEcRXdXm3ZzXP4I', 'plus_code': {'compound_code': 'J62H+VH Le Chenit, Switzerland', 'global_code': '8FR8J62H+VH'}, 'rating': 2.5, 'reference': 'ChIJLUNqaEtSjEcRXdXm3ZzXP4I', 'scope': 'GOOGLE', 'types': ['point_of_interest', 'establishment'], 'user_ratings_total': 2, 'vicinity': 'Chemin des Amoureux, Le Sentier'}, {'geometry': {'location': {'lat': 46.6054244, 'lng': 6.2300121}, 'viewport': {'northeast': {'lat': 46.60683823029149, 'lng': 6.231452680291502}, 'southwest': {'lat': 46.60414026970849, 'lng': 6.228754719708498}}}, 'icon': 'https://maps.gstatic.com/mapfiles/place_api/icons/shopping-71.png', 'id': '402ee80a8f6d491125333bae55d1f9167b547c04', 'name': 'BVLGARI', 'photos': [{'height': 3120, 'html_attributions': ['<a href=\"https://maps.google.com/maps/contrib/117544321312729537951/photos\">Watches in Ukraine</a>'], 'photo_reference': 'CmRaAAAAsKAFYnKxidv_63iu4G4PEXKKPcLgz2F2wQe2y_-vFnrRymuyBEE4Ex-GUVkoBf0w8RjhO7ByANlUSl89E1Ci-Y23kdIjGwgMyXDvgpWhqi9cXCREBzCs1NHJYACFs-LwEhCipVGECtwlosNAFv7dAxn0GhTaf26Ykwc-te6Zn2jCNdCvKQVZNg', 'width': 4160}], 'place_id': 'ChIJ1d2-GU1SjEcR2INkFt3S5e0', 'plus_code': {'compound_code': 'J64J+52 Le Chenit, Switzerland', 'global_code': '8FR8J64J+52'}, 'rating': 4.9, 'reference': 'ChIJ1d2-GU1SjEcR2INkFt3S5e0', 'scope': 'GOOGLE', 'types': ['jewelry_store', 'store', 'point_of_interest', 'establishment'], 'user_ratings_total': 8, 'vicinity': 'Rue de la Gare 4, LE SENTIER'}, {'geometry': {'location': {'lat': 46.6062208, 'lng': 6.2291002}, 'viewport': {'northeast': {'lat': 46.60750958029149, 'lng': 6.230549430291502}, 'southwest': {'lat': 46.6048116197085, 'lng': 6.227851469708497}}}, 'icon': 'https://maps.gstatic.com/mapfiles/place_api/icons/restaurant-71.png', 'id': 'a4f294b220460ee9b60e4d352a322a72920e0894', 'name': 'La Valeur du Temps', 'opening_hours': {'open_now': True}, 'photos': [{'height': 1080, 'html_attributions': ['<a href=\"https://maps.google.com/maps/contrib/104703529385937841071/photos\">Carmen Mora</a>'], 'photo_reference': 'CmRaAAAAWOSV_d_AXdQqz-ZrARhEEVB1rmr9Wo6yQQwCSlxOHLHdrPx0TfbO_tsnUSngA57TODuUxf7pdMFnNLLsy6FMePjOV057AOKpnPyOxUKlfxV76DtZsQuVfXUMbG2z47_hEhByWX7dnGKQivlWCrukfYU2GhRem_TCnshVPFSqyMTsMsTVobW9IQ', 'width': 1920}], 'place_id': 'ChIJk787OE1SjEcRYloMJlTjtoQ', 'plus_code': {'compound_code': 'J64H+FJ Le Chenit, Switzerland', 'global_code': '8FR8J64H+FJ'}, 'rating': 3.8, 'reference': 'ChIJk787OE1SjEcRYloMJlTjtoQ', 'scope': 'GOOGLE', 'types': ['restaurant', 'point_of_interest', 'food', 'establishment'], 'user_ratings_total': 24, 'vicinity': '1347 le sentier, Grande-Rue 17'}, {'geometry': {'location': {'lat': 46.60595900000001, 'lng': 6.229746}, 'viewport': {'northeast': {'lat': 46.6072732802915, 'lng': 6.231052780291502}, 'southwest': {'lat': 46.6045753197085, 'lng': 6.228354819708497}}}, 'icon': 'https://maps.gstatic.com/mapfiles/place_api/icons/civic_building-71.png', 'id': '940d3b7bf97796144988601539092fcbce5040a6', 'name': 'SOCOREC \"Le Sentier\"', 'opening_hours': {'open_now': True}, 'photos': [{'height': 1000, 'html_attributions': ['<a href=\"https://maps.google.com/maps/contrib/102004318975526622331/photos\">SOCOREC &quot;Le Sentier&quot;</a>'], 'photo_reference': 'CmRaAAAATubeZ32Ygk3C4fVXC0ky-BRvtH3NADjvpLYBpfdrPZYWaJTOTUWgbIpiwWhfTPuw4MWJWKF5hvZhrFOuHWZISyOcr2KMpr5H6liRRdDbqeQJEw5KfyeXvcJe0XH6cqSIEhAC2m7EBe3dz5dbbs5XmurlGhTInEMfAXMRkCQr-BQT_k5eSb65yQ', 'width': 1000}], 'place_id': 'ChIJo9rdFU1SjEcRD0i5W0AZZfU', 'plus_code': {'compound_code': 'J64H+9V Le Chenit, Switzerland', 'global_code': '8FR8J64H+9V'}, 'rating': 5, 'reference': 'ChIJo9rdFU1SjEcRD0i5W0AZZfU', 'scope': 'GOOGLE', 'types': ['point_of_interest', 'establishment'], 'user_ratings_total': 1, 'vicinity': 'Rue de la Gare 1, Le Sentier'}, {'geometry': {'location': {'lat': 46.60478149999999, 'lng': 6.230276099999998}, 'viewport': {'northeast': {'lat': 46.60609323029149, 'lng': 6.231666730291502}, 'southwest': {'lat': 46.6033952697085, 'lng': 6.228968769708497}}}, 'icon': 'https://maps.gstatic.com/mapfiles/place_api/icons/generic_business-71.png', 'id': '421aa2698335acdcaf8898c64a183d37e2f99d98', 'name': 'Kurucz Mécanique SA', 'place_id': 'ChIJBWA3_ExSjEcRJfPiaoWoRjg', 'plus_code': {'compound_code': 'J63J+W4 Le Chenit, Switzerland', 'global_code': '8FR8J63J+W4'}, 'reference': 'ChIJBWA3_ExSjEcRJfPiaoWoRjg', 'scope': 'GOOGLE', 'types': ['point_of_interest', 'establishment'], 'vicinity': \"Rue de l'Orbe 13, Le Sentier\"}], 'status': 'OK'}"
   ]
  },
  {
   "cell_type": "code",
   "execution_count": null,
   "metadata": {},
   "outputs": [],
   "source": [
    "from src.utils.geo import distance_epsg_4326\n",
    "\n",
    "g_places_poi_60_550 = []\n",
    "\n",
    "for r in sr_id_6043_550_google_places['results']:\n",
    "    row = {\"lat\": r['geometry']['location'][\"lat\"], \"lon\": r['geometry']['location'][\"lng\"], \"types\": r[\"types\"]}\n",
    "    row['distance'] = distance_epsg_4326(46.6040, 6.2240, row['lat'], row['lon'])\n",
    "    \n",
    "    g_places_poi_60_550.append(row)\n",
    "\n",
    "print(\"POIs from Google Places\")\n",
    "g_places_poi_60_550 = pd.DataFrame(g_places_poi_60_550).sort_values('distance')"
   ]
  },
  {
   "cell_type": "code",
   "execution_count": null,
   "metadata": {},
   "outputs": [],
   "source": [
    "print(\"POIs from HOT OSM\")\n",
    "user_unique_sr_knn_pois[user_unique_sr_knn_pois['sr_id'] == \"6043_550\"].sort_values(\"distance\")"
   ]
  },
  {
   "cell_type": "code",
   "execution_count": null,
   "metadata": {},
   "outputs": [],
   "source": [
    "valid_types(g_places_poi_60_550)"
   ]
  },
  {
   "cell_type": "markdown",
   "metadata": {},
   "source": []
  },
  {
   "cell_type": "code",
   "execution_count": null,
   "metadata": {},
   "outputs": [],
   "source": []
  },
  {
   "cell_type": "code",
   "execution_count": null,
   "metadata": {},
   "outputs": [],
   "source": []
  },
  {
   "cell_type": "code",
   "execution_count": null,
   "metadata": {},
   "outputs": [],
   "source": [
    "def case_study(user_id):\n",
    "    user_sr = csv_dao.load_user_stop_regions(user_id)[0:2]\n",
    "    print(len(user_sr))\n",
    "    print(user_sr)\n",
    "\n",
    "    #p = plot.plot_stop_regions(user_sr, title=\"\")\n",
    "    p = plot.plot_poi(data=valid_pois, color=\"navy\", figure=None, title=\"User: {}, Stop Regions and POIs\".format(user_id))\n",
    "    show(p)\n",
    "    import os\n",
    "\n",
    "    dists = []\n",
    "    for file in os.listdir(\"/home/tales/dev/master/mdc_analysis/outputs/sr_knn/\" + str(user_id)):\n",
    "        ds = pd.read_csv(\"/home/tales/dev/master/mdc_analysis/outputs/sr_knn/\" + str(user_id) + \"/\" + file)\n",
    "        dists.append(ds.iloc[0][\"distance\"].item())\n",
    "\n",
    "    print(\"Dispersion of distance SR<-->POI\")\n",
    "    print(pd.Series(dists).describe())\n",
    "    print(pd.Series(dists).plot.box(title=\"Dispersion of distance from SR to closest POI\"))\n",
    "    return pd.Series(dists)\n",
    "    "
   ]
  },
  {
   "cell_type": "code",
   "execution_count": null,
   "metadata": {},
   "outputs": [],
   "source": [
    "h = case_study(6074)\n",
    "h.plot.hist()"
   ]
  }
 ],
 "metadata": {
  "kernelspec": {
   "display_name": "Python 3",
   "language": "python",
   "name": "python3"
  },
  "language_info": {
   "codemirror_mode": {
    "name": "ipython",
    "version": 3
   },
   "file_extension": ".py",
   "mimetype": "text/x-python",
   "name": "python",
   "nbconvert_exporter": "python",
   "pygments_lexer": "ipython3",
   "version": "3.6.5"
  }
 },
 "nbformat": 4,
 "nbformat_minor": 2
}
