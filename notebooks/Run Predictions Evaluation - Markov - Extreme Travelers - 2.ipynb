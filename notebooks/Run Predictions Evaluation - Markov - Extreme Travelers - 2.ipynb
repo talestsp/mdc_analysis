{
 "cells": [
  {
   "cell_type": "markdown",
   "metadata": {},
   "source": [
    "# Run Predictions Evaluation - Markov - Extreme Travelers 0.1.categ_v1"
   ]
  },
  {
   "cell_type": "code",
   "execution_count": 1,
   "metadata": {},
   "outputs": [
    {
     "name": "stdout",
     "output_type": "stream",
     "text": [
      "working dir /home/tales/dev/master/mdc_analysis\n"
     ]
    }
   ],
   "source": [
    "import os\n",
    "os.chdir(\"/home/tales/dev/master/mdc_analysis/\")\n",
    "print(\"working dir\", os.getcwd())\n"
   ]
  },
  {
   "cell_type": "code",
   "execution_count": 2,
   "metadata": {},
   "outputs": [],
   "source": [
    "import json\n",
    "import urllib.request\n",
    "from itertools import groupby\n",
    "\n",
    "from src.ml.ctw import MyCTW\n",
    "from src.dao import csv_dao\n",
    "from src.dao import objects_dao\n",
    "from src.entity.stop_region import StopRegionGroup, sr_row_to_stop_region\n",
    "from src.exceptions import exceptions\n",
    "from src.exceptions.exceptions import NoCategoryMatched\n",
    "from src.experiments.ctw_eval import evaluation_ctw_single_partition_light_mem\n",
    "from src.experiments.markov_eval import evaluation_markov_k_fold_light_mem, evaluation_markov_all_users_vs_one_light_mem, evaluation_markov_single_partition_light_mem, evaluation_markov_cluster_light_mem\n",
    "from src.taxonomy.category_mapping import tags_to_categ\n",
    "from src.exceptions.exceptions import NoCategoryMatched, NotValidTypes\n",
    "\n",
    "from src.data_processment.input_data_version import InputDataManager\n",
    "\n",
    "import warnings\n",
    "warnings.simplefilter(action='ignore', category=FutureWarning)\n",
    "\n",
    "import pandas as pd\n",
    "pd.set_option('display.float_format', lambda x: '%.3f' % x)"
   ]
  },
  {
   "cell_type": "markdown",
   "metadata": {},
   "source": [
    "## Loading Tags Sequence Data"
   ]
  },
  {
   "cell_type": "code",
   "execution_count": 3,
   "metadata": {
    "scrolled": true
   },
   "outputs": [],
   "source": [
    "def get_users_tags_sequence():\n",
    "    url = \"http://127.0.0.1:5000/stop_regions_group\"\n",
    "    response = urllib.request.urlopen(url)\n",
    "    return json.loads(response.read())\n",
    "\n",
    "def load_users_raw_tags_sequence():\n",
    "    with open('outputs/users_tags_sequence.json') as json_file:\n",
    "        return json.load(json_file)"
   ]
  },
  {
   "cell_type": "code",
   "execution_count": null,
   "metadata": {},
   "outputs": [
    {
     "name": "stdout",
     "output_type": "stream",
     "text": [
      "Loading min_threshold data: 5 min\n",
      "Loading Stop Region Group data\n",
      "Building Stop Region Group sequence\n",
      "Loading min_threshold data: 15 min\n",
      "Loading Stop Region Group data\n",
      "Building Stop Region Group sequence\n",
      "Loading min_threshold data: 30 min\n",
      "Loading Stop Region Group data\n",
      "Building Stop Region Group sequence\n"
     ]
    }
   ],
   "source": [
    "data_manager = InputDataManager(other_sr_stay_time_thresholds_hour=[15, 30])"
   ]
  },
  {
   "cell_type": "code",
   "execution_count": null,
   "metadata": {},
   "outputs": [],
   "source": [
    "# tags_sequence_30_m = objects_dao.load_users_tags_sequence(sr_stay_time_above_h=0.5)\n",
    "\n",
    "# users_tags_sequence_original = tags_sequence_30_m[\"original\"]\n",
    "# users_tags_sequence_30_m = tags_sequence_30_m[\"filtered\"]\n",
    "# users_tags_sequence_15_m = objects_dao.load_users_tags_sequence(sr_stay_time_above_h=0.25)[\"filtered\"]\n",
    "\n",
    "# print(len(users_tags_sequence_original.keys()))"
   ]
  },
  {
   "cell_type": "markdown",
   "metadata": {},
   "source": [
    "## Mapping Tags to Category\n",
    "version: <b>0.1.categ_v1</b>\n",
    "(categ versrion 1, with equal consecutive categories agglutinated)"
   ]
  },
  {
   "cell_type": "code",
   "execution_count": null,
   "metadata": {
    "scrolled": true
   },
   "outputs": [],
   "source": [
    "# users_categ_sequence_original, users_categ_sequence_elements_original = tags_to_categ(users_tags_sequence_original)\n",
    "# users_categ_sequence_30_m, users_categ_sequence_elements_30_m = tags_to_categ(users_tags_sequence_30_m)\n",
    "# users_categ_sequence_15_m, users_categ_sequence_elements_15_m = tags_to_categ(users_tags_sequence_15_m)"
   ]
  },
  {
   "cell_type": "code",
   "execution_count": null,
   "metadata": {},
   "outputs": [],
   "source": [
    "# len(users_categ_sequence_original)"
   ]
  },
  {
   "cell_type": "markdown",
   "metadata": {},
   "source": [
    "# Extreme Travelers"
   ]
  },
  {
   "cell_type": "markdown",
   "metadata": {},
   "source": [
    "#### All users as the cluster"
   ]
  },
  {
   "cell_type": "code",
   "execution_count": null,
   "metadata": {},
   "outputs": [
    {
     "name": "stdout",
     "output_type": "stream",
     "text": [
      "n: 1 - user_id: 6015\n",
      "n: 2 - user_id: 6086\n",
      "n: 3 - user_id: 6014\n",
      "n: 4 - user_id: 6057\n",
      "n: 5 - user_id: 6181\n",
      "n: 6 - user_id: 6069\n",
      "n: 7 - user_id: 5985\n",
      "n: 8 - user_id: 5970\n",
      "n: 9 - user_id: 6062\n",
      "n: 10 - user_id: 6042\n",
      "n: 11 - user_id: 5966\n",
      "n: 12 - user_id: 6067\n"
     ]
    }
   ],
   "source": [
    "n=0\n",
    "for user_id in data_manager.get_user_ids():\n",
    "    n += 1\n",
    "    print(\"n:\", n, \"-\", \"user_id:\", user_id)\n",
    "    \n",
    "    try:\n",
    "        evaluation_markov_cluster_light_mem(cluster=data_manager.get_input_data(version=\"0.1.categ_v1\", sr_min_time=5), \n",
    "                                            test_user_id=user_id, \n",
    "                                            input_data_version=\"0.1.categ_v1\", \n",
    "                                            cluster_version=\"all_vs_one\",\n",
    "                                            dir_name=\"clusters_all_vs_one\")\n",
    "    except KeyError:\n",
    "        print(\"Skipping user: {}\".format(user_id))\n",
    "    \n",
    "    try:\n",
    "        evaluation_markov_cluster_light_mem(cluster=data_manager.get_input_data(version=\"0.1.categ_v1\", sr_min_time=30),\n",
    "                                            test_user_id=user_id, \n",
    "                                            input_data_version=\"0.1.categ_v1_filtered_30min\", \n",
    "                                            cluster_version=\"all_vs_one\",\n",
    "                                            dir_name=\"clusters_all_vs_one\")\n",
    "    except KeyError:\n",
    "        print(\"Skipping user: {}\".format(user_id))\n",
    "        \n",
    "    try:\n",
    "        evaluation_markov_cluster_light_mem(cluster=data_manager.get_input_data(version=\"0.1.categ_v1\", sr_min_time=15),\n",
    "                                            test_user_id=user_id, \n",
    "                                            input_data_version=\"0.1.categ_v1_filtered_15min\", \n",
    "                                            cluster_version=\"all_vs_one\",\n",
    "                                            dir_name=\"clusters_all_vs_one\")\n",
    "    except KeyError:\n",
    "        print(\"Skipping user: {}\".format(user_id))"
   ]
  },
  {
   "cell_type": "markdown",
   "metadata": {},
   "source": [
    "#### All users as one cluster <font color=\"red\">for each user of extreme travelers groups</font>"
   ]
  },
  {
   "cell_type": "code",
   "execution_count": null,
   "metadata": {},
   "outputs": [],
   "source": [
    "eb_group = ['5936', '5938', '5959', '5962', '6020', '6023', '6035', '6043', '6103', '6104', '6168', '6171', '6194']\n",
    "\n",
    "n=0\n",
    "for user_id in eb_group:\n",
    "    n += 1\n",
    "    print(\"n:\", n, \"-\", \"user_id:\", user_id)\n",
    "    \n",
    "    try:\n",
    "        evaluation_markov_cluster_light_mem(cluster=data_manager.get_input_data(version=\"0.1.categ_v1\", sr_min_time=5), \n",
    "                                        test_user_id=user_id, \n",
    "                                        input_data_version=\"0.1.categ_v1\", \n",
    "                                        cluster_version=\"all_vs_early_birds\",\n",
    "                                        dir_name=\"clusters_all_vs_early_birds\")\n",
    "    except KeyError:\n",
    "        print(\"Skipping user: {}\".format(user_id))\n",
    "    \n",
    "    try:\n",
    "        evaluation_markov_cluster_light_mem(cluster=data_manager.get_input_data(version=\"0.1.categ_v1\", sr_min_time=30), \n",
    "                                        test_user_id=user_id, \n",
    "                                        input_data_version=\"0.1.categ_v1_filtered_30min\", \n",
    "                                        cluster_version=\"all_vs_early_birds\",\n",
    "                                        dir_name=\"clusters_all_vs_early_birds\")\n",
    "    except KeyError:\n",
    "        print(\"Skipping user: {}\".format(user_id))\n",
    "        \n",
    "    try:\n",
    "        evaluation_markov_cluster_light_mem(cluster=data_manager.get_input_data(version=\"0.1.categ_v1\", sr_min_time=15), \n",
    "                                        test_user_id=user_id, \n",
    "                                        input_data_version=\"0.1.categ_v1_filtered_15min\", \n",
    "                                        cluster_version=\"all_vs_early_birds\",\n",
    "                                        dir_name=\"clusters_all_vs_early_birds\")\n",
    "    except KeyError:\n",
    "        print(\"Skipping user: {}\".format(user_id))"
   ]
  },
  {
   "cell_type": "code",
   "execution_count": null,
   "metadata": {},
   "outputs": [],
   "source": [
    "no_group = [\"6103\",\"6190\",\"6074\",\"6102\",\"6078\",\"5951\",\"6183\",\"6100\",\"6077\",\"6056\",\"6181\",\"6182\",\"6198\",\"6172\",\"6062\",\"5987\"]\n",
    "\n",
    "n=0\n",
    "for user_id in no_group:\n",
    "    n += 1\n",
    "    print(\"n:\", n, \"-\", \"user_id:\", user_id)\n",
    "    try:\n",
    "        evaluation_markov_cluster_light_mem(cluster=data_manager.get_input_data(version=\"0.1.categ_v1\", sr_min_time=5), \n",
    "                                        test_user_id=user_id, \n",
    "                                        input_data_version=\"0.1.categ_v1\", \n",
    "                                        cluster_version=\"all_vs_night_owls\",\n",
    "                                        dir_name=\"clusters_all_vs_night_owls\")\n",
    "    except KeyError:\n",
    "        print(\"Skipping user: {}\".format(user_id))\n",
    "    \n",
    "    try:\n",
    "        evaluation_markov_cluster_light_mem(cluster=data_manager.get_input_data(version=\"0.1.categ_v1\", sr_min_time=30), \n",
    "                                        test_user_id=user_id, \n",
    "                                        input_data_version=\"0.1.categ_v1_filtered_30min\", \n",
    "                                        cluster_version=\"all_vs_night_owls\",\n",
    "                                        dir_name=\"clusters_all_vs_night_owls\")\n",
    "    except KeyError:\n",
    "        print(\"Skipping user: {}\".format(user_id))\n",
    "        \n",
    "    try:\n",
    "        evaluation_markov_cluster_light_mem(cluster=data_manager.get_input_data(version=\"0.1.categ_v1\", sr_min_time=15), \n",
    "                                        test_user_id=user_id, \n",
    "                                        input_data_version=\"0.1.categ_v1_filtered_15min\", \n",
    "                                        cluster_version=\"all_vs_night_owls\",\n",
    "                                        dir_name=\"clusters_all_vs_night_owls\")\n",
    "    except KeyError:\n",
    "        print(\"Skipping user: {}\".format(user_id))"
   ]
  },
  {
   "cell_type": "code",
   "execution_count": null,
   "metadata": {},
   "outputs": [],
   "source": [
    "ti_group = ['5928', '5935', '5938', '5940', '5959', '5965', '5979', '5988', '5989', '6014', '6075', '6085', '6090', '6106', '6177', '6188', '6189', '6194']\n",
    "\n",
    "n=0\n",
    "for user_id in ti_group:\n",
    "    n += 1\n",
    "    print(\"n:\", n, \"-\", \"user_id:\", user_id)\n",
    "    \n",
    "    try:\n",
    "        evaluation_markov_cluster_light_mem(cluster=data_manager.get_input_data(version=\"0.1.categ_v1\", sr_min_time=5), \n",
    "                                        test_user_id=user_id, \n",
    "                                        input_data_version=\"0.1.categ_v1\", \n",
    "                                        cluster_version=\"all_vs_tireless_its\",\n",
    "                                        dir_name=\"clusters_all_vs_tireless_its\")\n",
    "    except KeyError:\n",
    "        print(\"Skipping user: {}\".format(user_id))\n",
    "    \n",
    "    try:\n",
    "        evaluation_markov_cluster_light_mem(cluster=data_manager.get_input_data(version=\"0.1.categ_v1\", sr_min_time=30), \n",
    "                                        test_user_id=user_id, \n",
    "                                        input_data_version=\"0.1.categ_v1_filtered_30min\", \n",
    "                                        cluster_version=\"all_vs_tireless_its\",\n",
    "                                        dir_name=\"clusters_all_vs_tireless_its\")\n",
    "    except KeyError:\n",
    "        print(\"Skipping user: {}\".format(user_id))\n",
    "        \n",
    "    try:\n",
    "        evaluation_markov_cluster_light_mem(cluster=data_manager.get_input_data(version=\"0.1.categ_v1\", sr_min_time=15), \n",
    "                                        test_user_id=user_id, \n",
    "                                        input_data_version=\"0.1.categ_v1_filtered_15min\", \n",
    "                                        cluster_version=\"all_vs_tireless_its\",\n",
    "                                        dir_name=\"clusters_all_vs_tireless_its\")\n",
    "    except KeyError:\n",
    "        print(\"Skipping user: {}\".format(user_id))"
   ]
  },
  {
   "cell_type": "markdown",
   "metadata": {},
   "source": [
    "#### Extreme travelers, each group trained to test each user on it.\n",
    "Obs: train partition excluding the test user"
   ]
  },
  {
   "cell_type": "code",
   "execution_count": null,
   "metadata": {},
   "outputs": [],
   "source": [
    "eb_cluster_original = {}\n",
    "eb_cluster_30_m = {}\n",
    "eb_cluster_15_m = {}\n",
    "\n",
    "for eb_user_id in eb_group:\n",
    "    try:\n",
    "        eb_cluster_original[eb_user_id] = data_manager.get_input_data(version=\"0.1.categ_v1\", sr_min_time=5)[eb_user_id]\n",
    "        eb_cluster_30_m[eb_user_id] = data_manager.get_input_data(version=\"0.1.categ_v1\", sr_min_time=30)[eb_user_id]\n",
    "        eb_cluster_15_m[eb_user_id] = data_manager.get_input_data(version=\"0.1.categ_v1\", sr_min_time=15)[eb_user_id]\n",
    "        \n",
    "    except KeyError:\n",
    "        print(\"Skipping user: {}\".format(user_id))\n",
    "    \n",
    "n=0\n",
    "for user_id in eb_group:\n",
    "    n += 1\n",
    "    print(\"n:\", n, \"-\", \"user_id:\", user_id)\n",
    "    try:\n",
    "        evaluation_markov_cluster_light_mem(cluster=eb_cluster_original, \n",
    "                                        test_user_id=user_id, \n",
    "                                        input_data_version=\"0.1.categ_v1\", \n",
    "                                        cluster_version=\"cluster_early_birds\",\n",
    "                                        dir_name=\"clusters_early_birds\")\n",
    "    except KeyError:\n",
    "        print(\"Skipping user: {}\".format(user_id))\n",
    "    \n",
    "    try:\n",
    "        evaluation_markov_cluster_light_mem(cluster=eb_cluster_30_m, \n",
    "                                        test_user_id=user_id, \n",
    "                                        input_data_version=\"0.1.categ_v1_filtered_30min\", \n",
    "                                        cluster_version=\"cluster_early_birds\",\n",
    "                                        dir_name=\"clusters_early_birds\")\n",
    "    except KeyError:\n",
    "        print(\"Skipping user: {}\".format(user_id))\n",
    "        \n",
    "    try:\n",
    "        evaluation_markov_cluster_light_mem(cluster=eb_cluster_15_m, \n",
    "                                        test_user_id=user_id, \n",
    "                                        input_data_version=\"0.1.categ_v1_filtered_15min\", \n",
    "                                        cluster_version=\"cluster_early_birds\",\n",
    "                                        dir_name=\"clusters_early_birds\")\n",
    "    except KeyError:\n",
    "        print(\"Skipping user: {}\".format(user_id))"
   ]
  },
  {
   "cell_type": "code",
   "execution_count": null,
   "metadata": {},
   "outputs": [],
   "source": [
    "no_cluster_original = {}\n",
    "no_cluster_30_m = {}\n",
    "no_cluster_15_m = {}\n",
    "\n",
    "for no_user_id in no_group:\n",
    "    try:\n",
    "        no_cluster_original[no_user_id] = data_manager.get_input_data(version=\"0.1.categ_v1\", sr_min_time=5)[no_user_id]\n",
    "        no_cluster_30_m[no_user_id] = data_manager.get_input_data(version=\"0.1.categ_v1\", sr_min_time=30)[no_user_id]\n",
    "        no_cluster_15_m[no_user_id] = data_manager.get_input_data(version=\"0.1.categ_v1\", sr_min_time=15)[no_user_id]\n",
    "        \n",
    "    except KeyError:\n",
    "        print(\"Skipping user: {}\".format(user_id))\n",
    "    \n",
    "n=0\n",
    "for user_id in no_group:\n",
    "    n += 1\n",
    "    print(\"n:\", n, \"-\", \"user_id:\", user_id)\n",
    "    try:\n",
    "        evaluation_markov_cluster_light_mem(cluster=no_cluster_original, \n",
    "                                        test_user_id=user_id, \n",
    "                                        input_data_version=\"0.1.categ_v1\", \n",
    "                                        cluster_version=\"cluster_night_owls\",\n",
    "                                        dir_name=\"clusters_night_owls\")\n",
    "    except KeyError:\n",
    "        print(\"Skipping user: {}\".format(user_id))\n",
    "    \n",
    "    try:\n",
    "        evaluation_markov_cluster_light_mem(cluster=no_cluster_30_m, \n",
    "                                        test_user_id=user_id, \n",
    "                                        input_data_version=\"0.1.categ_v1_filtered_30min\", \n",
    "                                        cluster_version=\"cluster_night_owls\",\n",
    "                                        dir_name=\"clusters_night_owls\")\n",
    "    except KeyError:\n",
    "        print(\"Skipping user: {}\".format(user_id))\n",
    "        \n",
    "    try:\n",
    "        evaluation_markov_cluster_light_mem(cluster=no_cluster_15_m, \n",
    "                                        test_user_id=user_id, \n",
    "                                        input_data_version=\"0.1.categ_v1_filtered_15min\", \n",
    "                                        cluster_version=\"cluster_night_owls\",\n",
    "                                        dir_name=\"clusters_night_owls\")\n",
    "    except KeyError:\n",
    "        print(\"Skipping user: {}\".format(user_id))"
   ]
  },
  {
   "cell_type": "code",
   "execution_count": null,
   "metadata": {},
   "outputs": [],
   "source": [
    "ti_cluster_original = {}\n",
    "ti_cluster_30_m = {}\n",
    "ti_cluster_15_m = {}\n",
    "\n",
    "for ti_user_id in ti_group:\n",
    "    try:\n",
    "        ti_cluster_original[ti_user_id] = data_manager.get_input_data(version=\"0.1.categ_v1\", sr_min_time=5)[ti_user_id]\n",
    "        ti_cluster_30_m[ti_user_id] = data_manager.get_input_data(version=\"0.1.categ_v1\", sr_min_time=30)[ti_user_id]\n",
    "        ti_cluster_15_m[ti_user_id] = data_manager.get_input_data(version=\"0.1.categ_v1\", sr_min_time=15)[ti_user_id]\n",
    "        \n",
    "    except KeyError:\n",
    "        print(\"Skipping user [ti group]: {}\".format(user_id))\n",
    "    \n",
    "n=0\n",
    "for user_id in ti_group:\n",
    "    n += 1\n",
    "    print(\"n:\", n, \"-\", \"user_id:\", user_id)\n",
    "    try:\n",
    "        evaluation_markov_cluster_light_mem(cluster=ti_cluster_original, \n",
    "                                        test_user_id=user_id, \n",
    "                                        input_data_version=\"0.1.categ_v1\", \n",
    "                                        cluster_version=\"cluster_tireless_its\",\n",
    "                                        dir_name=\"clusters_tireless_its\")\n",
    "    except KeyError:\n",
    "        print(\"Skipping user [original]: {}\".format(user_id))\n",
    "    \n",
    "    try:        \n",
    "        evaluation_markov_cluster_light_mem(cluster=ti_cluster_30_m, \n",
    "                                        test_user_id=user_id, \n",
    "                                        input_data_version=\"0.1.categ_v1_filtered_30min\", \n",
    "                                        cluster_version=\"cluster_tireless_its\",\n",
    "                                        dir_name=\"clusters_tireless_its\")\n",
    "    except KeyError:\n",
    "        print(\"Skipping user [30m]: {}\".format(user_id))\n",
    "        \n",
    "    try:        \n",
    "        evaluation_markov_cluster_light_mem(cluster=ti_cluster_15_m, \n",
    "                                        test_user_id=user_id, \n",
    "                                        input_data_version=\"0.1.categ_v1_filtered_15min\", \n",
    "                                        cluster_version=\"cluster_tireless_its\",\n",
    "                                        dir_name=\"clusters_tireless_its\")\n",
    "    except KeyError:\n",
    "        print(\"Skipping user [15m]: {}\".format(user_id))"
   ]
  },
  {
   "cell_type": "markdown",
   "metadata": {},
   "source": [
    "#### Extreme travelers - each user by themselves"
   ]
  },
  {
   "cell_type": "code",
   "execution_count": null,
   "metadata": {},
   "outputs": [],
   "source": [
    "n=0\n",
    "for user_id in eb_group + no_group + ti_group:\n",
    "    n += 1\n",
    "    print(\"n:\", n, \"-\", \"user_id:\", user_id)\n",
    "    try:\n",
    "        evaluation_markov_cluster_light_mem(cluster={user_id: data_manager.get_input_data(version=\"0.1.categ_v1\", sr_min_time=5)[user_id], \n",
    "                                                     \"clone\": data_manager.get_input_data(version=\"0.1.categ_v1\", sr_min_time=5)[user_id]}, \n",
    "                                            test_user_id=user_id, \n",
    "                                            input_data_version=\"0.1.categ_v1\", \n",
    "                                            cluster_version=\"extreme_trav_each_one_by_itself\",\n",
    "                                            dir_name=\"extreme_trav_each_one_by_itself\")\n",
    "    except KeyError:\n",
    "        print(\"Skipping user: {}\".format(user_id))\n",
    "    \n",
    "    try:\n",
    "        evaluation_markov_cluster_light_mem(cluster={user_id: data_manager.get_input_data(version=\"0.1.categ_v1\", sr_min_time=30)[user_id], \n",
    "                                                     \"clone\": data_manager.get_input_data(version=\"0.1.categ_v1\", sr_min_time=30)[user_id]}, \n",
    "                                            test_user_id=user_id, \n",
    "                                            input_data_version=\"0.1.categ_v1_filtered_30min\", \n",
    "                                            cluster_version=\"extreme_trav_each_one_by_itself\",\n",
    "                                            dir_name=\"extreme_trav_each_one_by_itself\")\n",
    "    except KeyError:\n",
    "        print(\"Skipping user: {}\".format(user_id))\n",
    "        \n",
    "    try:\n",
    "        evaluation_markov_cluster_light_mem(cluster={user_id: data_manager.get_input_data(version=\"0.1.categ_v1\", sr_min_time=15)[user_id], \n",
    "                                                     \"clone\": data_manager.get_input_data(version=\"0.1.categ_v1\", sr_min_time=15)[user_id]}, \n",
    "                                            test_user_id=user_id, \n",
    "                                            input_data_version=\"0.1.categ_v1_filtered_15min\", \n",
    "                                            cluster_version=\"extreme_trav_each_one_by_itself\",\n",
    "                                            dir_name=\"extreme_trav_each_one_by_itself\")\n",
    "    except KeyError:\n",
    "        print(\"Skipping user: {}\".format(user_id))"
   ]
  },
  {
   "cell_type": "code",
   "execution_count": null,
   "metadata": {
    "scrolled": false
   },
   "outputs": [],
   "source": [
    "n=0\n",
    "for user_id in data_manager.get_user_ids():\n",
    "    n += 1\n",
    "    print(\"n:\", n, \"-\", \"user_id:\", user_id)\n",
    "    \n",
    "    try:\n",
    "        evaluation_markov_cluster_light_mem(cluster={user_id: data_manager.get_input_data(version=\"0.1.categ_v1\", sr_min_time=5)[user_id], \n",
    "                                                     \"clone\": data_manager.get_input_data(version=\"0.1.categ_v1\", sr_min_time=5)[user_id]}, \n",
    "                                            test_user_id=user_id, \n",
    "                                            input_data_version=\"0.1.categ_v1\", \n",
    "                                            cluster_version=\"each_one_by_itself\",\n",
    "                                            dir_name=\"each_one_by_itself\")\n",
    "    except KeyError:\n",
    "        print(\"Skipping user: {}\".format(user_id))\n",
    "    \n",
    "    try:\n",
    "        evaluation_markov_cluster_light_mem(cluster={user_id: data_manager.get_input_data(version=\"0.1.categ_v1\", sr_min_time=30)[user_id], \n",
    "                                                     \"clone\": data_manager.get_input_data(version=\"0.1.categ_v1\", sr_min_time=30)[user_id]}, \n",
    "                                            test_user_id=user_id, \n",
    "                                            input_data_version=\"0.1.categ_v1_filtered_30min\", \n",
    "                                            cluster_version=\"each_one_by_itself\",\n",
    "                                            dir_name=\"each_one_by_itself\")\n",
    "    except KeyError:\n",
    "        print(\"Skipping user: {}\".format(user_id))\n",
    "        \n",
    "    try:\n",
    "        evaluation_markov_cluster_light_mem(cluster={user_id: data_manager.get_input_data(version=\"0.1.categ_v1\", sr_min_time=15)[user_id], \n",
    "                                                     \"clone\": data_manager.get_input_data(version=\"0.1.categ_v1\", sr_min_time=15)[user_id]}, \n",
    "                                            test_user_id=user_id, \n",
    "                                            input_data_version=\"0.1.categ_v1_filtered_15min\", \n",
    "                                            cluster_version=\"each_one_by_itself\",\n",
    "                                            dir_name=\"each_one_by_itself\")\n",
    "    except KeyError:\n",
    "        print(\"Skipping user: {}\".format(user_id))"
   ]
  },
  {
   "cell_type": "code",
   "execution_count": null,
   "metadata": {},
   "outputs": [],
   "source": [
    "len(data_manager.get_input_data(version=\"0.1.categ_v1\", sr_min_time=5))"
   ]
  },
  {
   "cell_type": "markdown",
   "metadata": {},
   "source": [
    "##### CREATE DIRs"
   ]
  },
  {
   "cell_type": "markdown",
   "metadata": {},
   "source": [
    "mkdir /home/tales/dev/master/mdc_analysis/outputs/experiments/clusters_all_vs_one/<br> \n",
    "<br> \n",
    "mkdir /home/tales/dev/master/mdc_analysis/outputs/experiments/clusters_all_vs_early_birds/<br> \n",
    "mkdir /home/tales/dev/master/mdc_analysis/outputs/experiments/clusters_all_vs_night_owls/<br> \n",
    "mkdir /home/tales/dev/master/mdc_analysis/outputs/experiments/clusters_all_vs_tireless_its/<br> \n",
    "<br> \n",
    "mkdir /home/tales/dev/master/mdc_analysis/outputs/experiments/clusters_early_birds/<br> \n",
    "mkdir /home/tales/dev/master/mdc_analysis/outputs/experiments/clusters_night_owls/<br> \n",
    "mkdir /home/tales/dev/master/mdc_analysis/outputs/experiments/clusters_tireless_its/<br> \n",
    "<br> \n",
    "mkdir /home/tales/dev/master/mdc_analysis/outputs/experiments/each_one_by_itself/<br> \n",
    "<br> \n",
    "mkdir /home/tales/dev/master/mdc_analysis/outputs/experiments/extreme_trav_each_one_by_itself/<br> \n",
    "<br> \n",
    "mkdir /home/tales/dev/master/mdc_analysis/outputs/experiments/clusters"
   ]
  },
  {
   "cell_type": "markdown",
   "metadata": {},
   "source": [
    "##### COPY"
   ]
  },
  {
   "cell_type": "markdown",
   "metadata": {},
   "source": [
    "cp /home/tales/dev/master/mdc_analysis/outputs/experiments/clusters_all_vs_one/* /home/tales/dev/master/mdc_analysis/outputs/experiments/clusters<br> \n",
    "<br> \n",
    "cp /home/tales/dev/master/mdc_analysis/outputs/experiments/clusters_all_vs_early_birds/* /home/tales/dev/master/mdc_analysis/outputs/experiments/clusters<br> \n",
    "cp /home/tales/dev/master/mdc_analysis/outputs/experiments/clusters_all_vs_night_owls/* /home/tales/dev/master/mdc_analysis/outputs/experiments/clusters<br> \n",
    "cp /home/tales/dev/master/mdc_analysis/outputs/experiments/clusters_all_vs_tireless_its/* /home/tales/dev/master/mdc_analysis/outputs/experiments/clusters<br> \n",
    "<br> \n",
    "cp /home/tales/dev/master/mdc_analysis/outputs/experiments/clusters_early_birds/* /home/tales/dev/master/mdc_analysis/outputs/experiments/clusters<br> \n",
    "cp /home/tales/dev/master/mdc_analysis/outputs/experiments/clusters_night_owls/* /home/tales/dev/master/mdc_analysis/outputs/experiments/clusters<br> \n",
    "cp /home/tales/dev/master/mdc_analysis/outputs/experiments/clusters_tireless_its/* /home/tales/dev/master/mdc_analysis/outputs/experiments/clusters<br> \n",
    "<br> \n",
    "cp /home/tales/dev/master/mdc_analysis/outputs/experiments/each_one_by_itself/* /home/tales/dev/master/mdc_analysis/outputs/experiments/clusters<br> \n",
    "<br> \n",
    "cp /home/tales/dev/master/mdc_analysis/outputs/experiments/extreme_trav_each_one_by_itself/* /home/tales/dev/master/mdc_analysis/outputs/experiments/clusters"
   ]
  },
  {
   "cell_type": "code",
   "execution_count": null,
   "metadata": {},
   "outputs": [],
   "source": []
  },
  {
   "cell_type": "markdown",
   "metadata": {},
   "source": [
    "##### DELETE"
   ]
  },
  {
   "cell_type": "markdown",
   "metadata": {},
   "source": [
    "rm /home/tales/dev/master/mdc_analysis/outputs/experiments/clusters_all_vs_one/ <br> \n",
    "rm /home/tales/dev/master/mdc_analysis/outputs/experiments/clusters_all_vs_early_birds/ <br> \n",
    "rm /home/tales/dev/master/mdc_analysis/outputs/experiments/clusters_all_vs_night_owls/ <br> \n",
    "rm /home/tales/dev/master/mdc_analysis/outputs/experiments/clusters_all_vs_tireless_its/ <br> \n",
    "<br> \n",
    "rm /home/tales/dev/master/mdc_analysis/outputs/experiments/clusters_early_birds/ <br> \n",
    "rm /home/tales/dev/master/mdc_analysis/outputs/experiments/clusters_night_owls/ <br> \n",
    "rm /home/tales/dev/master/mdc_analysis/outputs/experiments/clusters_tireless_its/ <br> \n",
    "<br> \n",
    "rm /home/tales/dev/master/mdc_analysis/outputs/experiments/each_one_by_itself/ <br> \n",
    "<br> \n",
    "rm /home/tales/dev/master/mdc_analysis/outputs/experiments/extreme_trav_each_one_by_itself/ <br> \n",
    "<br> \n",
    "rm /home/tales/dev/master/mdc_analysis/outputs/experiments/clusters/"
   ]
  },
  {
   "cell_type": "code",
   "execution_count": null,
   "metadata": {},
   "outputs": [],
   "source": []
  }
 ],
 "metadata": {
  "kernelspec": {
   "display_name": "Python 3",
   "language": "python",
   "name": "python3"
  },
  "language_info": {
   "codemirror_mode": {
    "name": "ipython",
    "version": 3
   },
   "file_extension": ".py",
   "mimetype": "text/x-python",
   "name": "python",
   "nbconvert_exporter": "python",
   "pygments_lexer": "ipython3",
   "version": "3.6.4"
  }
 },
 "nbformat": 4,
 "nbformat_minor": 2
}
