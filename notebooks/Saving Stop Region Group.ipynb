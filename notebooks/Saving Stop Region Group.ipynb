{
 "cells": [
  {
   "cell_type": "code",
   "execution_count": 23,
   "metadata": {},
   "outputs": [
    {
     "name": "stdout",
     "output_type": "stream",
     "text": [
      "working dir /home/tales/dev/master/mdc_analysis\n"
     ]
    }
   ],
   "source": [
    "import json\n",
    "import urllib.request\n",
    "import os\n",
    "os.chdir(\"/home/tales/dev/master/mdc_analysis/\")\n",
    "print(\"working dir\", os.getcwd())\n",
    "\n",
    "from src.dao import csv_dao\n",
    "from src.dao import objects_dao\n",
    "from src.entity.stop_region import StopRegionGroup, sr_row_to_stop_region\n",
    "from src.utils.others import remove_list_elements\n",
    "from src.taxonomy.category_mapping import CategoryMapper\n",
    "from src.exceptions.exceptions import NoCategoryMatched, NotValidTypes\n",
    "\n",
    "import warnings\n",
    "warnings.simplefilter(action='ignore', category=FutureWarning)\n",
    "\n",
    "import pandas as pd\n",
    "pd.set_option('display.float_format', lambda x: '%.3f' % x)"
   ]
  },
  {
   "cell_type": "markdown",
   "metadata": {},
   "source": [
    "## Loading from CSV"
   ]
  },
  {
   "cell_type": "code",
   "execution_count": 33,
   "metadata": {},
   "outputs": [],
   "source": [
    "users_srg = {}"
   ]
  },
  {
   "cell_type": "code",
   "execution_count": 34,
   "metadata": {
    "scrolled": true
   },
   "outputs": [
    {
     "name": "stdout",
     "output_type": "stream",
     "text": [
      "User 5976 data loaded from object\n",
      "User 6068 data loaded from object\n",
      "User 6170 data loaded from object\n",
      "User 5964 data loaded from object\n",
      "User 5957 data loaded from object\n",
      "User 5982 data loaded from object\n",
      "User 6097 data loaded from object\n",
      "User 6106 data loaded from object\n",
      "User 5940 data loaded from object\n",
      "User 6037 data loaded from object\n",
      "User 5960 data loaded from object\n",
      "User 6061 data loaded from object\n",
      "User 6169 data loaded from object\n",
      "User 6064 data loaded from object\n",
      "User 5951 data loaded from object\n",
      "User 6093 data loaded from object\n",
      "User 5963 data loaded from object\n",
      "User 6033 data loaded from object\n",
      "User 6102 data loaded from object\n",
      "User 6077 data loaded from object\n",
      "User 5995 data loaded from object\n",
      "User 5965 data loaded from object\n",
      "User 6073 data loaded from object\n",
      "User 5954 data loaded from object\n",
      "User 6024 data loaded from object\n",
      "User 5990 data loaded from object\n",
      "User 6054 data loaded from object\n",
      "User 6060 data loaded from object\n",
      "User 6002 data loaded from object\n",
      "User 5992 data loaded from object\n",
      "User 5987 data loaded from object\n",
      "User 5943 data loaded from object\n",
      "User 6016 data loaded from object\n",
      "User 6058 data loaded from object\n",
      "User 5991 data loaded from object\n",
      "User 6194 data loaded from object\n",
      "User 6045 data loaded from object\n",
      "User 6189 data loaded from object\n",
      "User 5945 data loaded from object\n",
      "User 6187 data loaded from object\n",
      "User 6056 data loaded from object\n",
      "User 6198 data loaded from object\n",
      "User 6183 data loaded from object\n",
      "User 6007 data loaded from object\n",
      "User 5972 data loaded from object\n",
      "User 6020 data loaded from object\n",
      "User 6026 data loaded from object\n",
      "User 6168 data loaded from object\n",
      "User 5961 data loaded from object\n",
      "User 6082 data loaded from object\n",
      "User 6063 data loaded from object\n",
      "User 6012 data loaded from object\n",
      "User 5947 data loaded from object\n",
      "User 6192 data loaded from object\n",
      "User 6166 data loaded from object\n",
      "User 6172 data loaded from object\n",
      "User 6032 data loaded from object\n",
      "User 6085 data loaded from object\n",
      "User 6034 data loaded from object\n",
      "User 6071 data loaded from object\n",
      "User 6188 data loaded from object\n",
      "User 6017 data loaded from object\n",
      "User 6059 data loaded from object\n",
      "User 6076 data loaded from object\n",
      "User 6174 data loaded from object\n",
      "User 6001 data loaded from object\n",
      "User 6094 data loaded from object\n",
      "User 6096 data loaded from object\n",
      "User 6041 data loaded from object\n",
      "User 6104 data loaded from object\n",
      "User 5978 data loaded from object\n",
      "User 5959 data loaded from object\n",
      "User 6053 data loaded from object\n",
      "User 6004 data loaded from object\n",
      "User 5974 data loaded from object\n",
      "User 6190 data loaded from object\n",
      "User 5950 data loaded from object\n",
      "User 6047 data loaded from object\n",
      "Loading user 5925 data from CSV\n",
      "Loading user 6109 data from CSV\n",
      "Loading user 5988 data from CSV\n",
      "Loading user 6000 data from CSV\n",
      "Loading user 6079 data from CSV\n",
      "Loading user 6100 data from CSV\n",
      "Loading user 6010 data from CSV\n",
      "Loading user 5975 data from CSV\n",
      "Loading user 5993 data from CSV\n",
      "Loading user 5958 data from CSV\n",
      "Loading user 6175 data from CSV\n",
      "Loading user 6074 data from CSV\n",
      "Loading user 6027 data from CSV\n",
      "Loading user 5989 data from CSV\n",
      "Loading user 5967 data from CSV\n",
      "Loading user 6083 data from CSV\n",
      "Loading user 5935 data from CSV\n",
      "Loading user 6090 data from CSV\n",
      "Loading user 5948 data from CSV\n",
      "Loading user 6177 data from CSV\n",
      "Loading user 5979 data from CSV\n",
      "Loading user 6039 data from CSV\n",
      "Loading user 5952 data from CSV\n",
      "Loading user 5939 data from CSV\n",
      "Loading user 6066 data from CSV\n",
      "Loading user 5953 data from CSV\n",
      "Loading user 6167 data from CSV\n",
      "Loading user 6043 data from CSV\n",
      "Loading user 6103 data from CSV\n",
      "Loading user 5969 data from CSV\n",
      "Loading user 6038 data from CSV\n",
      "Loading user 5941 data from CSV\n",
      "Loading user 5986 data from CSV\n",
      "Loading user 5936 data from CSV\n",
      "Loading user 6005 data from CSV\n",
      "Loading user 6051 data from CSV\n",
      "Loading user 6072 data from CSV\n",
      "Loading user 5944 data from CSV\n",
      "Loading user 6070 data from CSV\n",
      "Loading user 5924 data from CSV\n",
      "Loading user 6182 data from CSV\n",
      "Loading user 6176 data from CSV\n",
      "Loading user 5956 data from CSV\n",
      "Loading user 6180 data from CSV\n",
      "Loading user 5962 data from CSV\n",
      "Loading user 5955 data from CSV\n",
      "Loading user 6179 data from CSV\n",
      "Loading user 6040 data from CSV\n",
      "Loading user 6178 data from CSV\n",
      "Loading user 6003 data from CSV\n",
      "Loading user 5928 data from CSV\n",
      "Loading user 6197 data from CSV\n",
      "Loading user 5973 data from CSV\n",
      "Loading user 5977 data from CSV\n",
      "Loading user 6199 data from CSV\n",
      "Loading user 6171 data from CSV\n",
      "Loading user 6029 data from CSV\n",
      "Loading user 6035 data from CSV\n",
      "Loading user 6087 data from CSV\n",
      "Loading user 6030 data from CSV\n",
      "Loading user 5942 data from CSV\n",
      "Loading user 5927 data from CSV\n",
      "Loading user 6031 data from CSV\n",
      "Loading user 6078 data from CSV\n",
      "Loading user 6023 data from CSV\n",
      "Loading user 6036 data from CSV\n",
      "Loading user 5968 data from CSV\n",
      "Loading user 6028 data from CSV\n",
      "Loading user 6075 data from CSV\n",
      "Loading user 5980 data from CSV\n",
      "Loading user 5937 data from CSV\n",
      "Loading user 5938 data from CSV\n",
      "Loading user 5949 data from CSV\n",
      "Loading user 6067 data from CSV\n",
      "Loading user 5966 data from CSV\n",
      "Loading user 6042 data from CSV\n",
      "Loading user 6062 data from CSV\n",
      "Loading user 5970 data from CSV\n",
      "Loading user 5985 data from CSV\n",
      "Loading user 6069 data from CSV\n",
      "Loading user 6181 data from CSV\n",
      "Loading user 6057 data from CSV\n",
      "Loading user 6014 data from CSV\n",
      "Loading user 6086 data from CSV\n",
      "Loading user 6015 data from CSV\n"
     ]
    }
   ],
   "source": [
    "users = os.listdir(\"outputs/stop_regions/\")\n",
    "users.reverse()\n",
    "\n",
    "for user_id in users:\n",
    "    if user_id in users_srg.keys():\n",
    "        print(\"Skipping user: {}\".format(user_id))\n",
    "        continue\n",
    "    \n",
    "    try:\n",
    "        users_srg[user_id] = objects_dao.load_stop_region_group_object(user_id)\n",
    "        print(\"User {} data loaded from object\".format(user_id))\n",
    "        \n",
    "    except FileNotFoundError:\n",
    "        \n",
    "        print(\"Loading user {} data from CSV\".format(user_id))\n",
    "        users_srg[user_id] = StopRegionGroup(csv_dao.stop_region_sequence(user_id), \n",
    "                                             agglutinate_stop_regions=True)\n",
    "        \n",
    "        objects_dao.save_stop_region_group_object(srg=users_srg[user_id], user_id=user_id)"
   ]
  },
  {
   "cell_type": "markdown",
   "metadata": {},
   "source": [
    "## Saving objects"
   ]
  },
  {
   "cell_type": "code",
   "execution_count": 35,
   "metadata": {},
   "outputs": [],
   "source": [
    "loaded = []\n",
    "\n",
    "for user_id in users:\n",
    "    loaded.append(objects_dao.load_stop_region_group_object(user_id))"
   ]
  },
  {
   "cell_type": "code",
   "execution_count": 38,
   "metadata": {},
   "outputs": [
    {
     "data": {
      "text/plain": [
       "163"
      ]
     },
     "execution_count": 38,
     "metadata": {},
     "output_type": "execute_result"
    }
   ],
   "source": [
    "len(loaded)"
   ]
  },
  {
   "cell_type": "code",
   "execution_count": null,
   "metadata": {},
   "outputs": [],
   "source": []
  }
 ],
 "metadata": {
  "kernelspec": {
   "display_name": "Python 3",
   "language": "python",
   "name": "python3"
  },
  "language_info": {
   "codemirror_mode": {
    "name": "ipython",
    "version": 3
   },
   "file_extension": ".py",
   "mimetype": "text/x-python",
   "name": "python",
   "nbconvert_exporter": "python",
   "pygments_lexer": "ipython3",
   "version": "3.6.5"
  }
 },
 "nbformat": 4,
 "nbformat_minor": 2
}
